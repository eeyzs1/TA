{
 "cells": [
  {
   "cell_type": "code",
   "execution_count": 1,
   "id": "8a97e97d",
   "metadata": {},
   "outputs": [],
   "source": [
    "import requests\n",
    "from bs4 import BeautifulSoup\n",
    "from akshare.utils import demjson\n",
    "from akshare.utils.tqdm import get_tqdm\n",
    "import pandas as pd\n",
    "from datetime import datetime, timedelta"
   ]
  },
  {
   "cell_type": "code",
   "execution_count": null,
   "id": "8de3500c",
   "metadata": {},
   "outputs": [
    {
     "data": {
      "application/vnd.jupyter.widget-view+json": {
       "model_id": "4e8853a9f9e248e6af55a09e67c9a048",
       "version_major": 2,
       "version_minor": 0
      },
      "text/plain": [
       "  0%|          | 0/6 [00:00<?, ?it/s]"
      ]
     },
     "metadata": {},
     "output_type": "display_data"
    },
    {
     "data": {
      "application/vnd.jupyter.widget-view+json": {
       "model_id": "b1a45e2cda5a4cc9a551e3eb78ae3d85",
       "version_major": 2,
       "version_minor": 0
      },
      "text/plain": [
       "  0%|          | 0/6 [00:00<?, ?it/s]"
      ]
     },
     "metadata": {},
     "output_type": "display_data"
    }
   ],
   "source": [
    "start_year = \"2020\"\n",
    "\n",
    "headers = {\n",
    "        \"User-Agent\": \"Mozilla/5.0 (Windows NT 10.0; Win64; x64) AppleWebKit/537.36 (KHTML, like Gecko) \"\n",
    "        \"Chrome/89.0.4389.90 Safari/537.36\",\n",
    "    }\n",
    "headers_bk = {\n",
    "            \"User-Agent\": \"Mozilla/5.0 (Windows NT 10.0; Win64; x64) AppleWebKit/537.36 (KHTML, like Gecko) \"\n",
    "            \"Chrome/89.0.4389.90 Safari/537.36\",\n",
    "            \"Referer\": \"https://q.10jqka.com.cn\",\n",
    "            \"Host\": \"d.10jqka.com.cn\",\n",
    "        }\n",
    "\n",
    "link_code_map = []\n",
    "bk_data_ls = []\n",
    "today_data_ls = []\n",
    "\n",
    "for suffix in [\"gn/\",\"thshy/\"]:\n",
    "    url = f\"https://q.10jqka.com.cn/{suffix}\"\n",
    "    r = requests.get(url, headers=headers)\n",
    "    soup = BeautifulSoup(r.text, features=\"lxml\")\n",
    "    divs = soup.find_all(name=\"div\", attrs={\"class\": \"cate_items\"})\n",
    "    for div in divs:\n",
    "        # 在每个div中查找所有的a标签\n",
    "        links = div.find_all('a') \n",
    "        for link in links:\n",
    "            # 获取href属性\n",
    "            href = link.get('href') \n",
    "            # 获取文本内容\n",
    "            text = link.text \n",
    "            link_code_map.append((href,  text))\n",
    "\n",
    "\n",
    "for symbol_url, name in link_code_map[:2]:\n",
    "    r = requests.get(symbol_url, headers=headers)\n",
    "    soup = BeautifulSoup(r.text, features=\"lxml\")\n",
    "    symbol_code = soup.find(name=\"div\", attrs={\"class\": \"board-hq\"}).find(\"span\").text\n",
    "    big_df = pd.DataFrame()\n",
    "    current_year = datetime.now().year\n",
    "    dd_texts = [dd.text for dd in soup.find_all(\"dd\")] \n",
    "    close = soup.find(\"span\",  class_=\"board-xj arr-fall\").text \n",
    "    open, low, high, volume, amount = dd_texts[0], dd_texts[2], dd_texts[3], dd_texts[4], dd_texts[9]\n",
    "    today_data_ls.append((name, symbol_code, open, high, low, close, volume, amount))\n",
    "\n",
    "    tqdm = get_tqdm()\n",
    "    for year in tqdm(range(int(start_year), current_year + 1), leave=False):\n",
    "        url = f\"https://d.10jqka.com.cn/v4/line/bk_{symbol_code}/01/{year}.js\"\n",
    "        r = requests.get(url, headers=headers_bk)\n",
    "        data_text = r.text\n",
    "        try:\n",
    "            demjson.decode(data_text[data_text.find(\"{\") : -1])\n",
    "        except:  # noqa: E722\n",
    "            continue\n",
    "        temp_df = demjson.decode(data_text[data_text.find(\"{\") : -1])\n",
    "        temp_df = pd.DataFrame(temp_df[\"data\"].split(\";\"))\n",
    "        temp_df = temp_df.iloc[:, 0].str.split(\",\", expand=True)\n",
    "        big_df = pd.concat(objs=[big_df, temp_df], ignore_index=True)\n",
    "    if big_df.columns.shape[0] == 12:\n",
    "        big_df.columns = [\"date\",\"open\",\"high\",\"low\",\"close\",\"volume\",\"amount\",\"_\",\"_\",\"_\",\"_\",\"_\",]\n",
    "    else:\n",
    "        big_df.columns = [\"date\",\"open\",\"high\",\"low\",\"close\",\"volume\",\"amount\",\"_\",\"_\",\"_\",\"_\",]\n",
    "    big_df = big_df[[\"date\",\"open\",\"high\",\"low\",\"close\",\"volume\",\"amount\",]]\n",
    "    big_df[\"date\"] = pd.to_datetime(big_df[\"date\"], errors=\"coerce\").dt.date\n",
    "    big_df[\"open\"] = pd.to_numeric(big_df[\"open\"], errors=\"coerce\")\n",
    "    big_df[\"high\"] = pd.to_numeric(big_df[\"high\"], errors=\"coerce\")\n",
    "    big_df[\"low\"] = pd.to_numeric(big_df[\"low\"], errors=\"coerce\")\n",
    "    big_df[\"close\"] = pd.to_numeric(big_df[\"close\"], errors=\"coerce\")\n",
    "    big_df[\"volume\"] = pd.to_numeric(big_df[\"volume\"], errors=\"coerce\")\n",
    "    big_df[\"amount\"] = pd.to_numeric(big_df[\"amount\"], errors=\"coerce\")\n",
    "    bk_data_ls.append((name, big_df))"
   ]
  },
  {
   "cell_type": "code",
   "execution_count": 6,
   "id": "802ac574",
   "metadata": {},
   "outputs": [
    {
     "name": "stdout",
     "output_type": "stream",
     "text": [
      "阿尔茨海默概念\n",
      "           date      open      high       low     close     volume  \\\n",
      "472  2025-09-02  1353.379  1353.603  1320.547  1330.656  982424350   \n",
      "473  2025-09-03  1333.546  1343.817  1317.655  1322.170  813860100   \n",
      "474  2025-09-04  1326.883  1337.293  1294.136  1313.114  837025920   \n",
      "475  2025-09-05  1312.889  1335.951  1290.293  1335.951  693464640   \n",
      "476  2025-09-08  1336.437  1356.452  1335.287  1353.549  705241630   \n",
      "\n",
      "           amount  \n",
      "472  1.789247e+10  \n",
      "473  1.646862e+10  \n",
      "474  1.476401e+10  \n",
      "475  1.385096e+10  \n",
      "476  1.465946e+10  \n"
     ]
    }
   ],
   "source": [
    "print(bk_data_ls[0][0])\n",
    "print(bk_data_ls[0][1].tail())"
   ]
  },
  {
   "cell_type": "code",
   "execution_count": null,
   "id": "63a9e7ee",
   "metadata": {},
   "outputs": [],
   "source": []
  }
 ],
 "metadata": {
  "kernelspec": {
   "display_name": "Python 3",
   "language": "python",
   "name": "python3"
  },
  "language_info": {
   "codemirror_mode": {
    "name": "ipython",
    "version": 3
   },
   "file_extension": ".py",
   "mimetype": "text/x-python",
   "name": "python",
   "nbconvert_exporter": "python",
   "pygments_lexer": "ipython3",
   "version": "3.12.9"
  }
 },
 "nbformat": 4,
 "nbformat_minor": 5
}
