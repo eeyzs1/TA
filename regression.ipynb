{
 "cells": [
  {
   "cell_type": "code",
   "execution_count": 18,
   "id": "8a97e97d",
   "metadata": {},
   "outputs": [],
   "source": [
    "import requests\n",
    "from bs4 import BeautifulSoup\n",
    "from akshare.utils import demjson\n",
    "import pandas as pd\n",
    "from datetime import datetime, timedelta\n",
    "from akshare.tool.trade_date_hist import tool_trade_date_hist_sina\n",
    "\n",
    "# ===== 1. 数据预处理 ===== \n",
    "import numpy as np\n",
    "import torch\n",
    "import torch.nn as nn\n",
    "from torch  import amp\n",
    "from torch.utils.data  import Dataset, DataLoader\n",
    "from sklearn.preprocessing  import MinMaxScaler\n",
    "import joblib\n",
    "import os\n",
    "from tqdm.notebook import tqdm\n",
    "# import py_mini_racer\n",
    "import time"
   ]
  },
  {
   "cell_type": "code",
   "execution_count": 19,
   "id": "7b676539",
   "metadata": {},
   "outputs": [
    {
     "name": "stdout",
     "output_type": "stream",
     "text": [
      "最近交易日：2025-09-18\n",
      "上一个交易日：2025-09-17\n"
     ]
    }
   ],
   "source": [
    "# def is_trading_day():\n",
    "#     today = datetime.now().strftime('%Y-%m-%d') \n",
    "#     # 获取交易日历（新浪财经）\n",
    "#     trade_date_df = tool_trade_date_hist_sina() \n",
    "#     # 判断今天是否在交易日历中\n",
    "#     return today in trade_date_df['trade_date'].values\n",
    "\n",
    "# if is_trading_day():\n",
    "#     print(\"今天是交易日\")\n",
    "# else:\n",
    "#     print(\"今天不是交易日\")\n",
    "\n",
    "# is_trading_day = is_trading_day()\n",
    "# today = datetime.now().date()\n",
    "trade_date_df = tool_trade_date_hist_sina() \n",
    " \n",
    "# 确保日期列是字符串格式\n",
    "trade_date_list = trade_date_df['trade_date'].astype(str).tolist()\n",
    " \n",
    "# 获取当前日期\n",
    "today = datetime.now().date() - timedelta(days=1)\n",
    "lastday = today - timedelta(days=1)\n",
    "# 找到最近交易日\n",
    "recent_trade_date = today \n",
    "while str(recent_trade_date) not in trade_date_list:\n",
    "    recent_trade_date -= timedelta(days=1)\n",
    "    lastday -= timedelta(days=1)\n",
    "while str(lastday) not in trade_date_list:\n",
    "    lastday -= timedelta(days=1)\n",
    "\n",
    "print(f\"最近交易日：{recent_trade_date}\")\n",
    "print(f\"上一个交易日：{lastday}\")"
   ]
  },
  {
   "cell_type": "code",
   "execution_count": 20,
   "id": "8de3500c",
   "metadata": {},
   "outputs": [],
   "source": [
    "start_year = \"2025\"\n",
    "current_year = datetime.now().year\n",
    "\n",
    "# js_code = py_mini_racer.MiniRacer()\n",
    "# with open('ths.js', 'r', encoding=\"utf-8\") as f:\n",
    "#     js_content = f.read()\n",
    "# js_code.eval(js_content)\n",
    "# v_code = js_code.call(\"v\")\n",
    "\n",
    "headers = {\n",
    "        \"User-Agent\": \"Mozilla/5.0 (Windows NT 10.0; Win64; x64) AppleWebKit/537.36 (KHTML, like Gecko) \"\n",
    "        \"Chrome/89.0.4389.90 Safari/537.36\",\n",
    "        # \"Cookie\": f\"v={v_code}\",\n",
    "    }\n",
    "headers_bk = {\n",
    "            \"User-Agent\": \"Mozilla/5.0 (Windows NT 10.0; Win64; x64) AppleWebKit/537.36 (KHTML, like Gecko) \"\n",
    "            \"Chrome/89.0.4389.90 Safari/537.36\",\n",
    "            \"Referer\": \"https://q.10jqka.com.cn\",\n",
    "            \"Host\": \"d.10jqka.com.cn\",\n",
    "            # \"Cookie\": f\"v={v_code}\",\n",
    "        }\n",
    "\n",
    "gn_link_code_ls = []\n",
    "thshy_link_code_ls = []\n",
    "bk_data_ls = []\n",
    "code_ls = []\n",
    "\n",
    "for suffix in [\"gn/\",\"thshy/\"]:\n",
    "    url = f\"https://q.10jqka.com.cn/{suffix}\"\n",
    "    r = requests.get(url, headers=headers)\n",
    "    soup = BeautifulSoup(r.text, features=\"lxml\")\n",
    "    divs = soup.find_all(name=\"div\", attrs={\"class\": \"cate_items\"})\n",
    "    for div in divs:\n",
    "        # 在每个div中查找所有的a标签\n",
    "        links = div.find_all('a') \n",
    "        for link in links:\n",
    "            # 获取href属性\n",
    "            href = link.get('href') \n",
    "            # 获取文本内容\n",
    "            text = link.text\n",
    "            if suffix == \"thshy/\":\n",
    "                parts = href.rstrip('/').split('/')\n",
    "                code = parts[-1]\n",
    "                thshy_link_code_ls.append((code,  text))\n",
    "            else:\n",
    "                gn_link_code_ls.append((href,  text))\n"
   ]
  },
  {
   "cell_type": "code",
   "execution_count": 21,
   "id": "157315ef",
   "metadata": {},
   "outputs": [
    {
     "name": "stdout",
     "output_type": "stream",
     "text": [
      "352\n"
     ]
    },
    {
     "data": {
      "application/vnd.jupyter.widget-view+json": {
       "model_id": "dc8e004f6e6345a49c50096aa8cb0614",
       "version_major": 2,
       "version_minor": 0
      },
      "text/plain": [
       "  0%|          | 0/1 [00:00<?, ?it/s]"
      ]
     },
     "metadata": {},
     "output_type": "display_data"
    },
    {
     "data": {
      "application/vnd.jupyter.widget-view+json": {
       "model_id": "86f3318b68bb4f4b9742f81ee6c60c80",
       "version_major": 2,
       "version_minor": 0
      },
      "text/plain": [
       "  0%|          | 0/1 [00:00<?, ?it/s]"
      ]
     },
     "metadata": {},
     "output_type": "display_data"
    },
    {
     "data": {
      "application/vnd.jupyter.widget-view+json": {
       "model_id": "b4005c1f3eb441a39c1b3ac76d1de56e",
       "version_major": 2,
       "version_minor": 0
      },
      "text/plain": [
       "  0%|          | 0/1 [00:00<?, ?it/s]"
      ]
     },
     "metadata": {},
     "output_type": "display_data"
    },
    {
     "data": {
      "application/vnd.jupyter.widget-view+json": {
       "model_id": "7f864a6c42894749bf8ac4b002396d75",
       "version_major": 2,
       "version_minor": 0
      },
      "text/plain": [
       "  0%|          | 0/1 [00:00<?, ?it/s]"
      ]
     },
     "metadata": {},
     "output_type": "display_data"
    },
    {
     "data": {
      "application/vnd.jupyter.widget-view+json": {
       "model_id": "c94ac59276994892b31f6cb95697b056",
       "version_major": 2,
       "version_minor": 0
      },
      "text/plain": [
       "  0%|          | 0/1 [00:00<?, ?it/s]"
      ]
     },
     "metadata": {},
     "output_type": "display_data"
    },
    {
     "data": {
      "application/vnd.jupyter.widget-view+json": {
       "model_id": "ef902df174ee416a9ca6d458a1bac553",
       "version_major": 2,
       "version_minor": 0
      },
      "text/plain": [
       "  0%|          | 0/1 [00:00<?, ?it/s]"
      ]
     },
     "metadata": {},
     "output_type": "display_data"
    },
    {
     "data": {
      "application/vnd.jupyter.widget-view+json": {
       "model_id": "8ed4202c26194c9192a171eeaad61233",
       "version_major": 2,
       "version_minor": 0
      },
      "text/plain": [
       "  0%|          | 0/1 [00:00<?, ?it/s]"
      ]
     },
     "metadata": {},
     "output_type": "display_data"
    },
    {
     "data": {
      "application/vnd.jupyter.widget-view+json": {
       "model_id": "e571ddfb96b64b9884eaf4a04fbac00e",
       "version_major": 2,
       "version_minor": 0
      },
      "text/plain": [
       "  0%|          | 0/1 [00:00<?, ?it/s]"
      ]
     },
     "metadata": {},
     "output_type": "display_data"
    },
    {
     "data": {
      "application/vnd.jupyter.widget-view+json": {
       "model_id": "1b1efd2e14b64379b8edb718876d6cce",
       "version_major": 2,
       "version_minor": 0
      },
      "text/plain": [
       "  0%|          | 0/1 [00:00<?, ?it/s]"
      ]
     },
     "metadata": {},
     "output_type": "display_data"
    },
    {
     "data": {
      "application/vnd.jupyter.widget-view+json": {
       "model_id": "0e285e282d0941b0ba746b3eb5a89c50",
       "version_major": 2,
       "version_minor": 0
      },
      "text/plain": [
       "  0%|          | 0/1 [00:00<?, ?it/s]"
      ]
     },
     "metadata": {},
     "output_type": "display_data"
    },
    {
     "data": {
      "application/vnd.jupyter.widget-view+json": {
       "model_id": "234000ac8eea473d9fde261ff8086329",
       "version_major": 2,
       "version_minor": 0
      },
      "text/plain": [
       "  0%|          | 0/1 [00:00<?, ?it/s]"
      ]
     },
     "metadata": {},
     "output_type": "display_data"
    },
    {
     "data": {
      "application/vnd.jupyter.widget-view+json": {
       "model_id": "dc153da5226f46a1aa2bf93951957a67",
       "version_major": 2,
       "version_minor": 0
      },
      "text/plain": [
       "  0%|          | 0/1 [00:00<?, ?it/s]"
      ]
     },
     "metadata": {},
     "output_type": "display_data"
    },
    {
     "data": {
      "application/vnd.jupyter.widget-view+json": {
       "model_id": "0a2f198542974dfca84adf6f040c0d79",
       "version_major": 2,
       "version_minor": 0
      },
      "text/plain": [
       "  0%|          | 0/1 [00:00<?, ?it/s]"
      ]
     },
     "metadata": {},
     "output_type": "display_data"
    },
    {
     "data": {
      "application/vnd.jupyter.widget-view+json": {
       "model_id": "e9b90489701548bf990fa64d212c0c4a",
       "version_major": 2,
       "version_minor": 0
      },
      "text/plain": [
       "  0%|          | 0/1 [00:00<?, ?it/s]"
      ]
     },
     "metadata": {},
     "output_type": "display_data"
    },
    {
     "data": {
      "application/vnd.jupyter.widget-view+json": {
       "model_id": "c1298978f9914e35bed3256c1116c94f",
       "version_major": 2,
       "version_minor": 0
      },
      "text/plain": [
       "  0%|          | 0/1 [00:00<?, ?it/s]"
      ]
     },
     "metadata": {},
     "output_type": "display_data"
    },
    {
     "data": {
      "application/vnd.jupyter.widget-view+json": {
       "model_id": "c8b6bca66b7a4ec88fe31072aa65767b",
       "version_major": 2,
       "version_minor": 0
      },
      "text/plain": [
       "  0%|          | 0/1 [00:00<?, ?it/s]"
      ]
     },
     "metadata": {},
     "output_type": "display_data"
    },
    {
     "data": {
      "application/vnd.jupyter.widget-view+json": {
       "model_id": "92aca9447d6c4ffc981787d18fc4383a",
       "version_major": 2,
       "version_minor": 0
      },
      "text/plain": [
       "  0%|          | 0/1 [00:00<?, ?it/s]"
      ]
     },
     "metadata": {},
     "output_type": "display_data"
    },
    {
     "data": {
      "application/vnd.jupyter.widget-view+json": {
       "model_id": "34971456877f47f094641948fef0d68e",
       "version_major": 2,
       "version_minor": 0
      },
      "text/plain": [
       "  0%|          | 0/1 [00:00<?, ?it/s]"
      ]
     },
     "metadata": {},
     "output_type": "display_data"
    },
    {
     "data": {
      "application/vnd.jupyter.widget-view+json": {
       "model_id": "704b4fb015344e31ada181747212a827",
       "version_major": 2,
       "version_minor": 0
      },
      "text/plain": [
       "  0%|          | 0/1 [00:00<?, ?it/s]"
      ]
     },
     "metadata": {},
     "output_type": "display_data"
    },
    {
     "data": {
      "application/vnd.jupyter.widget-view+json": {
       "model_id": "f6d44239dea44039827e3bea1d44f784",
       "version_major": 2,
       "version_minor": 0
      },
      "text/plain": [
       "  0%|          | 0/1 [00:00<?, ?it/s]"
      ]
     },
     "metadata": {},
     "output_type": "display_data"
    },
    {
     "data": {
      "application/vnd.jupyter.widget-view+json": {
       "model_id": "db7a4580b55c4bf19c9a2f9ec5d86341",
       "version_major": 2,
       "version_minor": 0
      },
      "text/plain": [
       "  0%|          | 0/1 [00:00<?, ?it/s]"
      ]
     },
     "metadata": {},
     "output_type": "display_data"
    },
    {
     "data": {
      "application/vnd.jupyter.widget-view+json": {
       "model_id": "8ad406186a804e32bdd3b336aef0f247",
       "version_major": 2,
       "version_minor": 0
      },
      "text/plain": [
       "  0%|          | 0/1 [00:00<?, ?it/s]"
      ]
     },
     "metadata": {},
     "output_type": "display_data"
    },
    {
     "data": {
      "application/vnd.jupyter.widget-view+json": {
       "model_id": "7ec83750f22a49f5a6ba01fb6c176bec",
       "version_major": 2,
       "version_minor": 0
      },
      "text/plain": [
       "  0%|          | 0/1 [00:00<?, ?it/s]"
      ]
     },
     "metadata": {},
     "output_type": "display_data"
    },
    {
     "data": {
      "application/vnd.jupyter.widget-view+json": {
       "model_id": "d9f97a86dbee43bbb084944af7d86ed7",
       "version_major": 2,
       "version_minor": 0
      },
      "text/plain": [
       "  0%|          | 0/1 [00:00<?, ?it/s]"
      ]
     },
     "metadata": {},
     "output_type": "display_data"
    },
    {
     "data": {
      "application/vnd.jupyter.widget-view+json": {
       "model_id": "3183758ba9e346e383714727fb97a882",
       "version_major": 2,
       "version_minor": 0
      },
      "text/plain": [
       "  0%|          | 0/1 [00:00<?, ?it/s]"
      ]
     },
     "metadata": {},
     "output_type": "display_data"
    },
    {
     "data": {
      "application/vnd.jupyter.widget-view+json": {
       "model_id": "7cd8f97ada41424498395c2cb93748bd",
       "version_major": 2,
       "version_minor": 0
      },
      "text/plain": [
       "  0%|          | 0/1 [00:00<?, ?it/s]"
      ]
     },
     "metadata": {},
     "output_type": "display_data"
    },
    {
     "data": {
      "application/vnd.jupyter.widget-view+json": {
       "model_id": "2531b5a88c204d66a418e98d3c179df2",
       "version_major": 2,
       "version_minor": 0
      },
      "text/plain": [
       "  0%|          | 0/1 [00:00<?, ?it/s]"
      ]
     },
     "metadata": {},
     "output_type": "display_data"
    },
    {
     "data": {
      "application/vnd.jupyter.widget-view+json": {
       "model_id": "0f2248958cb74676ae41d3850bd732f1",
       "version_major": 2,
       "version_minor": 0
      },
      "text/plain": [
       "  0%|          | 0/1 [00:00<?, ?it/s]"
      ]
     },
     "metadata": {},
     "output_type": "display_data"
    },
    {
     "data": {
      "application/vnd.jupyter.widget-view+json": {
       "model_id": "a687be0eec804fe58eb950501eff9f3b",
       "version_major": 2,
       "version_minor": 0
      },
      "text/plain": [
       "  0%|          | 0/1 [00:00<?, ?it/s]"
      ]
     },
     "metadata": {},
     "output_type": "display_data"
    },
    {
     "data": {
      "application/vnd.jupyter.widget-view+json": {
       "model_id": "5226cdb45a074cd1a77612797ce491d5",
       "version_major": 2,
       "version_minor": 0
      },
      "text/plain": [
       "  0%|          | 0/1 [00:00<?, ?it/s]"
      ]
     },
     "metadata": {},
     "output_type": "display_data"
    },
    {
     "data": {
      "application/vnd.jupyter.widget-view+json": {
       "model_id": "714e1def17dc4c7598217833096e140c",
       "version_major": 2,
       "version_minor": 0
      },
      "text/plain": [
       "  0%|          | 0/1 [00:00<?, ?it/s]"
      ]
     },
     "metadata": {},
     "output_type": "display_data"
    },
    {
     "data": {
      "application/vnd.jupyter.widget-view+json": {
       "model_id": "503c2d13a2084011b45b5fee40c81ba9",
       "version_major": 2,
       "version_minor": 0
      },
      "text/plain": [
       "  0%|          | 0/1 [00:00<?, ?it/s]"
      ]
     },
     "metadata": {},
     "output_type": "display_data"
    },
    {
     "data": {
      "application/vnd.jupyter.widget-view+json": {
       "model_id": "922322310b674226bc0722aa4c1ab413",
       "version_major": 2,
       "version_minor": 0
      },
      "text/plain": [
       "  0%|          | 0/1 [00:00<?, ?it/s]"
      ]
     },
     "metadata": {},
     "output_type": "display_data"
    },
    {
     "data": {
      "application/vnd.jupyter.widget-view+json": {
       "model_id": "44a12701dd8c4700baf7d91d9953f1bd",
       "version_major": 2,
       "version_minor": 0
      },
      "text/plain": [
       "  0%|          | 0/1 [00:00<?, ?it/s]"
      ]
     },
     "metadata": {},
     "output_type": "display_data"
    },
    {
     "data": {
      "application/vnd.jupyter.widget-view+json": {
       "model_id": "f67328cb29f648f7bc5abcb399be8265",
       "version_major": 2,
       "version_minor": 0
      },
      "text/plain": [
       "  0%|          | 0/1 [00:00<?, ?it/s]"
      ]
     },
     "metadata": {},
     "output_type": "display_data"
    },
    {
     "data": {
      "application/vnd.jupyter.widget-view+json": {
       "model_id": "4ecdadc6193142bd9e696cb24092ba06",
       "version_major": 2,
       "version_minor": 0
      },
      "text/plain": [
       "  0%|          | 0/1 [00:00<?, ?it/s]"
      ]
     },
     "metadata": {},
     "output_type": "display_data"
    },
    {
     "data": {
      "application/vnd.jupyter.widget-view+json": {
       "model_id": "19149150236342348fd7777ae8ad0fb5",
       "version_major": 2,
       "version_minor": 0
      },
      "text/plain": [
       "  0%|          | 0/1 [00:00<?, ?it/s]"
      ]
     },
     "metadata": {},
     "output_type": "display_data"
    },
    {
     "data": {
      "application/vnd.jupyter.widget-view+json": {
       "model_id": "73360a8af7bb4442b37183aa9abf12b5",
       "version_major": 2,
       "version_minor": 0
      },
      "text/plain": [
       "  0%|          | 0/1 [00:00<?, ?it/s]"
      ]
     },
     "metadata": {},
     "output_type": "display_data"
    },
    {
     "data": {
      "application/vnd.jupyter.widget-view+json": {
       "model_id": "19d93359f2cd44c3b515b8240fd34447",
       "version_major": 2,
       "version_minor": 0
      },
      "text/plain": [
       "  0%|          | 0/1 [00:00<?, ?it/s]"
      ]
     },
     "metadata": {},
     "output_type": "display_data"
    },
    {
     "data": {
      "application/vnd.jupyter.widget-view+json": {
       "model_id": "4cf584fface245b4a73f159260a63629",
       "version_major": 2,
       "version_minor": 0
      },
      "text/plain": [
       "  0%|          | 0/1 [00:00<?, ?it/s]"
      ]
     },
     "metadata": {},
     "output_type": "display_data"
    },
    {
     "data": {
      "application/vnd.jupyter.widget-view+json": {
       "model_id": "78e40d53f7b04e709e9b7fadb4eef809",
       "version_major": 2,
       "version_minor": 0
      },
      "text/plain": [
       "  0%|          | 0/1 [00:00<?, ?it/s]"
      ]
     },
     "metadata": {},
     "output_type": "display_data"
    },
    {
     "data": {
      "application/vnd.jupyter.widget-view+json": {
       "model_id": "abee8440099b4e1aab8015bb044eed00",
       "version_major": 2,
       "version_minor": 0
      },
      "text/plain": [
       "  0%|          | 0/1 [00:00<?, ?it/s]"
      ]
     },
     "metadata": {},
     "output_type": "display_data"
    },
    {
     "data": {
      "application/vnd.jupyter.widget-view+json": {
       "model_id": "47c3d73a43ec41d38b56cbcc60dace98",
       "version_major": 2,
       "version_minor": 0
      },
      "text/plain": [
       "  0%|          | 0/1 [00:00<?, ?it/s]"
      ]
     },
     "metadata": {},
     "output_type": "display_data"
    },
    {
     "data": {
      "application/vnd.jupyter.widget-view+json": {
       "model_id": "55688c214da74e95af74d31c18b1b6ac",
       "version_major": 2,
       "version_minor": 0
      },
      "text/plain": [
       "  0%|          | 0/1 [00:00<?, ?it/s]"
      ]
     },
     "metadata": {},
     "output_type": "display_data"
    },
    {
     "data": {
      "application/vnd.jupyter.widget-view+json": {
       "model_id": "3f26da8a774c4cc69f9f4ea7720da7c0",
       "version_major": 2,
       "version_minor": 0
      },
      "text/plain": [
       "  0%|          | 0/1 [00:00<?, ?it/s]"
      ]
     },
     "metadata": {},
     "output_type": "display_data"
    },
    {
     "data": {
      "application/vnd.jupyter.widget-view+json": {
       "model_id": "94c3dffe24a546559fb20abf8a2bf57a",
       "version_major": 2,
       "version_minor": 0
      },
      "text/plain": [
       "  0%|          | 0/1 [00:00<?, ?it/s]"
      ]
     },
     "metadata": {},
     "output_type": "display_data"
    },
    {
     "data": {
      "application/vnd.jupyter.widget-view+json": {
       "model_id": "ab2d27d747004ba3b368d2a5e1936ff4",
       "version_major": 2,
       "version_minor": 0
      },
      "text/plain": [
       "  0%|          | 0/1 [00:00<?, ?it/s]"
      ]
     },
     "metadata": {},
     "output_type": "display_data"
    },
    {
     "data": {
      "application/vnd.jupyter.widget-view+json": {
       "model_id": "b7c53cca9c404a47a9ee6cc19e73b498",
       "version_major": 2,
       "version_minor": 0
      },
      "text/plain": [
       "  0%|          | 0/1 [00:00<?, ?it/s]"
      ]
     },
     "metadata": {},
     "output_type": "display_data"
    },
    {
     "data": {
      "application/vnd.jupyter.widget-view+json": {
       "model_id": "deaf91f69b0741ee8daffaa10d9c1b0d",
       "version_major": 2,
       "version_minor": 0
      },
      "text/plain": [
       "  0%|          | 0/1 [00:00<?, ?it/s]"
      ]
     },
     "metadata": {},
     "output_type": "display_data"
    },
    {
     "data": {
      "application/vnd.jupyter.widget-view+json": {
       "model_id": "3291417a9319418e91d451e6bd7fb0d6",
       "version_major": 2,
       "version_minor": 0
      },
      "text/plain": [
       "  0%|          | 0/1 [00:00<?, ?it/s]"
      ]
     },
     "metadata": {},
     "output_type": "display_data"
    },
    {
     "data": {
      "application/vnd.jupyter.widget-view+json": {
       "model_id": "7752434aa6e4453b9b86adabeb537526",
       "version_major": 2,
       "version_minor": 0
      },
      "text/plain": [
       "  0%|          | 0/1 [00:00<?, ?it/s]"
      ]
     },
     "metadata": {},
     "output_type": "display_data"
    },
    {
     "data": {
      "application/vnd.jupyter.widget-view+json": {
       "model_id": "c0bfbb8422e542be895edaaa1d307ece",
       "version_major": 2,
       "version_minor": 0
      },
      "text/plain": [
       "  0%|          | 0/1 [00:00<?, ?it/s]"
      ]
     },
     "metadata": {},
     "output_type": "display_data"
    },
    {
     "data": {
      "application/vnd.jupyter.widget-view+json": {
       "model_id": "7b51f249bb2846409a0dada2b2b9cf17",
       "version_major": 2,
       "version_minor": 0
      },
      "text/plain": [
       "  0%|          | 0/1 [00:00<?, ?it/s]"
      ]
     },
     "metadata": {},
     "output_type": "display_data"
    },
    {
     "data": {
      "application/vnd.jupyter.widget-view+json": {
       "model_id": "35599a7db61a44d3af11a6b06c8cc9ea",
       "version_major": 2,
       "version_minor": 0
      },
      "text/plain": [
       "  0%|          | 0/1 [00:00<?, ?it/s]"
      ]
     },
     "metadata": {},
     "output_type": "display_data"
    },
    {
     "data": {
      "application/vnd.jupyter.widget-view+json": {
       "model_id": "4775abcb53ea46f2b3e7b13ea0400a53",
       "version_major": 2,
       "version_minor": 0
      },
      "text/plain": [
       "  0%|          | 0/1 [00:00<?, ?it/s]"
      ]
     },
     "metadata": {},
     "output_type": "display_data"
    },
    {
     "data": {
      "application/vnd.jupyter.widget-view+json": {
       "model_id": "71dad928c6e94ad884ab07c5566ddd1d",
       "version_major": 2,
       "version_minor": 0
      },
      "text/plain": [
       "  0%|          | 0/1 [00:00<?, ?it/s]"
      ]
     },
     "metadata": {},
     "output_type": "display_data"
    },
    {
     "data": {
      "application/vnd.jupyter.widget-view+json": {
       "model_id": "b5d2f45526cf40f7abfeda15c4b97a5f",
       "version_major": 2,
       "version_minor": 0
      },
      "text/plain": [
       "  0%|          | 0/1 [00:00<?, ?it/s]"
      ]
     },
     "metadata": {},
     "output_type": "display_data"
    },
    {
     "data": {
      "application/vnd.jupyter.widget-view+json": {
       "model_id": "5f7803fe9249411f9aada4d6cda81f28",
       "version_major": 2,
       "version_minor": 0
      },
      "text/plain": [
       "  0%|          | 0/1 [00:00<?, ?it/s]"
      ]
     },
     "metadata": {},
     "output_type": "display_data"
    },
    {
     "data": {
      "application/vnd.jupyter.widget-view+json": {
       "model_id": "725a700d870b4a6b82198942702a1808",
       "version_major": 2,
       "version_minor": 0
      },
      "text/plain": [
       "  0%|          | 0/1 [00:00<?, ?it/s]"
      ]
     },
     "metadata": {},
     "output_type": "display_data"
    },
    {
     "data": {
      "application/vnd.jupyter.widget-view+json": {
       "model_id": "f01e8ef6722946299ec190e9df96d3e5",
       "version_major": 2,
       "version_minor": 0
      },
      "text/plain": [
       "  0%|          | 0/1 [00:00<?, ?it/s]"
      ]
     },
     "metadata": {},
     "output_type": "display_data"
    },
    {
     "data": {
      "application/vnd.jupyter.widget-view+json": {
       "model_id": "62a84b4768dc478789453f370af69ff7",
       "version_major": 2,
       "version_minor": 0
      },
      "text/plain": [
       "  0%|          | 0/1 [00:00<?, ?it/s]"
      ]
     },
     "metadata": {},
     "output_type": "display_data"
    },
    {
     "data": {
      "application/vnd.jupyter.widget-view+json": {
       "model_id": "1cbbd9308b194a7e9ee33f02386b9ec5",
       "version_major": 2,
       "version_minor": 0
      },
      "text/plain": [
       "  0%|          | 0/1 [00:00<?, ?it/s]"
      ]
     },
     "metadata": {},
     "output_type": "display_data"
    },
    {
     "data": {
      "application/vnd.jupyter.widget-view+json": {
       "model_id": "0bf1be1bbe844d299d6c4c9ac2848264",
       "version_major": 2,
       "version_minor": 0
      },
      "text/plain": [
       "  0%|          | 0/1 [00:00<?, ?it/s]"
      ]
     },
     "metadata": {},
     "output_type": "display_data"
    },
    {
     "data": {
      "application/vnd.jupyter.widget-view+json": {
       "model_id": "440122f3811341b98ffeebbc59c2c187",
       "version_major": 2,
       "version_minor": 0
      },
      "text/plain": [
       "  0%|          | 0/1 [00:00<?, ?it/s]"
      ]
     },
     "metadata": {},
     "output_type": "display_data"
    },
    {
     "data": {
      "application/vnd.jupyter.widget-view+json": {
       "model_id": "c9866765c7f04e6f8ac1cd07bf49b287",
       "version_major": 2,
       "version_minor": 0
      },
      "text/plain": [
       "  0%|          | 0/1 [00:00<?, ?it/s]"
      ]
     },
     "metadata": {},
     "output_type": "display_data"
    },
    {
     "data": {
      "application/vnd.jupyter.widget-view+json": {
       "model_id": "c0415fad3f5f40e985b3f4f395f0c111",
       "version_major": 2,
       "version_minor": 0
      },
      "text/plain": [
       "  0%|          | 0/1 [00:00<?, ?it/s]"
      ]
     },
     "metadata": {},
     "output_type": "display_data"
    },
    {
     "data": {
      "application/vnd.jupyter.widget-view+json": {
       "model_id": "62741c5f47b34cd2a26fa836c4ea1b24",
       "version_major": 2,
       "version_minor": 0
      },
      "text/plain": [
       "  0%|          | 0/1 [00:00<?, ?it/s]"
      ]
     },
     "metadata": {},
     "output_type": "display_data"
    },
    {
     "data": {
      "application/vnd.jupyter.widget-view+json": {
       "model_id": "f9b71eca24f44af495af72de73f36782",
       "version_major": 2,
       "version_minor": 0
      },
      "text/plain": [
       "  0%|          | 0/1 [00:00<?, ?it/s]"
      ]
     },
     "metadata": {},
     "output_type": "display_data"
    },
    {
     "data": {
      "application/vnd.jupyter.widget-view+json": {
       "model_id": "84cb8a7cebee46908cf17cf44c82ae3f",
       "version_major": 2,
       "version_minor": 0
      },
      "text/plain": [
       "  0%|          | 0/1 [00:00<?, ?it/s]"
      ]
     },
     "metadata": {},
     "output_type": "display_data"
    },
    {
     "data": {
      "application/vnd.jupyter.widget-view+json": {
       "model_id": "2c101a6339c84325b49a51908002c3c0",
       "version_major": 2,
       "version_minor": 0
      },
      "text/plain": [
       "  0%|          | 0/1 [00:00<?, ?it/s]"
      ]
     },
     "metadata": {},
     "output_type": "display_data"
    },
    {
     "data": {
      "application/vnd.jupyter.widget-view+json": {
       "model_id": "373a42202cf146a69c64eaa0b236e684",
       "version_major": 2,
       "version_minor": 0
      },
      "text/plain": [
       "  0%|          | 0/1 [00:00<?, ?it/s]"
      ]
     },
     "metadata": {},
     "output_type": "display_data"
    },
    {
     "data": {
      "application/vnd.jupyter.widget-view+json": {
       "model_id": "e0601446fc2244259137dc847e7368ed",
       "version_major": 2,
       "version_minor": 0
      },
      "text/plain": [
       "  0%|          | 0/1 [00:00<?, ?it/s]"
      ]
     },
     "metadata": {},
     "output_type": "display_data"
    },
    {
     "data": {
      "application/vnd.jupyter.widget-view+json": {
       "model_id": "3e254ec9195d461a94cc50108b0167a5",
       "version_major": 2,
       "version_minor": 0
      },
      "text/plain": [
       "  0%|          | 0/1 [00:00<?, ?it/s]"
      ]
     },
     "metadata": {},
     "output_type": "display_data"
    },
    {
     "data": {
      "application/vnd.jupyter.widget-view+json": {
       "model_id": "e31bc3c6ca3449a983db0f3a5a2725fc",
       "version_major": 2,
       "version_minor": 0
      },
      "text/plain": [
       "  0%|          | 0/1 [00:00<?, ?it/s]"
      ]
     },
     "metadata": {},
     "output_type": "display_data"
    },
    {
     "data": {
      "application/vnd.jupyter.widget-view+json": {
       "model_id": "967ebd1fa2724914860ecb02e3b00733",
       "version_major": 2,
       "version_minor": 0
      },
      "text/plain": [
       "  0%|          | 0/1 [00:00<?, ?it/s]"
      ]
     },
     "metadata": {},
     "output_type": "display_data"
    },
    {
     "data": {
      "application/vnd.jupyter.widget-view+json": {
       "model_id": "8ac8e66a5062487dac7e1bc8c3c3e076",
       "version_major": 2,
       "version_minor": 0
      },
      "text/plain": [
       "  0%|          | 0/1 [00:00<?, ?it/s]"
      ]
     },
     "metadata": {},
     "output_type": "display_data"
    },
    {
     "data": {
      "application/vnd.jupyter.widget-view+json": {
       "model_id": "fbe84118b36a48e5844072956183f81c",
       "version_major": 2,
       "version_minor": 0
      },
      "text/plain": [
       "  0%|          | 0/1 [00:00<?, ?it/s]"
      ]
     },
     "metadata": {},
     "output_type": "display_data"
    },
    {
     "data": {
      "application/vnd.jupyter.widget-view+json": {
       "model_id": "bed905ad530d44d0bf32177e5773ca65",
       "version_major": 2,
       "version_minor": 0
      },
      "text/plain": [
       "  0%|          | 0/1 [00:00<?, ?it/s]"
      ]
     },
     "metadata": {},
     "output_type": "display_data"
    },
    {
     "data": {
      "application/vnd.jupyter.widget-view+json": {
       "model_id": "d5f294cba5d54e8aae0008bbe9799560",
       "version_major": 2,
       "version_minor": 0
      },
      "text/plain": [
       "  0%|          | 0/1 [00:00<?, ?it/s]"
      ]
     },
     "metadata": {},
     "output_type": "display_data"
    },
    {
     "data": {
      "application/vnd.jupyter.widget-view+json": {
       "model_id": "02ba8f03105b4f6ba4bd562ec98e330f",
       "version_major": 2,
       "version_minor": 0
      },
      "text/plain": [
       "  0%|          | 0/1 [00:00<?, ?it/s]"
      ]
     },
     "metadata": {},
     "output_type": "display_data"
    },
    {
     "data": {
      "application/vnd.jupyter.widget-view+json": {
       "model_id": "65a9eb69790c4436a1f03eb05fc3810d",
       "version_major": 2,
       "version_minor": 0
      },
      "text/plain": [
       "  0%|          | 0/1 [00:00<?, ?it/s]"
      ]
     },
     "metadata": {},
     "output_type": "display_data"
    },
    {
     "data": {
      "application/vnd.jupyter.widget-view+json": {
       "model_id": "569a9be2f5f043c89a0f3e8b1591579f",
       "version_major": 2,
       "version_minor": 0
      },
      "text/plain": [
       "  0%|          | 0/1 [00:00<?, ?it/s]"
      ]
     },
     "metadata": {},
     "output_type": "display_data"
    },
    {
     "data": {
      "application/vnd.jupyter.widget-view+json": {
       "model_id": "1cfc0787de4d46a884f8be2fa0e9ae0b",
       "version_major": 2,
       "version_minor": 0
      },
      "text/plain": [
       "  0%|          | 0/1 [00:00<?, ?it/s]"
      ]
     },
     "metadata": {},
     "output_type": "display_data"
    },
    {
     "data": {
      "application/vnd.jupyter.widget-view+json": {
       "model_id": "d07301dce215452588148b03e67915cf",
       "version_major": 2,
       "version_minor": 0
      },
      "text/plain": [
       "  0%|          | 0/1 [00:00<?, ?it/s]"
      ]
     },
     "metadata": {},
     "output_type": "display_data"
    },
    {
     "data": {
      "application/vnd.jupyter.widget-view+json": {
       "model_id": "6fbf130075684306a37a5293a0d0056a",
       "version_major": 2,
       "version_minor": 0
      },
      "text/plain": [
       "  0%|          | 0/1 [00:00<?, ?it/s]"
      ]
     },
     "metadata": {},
     "output_type": "display_data"
    },
    {
     "data": {
      "application/vnd.jupyter.widget-view+json": {
       "model_id": "b6c230cf8d8e436d971b0a0a187497ab",
       "version_major": 2,
       "version_minor": 0
      },
      "text/plain": [
       "  0%|          | 0/1 [00:00<?, ?it/s]"
      ]
     },
     "metadata": {},
     "output_type": "display_data"
    },
    {
     "data": {
      "application/vnd.jupyter.widget-view+json": {
       "model_id": "ef9abf81c8cc497e8bb118ba1be0fe92",
       "version_major": 2,
       "version_minor": 0
      },
      "text/plain": [
       "  0%|          | 0/1 [00:00<?, ?it/s]"
      ]
     },
     "metadata": {},
     "output_type": "display_data"
    },
    {
     "data": {
      "application/vnd.jupyter.widget-view+json": {
       "model_id": "1053c796b6e7409bb3e0562f83866a99",
       "version_major": 2,
       "version_minor": 0
      },
      "text/plain": [
       "  0%|          | 0/1 [00:00<?, ?it/s]"
      ]
     },
     "metadata": {},
     "output_type": "display_data"
    },
    {
     "data": {
      "application/vnd.jupyter.widget-view+json": {
       "model_id": "fa31cd6174174a92ae4ab3077545800a",
       "version_major": 2,
       "version_minor": 0
      },
      "text/plain": [
       "  0%|          | 0/1 [00:00<?, ?it/s]"
      ]
     },
     "metadata": {},
     "output_type": "display_data"
    },
    {
     "data": {
      "application/vnd.jupyter.widget-view+json": {
       "model_id": "fcae7ef80df34f0e91a5750255c2c66e",
       "version_major": 2,
       "version_minor": 0
      },
      "text/plain": [
       "  0%|          | 0/1 [00:00<?, ?it/s]"
      ]
     },
     "metadata": {},
     "output_type": "display_data"
    },
    {
     "data": {
      "application/vnd.jupyter.widget-view+json": {
       "model_id": "a7554e0d72094f0ea567a40e0de384c1",
       "version_major": 2,
       "version_minor": 0
      },
      "text/plain": [
       "  0%|          | 0/1 [00:00<?, ?it/s]"
      ]
     },
     "metadata": {},
     "output_type": "display_data"
    },
    {
     "data": {
      "application/vnd.jupyter.widget-view+json": {
       "model_id": "adc839367a9a43dcbd5bb846684c21f1",
       "version_major": 2,
       "version_minor": 0
      },
      "text/plain": [
       "  0%|          | 0/1 [00:00<?, ?it/s]"
      ]
     },
     "metadata": {},
     "output_type": "display_data"
    },
    {
     "data": {
      "application/vnd.jupyter.widget-view+json": {
       "model_id": "b723d907a9d44155a51709098a3c9d92",
       "version_major": 2,
       "version_minor": 0
      },
      "text/plain": [
       "  0%|          | 0/1 [00:00<?, ?it/s]"
      ]
     },
     "metadata": {},
     "output_type": "display_data"
    },
    {
     "data": {
      "application/vnd.jupyter.widget-view+json": {
       "model_id": "ec09530ffd064137bae7a477a9580866",
       "version_major": 2,
       "version_minor": 0
      },
      "text/plain": [
       "  0%|          | 0/1 [00:00<?, ?it/s]"
      ]
     },
     "metadata": {},
     "output_type": "display_data"
    },
    {
     "data": {
      "application/vnd.jupyter.widget-view+json": {
       "model_id": "21ec6180016d493e8a17d9c23123d4e3",
       "version_major": 2,
       "version_minor": 0
      },
      "text/plain": [
       "  0%|          | 0/1 [00:00<?, ?it/s]"
      ]
     },
     "metadata": {},
     "output_type": "display_data"
    },
    {
     "data": {
      "application/vnd.jupyter.widget-view+json": {
       "model_id": "f71ef5fd127d427cb7ba6733f5349dc5",
       "version_major": 2,
       "version_minor": 0
      },
      "text/plain": [
       "  0%|          | 0/1 [00:00<?, ?it/s]"
      ]
     },
     "metadata": {},
     "output_type": "display_data"
    },
    {
     "data": {
      "application/vnd.jupyter.widget-view+json": {
       "model_id": "2b415555025041378f6402f2ec71e8a7",
       "version_major": 2,
       "version_minor": 0
      },
      "text/plain": [
       "  0%|          | 0/1 [00:00<?, ?it/s]"
      ]
     },
     "metadata": {},
     "output_type": "display_data"
    },
    {
     "data": {
      "application/vnd.jupyter.widget-view+json": {
       "model_id": "ab90b5e31f2c47309dca90a08e04687c",
       "version_major": 2,
       "version_minor": 0
      },
      "text/plain": [
       "  0%|          | 0/1 [00:00<?, ?it/s]"
      ]
     },
     "metadata": {},
     "output_type": "display_data"
    },
    {
     "data": {
      "application/vnd.jupyter.widget-view+json": {
       "model_id": "5b57f91a3e744415970e2921463b2a43",
       "version_major": 2,
       "version_minor": 0
      },
      "text/plain": [
       "  0%|          | 0/1 [00:00<?, ?it/s]"
      ]
     },
     "metadata": {},
     "output_type": "display_data"
    },
    {
     "data": {
      "application/vnd.jupyter.widget-view+json": {
       "model_id": "79f50190d25d43edab0ffed329a91147",
       "version_major": 2,
       "version_minor": 0
      },
      "text/plain": [
       "  0%|          | 0/1 [00:00<?, ?it/s]"
      ]
     },
     "metadata": {},
     "output_type": "display_data"
    },
    {
     "data": {
      "application/vnd.jupyter.widget-view+json": {
       "model_id": "89b78e3f09d54a1d84ed2ae27e0235f3",
       "version_major": 2,
       "version_minor": 0
      },
      "text/plain": [
       "  0%|          | 0/1 [00:00<?, ?it/s]"
      ]
     },
     "metadata": {},
     "output_type": "display_data"
    },
    {
     "data": {
      "application/vnd.jupyter.widget-view+json": {
       "model_id": "d961059db5af474abbc03dfc8cd6c06f",
       "version_major": 2,
       "version_minor": 0
      },
      "text/plain": [
       "  0%|          | 0/1 [00:00<?, ?it/s]"
      ]
     },
     "metadata": {},
     "output_type": "display_data"
    },
    {
     "data": {
      "application/vnd.jupyter.widget-view+json": {
       "model_id": "b40a869fc4ef402cb00c4e53cf94eb72",
       "version_major": 2,
       "version_minor": 0
      },
      "text/plain": [
       "  0%|          | 0/1 [00:00<?, ?it/s]"
      ]
     },
     "metadata": {},
     "output_type": "display_data"
    },
    {
     "data": {
      "application/vnd.jupyter.widget-view+json": {
       "model_id": "abb669356f9f443ca906537ae5e16ef7",
       "version_major": 2,
       "version_minor": 0
      },
      "text/plain": [
       "  0%|          | 0/1 [00:00<?, ?it/s]"
      ]
     },
     "metadata": {},
     "output_type": "display_data"
    },
    {
     "data": {
      "application/vnd.jupyter.widget-view+json": {
       "model_id": "d376a31b4f51482d94fae8094f2530c5",
       "version_major": 2,
       "version_minor": 0
      },
      "text/plain": [
       "  0%|          | 0/1 [00:00<?, ?it/s]"
      ]
     },
     "metadata": {},
     "output_type": "display_data"
    },
    {
     "data": {
      "application/vnd.jupyter.widget-view+json": {
       "model_id": "537b0869302044f2b557fbdc1ad9d4b8",
       "version_major": 2,
       "version_minor": 0
      },
      "text/plain": [
       "  0%|          | 0/1 [00:00<?, ?it/s]"
      ]
     },
     "metadata": {},
     "output_type": "display_data"
    },
    {
     "data": {
      "application/vnd.jupyter.widget-view+json": {
       "model_id": "b3282574bef54c60afc3a7754ff35437",
       "version_major": 2,
       "version_minor": 0
      },
      "text/plain": [
       "  0%|          | 0/1 [00:00<?, ?it/s]"
      ]
     },
     "metadata": {},
     "output_type": "display_data"
    },
    {
     "data": {
      "application/vnd.jupyter.widget-view+json": {
       "model_id": "e3dd9301bd08417abd9a9d664e20c74b",
       "version_major": 2,
       "version_minor": 0
      },
      "text/plain": [
       "  0%|          | 0/1 [00:00<?, ?it/s]"
      ]
     },
     "metadata": {},
     "output_type": "display_data"
    },
    {
     "data": {
      "application/vnd.jupyter.widget-view+json": {
       "model_id": "a62b1ccb8573482a99f9b3afde4688b4",
       "version_major": 2,
       "version_minor": 0
      },
      "text/plain": [
       "  0%|          | 0/1 [00:00<?, ?it/s]"
      ]
     },
     "metadata": {},
     "output_type": "display_data"
    },
    {
     "data": {
      "application/vnd.jupyter.widget-view+json": {
       "model_id": "e3a15055d1314db182b68cdeb13ebbb2",
       "version_major": 2,
       "version_minor": 0
      },
      "text/plain": [
       "  0%|          | 0/1 [00:00<?, ?it/s]"
      ]
     },
     "metadata": {},
     "output_type": "display_data"
    },
    {
     "data": {
      "application/vnd.jupyter.widget-view+json": {
       "model_id": "30dbd8d1a0d14781838f3ded3d966f06",
       "version_major": 2,
       "version_minor": 0
      },
      "text/plain": [
       "  0%|          | 0/1 [00:00<?, ?it/s]"
      ]
     },
     "metadata": {},
     "output_type": "display_data"
    },
    {
     "data": {
      "application/vnd.jupyter.widget-view+json": {
       "model_id": "adb4adfe26244eea9fd5e134f8420ad1",
       "version_major": 2,
       "version_minor": 0
      },
      "text/plain": [
       "  0%|          | 0/1 [00:00<?, ?it/s]"
      ]
     },
     "metadata": {},
     "output_type": "display_data"
    },
    {
     "data": {
      "application/vnd.jupyter.widget-view+json": {
       "model_id": "706f2933927a4fdca64378ae92207bb9",
       "version_major": 2,
       "version_minor": 0
      },
      "text/plain": [
       "  0%|          | 0/1 [00:00<?, ?it/s]"
      ]
     },
     "metadata": {},
     "output_type": "display_data"
    },
    {
     "data": {
      "application/vnd.jupyter.widget-view+json": {
       "model_id": "8078b9bacf3d40c7ae04b053cc84f90a",
       "version_major": 2,
       "version_minor": 0
      },
      "text/plain": [
       "  0%|          | 0/1 [00:00<?, ?it/s]"
      ]
     },
     "metadata": {},
     "output_type": "display_data"
    },
    {
     "data": {
      "application/vnd.jupyter.widget-view+json": {
       "model_id": "f8128e9626424313b63d8184ed1c31ef",
       "version_major": 2,
       "version_minor": 0
      },
      "text/plain": [
       "  0%|          | 0/1 [00:00<?, ?it/s]"
      ]
     },
     "metadata": {},
     "output_type": "display_data"
    },
    {
     "data": {
      "application/vnd.jupyter.widget-view+json": {
       "model_id": "2e7a24c15fed4503a70543e130e6a7c8",
       "version_major": 2,
       "version_minor": 0
      },
      "text/plain": [
       "  0%|          | 0/1 [00:00<?, ?it/s]"
      ]
     },
     "metadata": {},
     "output_type": "display_data"
    },
    {
     "data": {
      "application/vnd.jupyter.widget-view+json": {
       "model_id": "3b40b79f78ad4f9daa1cd82404d8c42c",
       "version_major": 2,
       "version_minor": 0
      },
      "text/plain": [
       "  0%|          | 0/1 [00:00<?, ?it/s]"
      ]
     },
     "metadata": {},
     "output_type": "display_data"
    },
    {
     "data": {
      "application/vnd.jupyter.widget-view+json": {
       "model_id": "e9c7507a44e449bbb21230596397c148",
       "version_major": 2,
       "version_minor": 0
      },
      "text/plain": [
       "  0%|          | 0/1 [00:00<?, ?it/s]"
      ]
     },
     "metadata": {},
     "output_type": "display_data"
    },
    {
     "data": {
      "application/vnd.jupyter.widget-view+json": {
       "model_id": "7f2d142f810040d0ad240a392836f01c",
       "version_major": 2,
       "version_minor": 0
      },
      "text/plain": [
       "  0%|          | 0/1 [00:00<?, ?it/s]"
      ]
     },
     "metadata": {},
     "output_type": "display_data"
    },
    {
     "data": {
      "application/vnd.jupyter.widget-view+json": {
       "model_id": "ebbc84c8a81841ee9aff77c3bc5247bb",
       "version_major": 2,
       "version_minor": 0
      },
      "text/plain": [
       "  0%|          | 0/1 [00:00<?, ?it/s]"
      ]
     },
     "metadata": {},
     "output_type": "display_data"
    },
    {
     "data": {
      "application/vnd.jupyter.widget-view+json": {
       "model_id": "c5301b26011e4e5986ef5c889cac73c5",
       "version_major": 2,
       "version_minor": 0
      },
      "text/plain": [
       "  0%|          | 0/1 [00:00<?, ?it/s]"
      ]
     },
     "metadata": {},
     "output_type": "display_data"
    },
    {
     "data": {
      "application/vnd.jupyter.widget-view+json": {
       "model_id": "94937898b8824d488d3f4fbef976bc45",
       "version_major": 2,
       "version_minor": 0
      },
      "text/plain": [
       "  0%|          | 0/1 [00:00<?, ?it/s]"
      ]
     },
     "metadata": {},
     "output_type": "display_data"
    },
    {
     "data": {
      "application/vnd.jupyter.widget-view+json": {
       "model_id": "59a6c1407e1c47feb9aa6e74f4d33187",
       "version_major": 2,
       "version_minor": 0
      },
      "text/plain": [
       "  0%|          | 0/1 [00:00<?, ?it/s]"
      ]
     },
     "metadata": {},
     "output_type": "display_data"
    },
    {
     "data": {
      "application/vnd.jupyter.widget-view+json": {
       "model_id": "0da46b9f68e842e5b4157206dd773ba4",
       "version_major": 2,
       "version_minor": 0
      },
      "text/plain": [
       "  0%|          | 0/1 [00:00<?, ?it/s]"
      ]
     },
     "metadata": {},
     "output_type": "display_data"
    },
    {
     "data": {
      "application/vnd.jupyter.widget-view+json": {
       "model_id": "843f8e757b67451bbd77f55067a7dcbd",
       "version_major": 2,
       "version_minor": 0
      },
      "text/plain": [
       "  0%|          | 0/1 [00:00<?, ?it/s]"
      ]
     },
     "metadata": {},
     "output_type": "display_data"
    },
    {
     "data": {
      "application/vnd.jupyter.widget-view+json": {
       "model_id": "47ba9a198d5a4e60aeb30924d1fa8935",
       "version_major": 2,
       "version_minor": 0
      },
      "text/plain": [
       "  0%|          | 0/1 [00:00<?, ?it/s]"
      ]
     },
     "metadata": {},
     "output_type": "display_data"
    },
    {
     "data": {
      "application/vnd.jupyter.widget-view+json": {
       "model_id": "3bc9a228cec04cf7a504368377d3d122",
       "version_major": 2,
       "version_minor": 0
      },
      "text/plain": [
       "  0%|          | 0/1 [00:00<?, ?it/s]"
      ]
     },
     "metadata": {},
     "output_type": "display_data"
    },
    {
     "data": {
      "application/vnd.jupyter.widget-view+json": {
       "model_id": "4ccd1679d5554061b7059c6ef43fe43d",
       "version_major": 2,
       "version_minor": 0
      },
      "text/plain": [
       "  0%|          | 0/1 [00:00<?, ?it/s]"
      ]
     },
     "metadata": {},
     "output_type": "display_data"
    },
    {
     "data": {
      "application/vnd.jupyter.widget-view+json": {
       "model_id": "7adf184ee445474da8b5b6e62f2bfccd",
       "version_major": 2,
       "version_minor": 0
      },
      "text/plain": [
       "  0%|          | 0/1 [00:00<?, ?it/s]"
      ]
     },
     "metadata": {},
     "output_type": "display_data"
    },
    {
     "data": {
      "application/vnd.jupyter.widget-view+json": {
       "model_id": "5c114a2a9bee47298ff34049fcdb43e1",
       "version_major": 2,
       "version_minor": 0
      },
      "text/plain": [
       "  0%|          | 0/1 [00:00<?, ?it/s]"
      ]
     },
     "metadata": {},
     "output_type": "display_data"
    },
    {
     "data": {
      "application/vnd.jupyter.widget-view+json": {
       "model_id": "5d92489f66064eb0bf6486867afb2576",
       "version_major": 2,
       "version_minor": 0
      },
      "text/plain": [
       "  0%|          | 0/1 [00:00<?, ?it/s]"
      ]
     },
     "metadata": {},
     "output_type": "display_data"
    },
    {
     "data": {
      "application/vnd.jupyter.widget-view+json": {
       "model_id": "67fecf7c61ef4a5ead9a4b1860c58aa2",
       "version_major": 2,
       "version_minor": 0
      },
      "text/plain": [
       "  0%|          | 0/1 [00:00<?, ?it/s]"
      ]
     },
     "metadata": {},
     "output_type": "display_data"
    },
    {
     "data": {
      "application/vnd.jupyter.widget-view+json": {
       "model_id": "254622b1c5614351b606d2f4b1fcdc3a",
       "version_major": 2,
       "version_minor": 0
      },
      "text/plain": [
       "  0%|          | 0/1 [00:00<?, ?it/s]"
      ]
     },
     "metadata": {},
     "output_type": "display_data"
    },
    {
     "data": {
      "application/vnd.jupyter.widget-view+json": {
       "model_id": "21520ad226964127a87c4ef7c8600cf3",
       "version_major": 2,
       "version_minor": 0
      },
      "text/plain": [
       "  0%|          | 0/1 [00:00<?, ?it/s]"
      ]
     },
     "metadata": {},
     "output_type": "display_data"
    },
    {
     "data": {
      "application/vnd.jupyter.widget-view+json": {
       "model_id": "93501a23a8234154b181892e6f1f8e53",
       "version_major": 2,
       "version_minor": 0
      },
      "text/plain": [
       "  0%|          | 0/1 [00:00<?, ?it/s]"
      ]
     },
     "metadata": {},
     "output_type": "display_data"
    },
    {
     "data": {
      "application/vnd.jupyter.widget-view+json": {
       "model_id": "de77161b4e3e46d880a69f379063bd4b",
       "version_major": 2,
       "version_minor": 0
      },
      "text/plain": [
       "  0%|          | 0/1 [00:00<?, ?it/s]"
      ]
     },
     "metadata": {},
     "output_type": "display_data"
    },
    {
     "data": {
      "application/vnd.jupyter.widget-view+json": {
       "model_id": "ba1d161adb7b4d8293b43642fa49c7b3",
       "version_major": 2,
       "version_minor": 0
      },
      "text/plain": [
       "  0%|          | 0/1 [00:00<?, ?it/s]"
      ]
     },
     "metadata": {},
     "output_type": "display_data"
    },
    {
     "data": {
      "application/vnd.jupyter.widget-view+json": {
       "model_id": "857daf48dca940b089ff37e7948992a2",
       "version_major": 2,
       "version_minor": 0
      },
      "text/plain": [
       "  0%|          | 0/1 [00:00<?, ?it/s]"
      ]
     },
     "metadata": {},
     "output_type": "display_data"
    },
    {
     "data": {
      "application/vnd.jupyter.widget-view+json": {
       "model_id": "962a0a84555a44e18bd8314b0a041d6e",
       "version_major": 2,
       "version_minor": 0
      },
      "text/plain": [
       "  0%|          | 0/1 [00:00<?, ?it/s]"
      ]
     },
     "metadata": {},
     "output_type": "display_data"
    },
    {
     "data": {
      "application/vnd.jupyter.widget-view+json": {
       "model_id": "9b39555fc3404ff78018b8c320091858",
       "version_major": 2,
       "version_minor": 0
      },
      "text/plain": [
       "  0%|          | 0/1 [00:00<?, ?it/s]"
      ]
     },
     "metadata": {},
     "output_type": "display_data"
    },
    {
     "data": {
      "application/vnd.jupyter.widget-view+json": {
       "model_id": "9b960c5498194149a86aed7b8e39f0d4",
       "version_major": 2,
       "version_minor": 0
      },
      "text/plain": [
       "  0%|          | 0/1 [00:00<?, ?it/s]"
      ]
     },
     "metadata": {},
     "output_type": "display_data"
    },
    {
     "data": {
      "application/vnd.jupyter.widget-view+json": {
       "model_id": "082468b4792a4e57afc6fbda87311525",
       "version_major": 2,
       "version_minor": 0
      },
      "text/plain": [
       "  0%|          | 0/1 [00:00<?, ?it/s]"
      ]
     },
     "metadata": {},
     "output_type": "display_data"
    },
    {
     "data": {
      "application/vnd.jupyter.widget-view+json": {
       "model_id": "57be5c541b974ef2ad61109a573cd293",
       "version_major": 2,
       "version_minor": 0
      },
      "text/plain": [
       "  0%|          | 0/1 [00:00<?, ?it/s]"
      ]
     },
     "metadata": {},
     "output_type": "display_data"
    },
    {
     "data": {
      "application/vnd.jupyter.widget-view+json": {
       "model_id": "05f76f6874144893b786197594d75036",
       "version_major": 2,
       "version_minor": 0
      },
      "text/plain": [
       "  0%|          | 0/1 [00:00<?, ?it/s]"
      ]
     },
     "metadata": {},
     "output_type": "display_data"
    },
    {
     "data": {
      "application/vnd.jupyter.widget-view+json": {
       "model_id": "b3ab021fe32b466297b6a2a6a9c24526",
       "version_major": 2,
       "version_minor": 0
      },
      "text/plain": [
       "  0%|          | 0/1 [00:00<?, ?it/s]"
      ]
     },
     "metadata": {},
     "output_type": "display_data"
    },
    {
     "data": {
      "application/vnd.jupyter.widget-view+json": {
       "model_id": "a503ed7f572b43f1aab7b4889e2f4315",
       "version_major": 2,
       "version_minor": 0
      },
      "text/plain": [
       "  0%|          | 0/1 [00:00<?, ?it/s]"
      ]
     },
     "metadata": {},
     "output_type": "display_data"
    },
    {
     "data": {
      "application/vnd.jupyter.widget-view+json": {
       "model_id": "c4e035f6cb484095a4baaec896252ca9",
       "version_major": 2,
       "version_minor": 0
      },
      "text/plain": [
       "  0%|          | 0/1 [00:00<?, ?it/s]"
      ]
     },
     "metadata": {},
     "output_type": "display_data"
    },
    {
     "data": {
      "application/vnd.jupyter.widget-view+json": {
       "model_id": "a48e5ad6a42c465a9659bc9532000eb1",
       "version_major": 2,
       "version_minor": 0
      },
      "text/plain": [
       "  0%|          | 0/1 [00:00<?, ?it/s]"
      ]
     },
     "metadata": {},
     "output_type": "display_data"
    },
    {
     "data": {
      "application/vnd.jupyter.widget-view+json": {
       "model_id": "548b8113813a4e379965124eeece33ca",
       "version_major": 2,
       "version_minor": 0
      },
      "text/plain": [
       "  0%|          | 0/1 [00:00<?, ?it/s]"
      ]
     },
     "metadata": {},
     "output_type": "display_data"
    },
    {
     "data": {
      "application/vnd.jupyter.widget-view+json": {
       "model_id": "92c124e88dfa49319043c4523a8c6f2b",
       "version_major": 2,
       "version_minor": 0
      },
      "text/plain": [
       "  0%|          | 0/1 [00:00<?, ?it/s]"
      ]
     },
     "metadata": {},
     "output_type": "display_data"
    },
    {
     "data": {
      "application/vnd.jupyter.widget-view+json": {
       "model_id": "b4b0b3b96b8e435092e7c356f943c96b",
       "version_major": 2,
       "version_minor": 0
      },
      "text/plain": [
       "  0%|          | 0/1 [00:00<?, ?it/s]"
      ]
     },
     "metadata": {},
     "output_type": "display_data"
    },
    {
     "data": {
      "application/vnd.jupyter.widget-view+json": {
       "model_id": "92ed264b8abf43e48c9b0dcc104648b5",
       "version_major": 2,
       "version_minor": 0
      },
      "text/plain": [
       "  0%|          | 0/1 [00:00<?, ?it/s]"
      ]
     },
     "metadata": {},
     "output_type": "display_data"
    },
    {
     "data": {
      "application/vnd.jupyter.widget-view+json": {
       "model_id": "c9bd795b6ced42519c89b6b06bf6ecd3",
       "version_major": 2,
       "version_minor": 0
      },
      "text/plain": [
       "  0%|          | 0/1 [00:00<?, ?it/s]"
      ]
     },
     "metadata": {},
     "output_type": "display_data"
    },
    {
     "data": {
      "application/vnd.jupyter.widget-view+json": {
       "model_id": "2d2a4e72d22c4a8f9f24c0b26d898d87",
       "version_major": 2,
       "version_minor": 0
      },
      "text/plain": [
       "  0%|          | 0/1 [00:00<?, ?it/s]"
      ]
     },
     "metadata": {},
     "output_type": "display_data"
    },
    {
     "data": {
      "application/vnd.jupyter.widget-view+json": {
       "model_id": "48194398c43649a39f38591d9cde9872",
       "version_major": 2,
       "version_minor": 0
      },
      "text/plain": [
       "  0%|          | 0/1 [00:00<?, ?it/s]"
      ]
     },
     "metadata": {},
     "output_type": "display_data"
    },
    {
     "data": {
      "application/vnd.jupyter.widget-view+json": {
       "model_id": "833cc2c139b4442da05d0d36111503c6",
       "version_major": 2,
       "version_minor": 0
      },
      "text/plain": [
       "  0%|          | 0/1 [00:00<?, ?it/s]"
      ]
     },
     "metadata": {},
     "output_type": "display_data"
    },
    {
     "data": {
      "application/vnd.jupyter.widget-view+json": {
       "model_id": "596e20bfc27b44bb884735618c6622be",
       "version_major": 2,
       "version_minor": 0
      },
      "text/plain": [
       "  0%|          | 0/1 [00:00<?, ?it/s]"
      ]
     },
     "metadata": {},
     "output_type": "display_data"
    },
    {
     "data": {
      "application/vnd.jupyter.widget-view+json": {
       "model_id": "e521d9a512314113b57e021f49139842",
       "version_major": 2,
       "version_minor": 0
      },
      "text/plain": [
       "  0%|          | 0/1 [00:00<?, ?it/s]"
      ]
     },
     "metadata": {},
     "output_type": "display_data"
    },
    {
     "data": {
      "application/vnd.jupyter.widget-view+json": {
       "model_id": "53c0f96b460a4dca9d2a905ba22b6640",
       "version_major": 2,
       "version_minor": 0
      },
      "text/plain": [
       "  0%|          | 0/1 [00:00<?, ?it/s]"
      ]
     },
     "metadata": {},
     "output_type": "display_data"
    },
    {
     "data": {
      "application/vnd.jupyter.widget-view+json": {
       "model_id": "2d89d95697dd4af599988f950d1b930c",
       "version_major": 2,
       "version_minor": 0
      },
      "text/plain": [
       "  0%|          | 0/1 [00:00<?, ?it/s]"
      ]
     },
     "metadata": {},
     "output_type": "display_data"
    },
    {
     "data": {
      "application/vnd.jupyter.widget-view+json": {
       "model_id": "718c304814f04f9bb49f0250f6d41d70",
       "version_major": 2,
       "version_minor": 0
      },
      "text/plain": [
       "  0%|          | 0/1 [00:00<?, ?it/s]"
      ]
     },
     "metadata": {},
     "output_type": "display_data"
    },
    {
     "data": {
      "application/vnd.jupyter.widget-view+json": {
       "model_id": "b1d66d154ae94e0d9a1b356475349afb",
       "version_major": 2,
       "version_minor": 0
      },
      "text/plain": [
       "  0%|          | 0/1 [00:00<?, ?it/s]"
      ]
     },
     "metadata": {},
     "output_type": "display_data"
    },
    {
     "data": {
      "application/vnd.jupyter.widget-view+json": {
       "model_id": "4d03d228eabf4d958c921bcd631ed0e2",
       "version_major": 2,
       "version_minor": 0
      },
      "text/plain": [
       "  0%|          | 0/1 [00:00<?, ?it/s]"
      ]
     },
     "metadata": {},
     "output_type": "display_data"
    },
    {
     "data": {
      "application/vnd.jupyter.widget-view+json": {
       "model_id": "7e697219af3e45898ad293f8cd59258b",
       "version_major": 2,
       "version_minor": 0
      },
      "text/plain": [
       "  0%|          | 0/1 [00:00<?, ?it/s]"
      ]
     },
     "metadata": {},
     "output_type": "display_data"
    },
    {
     "data": {
      "application/vnd.jupyter.widget-view+json": {
       "model_id": "8d842fc29348464fba3eae2b6bfc52da",
       "version_major": 2,
       "version_minor": 0
      },
      "text/plain": [
       "  0%|          | 0/1 [00:00<?, ?it/s]"
      ]
     },
     "metadata": {},
     "output_type": "display_data"
    },
    {
     "data": {
      "application/vnd.jupyter.widget-view+json": {
       "model_id": "dada7ef81f4748189f9ebebbadb83e47",
       "version_major": 2,
       "version_minor": 0
      },
      "text/plain": [
       "  0%|          | 0/1 [00:00<?, ?it/s]"
      ]
     },
     "metadata": {},
     "output_type": "display_data"
    },
    {
     "data": {
      "application/vnd.jupyter.widget-view+json": {
       "model_id": "43b61dff9a3649e68140b4a950f1fc22",
       "version_major": 2,
       "version_minor": 0
      },
      "text/plain": [
       "  0%|          | 0/1 [00:00<?, ?it/s]"
      ]
     },
     "metadata": {},
     "output_type": "display_data"
    },
    {
     "data": {
      "application/vnd.jupyter.widget-view+json": {
       "model_id": "a46d74264f7b42c780d840cb6817479b",
       "version_major": 2,
       "version_minor": 0
      },
      "text/plain": [
       "  0%|          | 0/1 [00:00<?, ?it/s]"
      ]
     },
     "metadata": {},
     "output_type": "display_data"
    },
    {
     "data": {
      "application/vnd.jupyter.widget-view+json": {
       "model_id": "8743d3ea75cd4d26b53f8b032975f667",
       "version_major": 2,
       "version_minor": 0
      },
      "text/plain": [
       "  0%|          | 0/1 [00:00<?, ?it/s]"
      ]
     },
     "metadata": {},
     "output_type": "display_data"
    },
    {
     "data": {
      "application/vnd.jupyter.widget-view+json": {
       "model_id": "8253d161150f4a14b6e2f489af0d61e6",
       "version_major": 2,
       "version_minor": 0
      },
      "text/plain": [
       "  0%|          | 0/1 [00:00<?, ?it/s]"
      ]
     },
     "metadata": {},
     "output_type": "display_data"
    },
    {
     "data": {
      "application/vnd.jupyter.widget-view+json": {
       "model_id": "da32975658af4a578243da829c6ba1a5",
       "version_major": 2,
       "version_minor": 0
      },
      "text/plain": [
       "  0%|          | 0/1 [00:00<?, ?it/s]"
      ]
     },
     "metadata": {},
     "output_type": "display_data"
    },
    {
     "data": {
      "application/vnd.jupyter.widget-view+json": {
       "model_id": "ed3a1dd43d9044cabc63255377e089ef",
       "version_major": 2,
       "version_minor": 0
      },
      "text/plain": [
       "  0%|          | 0/1 [00:00<?, ?it/s]"
      ]
     },
     "metadata": {},
     "output_type": "display_data"
    },
    {
     "data": {
      "application/vnd.jupyter.widget-view+json": {
       "model_id": "600cd5196f1941bd8a4fab318b4fc89b",
       "version_major": 2,
       "version_minor": 0
      },
      "text/plain": [
       "  0%|          | 0/1 [00:00<?, ?it/s]"
      ]
     },
     "metadata": {},
     "output_type": "display_data"
    },
    {
     "data": {
      "application/vnd.jupyter.widget-view+json": {
       "model_id": "19343ba0a6524ac5afabb9143372e618",
       "version_major": 2,
       "version_minor": 0
      },
      "text/plain": [
       "  0%|          | 0/1 [00:00<?, ?it/s]"
      ]
     },
     "metadata": {},
     "output_type": "display_data"
    },
    {
     "data": {
      "application/vnd.jupyter.widget-view+json": {
       "model_id": "99106abc64704aa8acf9b1950a93df69",
       "version_major": 2,
       "version_minor": 0
      },
      "text/plain": [
       "  0%|          | 0/1 [00:00<?, ?it/s]"
      ]
     },
     "metadata": {},
     "output_type": "display_data"
    },
    {
     "data": {
      "application/vnd.jupyter.widget-view+json": {
       "model_id": "570804bc120240638c976d2b102e919c",
       "version_major": 2,
       "version_minor": 0
      },
      "text/plain": [
       "  0%|          | 0/1 [00:00<?, ?it/s]"
      ]
     },
     "metadata": {},
     "output_type": "display_data"
    },
    {
     "data": {
      "application/vnd.jupyter.widget-view+json": {
       "model_id": "fe4c6af46e7d47ecb4f92b265cea13a1",
       "version_major": 2,
       "version_minor": 0
      },
      "text/plain": [
       "  0%|          | 0/1 [00:00<?, ?it/s]"
      ]
     },
     "metadata": {},
     "output_type": "display_data"
    },
    {
     "data": {
      "application/vnd.jupyter.widget-view+json": {
       "model_id": "b0f4f11ff07e4f7b9f0d42e2d951f259",
       "version_major": 2,
       "version_minor": 0
      },
      "text/plain": [
       "  0%|          | 0/1 [00:00<?, ?it/s]"
      ]
     },
     "metadata": {},
     "output_type": "display_data"
    },
    {
     "data": {
      "application/vnd.jupyter.widget-view+json": {
       "model_id": "c5dc3a1e9d9f419598e1ad584f361783",
       "version_major": 2,
       "version_minor": 0
      },
      "text/plain": [
       "  0%|          | 0/1 [00:00<?, ?it/s]"
      ]
     },
     "metadata": {},
     "output_type": "display_data"
    },
    {
     "data": {
      "application/vnd.jupyter.widget-view+json": {
       "model_id": "b714b47ab3e2465a8e3ea798089081e1",
       "version_major": 2,
       "version_minor": 0
      },
      "text/plain": [
       "  0%|          | 0/1 [00:00<?, ?it/s]"
      ]
     },
     "metadata": {},
     "output_type": "display_data"
    },
    {
     "data": {
      "application/vnd.jupyter.widget-view+json": {
       "model_id": "2abafd5dcbb2491fbbcd30e2d80bdf70",
       "version_major": 2,
       "version_minor": 0
      },
      "text/plain": [
       "  0%|          | 0/1 [00:00<?, ?it/s]"
      ]
     },
     "metadata": {},
     "output_type": "display_data"
    },
    {
     "data": {
      "application/vnd.jupyter.widget-view+json": {
       "model_id": "7d1613e97bfc4297817b5b77369ab5b8",
       "version_major": 2,
       "version_minor": 0
      },
      "text/plain": [
       "  0%|          | 0/1 [00:00<?, ?it/s]"
      ]
     },
     "metadata": {},
     "output_type": "display_data"
    },
    {
     "data": {
      "application/vnd.jupyter.widget-view+json": {
       "model_id": "5afe0c46257e4af39a1579103e15d73d",
       "version_major": 2,
       "version_minor": 0
      },
      "text/plain": [
       "  0%|          | 0/1 [00:00<?, ?it/s]"
      ]
     },
     "metadata": {},
     "output_type": "display_data"
    },
    {
     "data": {
      "application/vnd.jupyter.widget-view+json": {
       "model_id": "d5f2f3f424514b7fb142d7540a605840",
       "version_major": 2,
       "version_minor": 0
      },
      "text/plain": [
       "  0%|          | 0/1 [00:00<?, ?it/s]"
      ]
     },
     "metadata": {},
     "output_type": "display_data"
    },
    {
     "data": {
      "application/vnd.jupyter.widget-view+json": {
       "model_id": "d8e45fc94bf14cf2bcc88c3999f4902a",
       "version_major": 2,
       "version_minor": 0
      },
      "text/plain": [
       "  0%|          | 0/1 [00:00<?, ?it/s]"
      ]
     },
     "metadata": {},
     "output_type": "display_data"
    },
    {
     "data": {
      "application/vnd.jupyter.widget-view+json": {
       "model_id": "21073c6145574638bd54af1a6c3c1c15",
       "version_major": 2,
       "version_minor": 0
      },
      "text/plain": [
       "  0%|          | 0/1 [00:00<?, ?it/s]"
      ]
     },
     "metadata": {},
     "output_type": "display_data"
    },
    {
     "data": {
      "application/vnd.jupyter.widget-view+json": {
       "model_id": "0ed1ebe060924542b5a86c5fa31b5134",
       "version_major": 2,
       "version_minor": 0
      },
      "text/plain": [
       "  0%|          | 0/1 [00:00<?, ?it/s]"
      ]
     },
     "metadata": {},
     "output_type": "display_data"
    },
    {
     "data": {
      "application/vnd.jupyter.widget-view+json": {
       "model_id": "7cf347ff9af24451ac194cf846784e7a",
       "version_major": 2,
       "version_minor": 0
      },
      "text/plain": [
       "  0%|          | 0/1 [00:00<?, ?it/s]"
      ]
     },
     "metadata": {},
     "output_type": "display_data"
    },
    {
     "data": {
      "application/vnd.jupyter.widget-view+json": {
       "model_id": "a3a6801ccd6841a58381597418dfabcd",
       "version_major": 2,
       "version_minor": 0
      },
      "text/plain": [
       "  0%|          | 0/1 [00:00<?, ?it/s]"
      ]
     },
     "metadata": {},
     "output_type": "display_data"
    },
    {
     "data": {
      "application/vnd.jupyter.widget-view+json": {
       "model_id": "b85d81e2130c4a79bb9c0db8f449e1f2",
       "version_major": 2,
       "version_minor": 0
      },
      "text/plain": [
       "  0%|          | 0/1 [00:00<?, ?it/s]"
      ]
     },
     "metadata": {},
     "output_type": "display_data"
    },
    {
     "data": {
      "application/vnd.jupyter.widget-view+json": {
       "model_id": "c0a25c81e80841989db1bd007fd8bd73",
       "version_major": 2,
       "version_minor": 0
      },
      "text/plain": [
       "  0%|          | 0/1 [00:00<?, ?it/s]"
      ]
     },
     "metadata": {},
     "output_type": "display_data"
    },
    {
     "data": {
      "application/vnd.jupyter.widget-view+json": {
       "model_id": "0b1aa21b0367417b8441b31390059d31",
       "version_major": 2,
       "version_minor": 0
      },
      "text/plain": [
       "  0%|          | 0/1 [00:00<?, ?it/s]"
      ]
     },
     "metadata": {},
     "output_type": "display_data"
    },
    {
     "data": {
      "application/vnd.jupyter.widget-view+json": {
       "model_id": "3426b367181445ee92f563bb12709a8c",
       "version_major": 2,
       "version_minor": 0
      },
      "text/plain": [
       "  0%|          | 0/1 [00:00<?, ?it/s]"
      ]
     },
     "metadata": {},
     "output_type": "display_data"
    },
    {
     "data": {
      "application/vnd.jupyter.widget-view+json": {
       "model_id": "feb6a93a6b0f446e83b4f58b54f41777",
       "version_major": 2,
       "version_minor": 0
      },
      "text/plain": [
       "  0%|          | 0/1 [00:00<?, ?it/s]"
      ]
     },
     "metadata": {},
     "output_type": "display_data"
    },
    {
     "data": {
      "application/vnd.jupyter.widget-view+json": {
       "model_id": "1d339285bb13487fada2d0591055c2d5",
       "version_major": 2,
       "version_minor": 0
      },
      "text/plain": [
       "  0%|          | 0/1 [00:00<?, ?it/s]"
      ]
     },
     "metadata": {},
     "output_type": "display_data"
    },
    {
     "data": {
      "application/vnd.jupyter.widget-view+json": {
       "model_id": "c2c098bdc562400e903b8e6e5ca65253",
       "version_major": 2,
       "version_minor": 0
      },
      "text/plain": [
       "  0%|          | 0/1 [00:00<?, ?it/s]"
      ]
     },
     "metadata": {},
     "output_type": "display_data"
    },
    {
     "data": {
      "application/vnd.jupyter.widget-view+json": {
       "model_id": "50bec8b91e2d4912bd0bf50156d2db14",
       "version_major": 2,
       "version_minor": 0
      },
      "text/plain": [
       "  0%|          | 0/1 [00:00<?, ?it/s]"
      ]
     },
     "metadata": {},
     "output_type": "display_data"
    },
    {
     "data": {
      "application/vnd.jupyter.widget-view+json": {
       "model_id": "5afb18a31e644748b08c65977ed22317",
       "version_major": 2,
       "version_minor": 0
      },
      "text/plain": [
       "  0%|          | 0/1 [00:00<?, ?it/s]"
      ]
     },
     "metadata": {},
     "output_type": "display_data"
    },
    {
     "data": {
      "application/vnd.jupyter.widget-view+json": {
       "model_id": "5e442e6e641b4ae895413ae8dd4cd979",
       "version_major": 2,
       "version_minor": 0
      },
      "text/plain": [
       "  0%|          | 0/1 [00:00<?, ?it/s]"
      ]
     },
     "metadata": {},
     "output_type": "display_data"
    },
    {
     "data": {
      "application/vnd.jupyter.widget-view+json": {
       "model_id": "2c3dacb216a04ce18288baa7c532a244",
       "version_major": 2,
       "version_minor": 0
      },
      "text/plain": [
       "  0%|          | 0/1 [00:00<?, ?it/s]"
      ]
     },
     "metadata": {},
     "output_type": "display_data"
    },
    {
     "data": {
      "application/vnd.jupyter.widget-view+json": {
       "model_id": "bbafe3333c224608b74431ff1234fd98",
       "version_major": 2,
       "version_minor": 0
      },
      "text/plain": [
       "  0%|          | 0/1 [00:00<?, ?it/s]"
      ]
     },
     "metadata": {},
     "output_type": "display_data"
    },
    {
     "data": {
      "application/vnd.jupyter.widget-view+json": {
       "model_id": "111eafa089e945c9a4c51be63cc09475",
       "version_major": 2,
       "version_minor": 0
      },
      "text/plain": [
       "  0%|          | 0/1 [00:00<?, ?it/s]"
      ]
     },
     "metadata": {},
     "output_type": "display_data"
    },
    {
     "data": {
      "application/vnd.jupyter.widget-view+json": {
       "model_id": "311ae8c16b534ebb921f9b726391ada2",
       "version_major": 2,
       "version_minor": 0
      },
      "text/plain": [
       "  0%|          | 0/1 [00:00<?, ?it/s]"
      ]
     },
     "metadata": {},
     "output_type": "display_data"
    },
    {
     "data": {
      "application/vnd.jupyter.widget-view+json": {
       "model_id": "f935ae4d5ddb408e9f2bee7c0bbb4cb7",
       "version_major": 2,
       "version_minor": 0
      },
      "text/plain": [
       "  0%|          | 0/1 [00:00<?, ?it/s]"
      ]
     },
     "metadata": {},
     "output_type": "display_data"
    },
    {
     "data": {
      "application/vnd.jupyter.widget-view+json": {
       "model_id": "2468c7b796dc4d5ca60462814543461d",
       "version_major": 2,
       "version_minor": 0
      },
      "text/plain": [
       "  0%|          | 0/1 [00:00<?, ?it/s]"
      ]
     },
     "metadata": {},
     "output_type": "display_data"
    },
    {
     "data": {
      "application/vnd.jupyter.widget-view+json": {
       "model_id": "c29d2f5f2376497abf175bc6e8d64f21",
       "version_major": 2,
       "version_minor": 0
      },
      "text/plain": [
       "  0%|          | 0/1 [00:00<?, ?it/s]"
      ]
     },
     "metadata": {},
     "output_type": "display_data"
    },
    {
     "data": {
      "application/vnd.jupyter.widget-view+json": {
       "model_id": "af60566ce8324852bfa2c9c759281891",
       "version_major": 2,
       "version_minor": 0
      },
      "text/plain": [
       "  0%|          | 0/1 [00:00<?, ?it/s]"
      ]
     },
     "metadata": {},
     "output_type": "display_data"
    },
    {
     "data": {
      "application/vnd.jupyter.widget-view+json": {
       "model_id": "89c1844239934b7ea9b344297f8a9f76",
       "version_major": 2,
       "version_minor": 0
      },
      "text/plain": [
       "  0%|          | 0/1 [00:00<?, ?it/s]"
      ]
     },
     "metadata": {},
     "output_type": "display_data"
    },
    {
     "data": {
      "application/vnd.jupyter.widget-view+json": {
       "model_id": "1a5bd3cc12a349218790a65415e65132",
       "version_major": 2,
       "version_minor": 0
      },
      "text/plain": [
       "  0%|          | 0/1 [00:00<?, ?it/s]"
      ]
     },
     "metadata": {},
     "output_type": "display_data"
    },
    {
     "data": {
      "application/vnd.jupyter.widget-view+json": {
       "model_id": "80725d966c694be2abe15ab251dd7742",
       "version_major": 2,
       "version_minor": 0
      },
      "text/plain": [
       "  0%|          | 0/1 [00:00<?, ?it/s]"
      ]
     },
     "metadata": {},
     "output_type": "display_data"
    },
    {
     "data": {
      "application/vnd.jupyter.widget-view+json": {
       "model_id": "209eab6f347e4e7fb3cdc6cfa8941db8",
       "version_major": 2,
       "version_minor": 0
      },
      "text/plain": [
       "  0%|          | 0/1 [00:00<?, ?it/s]"
      ]
     },
     "metadata": {},
     "output_type": "display_data"
    },
    {
     "data": {
      "application/vnd.jupyter.widget-view+json": {
       "model_id": "7c6ab7c6458a4f78b75795f53b4b311b",
       "version_major": 2,
       "version_minor": 0
      },
      "text/plain": [
       "  0%|          | 0/1 [00:00<?, ?it/s]"
      ]
     },
     "metadata": {},
     "output_type": "display_data"
    },
    {
     "data": {
      "application/vnd.jupyter.widget-view+json": {
       "model_id": "0f447e81f3ea487ca167dcf65f506a41",
       "version_major": 2,
       "version_minor": 0
      },
      "text/plain": [
       "  0%|          | 0/1 [00:00<?, ?it/s]"
      ]
     },
     "metadata": {},
     "output_type": "display_data"
    },
    {
     "data": {
      "application/vnd.jupyter.widget-view+json": {
       "model_id": "9c2c12a0f01c4bb4a756a0046e254a43",
       "version_major": 2,
       "version_minor": 0
      },
      "text/plain": [
       "  0%|          | 0/1 [00:00<?, ?it/s]"
      ]
     },
     "metadata": {},
     "output_type": "display_data"
    },
    {
     "data": {
      "application/vnd.jupyter.widget-view+json": {
       "model_id": "e3aa97eefb91401985b069d5a8451eaf",
       "version_major": 2,
       "version_minor": 0
      },
      "text/plain": [
       "  0%|          | 0/1 [00:00<?, ?it/s]"
      ]
     },
     "metadata": {},
     "output_type": "display_data"
    },
    {
     "data": {
      "application/vnd.jupyter.widget-view+json": {
       "model_id": "dc68d392641a4603bdb8241de52c5c29",
       "version_major": 2,
       "version_minor": 0
      },
      "text/plain": [
       "  0%|          | 0/1 [00:00<?, ?it/s]"
      ]
     },
     "metadata": {},
     "output_type": "display_data"
    },
    {
     "data": {
      "application/vnd.jupyter.widget-view+json": {
       "model_id": "4b98b59e5abf4c5b8b2fd5ef1e37140a",
       "version_major": 2,
       "version_minor": 0
      },
      "text/plain": [
       "  0%|          | 0/1 [00:00<?, ?it/s]"
      ]
     },
     "metadata": {},
     "output_type": "display_data"
    },
    {
     "data": {
      "application/vnd.jupyter.widget-view+json": {
       "model_id": "7adad91165e24fbe8cbd92e1017804ad",
       "version_major": 2,
       "version_minor": 0
      },
      "text/plain": [
       "  0%|          | 0/1 [00:00<?, ?it/s]"
      ]
     },
     "metadata": {},
     "output_type": "display_data"
    },
    {
     "data": {
      "application/vnd.jupyter.widget-view+json": {
       "model_id": "2667f29ff53a4733906c24f68982f0a4",
       "version_major": 2,
       "version_minor": 0
      },
      "text/plain": [
       "  0%|          | 0/1 [00:00<?, ?it/s]"
      ]
     },
     "metadata": {},
     "output_type": "display_data"
    },
    {
     "data": {
      "application/vnd.jupyter.widget-view+json": {
       "model_id": "776bc0b902194c63ade6398a2535e208",
       "version_major": 2,
       "version_minor": 0
      },
      "text/plain": [
       "  0%|          | 0/1 [00:00<?, ?it/s]"
      ]
     },
     "metadata": {},
     "output_type": "display_data"
    },
    {
     "data": {
      "application/vnd.jupyter.widget-view+json": {
       "model_id": "c8f835899e7643329ae3af8afd8bed74",
       "version_major": 2,
       "version_minor": 0
      },
      "text/plain": [
       "  0%|          | 0/1 [00:00<?, ?it/s]"
      ]
     },
     "metadata": {},
     "output_type": "display_data"
    },
    {
     "data": {
      "application/vnd.jupyter.widget-view+json": {
       "model_id": "ce642574c41145508545748edb13dd4c",
       "version_major": 2,
       "version_minor": 0
      },
      "text/plain": [
       "  0%|          | 0/1 [00:00<?, ?it/s]"
      ]
     },
     "metadata": {},
     "output_type": "display_data"
    },
    {
     "data": {
      "application/vnd.jupyter.widget-view+json": {
       "model_id": "6d75f708074d4d86bea608c538154c59",
       "version_major": 2,
       "version_minor": 0
      },
      "text/plain": [
       "  0%|          | 0/1 [00:00<?, ?it/s]"
      ]
     },
     "metadata": {},
     "output_type": "display_data"
    },
    {
     "data": {
      "application/vnd.jupyter.widget-view+json": {
       "model_id": "81b8169b4e584e3aabe492169ec17e3d",
       "version_major": 2,
       "version_minor": 0
      },
      "text/plain": [
       "  0%|          | 0/1 [00:00<?, ?it/s]"
      ]
     },
     "metadata": {},
     "output_type": "display_data"
    },
    {
     "data": {
      "application/vnd.jupyter.widget-view+json": {
       "model_id": "1251baacb6274706835415106b27ed93",
       "version_major": 2,
       "version_minor": 0
      },
      "text/plain": [
       "  0%|          | 0/1 [00:00<?, ?it/s]"
      ]
     },
     "metadata": {},
     "output_type": "display_data"
    },
    {
     "data": {
      "application/vnd.jupyter.widget-view+json": {
       "model_id": "91fe17631b05475da40260364ea2795e",
       "version_major": 2,
       "version_minor": 0
      },
      "text/plain": [
       "  0%|          | 0/1 [00:00<?, ?it/s]"
      ]
     },
     "metadata": {},
     "output_type": "display_data"
    },
    {
     "data": {
      "application/vnd.jupyter.widget-view+json": {
       "model_id": "ffe18f21b6534384b948d968d9671ea1",
       "version_major": 2,
       "version_minor": 0
      },
      "text/plain": [
       "  0%|          | 0/1 [00:00<?, ?it/s]"
      ]
     },
     "metadata": {},
     "output_type": "display_data"
    },
    {
     "data": {
      "application/vnd.jupyter.widget-view+json": {
       "model_id": "c9fd268b957a40a29337731d6f3e29bb",
       "version_major": 2,
       "version_minor": 0
      },
      "text/plain": [
       "  0%|          | 0/1 [00:00<?, ?it/s]"
      ]
     },
     "metadata": {},
     "output_type": "display_data"
    },
    {
     "data": {
      "application/vnd.jupyter.widget-view+json": {
       "model_id": "109f6603fcc74bfb97d328b140d54f24",
       "version_major": 2,
       "version_minor": 0
      },
      "text/plain": [
       "  0%|          | 0/1 [00:00<?, ?it/s]"
      ]
     },
     "metadata": {},
     "output_type": "display_data"
    },
    {
     "data": {
      "application/vnd.jupyter.widget-view+json": {
       "model_id": "e8f066d488ad4efcb04e594e2793b89a",
       "version_major": 2,
       "version_minor": 0
      },
      "text/plain": [
       "  0%|          | 0/1 [00:00<?, ?it/s]"
      ]
     },
     "metadata": {},
     "output_type": "display_data"
    },
    {
     "data": {
      "application/vnd.jupyter.widget-view+json": {
       "model_id": "3c85a8fd4dcf40baaef34c0a799b5e07",
       "version_major": 2,
       "version_minor": 0
      },
      "text/plain": [
       "  0%|          | 0/1 [00:00<?, ?it/s]"
      ]
     },
     "metadata": {},
     "output_type": "display_data"
    },
    {
     "data": {
      "application/vnd.jupyter.widget-view+json": {
       "model_id": "95badc04c88943e99bd6a01140700b30",
       "version_major": 2,
       "version_minor": 0
      },
      "text/plain": [
       "  0%|          | 0/1 [00:00<?, ?it/s]"
      ]
     },
     "metadata": {},
     "output_type": "display_data"
    },
    {
     "data": {
      "application/vnd.jupyter.widget-view+json": {
       "model_id": "01061e8e70dd4ef2bcd3bd6d3295ba60",
       "version_major": 2,
       "version_minor": 0
      },
      "text/plain": [
       "  0%|          | 0/1 [00:00<?, ?it/s]"
      ]
     },
     "metadata": {},
     "output_type": "display_data"
    },
    {
     "data": {
      "application/vnd.jupyter.widget-view+json": {
       "model_id": "a1764d9b0f1d4c538fe4288bdb118e4b",
       "version_major": 2,
       "version_minor": 0
      },
      "text/plain": [
       "  0%|          | 0/1 [00:00<?, ?it/s]"
      ]
     },
     "metadata": {},
     "output_type": "display_data"
    },
    {
     "data": {
      "application/vnd.jupyter.widget-view+json": {
       "model_id": "eefdee81b32949b9ac914ec73bbc8565",
       "version_major": 2,
       "version_minor": 0
      },
      "text/plain": [
       "  0%|          | 0/1 [00:00<?, ?it/s]"
      ]
     },
     "metadata": {},
     "output_type": "display_data"
    },
    {
     "data": {
      "application/vnd.jupyter.widget-view+json": {
       "model_id": "c4fc41b60a404f10af524d9ad3310748",
       "version_major": 2,
       "version_minor": 0
      },
      "text/plain": [
       "  0%|          | 0/1 [00:00<?, ?it/s]"
      ]
     },
     "metadata": {},
     "output_type": "display_data"
    },
    {
     "data": {
      "application/vnd.jupyter.widget-view+json": {
       "model_id": "4dbb5313cb0b4b959cbabb25ee2f4d43",
       "version_major": 2,
       "version_minor": 0
      },
      "text/plain": [
       "  0%|          | 0/1 [00:00<?, ?it/s]"
      ]
     },
     "metadata": {},
     "output_type": "display_data"
    },
    {
     "data": {
      "application/vnd.jupyter.widget-view+json": {
       "model_id": "e1d44e15de5f4b1ebfcb7257b4411a1f",
       "version_major": 2,
       "version_minor": 0
      },
      "text/plain": [
       "  0%|          | 0/1 [00:00<?, ?it/s]"
      ]
     },
     "metadata": {},
     "output_type": "display_data"
    },
    {
     "data": {
      "application/vnd.jupyter.widget-view+json": {
       "model_id": "3ce82823d0d045bbb50a87e5e9dc433a",
       "version_major": 2,
       "version_minor": 0
      },
      "text/plain": [
       "  0%|          | 0/1 [00:00<?, ?it/s]"
      ]
     },
     "metadata": {},
     "output_type": "display_data"
    },
    {
     "data": {
      "application/vnd.jupyter.widget-view+json": {
       "model_id": "78533cea3a9a4d81bfdd9e260a66f291",
       "version_major": 2,
       "version_minor": 0
      },
      "text/plain": [
       "  0%|          | 0/1 [00:00<?, ?it/s]"
      ]
     },
     "metadata": {},
     "output_type": "display_data"
    },
    {
     "data": {
      "application/vnd.jupyter.widget-view+json": {
       "model_id": "465e47686c32433fa67210a42c043b17",
       "version_major": 2,
       "version_minor": 0
      },
      "text/plain": [
       "  0%|          | 0/1 [00:00<?, ?it/s]"
      ]
     },
     "metadata": {},
     "output_type": "display_data"
    },
    {
     "data": {
      "application/vnd.jupyter.widget-view+json": {
       "model_id": "e69e2b0196ac4c68aeebc991fa4c8cc7",
       "version_major": 2,
       "version_minor": 0
      },
      "text/plain": [
       "  0%|          | 0/1 [00:00<?, ?it/s]"
      ]
     },
     "metadata": {},
     "output_type": "display_data"
    },
    {
     "data": {
      "application/vnd.jupyter.widget-view+json": {
       "model_id": "fa8bf5e085ea44b2a0b3bc33964515fc",
       "version_major": 2,
       "version_minor": 0
      },
      "text/plain": [
       "  0%|          | 0/1 [00:00<?, ?it/s]"
      ]
     },
     "metadata": {},
     "output_type": "display_data"
    },
    {
     "data": {
      "application/vnd.jupyter.widget-view+json": {
       "model_id": "5e40ed009ca646fb960f567b72c2a38f",
       "version_major": 2,
       "version_minor": 0
      },
      "text/plain": [
       "  0%|          | 0/1 [00:00<?, ?it/s]"
      ]
     },
     "metadata": {},
     "output_type": "display_data"
    },
    {
     "data": {
      "application/vnd.jupyter.widget-view+json": {
       "model_id": "54a7312bc7534ea4a9d17c56baf7ee20",
       "version_major": 2,
       "version_minor": 0
      },
      "text/plain": [
       "  0%|          | 0/1 [00:00<?, ?it/s]"
      ]
     },
     "metadata": {},
     "output_type": "display_data"
    },
    {
     "data": {
      "application/vnd.jupyter.widget-view+json": {
       "model_id": "2f8dd7e48bc847a59f490470e18c95e2",
       "version_major": 2,
       "version_minor": 0
      },
      "text/plain": [
       "  0%|          | 0/1 [00:00<?, ?it/s]"
      ]
     },
     "metadata": {},
     "output_type": "display_data"
    },
    {
     "data": {
      "application/vnd.jupyter.widget-view+json": {
       "model_id": "358f6f3c86424844ab1be320a8278a74",
       "version_major": 2,
       "version_minor": 0
      },
      "text/plain": [
       "  0%|          | 0/1 [00:00<?, ?it/s]"
      ]
     },
     "metadata": {},
     "output_type": "display_data"
    },
    {
     "data": {
      "application/vnd.jupyter.widget-view+json": {
       "model_id": "45b24a953da44b02b0908871eab9ae0a",
       "version_major": 2,
       "version_minor": 0
      },
      "text/plain": [
       "  0%|          | 0/1 [00:00<?, ?it/s]"
      ]
     },
     "metadata": {},
     "output_type": "display_data"
    },
    {
     "data": {
      "application/vnd.jupyter.widget-view+json": {
       "model_id": "ce99f9a0e65d4d79a2ed4148b5d17ad2",
       "version_major": 2,
       "version_minor": 0
      },
      "text/plain": [
       "  0%|          | 0/1 [00:00<?, ?it/s]"
      ]
     },
     "metadata": {},
     "output_type": "display_data"
    },
    {
     "data": {
      "application/vnd.jupyter.widget-view+json": {
       "model_id": "be33ba03f6bd4a3a8f1fdc3e65f46fd1",
       "version_major": 2,
       "version_minor": 0
      },
      "text/plain": [
       "  0%|          | 0/1 [00:00<?, ?it/s]"
      ]
     },
     "metadata": {},
     "output_type": "display_data"
    },
    {
     "data": {
      "application/vnd.jupyter.widget-view+json": {
       "model_id": "78e839aa308547aab35a68432080bd50",
       "version_major": 2,
       "version_minor": 0
      },
      "text/plain": [
       "  0%|          | 0/1 [00:00<?, ?it/s]"
      ]
     },
     "metadata": {},
     "output_type": "display_data"
    },
    {
     "data": {
      "application/vnd.jupyter.widget-view+json": {
       "model_id": "6bf0183ad6d44b42aaee2a62f687fc00",
       "version_major": 2,
       "version_minor": 0
      },
      "text/plain": [
       "  0%|          | 0/1 [00:00<?, ?it/s]"
      ]
     },
     "metadata": {},
     "output_type": "display_data"
    },
    {
     "data": {
      "application/vnd.jupyter.widget-view+json": {
       "model_id": "9d651dfb323a47fe9699fd0cfd5e9501",
       "version_major": 2,
       "version_minor": 0
      },
      "text/plain": [
       "  0%|          | 0/1 [00:00<?, ?it/s]"
      ]
     },
     "metadata": {},
     "output_type": "display_data"
    },
    {
     "data": {
      "application/vnd.jupyter.widget-view+json": {
       "model_id": "f3253aeb8b9c43598a91cfc4f03c6c1e",
       "version_major": 2,
       "version_minor": 0
      },
      "text/plain": [
       "  0%|          | 0/1 [00:00<?, ?it/s]"
      ]
     },
     "metadata": {},
     "output_type": "display_data"
    },
    {
     "data": {
      "application/vnd.jupyter.widget-view+json": {
       "model_id": "351973e49f2a4256865eaf1d2e69026e",
       "version_major": 2,
       "version_minor": 0
      },
      "text/plain": [
       "  0%|          | 0/1 [00:00<?, ?it/s]"
      ]
     },
     "metadata": {},
     "output_type": "display_data"
    },
    {
     "data": {
      "application/vnd.jupyter.widget-view+json": {
       "model_id": "2583d995bdfc461b879db0afd92f8dd9",
       "version_major": 2,
       "version_minor": 0
      },
      "text/plain": [
       "  0%|          | 0/1 [00:00<?, ?it/s]"
      ]
     },
     "metadata": {},
     "output_type": "display_data"
    },
    {
     "data": {
      "application/vnd.jupyter.widget-view+json": {
       "model_id": "f64d1cd38d0d44afb0c523b13ae7c31f",
       "version_major": 2,
       "version_minor": 0
      },
      "text/plain": [
       "  0%|          | 0/1 [00:00<?, ?it/s]"
      ]
     },
     "metadata": {},
     "output_type": "display_data"
    },
    {
     "data": {
      "application/vnd.jupyter.widget-view+json": {
       "model_id": "9d92dade13ad4a2e8751218605481c1a",
       "version_major": 2,
       "version_minor": 0
      },
      "text/plain": [
       "  0%|          | 0/1 [00:00<?, ?it/s]"
      ]
     },
     "metadata": {},
     "output_type": "display_data"
    },
    {
     "data": {
      "application/vnd.jupyter.widget-view+json": {
       "model_id": "696d5634afc345c5881391823e0b44c8",
       "version_major": 2,
       "version_minor": 0
      },
      "text/plain": [
       "  0%|          | 0/1 [00:00<?, ?it/s]"
      ]
     },
     "metadata": {},
     "output_type": "display_data"
    },
    {
     "data": {
      "application/vnd.jupyter.widget-view+json": {
       "model_id": "1c69acd380da40cf8e08bdfaac220f80",
       "version_major": 2,
       "version_minor": 0
      },
      "text/plain": [
       "  0%|          | 0/1 [00:00<?, ?it/s]"
      ]
     },
     "metadata": {},
     "output_type": "display_data"
    },
    {
     "data": {
      "application/vnd.jupyter.widget-view+json": {
       "model_id": "147ee5dd38634b9eae7deeb122caa9ff",
       "version_major": 2,
       "version_minor": 0
      },
      "text/plain": [
       "  0%|          | 0/1 [00:00<?, ?it/s]"
      ]
     },
     "metadata": {},
     "output_type": "display_data"
    },
    {
     "data": {
      "application/vnd.jupyter.widget-view+json": {
       "model_id": "8b6b38cc657247ffa5ca0e73ea0ff325",
       "version_major": 2,
       "version_minor": 0
      },
      "text/plain": [
       "  0%|          | 0/1 [00:00<?, ?it/s]"
      ]
     },
     "metadata": {},
     "output_type": "display_data"
    },
    {
     "data": {
      "application/vnd.jupyter.widget-view+json": {
       "model_id": "c068e468b91d412e847f0e29b1da61ca",
       "version_major": 2,
       "version_minor": 0
      },
      "text/plain": [
       "  0%|          | 0/1 [00:00<?, ?it/s]"
      ]
     },
     "metadata": {},
     "output_type": "display_data"
    },
    {
     "data": {
      "application/vnd.jupyter.widget-view+json": {
       "model_id": "9bebe66ef417434ba01b5bafa2ff3063",
       "version_major": 2,
       "version_minor": 0
      },
      "text/plain": [
       "  0%|          | 0/1 [00:00<?, ?it/s]"
      ]
     },
     "metadata": {},
     "output_type": "display_data"
    },
    {
     "data": {
      "application/vnd.jupyter.widget-view+json": {
       "model_id": "18ff0c4ca8a44d52a44c815380f992b0",
       "version_major": 2,
       "version_minor": 0
      },
      "text/plain": [
       "  0%|          | 0/1 [00:00<?, ?it/s]"
      ]
     },
     "metadata": {},
     "output_type": "display_data"
    },
    {
     "data": {
      "application/vnd.jupyter.widget-view+json": {
       "model_id": "bba823ddad5b480dac55d4bb2e92235e",
       "version_major": 2,
       "version_minor": 0
      },
      "text/plain": [
       "  0%|          | 0/1 [00:00<?, ?it/s]"
      ]
     },
     "metadata": {},
     "output_type": "display_data"
    },
    {
     "data": {
      "application/vnd.jupyter.widget-view+json": {
       "model_id": "d20aa4ca93654e538c3682cb30c783bd",
       "version_major": 2,
       "version_minor": 0
      },
      "text/plain": [
       "  0%|          | 0/1 [00:00<?, ?it/s]"
      ]
     },
     "metadata": {},
     "output_type": "display_data"
    },
    {
     "data": {
      "application/vnd.jupyter.widget-view+json": {
       "model_id": "bba9902d4bf2458381b21d027b3e282e",
       "version_major": 2,
       "version_minor": 0
      },
      "text/plain": [
       "  0%|          | 0/1 [00:00<?, ?it/s]"
      ]
     },
     "metadata": {},
     "output_type": "display_data"
    },
    {
     "data": {
      "application/vnd.jupyter.widget-view+json": {
       "model_id": "4e5d234649a942bb9c5b06ead2b51da9",
       "version_major": 2,
       "version_minor": 0
      },
      "text/plain": [
       "  0%|          | 0/1 [00:00<?, ?it/s]"
      ]
     },
     "metadata": {},
     "output_type": "display_data"
    },
    {
     "data": {
      "application/vnd.jupyter.widget-view+json": {
       "model_id": "9310f13f8e634bd2b6b77ac9310805a8",
       "version_major": 2,
       "version_minor": 0
      },
      "text/plain": [
       "  0%|          | 0/1 [00:00<?, ?it/s]"
      ]
     },
     "metadata": {},
     "output_type": "display_data"
    },
    {
     "data": {
      "application/vnd.jupyter.widget-view+json": {
       "model_id": "f1c3f786156c429495d38b0da1fd9d70",
       "version_major": 2,
       "version_minor": 0
      },
      "text/plain": [
       "  0%|          | 0/1 [00:00<?, ?it/s]"
      ]
     },
     "metadata": {},
     "output_type": "display_data"
    },
    {
     "data": {
      "application/vnd.jupyter.widget-view+json": {
       "model_id": "9d1b2c7d1ae74f259a1f087d72a34891",
       "version_major": 2,
       "version_minor": 0
      },
      "text/plain": [
       "  0%|          | 0/1 [00:00<?, ?it/s]"
      ]
     },
     "metadata": {},
     "output_type": "display_data"
    },
    {
     "data": {
      "application/vnd.jupyter.widget-view+json": {
       "model_id": "d44ee83f72324050b631f517436e141d",
       "version_major": 2,
       "version_minor": 0
      },
      "text/plain": [
       "  0%|          | 0/1 [00:00<?, ?it/s]"
      ]
     },
     "metadata": {},
     "output_type": "display_data"
    },
    {
     "data": {
      "application/vnd.jupyter.widget-view+json": {
       "model_id": "546dd562506447659254b3e59afb6ec4",
       "version_major": 2,
       "version_minor": 0
      },
      "text/plain": [
       "  0%|          | 0/1 [00:00<?, ?it/s]"
      ]
     },
     "metadata": {},
     "output_type": "display_data"
    },
    {
     "data": {
      "application/vnd.jupyter.widget-view+json": {
       "model_id": "21c88c5cbe634c949eb5619f2d5b0d1c",
       "version_major": 2,
       "version_minor": 0
      },
      "text/plain": [
       "  0%|          | 0/1 [00:00<?, ?it/s]"
      ]
     },
     "metadata": {},
     "output_type": "display_data"
    },
    {
     "data": {
      "application/vnd.jupyter.widget-view+json": {
       "model_id": "05535f7d42ce4768b541394673142f87",
       "version_major": 2,
       "version_minor": 0
      },
      "text/plain": [
       "  0%|          | 0/1 [00:00<?, ?it/s]"
      ]
     },
     "metadata": {},
     "output_type": "display_data"
    },
    {
     "data": {
      "application/vnd.jupyter.widget-view+json": {
       "model_id": "15d7ebb6a33f48c3ad359dd099951af1",
       "version_major": 2,
       "version_minor": 0
      },
      "text/plain": [
       "  0%|          | 0/1 [00:00<?, ?it/s]"
      ]
     },
     "metadata": {},
     "output_type": "display_data"
    },
    {
     "data": {
      "application/vnd.jupyter.widget-view+json": {
       "model_id": "a94121699b4e4954a9e792146ffceb77",
       "version_major": 2,
       "version_minor": 0
      },
      "text/plain": [
       "  0%|          | 0/1 [00:00<?, ?it/s]"
      ]
     },
     "metadata": {},
     "output_type": "display_data"
    },
    {
     "data": {
      "application/vnd.jupyter.widget-view+json": {
       "model_id": "63bbf134f80a459985d1f4554f3bff13",
       "version_major": 2,
       "version_minor": 0
      },
      "text/plain": [
       "  0%|          | 0/1 [00:00<?, ?it/s]"
      ]
     },
     "metadata": {},
     "output_type": "display_data"
    },
    {
     "data": {
      "application/vnd.jupyter.widget-view+json": {
       "model_id": "24ed6e031f22419bb809d53f724f84e2",
       "version_major": 2,
       "version_minor": 0
      },
      "text/plain": [
       "  0%|          | 0/1 [00:00<?, ?it/s]"
      ]
     },
     "metadata": {},
     "output_type": "display_data"
    },
    {
     "data": {
      "application/vnd.jupyter.widget-view+json": {
       "model_id": "044f4dbdffad43a5a65ec5e66d0ae3ae",
       "version_major": 2,
       "version_minor": 0
      },
      "text/plain": [
       "  0%|          | 0/1 [00:00<?, ?it/s]"
      ]
     },
     "metadata": {},
     "output_type": "display_data"
    },
    {
     "data": {
      "application/vnd.jupyter.widget-view+json": {
       "model_id": "f3945872843a44a887be15abcac41b24",
       "version_major": 2,
       "version_minor": 0
      },
      "text/plain": [
       "  0%|          | 0/1 [00:00<?, ?it/s]"
      ]
     },
     "metadata": {},
     "output_type": "display_data"
    },
    {
     "data": {
      "application/vnd.jupyter.widget-view+json": {
       "model_id": "4bfeacc66ab94c88aea9b73a19837ba2",
       "version_major": 2,
       "version_minor": 0
      },
      "text/plain": [
       "  0%|          | 0/1 [00:00<?, ?it/s]"
      ]
     },
     "metadata": {},
     "output_type": "display_data"
    },
    {
     "data": {
      "application/vnd.jupyter.widget-view+json": {
       "model_id": "8fa484af3b13404281711399e6d3a9cd",
       "version_major": 2,
       "version_minor": 0
      },
      "text/plain": [
       "  0%|          | 0/1 [00:00<?, ?it/s]"
      ]
     },
     "metadata": {},
     "output_type": "display_data"
    },
    {
     "data": {
      "application/vnd.jupyter.widget-view+json": {
       "model_id": "99aae60345cd469e9a24798059667df6",
       "version_major": 2,
       "version_minor": 0
      },
      "text/plain": [
       "  0%|          | 0/1 [00:00<?, ?it/s]"
      ]
     },
     "metadata": {},
     "output_type": "display_data"
    },
    {
     "data": {
      "application/vnd.jupyter.widget-view+json": {
       "model_id": "6803ce9280454048ad9cdbffb1e0e019",
       "version_major": 2,
       "version_minor": 0
      },
      "text/plain": [
       "  0%|          | 0/1 [00:00<?, ?it/s]"
      ]
     },
     "metadata": {},
     "output_type": "display_data"
    },
    {
     "data": {
      "application/vnd.jupyter.widget-view+json": {
       "model_id": "51cdc834b8d74b7d8cc1d6dcd66a6ed0",
       "version_major": 2,
       "version_minor": 0
      },
      "text/plain": [
       "  0%|          | 0/1 [00:00<?, ?it/s]"
      ]
     },
     "metadata": {},
     "output_type": "display_data"
    },
    {
     "data": {
      "application/vnd.jupyter.widget-view+json": {
       "model_id": "2909026c1e464c95a2a423c958db91a9",
       "version_major": 2,
       "version_minor": 0
      },
      "text/plain": [
       "  0%|          | 0/1 [00:00<?, ?it/s]"
      ]
     },
     "metadata": {},
     "output_type": "display_data"
    },
    {
     "data": {
      "application/vnd.jupyter.widget-view+json": {
       "model_id": "f979331cfad341fc924218fc1b4ef478",
       "version_major": 2,
       "version_minor": 0
      },
      "text/plain": [
       "  0%|          | 0/1 [00:00<?, ?it/s]"
      ]
     },
     "metadata": {},
     "output_type": "display_data"
    },
    {
     "data": {
      "application/vnd.jupyter.widget-view+json": {
       "model_id": "7bd2e00680cb426c9ffdacf352f219fa",
       "version_major": 2,
       "version_minor": 0
      },
      "text/plain": [
       "  0%|          | 0/1 [00:00<?, ?it/s]"
      ]
     },
     "metadata": {},
     "output_type": "display_data"
    },
    {
     "data": {
      "application/vnd.jupyter.widget-view+json": {
       "model_id": "970f6233a93d4ce59d216dfa337d2ae6",
       "version_major": 2,
       "version_minor": 0
      },
      "text/plain": [
       "  0%|          | 0/1 [00:00<?, ?it/s]"
      ]
     },
     "metadata": {},
     "output_type": "display_data"
    },
    {
     "data": {
      "application/vnd.jupyter.widget-view+json": {
       "model_id": "8c86b17ef6c3463289e845a1309acc1a",
       "version_major": 2,
       "version_minor": 0
      },
      "text/plain": [
       "  0%|          | 0/1 [00:00<?, ?it/s]"
      ]
     },
     "metadata": {},
     "output_type": "display_data"
    },
    {
     "data": {
      "application/vnd.jupyter.widget-view+json": {
       "model_id": "f8d5af49a963493e86573d838b6a6df3",
       "version_major": 2,
       "version_minor": 0
      },
      "text/plain": [
       "  0%|          | 0/1 [00:00<?, ?it/s]"
      ]
     },
     "metadata": {},
     "output_type": "display_data"
    },
    {
     "data": {
      "application/vnd.jupyter.widget-view+json": {
       "model_id": "5de99597099a48fbb20056ef205a9b2e",
       "version_major": 2,
       "version_minor": 0
      },
      "text/plain": [
       "  0%|          | 0/1 [00:00<?, ?it/s]"
      ]
     },
     "metadata": {},
     "output_type": "display_data"
    },
    {
     "data": {
      "application/vnd.jupyter.widget-view+json": {
       "model_id": "04b8839183774bc9867ff715a79a89f7",
       "version_major": 2,
       "version_minor": 0
      },
      "text/plain": [
       "  0%|          | 0/1 [00:00<?, ?it/s]"
      ]
     },
     "metadata": {},
     "output_type": "display_data"
    },
    {
     "data": {
      "application/vnd.jupyter.widget-view+json": {
       "model_id": "8ae4ae20801e4912afd41f7124007f83",
       "version_major": 2,
       "version_minor": 0
      },
      "text/plain": [
       "  0%|          | 0/1 [00:00<?, ?it/s]"
      ]
     },
     "metadata": {},
     "output_type": "display_data"
    },
    {
     "data": {
      "application/vnd.jupyter.widget-view+json": {
       "model_id": "5e1f1810874543798c9484d976cb1674",
       "version_major": 2,
       "version_minor": 0
      },
      "text/plain": [
       "  0%|          | 0/1 [00:00<?, ?it/s]"
      ]
     },
     "metadata": {},
     "output_type": "display_data"
    },
    {
     "data": {
      "application/vnd.jupyter.widget-view+json": {
       "model_id": "d2cfea4d16504b2b81f705f16e70565d",
       "version_major": 2,
       "version_minor": 0
      },
      "text/plain": [
       "  0%|          | 0/1 [00:00<?, ?it/s]"
      ]
     },
     "metadata": {},
     "output_type": "display_data"
    },
    {
     "data": {
      "application/vnd.jupyter.widget-view+json": {
       "model_id": "838cf84d02864187a591218fc666de37",
       "version_major": 2,
       "version_minor": 0
      },
      "text/plain": [
       "  0%|          | 0/1 [00:00<?, ?it/s]"
      ]
     },
     "metadata": {},
     "output_type": "display_data"
    },
    {
     "data": {
      "application/vnd.jupyter.widget-view+json": {
       "model_id": "da745906acd64fabbf17070d8ed96131",
       "version_major": 2,
       "version_minor": 0
      },
      "text/plain": [
       "  0%|          | 0/1 [00:00<?, ?it/s]"
      ]
     },
     "metadata": {},
     "output_type": "display_data"
    },
    {
     "data": {
      "application/vnd.jupyter.widget-view+json": {
       "model_id": "40828f53bd434d12bd5b4ef0e292e164",
       "version_major": 2,
       "version_minor": 0
      },
      "text/plain": [
       "  0%|          | 0/1 [00:00<?, ?it/s]"
      ]
     },
     "metadata": {},
     "output_type": "display_data"
    },
    {
     "data": {
      "application/vnd.jupyter.widget-view+json": {
       "model_id": "ad3547eff9d04fa8a4efb12c883e76e6",
       "version_major": 2,
       "version_minor": 0
      },
      "text/plain": [
       "  0%|          | 0/1 [00:00<?, ?it/s]"
      ]
     },
     "metadata": {},
     "output_type": "display_data"
    },
    {
     "data": {
      "application/vnd.jupyter.widget-view+json": {
       "model_id": "c9f37919460741d8b6c50d630668fb63",
       "version_major": 2,
       "version_minor": 0
      },
      "text/plain": [
       "  0%|          | 0/1 [00:00<?, ?it/s]"
      ]
     },
     "metadata": {},
     "output_type": "display_data"
    },
    {
     "data": {
      "application/vnd.jupyter.widget-view+json": {
       "model_id": "48baf65c56e54a6fa40411c41b6a7687",
       "version_major": 2,
       "version_minor": 0
      },
      "text/plain": [
       "  0%|          | 0/1 [00:00<?, ?it/s]"
      ]
     },
     "metadata": {},
     "output_type": "display_data"
    },
    {
     "data": {
      "application/vnd.jupyter.widget-view+json": {
       "model_id": "ed1636b1529d4b3e99e202f685868aff",
       "version_major": 2,
       "version_minor": 0
      },
      "text/plain": [
       "  0%|          | 0/1 [00:00<?, ?it/s]"
      ]
     },
     "metadata": {},
     "output_type": "display_data"
    },
    {
     "data": {
      "application/vnd.jupyter.widget-view+json": {
       "model_id": "a6826d14749c4a86a71a9b9b75c08d78",
       "version_major": 2,
       "version_minor": 0
      },
      "text/plain": [
       "  0%|          | 0/1 [00:00<?, ?it/s]"
      ]
     },
     "metadata": {},
     "output_type": "display_data"
    },
    {
     "data": {
      "application/vnd.jupyter.widget-view+json": {
       "model_id": "3682530b073b4c1b834bb30fbf3c63f1",
       "version_major": 2,
       "version_minor": 0
      },
      "text/plain": [
       "  0%|          | 0/1 [00:00<?, ?it/s]"
      ]
     },
     "metadata": {},
     "output_type": "display_data"
    },
    {
     "data": {
      "application/vnd.jupyter.widget-view+json": {
       "model_id": "05fe5ee472094aeeb49817edb62626fe",
       "version_major": 2,
       "version_minor": 0
      },
      "text/plain": [
       "  0%|          | 0/1 [00:00<?, ?it/s]"
      ]
     },
     "metadata": {},
     "output_type": "display_data"
    },
    {
     "data": {
      "application/vnd.jupyter.widget-view+json": {
       "model_id": "c6b0bdb0e688470b91db8cddbf62bea5",
       "version_major": 2,
       "version_minor": 0
      },
      "text/plain": [
       "  0%|          | 0/1 [00:00<?, ?it/s]"
      ]
     },
     "metadata": {},
     "output_type": "display_data"
    },
    {
     "data": {
      "application/vnd.jupyter.widget-view+json": {
       "model_id": "a27645a436884424bc79778f322acfe8",
       "version_major": 2,
       "version_minor": 0
      },
      "text/plain": [
       "  0%|          | 0/1 [00:00<?, ?it/s]"
      ]
     },
     "metadata": {},
     "output_type": "display_data"
    },
    {
     "data": {
      "application/vnd.jupyter.widget-view+json": {
       "model_id": "1437119ab45f48d1b78ab81577fe852e",
       "version_major": 2,
       "version_minor": 0
      },
      "text/plain": [
       "  0%|          | 0/1 [00:00<?, ?it/s]"
      ]
     },
     "metadata": {},
     "output_type": "display_data"
    },
    {
     "data": {
      "application/vnd.jupyter.widget-view+json": {
       "model_id": "086ef42865954d65aa0d8fe7e549cb8f",
       "version_major": 2,
       "version_minor": 0
      },
      "text/plain": [
       "  0%|          | 0/1 [00:00<?, ?it/s]"
      ]
     },
     "metadata": {},
     "output_type": "display_data"
    },
    {
     "data": {
      "application/vnd.jupyter.widget-view+json": {
       "model_id": "9a734790b7f84122b780355af982c4ce",
       "version_major": 2,
       "version_minor": 0
      },
      "text/plain": [
       "  0%|          | 0/1 [00:00<?, ?it/s]"
      ]
     },
     "metadata": {},
     "output_type": "display_data"
    },
    {
     "data": {
      "application/vnd.jupyter.widget-view+json": {
       "model_id": "fdf79370ffb8467fac553ee4f1e4295d",
       "version_major": 2,
       "version_minor": 0
      },
      "text/plain": [
       "  0%|          | 0/1 [00:00<?, ?it/s]"
      ]
     },
     "metadata": {},
     "output_type": "display_data"
    },
    {
     "data": {
      "application/vnd.jupyter.widget-view+json": {
       "model_id": "991d9395885e4281bb14cae8e232ee6a",
       "version_major": 2,
       "version_minor": 0
      },
      "text/plain": [
       "  0%|          | 0/1 [00:00<?, ?it/s]"
      ]
     },
     "metadata": {},
     "output_type": "display_data"
    },
    {
     "data": {
      "application/vnd.jupyter.widget-view+json": {
       "model_id": "265d1e0bbe4c4424a6dd6726afad3c84",
       "version_major": 2,
       "version_minor": 0
      },
      "text/plain": [
       "  0%|          | 0/1 [00:00<?, ?it/s]"
      ]
     },
     "metadata": {},
     "output_type": "display_data"
    },
    {
     "data": {
      "application/vnd.jupyter.widget-view+json": {
       "model_id": "695346019539455abd43dda73a1bf99d",
       "version_major": 2,
       "version_minor": 0
      },
      "text/plain": [
       "  0%|          | 0/1 [00:00<?, ?it/s]"
      ]
     },
     "metadata": {},
     "output_type": "display_data"
    },
    {
     "data": {
      "application/vnd.jupyter.widget-view+json": {
       "model_id": "db603f2f1c4348b4a85a2df62b245b53",
       "version_major": 2,
       "version_minor": 0
      },
      "text/plain": [
       "  0%|          | 0/1 [00:00<?, ?it/s]"
      ]
     },
     "metadata": {},
     "output_type": "display_data"
    },
    {
     "data": {
      "application/vnd.jupyter.widget-view+json": {
       "model_id": "45651b99b390431abfe72fb62d5e8549",
       "version_major": 2,
       "version_minor": 0
      },
      "text/plain": [
       "  0%|          | 0/1 [00:00<?, ?it/s]"
      ]
     },
     "metadata": {},
     "output_type": "display_data"
    },
    {
     "data": {
      "application/vnd.jupyter.widget-view+json": {
       "model_id": "2bf423a6bd82430ab5ecee9d031d5703",
       "version_major": 2,
       "version_minor": 0
      },
      "text/plain": [
       "  0%|          | 0/1 [00:00<?, ?it/s]"
      ]
     },
     "metadata": {},
     "output_type": "display_data"
    },
    {
     "data": {
      "application/vnd.jupyter.widget-view+json": {
       "model_id": "a6793123bda744af9613736d022e2c27",
       "version_major": 2,
       "version_minor": 0
      },
      "text/plain": [
       "  0%|          | 0/1 [00:00<?, ?it/s]"
      ]
     },
     "metadata": {},
     "output_type": "display_data"
    },
    {
     "data": {
      "application/vnd.jupyter.widget-view+json": {
       "model_id": "272e30e4127348b899494c989eff11cb",
       "version_major": 2,
       "version_minor": 0
      },
      "text/plain": [
       "  0%|          | 0/1 [00:00<?, ?it/s]"
      ]
     },
     "metadata": {},
     "output_type": "display_data"
    },
    {
     "data": {
      "application/vnd.jupyter.widget-view+json": {
       "model_id": "87c1c61167644b34974cbfa1c4bafc14",
       "version_major": 2,
       "version_minor": 0
      },
      "text/plain": [
       "  0%|          | 0/1 [00:00<?, ?it/s]"
      ]
     },
     "metadata": {},
     "output_type": "display_data"
    },
    {
     "data": {
      "application/vnd.jupyter.widget-view+json": {
       "model_id": "1d46ed6e4ded4991bce305ed7678f8c4",
       "version_major": 2,
       "version_minor": 0
      },
      "text/plain": [
       "  0%|          | 0/1 [00:00<?, ?it/s]"
      ]
     },
     "metadata": {},
     "output_type": "display_data"
    },
    {
     "data": {
      "application/vnd.jupyter.widget-view+json": {
       "model_id": "e6c92bd0b57c420cac35cde82e04744e",
       "version_major": 2,
       "version_minor": 0
      },
      "text/plain": [
       "  0%|          | 0/1 [00:00<?, ?it/s]"
      ]
     },
     "metadata": {},
     "output_type": "display_data"
    },
    {
     "data": {
      "application/vnd.jupyter.widget-view+json": {
       "model_id": "c4d231e4e8de467ab4f60638c7586321",
       "version_major": 2,
       "version_minor": 0
      },
      "text/plain": [
       "  0%|          | 0/1 [00:00<?, ?it/s]"
      ]
     },
     "metadata": {},
     "output_type": "display_data"
    },
    {
     "data": {
      "application/vnd.jupyter.widget-view+json": {
       "model_id": "e87ea03956094f318489d2af5a7e425e",
       "version_major": 2,
       "version_minor": 0
      },
      "text/plain": [
       "  0%|          | 0/1 [00:00<?, ?it/s]"
      ]
     },
     "metadata": {},
     "output_type": "display_data"
    },
    {
     "data": {
      "application/vnd.jupyter.widget-view+json": {
       "model_id": "8a2eeb82b89c4ded9cacd21d6e6190fe",
       "version_major": 2,
       "version_minor": 0
      },
      "text/plain": [
       "  0%|          | 0/1 [00:00<?, ?it/s]"
      ]
     },
     "metadata": {},
     "output_type": "display_data"
    },
    {
     "data": {
      "application/vnd.jupyter.widget-view+json": {
       "model_id": "14efe44c48f140eda77463047b9cd99f",
       "version_major": 2,
       "version_minor": 0
      },
      "text/plain": [
       "  0%|          | 0/1 [00:00<?, ?it/s]"
      ]
     },
     "metadata": {},
     "output_type": "display_data"
    },
    {
     "data": {
      "application/vnd.jupyter.widget-view+json": {
       "model_id": "b8dd6cfd1d5642c1b965adc535631f2d",
       "version_major": 2,
       "version_minor": 0
      },
      "text/plain": [
       "  0%|          | 0/1 [00:00<?, ?it/s]"
      ]
     },
     "metadata": {},
     "output_type": "display_data"
    },
    {
     "data": {
      "application/vnd.jupyter.widget-view+json": {
       "model_id": "a23af7d52b024543a54fc517bdf6bdc5",
       "version_major": 2,
       "version_minor": 0
      },
      "text/plain": [
       "  0%|          | 0/1 [00:00<?, ?it/s]"
      ]
     },
     "metadata": {},
     "output_type": "display_data"
    },
    {
     "data": {
      "application/vnd.jupyter.widget-view+json": {
       "model_id": "7afbfb0a463d4a27834180cdfd44d174",
       "version_major": 2,
       "version_minor": 0
      },
      "text/plain": [
       "  0%|          | 0/1 [00:00<?, ?it/s]"
      ]
     },
     "metadata": {},
     "output_type": "display_data"
    },
    {
     "data": {
      "application/vnd.jupyter.widget-view+json": {
       "model_id": "77d505026349462a90ab10375b307028",
       "version_major": 2,
       "version_minor": 0
      },
      "text/plain": [
       "  0%|          | 0/1 [00:00<?, ?it/s]"
      ]
     },
     "metadata": {},
     "output_type": "display_data"
    },
    {
     "data": {
      "application/vnd.jupyter.widget-view+json": {
       "model_id": "94ddf296b63f4e609b285c0e6abfb6bb",
       "version_major": 2,
       "version_minor": 0
      },
      "text/plain": [
       "  0%|          | 0/1 [00:00<?, ?it/s]"
      ]
     },
     "metadata": {},
     "output_type": "display_data"
    },
    {
     "data": {
      "application/vnd.jupyter.widget-view+json": {
       "model_id": "d07a8cc68e6d4909b3b82a3b458630dc",
       "version_major": 2,
       "version_minor": 0
      },
      "text/plain": [
       "  0%|          | 0/1 [00:00<?, ?it/s]"
      ]
     },
     "metadata": {},
     "output_type": "display_data"
    },
    {
     "data": {
      "application/vnd.jupyter.widget-view+json": {
       "model_id": "a1e9b07f9fd64a099ccca8c6cca5d8ec",
       "version_major": 2,
       "version_minor": 0
      },
      "text/plain": [
       "  0%|          | 0/1 [00:00<?, ?it/s]"
      ]
     },
     "metadata": {},
     "output_type": "display_data"
    },
    {
     "data": {
      "application/vnd.jupyter.widget-view+json": {
       "model_id": "43e6cbdd914e41118848dc82c930b65e",
       "version_major": 2,
       "version_minor": 0
      },
      "text/plain": [
       "  0%|          | 0/1 [00:00<?, ?it/s]"
      ]
     },
     "metadata": {},
     "output_type": "display_data"
    },
    {
     "data": {
      "application/vnd.jupyter.widget-view+json": {
       "model_id": "d9b1f72475ff41939871ca0fda3cd66c",
       "version_major": 2,
       "version_minor": 0
      },
      "text/plain": [
       "  0%|          | 0/1 [00:00<?, ?it/s]"
      ]
     },
     "metadata": {},
     "output_type": "display_data"
    },
    {
     "data": {
      "application/vnd.jupyter.widget-view+json": {
       "model_id": "53ca95754c39488b8a8228c6abbe6b81",
       "version_major": 2,
       "version_minor": 0
      },
      "text/plain": [
       "  0%|          | 0/1 [00:00<?, ?it/s]"
      ]
     },
     "metadata": {},
     "output_type": "display_data"
    },
    {
     "data": {
      "application/vnd.jupyter.widget-view+json": {
       "model_id": "d3168a49c582489f88142477806ed3fd",
       "version_major": 2,
       "version_minor": 0
      },
      "text/plain": [
       "  0%|          | 0/1 [00:00<?, ?it/s]"
      ]
     },
     "metadata": {},
     "output_type": "display_data"
    },
    {
     "data": {
      "application/vnd.jupyter.widget-view+json": {
       "model_id": "0cca3db9c5f44c8ea6d1b11c16c30bb5",
       "version_major": 2,
       "version_minor": 0
      },
      "text/plain": [
       "  0%|          | 0/1 [00:00<?, ?it/s]"
      ]
     },
     "metadata": {},
     "output_type": "display_data"
    },
    {
     "data": {
      "application/vnd.jupyter.widget-view+json": {
       "model_id": "5b8124c513d64e92be474c58b096c220",
       "version_major": 2,
       "version_minor": 0
      },
      "text/plain": [
       "  0%|          | 0/1 [00:00<?, ?it/s]"
      ]
     },
     "metadata": {},
     "output_type": "display_data"
    },
    {
     "data": {
      "application/vnd.jupyter.widget-view+json": {
       "model_id": "770e8ea0cc444fa79770de6855434ec3",
       "version_major": 2,
       "version_minor": 0
      },
      "text/plain": [
       "  0%|          | 0/1 [00:00<?, ?it/s]"
      ]
     },
     "metadata": {},
     "output_type": "display_data"
    },
    {
     "data": {
      "application/vnd.jupyter.widget-view+json": {
       "model_id": "5fc6bfe426ba4b2f932d0f27fc424ce9",
       "version_major": 2,
       "version_minor": 0
      },
      "text/plain": [
       "  0%|          | 0/1 [00:00<?, ?it/s]"
      ]
     },
     "metadata": {},
     "output_type": "display_data"
    },
    {
     "data": {
      "application/vnd.jupyter.widget-view+json": {
       "model_id": "8603fdca8dd74e0f8c1a7a912187b5db",
       "version_major": 2,
       "version_minor": 0
      },
      "text/plain": [
       "  0%|          | 0/1 [00:00<?, ?it/s]"
      ]
     },
     "metadata": {},
     "output_type": "display_data"
    },
    {
     "data": {
      "application/vnd.jupyter.widget-view+json": {
       "model_id": "15ee9f8eb2aa46398d3c5556c1a589ed",
       "version_major": 2,
       "version_minor": 0
      },
      "text/plain": [
       "  0%|          | 0/1 [00:00<?, ?it/s]"
      ]
     },
     "metadata": {},
     "output_type": "display_data"
    },
    {
     "data": {
      "application/vnd.jupyter.widget-view+json": {
       "model_id": "cadcc70538004e0eba47d54b2ca5bbc2",
       "version_major": 2,
       "version_minor": 0
      },
      "text/plain": [
       "  0%|          | 0/1 [00:00<?, ?it/s]"
      ]
     },
     "metadata": {},
     "output_type": "display_data"
    },
    {
     "data": {
      "application/vnd.jupyter.widget-view+json": {
       "model_id": "17ed3c081aac4afc9725c7996365489c",
       "version_major": 2,
       "version_minor": 0
      },
      "text/plain": [
       "  0%|          | 0/1 [00:00<?, ?it/s]"
      ]
     },
     "metadata": {},
     "output_type": "display_data"
    },
    {
     "data": {
      "application/vnd.jupyter.widget-view+json": {
       "model_id": "b4ef84a3ef7145108d3e7451a541a3bf",
       "version_major": 2,
       "version_minor": 0
      },
      "text/plain": [
       "  0%|          | 0/1 [00:00<?, ?it/s]"
      ]
     },
     "metadata": {},
     "output_type": "display_data"
    },
    {
     "data": {
      "application/vnd.jupyter.widget-view+json": {
       "model_id": "99eb7ea398f643368e903e2aabff42a2",
       "version_major": 2,
       "version_minor": 0
      },
      "text/plain": [
       "  0%|          | 0/1 [00:00<?, ?it/s]"
      ]
     },
     "metadata": {},
     "output_type": "display_data"
    },
    {
     "data": {
      "application/vnd.jupyter.widget-view+json": {
       "model_id": "59a8aa0582c542b3bea39c9da90af349",
       "version_major": 2,
       "version_minor": 0
      },
      "text/plain": [
       "  0%|          | 0/1 [00:00<?, ?it/s]"
      ]
     },
     "metadata": {},
     "output_type": "display_data"
    },
    {
     "data": {
      "application/vnd.jupyter.widget-view+json": {
       "model_id": "eba6d0c2b02d4d328b2db175b7193e1d",
       "version_major": 2,
       "version_minor": 0
      },
      "text/plain": [
       "  0%|          | 0/1 [00:00<?, ?it/s]"
      ]
     },
     "metadata": {},
     "output_type": "display_data"
    }
   ],
   "source": [
    "print(len(gn_link_code_ls))\n",
    "count = 0\n",
    "for symbol_url, name in gn_link_code_ls:\n",
    "    try:\n",
    "        r = requests.get(symbol_url, headers=headers)\n",
    "        soup_today = BeautifulSoup(r.text, features=\"lxml\")\n",
    "        symbol_code = soup_today.find(name=\"div\", attrs={\"class\": \"board-hq\"}).find(\"span\").text\n",
    "        big_df = pd.DataFrame()\n",
    "        temp_start_year = start_year\n",
    "        if os.path.exists(f\"./data/{symbol_code}.csv\"):\n",
    "            big_df = pd.read_csv(f\"./data/{symbol_code}.csv\",  encoding=\"utf-8\")\n",
    "            if not big_df.empty:\n",
    "                big_df.iloc[:, 0] = pd.to_datetime(big_df.iloc[:, 0], errors=\"coerce\").dt.date\n",
    "                if big_df.iloc[-1, 0] >= recent_trade_date:\n",
    "                    bk_data_ls.append((name, symbol_code, big_df))\n",
    "                    code_ls.append(symbol_code)\n",
    "                    continue\n",
    "                elif big_df.iloc[-1, 0].year >= int(temp_start_year):\n",
    "                    temp_start_year = str(big_df.iloc[-1, 0].year)\n",
    "                    year_mask = big_df.iloc[:,0].apply(lambda x: x.year)  ==  int(temp_start_year) \n",
    "                    if year_mask.any():\n",
    "                        first_index = year_mask.idxmax()\n",
    "                    else:\n",
    "                        first_index = None\n",
    "                    if first_index is not None:\n",
    "                        big_df = big_df.iloc[:first_index]\n",
    "                elif (big_df.iloc[-1, 0] == lastday):\n",
    "                    dd_texts = [dd.text for dd in soup_today.find_all(\"dd\")] \n",
    "                    close = soup_today.select_one('span.board-xj.arr-rise,  span.board-xj.arr-fall').text\n",
    "                    open, low, high, volume, amount = dd_texts[0], dd_texts[2], dd_texts[3], dd_texts[4], dd_texts[9]\n",
    "                    new_list = [\n",
    "                        recent_trade_date,\n",
    "                        float(open),\n",
    "                        float(high),\n",
    "                        float(low),\n",
    "                        float(close),\n",
    "                        float(volume.replace(\",\", \"\")),\n",
    "                        float(amount.replace(\",\", \"\")),\n",
    "                    ]\n",
    "                    new_row = pd.DataFrame([new_list], columns=big_df.columns) \n",
    "                    big_df = pd.concat([big_df,  new_row], ignore_index=True)\n",
    "                    bk_data_ls.append((name, symbol_code, big_df))\n",
    "                    code_ls.append(symbol_code)\n",
    "                    big_df.to_csv(f\"./data/{symbol_code}.csv\", index=False, encoding='utf-8-sig')\n",
    "                    continue\n",
    "        \n",
    "        headers_d = {\n",
    "            \"User-Agent\": \"Mozilla/5.0 (Windows NT 10.0; Win64; x64) AppleWebKit/537.36 (KHTML, like Gecko) \"\n",
    "            \"Chrome/89.0.4389.90 Safari/537.36\",\n",
    "            \"Referer\": symbol_url,\n",
    "            \"Host\": \"d.10jqka.com.cn\"\n",
    "        }\n",
    "        time.sleep(1)\n",
    "        for year in tqdm(range(int(temp_start_year), current_year + 1), leave=False):\n",
    "            url = f\"http://d.10jqka.com.cn/v4/line/bk_{symbol_code}/01/{year}.js\"\n",
    "            r = requests.get(url, headers=headers_d)\n",
    "            data_text = r.text\n",
    "            if r.status_code != 200:\n",
    "                print(\"not 200!\", r.status_code, symbol_url, url)\n",
    "                continue\n",
    "            try:\n",
    "                temp_df = demjson.decode(data_text[data_text.find(\"{\") : -1])\n",
    "                temp_df = pd.DataFrame(temp_df[\"data\"].split(\";\"))\n",
    "                temp_df = temp_df.iloc[:, 0].str.split(\",\", expand=True).iloc[:,  :7]\n",
    "                big_df = pd.concat(objs=[big_df, temp_df], ignore_index=True)\n",
    "            except Exception as e:  # noqa: E722\n",
    "                print(e, \"decode fail:\",count,\"  \", url, \"text as:\", data_text)\n",
    "                break\n",
    "        big_df.columns  = [\"date\", \"open\", \"high\", \"low\", \"close\", \"volume\", \"amount\"]\n",
    "        big_df[\"date\"] = pd.to_datetime(big_df[\"date\"], errors=\"coerce\").dt.date\n",
    "        big_df[\"open\"] = pd.to_numeric(big_df[\"open\"], errors=\"coerce\")\n",
    "        big_df[\"high\"] = pd.to_numeric(big_df[\"high\"], errors=\"coerce\")\n",
    "        big_df[\"low\"] = pd.to_numeric(big_df[\"low\"], errors=\"coerce\")\n",
    "        big_df[\"close\"] = pd.to_numeric(big_df[\"close\"], errors=\"coerce\")\n",
    "        big_df[\"volume\"] = pd.to_numeric(big_df[\"volume\"], errors=\"coerce\")\n",
    "        big_df[\"amount\"] = pd.to_numeric(big_df[\"amount\"], errors=\"coerce\")\n",
    "        \n",
    "        if big_df.iloc[-1].isna().any(): \n",
    "            big_df = big_df.iloc[:-1]\n",
    "\n",
    "        if big_df[\"date\"].iloc[-1] == lastday:\n",
    "            dd_texts = [dd.text for dd in soup_today.find_all(\"dd\")] \n",
    "            close = soup_today.select_one('span.board-xj.arr-rise,  span.board-xj.arr-fall').text\n",
    "            open, low, high, volume, amount = dd_texts[0], dd_texts[2], dd_texts[3], dd_texts[4], dd_texts[9]\n",
    "            new_list = [\n",
    "                recent_trade_date,\n",
    "                float(open),\n",
    "                float(high),\n",
    "                float(low),\n",
    "                float(close),\n",
    "                float(volume.replace(\",\", \"\")),\n",
    "                float(amount.replace(\",\", \"\")),\n",
    "            ]\n",
    "            new_row = pd.DataFrame([new_list], columns=big_df.columns) \n",
    "            big_df = pd.concat([big_df,  new_row], ignore_index=True)\n",
    "        bk_data_ls.append((name, symbol_code, big_df))\n",
    "        code_ls.append(symbol_code)\n",
    "        big_df.to_csv(f\"./data/{symbol_code}.csv\", index=False, encoding='utf-8-sig')\n",
    "        count+=1\n",
    "    except Exception as e:\n",
    "        print(e, \" wrong data:\",count,\"  \", f\"https://d.10jqka.com.cn/v4/line/bk_{symbol_code}/01/{year}.js\", symbol_url, big_df.tail())\n",
    "        break\n"
   ]
  },
  {
   "cell_type": "code",
   "execution_count": 22,
   "id": "fe3a45fd",
   "metadata": {},
   "outputs": [],
   "source": [
    "# # http://q.10jqka.com.cn/thshy/detail/code/881138/\n",
    "# headers = {\n",
    "#         \"User-Agent\": \"Mozilla/5.0 (Windows NT 10.0; Win64; x64) AppleWebKit/537.36 (KHTML, like Gecko) \"\n",
    "#         \"Chrome/89.0.4389.90 Safari/537.36\",\n",
    "#         # \"Cookie\": f\"v={v_code}\",\n",
    "#     }\n",
    "# headers_bk = {\n",
    "#             \"User-Agent\": \"Mozilla/5.0 (Windows NT 10.0; Win64; x64) AppleWebKit/537.36 (KHTML, like Gecko) \"\n",
    "#             \"Chrome/89.0.4389.90 Safari/537.36\",\n",
    "#             \"Referer\": \"https://q.10jqka.com.cn\",\n",
    "#             \"Host\": \"d.10jqka.com.cn\",\n",
    "#             # \"Cookie\": f\"v={v_code}\",\n",
    "#         }\n",
    "# url =  \"https://d.10jqka.com.cn/v4/line/bk_885829/01/2025.js\"\n",
    "# symbol_url = \"https://q.10jqka.com.cn/gn/detail/code/301252/\"\n",
    "# print(symbol_url)\n",
    "# r = requests.get(symbol_url, headers=headers)\n",
    "# print(r.status_code)\n",
    "# for name, symbol_code, big_df in bk_data_ls:\n",
    "#     print(symbol_code, big_df.shape)"
   ]
  },
  {
   "cell_type": "code",
   "execution_count": 23,
   "id": "948c7835",
   "metadata": {},
   "outputs": [
    {
     "name": "stdout",
     "output_type": "stream",
     "text": [
      "90\n"
     ]
    },
    {
     "data": {
      "application/vnd.jupyter.widget-view+json": {
       "model_id": "23a3604e19df48c9bdc031650663c510",
       "version_major": 2,
       "version_minor": 0
      },
      "text/plain": [
       "  0%|          | 0/1 [00:00<?, ?it/s]"
      ]
     },
     "metadata": {},
     "output_type": "display_data"
    },
    {
     "data": {
      "application/vnd.jupyter.widget-view+json": {
       "model_id": "09bef581ebaa45a3bdd9562c167d4b35",
       "version_major": 2,
       "version_minor": 0
      },
      "text/plain": [
       "  0%|          | 0/1 [00:00<?, ?it/s]"
      ]
     },
     "metadata": {},
     "output_type": "display_data"
    },
    {
     "data": {
      "application/vnd.jupyter.widget-view+json": {
       "model_id": "708451582b7c407396311332dbd22c1e",
       "version_major": 2,
       "version_minor": 0
      },
      "text/plain": [
       "  0%|          | 0/1 [00:00<?, ?it/s]"
      ]
     },
     "metadata": {},
     "output_type": "display_data"
    },
    {
     "data": {
      "application/vnd.jupyter.widget-view+json": {
       "model_id": "f5be85d7818c41bfadf913642519437d",
       "version_major": 2,
       "version_minor": 0
      },
      "text/plain": [
       "  0%|          | 0/1 [00:00<?, ?it/s]"
      ]
     },
     "metadata": {},
     "output_type": "display_data"
    },
    {
     "data": {
      "application/vnd.jupyter.widget-view+json": {
       "model_id": "25baa86a6f4d42899a6d4fba18fe118a",
       "version_major": 2,
       "version_minor": 0
      },
      "text/plain": [
       "  0%|          | 0/1 [00:00<?, ?it/s]"
      ]
     },
     "metadata": {},
     "output_type": "display_data"
    },
    {
     "data": {
      "application/vnd.jupyter.widget-view+json": {
       "model_id": "9ce2e48523d84e68b1f05245ee75446e",
       "version_major": 2,
       "version_minor": 0
      },
      "text/plain": [
       "  0%|          | 0/1 [00:00<?, ?it/s]"
      ]
     },
     "metadata": {},
     "output_type": "display_data"
    },
    {
     "data": {
      "application/vnd.jupyter.widget-view+json": {
       "model_id": "ba1974a3b2f24651a242e561f9a6827f",
       "version_major": 2,
       "version_minor": 0
      },
      "text/plain": [
       "  0%|          | 0/1 [00:00<?, ?it/s]"
      ]
     },
     "metadata": {},
     "output_type": "display_data"
    },
    {
     "data": {
      "application/vnd.jupyter.widget-view+json": {
       "model_id": "94ff41c0d8e842ef9bb9f467a00a58ef",
       "version_major": 2,
       "version_minor": 0
      },
      "text/plain": [
       "  0%|          | 0/1 [00:00<?, ?it/s]"
      ]
     },
     "metadata": {},
     "output_type": "display_data"
    },
    {
     "data": {
      "application/vnd.jupyter.widget-view+json": {
       "model_id": "548398ceb2f8412fa46e6dba8180240c",
       "version_major": 2,
       "version_minor": 0
      },
      "text/plain": [
       "  0%|          | 0/1 [00:00<?, ?it/s]"
      ]
     },
     "metadata": {},
     "output_type": "display_data"
    },
    {
     "data": {
      "application/vnd.jupyter.widget-view+json": {
       "model_id": "99b7b70f7a134342a6ba7308b79eb1eb",
       "version_major": 2,
       "version_minor": 0
      },
      "text/plain": [
       "  0%|          | 0/1 [00:00<?, ?it/s]"
      ]
     },
     "metadata": {},
     "output_type": "display_data"
    },
    {
     "data": {
      "application/vnd.jupyter.widget-view+json": {
       "model_id": "a301d8f2451c434a8707dfcb8e17fcb7",
       "version_major": 2,
       "version_minor": 0
      },
      "text/plain": [
       "  0%|          | 0/1 [00:00<?, ?it/s]"
      ]
     },
     "metadata": {},
     "output_type": "display_data"
    },
    {
     "data": {
      "application/vnd.jupyter.widget-view+json": {
       "model_id": "1f73396b454041e6ae05a770d2b8727e",
       "version_major": 2,
       "version_minor": 0
      },
      "text/plain": [
       "  0%|          | 0/1 [00:00<?, ?it/s]"
      ]
     },
     "metadata": {},
     "output_type": "display_data"
    },
    {
     "data": {
      "application/vnd.jupyter.widget-view+json": {
       "model_id": "98ac54fd7fa64fe9859adccde8b47b21",
       "version_major": 2,
       "version_minor": 0
      },
      "text/plain": [
       "  0%|          | 0/1 [00:00<?, ?it/s]"
      ]
     },
     "metadata": {},
     "output_type": "display_data"
    },
    {
     "data": {
      "application/vnd.jupyter.widget-view+json": {
       "model_id": "1025ec8ab3ef4f66aef29caed8f18631",
       "version_major": 2,
       "version_minor": 0
      },
      "text/plain": [
       "  0%|          | 0/1 [00:00<?, ?it/s]"
      ]
     },
     "metadata": {},
     "output_type": "display_data"
    },
    {
     "data": {
      "application/vnd.jupyter.widget-view+json": {
       "model_id": "d0cea6da5004449cab4cde15227ef66b",
       "version_major": 2,
       "version_minor": 0
      },
      "text/plain": [
       "  0%|          | 0/1 [00:00<?, ?it/s]"
      ]
     },
     "metadata": {},
     "output_type": "display_data"
    },
    {
     "data": {
      "application/vnd.jupyter.widget-view+json": {
       "model_id": "00c1d54d827c4cb4899f1b8d5bd04e5b",
       "version_major": 2,
       "version_minor": 0
      },
      "text/plain": [
       "  0%|          | 0/1 [00:00<?, ?it/s]"
      ]
     },
     "metadata": {},
     "output_type": "display_data"
    },
    {
     "data": {
      "application/vnd.jupyter.widget-view+json": {
       "model_id": "2690f6518c75469d9ddf8cab31da886e",
       "version_major": 2,
       "version_minor": 0
      },
      "text/plain": [
       "  0%|          | 0/1 [00:00<?, ?it/s]"
      ]
     },
     "metadata": {},
     "output_type": "display_data"
    },
    {
     "data": {
      "application/vnd.jupyter.widget-view+json": {
       "model_id": "6869bb9a787b44e190662a125b1332a7",
       "version_major": 2,
       "version_minor": 0
      },
      "text/plain": [
       "  0%|          | 0/1 [00:00<?, ?it/s]"
      ]
     },
     "metadata": {},
     "output_type": "display_data"
    },
    {
     "data": {
      "application/vnd.jupyter.widget-view+json": {
       "model_id": "7d1b462a7c5c472e8ddb4d2849ec2790",
       "version_major": 2,
       "version_minor": 0
      },
      "text/plain": [
       "  0%|          | 0/1 [00:00<?, ?it/s]"
      ]
     },
     "metadata": {},
     "output_type": "display_data"
    },
    {
     "data": {
      "application/vnd.jupyter.widget-view+json": {
       "model_id": "6cf503ae5e184b8fb6e601128636dd4b",
       "version_major": 2,
       "version_minor": 0
      },
      "text/plain": [
       "  0%|          | 0/1 [00:00<?, ?it/s]"
      ]
     },
     "metadata": {},
     "output_type": "display_data"
    },
    {
     "data": {
      "application/vnd.jupyter.widget-view+json": {
       "model_id": "6b978ceab2dd462388fb2a668b0c8107",
       "version_major": 2,
       "version_minor": 0
      },
      "text/plain": [
       "  0%|          | 0/1 [00:00<?, ?it/s]"
      ]
     },
     "metadata": {},
     "output_type": "display_data"
    },
    {
     "data": {
      "application/vnd.jupyter.widget-view+json": {
       "model_id": "4ef2dd57a12a4953a398abb74a1dc08d",
       "version_major": 2,
       "version_minor": 0
      },
      "text/plain": [
       "  0%|          | 0/1 [00:00<?, ?it/s]"
      ]
     },
     "metadata": {},
     "output_type": "display_data"
    },
    {
     "data": {
      "application/vnd.jupyter.widget-view+json": {
       "model_id": "54d675ff087c443081e54966fec6b953",
       "version_major": 2,
       "version_minor": 0
      },
      "text/plain": [
       "  0%|          | 0/1 [00:00<?, ?it/s]"
      ]
     },
     "metadata": {},
     "output_type": "display_data"
    },
    {
     "data": {
      "application/vnd.jupyter.widget-view+json": {
       "model_id": "1aaa1e9f9582406ca3cca3a9f667c903",
       "version_major": 2,
       "version_minor": 0
      },
      "text/plain": [
       "  0%|          | 0/1 [00:00<?, ?it/s]"
      ]
     },
     "metadata": {},
     "output_type": "display_data"
    },
    {
     "data": {
      "application/vnd.jupyter.widget-view+json": {
       "model_id": "4503ee39e6204737aa3c8fe79307f1c3",
       "version_major": 2,
       "version_minor": 0
      },
      "text/plain": [
       "  0%|          | 0/1 [00:00<?, ?it/s]"
      ]
     },
     "metadata": {},
     "output_type": "display_data"
    },
    {
     "data": {
      "application/vnd.jupyter.widget-view+json": {
       "model_id": "1f354cc990144de2974f918c65568b83",
       "version_major": 2,
       "version_minor": 0
      },
      "text/plain": [
       "  0%|          | 0/1 [00:00<?, ?it/s]"
      ]
     },
     "metadata": {},
     "output_type": "display_data"
    },
    {
     "data": {
      "application/vnd.jupyter.widget-view+json": {
       "model_id": "c46d449a074a4c6bb1cc9982963d4fc2",
       "version_major": 2,
       "version_minor": 0
      },
      "text/plain": [
       "  0%|          | 0/1 [00:00<?, ?it/s]"
      ]
     },
     "metadata": {},
     "output_type": "display_data"
    },
    {
     "data": {
      "application/vnd.jupyter.widget-view+json": {
       "model_id": "8e5c3e344217409faacc90c689b235ef",
       "version_major": 2,
       "version_minor": 0
      },
      "text/plain": [
       "  0%|          | 0/1 [00:00<?, ?it/s]"
      ]
     },
     "metadata": {},
     "output_type": "display_data"
    },
    {
     "data": {
      "application/vnd.jupyter.widget-view+json": {
       "model_id": "6bb17b731ce541a6a5e89704987b0547",
       "version_major": 2,
       "version_minor": 0
      },
      "text/plain": [
       "  0%|          | 0/1 [00:00<?, ?it/s]"
      ]
     },
     "metadata": {},
     "output_type": "display_data"
    },
    {
     "data": {
      "application/vnd.jupyter.widget-view+json": {
       "model_id": "52ae6ffb689b432c9202a945aad3d208",
       "version_major": 2,
       "version_minor": 0
      },
      "text/plain": [
       "  0%|          | 0/1 [00:00<?, ?it/s]"
      ]
     },
     "metadata": {},
     "output_type": "display_data"
    },
    {
     "data": {
      "application/vnd.jupyter.widget-view+json": {
       "model_id": "83679c94bc3c4e23a0de2f0a07f3ddd4",
       "version_major": 2,
       "version_minor": 0
      },
      "text/plain": [
       "  0%|          | 0/1 [00:00<?, ?it/s]"
      ]
     },
     "metadata": {},
     "output_type": "display_data"
    },
    {
     "data": {
      "application/vnd.jupyter.widget-view+json": {
       "model_id": "b969914a577a4e4d965d6ce8fd367ed3",
       "version_major": 2,
       "version_minor": 0
      },
      "text/plain": [
       "  0%|          | 0/1 [00:00<?, ?it/s]"
      ]
     },
     "metadata": {},
     "output_type": "display_data"
    },
    {
     "data": {
      "application/vnd.jupyter.widget-view+json": {
       "model_id": "8fce05034006457ab8c8f1246477715a",
       "version_major": 2,
       "version_minor": 0
      },
      "text/plain": [
       "  0%|          | 0/1 [00:00<?, ?it/s]"
      ]
     },
     "metadata": {},
     "output_type": "display_data"
    },
    {
     "data": {
      "application/vnd.jupyter.widget-view+json": {
       "model_id": "802c8d3464094fb78cd7c5de215f9b84",
       "version_major": 2,
       "version_minor": 0
      },
      "text/plain": [
       "  0%|          | 0/1 [00:00<?, ?it/s]"
      ]
     },
     "metadata": {},
     "output_type": "display_data"
    },
    {
     "data": {
      "application/vnd.jupyter.widget-view+json": {
       "model_id": "03715f307fc74d679b9c2a405a4caa06",
       "version_major": 2,
       "version_minor": 0
      },
      "text/plain": [
       "  0%|          | 0/1 [00:00<?, ?it/s]"
      ]
     },
     "metadata": {},
     "output_type": "display_data"
    },
    {
     "data": {
      "application/vnd.jupyter.widget-view+json": {
       "model_id": "d8bbc18b83284513bef7ed081572e30b",
       "version_major": 2,
       "version_minor": 0
      },
      "text/plain": [
       "  0%|          | 0/1 [00:00<?, ?it/s]"
      ]
     },
     "metadata": {},
     "output_type": "display_data"
    },
    {
     "data": {
      "application/vnd.jupyter.widget-view+json": {
       "model_id": "361cf64d806649cab8d9b2c8a3280076",
       "version_major": 2,
       "version_minor": 0
      },
      "text/plain": [
       "  0%|          | 0/1 [00:00<?, ?it/s]"
      ]
     },
     "metadata": {},
     "output_type": "display_data"
    },
    {
     "data": {
      "application/vnd.jupyter.widget-view+json": {
       "model_id": "2035e021fbfd4fc7b0607bd1e255006b",
       "version_major": 2,
       "version_minor": 0
      },
      "text/plain": [
       "  0%|          | 0/1 [00:00<?, ?it/s]"
      ]
     },
     "metadata": {},
     "output_type": "display_data"
    },
    {
     "data": {
      "application/vnd.jupyter.widget-view+json": {
       "model_id": "9623a61eddbf42579b6deaa8b95dc744",
       "version_major": 2,
       "version_minor": 0
      },
      "text/plain": [
       "  0%|          | 0/1 [00:00<?, ?it/s]"
      ]
     },
     "metadata": {},
     "output_type": "display_data"
    },
    {
     "data": {
      "application/vnd.jupyter.widget-view+json": {
       "model_id": "db1f80a4c93a4e93a89b4e5e228dcff3",
       "version_major": 2,
       "version_minor": 0
      },
      "text/plain": [
       "  0%|          | 0/1 [00:00<?, ?it/s]"
      ]
     },
     "metadata": {},
     "output_type": "display_data"
    },
    {
     "data": {
      "application/vnd.jupyter.widget-view+json": {
       "model_id": "e68f2363742d41f9968d79db88575d80",
       "version_major": 2,
       "version_minor": 0
      },
      "text/plain": [
       "  0%|          | 0/1 [00:00<?, ?it/s]"
      ]
     },
     "metadata": {},
     "output_type": "display_data"
    },
    {
     "data": {
      "application/vnd.jupyter.widget-view+json": {
       "model_id": "ca1b37446c704997bc1fac0dc363d3b0",
       "version_major": 2,
       "version_minor": 0
      },
      "text/plain": [
       "  0%|          | 0/1 [00:00<?, ?it/s]"
      ]
     },
     "metadata": {},
     "output_type": "display_data"
    },
    {
     "data": {
      "application/vnd.jupyter.widget-view+json": {
       "model_id": "26b191557243407390b726a28ed98d76",
       "version_major": 2,
       "version_minor": 0
      },
      "text/plain": [
       "  0%|          | 0/1 [00:00<?, ?it/s]"
      ]
     },
     "metadata": {},
     "output_type": "display_data"
    },
    {
     "data": {
      "application/vnd.jupyter.widget-view+json": {
       "model_id": "7af60aa047de4f4db2860936067603ae",
       "version_major": 2,
       "version_minor": 0
      },
      "text/plain": [
       "  0%|          | 0/1 [00:00<?, ?it/s]"
      ]
     },
     "metadata": {},
     "output_type": "display_data"
    },
    {
     "data": {
      "application/vnd.jupyter.widget-view+json": {
       "model_id": "e21200c3ceb3419f976cc8f5a032701e",
       "version_major": 2,
       "version_minor": 0
      },
      "text/plain": [
       "  0%|          | 0/1 [00:00<?, ?it/s]"
      ]
     },
     "metadata": {},
     "output_type": "display_data"
    },
    {
     "data": {
      "application/vnd.jupyter.widget-view+json": {
       "model_id": "652c1c31261b4208b11eaf3571f1f2db",
       "version_major": 2,
       "version_minor": 0
      },
      "text/plain": [
       "  0%|          | 0/1 [00:00<?, ?it/s]"
      ]
     },
     "metadata": {},
     "output_type": "display_data"
    },
    {
     "data": {
      "application/vnd.jupyter.widget-view+json": {
       "model_id": "58bf1820b07d4489afeb68dfacd37c67",
       "version_major": 2,
       "version_minor": 0
      },
      "text/plain": [
       "  0%|          | 0/1 [00:00<?, ?it/s]"
      ]
     },
     "metadata": {},
     "output_type": "display_data"
    },
    {
     "data": {
      "application/vnd.jupyter.widget-view+json": {
       "model_id": "b8e064bb20ae4c5098d0312ee59e830f",
       "version_major": 2,
       "version_minor": 0
      },
      "text/plain": [
       "  0%|          | 0/1 [00:00<?, ?it/s]"
      ]
     },
     "metadata": {},
     "output_type": "display_data"
    },
    {
     "data": {
      "application/vnd.jupyter.widget-view+json": {
       "model_id": "363898d3f623405aa49447f2108cdff0",
       "version_major": 2,
       "version_minor": 0
      },
      "text/plain": [
       "  0%|          | 0/1 [00:00<?, ?it/s]"
      ]
     },
     "metadata": {},
     "output_type": "display_data"
    },
    {
     "data": {
      "application/vnd.jupyter.widget-view+json": {
       "model_id": "bda11cfe977147d49950e392901cdf48",
       "version_major": 2,
       "version_minor": 0
      },
      "text/plain": [
       "  0%|          | 0/1 [00:00<?, ?it/s]"
      ]
     },
     "metadata": {},
     "output_type": "display_data"
    },
    {
     "data": {
      "application/vnd.jupyter.widget-view+json": {
       "model_id": "4deba82e73374a4f8a88bf521f21af52",
       "version_major": 2,
       "version_minor": 0
      },
      "text/plain": [
       "  0%|          | 0/1 [00:00<?, ?it/s]"
      ]
     },
     "metadata": {},
     "output_type": "display_data"
    },
    {
     "data": {
      "application/vnd.jupyter.widget-view+json": {
       "model_id": "e36b4ffeabc94a1e8e6f105ac33dc826",
       "version_major": 2,
       "version_minor": 0
      },
      "text/plain": [
       "  0%|          | 0/1 [00:00<?, ?it/s]"
      ]
     },
     "metadata": {},
     "output_type": "display_data"
    },
    {
     "data": {
      "application/vnd.jupyter.widget-view+json": {
       "model_id": "6af7628ff5864915814b80c7a70cd26f",
       "version_major": 2,
       "version_minor": 0
      },
      "text/plain": [
       "  0%|          | 0/1 [00:00<?, ?it/s]"
      ]
     },
     "metadata": {},
     "output_type": "display_data"
    },
    {
     "data": {
      "application/vnd.jupyter.widget-view+json": {
       "model_id": "63ffcb97c14b45518d4197ecfa8f8989",
       "version_major": 2,
       "version_minor": 0
      },
      "text/plain": [
       "  0%|          | 0/1 [00:00<?, ?it/s]"
      ]
     },
     "metadata": {},
     "output_type": "display_data"
    },
    {
     "data": {
      "application/vnd.jupyter.widget-view+json": {
       "model_id": "73c2fedca6ba44eaaacec4c04fa600e4",
       "version_major": 2,
       "version_minor": 0
      },
      "text/plain": [
       "  0%|          | 0/1 [00:00<?, ?it/s]"
      ]
     },
     "metadata": {},
     "output_type": "display_data"
    },
    {
     "data": {
      "application/vnd.jupyter.widget-view+json": {
       "model_id": "a35eab8044f34aaf8a43b450e7521767",
       "version_major": 2,
       "version_minor": 0
      },
      "text/plain": [
       "  0%|          | 0/1 [00:00<?, ?it/s]"
      ]
     },
     "metadata": {},
     "output_type": "display_data"
    },
    {
     "data": {
      "application/vnd.jupyter.widget-view+json": {
       "model_id": "96fb30c47a224831a4e7d464c5ab7af0",
       "version_major": 2,
       "version_minor": 0
      },
      "text/plain": [
       "  0%|          | 0/1 [00:00<?, ?it/s]"
      ]
     },
     "metadata": {},
     "output_type": "display_data"
    },
    {
     "data": {
      "application/vnd.jupyter.widget-view+json": {
       "model_id": "d88fe855ce1e4aabb25707a65e2c39bb",
       "version_major": 2,
       "version_minor": 0
      },
      "text/plain": [
       "  0%|          | 0/1 [00:00<?, ?it/s]"
      ]
     },
     "metadata": {},
     "output_type": "display_data"
    },
    {
     "data": {
      "application/vnd.jupyter.widget-view+json": {
       "model_id": "9ac35d6491e049109c4edef8d866ef13",
       "version_major": 2,
       "version_minor": 0
      },
      "text/plain": [
       "  0%|          | 0/1 [00:00<?, ?it/s]"
      ]
     },
     "metadata": {},
     "output_type": "display_data"
    },
    {
     "data": {
      "application/vnd.jupyter.widget-view+json": {
       "model_id": "5e651ec6944548e393da9750a625100e",
       "version_major": 2,
       "version_minor": 0
      },
      "text/plain": [
       "  0%|          | 0/1 [00:00<?, ?it/s]"
      ]
     },
     "metadata": {},
     "output_type": "display_data"
    },
    {
     "data": {
      "application/vnd.jupyter.widget-view+json": {
       "model_id": "9341bd2aba214249b432ea9ad9e9898b",
       "version_major": 2,
       "version_minor": 0
      },
      "text/plain": [
       "  0%|          | 0/1 [00:00<?, ?it/s]"
      ]
     },
     "metadata": {},
     "output_type": "display_data"
    },
    {
     "data": {
      "application/vnd.jupyter.widget-view+json": {
       "model_id": "200b19628c6a4cffa64a78b142871ba3",
       "version_major": 2,
       "version_minor": 0
      },
      "text/plain": [
       "  0%|          | 0/1 [00:00<?, ?it/s]"
      ]
     },
     "metadata": {},
     "output_type": "display_data"
    },
    {
     "data": {
      "application/vnd.jupyter.widget-view+json": {
       "model_id": "d480355518c940d3a32777a091b14039",
       "version_major": 2,
       "version_minor": 0
      },
      "text/plain": [
       "  0%|          | 0/1 [00:00<?, ?it/s]"
      ]
     },
     "metadata": {},
     "output_type": "display_data"
    },
    {
     "data": {
      "application/vnd.jupyter.widget-view+json": {
       "model_id": "652ff56f29024eb6a2c905fb2daedc47",
       "version_major": 2,
       "version_minor": 0
      },
      "text/plain": [
       "  0%|          | 0/1 [00:00<?, ?it/s]"
      ]
     },
     "metadata": {},
     "output_type": "display_data"
    },
    {
     "data": {
      "application/vnd.jupyter.widget-view+json": {
       "model_id": "23f223d98df6429bbd096c7d35bf11e6",
       "version_major": 2,
       "version_minor": 0
      },
      "text/plain": [
       "  0%|          | 0/1 [00:00<?, ?it/s]"
      ]
     },
     "metadata": {},
     "output_type": "display_data"
    },
    {
     "data": {
      "application/vnd.jupyter.widget-view+json": {
       "model_id": "075cf60beb3e43f9b65cef3ba77e44e6",
       "version_major": 2,
       "version_minor": 0
      },
      "text/plain": [
       "  0%|          | 0/1 [00:00<?, ?it/s]"
      ]
     },
     "metadata": {},
     "output_type": "display_data"
    },
    {
     "data": {
      "application/vnd.jupyter.widget-view+json": {
       "model_id": "52544932bf884a7abc0b3dcd7c2d5d92",
       "version_major": 2,
       "version_minor": 0
      },
      "text/plain": [
       "  0%|          | 0/1 [00:00<?, ?it/s]"
      ]
     },
     "metadata": {},
     "output_type": "display_data"
    },
    {
     "data": {
      "application/vnd.jupyter.widget-view+json": {
       "model_id": "29ed3035d96f4a39b86095d879b56af5",
       "version_major": 2,
       "version_minor": 0
      },
      "text/plain": [
       "  0%|          | 0/1 [00:00<?, ?it/s]"
      ]
     },
     "metadata": {},
     "output_type": "display_data"
    },
    {
     "data": {
      "application/vnd.jupyter.widget-view+json": {
       "model_id": "29023be1eaf046d19f44ea02f8411b4d",
       "version_major": 2,
       "version_minor": 0
      },
      "text/plain": [
       "  0%|          | 0/1 [00:00<?, ?it/s]"
      ]
     },
     "metadata": {},
     "output_type": "display_data"
    },
    {
     "data": {
      "application/vnd.jupyter.widget-view+json": {
       "model_id": "365b17979bd346179307f8b4139a1584",
       "version_major": 2,
       "version_minor": 0
      },
      "text/plain": [
       "  0%|          | 0/1 [00:00<?, ?it/s]"
      ]
     },
     "metadata": {},
     "output_type": "display_data"
    },
    {
     "data": {
      "application/vnd.jupyter.widget-view+json": {
       "model_id": "abf21d1a1ee04fca98ce7630d0dcc755",
       "version_major": 2,
       "version_minor": 0
      },
      "text/plain": [
       "  0%|          | 0/1 [00:00<?, ?it/s]"
      ]
     },
     "metadata": {},
     "output_type": "display_data"
    },
    {
     "data": {
      "application/vnd.jupyter.widget-view+json": {
       "model_id": "19632c0934ae464397b4725bb55a9b23",
       "version_major": 2,
       "version_minor": 0
      },
      "text/plain": [
       "  0%|          | 0/1 [00:00<?, ?it/s]"
      ]
     },
     "metadata": {},
     "output_type": "display_data"
    },
    {
     "data": {
      "application/vnd.jupyter.widget-view+json": {
       "model_id": "831a53a23c0747648cb9d81fc8f55f1d",
       "version_major": 2,
       "version_minor": 0
      },
      "text/plain": [
       "  0%|          | 0/1 [00:00<?, ?it/s]"
      ]
     },
     "metadata": {},
     "output_type": "display_data"
    },
    {
     "data": {
      "application/vnd.jupyter.widget-view+json": {
       "model_id": "1be84eed28074ade95e8ef457517b23c",
       "version_major": 2,
       "version_minor": 0
      },
      "text/plain": [
       "  0%|          | 0/1 [00:00<?, ?it/s]"
      ]
     },
     "metadata": {},
     "output_type": "display_data"
    },
    {
     "data": {
      "application/vnd.jupyter.widget-view+json": {
       "model_id": "1bd7a680abb0454e8ca115a3980523f1",
       "version_major": 2,
       "version_minor": 0
      },
      "text/plain": [
       "  0%|          | 0/1 [00:00<?, ?it/s]"
      ]
     },
     "metadata": {},
     "output_type": "display_data"
    },
    {
     "data": {
      "application/vnd.jupyter.widget-view+json": {
       "model_id": "5fabb0ac8bb249c6acf696092d98afe0",
       "version_major": 2,
       "version_minor": 0
      },
      "text/plain": [
       "  0%|          | 0/1 [00:00<?, ?it/s]"
      ]
     },
     "metadata": {},
     "output_type": "display_data"
    },
    {
     "data": {
      "application/vnd.jupyter.widget-view+json": {
       "model_id": "fac6b129cb4d4fa9b35c480425c6c62a",
       "version_major": 2,
       "version_minor": 0
      },
      "text/plain": [
       "  0%|          | 0/1 [00:00<?, ?it/s]"
      ]
     },
     "metadata": {},
     "output_type": "display_data"
    },
    {
     "data": {
      "application/vnd.jupyter.widget-view+json": {
       "model_id": "3c00065d2c7d470d80e955874c4ffd7e",
       "version_major": 2,
       "version_minor": 0
      },
      "text/plain": [
       "  0%|          | 0/1 [00:00<?, ?it/s]"
      ]
     },
     "metadata": {},
     "output_type": "display_data"
    },
    {
     "data": {
      "application/vnd.jupyter.widget-view+json": {
       "model_id": "f34a7e54538a4a59a79a551c20573db5",
       "version_major": 2,
       "version_minor": 0
      },
      "text/plain": [
       "  0%|          | 0/1 [00:00<?, ?it/s]"
      ]
     },
     "metadata": {},
     "output_type": "display_data"
    },
    {
     "data": {
      "application/vnd.jupyter.widget-view+json": {
       "model_id": "17aeb958eebf46699962b01b3103a94a",
       "version_major": 2,
       "version_minor": 0
      },
      "text/plain": [
       "  0%|          | 0/1 [00:00<?, ?it/s]"
      ]
     },
     "metadata": {},
     "output_type": "display_data"
    },
    {
     "data": {
      "application/vnd.jupyter.widget-view+json": {
       "model_id": "52336f8ec84647139938d4d0446bead9",
       "version_major": 2,
       "version_minor": 0
      },
      "text/plain": [
       "  0%|          | 0/1 [00:00<?, ?it/s]"
      ]
     },
     "metadata": {},
     "output_type": "display_data"
    },
    {
     "data": {
      "application/vnd.jupyter.widget-view+json": {
       "model_id": "d401784a3b7542cc81dd7446098f3212",
       "version_major": 2,
       "version_minor": 0
      },
      "text/plain": [
       "  0%|          | 0/1 [00:00<?, ?it/s]"
      ]
     },
     "metadata": {},
     "output_type": "display_data"
    },
    {
     "data": {
      "application/vnd.jupyter.widget-view+json": {
       "model_id": "0d19d4bfc87e4753a031c556948cb3c0",
       "version_major": 2,
       "version_minor": 0
      },
      "text/plain": [
       "  0%|          | 0/1 [00:00<?, ?it/s]"
      ]
     },
     "metadata": {},
     "output_type": "display_data"
    },
    {
     "data": {
      "application/vnd.jupyter.widget-view+json": {
       "model_id": "e93be71215964a44a52a9d7f16583780",
       "version_major": 2,
       "version_minor": 0
      },
      "text/plain": [
       "  0%|          | 0/1 [00:00<?, ?it/s]"
      ]
     },
     "metadata": {},
     "output_type": "display_data"
    },
    {
     "data": {
      "application/vnd.jupyter.widget-view+json": {
       "model_id": "7b763e95452044bb98ad7aad3ec8f545",
       "version_major": 2,
       "version_minor": 0
      },
      "text/plain": [
       "  0%|          | 0/1 [00:00<?, ?it/s]"
      ]
     },
     "metadata": {},
     "output_type": "display_data"
    },
    {
     "data": {
      "application/vnd.jupyter.widget-view+json": {
       "model_id": "1078032db21a481c91604dc354b914cf",
       "version_major": 2,
       "version_minor": 0
      },
      "text/plain": [
       "  0%|          | 0/1 [00:00<?, ?it/s]"
      ]
     },
     "metadata": {},
     "output_type": "display_data"
    },
    {
     "data": {
      "application/vnd.jupyter.widget-view+json": {
       "model_id": "a5f2c9344bb443038223e87f8d6a2fd3",
       "version_major": 2,
       "version_minor": 0
      },
      "text/plain": [
       "  0%|          | 0/1 [00:00<?, ?it/s]"
      ]
     },
     "metadata": {},
     "output_type": "display_data"
    },
    {
     "data": {
      "application/vnd.jupyter.widget-view+json": {
       "model_id": "a8d4b3ccdd704177b4adb85cef0deaa8",
       "version_major": 2,
       "version_minor": 0
      },
      "text/plain": [
       "  0%|          | 0/1 [00:00<?, ?it/s]"
      ]
     },
     "metadata": {},
     "output_type": "display_data"
    },
    {
     "data": {
      "application/vnd.jupyter.widget-view+json": {
       "model_id": "9f4b4467b6fa452a9e351be7332e439a",
       "version_major": 2,
       "version_minor": 0
      },
      "text/plain": [
       "  0%|          | 0/1 [00:00<?, ?it/s]"
      ]
     },
     "metadata": {},
     "output_type": "display_data"
    },
    {
     "data": {
      "application/vnd.jupyter.widget-view+json": {
       "model_id": "3d27a0311aa34688b50eb4eafe442446",
       "version_major": 2,
       "version_minor": 0
      },
      "text/plain": [
       "  0%|          | 0/1 [00:00<?, ?it/s]"
      ]
     },
     "metadata": {},
     "output_type": "display_data"
    }
   ],
   "source": [
    "\n",
    "print(len(thshy_link_code_ls))\n",
    "\n",
    "for symbol_code, name in thshy_link_code_ls:\n",
    "    big_df = pd.DataFrame()\n",
    "    if os.path.exists(f\"./data/{symbol_code}.csv\"):\n",
    "        big_df = pd.read_csv(f\"./data/{symbol_code}.csv\",  encoding=\"utf-8\")\n",
    "        if not big_df.empty:\n",
    "            big_df.iloc[:, 0] = pd.to_datetime(big_df.iloc[:, 0], errors=\"coerce\").dt.date\n",
    "            if big_df.iloc[-1, 0] >= recent_trade_date:\n",
    "                bk_data_ls.append((name, symbol_code, big_df))\n",
    "                code_ls.append(symbol_code)\n",
    "                continue\n",
    "            elif big_df.iloc[-1, 0].year >= int(temp_start_year):\n",
    "                temp_start_year = str(big_df.iloc[-1, 0].year)\n",
    "                year_mask = big_df.iloc[:,0].apply(lambda x: x.year)  ==  int(temp_start_year) \n",
    "                if year_mask.any():\n",
    "                    first_index = year_mask.idxmax()\n",
    "                else:\n",
    "                    first_index = None\n",
    "                if first_index is not None:\n",
    "                    big_df = big_df.iloc[:first_index]\n",
    "\n",
    "    try:\n",
    "        for year in tqdm(range(int(temp_start_year), current_year + 1), leave=False):\n",
    "            url = f\"http://d.10jqka.com.cn/v4/line/bk_{symbol_code}/01/{year}.js\"\n",
    "            r = requests.get(url, headers=headers_bk)\n",
    "            data_text = r.text\n",
    "            try:\n",
    "                temp_df = demjson.decode(data_text[data_text.find(\"{\") : -1])\n",
    "                temp_df = pd.DataFrame(temp_df[\"data\"].split(\";\"))\n",
    "                temp_df = temp_df.iloc[:, 0].str.split(\",\", expand=True)\n",
    "                big_df = pd.concat(objs=[big_df, temp_df], ignore_index=True)\n",
    "            except Exception as e:  # noqa: E722\n",
    "                print(e, \"decode fail:\", url, \"text as:\", data_text)\n",
    "                break\n",
    "        big_df = big_df.iloc[:,  :7]\n",
    "        big_df.columns  = [\"date\", \"open\", \"high\", \"low\", \"close\", \"volume\", \"amount\"]\n",
    "        big_df[\"date\"] = pd.to_datetime(big_df[\"date\"], errors=\"coerce\").dt.date\n",
    "        big_df[\"open\"] = pd.to_numeric(big_df[\"open\"], errors=\"coerce\")\n",
    "        big_df[\"high\"] = pd.to_numeric(big_df[\"high\"], errors=\"coerce\")\n",
    "        big_df[\"low\"] = pd.to_numeric(big_df[\"low\"], errors=\"coerce\")\n",
    "        big_df[\"close\"] = pd.to_numeric(big_df[\"close\"], errors=\"coerce\")\n",
    "        big_df[\"volume\"] = pd.to_numeric(big_df[\"volume\"], errors=\"coerce\")\n",
    "        big_df[\"amount\"] = pd.to_numeric(big_df[\"amount\"], errors=\"coerce\")\n",
    "\n",
    "        if big_df.iloc[-1].isna().any(): \n",
    "            big_df = big_df.iloc[:-1]\n",
    "\n",
    "        if big_df[\"date\"].iloc[-1] == lastday:\n",
    "            symbol_url = f\"https://q.10jqka.com.cn/thshy/detail/code/{symbol_code}/\"\n",
    "            r = requests.get(symbol_url, headers=headers)\n",
    "            soup_today = BeautifulSoup(r.text, features=\"lxml\")\n",
    "            dd_texts = [dd.text for dd in soup_today.find_all(\"dd\")] \n",
    "            close = soup_today.select_one('span.board-xj.arr-rise,  span.board-xj.arr-fall').text\n",
    "            open, low, high, volume, amount = dd_texts[0], dd_texts[2], dd_texts[3], dd_texts[4], dd_texts[9]\n",
    "            new_list = [\n",
    "                recent_trade_date,\n",
    "                float(open),\n",
    "                float(high),\n",
    "                float(low),\n",
    "                float(close),\n",
    "                float(volume.replace(\",\", \"\")),\n",
    "                float(amount.replace(\",\", \"\")),\n",
    "            ]\n",
    "            new_row = pd.DataFrame([new_list], columns=big_df.columns) \n",
    "            big_df = pd.concat([big_df,  new_row], ignore_index=True)\n",
    "       \n",
    "        bk_data_ls.append((name, symbol_code, big_df))\n",
    "        code_ls.append(symbol_code)\n",
    "        big_df.to_csv(f\"./data/{symbol_code}.csv\", index=False, encoding='utf-8-sig')\n",
    "    except Exception as e:\n",
    "        print(e, \" wrong data:\", f\"https://d.10jqka.com.cn/v4/line/bk_{symbol_code}/01/{year}.js\", symbol_url, big_df.tail())\n",
    "        break\n",
    "\n",
    "\n"
   ]
  },
  {
   "cell_type": "code",
   "execution_count": 24,
   "id": "802ac574",
   "metadata": {},
   "outputs": [
    {
     "name": "stdout",
     "output_type": "stream",
     "text": [
      "阿尔茨海默概念\n",
      "886056\n",
      "         date     open     high      low    close     volume        amount\n",
      "0  2025-01-02  989.548  999.124  968.150  974.704  512509970  6.680677e+09\n",
      "1  2025-01-03  974.714  986.675  962.398  965.056  475802500  6.222582e+09\n",
      "2  2025-01-06  971.721  987.276  960.495  979.601  525790230  6.659436e+09\n",
      "3  2025-01-07  979.367  979.367  951.360  969.033  966740090  1.109609e+10\n",
      "4  2025-01-08  967.908  974.077  945.650  965.447  771668230  9.432990e+09\n",
      "           date      open      high       low     close     volume  \\\n",
      "170  2025-09-12  1342.274  1359.268  1337.076  1350.272  740585930   \n",
      "171  2025-09-15  1349.381  1359.669  1346.040  1355.557  655885750   \n",
      "172  2025-09-16  1354.393  1357.556  1341.825  1355.572  597010030   \n",
      "173  2025-09-17  1355.403  1357.026  1344.980  1350.725  627528530   \n",
      "174  2025-09-18  1351.598  1365.376  1325.583  1337.478  984950470   \n",
      "\n",
      "           amount  \n",
      "170  1.411970e+10  \n",
      "171  1.272261e+10  \n",
      "172  1.031487e+10  \n",
      "173  9.929872e+09  \n",
      "174  1.701124e+10  \n"
     ]
    }
   ],
   "source": [
    "print(bk_data_ls[0][0])\n",
    "print(bk_data_ls[0][1])\n",
    "print(bk_data_ls[0][2].head())\n",
    "print(bk_data_ls[0][2].tail())"
   ]
  },
  {
   "cell_type": "code",
   "execution_count": 25,
   "id": "94708784",
   "metadata": {},
   "outputs": [],
   "source": [
    "def save_Scalers(scalers, filepath):\n",
    "    \"\"\"保存所有股票的Scaler到文件\"\"\"\n",
    "    joblib.dump(scalers, filepath)\n",
    "def load_Scalers(filepath):\n",
    "    if os.path.exists(filepath):\n",
    "        return joblib.load(filepath)\n",
    "    else:\n",
    "        return {}"
   ]
  },
  {
   "cell_type": "code",
   "execution_count": 26,
   "id": "badcc5f6",
   "metadata": {},
   "outputs": [],
   "source": [
    "code_scaler_path = \"./model/code_scaler.save\"\n",
    "if os.path.exists(code_scaler_path):\n",
    "    code_scaler = joblib.load(code_scaler_path)\n",
    "    if len(code_ls) != len(bk_data_ls):\n",
    "        code_df = pd.DataFrame(code_ls, columns=['code'])\n",
    "        code_scaler.partial_fit(code_df)\n",
    "else:\n",
    "    code_df = pd.DataFrame(code_ls, columns=['code'])\n",
    "    code_scaler = MinMaxScaler(feature_range=(0, 1))\n",
    "    code_scaler.fit(code_df)\n",
    "    save_Scalers(code_scaler, code_scaler_path)"
   ]
  },
  {
   "cell_type": "code",
   "execution_count": 27,
   "id": "ba57affa",
   "metadata": {},
   "outputs": [],
   "source": [
    "class StockDataset(Dataset):\n",
    "    def __init__(self, bk_data_ls, seq_length=16, forecast_gap=2, scaler_filepath='./model/scalers.sav'):\n",
    "        \"\"\"\n",
    "        bk_data_ls: List of tuples (code, data), where:\n",
    "            - code: 股票代码（str）\n",
    "            - data: DataFrame，列顺序为 [open, high, low, close, volume, amount]\n",
    "        seq_length_short: 短期序列长度（可选）\n",
    "        seq_length: 长期依赖序列长度（用于输入）\n",
    "        forecast_gap: 预测几天后的收盘价，如后天 = 2\n",
    "        \"\"\"\n",
    "        self.seq_length  = seq_length\n",
    "        self.forecast_gap  = forecast_gap\n",
    "        self.scalers  = load_Scalers(scaler_filepath) # 存储每个股票的归一化器\n",
    " \n",
    "        all_X = []\n",
    "        all_y = []\n",
    "\n",
    "        for _name, code, data in bk_data_ls:\n",
    "            data = data.iloc[:,1:]\n",
    "            if code in self.scalers:\n",
    "                scaler = self.scalers[code]\n",
    "                scaled_data = scaler.partial_fit(data).transform(data) \n",
    "                self.scalers[code]  = scaler  # 保存 scaler 供后续使用 \n",
    "            else:\n",
    "                scaler = MinMaxScaler(feature_range=(0, 1))\n",
    "                scaled_data = scaler.fit_transform(data) \n",
    "                self.scalers[code]  = scaler  # 保存 scaler 供后续使用 \n",
    "    \n",
    "            # 构造样本\n",
    "            X, y = [], []\n",
    "            code_feature = code_scaler.transform(pd.DataFrame({\"code\": [code]}))\n",
    "            scaled_data = np.insert(scaled_data,  1, code_feature, axis=1) \n",
    "            max_index = len(data) - seq_length - forecast_gap\n",
    "            for i in range(max_index):\n",
    "                # 输入序列：seq_length 天的特征\n",
    "                seq_features = scaled_data[i:i + seq_length]\n",
    "                # 标签：forecast_gap 天后的收盘价（第3列）\n",
    "                target_idx = i + seq_length + forecast_gap - 1\n",
    "                target_close = scaled_data[target_idx, 3]\n",
    " \n",
    "                X.append(seq_features) \n",
    "                y.append(target_close) \n",
    " \n",
    "            # 转换为 numpy 并保存 \n",
    "            all_X.extend(X) \n",
    "            all_y.extend(y) \n",
    " \n",
    "        # 统一转换为 tensor\n",
    "        self.X = torch.tensor(np.array(all_X),  dtype=torch.float32) \n",
    "        self.y = torch.tensor(np.array(all_y),  dtype=torch.float32).view(-1,  1)\n",
    "        save_Scalers(self.scalers, scaler_filepath)  # 保存所有股票的Scaler\n",
    "\n",
    "    def __len__(self):\n",
    "        return len(self.X)\n",
    " \n",
    "    def __getitem__(self, idx):\n",
    "        return self.X[idx], self.y[idx]\n",
    " \n",
    "    def get_scaler(self, code):\n",
    "        return self.scalers.get(code,  None)\n",
    "    def inverse_transform(self, code, scaled_values):\n",
    "        \"\"\"逆归一化\"\"\"\n",
    "        scaler = self.get_scaler(code)\n",
    "        if scaler:\n",
    "            dummy = np.zeros((len(scaled_values),  self.X.shape[2]))\n",
    "            dummy[:, 3] = scaled_values  # 将预测值放入close列\n",
    "            return scaler.inverse_transform(dummy)[:, 3]\n",
    "        else:\n",
    "            raise ValueError(f\"No scaler found for code: {code}\")\n",
    "\n",
    "    \n",
    "\n",
    "class MultiScaleAttentionLSTM(nn.Module):\n",
    "    def __init__(self, input_size, hidden_size = 64, num_layers_long = 3, num_layers_short = 2):\n",
    "        super().__init__()\n",
    "        \n",
    "        self.lstm_long  = nn.LSTM(input_size, hidden_size, num_layers=num_layers_long, batch_first=True, dropout=0.2 if num_layers_long > 1 else 0)\n",
    "        self.lstm_short  = nn.LSTM(input_size, hidden_size, num_layers=num_layers_short, batch_first=True, dropout=0.2 if num_layers_short > 1 else 0)\n",
    "        self.attn  = nn.MultiheadAttention(hidden_size, num_heads=4, batch_first=True, )  # 4头注意力 \n",
    "        \n",
    "        self.regressor  = nn.Sequential(\n",
    "            nn.Linear(hidden_size, 32),\n",
    "            nn.Linear(32, 1)\n",
    "        )\n",
    " \n",
    "    def forward(self, x1, seq_length_short=7):\n",
    "        out1, _ = self.lstm_long(x1) \n",
    "        out2, _ = self.lstm_short(x1[:, -seq_length_short:, :]) # lstm_out: [batch, seq_len, hidden]\n",
    "        lstm_out = torch.cat((out1,  out2), dim=1)\n",
    "        attn_out, _ = self.attn(lstm_out,  lstm_out, lstm_out, need_weights=False) \n",
    "        out = self.regressor(attn_out[:, -1, :]) \n",
    "        return out"
   ]
  },
  {
   "cell_type": "code",
   "execution_count": 30,
   "id": "63a9e7ee",
   "metadata": {},
   "outputs": [
    {
     "name": "stdout",
     "output_type": "stream",
     "text": [
      "Epoch 1: Current LR = 0.001\n",
      "Epoch 0 | Train Loss: 0.006509 | Test Loss: 0.047910\n",
      "Epoch 2: Current LR = 0.001\n",
      "Epoch 1 | Train Loss: 0.048055 | Test Loss: 0.041985\n",
      "Epoch 3: Current LR = 0.001\n",
      "Epoch 2 | Train Loss: 0.042121 | Test Loss: 0.016769\n",
      "Epoch 4: Current LR = 0.001\n",
      "Epoch 3 | Train Loss: 0.016933 | Test Loss: 0.006573\n",
      "Epoch 5: Current LR = 0.001\n",
      "Epoch 4 | Train Loss: 0.006696 | Test Loss: 0.008731\n",
      "Epoch 6: Current LR = 0.001\n",
      "Epoch 5 | Train Loss: 0.008836 | Test Loss: 0.007693\n",
      "Epoch 7: Current LR = 0.001\n",
      "Epoch 6 | Train Loss: 0.007822 | Test Loss: 0.006495\n",
      "Epoch 8: Current LR = 0.001\n",
      "Epoch 7 | Train Loss: 0.006624 | Test Loss: 0.006670\n",
      "Epoch 9: Current LR = 0.001\n",
      "Epoch 8 | Train Loss: 0.006781 | Test Loss: 0.006430\n",
      "Epoch 10: Current LR = 0.001\n",
      "Epoch 9 | Train Loss: 0.006536 | Test Loss: 0.006376\n",
      "Epoch 11: Current LR = 0.001\n",
      "Epoch 10 | Train Loss: 0.006490 | Test Loss: 0.006706\n",
      "Epoch 12: Current LR = 0.001\n",
      "Epoch 11 | Train Loss: 0.006821 | Test Loss: 0.006466\n",
      "Epoch 13: Current LR = 0.001\n",
      "Epoch 12 | Train Loss: 0.006582 | Test Loss: 0.006809\n",
      "Epoch 14: Current LR = 0.001\n",
      "Epoch 13 | Train Loss: 0.006925 | Test Loss: 0.006939\n",
      "Epoch 15: Current LR = 0.001\n",
      "Epoch 14 | Train Loss: 0.007070 | Test Loss: 0.006347\n",
      "Epoch 16: Current LR = 0.001\n",
      "Epoch 15 | Train Loss: 0.006475 | Test Loss: 0.007888\n",
      "Epoch 17: Current LR = 0.001\n",
      "Epoch 16 | Train Loss: 0.008011 | Test Loss: 0.009305\n",
      "Epoch 18: Current LR = 0.001\n",
      "Epoch 17 | Train Loss: 0.009399 | Test Loss: 0.008504\n",
      "Epoch 19: Current LR = 0.001\n",
      "Epoch 18 | Train Loss: 0.008626 | Test Loss: 0.006669\n",
      "Epoch 20: Current LR = 0.001\n",
      "Epoch 19 | Train Loss: 0.006779 | Test Loss: 0.007122\n",
      "Epoch 21: Current LR = 0.001\n",
      "Epoch 20 | Train Loss: 0.007252 | Test Loss: 0.008785\n",
      "Epoch 22: Current LR = 0.0005\n",
      "Epoch 21 | Train Loss: 0.008872 | Test Loss: 0.008693\n",
      "Epoch 23: Current LR = 0.0005\n",
      "Epoch 22 | Train Loss: 0.008792 | Test Loss: 0.007735\n",
      "Epoch 24: Current LR = 0.0005\n",
      "Epoch 23 | Train Loss: 0.007828 | Test Loss: 0.006632\n",
      "Epoch 25: Current LR = 0.0005\n",
      "Epoch 24 | Train Loss: 0.006750 | Test Loss: 0.006410\n",
      "Epoch 26: Current LR = 0.0005\n",
      "Epoch 25 | Train Loss: 0.006507 | Test Loss: 0.006853\n",
      "Epoch 27: Current LR = 0.0005\n",
      "Epoch 26 | Train Loss: 0.006989 | Test Loss: 0.006960\n",
      "Epoch 28: Current LR = 0.00025\n",
      "Epoch 27 | Train Loss: 0.007076 | Test Loss: 0.006779\n",
      "Epoch 29: Current LR = 0.00025\n",
      "Epoch 28 | Train Loss: 0.006889 | Test Loss: 0.006481\n",
      "Epoch 30: Current LR = 0.00025\n",
      "Epoch 29 | Train Loss: 0.006600 | Test Loss: 0.006296\n",
      "Epoch 31: Current LR = 0.00025\n",
      "Epoch 30 | Train Loss: 0.006414 | Test Loss: 0.006524\n",
      "Epoch 32: Current LR = 0.00025\n",
      "Epoch 31 | Train Loss: 0.006638 | Test Loss: 0.006939\n",
      "Epoch 33: Current LR = 0.00025\n",
      "Epoch 32 | Train Loss: 0.007039 | Test Loss: 0.007178\n",
      "Epoch 34: Current LR = 0.00025\n",
      "Epoch 33 | Train Loss: 0.007297 | Test Loss: 0.007126\n",
      "Epoch 35: Current LR = 0.00025\n",
      "Epoch 34 | Train Loss: 0.007248 | Test Loss: 0.006827\n",
      "Epoch 36: Current LR = 0.00025\n",
      "Epoch 35 | Train Loss: 0.006948 | Test Loss: 0.006463\n",
      "Epoch 37: Current LR = 0.000125\n",
      "Epoch 36 | Train Loss: 0.006584 | Test Loss: 0.006328\n",
      "Epoch 38: Current LR = 0.000125\n",
      "Epoch 37 | Train Loss: 0.006441 | Test Loss: 0.006292\n",
      "Epoch 39: Current LR = 0.000125\n",
      "Epoch 38 | Train Loss: 0.006405 | Test Loss: 0.006351\n",
      "Epoch 40: Current LR = 0.000125\n",
      "Epoch 39 | Train Loss: 0.006472 | Test Loss: 0.006409\n",
      "Epoch 41: Current LR = 0.000125\n",
      "Epoch 40 | Train Loss: 0.006526 | Test Loss: 0.006418\n",
      "Epoch 42: Current LR = 0.000125\n",
      "Epoch 41 | Train Loss: 0.006535 | Test Loss: 0.006375\n",
      "Epoch 43: Current LR = 0.000125\n",
      "Epoch 42 | Train Loss: 0.006507 | Test Loss: 0.006310\n",
      "Epoch 44: Current LR = 0.000125\n",
      "Epoch 43 | Train Loss: 0.006417 | Test Loss: 0.006271\n",
      "Epoch 45: Current LR = 0.000125\n",
      "Epoch 44 | Train Loss: 0.006381 | Test Loss: 0.006306\n",
      "Epoch 46: Current LR = 0.000125\n",
      "Epoch 45 | Train Loss: 0.006418 | Test Loss: 0.006360\n",
      "Epoch 47: Current LR = 0.000125\n",
      "Epoch 46 | Train Loss: 0.006477 | Test Loss: 0.006375\n",
      "Epoch 48: Current LR = 0.000125\n",
      "Epoch 47 | Train Loss: 0.006481 | Test Loss: 0.006343\n",
      "Epoch 49: Current LR = 0.000125\n",
      "Epoch 48 | Train Loss: 0.006472 | Test Loss: 0.006288\n",
      "Epoch 50: Current LR = 0.000125\n",
      "Epoch 49 | Train Loss: 0.006399 | Test Loss: 0.006260\n",
      "Epoch 51: Current LR = 0.000125\n",
      "Epoch 50 | Train Loss: 0.006377 | Test Loss: 0.006266\n",
      "Epoch 52: Current LR = 0.000125\n",
      "Epoch 51 | Train Loss: 0.006388 | Test Loss: 0.006262\n",
      "Epoch 53: Current LR = 0.000125\n",
      "Epoch 52 | Train Loss: 0.006383 | Test Loss: 0.006248\n",
      "Epoch 54: Current LR = 0.000125\n",
      "Epoch 53 | Train Loss: 0.006367 | Test Loss: 0.006255\n",
      "Epoch 55: Current LR = 0.000125\n",
      "Epoch 54 | Train Loss: 0.006380 | Test Loss: 0.006267\n",
      "Epoch 56: Current LR = 0.000125\n",
      "Epoch 55 | Train Loss: 0.006384 | Test Loss: 0.006256\n",
      "Epoch 57: Current LR = 0.000125\n",
      "Epoch 56 | Train Loss: 0.006372 | Test Loss: 0.006235\n",
      "Epoch 58: Current LR = 0.000125\n",
      "Epoch 57 | Train Loss: 0.006347 | Test Loss: 0.006245\n",
      "Epoch 59: Current LR = 0.000125\n",
      "Epoch 58 | Train Loss: 0.006381 | Test Loss: 0.006268\n",
      "Epoch 60: Current LR = 0.000125\n",
      "Epoch 59 | Train Loss: 0.006399 | Test Loss: 0.006265\n",
      "Epoch 61: Current LR = 0.000125\n",
      "Epoch 60 | Train Loss: 0.006386 | Test Loss: 0.006237\n",
      "Epoch 62: Current LR = 0.000125\n",
      "Epoch 61 | Train Loss: 0.006337 | Test Loss: 0.006217\n",
      "Epoch 63: Current LR = 0.000125\n",
      "Epoch 62 | Train Loss: 0.006317 | Test Loss: 0.006225\n",
      "Epoch 64: Current LR = 0.000125\n",
      "Epoch 63 | Train Loss: 0.006333 | Test Loss: 0.006228\n",
      "Epoch 65: Current LR = 0.000125\n",
      "Epoch 64 | Train Loss: 0.006367 | Test Loss: 0.006212\n",
      "Epoch 66: Current LR = 0.000125\n",
      "Epoch 65 | Train Loss: 0.006330 | Test Loss: 0.006199\n",
      "Epoch 67: Current LR = 0.000125\n",
      "Epoch 66 | Train Loss: 0.006316 | Test Loss: 0.006194\n",
      "Epoch 68: Current LR = 0.000125\n",
      "Epoch 67 | Train Loss: 0.006308 | Test Loss: 0.006187\n",
      "Epoch 69: Current LR = 0.000125\n",
      "Epoch 68 | Train Loss: 0.006303 | Test Loss: 0.006179\n",
      "Epoch 70: Current LR = 0.000125\n",
      "Epoch 69 | Train Loss: 0.006307 | Test Loss: 0.006174\n",
      "Epoch 71: Current LR = 0.000125\n",
      "Epoch 70 | Train Loss: 0.006310 | Test Loss: 0.006166\n",
      "Epoch 72: Current LR = 0.000125\n",
      "Epoch 71 | Train Loss: 0.006296 | Test Loss: 0.006161\n",
      "Epoch 73: Current LR = 0.000125\n",
      "Epoch 72 | Train Loss: 0.006298 | Test Loss: 0.006154\n",
      "Epoch 74: Current LR = 0.000125\n",
      "Epoch 73 | Train Loss: 0.006301 | Test Loss: 0.006149\n",
      "Epoch 75: Current LR = 0.000125\n",
      "Epoch 74 | Train Loss: 0.006279 | Test Loss: 0.006144\n",
      "Epoch 76: Current LR = 0.000125\n",
      "Epoch 75 | Train Loss: 0.006281 | Test Loss: 0.006133\n",
      "Epoch 77: Current LR = 0.000125\n",
      "Epoch 76 | Train Loss: 0.006261 | Test Loss: 0.006131\n",
      "Epoch 78: Current LR = 0.000125\n",
      "Epoch 77 | Train Loss: 0.006272 | Test Loss: 0.006124\n",
      "Epoch 79: Current LR = 0.000125\n",
      "Epoch 78 | Train Loss: 0.006257 | Test Loss: 0.006114\n",
      "Epoch 80: Current LR = 0.000125\n",
      "Epoch 79 | Train Loss: 0.006270 | Test Loss: 0.006107\n",
      "Epoch 81: Current LR = 0.000125\n",
      "Epoch 80 | Train Loss: 0.006251 | Test Loss: 0.006101\n",
      "Epoch 82: Current LR = 0.000125\n",
      "Epoch 81 | Train Loss: 0.006235 | Test Loss: 0.006090\n",
      "Epoch 83: Current LR = 0.000125\n",
      "Epoch 82 | Train Loss: 0.006215 | Test Loss: 0.006083\n",
      "Epoch 84: Current LR = 0.000125\n",
      "Epoch 83 | Train Loss: 0.006212 | Test Loss: 0.006076\n",
      "Epoch 85: Current LR = 0.000125\n",
      "Epoch 84 | Train Loss: 0.006232 | Test Loss: 0.006067\n",
      "Epoch 86: Current LR = 0.000125\n",
      "Epoch 85 | Train Loss: 0.006211 | Test Loss: 0.006059\n",
      "Epoch 87: Current LR = 0.000125\n",
      "Epoch 86 | Train Loss: 0.006184 | Test Loss: 0.006051\n",
      "Epoch 88: Current LR = 0.000125\n",
      "Epoch 87 | Train Loss: 0.006186 | Test Loss: 0.006044\n",
      "Epoch 89: Current LR = 0.000125\n",
      "Epoch 88 | Train Loss: 0.006185 | Test Loss: 0.006036\n",
      "Epoch 90: Current LR = 0.000125\n",
      "Epoch 89 | Train Loss: 0.006180 | Test Loss: 0.006029\n",
      "Epoch 91: Current LR = 0.000125\n",
      "Epoch 90 | Train Loss: 0.006187 | Test Loss: 0.006018\n",
      "Epoch 92: Current LR = 0.000125\n",
      "Epoch 91 | Train Loss: 0.006171 | Test Loss: 0.006011\n",
      "Epoch 93: Current LR = 0.000125\n",
      "Epoch 92 | Train Loss: 0.006148 | Test Loss: 0.006003\n",
      "Epoch 94: Current LR = 0.000125\n",
      "Epoch 93 | Train Loss: 0.006171 | Test Loss: 0.005992\n",
      "Epoch 95: Current LR = 0.000125\n",
      "Epoch 94 | Train Loss: 0.006142 | Test Loss: 0.005984\n",
      "Epoch 96: Current LR = 0.000125\n",
      "Epoch 95 | Train Loss: 0.006135 | Test Loss: 0.005979\n",
      "Epoch 97: Current LR = 0.000125\n",
      "Epoch 96 | Train Loss: 0.006127 | Test Loss: 0.005970\n",
      "Epoch 98: Current LR = 0.000125\n",
      "Epoch 97 | Train Loss: 0.006106 | Test Loss: 0.005960\n",
      "Epoch 99: Current LR = 0.000125\n",
      "Epoch 98 | Train Loss: 0.006107 | Test Loss: 0.005952\n",
      "Epoch 100: Current LR = 0.000125\n",
      "Epoch 99 | Train Loss: 0.006114 | Test Loss: 0.005948\n",
      "Epoch 101: Current LR = 0.000125\n",
      "Epoch 100 | Train Loss: 0.006082 | Test Loss: 0.005941\n",
      "Epoch 102: Current LR = 0.000125\n",
      "Epoch 101 | Train Loss: 0.006101 | Test Loss: 0.005930\n",
      "Epoch 103: Current LR = 0.000125\n",
      "Epoch 102 | Train Loss: 0.006091 | Test Loss: 0.005923\n",
      "Epoch 104: Current LR = 0.000125\n",
      "Epoch 103 | Train Loss: 0.006080 | Test Loss: 0.005918\n",
      "Epoch 105: Current LR = 0.000125\n",
      "Epoch 104 | Train Loss: 0.006082 | Test Loss: 0.005907\n",
      "Epoch 106: Current LR = 0.000125\n",
      "Epoch 105 | Train Loss: 0.006060 | Test Loss: 0.005903\n",
      "Epoch 107: Current LR = 0.000125\n",
      "Epoch 106 | Train Loss: 0.006055 | Test Loss: 0.005898\n",
      "Epoch 108: Current LR = 0.000125\n",
      "Epoch 107 | Train Loss: 0.006054 | Test Loss: 0.005884\n",
      "Epoch 109: Current LR = 0.000125\n",
      "Epoch 108 | Train Loss: 0.006043 | Test Loss: 0.005893\n",
      "Epoch 110: Current LR = 0.000125\n",
      "Epoch 109 | Train Loss: 0.006051 | Test Loss: 0.005901\n",
      "Epoch 111: Current LR = 0.000125\n",
      "Epoch 110 | Train Loss: 0.006073 | Test Loss: 0.005883\n",
      "Epoch 112: Current LR = 0.000125\n",
      "Epoch 111 | Train Loss: 0.006032 | Test Loss: 0.005858\n",
      "Epoch 113: Current LR = 0.000125\n",
      "Epoch 112 | Train Loss: 0.006033 | Test Loss: 0.005876\n",
      "Epoch 114: Current LR = 0.000125\n",
      "Epoch 113 | Train Loss: 0.006047 | Test Loss: 0.005904\n",
      "Epoch 115: Current LR = 0.000125\n",
      "Epoch 114 | Train Loss: 0.006076 | Test Loss: 0.005895\n",
      "Epoch 116: Current LR = 0.000125\n",
      "Epoch 115 | Train Loss: 0.006040 | Test Loss: 0.005857\n",
      "Epoch 117: Current LR = 0.000125\n",
      "Epoch 116 | Train Loss: 0.006020 | Test Loss: 0.005833\n",
      "Epoch 118: Current LR = 0.000125\n",
      "Epoch 117 | Train Loss: 0.005993 | Test Loss: 0.005836\n",
      "Epoch 119: Current LR = 0.000125\n",
      "Epoch 118 | Train Loss: 0.006002 | Test Loss: 0.005828\n",
      "Epoch 120: Current LR = 0.000125\n",
      "Epoch 119 | Train Loss: 0.005991 | Test Loss: 0.005820\n",
      "Epoch 121: Current LR = 0.000125\n",
      "Epoch 120 | Train Loss: 0.005967 | Test Loss: 0.005816\n",
      "Epoch 122: Current LR = 0.000125\n",
      "Epoch 121 | Train Loss: 0.005959 | Test Loss: 0.005811\n",
      "Epoch 123: Current LR = 0.000125\n",
      "Epoch 122 | Train Loss: 0.005972 | Test Loss: 0.005806\n",
      "Epoch 124: Current LR = 0.000125\n",
      "Epoch 123 | Train Loss: 0.005975 | Test Loss: 0.005805\n",
      "Epoch 125: Current LR = 0.000125\n",
      "Epoch 124 | Train Loss: 0.005977 | Test Loss: 0.005801\n",
      "Epoch 126: Current LR = 0.000125\n",
      "Epoch 125 | Train Loss: 0.005978 | Test Loss: 0.005791\n",
      "Epoch 127: Current LR = 0.000125\n",
      "Epoch 126 | Train Loss: 0.005947 | Test Loss: 0.005785\n",
      "Epoch 128: Current LR = 0.000125\n",
      "Epoch 127 | Train Loss: 0.005964 | Test Loss: 0.005780\n",
      "Epoch 129: Current LR = 0.000125\n",
      "Epoch 128 | Train Loss: 0.005954 | Test Loss: 0.005773\n",
      "Epoch 130: Current LR = 0.000125\n",
      "Epoch 129 | Train Loss: 0.005919 | Test Loss: 0.005773\n",
      "Epoch 131: Current LR = 0.000125\n",
      "Epoch 130 | Train Loss: 0.005947 | Test Loss: 0.005769\n",
      "Epoch 132: Current LR = 0.000125\n",
      "Epoch 131 | Train Loss: 0.005925 | Test Loss: 0.005754\n",
      "Epoch 133: Current LR = 0.000125\n",
      "Epoch 132 | Train Loss: 0.005917 | Test Loss: 0.005764\n",
      "Epoch 134: Current LR = 0.000125\n",
      "Epoch 133 | Train Loss: 0.005935 | Test Loss: 0.005773\n",
      "Epoch 135: Current LR = 0.000125\n",
      "Epoch 134 | Train Loss: 0.005942 | Test Loss: 0.005755\n",
      "Epoch 136: Current LR = 0.000125\n",
      "Epoch 135 | Train Loss: 0.005937 | Test Loss: 0.005731\n",
      "Epoch 137: Current LR = 0.000125\n",
      "Epoch 136 | Train Loss: 0.005893 | Test Loss: 0.005754\n",
      "Epoch 138: Current LR = 0.000125\n",
      "Epoch 137 | Train Loss: 0.005919 | Test Loss: 0.005787\n",
      "Epoch 139: Current LR = 0.000125\n",
      "Epoch 138 | Train Loss: 0.005943 | Test Loss: 0.005781\n",
      "Epoch 140: Current LR = 0.000125\n",
      "Epoch 139 | Train Loss: 0.005936 | Test Loss: 0.005740\n",
      "Epoch 141: Current LR = 0.000125\n",
      "Epoch 140 | Train Loss: 0.005916 | Test Loss: 0.005708\n",
      "Epoch 142: Current LR = 0.000125\n",
      "Epoch 141 | Train Loss: 0.005874 | Test Loss: 0.005742\n",
      "Epoch 143: Current LR = 0.000125\n",
      "Epoch 142 | Train Loss: 0.005932 | Test Loss: 0.005787\n",
      "Epoch 144: Current LR = 0.000125\n",
      "Epoch 143 | Train Loss: 0.005968 | Test Loss: 0.005786\n",
      "Epoch 145: Current LR = 0.000125\n",
      "Epoch 144 | Train Loss: 0.005960 | Test Loss: 0.005739\n",
      "Epoch 146: Current LR = 0.000125\n",
      "Epoch 145 | Train Loss: 0.005929 | Test Loss: 0.005689\n",
      "Epoch 147: Current LR = 0.000125\n",
      "Epoch 146 | Train Loss: 0.005878 | Test Loss: 0.005706\n",
      "Epoch 148: Current LR = 0.000125\n",
      "Epoch 147 | Train Loss: 0.005874 | Test Loss: 0.005754\n",
      "Epoch 149: Current LR = 0.000125\n",
      "Epoch 148 | Train Loss: 0.005924 | Test Loss: 0.005762\n",
      "Epoch 150: Current LR = 0.000125\n",
      "Epoch 149 | Train Loss: 0.005928 | Test Loss: 0.005724\n",
      "Epoch 151: Current LR = 0.000125\n",
      "Epoch 150 | Train Loss: 0.005899 | Test Loss: 0.005675\n",
      "Epoch 152: Current LR = 0.000125\n",
      "Epoch 151 | Train Loss: 0.005846 | Test Loss: 0.005683\n",
      "Epoch 153: Current LR = 0.000125\n",
      "Epoch 152 | Train Loss: 0.005845 | Test Loss: 0.005724\n",
      "Epoch 154: Current LR = 0.000125\n",
      "Epoch 153 | Train Loss: 0.005891 | Test Loss: 0.005729\n",
      "Epoch 155: Current LR = 0.000125\n",
      "Epoch 154 | Train Loss: 0.005892 | Test Loss: 0.005694\n",
      "Epoch 156: Current LR = 0.000125\n",
      "Epoch 155 | Train Loss: 0.005852 | Test Loss: 0.005657\n",
      "Epoch 157: Current LR = 0.000125\n",
      "Epoch 156 | Train Loss: 0.005847 | Test Loss: 0.005686\n",
      "Epoch 158: Current LR = 0.000125\n",
      "Epoch 157 | Train Loss: 0.005864 | Test Loss: 0.005736\n",
      "Epoch 159: Current LR = 0.000125\n",
      "Epoch 158 | Train Loss: 0.005909 | Test Loss: 0.005744\n",
      "Epoch 160: Current LR = 0.000125\n",
      "Epoch 159 | Train Loss: 0.005912 | Test Loss: 0.005703\n",
      "Epoch 161: Current LR = 0.000125\n",
      "Epoch 160 | Train Loss: 0.005875 | Test Loss: 0.005653\n",
      "Epoch 162: Current LR = 0.000125\n",
      "Epoch 161 | Train Loss: 0.005831 | Test Loss: 0.005662\n",
      "Epoch 163: Current LR = 0.000125\n",
      "Epoch 162 | Train Loss: 0.005843 | Test Loss: 0.005703\n",
      "Epoch 164: Current LR = 0.000125\n",
      "Epoch 163 | Train Loss: 0.005880 | Test Loss: 0.005708\n",
      "Epoch 165: Current LR = 0.000125\n",
      "Epoch 164 | Train Loss: 0.005898 | Test Loss: 0.005674\n",
      "Epoch 166: Current LR = 0.000125\n",
      "Epoch 165 | Train Loss: 0.005854 | Test Loss: 0.005638\n",
      "Epoch 167: Current LR = 0.000125\n",
      "Epoch 166 | Train Loss: 0.005819 | Test Loss: 0.005671\n",
      "Epoch 168: Current LR = 0.000125\n",
      "Epoch 167 | Train Loss: 0.005844 | Test Loss: 0.005727\n",
      "Epoch 169: Current LR = 0.000125\n",
      "Epoch 168 | Train Loss: 0.005893 | Test Loss: 0.005737\n",
      "Epoch 170: Current LR = 0.000125\n",
      "Epoch 169 | Train Loss: 0.005913 | Test Loss: 0.005695\n",
      "Epoch 171: Current LR = 0.000125\n",
      "Epoch 170 | Train Loss: 0.005862 | Test Loss: 0.005641\n",
      "Epoch 172: Current LR = 0.000125\n",
      "Epoch 171 | Train Loss: 0.005813 | Test Loss: 0.005641\n",
      "Epoch 173: Current LR = 6.25e-05\n",
      "Epoch 172 | Train Loss: 0.005824 | Test Loss: 0.005656\n",
      "Epoch 174: Current LR = 6.25e-05\n",
      "Epoch 173 | Train Loss: 0.005845 | Test Loss: 0.005657\n",
      "Epoch 175: Current LR = 6.25e-05\n",
      "Epoch 174 | Train Loss: 0.005832 | Test Loss: 0.005645\n",
      "Epoch 176: Current LR = 6.25e-05\n",
      "Epoch 175 | Train Loss: 0.005811 | Test Loss: 0.005629\n",
      "Epoch 177: Current LR = 6.25e-05\n",
      "Epoch 176 | Train Loss: 0.005809 | Test Loss: 0.005627\n",
      "Epoch 178: Current LR = 6.25e-05\n",
      "Epoch 177 | Train Loss: 0.005819 | Test Loss: 0.005635\n",
      "Epoch 179: Current LR = 6.25e-05\n",
      "Epoch 178 | Train Loss: 0.005809 | Test Loss: 0.005636\n",
      "Epoch 180: Current LR = 6.25e-05\n",
      "Epoch 179 | Train Loss: 0.005805 | Test Loss: 0.005628\n",
      "Epoch 181: Current LR = 6.25e-05\n",
      "Epoch 180 | Train Loss: 0.005806 | Test Loss: 0.005621\n",
      "Epoch 182: Current LR = 6.25e-05\n",
      "Epoch 181 | Train Loss: 0.005806 | Test Loss: 0.005627\n",
      "Epoch 183: Current LR = 6.25e-05\n",
      "Epoch 182 | Train Loss: 0.005806 | Test Loss: 0.005636\n",
      "Epoch 184: Current LR = 6.25e-05\n",
      "Epoch 183 | Train Loss: 0.005809 | Test Loss: 0.005635\n",
      "Epoch 185: Current LR = 6.25e-05\n",
      "Epoch 184 | Train Loss: 0.005815 | Test Loss: 0.005623\n",
      "Epoch 186: Current LR = 6.25e-05\n",
      "Epoch 185 | Train Loss: 0.005809 | Test Loss: 0.005612\n",
      "Epoch 187: Current LR = 6.25e-05\n",
      "Epoch 186 | Train Loss: 0.005786 | Test Loss: 0.005622\n",
      "Epoch 188: Current LR = 6.25e-05\n",
      "Epoch 187 | Train Loss: 0.005808 | Test Loss: 0.005638\n",
      "Epoch 189: Current LR = 6.25e-05\n",
      "Epoch 188 | Train Loss: 0.005802 | Test Loss: 0.005642\n",
      "Epoch 190: Current LR = 6.25e-05\n",
      "Epoch 189 | Train Loss: 0.005821 | Test Loss: 0.005630\n",
      "Epoch 191: Current LR = 6.25e-05\n",
      "Epoch 190 | Train Loss: 0.005816 | Test Loss: 0.005611\n",
      "Epoch 192: Current LR = 6.25e-05\n",
      "Epoch 191 | Train Loss: 0.005766 | Test Loss: 0.005602\n",
      "Epoch 193: Current LR = 6.25e-05\n",
      "Epoch 192 | Train Loss: 0.005781 | Test Loss: 0.005604\n",
      "Epoch 194: Current LR = 6.25e-05\n",
      "Epoch 193 | Train Loss: 0.005789 | Test Loss: 0.005603\n",
      "Epoch 195: Current LR = 6.25e-05\n",
      "Epoch 194 | Train Loss: 0.005765 | Test Loss: 0.005597\n",
      "Epoch 196: Current LR = 6.25e-05\n",
      "Epoch 195 | Train Loss: 0.005768 | Test Loss: 0.005597\n",
      "Epoch 197: Current LR = 6.25e-05\n",
      "Epoch 196 | Train Loss: 0.005741 | Test Loss: 0.005599\n",
      "Epoch 198: Current LR = 6.25e-05\n",
      "Epoch 197 | Train Loss: 0.005772 | Test Loss: 0.005595\n",
      "Epoch 199: Current LR = 6.25e-05\n",
      "Epoch 198 | Train Loss: 0.005782 | Test Loss: 0.005589\n",
      "Epoch 200: Current LR = 6.25e-05\n",
      "Epoch 199 | Train Loss: 0.005756 | Test Loss: 0.005587\n",
      "Epoch 201: Current LR = 6.25e-05\n",
      "Epoch 200 | Train Loss: 0.005752 | Test Loss: 0.005584\n",
      "Epoch 202: Current LR = 6.25e-05\n",
      "Epoch 201 | Train Loss: 0.005761 | Test Loss: 0.005580\n",
      "Epoch 203: Current LR = 6.25e-05\n",
      "Epoch 202 | Train Loss: 0.005789 | Test Loss: 0.005575\n",
      "Epoch 204: Current LR = 6.25e-05\n",
      "Epoch 203 | Train Loss: 0.005756 | Test Loss: 0.005572\n",
      "Epoch 205: Current LR = 6.25e-05\n",
      "Epoch 204 | Train Loss: 0.005752 | Test Loss: 0.005568\n",
      "Epoch 206: Current LR = 6.25e-05\n",
      "Epoch 205 | Train Loss: 0.005756 | Test Loss: 0.005562\n",
      "Epoch 207: Current LR = 6.25e-05\n",
      "Epoch 206 | Train Loss: 0.005749 | Test Loss: 0.005562\n",
      "Epoch 208: Current LR = 6.25e-05\n",
      "Epoch 207 | Train Loss: 0.005741 | Test Loss: 0.005562\n",
      "Epoch 209: Current LR = 6.25e-05\n",
      "Epoch 208 | Train Loss: 0.005725 | Test Loss: 0.005554\n",
      "Epoch 210: Current LR = 6.25e-05\n",
      "Epoch 209 | Train Loss: 0.005731 | Test Loss: 0.005546\n",
      "Epoch 211: Current LR = 6.25e-05\n",
      "Epoch 210 | Train Loss: 0.005737 | Test Loss: 0.005547\n",
      "Epoch 212: Current LR = 6.25e-05\n",
      "Epoch 211 | Train Loss: 0.005721 | Test Loss: 0.005548\n",
      "Epoch 213: Current LR = 6.25e-05\n",
      "Epoch 212 | Train Loss: 0.005725 | Test Loss: 0.005540\n",
      "Epoch 214: Current LR = 6.25e-05\n",
      "Epoch 213 | Train Loss: 0.005721 | Test Loss: 0.005530\n",
      "Epoch 215: Current LR = 6.25e-05\n",
      "Epoch 214 | Train Loss: 0.005727 | Test Loss: 0.005534\n",
      "Epoch 216: Current LR = 6.25e-05\n",
      "Epoch 215 | Train Loss: 0.005720 | Test Loss: 0.005541\n",
      "Epoch 217: Current LR = 6.25e-05\n",
      "Epoch 216 | Train Loss: 0.005717 | Test Loss: 0.005538\n",
      "Epoch 218: Current LR = 6.25e-05\n",
      "Epoch 217 | Train Loss: 0.005710 | Test Loss: 0.005525\n",
      "Epoch 219: Current LR = 6.25e-05\n",
      "Epoch 218 | Train Loss: 0.005709 | Test Loss: 0.005515\n",
      "Epoch 220: Current LR = 6.25e-05\n",
      "Epoch 219 | Train Loss: 0.005715 | Test Loss: 0.005514\n",
      "Epoch 221: Current LR = 6.25e-05\n",
      "Epoch 220 | Train Loss: 0.005703 | Test Loss: 0.005512\n",
      "Epoch 222: Current LR = 6.25e-05\n",
      "Epoch 221 | Train Loss: 0.005684 | Test Loss: 0.005505\n",
      "Epoch 223: Current LR = 6.25e-05\n",
      "Epoch 222 | Train Loss: 0.005659 | Test Loss: 0.005502\n",
      "Epoch 224: Current LR = 6.25e-05\n",
      "Epoch 223 | Train Loss: 0.005681 | Test Loss: 0.005501\n",
      "Epoch 225: Current LR = 6.25e-05\n",
      "Epoch 224 | Train Loss: 0.005679 | Test Loss: 0.005495\n",
      "Epoch 226: Current LR = 6.25e-05\n",
      "Epoch 225 | Train Loss: 0.005687 | Test Loss: 0.005492\n",
      "Epoch 227: Current LR = 6.25e-05\n",
      "Epoch 226 | Train Loss: 0.005692 | Test Loss: 0.005490\n",
      "Epoch 228: Current LR = 6.25e-05\n",
      "Epoch 227 | Train Loss: 0.005681 | Test Loss: 0.005485\n",
      "Epoch 229: Current LR = 6.25e-05\n",
      "Epoch 228 | Train Loss: 0.005667 | Test Loss: 0.005485\n",
      "Epoch 230: Current LR = 6.25e-05\n",
      "Epoch 229 | Train Loss: 0.005673 | Test Loss: 0.005484\n",
      "Epoch 231: Current LR = 6.25e-05\n",
      "Epoch 230 | Train Loss: 0.005663 | Test Loss: 0.005478\n",
      "Epoch 232: Current LR = 6.25e-05\n",
      "Epoch 231 | Train Loss: 0.005668 | Test Loss: 0.005474\n",
      "Epoch 233: Current LR = 6.25e-05\n",
      "Epoch 232 | Train Loss: 0.005661 | Test Loss: 0.005473\n",
      "Epoch 234: Current LR = 6.25e-05\n",
      "Epoch 233 | Train Loss: 0.005664 | Test Loss: 0.005468\n",
      "Epoch 235: Current LR = 6.25e-05\n",
      "Epoch 234 | Train Loss: 0.005674 | Test Loss: 0.005469\n",
      "Epoch 236: Current LR = 6.25e-05\n",
      "Epoch 235 | Train Loss: 0.005665 | Test Loss: 0.005470\n",
      "Epoch 237: Current LR = 6.25e-05\n",
      "Epoch 236 | Train Loss: 0.005671 | Test Loss: 0.005464\n",
      "Epoch 238: Current LR = 6.25e-05\n",
      "Epoch 237 | Train Loss: 0.005638 | Test Loss: 0.005459\n",
      "Epoch 239: Current LR = 6.25e-05\n",
      "Epoch 238 | Train Loss: 0.005670 | Test Loss: 0.005457\n",
      "Epoch 240: Current LR = 6.25e-05\n",
      "Epoch 239 | Train Loss: 0.005628 | Test Loss: 0.005454\n",
      "Epoch 241: Current LR = 6.25e-05\n",
      "Epoch 240 | Train Loss: 0.005659 | Test Loss: 0.005454\n",
      "Epoch 242: Current LR = 6.25e-05\n",
      "Epoch 241 | Train Loss: 0.005627 | Test Loss: 0.005452\n",
      "Epoch 243: Current LR = 6.25e-05\n",
      "Epoch 242 | Train Loss: 0.005651 | Test Loss: 0.005446\n",
      "Epoch 244: Current LR = 6.25e-05\n",
      "Epoch 243 | Train Loss: 0.005627 | Test Loss: 0.005444\n",
      "Epoch 245: Current LR = 6.25e-05\n",
      "Epoch 244 | Train Loss: 0.005637 | Test Loss: 0.005444\n",
      "Epoch 246: Current LR = 6.25e-05\n",
      "Epoch 245 | Train Loss: 0.005632 | Test Loss: 0.005439\n",
      "Epoch 247: Current LR = 6.25e-05\n",
      "Epoch 246 | Train Loss: 0.005619 | Test Loss: 0.005434\n",
      "Epoch 248: Current LR = 6.25e-05\n",
      "Epoch 247 | Train Loss: 0.005627 | Test Loss: 0.005432\n",
      "Epoch 249: Current LR = 6.25e-05\n",
      "Epoch 248 | Train Loss: 0.005617 | Test Loss: 0.005428\n",
      "Epoch 250: Current LR = 6.25e-05\n",
      "Epoch 249 | Train Loss: 0.005613 | Test Loss: 0.005427\n",
      "Epoch 251: Current LR = 6.25e-05\n",
      "Epoch 250 | Train Loss: 0.005621 | Test Loss: 0.005425\n",
      "Epoch 252: Current LR = 6.25e-05\n",
      "Epoch 251 | Train Loss: 0.005621 | Test Loss: 0.005419\n",
      "Epoch 253: Current LR = 6.25e-05\n",
      "Epoch 252 | Train Loss: 0.005613 | Test Loss: 0.005419\n",
      "Epoch 254: Current LR = 6.25e-05\n",
      "Epoch 253 | Train Loss: 0.005609 | Test Loss: 0.005420\n",
      "Epoch 255: Current LR = 6.25e-05\n",
      "Epoch 254 | Train Loss: 0.005608 | Test Loss: 0.005414\n",
      "Epoch 256: Current LR = 6.25e-05\n",
      "Epoch 255 | Train Loss: 0.005603 | Test Loss: 0.005408\n",
      "Epoch 257: Current LR = 6.25e-05\n",
      "Epoch 256 | Train Loss: 0.005602 | Test Loss: 0.005406\n",
      "Epoch 258: Current LR = 6.25e-05\n",
      "Epoch 257 | Train Loss: 0.005591 | Test Loss: 0.005403\n",
      "Epoch 259: Current LR = 6.25e-05\n",
      "Epoch 258 | Train Loss: 0.005590 | Test Loss: 0.005403\n",
      "Epoch 260: Current LR = 6.25e-05\n",
      "Epoch 259 | Train Loss: 0.005585 | Test Loss: 0.005402\n",
      "Epoch 261: Current LR = 6.25e-05\n",
      "Epoch 260 | Train Loss: 0.005581 | Test Loss: 0.005395\n",
      "Epoch 262: Current LR = 6.25e-05\n",
      "Epoch 261 | Train Loss: 0.005588 | Test Loss: 0.005392\n",
      "Epoch 263: Current LR = 6.25e-05\n",
      "Epoch 262 | Train Loss: 0.005589 | Test Loss: 0.005392\n",
      "Epoch 264: Current LR = 6.25e-05\n",
      "Epoch 263 | Train Loss: 0.005593 | Test Loss: 0.005387\n",
      "Epoch 265: Current LR = 6.25e-05\n",
      "Epoch 264 | Train Loss: 0.005578 | Test Loss: 0.005384\n",
      "Epoch 266: Current LR = 6.25e-05\n",
      "Epoch 265 | Train Loss: 0.005565 | Test Loss: 0.005384\n",
      "Epoch 267: Current LR = 6.25e-05\n",
      "Epoch 266 | Train Loss: 0.005558 | Test Loss: 0.005379\n",
      "Epoch 268: Current LR = 6.25e-05\n",
      "Epoch 267 | Train Loss: 0.005549 | Test Loss: 0.005377\n",
      "Epoch 269: Current LR = 6.25e-05\n",
      "Epoch 268 | Train Loss: 0.005559 | Test Loss: 0.005376\n",
      "Epoch 270: Current LR = 6.25e-05\n",
      "Epoch 269 | Train Loss: 0.005573 | Test Loss: 0.005371\n",
      "Epoch 271: Current LR = 6.25e-05\n",
      "Epoch 270 | Train Loss: 0.005572 | Test Loss: 0.005372\n",
      "Epoch 272: Current LR = 6.25e-05\n",
      "Epoch 271 | Train Loss: 0.005569 | Test Loss: 0.005373\n",
      "Epoch 273: Current LR = 6.25e-05\n",
      "Epoch 272 | Train Loss: 0.005585 | Test Loss: 0.005367\n",
      "Epoch 274: Current LR = 6.25e-05\n",
      "Epoch 273 | Train Loss: 0.005550 | Test Loss: 0.005363\n",
      "Epoch 275: Current LR = 6.25e-05\n",
      "Epoch 274 | Train Loss: 0.005563 | Test Loss: 0.005361\n",
      "Epoch 276: Current LR = 6.25e-05\n",
      "Epoch 275 | Train Loss: 0.005558 | Test Loss: 0.005358\n",
      "Epoch 277: Current LR = 6.25e-05\n",
      "Epoch 276 | Train Loss: 0.005534 | Test Loss: 0.005358\n",
      "Epoch 278: Current LR = 6.25e-05\n",
      "Epoch 277 | Train Loss: 0.005540 | Test Loss: 0.005358\n",
      "Epoch 279: Current LR = 6.25e-05\n",
      "Epoch 278 | Train Loss: 0.005554 | Test Loss: 0.005352\n",
      "Epoch 280: Current LR = 6.25e-05\n",
      "Epoch 279 | Train Loss: 0.005531 | Test Loss: 0.005350\n",
      "Epoch 281: Current LR = 6.25e-05\n",
      "Epoch 280 | Train Loss: 0.005545 | Test Loss: 0.005350\n",
      "Epoch 282: Current LR = 6.25e-05\n",
      "Epoch 281 | Train Loss: 0.005564 | Test Loss: 0.005346\n",
      "Epoch 283: Current LR = 6.25e-05\n",
      "Epoch 282 | Train Loss: 0.005537 | Test Loss: 0.005344\n",
      "Epoch 284: Current LR = 6.25e-05\n",
      "Epoch 283 | Train Loss: 0.005537 | Test Loss: 0.005345\n",
      "Epoch 285: Current LR = 6.25e-05\n",
      "Epoch 284 | Train Loss: 0.005526 | Test Loss: 0.005340\n",
      "Epoch 286: Current LR = 6.25e-05\n",
      "Epoch 285 | Train Loss: 0.005558 | Test Loss: 0.005338\n",
      "Epoch 287: Current LR = 6.25e-05\n",
      "Epoch 286 | Train Loss: 0.005526 | Test Loss: 0.005337\n",
      "Epoch 288: Current LR = 6.25e-05\n",
      "Epoch 287 | Train Loss: 0.005520 | Test Loss: 0.005333\n",
      "Epoch 289: Current LR = 6.25e-05\n",
      "Epoch 288 | Train Loss: 0.005524 | Test Loss: 0.005335\n",
      "Epoch 290: Current LR = 6.25e-05\n",
      "Epoch 289 | Train Loss: 0.005504 | Test Loss: 0.005336\n",
      "Epoch 291: Current LR = 6.25e-05\n",
      "Epoch 290 | Train Loss: 0.005525 | Test Loss: 0.005331\n",
      "Epoch 292: Current LR = 6.25e-05\n",
      "Epoch 291 | Train Loss: 0.005538 | Test Loss: 0.005325\n",
      "Epoch 293: Current LR = 6.25e-05\n",
      "Epoch 292 | Train Loss: 0.005519 | Test Loss: 0.005324\n",
      "Epoch 294: Current LR = 6.25e-05\n",
      "Epoch 293 | Train Loss: 0.005519 | Test Loss: 0.005321\n",
      "Epoch 295: Current LR = 6.25e-05\n",
      "Epoch 294 | Train Loss: 0.005522 | Test Loss: 0.005322\n",
      "Epoch 296: Current LR = 6.25e-05\n",
      "Epoch 295 | Train Loss: 0.005521 | Test Loss: 0.005322\n",
      "Epoch 297: Current LR = 6.25e-05\n",
      "Epoch 296 | Train Loss: 0.005506 | Test Loss: 0.005316\n",
      "Epoch 298: Current LR = 6.25e-05\n",
      "Epoch 297 | Train Loss: 0.005520 | Test Loss: 0.005314\n",
      "Epoch 299: Current LR = 6.25e-05\n",
      "Epoch 298 | Train Loss: 0.005523 | Test Loss: 0.005314\n",
      "Epoch 300: Current LR = 6.25e-05\n",
      "Epoch 299 | Train Loss: 0.005514 | Test Loss: 0.005310\n",
      "Epoch 301: Current LR = 6.25e-05\n",
      "Epoch 300 | Train Loss: 0.005492 | Test Loss: 0.005309\n",
      "Epoch 302: Current LR = 6.25e-05\n",
      "Epoch 301 | Train Loss: 0.005514 | Test Loss: 0.005310\n",
      "Epoch 303: Current LR = 6.25e-05\n",
      "Epoch 302 | Train Loss: 0.005506 | Test Loss: 0.005305\n",
      "Epoch 304: Current LR = 6.25e-05\n",
      "Epoch 303 | Train Loss: 0.005506 | Test Loss: 0.005303\n",
      "Epoch 305: Current LR = 6.25e-05\n",
      "Epoch 304 | Train Loss: 0.005485 | Test Loss: 0.005302\n",
      "Epoch 306: Current LR = 6.25e-05\n",
      "Epoch 305 | Train Loss: 0.005504 | Test Loss: 0.005298\n",
      "Epoch 307: Current LR = 6.25e-05\n",
      "Epoch 306 | Train Loss: 0.005495 | Test Loss: 0.005299\n",
      "Epoch 308: Current LR = 6.25e-05\n",
      "Epoch 307 | Train Loss: 0.005501 | Test Loss: 0.005301\n",
      "Epoch 309: Current LR = 6.25e-05\n",
      "Epoch 308 | Train Loss: 0.005504 | Test Loss: 0.005295\n",
      "Epoch 310: Current LR = 6.25e-05\n",
      "Epoch 309 | Train Loss: 0.005506 | Test Loss: 0.005291\n",
      "Epoch 311: Current LR = 6.25e-05\n",
      "Epoch 310 | Train Loss: 0.005487 | Test Loss: 0.005291\n",
      "Epoch 312: Current LR = 6.25e-05\n",
      "Epoch 311 | Train Loss: 0.005513 | Test Loss: 0.005287\n",
      "Epoch 313: Current LR = 6.25e-05\n",
      "Epoch 312 | Train Loss: 0.005483 | Test Loss: 0.005288\n",
      "Epoch 314: Current LR = 6.25e-05\n",
      "Epoch 313 | Train Loss: 0.005481 | Test Loss: 0.005289\n",
      "Epoch 315: Current LR = 6.25e-05\n",
      "Epoch 314 | Train Loss: 0.005491 | Test Loss: 0.005283\n",
      "Epoch 316: Current LR = 6.25e-05\n",
      "Epoch 315 | Train Loss: 0.005466 | Test Loss: 0.005281\n",
      "Epoch 317: Current LR = 6.25e-05\n",
      "Epoch 316 | Train Loss: 0.005496 | Test Loss: 0.005280\n",
      "Epoch 318: Current LR = 6.25e-05\n",
      "Epoch 317 | Train Loss: 0.005479 | Test Loss: 0.005276\n",
      "Epoch 319: Current LR = 6.25e-05\n",
      "Epoch 318 | Train Loss: 0.005505 | Test Loss: 0.005277\n",
      "Epoch 320: Current LR = 6.25e-05\n",
      "Epoch 319 | Train Loss: 0.005485 | Test Loss: 0.005277\n",
      "Epoch 321: Current LR = 6.25e-05\n",
      "Epoch 320 | Train Loss: 0.005489 | Test Loss: 0.005272\n",
      "Epoch 322: Current LR = 6.25e-05\n",
      "Epoch 321 | Train Loss: 0.005465 | Test Loss: 0.005270\n",
      "Epoch 323: Current LR = 6.25e-05\n",
      "Epoch 322 | Train Loss: 0.005461 | Test Loss: 0.005269\n",
      "Epoch 324: Current LR = 6.25e-05\n",
      "Epoch 323 | Train Loss: 0.005459 | Test Loss: 0.005265\n",
      "Epoch 325: Current LR = 6.25e-05\n",
      "Epoch 324 | Train Loss: 0.005479 | Test Loss: 0.005267\n",
      "Epoch 326: Current LR = 6.25e-05\n",
      "Epoch 325 | Train Loss: 0.005460 | Test Loss: 0.005268\n",
      "Epoch 327: Current LR = 6.25e-05\n",
      "Epoch 326 | Train Loss: 0.005479 | Test Loss: 0.005263\n",
      "Epoch 328: Current LR = 6.25e-05\n",
      "Epoch 327 | Train Loss: 0.005476 | Test Loss: 0.005259\n",
      "Epoch 329: Current LR = 6.25e-05\n",
      "Epoch 328 | Train Loss: 0.005463 | Test Loss: 0.005258\n",
      "Epoch 330: Current LR = 6.25e-05\n",
      "Epoch 329 | Train Loss: 0.005444 | Test Loss: 0.005255\n",
      "Epoch 331: Current LR = 6.25e-05\n",
      "Epoch 330 | Train Loss: 0.005446 | Test Loss: 0.005257\n",
      "Epoch 332: Current LR = 6.25e-05\n",
      "Epoch 331 | Train Loss: 0.005448 | Test Loss: 0.005257\n",
      "Epoch 333: Current LR = 6.25e-05\n",
      "Epoch 332 | Train Loss: 0.005441 | Test Loss: 0.005250\n",
      "Epoch 334: Current LR = 6.25e-05\n",
      "Epoch 333 | Train Loss: 0.005451 | Test Loss: 0.005249\n",
      "Epoch 335: Current LR = 6.25e-05\n",
      "Epoch 334 | Train Loss: 0.005470 | Test Loss: 0.005249\n",
      "Epoch 336: Current LR = 6.25e-05\n",
      "Epoch 335 | Train Loss: 0.005445 | Test Loss: 0.005245\n",
      "Epoch 337: Current LR = 6.25e-05\n",
      "Epoch 336 | Train Loss: 0.005434 | Test Loss: 0.005243\n",
      "Epoch 338: Current LR = 6.25e-05\n",
      "Epoch 337 | Train Loss: 0.005450 | Test Loss: 0.005244\n",
      "Epoch 339: Current LR = 6.25e-05\n",
      "Epoch 338 | Train Loss: 0.005431 | Test Loss: 0.005239\n",
      "Epoch 340: Current LR = 6.25e-05\n",
      "Epoch 339 | Train Loss: 0.005439 | Test Loss: 0.005238\n",
      "Epoch 341: Current LR = 6.25e-05\n",
      "Epoch 340 | Train Loss: 0.005438 | Test Loss: 0.005238\n",
      "Epoch 342: Current LR = 6.25e-05\n",
      "Epoch 341 | Train Loss: 0.005448 | Test Loss: 0.005233\n",
      "Epoch 343: Current LR = 6.25e-05\n",
      "Epoch 342 | Train Loss: 0.005426 | Test Loss: 0.005235\n",
      "Epoch 344: Current LR = 6.25e-05\n",
      "Epoch 343 | Train Loss: 0.005442 | Test Loss: 0.005236\n",
      "Epoch 345: Current LR = 6.25e-05\n",
      "Epoch 344 | Train Loss: 0.005428 | Test Loss: 0.005231\n",
      "Epoch 346: Current LR = 6.25e-05\n",
      "Epoch 345 | Train Loss: 0.005421 | Test Loss: 0.005227\n",
      "Epoch 347: Current LR = 6.25e-05\n",
      "Epoch 346 | Train Loss: 0.005424 | Test Loss: 0.005226\n",
      "Epoch 348: Current LR = 6.25e-05\n",
      "Epoch 347 | Train Loss: 0.005432 | Test Loss: 0.005223\n",
      "Epoch 349: Current LR = 6.25e-05\n",
      "Epoch 348 | Train Loss: 0.005433 | Test Loss: 0.005225\n",
      "Epoch 350: Current LR = 6.25e-05\n",
      "Epoch 349 | Train Loss: 0.005416 | Test Loss: 0.005226\n",
      "Epoch 351: Current LR = 6.25e-05\n",
      "Epoch 350 | Train Loss: 0.005412 | Test Loss: 0.005220\n",
      "Epoch 352: Current LR = 6.25e-05\n",
      "Epoch 351 | Train Loss: 0.005421 | Test Loss: 0.005217\n",
      "Epoch 353: Current LR = 6.25e-05\n",
      "Epoch 352 | Train Loss: 0.005416 | Test Loss: 0.005217\n",
      "Epoch 354: Current LR = 6.25e-05\n",
      "Epoch 353 | Train Loss: 0.005444 | Test Loss: 0.005213\n",
      "Epoch 355: Current LR = 6.25e-05\n",
      "Epoch 354 | Train Loss: 0.005427 | Test Loss: 0.005214\n",
      "Epoch 356: Current LR = 6.25e-05\n",
      "Epoch 355 | Train Loss: 0.005412 | Test Loss: 0.005215\n",
      "Epoch 357: Current LR = 6.25e-05\n",
      "Epoch 356 | Train Loss: 0.005418 | Test Loss: 0.005210\n",
      "Epoch 358: Current LR = 6.25e-05\n",
      "Epoch 357 | Train Loss: 0.005412 | Test Loss: 0.005207\n",
      "Epoch 359: Current LR = 6.25e-05\n",
      "Epoch 358 | Train Loss: 0.005409 | Test Loss: 0.005206\n",
      "Epoch 360: Current LR = 6.25e-05\n",
      "Epoch 359 | Train Loss: 0.005426 | Test Loss: 0.005203\n",
      "Epoch 361: Current LR = 6.25e-05\n",
      "Epoch 360 | Train Loss: 0.005398 | Test Loss: 0.005206\n",
      "Epoch 362: Current LR = 6.25e-05\n",
      "Epoch 361 | Train Loss: 0.005396 | Test Loss: 0.005207\n",
      "Epoch 363: Current LR = 6.25e-05\n",
      "Epoch 362 | Train Loss: 0.005414 | Test Loss: 0.005201\n",
      "Epoch 364: Current LR = 6.25e-05\n",
      "Epoch 363 | Train Loss: 0.005401 | Test Loss: 0.005197\n",
      "Epoch 365: Current LR = 6.25e-05\n",
      "Epoch 364 | Train Loss: 0.005412 | Test Loss: 0.005197\n",
      "Epoch 366: Current LR = 6.25e-05\n",
      "Epoch 365 | Train Loss: 0.005395 | Test Loss: 0.005194\n",
      "Epoch 367: Current LR = 6.25e-05\n",
      "Epoch 366 | Train Loss: 0.005402 | Test Loss: 0.005196\n",
      "Epoch 368: Current LR = 6.25e-05\n",
      "Epoch 367 | Train Loss: 0.005398 | Test Loss: 0.005198\n",
      "Epoch 369: Current LR = 6.25e-05\n",
      "Epoch 368 | Train Loss: 0.005395 | Test Loss: 0.005192\n",
      "Epoch 370: Current LR = 6.25e-05\n",
      "Epoch 369 | Train Loss: 0.005399 | Test Loss: 0.005188\n",
      "Epoch 371: Current LR = 6.25e-05\n",
      "Epoch 370 | Train Loss: 0.005406 | Test Loss: 0.005188\n",
      "Epoch 372: Current LR = 6.25e-05\n",
      "Epoch 371 | Train Loss: 0.005383 | Test Loss: 0.005184\n",
      "Epoch 373: Current LR = 6.25e-05\n",
      "Epoch 372 | Train Loss: 0.005380 | Test Loss: 0.005186\n",
      "Epoch 374: Current LR = 6.25e-05\n",
      "Epoch 373 | Train Loss: 0.005400 | Test Loss: 0.005188\n",
      "Epoch 375: Current LR = 6.25e-05\n",
      "Epoch 374 | Train Loss: 0.005384 | Test Loss: 0.005182\n",
      "Epoch 376: Current LR = 6.25e-05\n",
      "Epoch 375 | Train Loss: 0.005398 | Test Loss: 0.005179\n",
      "Epoch 377: Current LR = 6.25e-05\n",
      "Epoch 376 | Train Loss: 0.005388 | Test Loss: 0.005179\n",
      "Epoch 378: Current LR = 6.25e-05\n",
      "Epoch 377 | Train Loss: 0.005379 | Test Loss: 0.005176\n",
      "Epoch 379: Current LR = 6.25e-05\n",
      "Epoch 378 | Train Loss: 0.005369 | Test Loss: 0.005178\n",
      "Epoch 380: Current LR = 6.25e-05\n",
      "Epoch 379 | Train Loss: 0.005378 | Test Loss: 0.005179\n",
      "Epoch 381: Current LR = 6.25e-05\n",
      "Epoch 380 | Train Loss: 0.005384 | Test Loss: 0.005174\n",
      "Epoch 382: Current LR = 6.25e-05\n",
      "Epoch 381 | Train Loss: 0.005375 | Test Loss: 0.005170\n",
      "Epoch 383: Current LR = 6.25e-05\n",
      "Epoch 382 | Train Loss: 0.005364 | Test Loss: 0.005170\n",
      "Epoch 384: Current LR = 6.25e-05\n",
      "Epoch 383 | Train Loss: 0.005380 | Test Loss: 0.005167\n",
      "Epoch 385: Current LR = 6.25e-05\n",
      "Epoch 384 | Train Loss: 0.005364 | Test Loss: 0.005169\n",
      "Epoch 386: Current LR = 6.25e-05\n",
      "Epoch 385 | Train Loss: 0.005367 | Test Loss: 0.005171\n",
      "Epoch 387: Current LR = 6.25e-05\n",
      "Epoch 386 | Train Loss: 0.005362 | Test Loss: 0.005165\n",
      "Epoch 388: Current LR = 6.25e-05\n",
      "Epoch 387 | Train Loss: 0.005360 | Test Loss: 0.005161\n",
      "Epoch 389: Current LR = 6.25e-05\n",
      "Epoch 388 | Train Loss: 0.005350 | Test Loss: 0.005161\n",
      "Epoch 390: Current LR = 6.25e-05\n",
      "Epoch 389 | Train Loss: 0.005360 | Test Loss: 0.005158\n",
      "Epoch 391: Current LR = 6.25e-05\n",
      "Epoch 390 | Train Loss: 0.005364 | Test Loss: 0.005159\n",
      "Epoch 392: Current LR = 6.25e-05\n",
      "Epoch 391 | Train Loss: 0.005374 | Test Loss: 0.005160\n",
      "Epoch 393: Current LR = 6.25e-05\n",
      "Epoch 392 | Train Loss: 0.005355 | Test Loss: 0.005155\n",
      "Epoch 394: Current LR = 6.25e-05\n",
      "Epoch 393 | Train Loss: 0.005362 | Test Loss: 0.005152\n",
      "Epoch 395: Current LR = 6.25e-05\n",
      "Epoch 394 | Train Loss: 0.005363 | Test Loss: 0.005152\n",
      "Epoch 396: Current LR = 6.25e-05\n",
      "Epoch 395 | Train Loss: 0.005341 | Test Loss: 0.005149\n",
      "Epoch 397: Current LR = 6.25e-05\n",
      "Epoch 396 | Train Loss: 0.005367 | Test Loss: 0.005150\n",
      "Epoch 398: Current LR = 6.25e-05\n",
      "Epoch 397 | Train Loss: 0.005368 | Test Loss: 0.005151\n",
      "Epoch 399: Current LR = 6.25e-05\n",
      "Epoch 398 | Train Loss: 0.005351 | Test Loss: 0.005146\n",
      "Epoch 400: Current LR = 6.25e-05\n",
      "Epoch 399 | Train Loss: 0.005343 | Test Loss: 0.005144\n",
      "Epoch 401: Current LR = 6.25e-05\n",
      "Epoch 400 | Train Loss: 0.005359 | Test Loss: 0.005144\n",
      "Epoch 402: Current LR = 6.25e-05\n",
      "Epoch 401 | Train Loss: 0.005353 | Test Loss: 0.005140\n",
      "Epoch 403: Current LR = 6.25e-05\n",
      "Epoch 402 | Train Loss: 0.005335 | Test Loss: 0.005141\n",
      "Epoch 404: Current LR = 6.25e-05\n",
      "Epoch 403 | Train Loss: 0.005368 | Test Loss: 0.005143\n",
      "Epoch 405: Current LR = 6.25e-05\n",
      "Epoch 404 | Train Loss: 0.005346 | Test Loss: 0.005138\n",
      "Epoch 406: Current LR = 6.25e-05\n",
      "Epoch 405 | Train Loss: 0.005333 | Test Loss: 0.005135\n",
      "Epoch 407: Current LR = 6.25e-05\n",
      "Epoch 406 | Train Loss: 0.005342 | Test Loss: 0.005136\n",
      "Epoch 408: Current LR = 6.25e-05\n",
      "Epoch 407 | Train Loss: 0.005344 | Test Loss: 0.005132\n",
      "Epoch 409: Current LR = 6.25e-05\n",
      "Epoch 408 | Train Loss: 0.005336 | Test Loss: 0.005134\n",
      "Epoch 410: Current LR = 6.25e-05\n",
      "Epoch 409 | Train Loss: 0.005338 | Test Loss: 0.005136\n",
      "Epoch 411: Current LR = 6.25e-05\n",
      "Epoch 410 | Train Loss: 0.005332 | Test Loss: 0.005130\n",
      "Epoch 412: Current LR = 6.25e-05\n",
      "Epoch 411 | Train Loss: 0.005341 | Test Loss: 0.005127\n",
      "Epoch 413: Current LR = 6.25e-05\n",
      "Epoch 412 | Train Loss: 0.005353 | Test Loss: 0.005127\n",
      "Epoch 414: Current LR = 6.25e-05\n",
      "Epoch 413 | Train Loss: 0.005324 | Test Loss: 0.005124\n",
      "Epoch 415: Current LR = 6.25e-05\n",
      "Epoch 414 | Train Loss: 0.005326 | Test Loss: 0.005126\n",
      "Epoch 416: Current LR = 6.25e-05\n",
      "Epoch 415 | Train Loss: 0.005316 | Test Loss: 0.005127\n",
      "Epoch 417: Current LR = 6.25e-05\n",
      "Epoch 416 | Train Loss: 0.005327 | Test Loss: 0.005121\n",
      "Epoch 418: Current LR = 6.25e-05\n",
      "Epoch 417 | Train Loss: 0.005335 | Test Loss: 0.005119\n",
      "Epoch 419: Current LR = 6.25e-05\n",
      "Epoch 418 | Train Loss: 0.005327 | Test Loss: 0.005119\n",
      "Epoch 420: Current LR = 6.25e-05\n",
      "Epoch 419 | Train Loss: 0.005324 | Test Loss: 0.005116\n",
      "Epoch 421: Current LR = 6.25e-05\n",
      "Epoch 420 | Train Loss: 0.005309 | Test Loss: 0.005117\n",
      "Epoch 422: Current LR = 6.25e-05\n",
      "Epoch 421 | Train Loss: 0.005321 | Test Loss: 0.005118\n",
      "Epoch 423: Current LR = 6.25e-05\n",
      "Epoch 422 | Train Loss: 0.005335 | Test Loss: 0.005113\n",
      "Epoch 424: Current LR = 6.25e-05\n",
      "Epoch 423 | Train Loss: 0.005313 | Test Loss: 0.005111\n",
      "Epoch 425: Current LR = 6.25e-05\n",
      "Epoch 424 | Train Loss: 0.005311 | Test Loss: 0.005111\n",
      "Epoch 426: Current LR = 6.25e-05\n",
      "Epoch 425 | Train Loss: 0.005301 | Test Loss: 0.005108\n",
      "Epoch 427: Current LR = 6.25e-05\n",
      "Epoch 426 | Train Loss: 0.005325 | Test Loss: 0.005110\n",
      "Epoch 428: Current LR = 6.25e-05\n",
      "Epoch 427 | Train Loss: 0.005320 | Test Loss: 0.005112\n",
      "Epoch 429: Current LR = 6.25e-05\n",
      "Epoch 428 | Train Loss: 0.005326 | Test Loss: 0.005106\n",
      "Epoch 430: Current LR = 6.25e-05\n",
      "Epoch 429 | Train Loss: 0.005322 | Test Loss: 0.005103\n",
      "Epoch 431: Current LR = 6.25e-05\n",
      "Epoch 430 | Train Loss: 0.005321 | Test Loss: 0.005103\n",
      "Epoch 432: Current LR = 6.25e-05\n",
      "Epoch 431 | Train Loss: 0.005299 | Test Loss: 0.005100\n",
      "Epoch 433: Current LR = 6.25e-05\n",
      "Epoch 432 | Train Loss: 0.005306 | Test Loss: 0.005102\n",
      "Epoch 434: Current LR = 6.25e-05\n",
      "Epoch 433 | Train Loss: 0.005304 | Test Loss: 0.005104\n",
      "Epoch 435: Current LR = 6.25e-05\n",
      "Epoch 434 | Train Loss: 0.005296 | Test Loss: 0.005098\n",
      "Epoch 436: Current LR = 6.25e-05\n",
      "Epoch 435 | Train Loss: 0.005289 | Test Loss: 0.005095\n",
      "Epoch 437: Current LR = 6.25e-05\n",
      "Epoch 436 | Train Loss: 0.005290 | Test Loss: 0.005095\n",
      "Epoch 438: Current LR = 6.25e-05\n",
      "Epoch 437 | Train Loss: 0.005303 | Test Loss: 0.005092\n",
      "Epoch 439: Current LR = 6.25e-05\n",
      "Epoch 438 | Train Loss: 0.005273 | Test Loss: 0.005094\n",
      "Epoch 440: Current LR = 6.25e-05\n",
      "Epoch 439 | Train Loss: 0.005302 | Test Loss: 0.005096\n",
      "Epoch 441: Current LR = 6.25e-05\n",
      "Epoch 440 | Train Loss: 0.005299 | Test Loss: 0.005090\n",
      "Epoch 442: Current LR = 6.25e-05\n",
      "Epoch 441 | Train Loss: 0.005283 | Test Loss: 0.005087\n",
      "Epoch 443: Current LR = 6.25e-05\n",
      "Epoch 442 | Train Loss: 0.005312 | Test Loss: 0.005087\n",
      "Epoch 444: Current LR = 6.25e-05\n",
      "Epoch 443 | Train Loss: 0.005282 | Test Loss: 0.005084\n",
      "Epoch 445: Current LR = 6.25e-05\n",
      "Epoch 444 | Train Loss: 0.005293 | Test Loss: 0.005086\n",
      "Epoch 446: Current LR = 6.25e-05\n",
      "Epoch 445 | Train Loss: 0.005295 | Test Loss: 0.005087\n",
      "Epoch 447: Current LR = 6.25e-05\n",
      "Epoch 446 | Train Loss: 0.005293 | Test Loss: 0.005082\n",
      "Epoch 448: Current LR = 6.25e-05\n",
      "Epoch 447 | Train Loss: 0.005276 | Test Loss: 0.005079\n",
      "Epoch 449: Current LR = 6.25e-05\n",
      "Epoch 448 | Train Loss: 0.005299 | Test Loss: 0.005080\n",
      "Epoch 450: Current LR = 6.25e-05\n",
      "Epoch 449 | Train Loss: 0.005301 | Test Loss: 0.005076\n",
      "Epoch 451: Current LR = 6.25e-05\n",
      "Epoch 450 | Train Loss: 0.005280 | Test Loss: 0.005077\n",
      "Epoch 452: Current LR = 6.25e-05\n",
      "Epoch 451 | Train Loss: 0.005287 | Test Loss: 0.005079\n",
      "Epoch 453: Current LR = 6.25e-05\n",
      "Epoch 452 | Train Loss: 0.005295 | Test Loss: 0.005074\n",
      "Epoch 454: Current LR = 6.25e-05\n",
      "Epoch 453 | Train Loss: 0.005268 | Test Loss: 0.005072\n",
      "Epoch 455: Current LR = 6.25e-05\n",
      "Epoch 454 | Train Loss: 0.005264 | Test Loss: 0.005072\n",
      "Epoch 456: Current LR = 6.25e-05\n",
      "Epoch 455 | Train Loss: 0.005266 | Test Loss: 0.005068\n",
      "Epoch 457: Current LR = 6.25e-05\n",
      "Epoch 456 | Train Loss: 0.005266 | Test Loss: 0.005071\n",
      "Epoch 458: Current LR = 6.25e-05\n",
      "Epoch 457 | Train Loss: 0.005272 | Test Loss: 0.005073\n",
      "Epoch 459: Current LR = 6.25e-05\n",
      "Epoch 458 | Train Loss: 0.005292 | Test Loss: 0.005067\n",
      "Epoch 460: Current LR = 6.25e-05\n",
      "Epoch 459 | Train Loss: 0.005261 | Test Loss: 0.005064\n",
      "Epoch 461: Current LR = 6.25e-05\n",
      "Epoch 460 | Train Loss: 0.005274 | Test Loss: 0.005064\n",
      "Epoch 462: Current LR = 6.25e-05\n",
      "Epoch 461 | Train Loss: 0.005268 | Test Loss: 0.005061\n",
      "Epoch 463: Current LR = 6.25e-05\n",
      "Epoch 462 | Train Loss: 0.005258 | Test Loss: 0.005062\n",
      "Epoch 464: Current LR = 6.25e-05\n",
      "Epoch 463 | Train Loss: 0.005254 | Test Loss: 0.005064\n",
      "Epoch 465: Current LR = 6.25e-05\n",
      "Epoch 464 | Train Loss: 0.005284 | Test Loss: 0.005058\n",
      "Epoch 466: Current LR = 6.25e-05\n",
      "Epoch 465 | Train Loss: 0.005273 | Test Loss: 0.005057\n",
      "Epoch 467: Current LR = 6.25e-05\n",
      "Epoch 466 | Train Loss: 0.005261 | Test Loss: 0.005058\n",
      "Epoch 468: Current LR = 6.25e-05\n",
      "Epoch 467 | Train Loss: 0.005256 | Test Loss: 0.005054\n",
      "Epoch 469: Current LR = 6.25e-05\n",
      "Epoch 468 | Train Loss: 0.005276 | Test Loss: 0.005054\n",
      "Epoch 470: Current LR = 6.25e-05\n",
      "Epoch 469 | Train Loss: 0.005242 | Test Loss: 0.005056\n",
      "Epoch 471: Current LR = 6.25e-05\n",
      "Epoch 470 | Train Loss: 0.005251 | Test Loss: 0.005051\n",
      "Epoch 472: Current LR = 6.25e-05\n",
      "Epoch 471 | Train Loss: 0.005258 | Test Loss: 0.005049\n",
      "Epoch 473: Current LR = 6.25e-05\n",
      "Epoch 472 | Train Loss: 0.005250 | Test Loss: 0.005050\n",
      "Epoch 474: Current LR = 6.25e-05\n",
      "Epoch 473 | Train Loss: 0.005247 | Test Loss: 0.005046\n",
      "Epoch 475: Current LR = 6.25e-05\n",
      "Epoch 474 | Train Loss: 0.005268 | Test Loss: 0.005048\n",
      "Epoch 476: Current LR = 6.25e-05\n",
      "Epoch 475 | Train Loss: 0.005242 | Test Loss: 0.005050\n",
      "Epoch 477: Current LR = 6.25e-05\n",
      "Epoch 476 | Train Loss: 0.005238 | Test Loss: 0.005045\n",
      "Epoch 478: Current LR = 6.25e-05\n",
      "Epoch 477 | Train Loss: 0.005244 | Test Loss: 0.005042\n",
      "Epoch 479: Current LR = 6.25e-05\n",
      "Epoch 478 | Train Loss: 0.005248 | Test Loss: 0.005042\n",
      "Epoch 480: Current LR = 6.25e-05\n",
      "Epoch 479 | Train Loss: 0.005237 | Test Loss: 0.005039\n",
      "Epoch 481: Current LR = 6.25e-05\n",
      "Epoch 480 | Train Loss: 0.005253 | Test Loss: 0.005041\n",
      "Epoch 482: Current LR = 6.25e-05\n",
      "Epoch 481 | Train Loss: 0.005267 | Test Loss: 0.005043\n",
      "Epoch 483: Current LR = 6.25e-05\n",
      "Epoch 482 | Train Loss: 0.005238 | Test Loss: 0.005037\n",
      "Epoch 484: Current LR = 6.25e-05\n",
      "Epoch 483 | Train Loss: 0.005244 | Test Loss: 0.005035\n",
      "Epoch 485: Current LR = 6.25e-05\n",
      "Epoch 484 | Train Loss: 0.005239 | Test Loss: 0.005035\n",
      "Epoch 486: Current LR = 6.25e-05\n",
      "Epoch 485 | Train Loss: 0.005236 | Test Loss: 0.005032\n",
      "Epoch 487: Current LR = 6.25e-05\n",
      "Epoch 486 | Train Loss: 0.005238 | Test Loss: 0.005034\n",
      "Epoch 488: Current LR = 6.25e-05\n",
      "Epoch 487 | Train Loss: 0.005246 | Test Loss: 0.005035\n",
      "Epoch 489: Current LR = 6.25e-05\n",
      "Epoch 488 | Train Loss: 0.005227 | Test Loss: 0.005030\n",
      "Epoch 490: Current LR = 6.25e-05\n",
      "Epoch 489 | Train Loss: 0.005243 | Test Loss: 0.005028\n",
      "Epoch 491: Current LR = 6.25e-05\n",
      "Epoch 490 | Train Loss: 0.005239 | Test Loss: 0.005028\n",
      "Epoch 492: Current LR = 6.25e-05\n",
      "Epoch 491 | Train Loss: 0.005232 | Test Loss: 0.005025\n",
      "Epoch 493: Current LR = 6.25e-05\n",
      "Epoch 492 | Train Loss: 0.005240 | Test Loss: 0.005027\n",
      "Epoch 494: Current LR = 6.25e-05\n",
      "Epoch 493 | Train Loss: 0.005222 | Test Loss: 0.005029\n",
      "Epoch 495: Current LR = 6.25e-05\n",
      "Epoch 494 | Train Loss: 0.005215 | Test Loss: 0.005023\n",
      "Epoch 496: Current LR = 6.25e-05\n",
      "Epoch 495 | Train Loss: 0.005231 | Test Loss: 0.005021\n",
      "Epoch 497: Current LR = 6.25e-05\n",
      "Epoch 496 | Train Loss: 0.005222 | Test Loss: 0.005021\n",
      "Epoch 498: Current LR = 6.25e-05\n",
      "Epoch 497 | Train Loss: 0.005225 | Test Loss: 0.005018\n",
      "Epoch 499: Current LR = 6.25e-05\n",
      "Epoch 498 | Train Loss: 0.005228 | Test Loss: 0.005020\n",
      "Epoch 500: Current LR = 6.25e-05\n",
      "Epoch 499 | Train Loss: 0.005223 | Test Loss: 0.005023\n"
     ]
    }
   ],
   "source": [
    "# 创建数据集 \n",
    "dataset = StockDataset(bk_data_ls, seq_length=16, forecast_gap=2)\n",
    "train_size = int(0.8 * len(dataset))\n",
    "train_set, test_set = torch.utils.data.random_split( \n",
    "    dataset, [train_size, len(dataset) - train_size]\n",
    ")\n",
    "\n",
    "# 数据加载器 \n",
    "train_loader = DataLoader(train_set, batch_size=100000, shuffle=True)\n",
    "test_loader = DataLoader(test_set, batch_size=100000)\n",
    "\n",
    "# 模型初始化\n",
    "device = 'cuda' if torch.cuda.is_available() else 'cpu'\n",
    "\n",
    "# 加载模型（需先实例化结构）\n",
    "model = MultiScaleAttentionLSTM(\n",
    "    input_size=7,  # 7个特征 \n",
    "    hidden_size=64,\n",
    "    num_layers_long = 3, \n",
    "    num_layers_short = 2\n",
    ").to(device)\n",
    "\n",
    "if os.path.exists('./model/model.pth'):\n",
    "    model.load_state_dict(torch.load('./model/model.pth')) \n",
    "\n",
    "# 训练参数 \n",
    "criterion = nn.MSELoss()\n",
    "grad_scaler = amp.GradScaler(device)\n",
    "optimizer = torch.optim.Adam(model.parameters(),  lr=0.001)\n",
    "scheduler = torch.optim.lr_scheduler.ReduceLROnPlateau( \n",
    "    optimizer, \n",
    "    mode='min',       # 监控验证损失\n",
    "    factor=0.5,       # 学习率衰减系数 \n",
    "    patience=5,       # 容忍5个epoch无改善\n",
    ")\n",
    "\n",
    "# ===== 4. 训练循环 =====\n",
    "for epoch in range(500):\n",
    "    model.train() \n",
    "    train_loss = 0 \n",
    "    for X_batch, y_batch in train_loader:\n",
    "        X_batch, y_batch = X_batch.to(device),  y_batch.to(device) \n",
    "        \n",
    "        with amp.autocast(device_type=device): \n",
    "            outputs = model(X_batch)\n",
    "            loss = criterion(outputs, y_batch)\n",
    "        train_loss += loss.item()\n",
    "        # 反向传播（自动处理精度）\n",
    "        grad_scaler.scale(loss).backward()   # 缩放梯度\n",
    "        nn.utils.clip_grad_norm_(model.parameters(), max_norm=1.0)\n",
    "        grad_scaler.step(optimizer)          # 更新参数 \n",
    "        grad_scaler.update()                 # 调整缩放因子 \n",
    "        optimizer.zero_grad() \n",
    "    print(f\"Epoch {epoch+1}: Current LR = {scheduler.get_last_lr()[0]}\") \n",
    "    # 验证\n",
    "    model.eval() \n",
    "    test_loss = 0\n",
    "    with torch.no_grad(): \n",
    "        for X_test, y_test in test_loader:\n",
    "            X_test, y_test = X_test.to(device),  y_test.to(device) \n",
    "            preds = model(X_test)\n",
    "            test_loss += criterion(preds, y_test).item()\n",
    "    \n",
    "    scheduler.step(test_loss) \n",
    "    print(f'Epoch {epoch} | Train Loss: {train_loss/len(train_loader):.6f} | Test Loss: {test_loss/len(test_loader):.6f}')\n",
    "\n",
    "torch.save(model.state_dict(),  './model/model.pth') \n"
   ]
  },
  {
   "cell_type": "code",
   "execution_count": 29,
   "id": "dca4f939",
   "metadata": {},
   "outputs": [
    {
     "name": "stdout",
     "output_type": "stream",
     "text": [
      "('贵金属', 881169, 4033.3818, 3734.198, 8.011994)\n"
     ]
    }
   ],
   "source": [
    "# ===== 5. 预测示例 =====\n",
    "model.eval()\n",
    "dtype = [('name', 'U20'), ('code', 'i4'), ('real_pred', 'f4'), ('close', 'f4'), ('change_rate', 'f4')]\n",
    "arr = np.empty(len(bk_data_ls), dtype= dtype)\n",
    "\n",
    "with torch.no_grad():\n",
    "    for i in range(len(bk_data_ls)):\n",
    "        name, code, data = bk_data_ls[i]\n",
    "        scaler = dataset.get_scaler(code)\n",
    "        max_index = len(data) - dataset.seq_length\n",
    "        seq_features = scaler.transform(data.iloc[max_index:,1:])\n",
    "        code_feature = code_scaler.transform(pd.DataFrame({\"code\": [code]}))\n",
    "        seq_features = np.insert(seq_features,  1, code_feature, axis=1)\n",
    "        X = torch.tensor(seq_features,  dtype=torch.float32).to(device)\n",
    "        X=X.unsqueeze(0)  # 添加批次维度\n",
    "\n",
    "        prediction = model(X)\n",
    "        scaled_pred = prediction.cpu().numpy() \n",
    "        \n",
    "        # 逆归一化收盘价 \n",
    "        dummy = np.zeros((1,  6))\n",
    "        dummy[:, 3] = scaled_pred  # 将预测值放入close列\n",
    "        real_pred = scaler.inverse_transform(dummy)[0,  3]\n",
    "        # if real_pred > data.iloc[-1,  3]:\n",
    "        #     print(\"high\")\n",
    "        # else:\n",
    "        #     print(\"low\")\n",
    "        # print(f'stock name: {name}, stock code: {code}, 今天收盘价：{data.iloc[-1,  3]}, 预测的后天收盘价: {real_pred:.2f}')\n",
    "        change_rate = (real_pred/data.iloc[-1,  3] - 1)* 100\n",
    "        arr[i] = (name, code, real_pred, data.iloc[-1,  3], change_rate)\n",
    "\n",
    "arr = arr[np.argsort(arr['change_rate'])][::-1]\n",
    "print(arr[0])\n",
    "np.savetxt(\"output.csv\",  arr, delimiter=\",\", fmt='%s,%d,%.4f,%.4f,%.4f', encoding='utf-8')\n"
   ]
  },
  {
   "cell_type": "code",
   "execution_count": null,
   "id": "734c8eb9",
   "metadata": {},
   "outputs": [],
   "source": []
  },
  {
   "cell_type": "code",
   "execution_count": null,
   "id": "eb1b84f1",
   "metadata": {},
   "outputs": [],
   "source": []
  },
  {
   "cell_type": "code",
   "execution_count": null,
   "id": "ab3ed238",
   "metadata": {},
   "outputs": [],
   "source": []
  }
 ],
 "metadata": {
  "kernelspec": {
   "display_name": "Python 3",
   "language": "python",
   "name": "python3"
  },
  "language_info": {
   "codemirror_mode": {
    "name": "ipython",
    "version": 3
   },
   "file_extension": ".py",
   "mimetype": "text/x-python",
   "name": "python",
   "nbconvert_exporter": "python",
   "pygments_lexer": "ipython3",
   "version": "3.12.9"
  }
 },
 "nbformat": 4,
 "nbformat_minor": 5
}
