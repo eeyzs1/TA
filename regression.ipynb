{
 "cells": [
  {
   "cell_type": "code",
   "execution_count": 16,
   "id": "8a97e97d",
   "metadata": {},
   "outputs": [],
   "source": [
    "import requests\n",
    "from bs4 import BeautifulSoup\n",
    "from akshare.utils import demjson\n",
    "import pandas as pd\n",
    "from datetime import datetime, timedelta\n",
    "from akshare.tool.trade_date_hist import tool_trade_date_hist_sina\n",
    "\n",
    "# ===== 1. 数据预处理 ===== \n",
    "import numpy as np\n",
    "import torch\n",
    "import torch.nn as nn\n",
    "from torch  import amp\n",
    "from torch.utils.data  import Dataset, DataLoader\n",
    "from sklearn.preprocessing  import MinMaxScaler\n",
    "import joblib\n",
    "import os\n",
    "from tqdm.notebook import tqdm\n",
    "# import py_mini_racer\n",
    "import time"
   ]
  },
  {
   "cell_type": "code",
   "execution_count": 17,
   "id": "7b676539",
   "metadata": {},
   "outputs": [
    {
     "name": "stdout",
     "output_type": "stream",
     "text": [
      "最近交易日：2025-09-19\n",
      "上一个交易日：2025-09-18\n"
     ]
    }
   ],
   "source": [
    "# def is_trading_day():\n",
    "#     today = datetime.now().strftime('%Y-%m-%d') \n",
    "#     # 获取交易日历（新浪财经）\n",
    "#     trade_date_df = tool_trade_date_hist_sina() \n",
    "#     # 判断今天是否在交易日历中\n",
    "#     return today in trade_date_df['trade_date'].values\n",
    "\n",
    "# if is_trading_day():\n",
    "#     print(\"今天是交易日\")\n",
    "# else:\n",
    "#     print(\"今天不是交易日\")\n",
    "\n",
    "# is_trading_day = is_trading_day()\n",
    "# today = datetime.now().date()\n",
    "trade_date_df = tool_trade_date_hist_sina() \n",
    " \n",
    "# 确保日期列是字符串格式\n",
    "trade_date_list = trade_date_df['trade_date'].astype(str).tolist()\n",
    " \n",
    "# 获取当前日期\n",
    "today = datetime.now().date() - timedelta(days=1)\n",
    "lastday = today - timedelta(days=1)\n",
    "# 找到最近交易日\n",
    "recent_trade_date = today \n",
    "while str(recent_trade_date) not in trade_date_list:\n",
    "    recent_trade_date -= timedelta(days=1)\n",
    "    lastday -= timedelta(days=1)\n",
    "while str(lastday) not in trade_date_list:\n",
    "    lastday -= timedelta(days=1)\n",
    "\n",
    "print(f\"最近交易日：{recent_trade_date}\")\n",
    "print(f\"上一个交易日：{lastday}\")"
   ]
  },
  {
   "cell_type": "code",
   "execution_count": 18,
   "id": "8de3500c",
   "metadata": {},
   "outputs": [],
   "source": [
    "start_year = \"2025\"\n",
    "current_year = datetime.now().year\n",
    "\n",
    "# js_code = py_mini_racer.MiniRacer()\n",
    "# with open('ths.js', 'r', encoding=\"utf-8\") as f:\n",
    "#     js_content = f.read()\n",
    "# js_code.eval(js_content)\n",
    "# v_code = js_code.call(\"v\")\n",
    "\n",
    "headers = {\n",
    "        \"User-Agent\": \"Mozilla/5.0 (Windows NT 10.0; Win64; x64) AppleWebKit/537.36 (KHTML, like Gecko) \"\n",
    "        \"Chrome/89.0.4389.90 Safari/537.36\",\n",
    "        # \"Cookie\": f\"v={v_code}\",\n",
    "    }\n",
    "headers_bk = {\n",
    "            \"User-Agent\": \"Mozilla/5.0 (Windows NT 10.0; Win64; x64) AppleWebKit/537.36 (KHTML, like Gecko) \"\n",
    "            \"Chrome/89.0.4389.90 Safari/537.36\",\n",
    "            \"Referer\": \"https://q.10jqka.com.cn\",\n",
    "            \"Host\": \"d.10jqka.com.cn\",\n",
    "            # \"Cookie\": f\"v={v_code}\",\n",
    "        }\n",
    "\n",
    "gn_link_code_ls = []\n",
    "thshy_link_code_ls = []\n",
    "bk_data_ls = []\n",
    "code_ls = []\n",
    "\n",
    "for suffix in [\"gn/\",\"thshy/\"]:\n",
    "    url = f\"https://q.10jqka.com.cn/{suffix}\"\n",
    "    r = requests.get(url, headers=headers)\n",
    "    soup = BeautifulSoup(r.text, features=\"lxml\")\n",
    "    divs = soup.find_all(name=\"div\", attrs={\"class\": \"cate_items\"})\n",
    "    for div in divs:\n",
    "        # 在每个div中查找所有的a标签\n",
    "        links = div.find_all('a') \n",
    "        for link in links:\n",
    "            # 获取href属性\n",
    "            href = link.get('href') \n",
    "            # 获取文本内容\n",
    "            text = link.text\n",
    "            if suffix == \"thshy/\":\n",
    "                parts = href.rstrip('/').split('/')\n",
    "                code = parts[-1]\n",
    "                thshy_link_code_ls.append((code,  text))\n",
    "            else:\n",
    "                gn_link_code_ls.append((href,  text))\n"
   ]
  },
  {
   "cell_type": "code",
   "execution_count": 19,
   "id": "157315ef",
   "metadata": {},
   "outputs": [
    {
     "name": "stdout",
     "output_type": "stream",
     "text": [
      "352\n"
     ]
    },
    {
     "data": {
      "application/vnd.jupyter.widget-view+json": {
       "model_id": "c4d31ca5f6924723b511df8f21e6dced",
       "version_major": 2,
       "version_minor": 0
      },
      "text/plain": [
       "  0%|          | 0/1 [00:00<?, ?it/s]"
      ]
     },
     "metadata": {},
     "output_type": "display_data"
    },
    {
     "data": {
      "application/vnd.jupyter.widget-view+json": {
       "model_id": "3f057772685e424192cd57837ac652ce",
       "version_major": 2,
       "version_minor": 0
      },
      "text/plain": [
       "  0%|          | 0/1 [00:00<?, ?it/s]"
      ]
     },
     "metadata": {},
     "output_type": "display_data"
    },
    {
     "data": {
      "application/vnd.jupyter.widget-view+json": {
       "model_id": "80fc9b00c8764428bef9b1fa4f4d4810",
       "version_major": 2,
       "version_minor": 0
      },
      "text/plain": [
       "  0%|          | 0/1 [00:00<?, ?it/s]"
      ]
     },
     "metadata": {},
     "output_type": "display_data"
    },
    {
     "data": {
      "application/vnd.jupyter.widget-view+json": {
       "model_id": "61eb1a76d0b34f439bf59cc3ab02fc0a",
       "version_major": 2,
       "version_minor": 0
      },
      "text/plain": [
       "  0%|          | 0/1 [00:00<?, ?it/s]"
      ]
     },
     "metadata": {},
     "output_type": "display_data"
    },
    {
     "data": {
      "application/vnd.jupyter.widget-view+json": {
       "model_id": "d3396c92c610440391e2373dd3edccfe",
       "version_major": 2,
       "version_minor": 0
      },
      "text/plain": [
       "  0%|          | 0/1 [00:00<?, ?it/s]"
      ]
     },
     "metadata": {},
     "output_type": "display_data"
    },
    {
     "data": {
      "application/vnd.jupyter.widget-view+json": {
       "model_id": "115d2b85761542968ae62b869a8d51de",
       "version_major": 2,
       "version_minor": 0
      },
      "text/plain": [
       "  0%|          | 0/1 [00:00<?, ?it/s]"
      ]
     },
     "metadata": {},
     "output_type": "display_data"
    },
    {
     "data": {
      "application/vnd.jupyter.widget-view+json": {
       "model_id": "b6a2052dd2144b0b9a6637cc61250834",
       "version_major": 2,
       "version_minor": 0
      },
      "text/plain": [
       "  0%|          | 0/1 [00:00<?, ?it/s]"
      ]
     },
     "metadata": {},
     "output_type": "display_data"
    },
    {
     "data": {
      "application/vnd.jupyter.widget-view+json": {
       "model_id": "175a740a21504931a6e33b3f80a3cf2c",
       "version_major": 2,
       "version_minor": 0
      },
      "text/plain": [
       "  0%|          | 0/1 [00:00<?, ?it/s]"
      ]
     },
     "metadata": {},
     "output_type": "display_data"
    },
    {
     "data": {
      "application/vnd.jupyter.widget-view+json": {
       "model_id": "bbfc5d52a5b340619456c66c4af65aae",
       "version_major": 2,
       "version_minor": 0
      },
      "text/plain": [
       "  0%|          | 0/1 [00:00<?, ?it/s]"
      ]
     },
     "metadata": {},
     "output_type": "display_data"
    },
    {
     "data": {
      "application/vnd.jupyter.widget-view+json": {
       "model_id": "bb6b90b7ff674c368ab1a8d9e3910e45",
       "version_major": 2,
       "version_minor": 0
      },
      "text/plain": [
       "  0%|          | 0/1 [00:00<?, ?it/s]"
      ]
     },
     "metadata": {},
     "output_type": "display_data"
    },
    {
     "data": {
      "application/vnd.jupyter.widget-view+json": {
       "model_id": "19e2ee76082a48ceafe331a59f9dca27",
       "version_major": 2,
       "version_minor": 0
      },
      "text/plain": [
       "  0%|          | 0/1 [00:00<?, ?it/s]"
      ]
     },
     "metadata": {},
     "output_type": "display_data"
    },
    {
     "data": {
      "application/vnd.jupyter.widget-view+json": {
       "model_id": "436b0227ecd74bfa8180b95d29ba26c6",
       "version_major": 2,
       "version_minor": 0
      },
      "text/plain": [
       "  0%|          | 0/1 [00:00<?, ?it/s]"
      ]
     },
     "metadata": {},
     "output_type": "display_data"
    },
    {
     "data": {
      "application/vnd.jupyter.widget-view+json": {
       "model_id": "79c4c76c936a41f4b82ec55811b3c9bd",
       "version_major": 2,
       "version_minor": 0
      },
      "text/plain": [
       "  0%|          | 0/1 [00:00<?, ?it/s]"
      ]
     },
     "metadata": {},
     "output_type": "display_data"
    },
    {
     "data": {
      "application/vnd.jupyter.widget-view+json": {
       "model_id": "ef6ff30bcd074e65bb31cfb7cc5899ca",
       "version_major": 2,
       "version_minor": 0
      },
      "text/plain": [
       "  0%|          | 0/1 [00:00<?, ?it/s]"
      ]
     },
     "metadata": {},
     "output_type": "display_data"
    },
    {
     "data": {
      "application/vnd.jupyter.widget-view+json": {
       "model_id": "9502f4646dab49b0b2bac1e4e339773b",
       "version_major": 2,
       "version_minor": 0
      },
      "text/plain": [
       "  0%|          | 0/1 [00:00<?, ?it/s]"
      ]
     },
     "metadata": {},
     "output_type": "display_data"
    },
    {
     "data": {
      "application/vnd.jupyter.widget-view+json": {
       "model_id": "7692c9cb306442b584ddf2ed6e041165",
       "version_major": 2,
       "version_minor": 0
      },
      "text/plain": [
       "  0%|          | 0/1 [00:00<?, ?it/s]"
      ]
     },
     "metadata": {},
     "output_type": "display_data"
    },
    {
     "data": {
      "application/vnd.jupyter.widget-view+json": {
       "model_id": "feaab2e3c6434a47bd03e74ce4089d62",
       "version_major": 2,
       "version_minor": 0
      },
      "text/plain": [
       "  0%|          | 0/1 [00:00<?, ?it/s]"
      ]
     },
     "metadata": {},
     "output_type": "display_data"
    },
    {
     "data": {
      "application/vnd.jupyter.widget-view+json": {
       "model_id": "64ffdd9495b946fb871382febb43362a",
       "version_major": 2,
       "version_minor": 0
      },
      "text/plain": [
       "  0%|          | 0/1 [00:00<?, ?it/s]"
      ]
     },
     "metadata": {},
     "output_type": "display_data"
    },
    {
     "data": {
      "application/vnd.jupyter.widget-view+json": {
       "model_id": "3fb6d7114e5142e4bbf1bb0f3d2780ed",
       "version_major": 2,
       "version_minor": 0
      },
      "text/plain": [
       "  0%|          | 0/1 [00:00<?, ?it/s]"
      ]
     },
     "metadata": {},
     "output_type": "display_data"
    },
    {
     "data": {
      "application/vnd.jupyter.widget-view+json": {
       "model_id": "92ab1f3628124be18838a84013339394",
       "version_major": 2,
       "version_minor": 0
      },
      "text/plain": [
       "  0%|          | 0/1 [00:00<?, ?it/s]"
      ]
     },
     "metadata": {},
     "output_type": "display_data"
    },
    {
     "data": {
      "application/vnd.jupyter.widget-view+json": {
       "model_id": "ca27de21251544f190e217a533fbb273",
       "version_major": 2,
       "version_minor": 0
      },
      "text/plain": [
       "  0%|          | 0/1 [00:00<?, ?it/s]"
      ]
     },
     "metadata": {},
     "output_type": "display_data"
    },
    {
     "data": {
      "application/vnd.jupyter.widget-view+json": {
       "model_id": "986c509af25742d3beec9be956dfb133",
       "version_major": 2,
       "version_minor": 0
      },
      "text/plain": [
       "  0%|          | 0/1 [00:00<?, ?it/s]"
      ]
     },
     "metadata": {},
     "output_type": "display_data"
    },
    {
     "data": {
      "application/vnd.jupyter.widget-view+json": {
       "model_id": "1e850ae3b5d94b83b011e80601dede6e",
       "version_major": 2,
       "version_minor": 0
      },
      "text/plain": [
       "  0%|          | 0/1 [00:00<?, ?it/s]"
      ]
     },
     "metadata": {},
     "output_type": "display_data"
    },
    {
     "data": {
      "application/vnd.jupyter.widget-view+json": {
       "model_id": "ca724f66d8c44fb2b1e486b5997843a4",
       "version_major": 2,
       "version_minor": 0
      },
      "text/plain": [
       "  0%|          | 0/1 [00:00<?, ?it/s]"
      ]
     },
     "metadata": {},
     "output_type": "display_data"
    },
    {
     "data": {
      "application/vnd.jupyter.widget-view+json": {
       "model_id": "f6c39f6594424e2b958c3d768ca9495e",
       "version_major": 2,
       "version_minor": 0
      },
      "text/plain": [
       "  0%|          | 0/1 [00:00<?, ?it/s]"
      ]
     },
     "metadata": {},
     "output_type": "display_data"
    },
    {
     "data": {
      "application/vnd.jupyter.widget-view+json": {
       "model_id": "bce0deae974f4e13ab6ae62e8b5982d8",
       "version_major": 2,
       "version_minor": 0
      },
      "text/plain": [
       "  0%|          | 0/1 [00:00<?, ?it/s]"
      ]
     },
     "metadata": {},
     "output_type": "display_data"
    },
    {
     "data": {
      "application/vnd.jupyter.widget-view+json": {
       "model_id": "f6046c0770594403b97b4fe3acc415c4",
       "version_major": 2,
       "version_minor": 0
      },
      "text/plain": [
       "  0%|          | 0/1 [00:00<?, ?it/s]"
      ]
     },
     "metadata": {},
     "output_type": "display_data"
    },
    {
     "data": {
      "application/vnd.jupyter.widget-view+json": {
       "model_id": "c47a6b0f83264e608c19d0ff3fa5e051",
       "version_major": 2,
       "version_minor": 0
      },
      "text/plain": [
       "  0%|          | 0/1 [00:00<?, ?it/s]"
      ]
     },
     "metadata": {},
     "output_type": "display_data"
    },
    {
     "data": {
      "application/vnd.jupyter.widget-view+json": {
       "model_id": "995d7f1b94f048e987c6500e4b68016e",
       "version_major": 2,
       "version_minor": 0
      },
      "text/plain": [
       "  0%|          | 0/1 [00:00<?, ?it/s]"
      ]
     },
     "metadata": {},
     "output_type": "display_data"
    },
    {
     "data": {
      "application/vnd.jupyter.widget-view+json": {
       "model_id": "a06a5876913344e2b233f48bdb4d240c",
       "version_major": 2,
       "version_minor": 0
      },
      "text/plain": [
       "  0%|          | 0/1 [00:00<?, ?it/s]"
      ]
     },
     "metadata": {},
     "output_type": "display_data"
    },
    {
     "data": {
      "application/vnd.jupyter.widget-view+json": {
       "model_id": "7253e62e6f334a3688d6e4fd165393ef",
       "version_major": 2,
       "version_minor": 0
      },
      "text/plain": [
       "  0%|          | 0/1 [00:00<?, ?it/s]"
      ]
     },
     "metadata": {},
     "output_type": "display_data"
    },
    {
     "data": {
      "application/vnd.jupyter.widget-view+json": {
       "model_id": "e59d213e054347c284d1e601bf3f930d",
       "version_major": 2,
       "version_minor": 0
      },
      "text/plain": [
       "  0%|          | 0/1 [00:00<?, ?it/s]"
      ]
     },
     "metadata": {},
     "output_type": "display_data"
    },
    {
     "data": {
      "application/vnd.jupyter.widget-view+json": {
       "model_id": "7dc15dae809e407d8d183e0a96cc8fc6",
       "version_major": 2,
       "version_minor": 0
      },
      "text/plain": [
       "  0%|          | 0/1 [00:00<?, ?it/s]"
      ]
     },
     "metadata": {},
     "output_type": "display_data"
    },
    {
     "data": {
      "application/vnd.jupyter.widget-view+json": {
       "model_id": "3a5c2308fe7844ad9045da9aad507b74",
       "version_major": 2,
       "version_minor": 0
      },
      "text/plain": [
       "  0%|          | 0/1 [00:00<?, ?it/s]"
      ]
     },
     "metadata": {},
     "output_type": "display_data"
    },
    {
     "data": {
      "application/vnd.jupyter.widget-view+json": {
       "model_id": "a1886503aca841f5ab1ed1f376d35377",
       "version_major": 2,
       "version_minor": 0
      },
      "text/plain": [
       "  0%|          | 0/1 [00:00<?, ?it/s]"
      ]
     },
     "metadata": {},
     "output_type": "display_data"
    },
    {
     "data": {
      "application/vnd.jupyter.widget-view+json": {
       "model_id": "198089aeeac744489a7314715f25d001",
       "version_major": 2,
       "version_minor": 0
      },
      "text/plain": [
       "  0%|          | 0/1 [00:00<?, ?it/s]"
      ]
     },
     "metadata": {},
     "output_type": "display_data"
    },
    {
     "data": {
      "application/vnd.jupyter.widget-view+json": {
       "model_id": "ef0aba91df4545c1b5e3c119b15f7dbf",
       "version_major": 2,
       "version_minor": 0
      },
      "text/plain": [
       "  0%|          | 0/1 [00:00<?, ?it/s]"
      ]
     },
     "metadata": {},
     "output_type": "display_data"
    },
    {
     "data": {
      "application/vnd.jupyter.widget-view+json": {
       "model_id": "8aad7a0a08424c95b91314d4245aa74e",
       "version_major": 2,
       "version_minor": 0
      },
      "text/plain": [
       "  0%|          | 0/1 [00:00<?, ?it/s]"
      ]
     },
     "metadata": {},
     "output_type": "display_data"
    },
    {
     "data": {
      "application/vnd.jupyter.widget-view+json": {
       "model_id": "7f8aadd6de2f48e0b7989a54de8d660a",
       "version_major": 2,
       "version_minor": 0
      },
      "text/plain": [
       "  0%|          | 0/1 [00:00<?, ?it/s]"
      ]
     },
     "metadata": {},
     "output_type": "display_data"
    },
    {
     "data": {
      "application/vnd.jupyter.widget-view+json": {
       "model_id": "5ebe3878573a4153bfe35a698d408e9b",
       "version_major": 2,
       "version_minor": 0
      },
      "text/plain": [
       "  0%|          | 0/1 [00:00<?, ?it/s]"
      ]
     },
     "metadata": {},
     "output_type": "display_data"
    },
    {
     "data": {
      "application/vnd.jupyter.widget-view+json": {
       "model_id": "0cc37747faf4406b8107792c84c1377e",
       "version_major": 2,
       "version_minor": 0
      },
      "text/plain": [
       "  0%|          | 0/1 [00:00<?, ?it/s]"
      ]
     },
     "metadata": {},
     "output_type": "display_data"
    },
    {
     "data": {
      "application/vnd.jupyter.widget-view+json": {
       "model_id": "ed779f4497af4c3c9726c61f2bad10b4",
       "version_major": 2,
       "version_minor": 0
      },
      "text/plain": [
       "  0%|          | 0/1 [00:00<?, ?it/s]"
      ]
     },
     "metadata": {},
     "output_type": "display_data"
    },
    {
     "data": {
      "application/vnd.jupyter.widget-view+json": {
       "model_id": "a93a582892ca4ecb93d5435abfcade16",
       "version_major": 2,
       "version_minor": 0
      },
      "text/plain": [
       "  0%|          | 0/1 [00:00<?, ?it/s]"
      ]
     },
     "metadata": {},
     "output_type": "display_data"
    },
    {
     "data": {
      "application/vnd.jupyter.widget-view+json": {
       "model_id": "297a2336a7cc45c598b78bc1c28c1d0c",
       "version_major": 2,
       "version_minor": 0
      },
      "text/plain": [
       "  0%|          | 0/1 [00:00<?, ?it/s]"
      ]
     },
     "metadata": {},
     "output_type": "display_data"
    },
    {
     "data": {
      "application/vnd.jupyter.widget-view+json": {
       "model_id": "6aa0ceb4bd4a4ea4a277e87202c244fc",
       "version_major": 2,
       "version_minor": 0
      },
      "text/plain": [
       "  0%|          | 0/1 [00:00<?, ?it/s]"
      ]
     },
     "metadata": {},
     "output_type": "display_data"
    },
    {
     "data": {
      "application/vnd.jupyter.widget-view+json": {
       "model_id": "dbd7382ec2bc4414a6b3436792d363e0",
       "version_major": 2,
       "version_minor": 0
      },
      "text/plain": [
       "  0%|          | 0/1 [00:00<?, ?it/s]"
      ]
     },
     "metadata": {},
     "output_type": "display_data"
    },
    {
     "data": {
      "application/vnd.jupyter.widget-view+json": {
       "model_id": "ff9d55b338094464ae4a15534b3a5882",
       "version_major": 2,
       "version_minor": 0
      },
      "text/plain": [
       "  0%|          | 0/1 [00:00<?, ?it/s]"
      ]
     },
     "metadata": {},
     "output_type": "display_data"
    },
    {
     "data": {
      "application/vnd.jupyter.widget-view+json": {
       "model_id": "4b96cb550e1e4a23a4bdd3c115ccad75",
       "version_major": 2,
       "version_minor": 0
      },
      "text/plain": [
       "  0%|          | 0/1 [00:00<?, ?it/s]"
      ]
     },
     "metadata": {},
     "output_type": "display_data"
    },
    {
     "data": {
      "application/vnd.jupyter.widget-view+json": {
       "model_id": "6098c01f5226437395fdfcdd014c0907",
       "version_major": 2,
       "version_minor": 0
      },
      "text/plain": [
       "  0%|          | 0/1 [00:00<?, ?it/s]"
      ]
     },
     "metadata": {},
     "output_type": "display_data"
    },
    {
     "data": {
      "application/vnd.jupyter.widget-view+json": {
       "model_id": "ebed735bb9da4d5e8aa31957100a7887",
       "version_major": 2,
       "version_minor": 0
      },
      "text/plain": [
       "  0%|          | 0/1 [00:00<?, ?it/s]"
      ]
     },
     "metadata": {},
     "output_type": "display_data"
    },
    {
     "data": {
      "application/vnd.jupyter.widget-view+json": {
       "model_id": "f46f4b1f282d47e2a0faedaae23302bd",
       "version_major": 2,
       "version_minor": 0
      },
      "text/plain": [
       "  0%|          | 0/1 [00:00<?, ?it/s]"
      ]
     },
     "metadata": {},
     "output_type": "display_data"
    },
    {
     "data": {
      "application/vnd.jupyter.widget-view+json": {
       "model_id": "4633d1e4aa1e49daabc17edab173c844",
       "version_major": 2,
       "version_minor": 0
      },
      "text/plain": [
       "  0%|          | 0/1 [00:00<?, ?it/s]"
      ]
     },
     "metadata": {},
     "output_type": "display_data"
    },
    {
     "data": {
      "application/vnd.jupyter.widget-view+json": {
       "model_id": "fb55c35bc0b943b3b124c0a4aced33bc",
       "version_major": 2,
       "version_minor": 0
      },
      "text/plain": [
       "  0%|          | 0/1 [00:00<?, ?it/s]"
      ]
     },
     "metadata": {},
     "output_type": "display_data"
    },
    {
     "data": {
      "application/vnd.jupyter.widget-view+json": {
       "model_id": "66fe926ce7df4ad58ecdc16246b085b6",
       "version_major": 2,
       "version_minor": 0
      },
      "text/plain": [
       "  0%|          | 0/1 [00:00<?, ?it/s]"
      ]
     },
     "metadata": {},
     "output_type": "display_data"
    },
    {
     "data": {
      "application/vnd.jupyter.widget-view+json": {
       "model_id": "1d371d32ca7d4421a04a43c68b883ba2",
       "version_major": 2,
       "version_minor": 0
      },
      "text/plain": [
       "  0%|          | 0/1 [00:00<?, ?it/s]"
      ]
     },
     "metadata": {},
     "output_type": "display_data"
    },
    {
     "data": {
      "application/vnd.jupyter.widget-view+json": {
       "model_id": "7ac871a39ba3414083e088d96497a41b",
       "version_major": 2,
       "version_minor": 0
      },
      "text/plain": [
       "  0%|          | 0/1 [00:00<?, ?it/s]"
      ]
     },
     "metadata": {},
     "output_type": "display_data"
    },
    {
     "data": {
      "application/vnd.jupyter.widget-view+json": {
       "model_id": "8536f2525d2a4c63aeb7eb9bbfb89b6b",
       "version_major": 2,
       "version_minor": 0
      },
      "text/plain": [
       "  0%|          | 0/1 [00:00<?, ?it/s]"
      ]
     },
     "metadata": {},
     "output_type": "display_data"
    },
    {
     "data": {
      "application/vnd.jupyter.widget-view+json": {
       "model_id": "add1923249404964b587066400fb02d2",
       "version_major": 2,
       "version_minor": 0
      },
      "text/plain": [
       "  0%|          | 0/1 [00:00<?, ?it/s]"
      ]
     },
     "metadata": {},
     "output_type": "display_data"
    },
    {
     "data": {
      "application/vnd.jupyter.widget-view+json": {
       "model_id": "1701f3befd4044f8a04494176953a52f",
       "version_major": 2,
       "version_minor": 0
      },
      "text/plain": [
       "  0%|          | 0/1 [00:00<?, ?it/s]"
      ]
     },
     "metadata": {},
     "output_type": "display_data"
    },
    {
     "data": {
      "application/vnd.jupyter.widget-view+json": {
       "model_id": "0e98094639dc482aa58f4c3821762a21",
       "version_major": 2,
       "version_minor": 0
      },
      "text/plain": [
       "  0%|          | 0/1 [00:00<?, ?it/s]"
      ]
     },
     "metadata": {},
     "output_type": "display_data"
    },
    {
     "data": {
      "application/vnd.jupyter.widget-view+json": {
       "model_id": "dc9a46e66ae64517895e5fa2e1a5843c",
       "version_major": 2,
       "version_minor": 0
      },
      "text/plain": [
       "  0%|          | 0/1 [00:00<?, ?it/s]"
      ]
     },
     "metadata": {},
     "output_type": "display_data"
    },
    {
     "data": {
      "application/vnd.jupyter.widget-view+json": {
       "model_id": "0a1dda9f7e484347bd4614c0f44666af",
       "version_major": 2,
       "version_minor": 0
      },
      "text/plain": [
       "  0%|          | 0/1 [00:00<?, ?it/s]"
      ]
     },
     "metadata": {},
     "output_type": "display_data"
    },
    {
     "data": {
      "application/vnd.jupyter.widget-view+json": {
       "model_id": "c6ec0e6baac14f74a890a701d8cddcff",
       "version_major": 2,
       "version_minor": 0
      },
      "text/plain": [
       "  0%|          | 0/1 [00:00<?, ?it/s]"
      ]
     },
     "metadata": {},
     "output_type": "display_data"
    },
    {
     "data": {
      "application/vnd.jupyter.widget-view+json": {
       "model_id": "822fc060c8794d58928ebdaae056f4f5",
       "version_major": 2,
       "version_minor": 0
      },
      "text/plain": [
       "  0%|          | 0/1 [00:00<?, ?it/s]"
      ]
     },
     "metadata": {},
     "output_type": "display_data"
    },
    {
     "data": {
      "application/vnd.jupyter.widget-view+json": {
       "model_id": "904a64fec227440aacf7f9897da6e463",
       "version_major": 2,
       "version_minor": 0
      },
      "text/plain": [
       "  0%|          | 0/1 [00:00<?, ?it/s]"
      ]
     },
     "metadata": {},
     "output_type": "display_data"
    },
    {
     "data": {
      "application/vnd.jupyter.widget-view+json": {
       "model_id": "b0a90fa537d94220ac5b25207a8f6691",
       "version_major": 2,
       "version_minor": 0
      },
      "text/plain": [
       "  0%|          | 0/1 [00:00<?, ?it/s]"
      ]
     },
     "metadata": {},
     "output_type": "display_data"
    },
    {
     "data": {
      "application/vnd.jupyter.widget-view+json": {
       "model_id": "bd20a2ab65a24f6a8b6f3f00971cf0d8",
       "version_major": 2,
       "version_minor": 0
      },
      "text/plain": [
       "  0%|          | 0/1 [00:00<?, ?it/s]"
      ]
     },
     "metadata": {},
     "output_type": "display_data"
    },
    {
     "data": {
      "application/vnd.jupyter.widget-view+json": {
       "model_id": "6ea0bd5f7e474532950de11e182da949",
       "version_major": 2,
       "version_minor": 0
      },
      "text/plain": [
       "  0%|          | 0/1 [00:00<?, ?it/s]"
      ]
     },
     "metadata": {},
     "output_type": "display_data"
    },
    {
     "data": {
      "application/vnd.jupyter.widget-view+json": {
       "model_id": "9bd6ab0d3bcc48f08e4a1aed89f39ce7",
       "version_major": 2,
       "version_minor": 0
      },
      "text/plain": [
       "  0%|          | 0/1 [00:00<?, ?it/s]"
      ]
     },
     "metadata": {},
     "output_type": "display_data"
    },
    {
     "data": {
      "application/vnd.jupyter.widget-view+json": {
       "model_id": "66782d9fcd6c412f91b3cca156853841",
       "version_major": 2,
       "version_minor": 0
      },
      "text/plain": [
       "  0%|          | 0/1 [00:00<?, ?it/s]"
      ]
     },
     "metadata": {},
     "output_type": "display_data"
    },
    {
     "data": {
      "application/vnd.jupyter.widget-view+json": {
       "model_id": "aa05d88bc38743b5accbed956201a86d",
       "version_major": 2,
       "version_minor": 0
      },
      "text/plain": [
       "  0%|          | 0/1 [00:00<?, ?it/s]"
      ]
     },
     "metadata": {},
     "output_type": "display_data"
    },
    {
     "data": {
      "application/vnd.jupyter.widget-view+json": {
       "model_id": "9e557a0c1e2548ccb5107b598c510ac3",
       "version_major": 2,
       "version_minor": 0
      },
      "text/plain": [
       "  0%|          | 0/1 [00:00<?, ?it/s]"
      ]
     },
     "metadata": {},
     "output_type": "display_data"
    },
    {
     "data": {
      "application/vnd.jupyter.widget-view+json": {
       "model_id": "2fea002212604033863b0b8be5924258",
       "version_major": 2,
       "version_minor": 0
      },
      "text/plain": [
       "  0%|          | 0/1 [00:00<?, ?it/s]"
      ]
     },
     "metadata": {},
     "output_type": "display_data"
    },
    {
     "data": {
      "application/vnd.jupyter.widget-view+json": {
       "model_id": "400d37f0f2f34b979e5039e429aece75",
       "version_major": 2,
       "version_minor": 0
      },
      "text/plain": [
       "  0%|          | 0/1 [00:00<?, ?it/s]"
      ]
     },
     "metadata": {},
     "output_type": "display_data"
    },
    {
     "data": {
      "application/vnd.jupyter.widget-view+json": {
       "model_id": "b25ba19581ca428db8c5935d40400683",
       "version_major": 2,
       "version_minor": 0
      },
      "text/plain": [
       "  0%|          | 0/1 [00:00<?, ?it/s]"
      ]
     },
     "metadata": {},
     "output_type": "display_data"
    },
    {
     "data": {
      "application/vnd.jupyter.widget-view+json": {
       "model_id": "cf883585ebc4406eb143e4ff0e38e91c",
       "version_major": 2,
       "version_minor": 0
      },
      "text/plain": [
       "  0%|          | 0/1 [00:00<?, ?it/s]"
      ]
     },
     "metadata": {},
     "output_type": "display_data"
    },
    {
     "data": {
      "application/vnd.jupyter.widget-view+json": {
       "model_id": "9fa819570e7f4f4bba78946082d1a9cb",
       "version_major": 2,
       "version_minor": 0
      },
      "text/plain": [
       "  0%|          | 0/1 [00:00<?, ?it/s]"
      ]
     },
     "metadata": {},
     "output_type": "display_data"
    },
    {
     "data": {
      "application/vnd.jupyter.widget-view+json": {
       "model_id": "d9ebf3542eff439e8c1d773847b67f7a",
       "version_major": 2,
       "version_minor": 0
      },
      "text/plain": [
       "  0%|          | 0/1 [00:00<?, ?it/s]"
      ]
     },
     "metadata": {},
     "output_type": "display_data"
    },
    {
     "data": {
      "application/vnd.jupyter.widget-view+json": {
       "model_id": "2453f05a42914b26b79cdec00467e102",
       "version_major": 2,
       "version_minor": 0
      },
      "text/plain": [
       "  0%|          | 0/1 [00:00<?, ?it/s]"
      ]
     },
     "metadata": {},
     "output_type": "display_data"
    },
    {
     "data": {
      "application/vnd.jupyter.widget-view+json": {
       "model_id": "f461f624022a420fa9b34a380950fb4c",
       "version_major": 2,
       "version_minor": 0
      },
      "text/plain": [
       "  0%|          | 0/1 [00:00<?, ?it/s]"
      ]
     },
     "metadata": {},
     "output_type": "display_data"
    },
    {
     "data": {
      "application/vnd.jupyter.widget-view+json": {
       "model_id": "d0f10aea93b64dd1bf3d849bbf8107a9",
       "version_major": 2,
       "version_minor": 0
      },
      "text/plain": [
       "  0%|          | 0/1 [00:00<?, ?it/s]"
      ]
     },
     "metadata": {},
     "output_type": "display_data"
    },
    {
     "data": {
      "application/vnd.jupyter.widget-view+json": {
       "model_id": "f9faadf7b139420981729a3ff9b923fe",
       "version_major": 2,
       "version_minor": 0
      },
      "text/plain": [
       "  0%|          | 0/1 [00:00<?, ?it/s]"
      ]
     },
     "metadata": {},
     "output_type": "display_data"
    },
    {
     "data": {
      "application/vnd.jupyter.widget-view+json": {
       "model_id": "44520691c4864c7e82b81240792d47b2",
       "version_major": 2,
       "version_minor": 0
      },
      "text/plain": [
       "  0%|          | 0/1 [00:00<?, ?it/s]"
      ]
     },
     "metadata": {},
     "output_type": "display_data"
    },
    {
     "data": {
      "application/vnd.jupyter.widget-view+json": {
       "model_id": "a89a447f38104e84977f10c3f391d6d9",
       "version_major": 2,
       "version_minor": 0
      },
      "text/plain": [
       "  0%|          | 0/1 [00:00<?, ?it/s]"
      ]
     },
     "metadata": {},
     "output_type": "display_data"
    },
    {
     "data": {
      "application/vnd.jupyter.widget-view+json": {
       "model_id": "9232e28ac15145b6a59352365dd0366e",
       "version_major": 2,
       "version_minor": 0
      },
      "text/plain": [
       "  0%|          | 0/1 [00:00<?, ?it/s]"
      ]
     },
     "metadata": {},
     "output_type": "display_data"
    },
    {
     "data": {
      "application/vnd.jupyter.widget-view+json": {
       "model_id": "5d9bcb2eee32447a97b35dfc4c201b79",
       "version_major": 2,
       "version_minor": 0
      },
      "text/plain": [
       "  0%|          | 0/1 [00:00<?, ?it/s]"
      ]
     },
     "metadata": {},
     "output_type": "display_data"
    },
    {
     "data": {
      "application/vnd.jupyter.widget-view+json": {
       "model_id": "5ced92d283254187a6975875ffc51631",
       "version_major": 2,
       "version_minor": 0
      },
      "text/plain": [
       "  0%|          | 0/1 [00:00<?, ?it/s]"
      ]
     },
     "metadata": {},
     "output_type": "display_data"
    },
    {
     "data": {
      "application/vnd.jupyter.widget-view+json": {
       "model_id": "cccd26206b4a435b9006c03a6b222019",
       "version_major": 2,
       "version_minor": 0
      },
      "text/plain": [
       "  0%|          | 0/1 [00:00<?, ?it/s]"
      ]
     },
     "metadata": {},
     "output_type": "display_data"
    },
    {
     "data": {
      "application/vnd.jupyter.widget-view+json": {
       "model_id": "bd52a89041dd4a369275ec9ca90141eb",
       "version_major": 2,
       "version_minor": 0
      },
      "text/plain": [
       "  0%|          | 0/1 [00:00<?, ?it/s]"
      ]
     },
     "metadata": {},
     "output_type": "display_data"
    },
    {
     "data": {
      "application/vnd.jupyter.widget-view+json": {
       "model_id": "5c3229c552a3485ea1a8508f5a04f79b",
       "version_major": 2,
       "version_minor": 0
      },
      "text/plain": [
       "  0%|          | 0/1 [00:00<?, ?it/s]"
      ]
     },
     "metadata": {},
     "output_type": "display_data"
    },
    {
     "data": {
      "application/vnd.jupyter.widget-view+json": {
       "model_id": "53a6017a78de48f48bfc81d999266c26",
       "version_major": 2,
       "version_minor": 0
      },
      "text/plain": [
       "  0%|          | 0/1 [00:00<?, ?it/s]"
      ]
     },
     "metadata": {},
     "output_type": "display_data"
    },
    {
     "data": {
      "application/vnd.jupyter.widget-view+json": {
       "model_id": "254da62bbb204b0595056ac25e54915f",
       "version_major": 2,
       "version_minor": 0
      },
      "text/plain": [
       "  0%|          | 0/1 [00:00<?, ?it/s]"
      ]
     },
     "metadata": {},
     "output_type": "display_data"
    },
    {
     "data": {
      "application/vnd.jupyter.widget-view+json": {
       "model_id": "854b4b85b3d8440f86acdd46b99a2736",
       "version_major": 2,
       "version_minor": 0
      },
      "text/plain": [
       "  0%|          | 0/1 [00:00<?, ?it/s]"
      ]
     },
     "metadata": {},
     "output_type": "display_data"
    },
    {
     "data": {
      "application/vnd.jupyter.widget-view+json": {
       "model_id": "6f893ba7d94f413cad8d22587ed9ad63",
       "version_major": 2,
       "version_minor": 0
      },
      "text/plain": [
       "  0%|          | 0/1 [00:00<?, ?it/s]"
      ]
     },
     "metadata": {},
     "output_type": "display_data"
    },
    {
     "data": {
      "application/vnd.jupyter.widget-view+json": {
       "model_id": "ee34d22f97d840b5838e23a687024a9a",
       "version_major": 2,
       "version_minor": 0
      },
      "text/plain": [
       "  0%|          | 0/1 [00:00<?, ?it/s]"
      ]
     },
     "metadata": {},
     "output_type": "display_data"
    },
    {
     "data": {
      "application/vnd.jupyter.widget-view+json": {
       "model_id": "374c2cafbffd44c4843bd8873f8a863b",
       "version_major": 2,
       "version_minor": 0
      },
      "text/plain": [
       "  0%|          | 0/1 [00:00<?, ?it/s]"
      ]
     },
     "metadata": {},
     "output_type": "display_data"
    },
    {
     "data": {
      "application/vnd.jupyter.widget-view+json": {
       "model_id": "0bf9b43e7da14f199ecd66e69c6bf078",
       "version_major": 2,
       "version_minor": 0
      },
      "text/plain": [
       "  0%|          | 0/1 [00:00<?, ?it/s]"
      ]
     },
     "metadata": {},
     "output_type": "display_data"
    },
    {
     "data": {
      "application/vnd.jupyter.widget-view+json": {
       "model_id": "ee62e8f4afb442c5a1bc9c4f43f94c0b",
       "version_major": 2,
       "version_minor": 0
      },
      "text/plain": [
       "  0%|          | 0/1 [00:00<?, ?it/s]"
      ]
     },
     "metadata": {},
     "output_type": "display_data"
    },
    {
     "data": {
      "application/vnd.jupyter.widget-view+json": {
       "model_id": "947488fd5cb544d2be5d375e3607c399",
       "version_major": 2,
       "version_minor": 0
      },
      "text/plain": [
       "  0%|          | 0/1 [00:00<?, ?it/s]"
      ]
     },
     "metadata": {},
     "output_type": "display_data"
    },
    {
     "data": {
      "application/vnd.jupyter.widget-view+json": {
       "model_id": "15cbed01ef0b4eeca460d5f78524c4cd",
       "version_major": 2,
       "version_minor": 0
      },
      "text/plain": [
       "  0%|          | 0/1 [00:00<?, ?it/s]"
      ]
     },
     "metadata": {},
     "output_type": "display_data"
    },
    {
     "data": {
      "application/vnd.jupyter.widget-view+json": {
       "model_id": "a59769556cfd4b248bd3cc038d593d4d",
       "version_major": 2,
       "version_minor": 0
      },
      "text/plain": [
       "  0%|          | 0/1 [00:00<?, ?it/s]"
      ]
     },
     "metadata": {},
     "output_type": "display_data"
    },
    {
     "data": {
      "application/vnd.jupyter.widget-view+json": {
       "model_id": "62637852ebdf4986b3afa6cafd88475a",
       "version_major": 2,
       "version_minor": 0
      },
      "text/plain": [
       "  0%|          | 0/1 [00:00<?, ?it/s]"
      ]
     },
     "metadata": {},
     "output_type": "display_data"
    },
    {
     "data": {
      "application/vnd.jupyter.widget-view+json": {
       "model_id": "91c5d084400344e9b098778f2e8322ed",
       "version_major": 2,
       "version_minor": 0
      },
      "text/plain": [
       "  0%|          | 0/1 [00:00<?, ?it/s]"
      ]
     },
     "metadata": {},
     "output_type": "display_data"
    },
    {
     "data": {
      "application/vnd.jupyter.widget-view+json": {
       "model_id": "4cb14ee731b04f8385a830e178c737e8",
       "version_major": 2,
       "version_minor": 0
      },
      "text/plain": [
       "  0%|          | 0/1 [00:00<?, ?it/s]"
      ]
     },
     "metadata": {},
     "output_type": "display_data"
    },
    {
     "data": {
      "application/vnd.jupyter.widget-view+json": {
       "model_id": "eacae06bdfed4e3d8bf2ae2538b96e4d",
       "version_major": 2,
       "version_minor": 0
      },
      "text/plain": [
       "  0%|          | 0/1 [00:00<?, ?it/s]"
      ]
     },
     "metadata": {},
     "output_type": "display_data"
    },
    {
     "data": {
      "application/vnd.jupyter.widget-view+json": {
       "model_id": "24b72825310d45bda4b026223fe6b611",
       "version_major": 2,
       "version_minor": 0
      },
      "text/plain": [
       "  0%|          | 0/1 [00:00<?, ?it/s]"
      ]
     },
     "metadata": {},
     "output_type": "display_data"
    },
    {
     "data": {
      "application/vnd.jupyter.widget-view+json": {
       "model_id": "c7ec1b2ff0b94f1c938c457f47379964",
       "version_major": 2,
       "version_minor": 0
      },
      "text/plain": [
       "  0%|          | 0/1 [00:00<?, ?it/s]"
      ]
     },
     "metadata": {},
     "output_type": "display_data"
    },
    {
     "data": {
      "application/vnd.jupyter.widget-view+json": {
       "model_id": "02fe85cda7c1449db8c4badb6c7996a1",
       "version_major": 2,
       "version_minor": 0
      },
      "text/plain": [
       "  0%|          | 0/1 [00:00<?, ?it/s]"
      ]
     },
     "metadata": {},
     "output_type": "display_data"
    },
    {
     "data": {
      "application/vnd.jupyter.widget-view+json": {
       "model_id": "3514a99f4c324ebcb9344d6d1a80fba9",
       "version_major": 2,
       "version_minor": 0
      },
      "text/plain": [
       "  0%|          | 0/1 [00:00<?, ?it/s]"
      ]
     },
     "metadata": {},
     "output_type": "display_data"
    },
    {
     "data": {
      "application/vnd.jupyter.widget-view+json": {
       "model_id": "0368953a809043a8b65f81a4a6a17f1d",
       "version_major": 2,
       "version_minor": 0
      },
      "text/plain": [
       "  0%|          | 0/1 [00:00<?, ?it/s]"
      ]
     },
     "metadata": {},
     "output_type": "display_data"
    },
    {
     "data": {
      "application/vnd.jupyter.widget-view+json": {
       "model_id": "bc3188d041964d7f903fb84298c99d12",
       "version_major": 2,
       "version_minor": 0
      },
      "text/plain": [
       "  0%|          | 0/1 [00:00<?, ?it/s]"
      ]
     },
     "metadata": {},
     "output_type": "display_data"
    },
    {
     "data": {
      "application/vnd.jupyter.widget-view+json": {
       "model_id": "927aea92a94b4c5384fff4984d141b6f",
       "version_major": 2,
       "version_minor": 0
      },
      "text/plain": [
       "  0%|          | 0/1 [00:00<?, ?it/s]"
      ]
     },
     "metadata": {},
     "output_type": "display_data"
    },
    {
     "data": {
      "application/vnd.jupyter.widget-view+json": {
       "model_id": "c65e85850ade407aa3bc96be22e3a526",
       "version_major": 2,
       "version_minor": 0
      },
      "text/plain": [
       "  0%|          | 0/1 [00:00<?, ?it/s]"
      ]
     },
     "metadata": {},
     "output_type": "display_data"
    },
    {
     "data": {
      "application/vnd.jupyter.widget-view+json": {
       "model_id": "2e3b219bf92249129dbdc716d194a7c4",
       "version_major": 2,
       "version_minor": 0
      },
      "text/plain": [
       "  0%|          | 0/1 [00:00<?, ?it/s]"
      ]
     },
     "metadata": {},
     "output_type": "display_data"
    },
    {
     "data": {
      "application/vnd.jupyter.widget-view+json": {
       "model_id": "0ff7e18eb35f4ac29d3a9bdf88797a45",
       "version_major": 2,
       "version_minor": 0
      },
      "text/plain": [
       "  0%|          | 0/1 [00:00<?, ?it/s]"
      ]
     },
     "metadata": {},
     "output_type": "display_data"
    },
    {
     "data": {
      "application/vnd.jupyter.widget-view+json": {
       "model_id": "0b20695e1cf94371b6143a70379506e8",
       "version_major": 2,
       "version_minor": 0
      },
      "text/plain": [
       "  0%|          | 0/1 [00:00<?, ?it/s]"
      ]
     },
     "metadata": {},
     "output_type": "display_data"
    },
    {
     "data": {
      "application/vnd.jupyter.widget-view+json": {
       "model_id": "6d441705d69f45098d754606a81ddd97",
       "version_major": 2,
       "version_minor": 0
      },
      "text/plain": [
       "  0%|          | 0/1 [00:00<?, ?it/s]"
      ]
     },
     "metadata": {},
     "output_type": "display_data"
    },
    {
     "data": {
      "application/vnd.jupyter.widget-view+json": {
       "model_id": "662b59ef2c434fef83b50d1e59663ba3",
       "version_major": 2,
       "version_minor": 0
      },
      "text/plain": [
       "  0%|          | 0/1 [00:00<?, ?it/s]"
      ]
     },
     "metadata": {},
     "output_type": "display_data"
    },
    {
     "data": {
      "application/vnd.jupyter.widget-view+json": {
       "model_id": "c271981e03c94c68b07eee1fd7e0ad0b",
       "version_major": 2,
       "version_minor": 0
      },
      "text/plain": [
       "  0%|          | 0/1 [00:00<?, ?it/s]"
      ]
     },
     "metadata": {},
     "output_type": "display_data"
    },
    {
     "data": {
      "application/vnd.jupyter.widget-view+json": {
       "model_id": "9574ebddaff14c9db2e0bf9e7831f625",
       "version_major": 2,
       "version_minor": 0
      },
      "text/plain": [
       "  0%|          | 0/1 [00:00<?, ?it/s]"
      ]
     },
     "metadata": {},
     "output_type": "display_data"
    },
    {
     "data": {
      "application/vnd.jupyter.widget-view+json": {
       "model_id": "fd9f997f4a82484394999f27fb0a99ff",
       "version_major": 2,
       "version_minor": 0
      },
      "text/plain": [
       "  0%|          | 0/1 [00:00<?, ?it/s]"
      ]
     },
     "metadata": {},
     "output_type": "display_data"
    },
    {
     "data": {
      "application/vnd.jupyter.widget-view+json": {
       "model_id": "48fec0c484bb4f3b8c22c315f33e5a63",
       "version_major": 2,
       "version_minor": 0
      },
      "text/plain": [
       "  0%|          | 0/1 [00:00<?, ?it/s]"
      ]
     },
     "metadata": {},
     "output_type": "display_data"
    },
    {
     "data": {
      "application/vnd.jupyter.widget-view+json": {
       "model_id": "463774d9fe8c40d092eab6212a7630d3",
       "version_major": 2,
       "version_minor": 0
      },
      "text/plain": [
       "  0%|          | 0/1 [00:00<?, ?it/s]"
      ]
     },
     "metadata": {},
     "output_type": "display_data"
    },
    {
     "data": {
      "application/vnd.jupyter.widget-view+json": {
       "model_id": "bf844ffbc4e94d7f83f426e763885b2a",
       "version_major": 2,
       "version_minor": 0
      },
      "text/plain": [
       "  0%|          | 0/1 [00:00<?, ?it/s]"
      ]
     },
     "metadata": {},
     "output_type": "display_data"
    },
    {
     "data": {
      "application/vnd.jupyter.widget-view+json": {
       "model_id": "e2a5246bf577402eb463672f28cb150c",
       "version_major": 2,
       "version_minor": 0
      },
      "text/plain": [
       "  0%|          | 0/1 [00:00<?, ?it/s]"
      ]
     },
     "metadata": {},
     "output_type": "display_data"
    },
    {
     "data": {
      "application/vnd.jupyter.widget-view+json": {
       "model_id": "3078ac53acc34f24b857d77d44aba7c2",
       "version_major": 2,
       "version_minor": 0
      },
      "text/plain": [
       "  0%|          | 0/1 [00:00<?, ?it/s]"
      ]
     },
     "metadata": {},
     "output_type": "display_data"
    },
    {
     "data": {
      "application/vnd.jupyter.widget-view+json": {
       "model_id": "86b365ed9c8d4e94a346f7dcb4379ca7",
       "version_major": 2,
       "version_minor": 0
      },
      "text/plain": [
       "  0%|          | 0/1 [00:00<?, ?it/s]"
      ]
     },
     "metadata": {},
     "output_type": "display_data"
    },
    {
     "data": {
      "application/vnd.jupyter.widget-view+json": {
       "model_id": "08c5802277584aefa0e61ab2440c603f",
       "version_major": 2,
       "version_minor": 0
      },
      "text/plain": [
       "  0%|          | 0/1 [00:00<?, ?it/s]"
      ]
     },
     "metadata": {},
     "output_type": "display_data"
    },
    {
     "data": {
      "application/vnd.jupyter.widget-view+json": {
       "model_id": "311be6a6b4be47549984426bd58f0dfe",
       "version_major": 2,
       "version_minor": 0
      },
      "text/plain": [
       "  0%|          | 0/1 [00:00<?, ?it/s]"
      ]
     },
     "metadata": {},
     "output_type": "display_data"
    },
    {
     "data": {
      "application/vnd.jupyter.widget-view+json": {
       "model_id": "c5e044291b174df999962ed2fc3a5144",
       "version_major": 2,
       "version_minor": 0
      },
      "text/plain": [
       "  0%|          | 0/1 [00:00<?, ?it/s]"
      ]
     },
     "metadata": {},
     "output_type": "display_data"
    },
    {
     "data": {
      "application/vnd.jupyter.widget-view+json": {
       "model_id": "b802e87cc2f648c58894ee2914820f9e",
       "version_major": 2,
       "version_minor": 0
      },
      "text/plain": [
       "  0%|          | 0/1 [00:00<?, ?it/s]"
      ]
     },
     "metadata": {},
     "output_type": "display_data"
    },
    {
     "data": {
      "application/vnd.jupyter.widget-view+json": {
       "model_id": "f298588694e04ef29d85a2a3e1f5f8cd",
       "version_major": 2,
       "version_minor": 0
      },
      "text/plain": [
       "  0%|          | 0/1 [00:00<?, ?it/s]"
      ]
     },
     "metadata": {},
     "output_type": "display_data"
    },
    {
     "data": {
      "application/vnd.jupyter.widget-view+json": {
       "model_id": "46b7084e803342acae2cb4c5e7499462",
       "version_major": 2,
       "version_minor": 0
      },
      "text/plain": [
       "  0%|          | 0/1 [00:00<?, ?it/s]"
      ]
     },
     "metadata": {},
     "output_type": "display_data"
    },
    {
     "data": {
      "application/vnd.jupyter.widget-view+json": {
       "model_id": "d50cc657bfe743dea5c83ed1c0d926d3",
       "version_major": 2,
       "version_minor": 0
      },
      "text/plain": [
       "  0%|          | 0/1 [00:00<?, ?it/s]"
      ]
     },
     "metadata": {},
     "output_type": "display_data"
    },
    {
     "data": {
      "application/vnd.jupyter.widget-view+json": {
       "model_id": "ead06470d9554379816b9dd8441489b9",
       "version_major": 2,
       "version_minor": 0
      },
      "text/plain": [
       "  0%|          | 0/1 [00:00<?, ?it/s]"
      ]
     },
     "metadata": {},
     "output_type": "display_data"
    },
    {
     "data": {
      "application/vnd.jupyter.widget-view+json": {
       "model_id": "f181e742b46447c9a4bc3e36f159b59c",
       "version_major": 2,
       "version_minor": 0
      },
      "text/plain": [
       "  0%|          | 0/1 [00:00<?, ?it/s]"
      ]
     },
     "metadata": {},
     "output_type": "display_data"
    },
    {
     "data": {
      "application/vnd.jupyter.widget-view+json": {
       "model_id": "ecdf3f1553c241c799febc702f926c5f",
       "version_major": 2,
       "version_minor": 0
      },
      "text/plain": [
       "  0%|          | 0/1 [00:00<?, ?it/s]"
      ]
     },
     "metadata": {},
     "output_type": "display_data"
    },
    {
     "data": {
      "application/vnd.jupyter.widget-view+json": {
       "model_id": "aa8470b3ef4941c6907ef21132d19ae5",
       "version_major": 2,
       "version_minor": 0
      },
      "text/plain": [
       "  0%|          | 0/1 [00:00<?, ?it/s]"
      ]
     },
     "metadata": {},
     "output_type": "display_data"
    },
    {
     "data": {
      "application/vnd.jupyter.widget-view+json": {
       "model_id": "17d2291527fa485dafe4a987d39d3cfa",
       "version_major": 2,
       "version_minor": 0
      },
      "text/plain": [
       "  0%|          | 0/1 [00:00<?, ?it/s]"
      ]
     },
     "metadata": {},
     "output_type": "display_data"
    },
    {
     "data": {
      "application/vnd.jupyter.widget-view+json": {
       "model_id": "9dc8f00028c24484a6c999a61ae278e3",
       "version_major": 2,
       "version_minor": 0
      },
      "text/plain": [
       "  0%|          | 0/1 [00:00<?, ?it/s]"
      ]
     },
     "metadata": {},
     "output_type": "display_data"
    },
    {
     "data": {
      "application/vnd.jupyter.widget-view+json": {
       "model_id": "5f4685f0a22f44209ae5cae7da2cc728",
       "version_major": 2,
       "version_minor": 0
      },
      "text/plain": [
       "  0%|          | 0/1 [00:00<?, ?it/s]"
      ]
     },
     "metadata": {},
     "output_type": "display_data"
    },
    {
     "data": {
      "application/vnd.jupyter.widget-view+json": {
       "model_id": "0a9ae780c0d046df9f23f5d744a74949",
       "version_major": 2,
       "version_minor": 0
      },
      "text/plain": [
       "  0%|          | 0/1 [00:00<?, ?it/s]"
      ]
     },
     "metadata": {},
     "output_type": "display_data"
    },
    {
     "data": {
      "application/vnd.jupyter.widget-view+json": {
       "model_id": "04d0c47653574057933cb55b5a521931",
       "version_major": 2,
       "version_minor": 0
      },
      "text/plain": [
       "  0%|          | 0/1 [00:00<?, ?it/s]"
      ]
     },
     "metadata": {},
     "output_type": "display_data"
    },
    {
     "data": {
      "application/vnd.jupyter.widget-view+json": {
       "model_id": "760be9c7d1ce43b3a07e33879523fb20",
       "version_major": 2,
       "version_minor": 0
      },
      "text/plain": [
       "  0%|          | 0/1 [00:00<?, ?it/s]"
      ]
     },
     "metadata": {},
     "output_type": "display_data"
    },
    {
     "data": {
      "application/vnd.jupyter.widget-view+json": {
       "model_id": "5b22d70c70404cd6bf5f23846db15c73",
       "version_major": 2,
       "version_minor": 0
      },
      "text/plain": [
       "  0%|          | 0/1 [00:00<?, ?it/s]"
      ]
     },
     "metadata": {},
     "output_type": "display_data"
    },
    {
     "data": {
      "application/vnd.jupyter.widget-view+json": {
       "model_id": "0da230667fb64cabbcbfe3f1496301d7",
       "version_major": 2,
       "version_minor": 0
      },
      "text/plain": [
       "  0%|          | 0/1 [00:00<?, ?it/s]"
      ]
     },
     "metadata": {},
     "output_type": "display_data"
    },
    {
     "data": {
      "application/vnd.jupyter.widget-view+json": {
       "model_id": "31a734c843e34560a845a1a4ea4a09ef",
       "version_major": 2,
       "version_minor": 0
      },
      "text/plain": [
       "  0%|          | 0/1 [00:00<?, ?it/s]"
      ]
     },
     "metadata": {},
     "output_type": "display_data"
    },
    {
     "data": {
      "application/vnd.jupyter.widget-view+json": {
       "model_id": "bc752da39b844c209a69722c762b07be",
       "version_major": 2,
       "version_minor": 0
      },
      "text/plain": [
       "  0%|          | 0/1 [00:00<?, ?it/s]"
      ]
     },
     "metadata": {},
     "output_type": "display_data"
    },
    {
     "data": {
      "application/vnd.jupyter.widget-view+json": {
       "model_id": "d9e5c936344a4bc0ba22ce2d283b6558",
       "version_major": 2,
       "version_minor": 0
      },
      "text/plain": [
       "  0%|          | 0/1 [00:00<?, ?it/s]"
      ]
     },
     "metadata": {},
     "output_type": "display_data"
    },
    {
     "data": {
      "application/vnd.jupyter.widget-view+json": {
       "model_id": "cf5c303573bc47bab10ed2e6ff97b2fa",
       "version_major": 2,
       "version_minor": 0
      },
      "text/plain": [
       "  0%|          | 0/1 [00:00<?, ?it/s]"
      ]
     },
     "metadata": {},
     "output_type": "display_data"
    },
    {
     "data": {
      "application/vnd.jupyter.widget-view+json": {
       "model_id": "0af9c80584844441b6c0c2a9a15772de",
       "version_major": 2,
       "version_minor": 0
      },
      "text/plain": [
       "  0%|          | 0/1 [00:00<?, ?it/s]"
      ]
     },
     "metadata": {},
     "output_type": "display_data"
    },
    {
     "data": {
      "application/vnd.jupyter.widget-view+json": {
       "model_id": "53f30b9a54034675b9e797002d0a5d12",
       "version_major": 2,
       "version_minor": 0
      },
      "text/plain": [
       "  0%|          | 0/1 [00:00<?, ?it/s]"
      ]
     },
     "metadata": {},
     "output_type": "display_data"
    },
    {
     "data": {
      "application/vnd.jupyter.widget-view+json": {
       "model_id": "9cfc16efcba6426aad6966c9dbb37c5a",
       "version_major": 2,
       "version_minor": 0
      },
      "text/plain": [
       "  0%|          | 0/1 [00:00<?, ?it/s]"
      ]
     },
     "metadata": {},
     "output_type": "display_data"
    },
    {
     "data": {
      "application/vnd.jupyter.widget-view+json": {
       "model_id": "22c1b30bba8c4025927935628ed2fbd5",
       "version_major": 2,
       "version_minor": 0
      },
      "text/plain": [
       "  0%|          | 0/1 [00:00<?, ?it/s]"
      ]
     },
     "metadata": {},
     "output_type": "display_data"
    },
    {
     "data": {
      "application/vnd.jupyter.widget-view+json": {
       "model_id": "a03cbd4a45e74498af98417b678f9619",
       "version_major": 2,
       "version_minor": 0
      },
      "text/plain": [
       "  0%|          | 0/1 [00:00<?, ?it/s]"
      ]
     },
     "metadata": {},
     "output_type": "display_data"
    },
    {
     "data": {
      "application/vnd.jupyter.widget-view+json": {
       "model_id": "917b6900ce944d6ea60c759e49118746",
       "version_major": 2,
       "version_minor": 0
      },
      "text/plain": [
       "  0%|          | 0/1 [00:00<?, ?it/s]"
      ]
     },
     "metadata": {},
     "output_type": "display_data"
    },
    {
     "data": {
      "application/vnd.jupyter.widget-view+json": {
       "model_id": "b314f5d4bfe94df085627926ff5c8ed7",
       "version_major": 2,
       "version_minor": 0
      },
      "text/plain": [
       "  0%|          | 0/1 [00:00<?, ?it/s]"
      ]
     },
     "metadata": {},
     "output_type": "display_data"
    },
    {
     "data": {
      "application/vnd.jupyter.widget-view+json": {
       "model_id": "4f1612e7de89437a8a405c5e8e853b42",
       "version_major": 2,
       "version_minor": 0
      },
      "text/plain": [
       "  0%|          | 0/1 [00:00<?, ?it/s]"
      ]
     },
     "metadata": {},
     "output_type": "display_data"
    },
    {
     "data": {
      "application/vnd.jupyter.widget-view+json": {
       "model_id": "a0870237750a4e00a341a3d022a0d029",
       "version_major": 2,
       "version_minor": 0
      },
      "text/plain": [
       "  0%|          | 0/1 [00:00<?, ?it/s]"
      ]
     },
     "metadata": {},
     "output_type": "display_data"
    },
    {
     "data": {
      "application/vnd.jupyter.widget-view+json": {
       "model_id": "42f5e2af47b94b9697942bc05a88ddd6",
       "version_major": 2,
       "version_minor": 0
      },
      "text/plain": [
       "  0%|          | 0/1 [00:00<?, ?it/s]"
      ]
     },
     "metadata": {},
     "output_type": "display_data"
    },
    {
     "data": {
      "application/vnd.jupyter.widget-view+json": {
       "model_id": "48251b6695a14def84bf20aa22b0dbc7",
       "version_major": 2,
       "version_minor": 0
      },
      "text/plain": [
       "  0%|          | 0/1 [00:00<?, ?it/s]"
      ]
     },
     "metadata": {},
     "output_type": "display_data"
    },
    {
     "data": {
      "application/vnd.jupyter.widget-view+json": {
       "model_id": "866c35e3cd7547289e53a3cf02c0f92d",
       "version_major": 2,
       "version_minor": 0
      },
      "text/plain": [
       "  0%|          | 0/1 [00:00<?, ?it/s]"
      ]
     },
     "metadata": {},
     "output_type": "display_data"
    },
    {
     "data": {
      "application/vnd.jupyter.widget-view+json": {
       "model_id": "690492fbaaed4c23afc9170ff83b92b4",
       "version_major": 2,
       "version_minor": 0
      },
      "text/plain": [
       "  0%|          | 0/1 [00:00<?, ?it/s]"
      ]
     },
     "metadata": {},
     "output_type": "display_data"
    },
    {
     "data": {
      "application/vnd.jupyter.widget-view+json": {
       "model_id": "f27438a3e8ca49a09971a22994798c3c",
       "version_major": 2,
       "version_minor": 0
      },
      "text/plain": [
       "  0%|          | 0/1 [00:00<?, ?it/s]"
      ]
     },
     "metadata": {},
     "output_type": "display_data"
    },
    {
     "data": {
      "application/vnd.jupyter.widget-view+json": {
       "model_id": "2c3492737abd4a87968989b53966b387",
       "version_major": 2,
       "version_minor": 0
      },
      "text/plain": [
       "  0%|          | 0/1 [00:00<?, ?it/s]"
      ]
     },
     "metadata": {},
     "output_type": "display_data"
    },
    {
     "data": {
      "application/vnd.jupyter.widget-view+json": {
       "model_id": "5844a02ea9b04df79011a62120471fa3",
       "version_major": 2,
       "version_minor": 0
      },
      "text/plain": [
       "  0%|          | 0/1 [00:00<?, ?it/s]"
      ]
     },
     "metadata": {},
     "output_type": "display_data"
    },
    {
     "data": {
      "application/vnd.jupyter.widget-view+json": {
       "model_id": "44506be8599d4d2589621c75d84428c3",
       "version_major": 2,
       "version_minor": 0
      },
      "text/plain": [
       "  0%|          | 0/1 [00:00<?, ?it/s]"
      ]
     },
     "metadata": {},
     "output_type": "display_data"
    },
    {
     "data": {
      "application/vnd.jupyter.widget-view+json": {
       "model_id": "19823f3b463f4a72aa3a002edb42e607",
       "version_major": 2,
       "version_minor": 0
      },
      "text/plain": [
       "  0%|          | 0/1 [00:00<?, ?it/s]"
      ]
     },
     "metadata": {},
     "output_type": "display_data"
    },
    {
     "data": {
      "application/vnd.jupyter.widget-view+json": {
       "model_id": "7989c01637a94bc0a028863c8a453aec",
       "version_major": 2,
       "version_minor": 0
      },
      "text/plain": [
       "  0%|          | 0/1 [00:00<?, ?it/s]"
      ]
     },
     "metadata": {},
     "output_type": "display_data"
    },
    {
     "data": {
      "application/vnd.jupyter.widget-view+json": {
       "model_id": "ce956b6bfdd74aa99dc83f0a5dd36990",
       "version_major": 2,
       "version_minor": 0
      },
      "text/plain": [
       "  0%|          | 0/1 [00:00<?, ?it/s]"
      ]
     },
     "metadata": {},
     "output_type": "display_data"
    },
    {
     "data": {
      "application/vnd.jupyter.widget-view+json": {
       "model_id": "1d2b6a7191aa42baa835d0da91211bd5",
       "version_major": 2,
       "version_minor": 0
      },
      "text/plain": [
       "  0%|          | 0/1 [00:00<?, ?it/s]"
      ]
     },
     "metadata": {},
     "output_type": "display_data"
    },
    {
     "data": {
      "application/vnd.jupyter.widget-view+json": {
       "model_id": "ce1f0c91e23b4713842f950afa23ac3f",
       "version_major": 2,
       "version_minor": 0
      },
      "text/plain": [
       "  0%|          | 0/1 [00:00<?, ?it/s]"
      ]
     },
     "metadata": {},
     "output_type": "display_data"
    },
    {
     "data": {
      "application/vnd.jupyter.widget-view+json": {
       "model_id": "470edb01019947149501a29eda3a0c4a",
       "version_major": 2,
       "version_minor": 0
      },
      "text/plain": [
       "  0%|          | 0/1 [00:00<?, ?it/s]"
      ]
     },
     "metadata": {},
     "output_type": "display_data"
    },
    {
     "data": {
      "application/vnd.jupyter.widget-view+json": {
       "model_id": "89dcd32c015a4cc398842475b6574fd4",
       "version_major": 2,
       "version_minor": 0
      },
      "text/plain": [
       "  0%|          | 0/1 [00:00<?, ?it/s]"
      ]
     },
     "metadata": {},
     "output_type": "display_data"
    },
    {
     "data": {
      "application/vnd.jupyter.widget-view+json": {
       "model_id": "1ff0857fda384b088a82efa0df9d5f34",
       "version_major": 2,
       "version_minor": 0
      },
      "text/plain": [
       "  0%|          | 0/1 [00:00<?, ?it/s]"
      ]
     },
     "metadata": {},
     "output_type": "display_data"
    },
    {
     "data": {
      "application/vnd.jupyter.widget-view+json": {
       "model_id": "d8ec2b4b22ec4012b7da34c9a18934c3",
       "version_major": 2,
       "version_minor": 0
      },
      "text/plain": [
       "  0%|          | 0/1 [00:00<?, ?it/s]"
      ]
     },
     "metadata": {},
     "output_type": "display_data"
    },
    {
     "data": {
      "application/vnd.jupyter.widget-view+json": {
       "model_id": "570b4b91de3449c78c5c8901e9423ae4",
       "version_major": 2,
       "version_minor": 0
      },
      "text/plain": [
       "  0%|          | 0/1 [00:00<?, ?it/s]"
      ]
     },
     "metadata": {},
     "output_type": "display_data"
    },
    {
     "data": {
      "application/vnd.jupyter.widget-view+json": {
       "model_id": "6f0ec90fc02147f4bf8d5e6febff0193",
       "version_major": 2,
       "version_minor": 0
      },
      "text/plain": [
       "  0%|          | 0/1 [00:00<?, ?it/s]"
      ]
     },
     "metadata": {},
     "output_type": "display_data"
    },
    {
     "data": {
      "application/vnd.jupyter.widget-view+json": {
       "model_id": "2866d7d48ae646d4b41c399ee6706ea8",
       "version_major": 2,
       "version_minor": 0
      },
      "text/plain": [
       "  0%|          | 0/1 [00:00<?, ?it/s]"
      ]
     },
     "metadata": {},
     "output_type": "display_data"
    },
    {
     "data": {
      "application/vnd.jupyter.widget-view+json": {
       "model_id": "b91044d4871e4d638b3b4e3a0f67d561",
       "version_major": 2,
       "version_minor": 0
      },
      "text/plain": [
       "  0%|          | 0/1 [00:00<?, ?it/s]"
      ]
     },
     "metadata": {},
     "output_type": "display_data"
    },
    {
     "data": {
      "application/vnd.jupyter.widget-view+json": {
       "model_id": "32f6fb754e06466991f7116bab5b8a7d",
       "version_major": 2,
       "version_minor": 0
      },
      "text/plain": [
       "  0%|          | 0/1 [00:00<?, ?it/s]"
      ]
     },
     "metadata": {},
     "output_type": "display_data"
    },
    {
     "data": {
      "application/vnd.jupyter.widget-view+json": {
       "model_id": "21602a0a44524c0cb53eee8efd0614be",
       "version_major": 2,
       "version_minor": 0
      },
      "text/plain": [
       "  0%|          | 0/1 [00:00<?, ?it/s]"
      ]
     },
     "metadata": {},
     "output_type": "display_data"
    },
    {
     "data": {
      "application/vnd.jupyter.widget-view+json": {
       "model_id": "526d6df8d1a64ac981c8be468fa4bca9",
       "version_major": 2,
       "version_minor": 0
      },
      "text/plain": [
       "  0%|          | 0/1 [00:00<?, ?it/s]"
      ]
     },
     "metadata": {},
     "output_type": "display_data"
    },
    {
     "data": {
      "application/vnd.jupyter.widget-view+json": {
       "model_id": "a463ffe9152e4f979ba399461377fedf",
       "version_major": 2,
       "version_minor": 0
      },
      "text/plain": [
       "  0%|          | 0/1 [00:00<?, ?it/s]"
      ]
     },
     "metadata": {},
     "output_type": "display_data"
    },
    {
     "data": {
      "application/vnd.jupyter.widget-view+json": {
       "model_id": "1e570e7edfd74aaf966b11996826138d",
       "version_major": 2,
       "version_minor": 0
      },
      "text/plain": [
       "  0%|          | 0/1 [00:00<?, ?it/s]"
      ]
     },
     "metadata": {},
     "output_type": "display_data"
    },
    {
     "data": {
      "application/vnd.jupyter.widget-view+json": {
       "model_id": "15c657319e43496e93437845fc4b49d3",
       "version_major": 2,
       "version_minor": 0
      },
      "text/plain": [
       "  0%|          | 0/1 [00:00<?, ?it/s]"
      ]
     },
     "metadata": {},
     "output_type": "display_data"
    },
    {
     "data": {
      "application/vnd.jupyter.widget-view+json": {
       "model_id": "37bc81bc06f9437db4de85a0247e178a",
       "version_major": 2,
       "version_minor": 0
      },
      "text/plain": [
       "  0%|          | 0/1 [00:00<?, ?it/s]"
      ]
     },
     "metadata": {},
     "output_type": "display_data"
    },
    {
     "data": {
      "application/vnd.jupyter.widget-view+json": {
       "model_id": "33683e6cae9e49c29c67290c8528cc59",
       "version_major": 2,
       "version_minor": 0
      },
      "text/plain": [
       "  0%|          | 0/1 [00:00<?, ?it/s]"
      ]
     },
     "metadata": {},
     "output_type": "display_data"
    },
    {
     "data": {
      "application/vnd.jupyter.widget-view+json": {
       "model_id": "587e5796e73645bf9c3a55623ef231f6",
       "version_major": 2,
       "version_minor": 0
      },
      "text/plain": [
       "  0%|          | 0/1 [00:00<?, ?it/s]"
      ]
     },
     "metadata": {},
     "output_type": "display_data"
    },
    {
     "data": {
      "application/vnd.jupyter.widget-view+json": {
       "model_id": "35a8d3af55b84628b25ae719dfd6c61a",
       "version_major": 2,
       "version_minor": 0
      },
      "text/plain": [
       "  0%|          | 0/1 [00:00<?, ?it/s]"
      ]
     },
     "metadata": {},
     "output_type": "display_data"
    },
    {
     "data": {
      "application/vnd.jupyter.widget-view+json": {
       "model_id": "58e98104703b4a66b4e5f3df5f539bb7",
       "version_major": 2,
       "version_minor": 0
      },
      "text/plain": [
       "  0%|          | 0/1 [00:00<?, ?it/s]"
      ]
     },
     "metadata": {},
     "output_type": "display_data"
    },
    {
     "data": {
      "application/vnd.jupyter.widget-view+json": {
       "model_id": "6d012e6c19b345ee9c075bceb9bb1666",
       "version_major": 2,
       "version_minor": 0
      },
      "text/plain": [
       "  0%|          | 0/1 [00:00<?, ?it/s]"
      ]
     },
     "metadata": {},
     "output_type": "display_data"
    },
    {
     "data": {
      "application/vnd.jupyter.widget-view+json": {
       "model_id": "1fd2bc5a8d364325b6737fcf04c686a3",
       "version_major": 2,
       "version_minor": 0
      },
      "text/plain": [
       "  0%|          | 0/1 [00:00<?, ?it/s]"
      ]
     },
     "metadata": {},
     "output_type": "display_data"
    },
    {
     "data": {
      "application/vnd.jupyter.widget-view+json": {
       "model_id": "1e4848e56404445682afc4440c7113f3",
       "version_major": 2,
       "version_minor": 0
      },
      "text/plain": [
       "  0%|          | 0/1 [00:00<?, ?it/s]"
      ]
     },
     "metadata": {},
     "output_type": "display_data"
    },
    {
     "data": {
      "application/vnd.jupyter.widget-view+json": {
       "model_id": "44c2d8188fb141ae9e19ad50753da408",
       "version_major": 2,
       "version_minor": 0
      },
      "text/plain": [
       "  0%|          | 0/1 [00:00<?, ?it/s]"
      ]
     },
     "metadata": {},
     "output_type": "display_data"
    },
    {
     "data": {
      "application/vnd.jupyter.widget-view+json": {
       "model_id": "9e5b5f92de1246deb1ed6306111273d1",
       "version_major": 2,
       "version_minor": 0
      },
      "text/plain": [
       "  0%|          | 0/1 [00:00<?, ?it/s]"
      ]
     },
     "metadata": {},
     "output_type": "display_data"
    },
    {
     "data": {
      "application/vnd.jupyter.widget-view+json": {
       "model_id": "96bd1ba08a644d319808c046e4fa2468",
       "version_major": 2,
       "version_minor": 0
      },
      "text/plain": [
       "  0%|          | 0/1 [00:00<?, ?it/s]"
      ]
     },
     "metadata": {},
     "output_type": "display_data"
    },
    {
     "data": {
      "application/vnd.jupyter.widget-view+json": {
       "model_id": "b1d950041ecb4d0088d68783a3b53677",
       "version_major": 2,
       "version_minor": 0
      },
      "text/plain": [
       "  0%|          | 0/1 [00:00<?, ?it/s]"
      ]
     },
     "metadata": {},
     "output_type": "display_data"
    },
    {
     "data": {
      "application/vnd.jupyter.widget-view+json": {
       "model_id": "2b1b16e9e7ae429daaa4d0a44509b115",
       "version_major": 2,
       "version_minor": 0
      },
      "text/plain": [
       "  0%|          | 0/1 [00:00<?, ?it/s]"
      ]
     },
     "metadata": {},
     "output_type": "display_data"
    },
    {
     "data": {
      "application/vnd.jupyter.widget-view+json": {
       "model_id": "844c8049432445519c72b2857ec0ac42",
       "version_major": 2,
       "version_minor": 0
      },
      "text/plain": [
       "  0%|          | 0/1 [00:00<?, ?it/s]"
      ]
     },
     "metadata": {},
     "output_type": "display_data"
    },
    {
     "data": {
      "application/vnd.jupyter.widget-view+json": {
       "model_id": "afa0ea93d69544088b71593bad034a12",
       "version_major": 2,
       "version_minor": 0
      },
      "text/plain": [
       "  0%|          | 0/1 [00:00<?, ?it/s]"
      ]
     },
     "metadata": {},
     "output_type": "display_data"
    },
    {
     "data": {
      "application/vnd.jupyter.widget-view+json": {
       "model_id": "fad58f5a083c4be5aaa95fa5e021a79e",
       "version_major": 2,
       "version_minor": 0
      },
      "text/plain": [
       "  0%|          | 0/1 [00:00<?, ?it/s]"
      ]
     },
     "metadata": {},
     "output_type": "display_data"
    },
    {
     "data": {
      "application/vnd.jupyter.widget-view+json": {
       "model_id": "23f4cc022f8942cd9b9e944e5040a83d",
       "version_major": 2,
       "version_minor": 0
      },
      "text/plain": [
       "  0%|          | 0/1 [00:00<?, ?it/s]"
      ]
     },
     "metadata": {},
     "output_type": "display_data"
    },
    {
     "data": {
      "application/vnd.jupyter.widget-view+json": {
       "model_id": "77b2cd1b341545fea65e19d7a0ff8e21",
       "version_major": 2,
       "version_minor": 0
      },
      "text/plain": [
       "  0%|          | 0/1 [00:00<?, ?it/s]"
      ]
     },
     "metadata": {},
     "output_type": "display_data"
    },
    {
     "data": {
      "application/vnd.jupyter.widget-view+json": {
       "model_id": "a6f31f33b4324e0ea082bbf36b9ace69",
       "version_major": 2,
       "version_minor": 0
      },
      "text/plain": [
       "  0%|          | 0/1 [00:00<?, ?it/s]"
      ]
     },
     "metadata": {},
     "output_type": "display_data"
    },
    {
     "data": {
      "application/vnd.jupyter.widget-view+json": {
       "model_id": "7474935c47b74baf90da8720725b9d2f",
       "version_major": 2,
       "version_minor": 0
      },
      "text/plain": [
       "  0%|          | 0/1 [00:00<?, ?it/s]"
      ]
     },
     "metadata": {},
     "output_type": "display_data"
    },
    {
     "data": {
      "application/vnd.jupyter.widget-view+json": {
       "model_id": "07a14abfd89841c7bff6675b74cd3f31",
       "version_major": 2,
       "version_minor": 0
      },
      "text/plain": [
       "  0%|          | 0/1 [00:00<?, ?it/s]"
      ]
     },
     "metadata": {},
     "output_type": "display_data"
    },
    {
     "data": {
      "application/vnd.jupyter.widget-view+json": {
       "model_id": "43d0d9cbac584932bfb30c323db96f69",
       "version_major": 2,
       "version_minor": 0
      },
      "text/plain": [
       "  0%|          | 0/1 [00:00<?, ?it/s]"
      ]
     },
     "metadata": {},
     "output_type": "display_data"
    },
    {
     "data": {
      "application/vnd.jupyter.widget-view+json": {
       "model_id": "7324bb7705464ed88e41d83779f5b3a9",
       "version_major": 2,
       "version_minor": 0
      },
      "text/plain": [
       "  0%|          | 0/1 [00:00<?, ?it/s]"
      ]
     },
     "metadata": {},
     "output_type": "display_data"
    },
    {
     "data": {
      "application/vnd.jupyter.widget-view+json": {
       "model_id": "9c9ebc5309d241df849d022c56f25db5",
       "version_major": 2,
       "version_minor": 0
      },
      "text/plain": [
       "  0%|          | 0/1 [00:00<?, ?it/s]"
      ]
     },
     "metadata": {},
     "output_type": "display_data"
    },
    {
     "data": {
      "application/vnd.jupyter.widget-view+json": {
       "model_id": "44ea201dfcc4402fa602d0c548dae256",
       "version_major": 2,
       "version_minor": 0
      },
      "text/plain": [
       "  0%|          | 0/1 [00:00<?, ?it/s]"
      ]
     },
     "metadata": {},
     "output_type": "display_data"
    },
    {
     "data": {
      "application/vnd.jupyter.widget-view+json": {
       "model_id": "084b6157025948deb07d9e69d7be3185",
       "version_major": 2,
       "version_minor": 0
      },
      "text/plain": [
       "  0%|          | 0/1 [00:00<?, ?it/s]"
      ]
     },
     "metadata": {},
     "output_type": "display_data"
    },
    {
     "data": {
      "application/vnd.jupyter.widget-view+json": {
       "model_id": "a9a45a77372a4be59111ecff1c8f7337",
       "version_major": 2,
       "version_minor": 0
      },
      "text/plain": [
       "  0%|          | 0/1 [00:00<?, ?it/s]"
      ]
     },
     "metadata": {},
     "output_type": "display_data"
    },
    {
     "data": {
      "application/vnd.jupyter.widget-view+json": {
       "model_id": "0e80db4f40944fd5bf75984a7e95ae89",
       "version_major": 2,
       "version_minor": 0
      },
      "text/plain": [
       "  0%|          | 0/1 [00:00<?, ?it/s]"
      ]
     },
     "metadata": {},
     "output_type": "display_data"
    },
    {
     "data": {
      "application/vnd.jupyter.widget-view+json": {
       "model_id": "bc50fd6be1b7439da63a48fe5ad938f1",
       "version_major": 2,
       "version_minor": 0
      },
      "text/plain": [
       "  0%|          | 0/1 [00:00<?, ?it/s]"
      ]
     },
     "metadata": {},
     "output_type": "display_data"
    },
    {
     "data": {
      "application/vnd.jupyter.widget-view+json": {
       "model_id": "f9742c1fcac74efe85ebac5664039783",
       "version_major": 2,
       "version_minor": 0
      },
      "text/plain": [
       "  0%|          | 0/1 [00:00<?, ?it/s]"
      ]
     },
     "metadata": {},
     "output_type": "display_data"
    },
    {
     "data": {
      "application/vnd.jupyter.widget-view+json": {
       "model_id": "ed745b939e10499abe23db881bd97c5e",
       "version_major": 2,
       "version_minor": 0
      },
      "text/plain": [
       "  0%|          | 0/1 [00:00<?, ?it/s]"
      ]
     },
     "metadata": {},
     "output_type": "display_data"
    },
    {
     "data": {
      "application/vnd.jupyter.widget-view+json": {
       "model_id": "63287ca24ea34802a10c37a95341a9ff",
       "version_major": 2,
       "version_minor": 0
      },
      "text/plain": [
       "  0%|          | 0/1 [00:00<?, ?it/s]"
      ]
     },
     "metadata": {},
     "output_type": "display_data"
    },
    {
     "data": {
      "application/vnd.jupyter.widget-view+json": {
       "model_id": "bafa581cbd17400ea5be7801b4e95518",
       "version_major": 2,
       "version_minor": 0
      },
      "text/plain": [
       "  0%|          | 0/1 [00:00<?, ?it/s]"
      ]
     },
     "metadata": {},
     "output_type": "display_data"
    },
    {
     "data": {
      "application/vnd.jupyter.widget-view+json": {
       "model_id": "7db8c079987b44e6ac8e5f1feab0de62",
       "version_major": 2,
       "version_minor": 0
      },
      "text/plain": [
       "  0%|          | 0/1 [00:00<?, ?it/s]"
      ]
     },
     "metadata": {},
     "output_type": "display_data"
    },
    {
     "data": {
      "application/vnd.jupyter.widget-view+json": {
       "model_id": "1c3a0f5a549c4a76a1850c7db4adf67b",
       "version_major": 2,
       "version_minor": 0
      },
      "text/plain": [
       "  0%|          | 0/1 [00:00<?, ?it/s]"
      ]
     },
     "metadata": {},
     "output_type": "display_data"
    },
    {
     "data": {
      "application/vnd.jupyter.widget-view+json": {
       "model_id": "c4fb905204f04a45810754bde37d007c",
       "version_major": 2,
       "version_minor": 0
      },
      "text/plain": [
       "  0%|          | 0/1 [00:00<?, ?it/s]"
      ]
     },
     "metadata": {},
     "output_type": "display_data"
    },
    {
     "data": {
      "application/vnd.jupyter.widget-view+json": {
       "model_id": "275f7155cab3453b96b59c48b7bc8a79",
       "version_major": 2,
       "version_minor": 0
      },
      "text/plain": [
       "  0%|          | 0/1 [00:00<?, ?it/s]"
      ]
     },
     "metadata": {},
     "output_type": "display_data"
    },
    {
     "data": {
      "application/vnd.jupyter.widget-view+json": {
       "model_id": "9eb313b4d0524ac9b75debdd86460de5",
       "version_major": 2,
       "version_minor": 0
      },
      "text/plain": [
       "  0%|          | 0/1 [00:00<?, ?it/s]"
      ]
     },
     "metadata": {},
     "output_type": "display_data"
    },
    {
     "data": {
      "application/vnd.jupyter.widget-view+json": {
       "model_id": "aee538999da84413aa5f31ca19929491",
       "version_major": 2,
       "version_minor": 0
      },
      "text/plain": [
       "  0%|          | 0/1 [00:00<?, ?it/s]"
      ]
     },
     "metadata": {},
     "output_type": "display_data"
    },
    {
     "data": {
      "application/vnd.jupyter.widget-view+json": {
       "model_id": "495b166d80a54e68aaccb8d66787959b",
       "version_major": 2,
       "version_minor": 0
      },
      "text/plain": [
       "  0%|          | 0/1 [00:00<?, ?it/s]"
      ]
     },
     "metadata": {},
     "output_type": "display_data"
    },
    {
     "data": {
      "application/vnd.jupyter.widget-view+json": {
       "model_id": "9ea8b921d50f42e8a97eba75cb2825db",
       "version_major": 2,
       "version_minor": 0
      },
      "text/plain": [
       "  0%|          | 0/1 [00:00<?, ?it/s]"
      ]
     },
     "metadata": {},
     "output_type": "display_data"
    },
    {
     "data": {
      "application/vnd.jupyter.widget-view+json": {
       "model_id": "0ebb286a87014be2bcb63567150c40d5",
       "version_major": 2,
       "version_minor": 0
      },
      "text/plain": [
       "  0%|          | 0/1 [00:00<?, ?it/s]"
      ]
     },
     "metadata": {},
     "output_type": "display_data"
    },
    {
     "data": {
      "application/vnd.jupyter.widget-view+json": {
       "model_id": "96314c7444d64495918f9a5b0f6989f7",
       "version_major": 2,
       "version_minor": 0
      },
      "text/plain": [
       "  0%|          | 0/1 [00:00<?, ?it/s]"
      ]
     },
     "metadata": {},
     "output_type": "display_data"
    },
    {
     "data": {
      "application/vnd.jupyter.widget-view+json": {
       "model_id": "0ce8e08782cc4d018081a5af8b631205",
       "version_major": 2,
       "version_minor": 0
      },
      "text/plain": [
       "  0%|          | 0/1 [00:00<?, ?it/s]"
      ]
     },
     "metadata": {},
     "output_type": "display_data"
    },
    {
     "data": {
      "application/vnd.jupyter.widget-view+json": {
       "model_id": "a608fceba06b4f588ed3e21a4a0d260f",
       "version_major": 2,
       "version_minor": 0
      },
      "text/plain": [
       "  0%|          | 0/1 [00:00<?, ?it/s]"
      ]
     },
     "metadata": {},
     "output_type": "display_data"
    },
    {
     "data": {
      "application/vnd.jupyter.widget-view+json": {
       "model_id": "b23a642c02b24a6abf4c8596bc93ea9b",
       "version_major": 2,
       "version_minor": 0
      },
      "text/plain": [
       "  0%|          | 0/1 [00:00<?, ?it/s]"
      ]
     },
     "metadata": {},
     "output_type": "display_data"
    },
    {
     "data": {
      "application/vnd.jupyter.widget-view+json": {
       "model_id": "c9abcff3a4b74ed5a7aad46940964002",
       "version_major": 2,
       "version_minor": 0
      },
      "text/plain": [
       "  0%|          | 0/1 [00:00<?, ?it/s]"
      ]
     },
     "metadata": {},
     "output_type": "display_data"
    },
    {
     "data": {
      "application/vnd.jupyter.widget-view+json": {
       "model_id": "693ff4b03e4d4875b50898d1ca2e1b27",
       "version_major": 2,
       "version_minor": 0
      },
      "text/plain": [
       "  0%|          | 0/1 [00:00<?, ?it/s]"
      ]
     },
     "metadata": {},
     "output_type": "display_data"
    },
    {
     "data": {
      "application/vnd.jupyter.widget-view+json": {
       "model_id": "7d20a15c80d44a0ab3ae6d2978170485",
       "version_major": 2,
       "version_minor": 0
      },
      "text/plain": [
       "  0%|          | 0/1 [00:00<?, ?it/s]"
      ]
     },
     "metadata": {},
     "output_type": "display_data"
    },
    {
     "data": {
      "application/vnd.jupyter.widget-view+json": {
       "model_id": "86a67711e5874be5a4d5225669a76a87",
       "version_major": 2,
       "version_minor": 0
      },
      "text/plain": [
       "  0%|          | 0/1 [00:00<?, ?it/s]"
      ]
     },
     "metadata": {},
     "output_type": "display_data"
    },
    {
     "data": {
      "application/vnd.jupyter.widget-view+json": {
       "model_id": "c3cb8723d34049b8b8989e0b4eea0312",
       "version_major": 2,
       "version_minor": 0
      },
      "text/plain": [
       "  0%|          | 0/1 [00:00<?, ?it/s]"
      ]
     },
     "metadata": {},
     "output_type": "display_data"
    },
    {
     "data": {
      "application/vnd.jupyter.widget-view+json": {
       "model_id": "199dce00a1074149a728b4203e8c1fab",
       "version_major": 2,
       "version_minor": 0
      },
      "text/plain": [
       "  0%|          | 0/1 [00:00<?, ?it/s]"
      ]
     },
     "metadata": {},
     "output_type": "display_data"
    },
    {
     "data": {
      "application/vnd.jupyter.widget-view+json": {
       "model_id": "6047bdc2cad643d99839e648ea4cc964",
       "version_major": 2,
       "version_minor": 0
      },
      "text/plain": [
       "  0%|          | 0/1 [00:00<?, ?it/s]"
      ]
     },
     "metadata": {},
     "output_type": "display_data"
    },
    {
     "data": {
      "application/vnd.jupyter.widget-view+json": {
       "model_id": "c589edbe3eee412591c1e5223fd0ed07",
       "version_major": 2,
       "version_minor": 0
      },
      "text/plain": [
       "  0%|          | 0/1 [00:00<?, ?it/s]"
      ]
     },
     "metadata": {},
     "output_type": "display_data"
    },
    {
     "data": {
      "application/vnd.jupyter.widget-view+json": {
       "model_id": "e37bfd755b2841b8818c568a47d524f5",
       "version_major": 2,
       "version_minor": 0
      },
      "text/plain": [
       "  0%|          | 0/1 [00:00<?, ?it/s]"
      ]
     },
     "metadata": {},
     "output_type": "display_data"
    },
    {
     "data": {
      "application/vnd.jupyter.widget-view+json": {
       "model_id": "70b491242ca44946a7019dbb18118287",
       "version_major": 2,
       "version_minor": 0
      },
      "text/plain": [
       "  0%|          | 0/1 [00:00<?, ?it/s]"
      ]
     },
     "metadata": {},
     "output_type": "display_data"
    },
    {
     "data": {
      "application/vnd.jupyter.widget-view+json": {
       "model_id": "5d8c2ebf705a41db84e1fc65ccb9aa71",
       "version_major": 2,
       "version_minor": 0
      },
      "text/plain": [
       "  0%|          | 0/1 [00:00<?, ?it/s]"
      ]
     },
     "metadata": {},
     "output_type": "display_data"
    },
    {
     "data": {
      "application/vnd.jupyter.widget-view+json": {
       "model_id": "39eb051773a34d66812f6c2e4edd3b85",
       "version_major": 2,
       "version_minor": 0
      },
      "text/plain": [
       "  0%|          | 0/1 [00:00<?, ?it/s]"
      ]
     },
     "metadata": {},
     "output_type": "display_data"
    },
    {
     "data": {
      "application/vnd.jupyter.widget-view+json": {
       "model_id": "deb673cbbd4b4ed09937a5a13edfdd11",
       "version_major": 2,
       "version_minor": 0
      },
      "text/plain": [
       "  0%|          | 0/1 [00:00<?, ?it/s]"
      ]
     },
     "metadata": {},
     "output_type": "display_data"
    },
    {
     "data": {
      "application/vnd.jupyter.widget-view+json": {
       "model_id": "7c62142a32af4143863010e2bd577aa3",
       "version_major": 2,
       "version_minor": 0
      },
      "text/plain": [
       "  0%|          | 0/1 [00:00<?, ?it/s]"
      ]
     },
     "metadata": {},
     "output_type": "display_data"
    },
    {
     "data": {
      "application/vnd.jupyter.widget-view+json": {
       "model_id": "242fdc4224604e97b1f74f5d0ef1317f",
       "version_major": 2,
       "version_minor": 0
      },
      "text/plain": [
       "  0%|          | 0/1 [00:00<?, ?it/s]"
      ]
     },
     "metadata": {},
     "output_type": "display_data"
    },
    {
     "data": {
      "application/vnd.jupyter.widget-view+json": {
       "model_id": "21cd3ec390514ce0a6422cfe062f6ef4",
       "version_major": 2,
       "version_minor": 0
      },
      "text/plain": [
       "  0%|          | 0/1 [00:00<?, ?it/s]"
      ]
     },
     "metadata": {},
     "output_type": "display_data"
    },
    {
     "data": {
      "application/vnd.jupyter.widget-view+json": {
       "model_id": "5d70d0af96a1499caaf2757a4765ee58",
       "version_major": 2,
       "version_minor": 0
      },
      "text/plain": [
       "  0%|          | 0/1 [00:00<?, ?it/s]"
      ]
     },
     "metadata": {},
     "output_type": "display_data"
    },
    {
     "data": {
      "application/vnd.jupyter.widget-view+json": {
       "model_id": "d08897fa23844855bf084db98e07d844",
       "version_major": 2,
       "version_minor": 0
      },
      "text/plain": [
       "  0%|          | 0/1 [00:00<?, ?it/s]"
      ]
     },
     "metadata": {},
     "output_type": "display_data"
    },
    {
     "data": {
      "application/vnd.jupyter.widget-view+json": {
       "model_id": "ccdbb71630b846fab22095f1083a5cb8",
       "version_major": 2,
       "version_minor": 0
      },
      "text/plain": [
       "  0%|          | 0/1 [00:00<?, ?it/s]"
      ]
     },
     "metadata": {},
     "output_type": "display_data"
    },
    {
     "data": {
      "application/vnd.jupyter.widget-view+json": {
       "model_id": "e7c0e10f37ac47f789a9d8e041afb073",
       "version_major": 2,
       "version_minor": 0
      },
      "text/plain": [
       "  0%|          | 0/1 [00:00<?, ?it/s]"
      ]
     },
     "metadata": {},
     "output_type": "display_data"
    },
    {
     "data": {
      "application/vnd.jupyter.widget-view+json": {
       "model_id": "01dca2ced4ab48e98bbd0cba576d8daa",
       "version_major": 2,
       "version_minor": 0
      },
      "text/plain": [
       "  0%|          | 0/1 [00:00<?, ?it/s]"
      ]
     },
     "metadata": {},
     "output_type": "display_data"
    },
    {
     "data": {
      "application/vnd.jupyter.widget-view+json": {
       "model_id": "bdbb43c86f0c4431bc492a371ff29274",
       "version_major": 2,
       "version_minor": 0
      },
      "text/plain": [
       "  0%|          | 0/1 [00:00<?, ?it/s]"
      ]
     },
     "metadata": {},
     "output_type": "display_data"
    },
    {
     "data": {
      "application/vnd.jupyter.widget-view+json": {
       "model_id": "8bb0842a424043468b29ba5aa61d0ac6",
       "version_major": 2,
       "version_minor": 0
      },
      "text/plain": [
       "  0%|          | 0/1 [00:00<?, ?it/s]"
      ]
     },
     "metadata": {},
     "output_type": "display_data"
    },
    {
     "data": {
      "application/vnd.jupyter.widget-view+json": {
       "model_id": "c4bd5a76494c49f19034b3dd29bd6170",
       "version_major": 2,
       "version_minor": 0
      },
      "text/plain": [
       "  0%|          | 0/1 [00:00<?, ?it/s]"
      ]
     },
     "metadata": {},
     "output_type": "display_data"
    },
    {
     "data": {
      "application/vnd.jupyter.widget-view+json": {
       "model_id": "b37cec0be1d945d5910e113ccebb7df2",
       "version_major": 2,
       "version_minor": 0
      },
      "text/plain": [
       "  0%|          | 0/1 [00:00<?, ?it/s]"
      ]
     },
     "metadata": {},
     "output_type": "display_data"
    },
    {
     "data": {
      "application/vnd.jupyter.widget-view+json": {
       "model_id": "48628ce0bc8c4ec7ae862f726399c0c8",
       "version_major": 2,
       "version_minor": 0
      },
      "text/plain": [
       "  0%|          | 0/1 [00:00<?, ?it/s]"
      ]
     },
     "metadata": {},
     "output_type": "display_data"
    },
    {
     "data": {
      "application/vnd.jupyter.widget-view+json": {
       "model_id": "2092e566bd3248609337c8806135f2d7",
       "version_major": 2,
       "version_minor": 0
      },
      "text/plain": [
       "  0%|          | 0/1 [00:00<?, ?it/s]"
      ]
     },
     "metadata": {},
     "output_type": "display_data"
    },
    {
     "data": {
      "application/vnd.jupyter.widget-view+json": {
       "model_id": "9a9b1e44011d4c37899339d282c1897a",
       "version_major": 2,
       "version_minor": 0
      },
      "text/plain": [
       "  0%|          | 0/1 [00:00<?, ?it/s]"
      ]
     },
     "metadata": {},
     "output_type": "display_data"
    },
    {
     "data": {
      "application/vnd.jupyter.widget-view+json": {
       "model_id": "516adcdd33484c70a13fe41335e2cceb",
       "version_major": 2,
       "version_minor": 0
      },
      "text/plain": [
       "  0%|          | 0/1 [00:00<?, ?it/s]"
      ]
     },
     "metadata": {},
     "output_type": "display_data"
    },
    {
     "data": {
      "application/vnd.jupyter.widget-view+json": {
       "model_id": "c787c70909724db589040a083a2a35b7",
       "version_major": 2,
       "version_minor": 0
      },
      "text/plain": [
       "  0%|          | 0/1 [00:00<?, ?it/s]"
      ]
     },
     "metadata": {},
     "output_type": "display_data"
    },
    {
     "data": {
      "application/vnd.jupyter.widget-view+json": {
       "model_id": "0caa9b9e804e4ae692eaf0cbafcaace6",
       "version_major": 2,
       "version_minor": 0
      },
      "text/plain": [
       "  0%|          | 0/1 [00:00<?, ?it/s]"
      ]
     },
     "metadata": {},
     "output_type": "display_data"
    },
    {
     "data": {
      "application/vnd.jupyter.widget-view+json": {
       "model_id": "7d2aed5de98b4d21a4c1ca55b06abfb0",
       "version_major": 2,
       "version_minor": 0
      },
      "text/plain": [
       "  0%|          | 0/1 [00:00<?, ?it/s]"
      ]
     },
     "metadata": {},
     "output_type": "display_data"
    },
    {
     "data": {
      "application/vnd.jupyter.widget-view+json": {
       "model_id": "f1b4041dc34e42bd8eafaa7de8c15393",
       "version_major": 2,
       "version_minor": 0
      },
      "text/plain": [
       "  0%|          | 0/1 [00:00<?, ?it/s]"
      ]
     },
     "metadata": {},
     "output_type": "display_data"
    },
    {
     "data": {
      "application/vnd.jupyter.widget-view+json": {
       "model_id": "da6cde43d6d741dca176de9769e900c8",
       "version_major": 2,
       "version_minor": 0
      },
      "text/plain": [
       "  0%|          | 0/1 [00:00<?, ?it/s]"
      ]
     },
     "metadata": {},
     "output_type": "display_data"
    },
    {
     "data": {
      "application/vnd.jupyter.widget-view+json": {
       "model_id": "222114b3fbf24a19bc75995edb1e7a14",
       "version_major": 2,
       "version_minor": 0
      },
      "text/plain": [
       "  0%|          | 0/1 [00:00<?, ?it/s]"
      ]
     },
     "metadata": {},
     "output_type": "display_data"
    },
    {
     "data": {
      "application/vnd.jupyter.widget-view+json": {
       "model_id": "86ceeeff77ef405fa8acddbf129e1836",
       "version_major": 2,
       "version_minor": 0
      },
      "text/plain": [
       "  0%|          | 0/1 [00:00<?, ?it/s]"
      ]
     },
     "metadata": {},
     "output_type": "display_data"
    },
    {
     "data": {
      "application/vnd.jupyter.widget-view+json": {
       "model_id": "d014ba6f1f4f4bcebc09f97790b7a308",
       "version_major": 2,
       "version_minor": 0
      },
      "text/plain": [
       "  0%|          | 0/1 [00:00<?, ?it/s]"
      ]
     },
     "metadata": {},
     "output_type": "display_data"
    },
    {
     "data": {
      "application/vnd.jupyter.widget-view+json": {
       "model_id": "4ab568b790b64e25bebd3547ec9ebe4b",
       "version_major": 2,
       "version_minor": 0
      },
      "text/plain": [
       "  0%|          | 0/1 [00:00<?, ?it/s]"
      ]
     },
     "metadata": {},
     "output_type": "display_data"
    },
    {
     "data": {
      "application/vnd.jupyter.widget-view+json": {
       "model_id": "f3406870ed134104a5921016c9743b33",
       "version_major": 2,
       "version_minor": 0
      },
      "text/plain": [
       "  0%|          | 0/1 [00:00<?, ?it/s]"
      ]
     },
     "metadata": {},
     "output_type": "display_data"
    },
    {
     "data": {
      "application/vnd.jupyter.widget-view+json": {
       "model_id": "dc6fae76b9ad4bd5ab3a8c824dd8f46b",
       "version_major": 2,
       "version_minor": 0
      },
      "text/plain": [
       "  0%|          | 0/1 [00:00<?, ?it/s]"
      ]
     },
     "metadata": {},
     "output_type": "display_data"
    },
    {
     "data": {
      "application/vnd.jupyter.widget-view+json": {
       "model_id": "baffbf51bb11468b92187b9b8643c07a",
       "version_major": 2,
       "version_minor": 0
      },
      "text/plain": [
       "  0%|          | 0/1 [00:00<?, ?it/s]"
      ]
     },
     "metadata": {},
     "output_type": "display_data"
    },
    {
     "data": {
      "application/vnd.jupyter.widget-view+json": {
       "model_id": "92b8da20b09643a8a8ebce71d0735c68",
       "version_major": 2,
       "version_minor": 0
      },
      "text/plain": [
       "  0%|          | 0/1 [00:00<?, ?it/s]"
      ]
     },
     "metadata": {},
     "output_type": "display_data"
    },
    {
     "data": {
      "application/vnd.jupyter.widget-view+json": {
       "model_id": "69dbe2617c6b46bb911e49be3c515c01",
       "version_major": 2,
       "version_minor": 0
      },
      "text/plain": [
       "  0%|          | 0/1 [00:00<?, ?it/s]"
      ]
     },
     "metadata": {},
     "output_type": "display_data"
    },
    {
     "data": {
      "application/vnd.jupyter.widget-view+json": {
       "model_id": "50b2d5c1cdfd48b6b8df3f16ab1f567f",
       "version_major": 2,
       "version_minor": 0
      },
      "text/plain": [
       "  0%|          | 0/1 [00:00<?, ?it/s]"
      ]
     },
     "metadata": {},
     "output_type": "display_data"
    },
    {
     "data": {
      "application/vnd.jupyter.widget-view+json": {
       "model_id": "1f6ae64837ef410088458c5d38fce6a3",
       "version_major": 2,
       "version_minor": 0
      },
      "text/plain": [
       "  0%|          | 0/1 [00:00<?, ?it/s]"
      ]
     },
     "metadata": {},
     "output_type": "display_data"
    },
    {
     "data": {
      "application/vnd.jupyter.widget-view+json": {
       "model_id": "8eb37bbfbbda4802ba1d996114ef31f5",
       "version_major": 2,
       "version_minor": 0
      },
      "text/plain": [
       "  0%|          | 0/1 [00:00<?, ?it/s]"
      ]
     },
     "metadata": {},
     "output_type": "display_data"
    },
    {
     "data": {
      "application/vnd.jupyter.widget-view+json": {
       "model_id": "260decb52d9e4780a3a20f478b5e8592",
       "version_major": 2,
       "version_minor": 0
      },
      "text/plain": [
       "  0%|          | 0/1 [00:00<?, ?it/s]"
      ]
     },
     "metadata": {},
     "output_type": "display_data"
    },
    {
     "data": {
      "application/vnd.jupyter.widget-view+json": {
       "model_id": "96d2d23ba3eb4522824f04ee9ecc7945",
       "version_major": 2,
       "version_minor": 0
      },
      "text/plain": [
       "  0%|          | 0/1 [00:00<?, ?it/s]"
      ]
     },
     "metadata": {},
     "output_type": "display_data"
    },
    {
     "data": {
      "application/vnd.jupyter.widget-view+json": {
       "model_id": "d9c5182dd47d429cb8efb510e3bdd7ac",
       "version_major": 2,
       "version_minor": 0
      },
      "text/plain": [
       "  0%|          | 0/1 [00:00<?, ?it/s]"
      ]
     },
     "metadata": {},
     "output_type": "display_data"
    },
    {
     "data": {
      "application/vnd.jupyter.widget-view+json": {
       "model_id": "acf962f8ded84ef497aa13b52b2d3e0d",
       "version_major": 2,
       "version_minor": 0
      },
      "text/plain": [
       "  0%|          | 0/1 [00:00<?, ?it/s]"
      ]
     },
     "metadata": {},
     "output_type": "display_data"
    },
    {
     "data": {
      "application/vnd.jupyter.widget-view+json": {
       "model_id": "df1038601dd6436b875056f61721a875",
       "version_major": 2,
       "version_minor": 0
      },
      "text/plain": [
       "  0%|          | 0/1 [00:00<?, ?it/s]"
      ]
     },
     "metadata": {},
     "output_type": "display_data"
    },
    {
     "data": {
      "application/vnd.jupyter.widget-view+json": {
       "model_id": "cc1ec7fdd504451e8be3c6274270eeee",
       "version_major": 2,
       "version_minor": 0
      },
      "text/plain": [
       "  0%|          | 0/1 [00:00<?, ?it/s]"
      ]
     },
     "metadata": {},
     "output_type": "display_data"
    },
    {
     "data": {
      "application/vnd.jupyter.widget-view+json": {
       "model_id": "d5ada9f6c346412794d140412d7c82ef",
       "version_major": 2,
       "version_minor": 0
      },
      "text/plain": [
       "  0%|          | 0/1 [00:00<?, ?it/s]"
      ]
     },
     "metadata": {},
     "output_type": "display_data"
    },
    {
     "data": {
      "application/vnd.jupyter.widget-view+json": {
       "model_id": "6330e385ad9a4e9b910c3e849a39ec71",
       "version_major": 2,
       "version_minor": 0
      },
      "text/plain": [
       "  0%|          | 0/1 [00:00<?, ?it/s]"
      ]
     },
     "metadata": {},
     "output_type": "display_data"
    },
    {
     "data": {
      "application/vnd.jupyter.widget-view+json": {
       "model_id": "3fb99f46633f45afb4fd66e614c6afea",
       "version_major": 2,
       "version_minor": 0
      },
      "text/plain": [
       "  0%|          | 0/1 [00:00<?, ?it/s]"
      ]
     },
     "metadata": {},
     "output_type": "display_data"
    },
    {
     "data": {
      "application/vnd.jupyter.widget-view+json": {
       "model_id": "9ae47f90dd9146ffaae1a4bc994388d4",
       "version_major": 2,
       "version_minor": 0
      },
      "text/plain": [
       "  0%|          | 0/1 [00:00<?, ?it/s]"
      ]
     },
     "metadata": {},
     "output_type": "display_data"
    },
    {
     "data": {
      "application/vnd.jupyter.widget-view+json": {
       "model_id": "db0178b511754587b5c79a39ece8a73e",
       "version_major": 2,
       "version_minor": 0
      },
      "text/plain": [
       "  0%|          | 0/1 [00:00<?, ?it/s]"
      ]
     },
     "metadata": {},
     "output_type": "display_data"
    },
    {
     "data": {
      "application/vnd.jupyter.widget-view+json": {
       "model_id": "c81f16d1bdee42b8b69e85d7a6ed6398",
       "version_major": 2,
       "version_minor": 0
      },
      "text/plain": [
       "  0%|          | 0/1 [00:00<?, ?it/s]"
      ]
     },
     "metadata": {},
     "output_type": "display_data"
    },
    {
     "data": {
      "application/vnd.jupyter.widget-view+json": {
       "model_id": "f6fcbc30c9dd45edb4b1adafeac9299f",
       "version_major": 2,
       "version_minor": 0
      },
      "text/plain": [
       "  0%|          | 0/1 [00:00<?, ?it/s]"
      ]
     },
     "metadata": {},
     "output_type": "display_data"
    },
    {
     "data": {
      "application/vnd.jupyter.widget-view+json": {
       "model_id": "aa00d42186084184ad9c79b32fdc9c46",
       "version_major": 2,
       "version_minor": 0
      },
      "text/plain": [
       "  0%|          | 0/1 [00:00<?, ?it/s]"
      ]
     },
     "metadata": {},
     "output_type": "display_data"
    },
    {
     "data": {
      "application/vnd.jupyter.widget-view+json": {
       "model_id": "79bf922c8d464d97bef5933bc879d4f7",
       "version_major": 2,
       "version_minor": 0
      },
      "text/plain": [
       "  0%|          | 0/1 [00:00<?, ?it/s]"
      ]
     },
     "metadata": {},
     "output_type": "display_data"
    },
    {
     "data": {
      "application/vnd.jupyter.widget-view+json": {
       "model_id": "29361e58a11348dc9cd87547989aca40",
       "version_major": 2,
       "version_minor": 0
      },
      "text/plain": [
       "  0%|          | 0/1 [00:00<?, ?it/s]"
      ]
     },
     "metadata": {},
     "output_type": "display_data"
    },
    {
     "data": {
      "application/vnd.jupyter.widget-view+json": {
       "model_id": "bd2af838942a4afc97aaa1ad484ca14b",
       "version_major": 2,
       "version_minor": 0
      },
      "text/plain": [
       "  0%|          | 0/1 [00:00<?, ?it/s]"
      ]
     },
     "metadata": {},
     "output_type": "display_data"
    },
    {
     "data": {
      "application/vnd.jupyter.widget-view+json": {
       "model_id": "d25da107c6b54460a42909e6feb7158c",
       "version_major": 2,
       "version_minor": 0
      },
      "text/plain": [
       "  0%|          | 0/1 [00:00<?, ?it/s]"
      ]
     },
     "metadata": {},
     "output_type": "display_data"
    },
    {
     "data": {
      "application/vnd.jupyter.widget-view+json": {
       "model_id": "c0f770157805428a92be9077d4795c65",
       "version_major": 2,
       "version_minor": 0
      },
      "text/plain": [
       "  0%|          | 0/1 [00:00<?, ?it/s]"
      ]
     },
     "metadata": {},
     "output_type": "display_data"
    },
    {
     "data": {
      "application/vnd.jupyter.widget-view+json": {
       "model_id": "96bb9fdfd2a744d29aec599169dfbd98",
       "version_major": 2,
       "version_minor": 0
      },
      "text/plain": [
       "  0%|          | 0/1 [00:00<?, ?it/s]"
      ]
     },
     "metadata": {},
     "output_type": "display_data"
    },
    {
     "data": {
      "application/vnd.jupyter.widget-view+json": {
       "model_id": "a8b389cbbc7e41108c86ee63868dbe54",
       "version_major": 2,
       "version_minor": 0
      },
      "text/plain": [
       "  0%|          | 0/1 [00:00<?, ?it/s]"
      ]
     },
     "metadata": {},
     "output_type": "display_data"
    },
    {
     "data": {
      "application/vnd.jupyter.widget-view+json": {
       "model_id": "1000ade940a44433ad0342008d261071",
       "version_major": 2,
       "version_minor": 0
      },
      "text/plain": [
       "  0%|          | 0/1 [00:00<?, ?it/s]"
      ]
     },
     "metadata": {},
     "output_type": "display_data"
    },
    {
     "data": {
      "application/vnd.jupyter.widget-view+json": {
       "model_id": "4d2cc204d67b4985935e48cef9da27b5",
       "version_major": 2,
       "version_minor": 0
      },
      "text/plain": [
       "  0%|          | 0/1 [00:00<?, ?it/s]"
      ]
     },
     "metadata": {},
     "output_type": "display_data"
    },
    {
     "data": {
      "application/vnd.jupyter.widget-view+json": {
       "model_id": "0d75a03957bd41aa8ddcd56c693e48f7",
       "version_major": 2,
       "version_minor": 0
      },
      "text/plain": [
       "  0%|          | 0/1 [00:00<?, ?it/s]"
      ]
     },
     "metadata": {},
     "output_type": "display_data"
    },
    {
     "data": {
      "application/vnd.jupyter.widget-view+json": {
       "model_id": "89de88adbd7640acbc620b1b7ff4794b",
       "version_major": 2,
       "version_minor": 0
      },
      "text/plain": [
       "  0%|          | 0/1 [00:00<?, ?it/s]"
      ]
     },
     "metadata": {},
     "output_type": "display_data"
    },
    {
     "data": {
      "application/vnd.jupyter.widget-view+json": {
       "model_id": "48bd671461a8488eafde66b39175c4a5",
       "version_major": 2,
       "version_minor": 0
      },
      "text/plain": [
       "  0%|          | 0/1 [00:00<?, ?it/s]"
      ]
     },
     "metadata": {},
     "output_type": "display_data"
    },
    {
     "data": {
      "application/vnd.jupyter.widget-view+json": {
       "model_id": "20b3faed245244ac995f8f8dad5e4d0c",
       "version_major": 2,
       "version_minor": 0
      },
      "text/plain": [
       "  0%|          | 0/1 [00:00<?, ?it/s]"
      ]
     },
     "metadata": {},
     "output_type": "display_data"
    },
    {
     "data": {
      "application/vnd.jupyter.widget-view+json": {
       "model_id": "5558f7d6114041cab426887cc639d6fb",
       "version_major": 2,
       "version_minor": 0
      },
      "text/plain": [
       "  0%|          | 0/1 [00:00<?, ?it/s]"
      ]
     },
     "metadata": {},
     "output_type": "display_data"
    },
    {
     "data": {
      "application/vnd.jupyter.widget-view+json": {
       "model_id": "b4183e03a52e4cbeadfb786a4b446dbc",
       "version_major": 2,
       "version_minor": 0
      },
      "text/plain": [
       "  0%|          | 0/1 [00:00<?, ?it/s]"
      ]
     },
     "metadata": {},
     "output_type": "display_data"
    },
    {
     "data": {
      "application/vnd.jupyter.widget-view+json": {
       "model_id": "70b2320305e941ef855fb4b21a53b24b",
       "version_major": 2,
       "version_minor": 0
      },
      "text/plain": [
       "  0%|          | 0/1 [00:00<?, ?it/s]"
      ]
     },
     "metadata": {},
     "output_type": "display_data"
    },
    {
     "data": {
      "application/vnd.jupyter.widget-view+json": {
       "model_id": "ceda7fa93bec44d0a4ffae1ea2531fae",
       "version_major": 2,
       "version_minor": 0
      },
      "text/plain": [
       "  0%|          | 0/1 [00:00<?, ?it/s]"
      ]
     },
     "metadata": {},
     "output_type": "display_data"
    },
    {
     "data": {
      "application/vnd.jupyter.widget-view+json": {
       "model_id": "de29d97099464d338c855fa5d30cd0f5",
       "version_major": 2,
       "version_minor": 0
      },
      "text/plain": [
       "  0%|          | 0/1 [00:00<?, ?it/s]"
      ]
     },
     "metadata": {},
     "output_type": "display_data"
    },
    {
     "data": {
      "application/vnd.jupyter.widget-view+json": {
       "model_id": "fb2885fdb73d4545891d6109b5e2a585",
       "version_major": 2,
       "version_minor": 0
      },
      "text/plain": [
       "  0%|          | 0/1 [00:00<?, ?it/s]"
      ]
     },
     "metadata": {},
     "output_type": "display_data"
    },
    {
     "data": {
      "application/vnd.jupyter.widget-view+json": {
       "model_id": "49266847a704482bbf126359506c3f71",
       "version_major": 2,
       "version_minor": 0
      },
      "text/plain": [
       "  0%|          | 0/1 [00:00<?, ?it/s]"
      ]
     },
     "metadata": {},
     "output_type": "display_data"
    },
    {
     "data": {
      "application/vnd.jupyter.widget-view+json": {
       "model_id": "14fc5c22f0c842cebe6a10c6842d07a1",
       "version_major": 2,
       "version_minor": 0
      },
      "text/plain": [
       "  0%|          | 0/1 [00:00<?, ?it/s]"
      ]
     },
     "metadata": {},
     "output_type": "display_data"
    },
    {
     "data": {
      "application/vnd.jupyter.widget-view+json": {
       "model_id": "de21078ee2c649c6a80a0f1b0621e978",
       "version_major": 2,
       "version_minor": 0
      },
      "text/plain": [
       "  0%|          | 0/1 [00:00<?, ?it/s]"
      ]
     },
     "metadata": {},
     "output_type": "display_data"
    },
    {
     "data": {
      "application/vnd.jupyter.widget-view+json": {
       "model_id": "53d0e90b98184d1b994f170e0aa50e3b",
       "version_major": 2,
       "version_minor": 0
      },
      "text/plain": [
       "  0%|          | 0/1 [00:00<?, ?it/s]"
      ]
     },
     "metadata": {},
     "output_type": "display_data"
    },
    {
     "data": {
      "application/vnd.jupyter.widget-view+json": {
       "model_id": "e90d2a7809fa4c2b929b7ebad4add1f3",
       "version_major": 2,
       "version_minor": 0
      },
      "text/plain": [
       "  0%|          | 0/1 [00:00<?, ?it/s]"
      ]
     },
     "metadata": {},
     "output_type": "display_data"
    },
    {
     "data": {
      "application/vnd.jupyter.widget-view+json": {
       "model_id": "a9008e58eff644388a07b1fc431a1284",
       "version_major": 2,
       "version_minor": 0
      },
      "text/plain": [
       "  0%|          | 0/1 [00:00<?, ?it/s]"
      ]
     },
     "metadata": {},
     "output_type": "display_data"
    },
    {
     "data": {
      "application/vnd.jupyter.widget-view+json": {
       "model_id": "b8106ed8bef543e0b5938f327865b7bf",
       "version_major": 2,
       "version_minor": 0
      },
      "text/plain": [
       "  0%|          | 0/1 [00:00<?, ?it/s]"
      ]
     },
     "metadata": {},
     "output_type": "display_data"
    },
    {
     "data": {
      "application/vnd.jupyter.widget-view+json": {
       "model_id": "1ebf39f4b32c4dcb8004b3c3d8629eb1",
       "version_major": 2,
       "version_minor": 0
      },
      "text/plain": [
       "  0%|          | 0/1 [00:00<?, ?it/s]"
      ]
     },
     "metadata": {},
     "output_type": "display_data"
    },
    {
     "data": {
      "application/vnd.jupyter.widget-view+json": {
       "model_id": "7dec32edfe7a4b95a3fc13294c3a6b28",
       "version_major": 2,
       "version_minor": 0
      },
      "text/plain": [
       "  0%|          | 0/1 [00:00<?, ?it/s]"
      ]
     },
     "metadata": {},
     "output_type": "display_data"
    },
    {
     "data": {
      "application/vnd.jupyter.widget-view+json": {
       "model_id": "4d59cc552e4e46ae9d8c58f0429dcc49",
       "version_major": 2,
       "version_minor": 0
      },
      "text/plain": [
       "  0%|          | 0/1 [00:00<?, ?it/s]"
      ]
     },
     "metadata": {},
     "output_type": "display_data"
    },
    {
     "data": {
      "application/vnd.jupyter.widget-view+json": {
       "model_id": "f6f76f1974e948f090a37e5143893f7b",
       "version_major": 2,
       "version_minor": 0
      },
      "text/plain": [
       "  0%|          | 0/1 [00:00<?, ?it/s]"
      ]
     },
     "metadata": {},
     "output_type": "display_data"
    },
    {
     "data": {
      "application/vnd.jupyter.widget-view+json": {
       "model_id": "76908c5cb50a4a3184ac55dd4ef5feff",
       "version_major": 2,
       "version_minor": 0
      },
      "text/plain": [
       "  0%|          | 0/1 [00:00<?, ?it/s]"
      ]
     },
     "metadata": {},
     "output_type": "display_data"
    },
    {
     "data": {
      "application/vnd.jupyter.widget-view+json": {
       "model_id": "63e5e9285848499eb82174ca08a8a0c8",
       "version_major": 2,
       "version_minor": 0
      },
      "text/plain": [
       "  0%|          | 0/1 [00:00<?, ?it/s]"
      ]
     },
     "metadata": {},
     "output_type": "display_data"
    },
    {
     "data": {
      "application/vnd.jupyter.widget-view+json": {
       "model_id": "0f4d5de4fba24111b766db5c9038d8ec",
       "version_major": 2,
       "version_minor": 0
      },
      "text/plain": [
       "  0%|          | 0/1 [00:00<?, ?it/s]"
      ]
     },
     "metadata": {},
     "output_type": "display_data"
    },
    {
     "data": {
      "application/vnd.jupyter.widget-view+json": {
       "model_id": "569c4168e3624d46aad77e1c161560eb",
       "version_major": 2,
       "version_minor": 0
      },
      "text/plain": [
       "  0%|          | 0/1 [00:00<?, ?it/s]"
      ]
     },
     "metadata": {},
     "output_type": "display_data"
    },
    {
     "data": {
      "application/vnd.jupyter.widget-view+json": {
       "model_id": "27a823b229224f238f62f85cb156f4fe",
       "version_major": 2,
       "version_minor": 0
      },
      "text/plain": [
       "  0%|          | 0/1 [00:00<?, ?it/s]"
      ]
     },
     "metadata": {},
     "output_type": "display_data"
    },
    {
     "data": {
      "application/vnd.jupyter.widget-view+json": {
       "model_id": "1fe1f2b145a54a03a67f768d32af578c",
       "version_major": 2,
       "version_minor": 0
      },
      "text/plain": [
       "  0%|          | 0/1 [00:00<?, ?it/s]"
      ]
     },
     "metadata": {},
     "output_type": "display_data"
    },
    {
     "data": {
      "application/vnd.jupyter.widget-view+json": {
       "model_id": "25175afc17e14ad38b189cf0c4acfb48",
       "version_major": 2,
       "version_minor": 0
      },
      "text/plain": [
       "  0%|          | 0/1 [00:00<?, ?it/s]"
      ]
     },
     "metadata": {},
     "output_type": "display_data"
    },
    {
     "data": {
      "application/vnd.jupyter.widget-view+json": {
       "model_id": "4002249c4d844dd7a4e0b1506f8a34f2",
       "version_major": 2,
       "version_minor": 0
      },
      "text/plain": [
       "  0%|          | 0/1 [00:00<?, ?it/s]"
      ]
     },
     "metadata": {},
     "output_type": "display_data"
    },
    {
     "data": {
      "application/vnd.jupyter.widget-view+json": {
       "model_id": "41920696f7ab41ab9504417496251ea8",
       "version_major": 2,
       "version_minor": 0
      },
      "text/plain": [
       "  0%|          | 0/1 [00:00<?, ?it/s]"
      ]
     },
     "metadata": {},
     "output_type": "display_data"
    },
    {
     "data": {
      "application/vnd.jupyter.widget-view+json": {
       "model_id": "e0fd7058d8fa4c36b878715f7cb9ce0f",
       "version_major": 2,
       "version_minor": 0
      },
      "text/plain": [
       "  0%|          | 0/1 [00:00<?, ?it/s]"
      ]
     },
     "metadata": {},
     "output_type": "display_data"
    },
    {
     "data": {
      "application/vnd.jupyter.widget-view+json": {
       "model_id": "7e52b5f4531744d7943f9b3cc32f015b",
       "version_major": 2,
       "version_minor": 0
      },
      "text/plain": [
       "  0%|          | 0/1 [00:00<?, ?it/s]"
      ]
     },
     "metadata": {},
     "output_type": "display_data"
    },
    {
     "data": {
      "application/vnd.jupyter.widget-view+json": {
       "model_id": "13ed5a01932e4ffc904823f80c4a4719",
       "version_major": 2,
       "version_minor": 0
      },
      "text/plain": [
       "  0%|          | 0/1 [00:00<?, ?it/s]"
      ]
     },
     "metadata": {},
     "output_type": "display_data"
    },
    {
     "data": {
      "application/vnd.jupyter.widget-view+json": {
       "model_id": "76efb5221e824b43a24480e7ba2c378a",
       "version_major": 2,
       "version_minor": 0
      },
      "text/plain": [
       "  0%|          | 0/1 [00:00<?, ?it/s]"
      ]
     },
     "metadata": {},
     "output_type": "display_data"
    },
    {
     "data": {
      "application/vnd.jupyter.widget-view+json": {
       "model_id": "b5850492cc0e48aebfda98792a108198",
       "version_major": 2,
       "version_minor": 0
      },
      "text/plain": [
       "  0%|          | 0/1 [00:00<?, ?it/s]"
      ]
     },
     "metadata": {},
     "output_type": "display_data"
    },
    {
     "data": {
      "application/vnd.jupyter.widget-view+json": {
       "model_id": "68886c8dd72b4a9284fdeb902a5ee081",
       "version_major": 2,
       "version_minor": 0
      },
      "text/plain": [
       "  0%|          | 0/1 [00:00<?, ?it/s]"
      ]
     },
     "metadata": {},
     "output_type": "display_data"
    },
    {
     "data": {
      "application/vnd.jupyter.widget-view+json": {
       "model_id": "a7070f69ba084687a671a40756319024",
       "version_major": 2,
       "version_minor": 0
      },
      "text/plain": [
       "  0%|          | 0/1 [00:00<?, ?it/s]"
      ]
     },
     "metadata": {},
     "output_type": "display_data"
    },
    {
     "data": {
      "application/vnd.jupyter.widget-view+json": {
       "model_id": "9f3ce4235df64de39bb9b5418d3c58cd",
       "version_major": 2,
       "version_minor": 0
      },
      "text/plain": [
       "  0%|          | 0/1 [00:00<?, ?it/s]"
      ]
     },
     "metadata": {},
     "output_type": "display_data"
    },
    {
     "data": {
      "application/vnd.jupyter.widget-view+json": {
       "model_id": "3ca85a61d0f14f7db82b7881ae20bc2f",
       "version_major": 2,
       "version_minor": 0
      },
      "text/plain": [
       "  0%|          | 0/1 [00:00<?, ?it/s]"
      ]
     },
     "metadata": {},
     "output_type": "display_data"
    },
    {
     "data": {
      "application/vnd.jupyter.widget-view+json": {
       "model_id": "ee4f7091c8a640b29d542adcedf7f0a7",
       "version_major": 2,
       "version_minor": 0
      },
      "text/plain": [
       "  0%|          | 0/1 [00:00<?, ?it/s]"
      ]
     },
     "metadata": {},
     "output_type": "display_data"
    },
    {
     "data": {
      "application/vnd.jupyter.widget-view+json": {
       "model_id": "8713226d29ba4163befb07b3dadfc363",
       "version_major": 2,
       "version_minor": 0
      },
      "text/plain": [
       "  0%|          | 0/1 [00:00<?, ?it/s]"
      ]
     },
     "metadata": {},
     "output_type": "display_data"
    },
    {
     "data": {
      "application/vnd.jupyter.widget-view+json": {
       "model_id": "10b995fb1e8f4076a13fdae88079b82f",
       "version_major": 2,
       "version_minor": 0
      },
      "text/plain": [
       "  0%|          | 0/1 [00:00<?, ?it/s]"
      ]
     },
     "metadata": {},
     "output_type": "display_data"
    },
    {
     "data": {
      "application/vnd.jupyter.widget-view+json": {
       "model_id": "e18456b466d2498bb256afe308949bb5",
       "version_major": 2,
       "version_minor": 0
      },
      "text/plain": [
       "  0%|          | 0/1 [00:00<?, ?it/s]"
      ]
     },
     "metadata": {},
     "output_type": "display_data"
    },
    {
     "data": {
      "application/vnd.jupyter.widget-view+json": {
       "model_id": "bba099d4b524444489098e1478bd3482",
       "version_major": 2,
       "version_minor": 0
      },
      "text/plain": [
       "  0%|          | 0/1 [00:00<?, ?it/s]"
      ]
     },
     "metadata": {},
     "output_type": "display_data"
    },
    {
     "data": {
      "application/vnd.jupyter.widget-view+json": {
       "model_id": "51c468bc3483457799f4b0c4346a9e07",
       "version_major": 2,
       "version_minor": 0
      },
      "text/plain": [
       "  0%|          | 0/1 [00:00<?, ?it/s]"
      ]
     },
     "metadata": {},
     "output_type": "display_data"
    },
    {
     "data": {
      "application/vnd.jupyter.widget-view+json": {
       "model_id": "4779dc64a4f64eb2b94c339520bcfdbe",
       "version_major": 2,
       "version_minor": 0
      },
      "text/plain": [
       "  0%|          | 0/1 [00:00<?, ?it/s]"
      ]
     },
     "metadata": {},
     "output_type": "display_data"
    },
    {
     "data": {
      "application/vnd.jupyter.widget-view+json": {
       "model_id": "6fa3c83a68764d0b9afc801d391f6c0b",
       "version_major": 2,
       "version_minor": 0
      },
      "text/plain": [
       "  0%|          | 0/1 [00:00<?, ?it/s]"
      ]
     },
     "metadata": {},
     "output_type": "display_data"
    },
    {
     "data": {
      "application/vnd.jupyter.widget-view+json": {
       "model_id": "ada3236c006e4ee39ea34cac9dd99de1",
       "version_major": 2,
       "version_minor": 0
      },
      "text/plain": [
       "  0%|          | 0/1 [00:00<?, ?it/s]"
      ]
     },
     "metadata": {},
     "output_type": "display_data"
    },
    {
     "data": {
      "application/vnd.jupyter.widget-view+json": {
       "model_id": "91fbcaa5297f4c2f9a77a169d3f1fae7",
       "version_major": 2,
       "version_minor": 0
      },
      "text/plain": [
       "  0%|          | 0/1 [00:00<?, ?it/s]"
      ]
     },
     "metadata": {},
     "output_type": "display_data"
    },
    {
     "data": {
      "application/vnd.jupyter.widget-view+json": {
       "model_id": "25ad4aeb3c4b472dafd912f991dda1c0",
       "version_major": 2,
       "version_minor": 0
      },
      "text/plain": [
       "  0%|          | 0/1 [00:00<?, ?it/s]"
      ]
     },
     "metadata": {},
     "output_type": "display_data"
    },
    {
     "data": {
      "application/vnd.jupyter.widget-view+json": {
       "model_id": "96545d7e980e490e8f754530adc211f5",
       "version_major": 2,
       "version_minor": 0
      },
      "text/plain": [
       "  0%|          | 0/1 [00:00<?, ?it/s]"
      ]
     },
     "metadata": {},
     "output_type": "display_data"
    }
   ],
   "source": [
    "print(len(gn_link_code_ls))\n",
    "count = 0\n",
    "for symbol_url, name in gn_link_code_ls:\n",
    "    try:\n",
    "        r = requests.get(symbol_url, headers=headers)\n",
    "        soup_today = BeautifulSoup(r.text, features=\"lxml\")\n",
    "        symbol_code = soup_today.find(name=\"div\", attrs={\"class\": \"board-hq\"}).find(\"span\").text\n",
    "        big_df = pd.DataFrame()\n",
    "        temp_start_year = start_year\n",
    "        if os.path.exists(f\"./data/{symbol_code}.csv\"):\n",
    "            big_df = pd.read_csv(f\"./data/{symbol_code}.csv\",  encoding=\"utf-8\")\n",
    "            if not big_df.empty:\n",
    "                big_df.iloc[:, 0] = pd.to_datetime(big_df.iloc[:, 0], errors=\"coerce\").dt.date\n",
    "                if big_df.iloc[-1, 0] >= recent_trade_date:\n",
    "                    bk_data_ls.append((name, symbol_code, big_df))\n",
    "                    code_ls.append(symbol_code)\n",
    "                    continue\n",
    "                elif big_df.iloc[-1, 0].year >= int(temp_start_year):\n",
    "                    temp_start_year = str(big_df.iloc[-1, 0].year)\n",
    "                    year_mask = big_df.iloc[:,0].apply(lambda x: x.year)  ==  int(temp_start_year) \n",
    "                    if year_mask.any():\n",
    "                        first_index = year_mask.idxmax()\n",
    "                    else:\n",
    "                        first_index = None\n",
    "                    if first_index is not None:\n",
    "                        big_df = big_df.iloc[:first_index]\n",
    "                elif (big_df.iloc[-1, 0] == lastday):\n",
    "                    dd_texts = [dd.text for dd in soup_today.find_all(\"dd\")] \n",
    "                    close = soup_today.select_one('span.board-xj.arr-rise,  span.board-xj.arr-fall').text\n",
    "                    open, low, high, volume, amount = dd_texts[0], dd_texts[2], dd_texts[3], dd_texts[4], dd_texts[9]\n",
    "                    new_list = [\n",
    "                        recent_trade_date,\n",
    "                        float(open),\n",
    "                        float(high),\n",
    "                        float(low),\n",
    "                        float(close),\n",
    "                        float(volume.replace(\",\", \"\")),\n",
    "                        float(amount.replace(\",\", \"\")),\n",
    "                    ]\n",
    "                    new_row = pd.DataFrame([new_list], columns=big_df.columns) \n",
    "                    big_df = pd.concat([big_df,  new_row], ignore_index=True)\n",
    "                    bk_data_ls.append((name, symbol_code, big_df))\n",
    "                    code_ls.append(symbol_code)\n",
    "                    big_df.to_csv(f\"./data/{symbol_code}.csv\", index=False, encoding='utf-8-sig')\n",
    "                    continue\n",
    "        \n",
    "        headers_d = {\n",
    "            \"User-Agent\": \"Mozilla/5.0 (Windows NT 10.0; Win64; x64) AppleWebKit/537.36 (KHTML, like Gecko) \"\n",
    "            \"Chrome/89.0.4389.90 Safari/537.36\",\n",
    "            \"Referer\": symbol_url,\n",
    "            \"Host\": \"d.10jqka.com.cn\"\n",
    "        }\n",
    "        time.sleep(1)\n",
    "        for year in tqdm(range(int(temp_start_year), current_year + 1), leave=False):\n",
    "            url = f\"http://d.10jqka.com.cn/v4/line/bk_{symbol_code}/01/{year}.js\"\n",
    "            r = requests.get(url, headers=headers_d)\n",
    "            data_text = r.text\n",
    "            if r.status_code != 200:\n",
    "                print(\"not 200!\", r.status_code, symbol_url, url)\n",
    "                continue\n",
    "            try:\n",
    "                temp_df = demjson.decode(data_text[data_text.find(\"{\") : -1])\n",
    "                temp_df = pd.DataFrame(temp_df[\"data\"].split(\";\"))\n",
    "                temp_df = temp_df.iloc[:, 0].str.split(\",\", expand=True).iloc[:,  :7]\n",
    "                temp_df.columns  = [\"date\", \"open\", \"high\", \"low\", \"close\", \"volume\", \"amount\"]\n",
    "                big_df = pd.concat(objs=[big_df, temp_df], ignore_index=True)\n",
    "            except Exception as e:  # noqa: E722\n",
    "                print(e, \"decode fail:\",count,\"  \", url, \"text as:\", data_text)\n",
    "                break\n",
    "        big_df.columns  = [\"date\", \"open\", \"high\", \"low\", \"close\", \"volume\", \"amount\"]\n",
    "        big_df[\"date\"] = pd.to_datetime(big_df[\"date\"], errors=\"coerce\").dt.date\n",
    "        big_df[\"open\"] = pd.to_numeric(big_df[\"open\"], errors=\"coerce\")\n",
    "        big_df[\"high\"] = pd.to_numeric(big_df[\"high\"], errors=\"coerce\")\n",
    "        big_df[\"low\"] = pd.to_numeric(big_df[\"low\"], errors=\"coerce\")\n",
    "        big_df[\"close\"] = pd.to_numeric(big_df[\"close\"], errors=\"coerce\")\n",
    "        big_df[\"volume\"] = pd.to_numeric(big_df[\"volume\"], errors=\"coerce\")\n",
    "        big_df[\"amount\"] = pd.to_numeric(big_df[\"amount\"], errors=\"coerce\")\n",
    "        \n",
    "        if big_df.iloc[-1].isna().any(): \n",
    "            big_df = big_df.iloc[:-1]\n",
    "\n",
    "        if big_df[\"date\"].iloc[-1] == lastday:\n",
    "            dd_texts = [dd.text for dd in soup_today.find_all(\"dd\")] \n",
    "            close = soup_today.select_one('span.board-xj.arr-rise,  span.board-xj.arr-fall').text\n",
    "            open, low, high, volume, amount = dd_texts[0], dd_texts[2], dd_texts[3], dd_texts[4], dd_texts[9]\n",
    "            new_list = [\n",
    "                recent_trade_date,\n",
    "                float(open),\n",
    "                float(high),\n",
    "                float(low),\n",
    "                float(close),\n",
    "                float(volume.replace(\",\", \"\")),\n",
    "                float(amount.replace(\",\", \"\")),\n",
    "            ]\n",
    "            new_row = pd.DataFrame([new_list], columns=big_df.columns) \n",
    "            big_df = pd.concat([big_df,  new_row], ignore_index=True)\n",
    "        bk_data_ls.append((name, symbol_code, big_df))\n",
    "        code_ls.append(symbol_code)\n",
    "        big_df.to_csv(f\"./data/{symbol_code}.csv\", index=False, encoding='utf-8-sig')\n",
    "        count+=1\n",
    "    except Exception as e:\n",
    "        print(e, \" wrong data:\",count,\"  \", f\"https://d.10jqka.com.cn/v4/line/bk_{symbol_code}/01/{year}.js\", symbol_url, big_df.tail())\n",
    "        break\n"
   ]
  },
  {
   "cell_type": "code",
   "execution_count": 20,
   "id": "fe3a45fd",
   "metadata": {},
   "outputs": [],
   "source": [
    "# # http://q.10jqka.com.cn/thshy/detail/code/881138/\n",
    "# headers = {\n",
    "#         \"User-Agent\": \"Mozilla/5.0 (Windows NT 10.0; Win64; x64) AppleWebKit/537.36 (KHTML, like Gecko) \"\n",
    "#         \"Chrome/89.0.4389.90 Safari/537.36\",\n",
    "#         # \"Cookie\": f\"v={v_code}\",\n",
    "#     }\n",
    "# headers_bk = {\n",
    "#             \"User-Agent\": \"Mozilla/5.0 (Windows NT 10.0; Win64; x64) AppleWebKit/537.36 (KHTML, like Gecko) \"\n",
    "#             \"Chrome/89.0.4389.90 Safari/537.36\",\n",
    "#             \"Referer\": \"https://q.10jqka.com.cn\",\n",
    "#             \"Host\": \"d.10jqka.com.cn\",\n",
    "#             # \"Cookie\": f\"v={v_code}\",\n",
    "#         }\n",
    "# url =  \"https://d.10jqka.com.cn/v4/line/bk_886056/01/2025.js\"\n",
    "# print(url)\n",
    "# r = requests.get(url, headers=headers)\n",
    "# print(r.status_code)\n",
    "# symbol_url = \"https://q.10jqka.com.cn/gn/detail/code/308614/\"\n",
    "# print(symbol_url)\n",
    "# r = requests.get(symbol_url, headers=headers)\n",
    "# print(r.status_code)\n",
    "# for name, symbol_code, big_df in bk_data_ls:\n",
    "#     print(symbol_code, big_df.shape)"
   ]
  },
  {
   "cell_type": "code",
   "execution_count": 21,
   "id": "948c7835",
   "metadata": {},
   "outputs": [
    {
     "name": "stdout",
     "output_type": "stream",
     "text": [
      "90\n"
     ]
    },
    {
     "data": {
      "application/vnd.jupyter.widget-view+json": {
       "model_id": "65884a4b50544e3ba8813ca59d0ed7b2",
       "version_major": 2,
       "version_minor": 0
      },
      "text/plain": [
       "  0%|          | 0/1 [00:00<?, ?it/s]"
      ]
     },
     "metadata": {},
     "output_type": "display_data"
    },
    {
     "data": {
      "application/vnd.jupyter.widget-view+json": {
       "model_id": "f1b055f00e254ad3b2af24b3ccb4773e",
       "version_major": 2,
       "version_minor": 0
      },
      "text/plain": [
       "  0%|          | 0/1 [00:00<?, ?it/s]"
      ]
     },
     "metadata": {},
     "output_type": "display_data"
    },
    {
     "data": {
      "application/vnd.jupyter.widget-view+json": {
       "model_id": "95d8af20d35b4c25a3081f007db94743",
       "version_major": 2,
       "version_minor": 0
      },
      "text/plain": [
       "  0%|          | 0/1 [00:00<?, ?it/s]"
      ]
     },
     "metadata": {},
     "output_type": "display_data"
    },
    {
     "data": {
      "application/vnd.jupyter.widget-view+json": {
       "model_id": "d5b40f37aed144369350a4dea2bd6f83",
       "version_major": 2,
       "version_minor": 0
      },
      "text/plain": [
       "  0%|          | 0/1 [00:00<?, ?it/s]"
      ]
     },
     "metadata": {},
     "output_type": "display_data"
    },
    {
     "data": {
      "application/vnd.jupyter.widget-view+json": {
       "model_id": "50f3cdf061a1483eb049f491d6e46096",
       "version_major": 2,
       "version_minor": 0
      },
      "text/plain": [
       "  0%|          | 0/1 [00:00<?, ?it/s]"
      ]
     },
     "metadata": {},
     "output_type": "display_data"
    },
    {
     "data": {
      "application/vnd.jupyter.widget-view+json": {
       "model_id": "f9f84dd98e644f4fb28413f7869df9d3",
       "version_major": 2,
       "version_minor": 0
      },
      "text/plain": [
       "  0%|          | 0/1 [00:00<?, ?it/s]"
      ]
     },
     "metadata": {},
     "output_type": "display_data"
    },
    {
     "data": {
      "application/vnd.jupyter.widget-view+json": {
       "model_id": "18337fa15ce541d78cfb7e966a2fb626",
       "version_major": 2,
       "version_minor": 0
      },
      "text/plain": [
       "  0%|          | 0/1 [00:00<?, ?it/s]"
      ]
     },
     "metadata": {},
     "output_type": "display_data"
    },
    {
     "data": {
      "application/vnd.jupyter.widget-view+json": {
       "model_id": "1b054121362040728ded0788d1ebfaef",
       "version_major": 2,
       "version_minor": 0
      },
      "text/plain": [
       "  0%|          | 0/1 [00:00<?, ?it/s]"
      ]
     },
     "metadata": {},
     "output_type": "display_data"
    },
    {
     "data": {
      "application/vnd.jupyter.widget-view+json": {
       "model_id": "d552f066ab9c4829ac8e3044f365b526",
       "version_major": 2,
       "version_minor": 0
      },
      "text/plain": [
       "  0%|          | 0/1 [00:00<?, ?it/s]"
      ]
     },
     "metadata": {},
     "output_type": "display_data"
    },
    {
     "data": {
      "application/vnd.jupyter.widget-view+json": {
       "model_id": "c7ce9be9490147e79531719a56256cd7",
       "version_major": 2,
       "version_minor": 0
      },
      "text/plain": [
       "  0%|          | 0/1 [00:00<?, ?it/s]"
      ]
     },
     "metadata": {},
     "output_type": "display_data"
    },
    {
     "data": {
      "application/vnd.jupyter.widget-view+json": {
       "model_id": "8d4e7378f74847cf970b6ebe750646f9",
       "version_major": 2,
       "version_minor": 0
      },
      "text/plain": [
       "  0%|          | 0/1 [00:00<?, ?it/s]"
      ]
     },
     "metadata": {},
     "output_type": "display_data"
    },
    {
     "data": {
      "application/vnd.jupyter.widget-view+json": {
       "model_id": "68b3cf9cd11f4486baabc7fabe48db8d",
       "version_major": 2,
       "version_minor": 0
      },
      "text/plain": [
       "  0%|          | 0/1 [00:00<?, ?it/s]"
      ]
     },
     "metadata": {},
     "output_type": "display_data"
    },
    {
     "data": {
      "application/vnd.jupyter.widget-view+json": {
       "model_id": "066f1611b08c4969b7a757fc7c28a9ae",
       "version_major": 2,
       "version_minor": 0
      },
      "text/plain": [
       "  0%|          | 0/1 [00:00<?, ?it/s]"
      ]
     },
     "metadata": {},
     "output_type": "display_data"
    },
    {
     "data": {
      "application/vnd.jupyter.widget-view+json": {
       "model_id": "b2932d43397f456fa1b6e4aad17a7075",
       "version_major": 2,
       "version_minor": 0
      },
      "text/plain": [
       "  0%|          | 0/1 [00:00<?, ?it/s]"
      ]
     },
     "metadata": {},
     "output_type": "display_data"
    },
    {
     "data": {
      "application/vnd.jupyter.widget-view+json": {
       "model_id": "c5380172738e4a939cc64d8923639fbf",
       "version_major": 2,
       "version_minor": 0
      },
      "text/plain": [
       "  0%|          | 0/1 [00:00<?, ?it/s]"
      ]
     },
     "metadata": {},
     "output_type": "display_data"
    },
    {
     "data": {
      "application/vnd.jupyter.widget-view+json": {
       "model_id": "9426b24a12f44533915cf42121986675",
       "version_major": 2,
       "version_minor": 0
      },
      "text/plain": [
       "  0%|          | 0/1 [00:00<?, ?it/s]"
      ]
     },
     "metadata": {},
     "output_type": "display_data"
    },
    {
     "data": {
      "application/vnd.jupyter.widget-view+json": {
       "model_id": "7e99859f296d450e8f116b4ad52ab496",
       "version_major": 2,
       "version_minor": 0
      },
      "text/plain": [
       "  0%|          | 0/1 [00:00<?, ?it/s]"
      ]
     },
     "metadata": {},
     "output_type": "display_data"
    },
    {
     "data": {
      "application/vnd.jupyter.widget-view+json": {
       "model_id": "d9c729b3535f451594806dd3a66aa772",
       "version_major": 2,
       "version_minor": 0
      },
      "text/plain": [
       "  0%|          | 0/1 [00:00<?, ?it/s]"
      ]
     },
     "metadata": {},
     "output_type": "display_data"
    },
    {
     "data": {
      "application/vnd.jupyter.widget-view+json": {
       "model_id": "99b3d5c3a6064d7f8dce3c076add5fbd",
       "version_major": 2,
       "version_minor": 0
      },
      "text/plain": [
       "  0%|          | 0/1 [00:00<?, ?it/s]"
      ]
     },
     "metadata": {},
     "output_type": "display_data"
    },
    {
     "data": {
      "application/vnd.jupyter.widget-view+json": {
       "model_id": "5e0016ac62af4967a29153feda1c7eab",
       "version_major": 2,
       "version_minor": 0
      },
      "text/plain": [
       "  0%|          | 0/1 [00:00<?, ?it/s]"
      ]
     },
     "metadata": {},
     "output_type": "display_data"
    },
    {
     "data": {
      "application/vnd.jupyter.widget-view+json": {
       "model_id": "ef5877f9d97a48f7ad634f81034e52bd",
       "version_major": 2,
       "version_minor": 0
      },
      "text/plain": [
       "  0%|          | 0/1 [00:00<?, ?it/s]"
      ]
     },
     "metadata": {},
     "output_type": "display_data"
    },
    {
     "data": {
      "application/vnd.jupyter.widget-view+json": {
       "model_id": "a62ba9084a5c477482d4c8b26dfe1d46",
       "version_major": 2,
       "version_minor": 0
      },
      "text/plain": [
       "  0%|          | 0/1 [00:00<?, ?it/s]"
      ]
     },
     "metadata": {},
     "output_type": "display_data"
    },
    {
     "data": {
      "application/vnd.jupyter.widget-view+json": {
       "model_id": "ce02f086de7d443c82687a1f6ba260ca",
       "version_major": 2,
       "version_minor": 0
      },
      "text/plain": [
       "  0%|          | 0/1 [00:00<?, ?it/s]"
      ]
     },
     "metadata": {},
     "output_type": "display_data"
    },
    {
     "data": {
      "application/vnd.jupyter.widget-view+json": {
       "model_id": "2ba1b5f6db3d4d82afaac79d7b258774",
       "version_major": 2,
       "version_minor": 0
      },
      "text/plain": [
       "  0%|          | 0/1 [00:00<?, ?it/s]"
      ]
     },
     "metadata": {},
     "output_type": "display_data"
    },
    {
     "data": {
      "application/vnd.jupyter.widget-view+json": {
       "model_id": "73bd6005340640b5bb96afb88eacb7c6",
       "version_major": 2,
       "version_minor": 0
      },
      "text/plain": [
       "  0%|          | 0/1 [00:00<?, ?it/s]"
      ]
     },
     "metadata": {},
     "output_type": "display_data"
    },
    {
     "data": {
      "application/vnd.jupyter.widget-view+json": {
       "model_id": "1582fc6e217c42bc968e608c14736b94",
       "version_major": 2,
       "version_minor": 0
      },
      "text/plain": [
       "  0%|          | 0/1 [00:00<?, ?it/s]"
      ]
     },
     "metadata": {},
     "output_type": "display_data"
    },
    {
     "data": {
      "application/vnd.jupyter.widget-view+json": {
       "model_id": "532fe26732e5456a973825dad9049575",
       "version_major": 2,
       "version_minor": 0
      },
      "text/plain": [
       "  0%|          | 0/1 [00:00<?, ?it/s]"
      ]
     },
     "metadata": {},
     "output_type": "display_data"
    },
    {
     "data": {
      "application/vnd.jupyter.widget-view+json": {
       "model_id": "04eb61c18b10419589b453ff7b89953a",
       "version_major": 2,
       "version_minor": 0
      },
      "text/plain": [
       "  0%|          | 0/1 [00:00<?, ?it/s]"
      ]
     },
     "metadata": {},
     "output_type": "display_data"
    },
    {
     "data": {
      "application/vnd.jupyter.widget-view+json": {
       "model_id": "79f67ae6bc7f4b8bbd37e4d4014bc7d8",
       "version_major": 2,
       "version_minor": 0
      },
      "text/plain": [
       "  0%|          | 0/1 [00:00<?, ?it/s]"
      ]
     },
     "metadata": {},
     "output_type": "display_data"
    },
    {
     "data": {
      "application/vnd.jupyter.widget-view+json": {
       "model_id": "f113adb3c4c04f04be182ae156b59ffa",
       "version_major": 2,
       "version_minor": 0
      },
      "text/plain": [
       "  0%|          | 0/1 [00:00<?, ?it/s]"
      ]
     },
     "metadata": {},
     "output_type": "display_data"
    },
    {
     "data": {
      "application/vnd.jupyter.widget-view+json": {
       "model_id": "b9d9dac06aba4c879929da60ee179e7f",
       "version_major": 2,
       "version_minor": 0
      },
      "text/plain": [
       "  0%|          | 0/1 [00:00<?, ?it/s]"
      ]
     },
     "metadata": {},
     "output_type": "display_data"
    },
    {
     "data": {
      "application/vnd.jupyter.widget-view+json": {
       "model_id": "df93125a9a724a8cac67d187c35d29d8",
       "version_major": 2,
       "version_minor": 0
      },
      "text/plain": [
       "  0%|          | 0/1 [00:00<?, ?it/s]"
      ]
     },
     "metadata": {},
     "output_type": "display_data"
    },
    {
     "data": {
      "application/vnd.jupyter.widget-view+json": {
       "model_id": "eee790a8b1f14e998a72f0ac5a464e2e",
       "version_major": 2,
       "version_minor": 0
      },
      "text/plain": [
       "  0%|          | 0/1 [00:00<?, ?it/s]"
      ]
     },
     "metadata": {},
     "output_type": "display_data"
    },
    {
     "data": {
      "application/vnd.jupyter.widget-view+json": {
       "model_id": "9d0aad9c996a4880aa9641bf6cedac99",
       "version_major": 2,
       "version_minor": 0
      },
      "text/plain": [
       "  0%|          | 0/1 [00:00<?, ?it/s]"
      ]
     },
     "metadata": {},
     "output_type": "display_data"
    },
    {
     "data": {
      "application/vnd.jupyter.widget-view+json": {
       "model_id": "6438157ce66445b5a0dfc6353d53af67",
       "version_major": 2,
       "version_minor": 0
      },
      "text/plain": [
       "  0%|          | 0/1 [00:00<?, ?it/s]"
      ]
     },
     "metadata": {},
     "output_type": "display_data"
    },
    {
     "data": {
      "application/vnd.jupyter.widget-view+json": {
       "model_id": "ea8c131b45bc438885d734f34a050e94",
       "version_major": 2,
       "version_minor": 0
      },
      "text/plain": [
       "  0%|          | 0/1 [00:00<?, ?it/s]"
      ]
     },
     "metadata": {},
     "output_type": "display_data"
    },
    {
     "data": {
      "application/vnd.jupyter.widget-view+json": {
       "model_id": "be3e204265ce4d2da754424fe1fcdcb7",
       "version_major": 2,
       "version_minor": 0
      },
      "text/plain": [
       "  0%|          | 0/1 [00:00<?, ?it/s]"
      ]
     },
     "metadata": {},
     "output_type": "display_data"
    },
    {
     "data": {
      "application/vnd.jupyter.widget-view+json": {
       "model_id": "7edfc628c29e425196b95084fd6bf428",
       "version_major": 2,
       "version_minor": 0
      },
      "text/plain": [
       "  0%|          | 0/1 [00:00<?, ?it/s]"
      ]
     },
     "metadata": {},
     "output_type": "display_data"
    },
    {
     "data": {
      "application/vnd.jupyter.widget-view+json": {
       "model_id": "18829e8ee70e48ee8a7b3ee192d07299",
       "version_major": 2,
       "version_minor": 0
      },
      "text/plain": [
       "  0%|          | 0/1 [00:00<?, ?it/s]"
      ]
     },
     "metadata": {},
     "output_type": "display_data"
    },
    {
     "data": {
      "application/vnd.jupyter.widget-view+json": {
       "model_id": "b2262601e6854837a386966bca713ebd",
       "version_major": 2,
       "version_minor": 0
      },
      "text/plain": [
       "  0%|          | 0/1 [00:00<?, ?it/s]"
      ]
     },
     "metadata": {},
     "output_type": "display_data"
    },
    {
     "data": {
      "application/vnd.jupyter.widget-view+json": {
       "model_id": "16472fac16ac46509cbe55c3d8b846d3",
       "version_major": 2,
       "version_minor": 0
      },
      "text/plain": [
       "  0%|          | 0/1 [00:00<?, ?it/s]"
      ]
     },
     "metadata": {},
     "output_type": "display_data"
    },
    {
     "data": {
      "application/vnd.jupyter.widget-view+json": {
       "model_id": "a2afd5bdd54d4672a75a59b9f7b912bf",
       "version_major": 2,
       "version_minor": 0
      },
      "text/plain": [
       "  0%|          | 0/1 [00:00<?, ?it/s]"
      ]
     },
     "metadata": {},
     "output_type": "display_data"
    },
    {
     "data": {
      "application/vnd.jupyter.widget-view+json": {
       "model_id": "35859196c03143f6ab41f74a032961ca",
       "version_major": 2,
       "version_minor": 0
      },
      "text/plain": [
       "  0%|          | 0/1 [00:00<?, ?it/s]"
      ]
     },
     "metadata": {},
     "output_type": "display_data"
    },
    {
     "data": {
      "application/vnd.jupyter.widget-view+json": {
       "model_id": "8329662332fa4b6aa8c585d34610047c",
       "version_major": 2,
       "version_minor": 0
      },
      "text/plain": [
       "  0%|          | 0/1 [00:00<?, ?it/s]"
      ]
     },
     "metadata": {},
     "output_type": "display_data"
    },
    {
     "data": {
      "application/vnd.jupyter.widget-view+json": {
       "model_id": "6429640a295a4c398bcc8cca9e263175",
       "version_major": 2,
       "version_minor": 0
      },
      "text/plain": [
       "  0%|          | 0/1 [00:00<?, ?it/s]"
      ]
     },
     "metadata": {},
     "output_type": "display_data"
    },
    {
     "data": {
      "application/vnd.jupyter.widget-view+json": {
       "model_id": "69d8b37b3c9e4189858bf09de6c99dae",
       "version_major": 2,
       "version_minor": 0
      },
      "text/plain": [
       "  0%|          | 0/1 [00:00<?, ?it/s]"
      ]
     },
     "metadata": {},
     "output_type": "display_data"
    },
    {
     "data": {
      "application/vnd.jupyter.widget-view+json": {
       "model_id": "3d8ec306458f41f1801c072c489e8bf1",
       "version_major": 2,
       "version_minor": 0
      },
      "text/plain": [
       "  0%|          | 0/1 [00:00<?, ?it/s]"
      ]
     },
     "metadata": {},
     "output_type": "display_data"
    },
    {
     "data": {
      "application/vnd.jupyter.widget-view+json": {
       "model_id": "8fed2be6704c423aa4bda651228e3ee0",
       "version_major": 2,
       "version_minor": 0
      },
      "text/plain": [
       "  0%|          | 0/1 [00:00<?, ?it/s]"
      ]
     },
     "metadata": {},
     "output_type": "display_data"
    },
    {
     "data": {
      "application/vnd.jupyter.widget-view+json": {
       "model_id": "5701930247da4a958235720caa573bba",
       "version_major": 2,
       "version_minor": 0
      },
      "text/plain": [
       "  0%|          | 0/1 [00:00<?, ?it/s]"
      ]
     },
     "metadata": {},
     "output_type": "display_data"
    },
    {
     "data": {
      "application/vnd.jupyter.widget-view+json": {
       "model_id": "551dc6b6686045c9931ccfc5e96e5852",
       "version_major": 2,
       "version_minor": 0
      },
      "text/plain": [
       "  0%|          | 0/1 [00:00<?, ?it/s]"
      ]
     },
     "metadata": {},
     "output_type": "display_data"
    },
    {
     "data": {
      "application/vnd.jupyter.widget-view+json": {
       "model_id": "f5e42fd81d754586820d865b723c39d5",
       "version_major": 2,
       "version_minor": 0
      },
      "text/plain": [
       "  0%|          | 0/1 [00:00<?, ?it/s]"
      ]
     },
     "metadata": {},
     "output_type": "display_data"
    },
    {
     "data": {
      "application/vnd.jupyter.widget-view+json": {
       "model_id": "32fc8fc7b287401e8d840717315eb0ad",
       "version_major": 2,
       "version_minor": 0
      },
      "text/plain": [
       "  0%|          | 0/1 [00:00<?, ?it/s]"
      ]
     },
     "metadata": {},
     "output_type": "display_data"
    },
    {
     "data": {
      "application/vnd.jupyter.widget-view+json": {
       "model_id": "80f6ce921cea4088a4cf4723d9d5cd45",
       "version_major": 2,
       "version_minor": 0
      },
      "text/plain": [
       "  0%|          | 0/1 [00:00<?, ?it/s]"
      ]
     },
     "metadata": {},
     "output_type": "display_data"
    },
    {
     "data": {
      "application/vnd.jupyter.widget-view+json": {
       "model_id": "a54f576e17584a9b976e81192f36aec8",
       "version_major": 2,
       "version_minor": 0
      },
      "text/plain": [
       "  0%|          | 0/1 [00:00<?, ?it/s]"
      ]
     },
     "metadata": {},
     "output_type": "display_data"
    },
    {
     "data": {
      "application/vnd.jupyter.widget-view+json": {
       "model_id": "81c8f54287954766bba4e11c43900090",
       "version_major": 2,
       "version_minor": 0
      },
      "text/plain": [
       "  0%|          | 0/1 [00:00<?, ?it/s]"
      ]
     },
     "metadata": {},
     "output_type": "display_data"
    },
    {
     "data": {
      "application/vnd.jupyter.widget-view+json": {
       "model_id": "9ee6518451474ccb82cd20cd1df34dd7",
       "version_major": 2,
       "version_minor": 0
      },
      "text/plain": [
       "  0%|          | 0/1 [00:00<?, ?it/s]"
      ]
     },
     "metadata": {},
     "output_type": "display_data"
    },
    {
     "data": {
      "application/vnd.jupyter.widget-view+json": {
       "model_id": "03c318c541324fe3b0dd63796f60ef3a",
       "version_major": 2,
       "version_minor": 0
      },
      "text/plain": [
       "  0%|          | 0/1 [00:00<?, ?it/s]"
      ]
     },
     "metadata": {},
     "output_type": "display_data"
    },
    {
     "data": {
      "application/vnd.jupyter.widget-view+json": {
       "model_id": "030aaa413a2c4143b33f10194b3780ca",
       "version_major": 2,
       "version_minor": 0
      },
      "text/plain": [
       "  0%|          | 0/1 [00:00<?, ?it/s]"
      ]
     },
     "metadata": {},
     "output_type": "display_data"
    },
    {
     "data": {
      "application/vnd.jupyter.widget-view+json": {
       "model_id": "0ae726769f184891910ef2636cec4dfd",
       "version_major": 2,
       "version_minor": 0
      },
      "text/plain": [
       "  0%|          | 0/1 [00:00<?, ?it/s]"
      ]
     },
     "metadata": {},
     "output_type": "display_data"
    },
    {
     "data": {
      "application/vnd.jupyter.widget-view+json": {
       "model_id": "77ecebf1562d4a898770e90ca9d32765",
       "version_major": 2,
       "version_minor": 0
      },
      "text/plain": [
       "  0%|          | 0/1 [00:00<?, ?it/s]"
      ]
     },
     "metadata": {},
     "output_type": "display_data"
    },
    {
     "data": {
      "application/vnd.jupyter.widget-view+json": {
       "model_id": "a3790a887be44fd1890de111bb90b6f7",
       "version_major": 2,
       "version_minor": 0
      },
      "text/plain": [
       "  0%|          | 0/1 [00:00<?, ?it/s]"
      ]
     },
     "metadata": {},
     "output_type": "display_data"
    },
    {
     "data": {
      "application/vnd.jupyter.widget-view+json": {
       "model_id": "0dd6be97a8694afda5cec01c081f017f",
       "version_major": 2,
       "version_minor": 0
      },
      "text/plain": [
       "  0%|          | 0/1 [00:00<?, ?it/s]"
      ]
     },
     "metadata": {},
     "output_type": "display_data"
    },
    {
     "data": {
      "application/vnd.jupyter.widget-view+json": {
       "model_id": "5f5274f0e7c946cabb32a9a923184575",
       "version_major": 2,
       "version_minor": 0
      },
      "text/plain": [
       "  0%|          | 0/1 [00:00<?, ?it/s]"
      ]
     },
     "metadata": {},
     "output_type": "display_data"
    },
    {
     "data": {
      "application/vnd.jupyter.widget-view+json": {
       "model_id": "cbca96ff332340f29fefd3e44d55c9f6",
       "version_major": 2,
       "version_minor": 0
      },
      "text/plain": [
       "  0%|          | 0/1 [00:00<?, ?it/s]"
      ]
     },
     "metadata": {},
     "output_type": "display_data"
    },
    {
     "data": {
      "application/vnd.jupyter.widget-view+json": {
       "model_id": "933abcd599f24f6aa2e0b9d4b645c30b",
       "version_major": 2,
       "version_minor": 0
      },
      "text/plain": [
       "  0%|          | 0/1 [00:00<?, ?it/s]"
      ]
     },
     "metadata": {},
     "output_type": "display_data"
    },
    {
     "data": {
      "application/vnd.jupyter.widget-view+json": {
       "model_id": "5a5997b3295645b186bb9854a83e04ff",
       "version_major": 2,
       "version_minor": 0
      },
      "text/plain": [
       "  0%|          | 0/1 [00:00<?, ?it/s]"
      ]
     },
     "metadata": {},
     "output_type": "display_data"
    },
    {
     "data": {
      "application/vnd.jupyter.widget-view+json": {
       "model_id": "8b50a73aa4bf440f8a2b8b06da45281c",
       "version_major": 2,
       "version_minor": 0
      },
      "text/plain": [
       "  0%|          | 0/1 [00:00<?, ?it/s]"
      ]
     },
     "metadata": {},
     "output_type": "display_data"
    },
    {
     "data": {
      "application/vnd.jupyter.widget-view+json": {
       "model_id": "fb85670c21774ba59e6db60b3a17ffb3",
       "version_major": 2,
       "version_minor": 0
      },
      "text/plain": [
       "  0%|          | 0/1 [00:00<?, ?it/s]"
      ]
     },
     "metadata": {},
     "output_type": "display_data"
    },
    {
     "data": {
      "application/vnd.jupyter.widget-view+json": {
       "model_id": "a50afc17169a4fea9a5c0d553f8422e6",
       "version_major": 2,
       "version_minor": 0
      },
      "text/plain": [
       "  0%|          | 0/1 [00:00<?, ?it/s]"
      ]
     },
     "metadata": {},
     "output_type": "display_data"
    },
    {
     "data": {
      "application/vnd.jupyter.widget-view+json": {
       "model_id": "06ac96d4ad72404db6c33e0df5d6c81b",
       "version_major": 2,
       "version_minor": 0
      },
      "text/plain": [
       "  0%|          | 0/1 [00:00<?, ?it/s]"
      ]
     },
     "metadata": {},
     "output_type": "display_data"
    },
    {
     "data": {
      "application/vnd.jupyter.widget-view+json": {
       "model_id": "501b8894edce4f81a445e6af0202a54a",
       "version_major": 2,
       "version_minor": 0
      },
      "text/plain": [
       "  0%|          | 0/1 [00:00<?, ?it/s]"
      ]
     },
     "metadata": {},
     "output_type": "display_data"
    },
    {
     "data": {
      "application/vnd.jupyter.widget-view+json": {
       "model_id": "d1739eb3a8964ac2a78d072864cefcd1",
       "version_major": 2,
       "version_minor": 0
      },
      "text/plain": [
       "  0%|          | 0/1 [00:00<?, ?it/s]"
      ]
     },
     "metadata": {},
     "output_type": "display_data"
    },
    {
     "data": {
      "application/vnd.jupyter.widget-view+json": {
       "model_id": "bdbc700652e14bd1851884f504b9f7f6",
       "version_major": 2,
       "version_minor": 0
      },
      "text/plain": [
       "  0%|          | 0/1 [00:00<?, ?it/s]"
      ]
     },
     "metadata": {},
     "output_type": "display_data"
    },
    {
     "data": {
      "application/vnd.jupyter.widget-view+json": {
       "model_id": "5a55810eb512435a80bfd52d172c8319",
       "version_major": 2,
       "version_minor": 0
      },
      "text/plain": [
       "  0%|          | 0/1 [00:00<?, ?it/s]"
      ]
     },
     "metadata": {},
     "output_type": "display_data"
    },
    {
     "data": {
      "application/vnd.jupyter.widget-view+json": {
       "model_id": "ca5c7ee02fba426ab61b81209691acd7",
       "version_major": 2,
       "version_minor": 0
      },
      "text/plain": [
       "  0%|          | 0/1 [00:00<?, ?it/s]"
      ]
     },
     "metadata": {},
     "output_type": "display_data"
    },
    {
     "data": {
      "application/vnd.jupyter.widget-view+json": {
       "model_id": "7f971ca520a54055af353c395291194a",
       "version_major": 2,
       "version_minor": 0
      },
      "text/plain": [
       "  0%|          | 0/1 [00:00<?, ?it/s]"
      ]
     },
     "metadata": {},
     "output_type": "display_data"
    },
    {
     "data": {
      "application/vnd.jupyter.widget-view+json": {
       "model_id": "6678b917f7c84888884a652ccd7d79fe",
       "version_major": 2,
       "version_minor": 0
      },
      "text/plain": [
       "  0%|          | 0/1 [00:00<?, ?it/s]"
      ]
     },
     "metadata": {},
     "output_type": "display_data"
    },
    {
     "data": {
      "application/vnd.jupyter.widget-view+json": {
       "model_id": "2d5691020da24bd2a8eebf40fb9bb929",
       "version_major": 2,
       "version_minor": 0
      },
      "text/plain": [
       "  0%|          | 0/1 [00:00<?, ?it/s]"
      ]
     },
     "metadata": {},
     "output_type": "display_data"
    },
    {
     "data": {
      "application/vnd.jupyter.widget-view+json": {
       "model_id": "543aed1e21a945929622bb9dc85c7034",
       "version_major": 2,
       "version_minor": 0
      },
      "text/plain": [
       "  0%|          | 0/1 [00:00<?, ?it/s]"
      ]
     },
     "metadata": {},
     "output_type": "display_data"
    },
    {
     "data": {
      "application/vnd.jupyter.widget-view+json": {
       "model_id": "70cfbcaaf77d475095c6fb278f5b15ee",
       "version_major": 2,
       "version_minor": 0
      },
      "text/plain": [
       "  0%|          | 0/1 [00:00<?, ?it/s]"
      ]
     },
     "metadata": {},
     "output_type": "display_data"
    },
    {
     "data": {
      "application/vnd.jupyter.widget-view+json": {
       "model_id": "ef25ed6247be4849b97ab826fc1ef5f5",
       "version_major": 2,
       "version_minor": 0
      },
      "text/plain": [
       "  0%|          | 0/1 [00:00<?, ?it/s]"
      ]
     },
     "metadata": {},
     "output_type": "display_data"
    },
    {
     "data": {
      "application/vnd.jupyter.widget-view+json": {
       "model_id": "0848cf4924c3446d81ef29992d573315",
       "version_major": 2,
       "version_minor": 0
      },
      "text/plain": [
       "  0%|          | 0/1 [00:00<?, ?it/s]"
      ]
     },
     "metadata": {},
     "output_type": "display_data"
    },
    {
     "data": {
      "application/vnd.jupyter.widget-view+json": {
       "model_id": "95b8ab84a256435bb6b6f02357856054",
       "version_major": 2,
       "version_minor": 0
      },
      "text/plain": [
       "  0%|          | 0/1 [00:00<?, ?it/s]"
      ]
     },
     "metadata": {},
     "output_type": "display_data"
    },
    {
     "data": {
      "application/vnd.jupyter.widget-view+json": {
       "model_id": "4cd624710c074fb09de9512da887f613",
       "version_major": 2,
       "version_minor": 0
      },
      "text/plain": [
       "  0%|          | 0/1 [00:00<?, ?it/s]"
      ]
     },
     "metadata": {},
     "output_type": "display_data"
    },
    {
     "data": {
      "application/vnd.jupyter.widget-view+json": {
       "model_id": "e6255126ddeb47228d57c7a705cce805",
       "version_major": 2,
       "version_minor": 0
      },
      "text/plain": [
       "  0%|          | 0/1 [00:00<?, ?it/s]"
      ]
     },
     "metadata": {},
     "output_type": "display_data"
    },
    {
     "data": {
      "application/vnd.jupyter.widget-view+json": {
       "model_id": "c4433197ae3d4641a08ebf0b1440bec4",
       "version_major": 2,
       "version_minor": 0
      },
      "text/plain": [
       "  0%|          | 0/1 [00:00<?, ?it/s]"
      ]
     },
     "metadata": {},
     "output_type": "display_data"
    },
    {
     "data": {
      "application/vnd.jupyter.widget-view+json": {
       "model_id": "1f21a4dfd2fc45fc93dcda9a907b0c0b",
       "version_major": 2,
       "version_minor": 0
      },
      "text/plain": [
       "  0%|          | 0/1 [00:00<?, ?it/s]"
      ]
     },
     "metadata": {},
     "output_type": "display_data"
    },
    {
     "data": {
      "application/vnd.jupyter.widget-view+json": {
       "model_id": "98a1c1cc5f264a55b173031cb527c181",
       "version_major": 2,
       "version_minor": 0
      },
      "text/plain": [
       "  0%|          | 0/1 [00:00<?, ?it/s]"
      ]
     },
     "metadata": {},
     "output_type": "display_data"
    },
    {
     "data": {
      "application/vnd.jupyter.widget-view+json": {
       "model_id": "0e482698025c4461b9fc3485534d4513",
       "version_major": 2,
       "version_minor": 0
      },
      "text/plain": [
       "  0%|          | 0/1 [00:00<?, ?it/s]"
      ]
     },
     "metadata": {},
     "output_type": "display_data"
    },
    {
     "data": {
      "application/vnd.jupyter.widget-view+json": {
       "model_id": "44c9b12999e54f3bae0b3838e749d591",
       "version_major": 2,
       "version_minor": 0
      },
      "text/plain": [
       "  0%|          | 0/1 [00:00<?, ?it/s]"
      ]
     },
     "metadata": {},
     "output_type": "display_data"
    }
   ],
   "source": [
    "\n",
    "print(len(thshy_link_code_ls))\n",
    "\n",
    "for symbol_code, name in thshy_link_code_ls:\n",
    "    big_df = pd.DataFrame()\n",
    "    if os.path.exists(f\"./data/{symbol_code}.csv\"):\n",
    "        big_df = pd.read_csv(f\"./data/{symbol_code}.csv\",  encoding=\"utf-8\")\n",
    "        if not big_df.empty:\n",
    "            big_df.iloc[:, 0] = pd.to_datetime(big_df.iloc[:, 0], errors=\"coerce\").dt.date\n",
    "            if big_df.iloc[-1, 0] >= recent_trade_date:\n",
    "                bk_data_ls.append((name, symbol_code, big_df))\n",
    "                code_ls.append(symbol_code)\n",
    "                continue\n",
    "            elif big_df.iloc[-1, 0].year >= int(temp_start_year):\n",
    "                temp_start_year = str(big_df.iloc[-1, 0].year)\n",
    "                year_mask = big_df.iloc[:,0].apply(lambda x: x.year)  ==  int(temp_start_year) \n",
    "                if year_mask.any():\n",
    "                    first_index = year_mask.idxmax()\n",
    "                else:\n",
    "                    first_index = None\n",
    "                if first_index is not None:\n",
    "                    big_df = big_df.iloc[:first_index]\n",
    "\n",
    "    try:\n",
    "        for year in tqdm(range(int(temp_start_year), current_year + 1), leave=False):\n",
    "            url = f\"http://d.10jqka.com.cn/v4/line/bk_{symbol_code}/01/{year}.js\"\n",
    "            r = requests.get(url, headers=headers_bk)\n",
    "            data_text = r.text\n",
    "            try:\n",
    "                temp_df = demjson.decode(data_text[data_text.find(\"{\") : -1])\n",
    "                temp_df = pd.DataFrame(temp_df[\"data\"].split(\";\"))\n",
    "                temp_df = temp_df.iloc[:, 0].str.split(\",\", expand=True).iloc[:,  :7]\n",
    "                temp_df.columns  = [\"date\", \"open\", \"high\", \"low\", \"close\", \"volume\", \"amount\"]\n",
    "                big_df = pd.concat(objs=[big_df, temp_df], ignore_index=True)\n",
    "            except Exception as e:  # noqa: E722\n",
    "                print(e, \"decode fail:\", url, \"text as:\", data_text)\n",
    "                break\n",
    "        big_df = big_df.iloc[:,  :7]\n",
    "        big_df.columns  = [\"date\", \"open\", \"high\", \"low\", \"close\", \"volume\", \"amount\"]\n",
    "        big_df[\"date\"] = pd.to_datetime(big_df[\"date\"], errors=\"coerce\").dt.date\n",
    "        big_df[\"open\"] = pd.to_numeric(big_df[\"open\"], errors=\"coerce\")\n",
    "        big_df[\"high\"] = pd.to_numeric(big_df[\"high\"], errors=\"coerce\")\n",
    "        big_df[\"low\"] = pd.to_numeric(big_df[\"low\"], errors=\"coerce\")\n",
    "        big_df[\"close\"] = pd.to_numeric(big_df[\"close\"], errors=\"coerce\")\n",
    "        big_df[\"volume\"] = pd.to_numeric(big_df[\"volume\"], errors=\"coerce\")\n",
    "        big_df[\"amount\"] = pd.to_numeric(big_df[\"amount\"], errors=\"coerce\")\n",
    "\n",
    "        if big_df.iloc[-1].isna().any(): \n",
    "            big_df = big_df.iloc[:-1]\n",
    "\n",
    "        if big_df[\"date\"].iloc[-1] == lastday:\n",
    "            symbol_url = f\"https://q.10jqka.com.cn/thshy/detail/code/{symbol_code}/\"\n",
    "            r = requests.get(symbol_url, headers=headers)\n",
    "            soup_today = BeautifulSoup(r.text, features=\"lxml\")\n",
    "            dd_texts = [dd.text for dd in soup_today.find_all(\"dd\")] \n",
    "            close = soup_today.select_one('span.board-xj.arr-rise,  span.board-xj.arr-fall').text\n",
    "            open, low, high, volume, amount = dd_texts[0], dd_texts[2], dd_texts[3], dd_texts[4], dd_texts[9]\n",
    "            new_list = [\n",
    "                recent_trade_date,\n",
    "                float(open),\n",
    "                float(high),\n",
    "                float(low),\n",
    "                float(close),\n",
    "                float(volume.replace(\",\", \"\")),\n",
    "                float(amount.replace(\",\", \"\")),\n",
    "            ]\n",
    "            new_row = pd.DataFrame([new_list], columns=big_df.columns) \n",
    "            big_df = pd.concat([big_df,  new_row], ignore_index=True)\n",
    "       \n",
    "        bk_data_ls.append((name, symbol_code, big_df))\n",
    "        code_ls.append(symbol_code)\n",
    "        big_df.to_csv(f\"./data/{symbol_code}.csv\", index=False, encoding='utf-8-sig')\n",
    "    except Exception as e:\n",
    "        print(e, \" wrong data:\", f\"https://d.10jqka.com.cn/v4/line/bk_{symbol_code}/01/{year}.js\", symbol_url, big_df.tail())\n",
    "        break\n",
    "\n",
    "\n"
   ]
  },
  {
   "cell_type": "code",
   "execution_count": 22,
   "id": "802ac574",
   "metadata": {},
   "outputs": [
    {
     "name": "stdout",
     "output_type": "stream",
     "text": [
      "阿尔茨海默概念\n",
      "886056\n",
      "         date     open     high      low    close     volume        amount\n",
      "0  2025-01-02  989.548  999.124  968.150  974.704  512509970  6.680677e+09\n",
      "1  2025-01-03  974.714  986.675  962.398  965.056  475802500  6.222582e+09\n",
      "2  2025-01-06  971.721  987.276  960.495  979.601  525790230  6.659436e+09\n",
      "3  2025-01-07  979.367  979.367  951.360  969.033  966740090  1.109609e+10\n",
      "4  2025-01-08  967.908  974.077  945.650  965.447  771668230  9.432990e+09\n",
      "           date      open      high       low     close     volume  \\\n",
      "171  2025-09-15  1349.381  1359.669  1346.040  1355.557  655885750   \n",
      "172  2025-09-16  1354.393  1357.556  1341.825  1355.572  597010030   \n",
      "173  2025-09-17  1355.403  1357.026  1344.980  1350.725  627528530   \n",
      "174  2025-09-18  1351.598  1365.376  1325.583  1337.478  984950470   \n",
      "175  2025-09-19  1338.362  1340.993  1307.562  1314.228  647135160   \n",
      "\n",
      "           amount  \n",
      "171  1.272261e+10  \n",
      "172  1.031487e+10  \n",
      "173  9.929872e+09  \n",
      "174  1.701124e+10  \n",
      "175  1.086224e+10  \n"
     ]
    }
   ],
   "source": [
    "print(bk_data_ls[0][0])\n",
    "print(bk_data_ls[0][1])\n",
    "print(bk_data_ls[0][2].head())\n",
    "print(bk_data_ls[0][2].tail())"
   ]
  },
  {
   "cell_type": "code",
   "execution_count": 23,
   "id": "94708784",
   "metadata": {},
   "outputs": [],
   "source": [
    "def save_Scalers(scalers, filepath):\n",
    "    \"\"\"保存所有股票的Scaler到文件\"\"\"\n",
    "    joblib.dump(scalers, filepath)\n",
    "def load_Scalers(filepath):\n",
    "    if os.path.exists(filepath):\n",
    "        return joblib.load(filepath)\n",
    "    else:\n",
    "        return {}"
   ]
  },
  {
   "cell_type": "code",
   "execution_count": 24,
   "id": "badcc5f6",
   "metadata": {},
   "outputs": [],
   "source": [
    "code_scaler_path = \"./model/code_scaler.save\"\n",
    "if os.path.exists(code_scaler_path):\n",
    "    code_scaler = joblib.load(code_scaler_path)\n",
    "    if len(code_ls) != len(bk_data_ls):\n",
    "        code_df = pd.DataFrame(code_ls, columns=['code'])\n",
    "        code_scaler.partial_fit(code_df)\n",
    "else:\n",
    "    code_df = pd.DataFrame(code_ls, columns=['code'])\n",
    "    code_scaler = MinMaxScaler(feature_range=(0, 1))\n",
    "    code_scaler.fit(code_df)\n",
    "    save_Scalers(code_scaler, code_scaler_path)"
   ]
  },
  {
   "cell_type": "code",
   "execution_count": 25,
   "id": "ba57affa",
   "metadata": {},
   "outputs": [],
   "source": [
    "class StockDataset(Dataset):\n",
    "    def __init__(self, bk_data_ls, seq_length=16, forecast_gap=2, scaler_filepath='./model/scalers.sav'):\n",
    "        \"\"\"\n",
    "        bk_data_ls: List of tuples (code, data), where:\n",
    "            - code: 股票代码（str）\n",
    "            - data: DataFrame，列顺序为 [open, high, low, close, volume, amount]\n",
    "        seq_length_short: 短期序列长度（可选）\n",
    "        seq_length: 长期依赖序列长度（用于输入）\n",
    "        forecast_gap: 预测几天后的收盘价，如后天 = 2\n",
    "        \"\"\"\n",
    "        self.seq_length  = seq_length\n",
    "        self.forecast_gap  = forecast_gap\n",
    "        self.scalers  = load_Scalers(scaler_filepath) # 存储每个股票的归一化器\n",
    " \n",
    "        all_X = []\n",
    "        all_y = []\n",
    "\n",
    "        for _name, code, data in bk_data_ls:\n",
    "            data = data.iloc[:,1:]\n",
    "            if code in self.scalers:\n",
    "                scaler = self.scalers[code]\n",
    "                scaled_data = scaler.partial_fit(data).transform(data) \n",
    "                self.scalers[code]  = scaler  # 保存 scaler 供后续使用 \n",
    "            else:\n",
    "                scaler = MinMaxScaler(feature_range=(0, 1))\n",
    "                scaled_data = scaler.fit_transform(data) \n",
    "                self.scalers[code]  = scaler  # 保存 scaler 供后续使用 \n",
    "    \n",
    "            # 构造样本\n",
    "            X, y = [], []\n",
    "            code_feature = code_scaler.transform(pd.DataFrame({\"code\": [code]}))\n",
    "            scaled_data = np.insert(scaled_data,  1, code_feature, axis=1) \n",
    "            max_index = len(data) - seq_length - forecast_gap\n",
    "            for i in range(max_index):\n",
    "                # 输入序列：seq_length 天的特征\n",
    "                seq_features = scaled_data[i:i + seq_length]\n",
    "                # 标签：forecast_gap 天后的收盘价（第3列）\n",
    "                target_idx = i + seq_length + forecast_gap - 1\n",
    "                target_close = scaled_data[target_idx, 3]\n",
    " \n",
    "                X.append(seq_features) \n",
    "                y.append(target_close) \n",
    " \n",
    "            # 转换为 numpy 并保存 \n",
    "            all_X.extend(X) \n",
    "            all_y.extend(y) \n",
    " \n",
    "        # 统一转换为 tensor\n",
    "        self.X = torch.tensor(np.array(all_X),  dtype=torch.float32) \n",
    "        self.y = torch.tensor(np.array(all_y),  dtype=torch.float32).view(-1,  1)\n",
    "        save_Scalers(self.scalers, scaler_filepath)  # 保存所有股票的Scaler\n",
    "\n",
    "    def __len__(self):\n",
    "        return len(self.X)\n",
    " \n",
    "    def __getitem__(self, idx):\n",
    "        return self.X[idx], self.y[idx]\n",
    " \n",
    "    def get_scaler(self, code):\n",
    "        return self.scalers.get(code,  None)\n",
    "    def inverse_transform(self, code, scaled_values):\n",
    "        \"\"\"逆归一化\"\"\"\n",
    "        scaler = self.get_scaler(code)\n",
    "        if scaler:\n",
    "            dummy = np.zeros((len(scaled_values),  self.X.shape[2]))\n",
    "            dummy[:, 3] = scaled_values  # 将预测值放入close列\n",
    "            return scaler.inverse_transform(dummy)[:, 3]\n",
    "        else:\n",
    "            raise ValueError(f\"No scaler found for code: {code}\")\n",
    "\n",
    "    \n",
    "\n",
    "class MultiScaleAttentionLSTM(nn.Module):\n",
    "    def __init__(self, input_size, hidden_size = 64, num_layers_long = 3, num_layers_short = 2):\n",
    "        super().__init__()\n",
    "        \n",
    "        self.lstm_long  = nn.LSTM(input_size, hidden_size, num_layers=num_layers_long, batch_first=True, dropout=0.2 if num_layers_long > 1 else 0)\n",
    "        self.lstm_short  = nn.LSTM(input_size, hidden_size, num_layers=num_layers_short, batch_first=True, dropout=0.2 if num_layers_short > 1 else 0)\n",
    "        self.attn  = nn.MultiheadAttention(hidden_size, num_heads=4, batch_first=True, )  # 4头注意力 \n",
    "        \n",
    "        self.regressor  = nn.Sequential(\n",
    "            nn.Linear(hidden_size, 32),\n",
    "            nn.Linear(32, 1)\n",
    "        )\n",
    " \n",
    "    def forward(self, x1, seq_length_short=7):\n",
    "        out1, _ = self.lstm_long(x1) \n",
    "        out2, _ = self.lstm_short(x1[:, -seq_length_short:, :]) # lstm_out: [batch, seq_len, hidden]\n",
    "        lstm_out = torch.cat((out1,  out2), dim=1)\n",
    "        attn_out, _ = self.attn(lstm_out,  lstm_out, lstm_out, need_weights=False) \n",
    "        out = self.regressor(attn_out[:, -1, :]) \n",
    "        return out"
   ]
  },
  {
   "cell_type": "code",
   "execution_count": 26,
   "id": "63a9e7ee",
   "metadata": {},
   "outputs": [
    {
     "name": "stdout",
     "output_type": "stream",
     "text": [
      "Epoch 1: Current LR = 0.001\n",
      "Epoch 0 | Train Loss: 0.430591 | Test Loss: 0.435524\n",
      "Epoch 2: Current LR = 0.001\n",
      "Epoch 1 | Train Loss: 0.430593 | Test Loss: 0.412555\n",
      "Epoch 3: Current LR = 0.001\n",
      "Epoch 2 | Train Loss: 0.407776 | Test Loss: 0.390437\n",
      "Epoch 4: Current LR = 0.001\n",
      "Epoch 3 | Train Loss: 0.385786 | Test Loss: 0.368665\n",
      "Epoch 5: Current LR = 0.001\n",
      "Epoch 4 | Train Loss: 0.364108 | Test Loss: 0.346764\n",
      "Epoch 6: Current LR = 0.001\n",
      "Epoch 5 | Train Loss: 0.342400 | Test Loss: 0.324326\n",
      "Epoch 7: Current LR = 0.001\n",
      "Epoch 6 | Train Loss: 0.320042 | Test Loss: 0.301038\n",
      "Epoch 8: Current LR = 0.001\n",
      "Epoch 7 | Train Loss: 0.296934 | Test Loss: 0.276684\n",
      "Epoch 9: Current LR = 0.001\n",
      "Epoch 8 | Train Loss: 0.272740 | Test Loss: 0.251133\n",
      "Epoch 10: Current LR = 0.001\n",
      "Epoch 9 | Train Loss: 0.247365 | Test Loss: 0.224361\n",
      "Epoch 11: Current LR = 0.001\n",
      "Epoch 10 | Train Loss: 0.220870 | Test Loss: 0.196477\n",
      "Epoch 12: Current LR = 0.001\n",
      "Epoch 11 | Train Loss: 0.193195 | Test Loss: 0.167779\n",
      "Epoch 13: Current LR = 0.001\n",
      "Epoch 12 | Train Loss: 0.164779 | Test Loss: 0.138846\n",
      "Epoch 14: Current LR = 0.001\n",
      "Epoch 13 | Train Loss: 0.136147 | Test Loss: 0.110669\n",
      "Epoch 15: Current LR = 0.001\n",
      "Epoch 14 | Train Loss: 0.108307 | Test Loss: 0.084850\n",
      "Epoch 16: Current LR = 0.001\n",
      "Epoch 15 | Train Loss: 0.082914 | Test Loss: 0.063888\n",
      "Epoch 17: Current LR = 0.001\n",
      "Epoch 16 | Train Loss: 0.062393 | Test Loss: 0.051593\n",
      "Epoch 18: Current LR = 0.001\n",
      "Epoch 17 | Train Loss: 0.050601 | Test Loss: 0.053679\n",
      "Epoch 19: Current LR = 0.001\n",
      "Epoch 18 | Train Loss: 0.053271 | Test Loss: 0.066592\n",
      "Epoch 20: Current LR = 0.001\n",
      "Epoch 19 | Train Loss: 0.066570 | Test Loss: 0.079419\n",
      "Epoch 21: Current LR = 0.001\n",
      "Epoch 20 | Train Loss: 0.079636 | Test Loss: 0.085840\n",
      "Epoch 22: Current LR = 0.001\n",
      "Epoch 21 | Train Loss: 0.086135 | Test Loss: 0.084397\n",
      "Epoch 23: Current LR = 0.001\n",
      "Epoch 22 | Train Loss: 0.084705 | Test Loss: 0.076935\n",
      "Epoch 24: Current LR = 0.0005\n",
      "Epoch 23 | Train Loss: 0.077126 | Test Loss: 0.071490\n",
      "Epoch 25: Current LR = 0.0005\n",
      "Epoch 24 | Train Loss: 0.071564 | Test Loss: 0.065277\n",
      "Epoch 26: Current LR = 0.0005\n",
      "Epoch 25 | Train Loss: 0.065262 | Test Loss: 0.059258\n",
      "Epoch 27: Current LR = 0.0005\n",
      "Epoch 26 | Train Loss: 0.059088 | Test Loss: 0.054188\n",
      "Epoch 28: Current LR = 0.0005\n",
      "Epoch 27 | Train Loss: 0.053878 | Test Loss: 0.050596\n",
      "Epoch 29: Current LR = 0.0005\n",
      "Epoch 28 | Train Loss: 0.050121 | Test Loss: 0.048788\n",
      "Epoch 30: Current LR = 0.0005\n",
      "Epoch 29 | Train Loss: 0.048124 | Test Loss: 0.048804\n",
      "Epoch 31: Current LR = 0.0005\n",
      "Epoch 30 | Train Loss: 0.047969 | Test Loss: 0.049669\n",
      "Epoch 32: Current LR = 0.0005\n",
      "Epoch 31 | Train Loss: 0.048708 | Test Loss: 0.050467\n",
      "Epoch 33: Current LR = 0.0005\n",
      "Epoch 32 | Train Loss: 0.049442 | Test Loss: 0.050803\n",
      "Epoch 34: Current LR = 0.0005\n",
      "Epoch 33 | Train Loss: 0.049749 | Test Loss: 0.050559\n",
      "Epoch 35: Current LR = 0.0005\n",
      "Epoch 34 | Train Loss: 0.049518 | Test Loss: 0.049784\n",
      "Epoch 36: Current LR = 0.00025\n",
      "Epoch 35 | Train Loss: 0.048763 | Test Loss: 0.049190\n",
      "Epoch 37: Current LR = 0.00025\n",
      "Epoch 36 | Train Loss: 0.048191 | Test Loss: 0.048455\n",
      "Epoch 38: Current LR = 0.00025\n",
      "Epoch 37 | Train Loss: 0.047519 | Test Loss: 0.047662\n",
      "Epoch 39: Current LR = 0.00025\n",
      "Epoch 38 | Train Loss: 0.046768 | Test Loss: 0.046898\n",
      "Epoch 40: Current LR = 0.00025\n",
      "Epoch 39 | Train Loss: 0.046071 | Test Loss: 0.046262\n",
      "Epoch 41: Current LR = 0.00025\n",
      "Epoch 40 | Train Loss: 0.045509 | Test Loss: 0.045856\n",
      "Epoch 42: Current LR = 0.00025\n",
      "Epoch 41 | Train Loss: 0.045189 | Test Loss: 0.045707\n",
      "Epoch 43: Current LR = 0.00025\n",
      "Epoch 42 | Train Loss: 0.045109 | Test Loss: 0.045674\n",
      "Epoch 44: Current LR = 0.00025\n",
      "Epoch 43 | Train Loss: 0.045134 | Test Loss: 0.045623\n",
      "Epoch 45: Current LR = 0.00025\n",
      "Epoch 44 | Train Loss: 0.045117 | Test Loss: 0.045469\n",
      "Epoch 46: Current LR = 0.00025\n",
      "Epoch 45 | Train Loss: 0.044983 | Test Loss: 0.045180\n",
      "Epoch 47: Current LR = 0.00025\n",
      "Epoch 46 | Train Loss: 0.044706 | Test Loss: 0.044760\n",
      "Epoch 48: Current LR = 0.00025\n",
      "Epoch 47 | Train Loss: 0.044281 | Test Loss: 0.044246\n",
      "Epoch 49: Current LR = 0.00025\n",
      "Epoch 48 | Train Loss: 0.043755 | Test Loss: 0.043688\n",
      "Epoch 50: Current LR = 0.00025\n",
      "Epoch 49 | Train Loss: 0.043168 | Test Loss: 0.043147\n",
      "Epoch 51: Current LR = 0.00025\n",
      "Epoch 50 | Train Loss: 0.042589 | Test Loss: 0.042671\n",
      "Epoch 52: Current LR = 0.00025\n",
      "Epoch 51 | Train Loss: 0.042079 | Test Loss: 0.042281\n",
      "Epoch 53: Current LR = 0.00025\n",
      "Epoch 52 | Train Loss: 0.041661 | Test Loss: 0.041916\n",
      "Epoch 54: Current LR = 0.00025\n",
      "Epoch 53 | Train Loss: 0.041263 | Test Loss: 0.041461\n",
      "Epoch 55: Current LR = 0.00025\n",
      "Epoch 54 | Train Loss: 0.040792 | Test Loss: 0.040871\n",
      "Epoch 56: Current LR = 0.00025\n",
      "Epoch 55 | Train Loss: 0.040222 | Test Loss: 0.040151\n",
      "Epoch 57: Current LR = 0.00025\n",
      "Epoch 56 | Train Loss: 0.039527 | Test Loss: 0.039341\n",
      "Epoch 58: Current LR = 0.00025\n",
      "Epoch 57 | Train Loss: 0.038763 | Test Loss: 0.038505\n",
      "Epoch 59: Current LR = 0.00025\n",
      "Epoch 58 | Train Loss: 0.037973 | Test Loss: 0.037683\n",
      "Epoch 60: Current LR = 0.00025\n",
      "Epoch 59 | Train Loss: 0.037186 | Test Loss: 0.036868\n",
      "Epoch 61: Current LR = 0.00025\n",
      "Epoch 60 | Train Loss: 0.036404 | Test Loss: 0.036035\n",
      "Epoch 62: Current LR = 0.00025\n",
      "Epoch 61 | Train Loss: 0.035609 | Test Loss: 0.035168\n",
      "Epoch 63: Current LR = 0.00025\n",
      "Epoch 62 | Train Loss: 0.034751 | Test Loss: 0.034265\n",
      "Epoch 64: Current LR = 0.00025\n",
      "Epoch 63 | Train Loss: 0.033876 | Test Loss: 0.033333\n",
      "Epoch 65: Current LR = 0.00025\n",
      "Epoch 64 | Train Loss: 0.032941 | Test Loss: 0.032386\n",
      "Epoch 66: Current LR = 0.00025\n",
      "Epoch 65 | Train Loss: 0.031991 | Test Loss: 0.031428\n",
      "Epoch 67: Current LR = 0.00025\n",
      "Epoch 66 | Train Loss: 0.031041 | Test Loss: 0.030445\n",
      "Epoch 68: Current LR = 0.00025\n",
      "Epoch 67 | Train Loss: 0.030048 | Test Loss: 0.029404\n",
      "Epoch 69: Current LR = 0.00025\n",
      "Epoch 68 | Train Loss: 0.029033 | Test Loss: 0.028273\n",
      "Epoch 70: Current LR = 0.00025\n",
      "Epoch 69 | Train Loss: 0.027906 | Test Loss: 0.027045\n",
      "Epoch 71: Current LR = 0.00025\n",
      "Epoch 70 | Train Loss: 0.026716 | Test Loss: 0.025740\n",
      "Epoch 72: Current LR = 0.00025\n",
      "Epoch 71 | Train Loss: 0.025448 | Test Loss: 0.024401\n",
      "Epoch 73: Current LR = 0.00025\n",
      "Epoch 72 | Train Loss: 0.024138 | Test Loss: 0.023064\n",
      "Epoch 74: Current LR = 0.00025\n",
      "Epoch 73 | Train Loss: 0.022842 | Test Loss: 0.021751\n",
      "Epoch 75: Current LR = 0.00025\n",
      "Epoch 74 | Train Loss: 0.021557 | Test Loss: 0.020472\n",
      "Epoch 76: Current LR = 0.00025\n",
      "Epoch 75 | Train Loss: 0.020301 | Test Loss: 0.019231\n",
      "Epoch 77: Current LR = 0.00025\n",
      "Epoch 76 | Train Loss: 0.019096 | Test Loss: 0.018037\n",
      "Epoch 78: Current LR = 0.00025\n",
      "Epoch 77 | Train Loss: 0.017906 | Test Loss: 0.016906\n",
      "Epoch 79: Current LR = 0.00025\n",
      "Epoch 78 | Train Loss: 0.016786 | Test Loss: 0.015859\n",
      "Epoch 80: Current LR = 0.00025\n",
      "Epoch 79 | Train Loss: 0.015768 | Test Loss: 0.014906\n",
      "Epoch 81: Current LR = 0.00025\n",
      "Epoch 80 | Train Loss: 0.014822 | Test Loss: 0.014057\n",
      "Epoch 82: Current LR = 0.00025\n",
      "Epoch 81 | Train Loss: 0.013988 | Test Loss: 0.013334\n",
      "Epoch 83: Current LR = 0.00025\n",
      "Epoch 82 | Train Loss: 0.013279 | Test Loss: 0.012801\n",
      "Epoch 84: Current LR = 0.00025\n",
      "Epoch 83 | Train Loss: 0.012758 | Test Loss: 0.012525\n",
      "Epoch 85: Current LR = 0.00025\n",
      "Epoch 84 | Train Loss: 0.012481 | Test Loss: 0.012489\n",
      "Epoch 86: Current LR = 0.00025\n",
      "Epoch 85 | Train Loss: 0.012481 | Test Loss: 0.012613\n",
      "Epoch 87: Current LR = 0.00025\n",
      "Epoch 86 | Train Loss: 0.012604 | Test Loss: 0.012833\n",
      "Epoch 88: Current LR = 0.00025\n",
      "Epoch 87 | Train Loss: 0.012839 | Test Loss: 0.013046\n",
      "Epoch 89: Current LR = 0.00025\n",
      "Epoch 88 | Train Loss: 0.013032 | Test Loss: 0.013204\n",
      "Epoch 90: Current LR = 0.00025\n",
      "Epoch 89 | Train Loss: 0.013195 | Test Loss: 0.013263\n",
      "Epoch 91: Current LR = 0.00025\n",
      "Epoch 90 | Train Loss: 0.013228 | Test Loss: 0.013168\n",
      "Epoch 92: Current LR = 0.000125\n",
      "Epoch 91 | Train Loss: 0.013151 | Test Loss: 0.013045\n",
      "Epoch 93: Current LR = 0.000125\n",
      "Epoch 92 | Train Loss: 0.012999 | Test Loss: 0.012866\n",
      "Epoch 94: Current LR = 0.000125\n",
      "Epoch 93 | Train Loss: 0.012825 | Test Loss: 0.012665\n",
      "Epoch 95: Current LR = 0.000125\n",
      "Epoch 94 | Train Loss: 0.012631 | Test Loss: 0.012462\n",
      "Epoch 96: Current LR = 0.000125\n",
      "Epoch 95 | Train Loss: 0.012446 | Test Loss: 0.012268\n",
      "Epoch 97: Current LR = 0.000125\n",
      "Epoch 96 | Train Loss: 0.012253 | Test Loss: 0.012088\n",
      "Epoch 98: Current LR = 0.000125\n",
      "Epoch 97 | Train Loss: 0.012067 | Test Loss: 0.011929\n",
      "Epoch 99: Current LR = 0.000125\n",
      "Epoch 98 | Train Loss: 0.011890 | Test Loss: 0.011796\n",
      "Epoch 100: Current LR = 0.000125\n",
      "Epoch 99 | Train Loss: 0.011769 | Test Loss: 0.011688\n",
      "Epoch 101: Current LR = 0.000125\n",
      "Epoch 100 | Train Loss: 0.011661 | Test Loss: 0.011600\n",
      "Epoch 102: Current LR = 0.000125\n",
      "Epoch 101 | Train Loss: 0.011573 | Test Loss: 0.011542\n",
      "Epoch 103: Current LR = 0.000125\n",
      "Epoch 102 | Train Loss: 0.011505 | Test Loss: 0.011511\n",
      "Epoch 104: Current LR = 0.000125\n",
      "Epoch 103 | Train Loss: 0.011466 | Test Loss: 0.011492\n",
      "Epoch 105: Current LR = 0.000125\n",
      "Epoch 104 | Train Loss: 0.011450 | Test Loss: 0.011478\n",
      "Epoch 106: Current LR = 0.000125\n",
      "Epoch 105 | Train Loss: 0.011425 | Test Loss: 0.011459\n",
      "Epoch 107: Current LR = 0.000125\n",
      "Epoch 106 | Train Loss: 0.011411 | Test Loss: 0.011431\n",
      "Epoch 108: Current LR = 0.000125\n",
      "Epoch 107 | Train Loss: 0.011400 | Test Loss: 0.011395\n",
      "Epoch 109: Current LR = 0.000125\n",
      "Epoch 108 | Train Loss: 0.011351 | Test Loss: 0.011347\n",
      "Epoch 110: Current LR = 0.000125\n",
      "Epoch 109 | Train Loss: 0.011293 | Test Loss: 0.011285\n",
      "Epoch 111: Current LR = 0.000125\n",
      "Epoch 110 | Train Loss: 0.011240 | Test Loss: 0.011216\n",
      "Epoch 112: Current LR = 0.000125\n",
      "Epoch 111 | Train Loss: 0.011167 | Test Loss: 0.011145\n",
      "Epoch 113: Current LR = 0.000125\n",
      "Epoch 112 | Train Loss: 0.011105 | Test Loss: 0.011074\n",
      "Epoch 114: Current LR = 0.000125\n",
      "Epoch 113 | Train Loss: 0.011025 | Test Loss: 0.011006\n",
      "Epoch 115: Current LR = 0.000125\n",
      "Epoch 114 | Train Loss: 0.010973 | Test Loss: 0.010942\n",
      "Epoch 116: Current LR = 0.000125\n",
      "Epoch 115 | Train Loss: 0.010914 | Test Loss: 0.010883\n",
      "Epoch 117: Current LR = 0.000125\n",
      "Epoch 116 | Train Loss: 0.010844 | Test Loss: 0.010830\n",
      "Epoch 118: Current LR = 0.000125\n",
      "Epoch 117 | Train Loss: 0.010783 | Test Loss: 0.010777\n",
      "Epoch 119: Current LR = 0.000125\n",
      "Epoch 118 | Train Loss: 0.010751 | Test Loss: 0.010722\n",
      "Epoch 120: Current LR = 0.000125\n",
      "Epoch 119 | Train Loss: 0.010681 | Test Loss: 0.010666\n",
      "Epoch 121: Current LR = 0.000125\n",
      "Epoch 120 | Train Loss: 0.010647 | Test Loss: 0.010607\n",
      "Epoch 122: Current LR = 0.000125\n",
      "Epoch 121 | Train Loss: 0.010603 | Test Loss: 0.010541\n",
      "Epoch 123: Current LR = 0.000125\n",
      "Epoch 122 | Train Loss: 0.010521 | Test Loss: 0.010469\n",
      "Epoch 124: Current LR = 0.000125\n",
      "Epoch 123 | Train Loss: 0.010444 | Test Loss: 0.010400\n",
      "Epoch 125: Current LR = 0.000125\n",
      "Epoch 124 | Train Loss: 0.010389 | Test Loss: 0.010333\n",
      "Epoch 126: Current LR = 0.000125\n",
      "Epoch 125 | Train Loss: 0.010313 | Test Loss: 0.010267\n",
      "Epoch 127: Current LR = 0.000125\n",
      "Epoch 126 | Train Loss: 0.010264 | Test Loss: 0.010201\n",
      "Epoch 128: Current LR = 0.000125\n",
      "Epoch 127 | Train Loss: 0.010201 | Test Loss: 0.010136\n",
      "Epoch 129: Current LR = 0.000125\n",
      "Epoch 128 | Train Loss: 0.010137 | Test Loss: 0.010071\n",
      "Epoch 130: Current LR = 0.000125\n",
      "Epoch 129 | Train Loss: 0.010049 | Test Loss: 0.010004\n",
      "Epoch 131: Current LR = 0.000125\n",
      "Epoch 130 | Train Loss: 0.009997 | Test Loss: 0.009936\n",
      "Epoch 132: Current LR = 0.000125\n",
      "Epoch 131 | Train Loss: 0.009944 | Test Loss: 0.009866\n",
      "Epoch 133: Current LR = 0.000125\n",
      "Epoch 132 | Train Loss: 0.009876 | Test Loss: 0.009797\n",
      "Epoch 134: Current LR = 0.000125\n",
      "Epoch 133 | Train Loss: 0.009828 | Test Loss: 0.009728\n",
      "Epoch 135: Current LR = 0.000125\n",
      "Epoch 134 | Train Loss: 0.009738 | Test Loss: 0.009660\n",
      "Epoch 136: Current LR = 0.000125\n",
      "Epoch 135 | Train Loss: 0.009670 | Test Loss: 0.009593\n",
      "Epoch 137: Current LR = 0.000125\n",
      "Epoch 136 | Train Loss: 0.009614 | Test Loss: 0.009526\n",
      "Epoch 138: Current LR = 0.000125\n",
      "Epoch 137 | Train Loss: 0.009539 | Test Loss: 0.009460\n",
      "Epoch 139: Current LR = 0.000125\n",
      "Epoch 138 | Train Loss: 0.009484 | Test Loss: 0.009393\n",
      "Epoch 140: Current LR = 0.000125\n",
      "Epoch 139 | Train Loss: 0.009422 | Test Loss: 0.009327\n",
      "Epoch 141: Current LR = 0.000125\n",
      "Epoch 140 | Train Loss: 0.009372 | Test Loss: 0.009262\n",
      "Epoch 142: Current LR = 0.000125\n",
      "Epoch 141 | Train Loss: 0.009313 | Test Loss: 0.009197\n",
      "Epoch 143: Current LR = 0.000125\n",
      "Epoch 142 | Train Loss: 0.009248 | Test Loss: 0.009134\n",
      "Epoch 144: Current LR = 0.000125\n",
      "Epoch 143 | Train Loss: 0.009199 | Test Loss: 0.009072\n",
      "Epoch 145: Current LR = 0.000125\n",
      "Epoch 144 | Train Loss: 0.009129 | Test Loss: 0.009012\n",
      "Epoch 146: Current LR = 0.000125\n",
      "Epoch 145 | Train Loss: 0.009062 | Test Loss: 0.008952\n",
      "Epoch 147: Current LR = 0.000125\n",
      "Epoch 146 | Train Loss: 0.009010 | Test Loss: 0.008893\n",
      "Epoch 148: Current LR = 0.000125\n",
      "Epoch 147 | Train Loss: 0.008951 | Test Loss: 0.008835\n",
      "Epoch 149: Current LR = 0.000125\n",
      "Epoch 148 | Train Loss: 0.008906 | Test Loss: 0.008779\n",
      "Epoch 150: Current LR = 0.000125\n",
      "Epoch 149 | Train Loss: 0.008847 | Test Loss: 0.008726\n",
      "Epoch 151: Current LR = 0.000125\n",
      "Epoch 150 | Train Loss: 0.008808 | Test Loss: 0.008673\n",
      "Epoch 152: Current LR = 0.000125\n",
      "Epoch 151 | Train Loss: 0.008746 | Test Loss: 0.008622\n",
      "Epoch 153: Current LR = 0.000125\n",
      "Epoch 152 | Train Loss: 0.008710 | Test Loss: 0.008571\n",
      "Epoch 154: Current LR = 0.000125\n",
      "Epoch 153 | Train Loss: 0.008667 | Test Loss: 0.008523\n",
      "Epoch 155: Current LR = 0.000125\n",
      "Epoch 154 | Train Loss: 0.008608 | Test Loss: 0.008476\n",
      "Epoch 156: Current LR = 0.000125\n",
      "Epoch 155 | Train Loss: 0.008575 | Test Loss: 0.008430\n",
      "Epoch 157: Current LR = 0.000125\n",
      "Epoch 156 | Train Loss: 0.008520 | Test Loss: 0.008388\n",
      "Epoch 158: Current LR = 0.000125\n",
      "Epoch 157 | Train Loss: 0.008487 | Test Loss: 0.008350\n",
      "Epoch 159: Current LR = 0.000125\n",
      "Epoch 158 | Train Loss: 0.008468 | Test Loss: 0.008311\n",
      "Epoch 160: Current LR = 0.000125\n",
      "Epoch 159 | Train Loss: 0.008431 | Test Loss: 0.008277\n",
      "Epoch 161: Current LR = 0.000125\n",
      "Epoch 160 | Train Loss: 0.008403 | Test Loss: 0.008245\n",
      "Epoch 162: Current LR = 0.000125\n",
      "Epoch 161 | Train Loss: 0.008372 | Test Loss: 0.008212\n",
      "Epoch 163: Current LR = 0.000125\n",
      "Epoch 162 | Train Loss: 0.008340 | Test Loss: 0.008182\n",
      "Epoch 164: Current LR = 0.000125\n",
      "Epoch 163 | Train Loss: 0.008292 | Test Loss: 0.008151\n",
      "Epoch 165: Current LR = 0.000125\n",
      "Epoch 164 | Train Loss: 0.008269 | Test Loss: 0.008124\n",
      "Epoch 166: Current LR = 0.000125\n",
      "Epoch 165 | Train Loss: 0.008251 | Test Loss: 0.008096\n",
      "Epoch 167: Current LR = 0.000125\n",
      "Epoch 166 | Train Loss: 0.008240 | Test Loss: 0.008067\n",
      "Epoch 168: Current LR = 0.000125\n",
      "Epoch 167 | Train Loss: 0.008206 | Test Loss: 0.008041\n",
      "Epoch 169: Current LR = 0.000125\n",
      "Epoch 168 | Train Loss: 0.008180 | Test Loss: 0.008019\n",
      "Epoch 170: Current LR = 0.000125\n",
      "Epoch 169 | Train Loss: 0.008158 | Test Loss: 0.007995\n",
      "Epoch 171: Current LR = 0.000125\n",
      "Epoch 170 | Train Loss: 0.008134 | Test Loss: 0.007971\n",
      "Epoch 172: Current LR = 0.000125\n",
      "Epoch 171 | Train Loss: 0.008107 | Test Loss: 0.007949\n",
      "Epoch 173: Current LR = 0.000125\n",
      "Epoch 172 | Train Loss: 0.008089 | Test Loss: 0.007929\n",
      "Epoch 174: Current LR = 0.000125\n",
      "Epoch 173 | Train Loss: 0.008083 | Test Loss: 0.007906\n",
      "Epoch 175: Current LR = 0.000125\n",
      "Epoch 174 | Train Loss: 0.008060 | Test Loss: 0.007887\n",
      "Epoch 176: Current LR = 0.000125\n",
      "Epoch 175 | Train Loss: 0.008048 | Test Loss: 0.007868\n",
      "Epoch 177: Current LR = 0.000125\n",
      "Epoch 176 | Train Loss: 0.008012 | Test Loss: 0.007849\n",
      "Epoch 178: Current LR = 0.000125\n",
      "Epoch 177 | Train Loss: 0.007991 | Test Loss: 0.007832\n",
      "Epoch 179: Current LR = 0.000125\n",
      "Epoch 178 | Train Loss: 0.007986 | Test Loss: 0.007815\n",
      "Epoch 180: Current LR = 0.000125\n",
      "Epoch 179 | Train Loss: 0.007961 | Test Loss: 0.007798\n",
      "Epoch 181: Current LR = 0.000125\n",
      "Epoch 180 | Train Loss: 0.007954 | Test Loss: 0.007785\n",
      "Epoch 182: Current LR = 0.000125\n",
      "Epoch 181 | Train Loss: 0.007950 | Test Loss: 0.007771\n",
      "Epoch 183: Current LR = 0.000125\n",
      "Epoch 182 | Train Loss: 0.007912 | Test Loss: 0.007751\n",
      "Epoch 184: Current LR = 0.000125\n",
      "Epoch 183 | Train Loss: 0.007901 | Test Loss: 0.007736\n",
      "Epoch 185: Current LR = 0.000125\n",
      "Epoch 184 | Train Loss: 0.007884 | Test Loss: 0.007717\n",
      "Epoch 186: Current LR = 0.000125\n",
      "Epoch 185 | Train Loss: 0.007878 | Test Loss: 0.007708\n",
      "Epoch 187: Current LR = 0.000125\n",
      "Epoch 186 | Train Loss: 0.007875 | Test Loss: 0.007696\n",
      "Epoch 188: Current LR = 0.000125\n",
      "Epoch 187 | Train Loss: 0.007868 | Test Loss: 0.007673\n",
      "Epoch 189: Current LR = 0.000125\n",
      "Epoch 188 | Train Loss: 0.007863 | Test Loss: 0.007663\n",
      "Epoch 190: Current LR = 0.000125\n",
      "Epoch 189 | Train Loss: 0.007822 | Test Loss: 0.007657\n",
      "Epoch 191: Current LR = 0.000125\n",
      "Epoch 190 | Train Loss: 0.007838 | Test Loss: 0.007637\n",
      "Epoch 192: Current LR = 0.000125\n",
      "Epoch 191 | Train Loss: 0.007801 | Test Loss: 0.007627\n",
      "Epoch 193: Current LR = 0.000125\n",
      "Epoch 192 | Train Loss: 0.007810 | Test Loss: 0.007624\n",
      "Epoch 194: Current LR = 0.000125\n",
      "Epoch 193 | Train Loss: 0.007794 | Test Loss: 0.007607\n",
      "Epoch 195: Current LR = 0.000125\n",
      "Epoch 194 | Train Loss: 0.007792 | Test Loss: 0.007595\n",
      "Epoch 196: Current LR = 0.000125\n",
      "Epoch 195 | Train Loss: 0.007762 | Test Loss: 0.007588\n",
      "Epoch 197: Current LR = 0.000125\n",
      "Epoch 196 | Train Loss: 0.007775 | Test Loss: 0.007575\n",
      "Epoch 198: Current LR = 0.000125\n",
      "Epoch 197 | Train Loss: 0.007763 | Test Loss: 0.007575\n",
      "Epoch 199: Current LR = 0.000125\n",
      "Epoch 198 | Train Loss: 0.007747 | Test Loss: 0.007569\n",
      "Epoch 200: Current LR = 0.000125\n",
      "Epoch 199 | Train Loss: 0.007752 | Test Loss: 0.007548\n",
      "Epoch 201: Current LR = 0.000125\n",
      "Epoch 200 | Train Loss: 0.007742 | Test Loss: 0.007537\n",
      "Epoch 202: Current LR = 0.000125\n",
      "Epoch 201 | Train Loss: 0.007732 | Test Loss: 0.007533\n",
      "Epoch 203: Current LR = 0.000125\n",
      "Epoch 202 | Train Loss: 0.007726 | Test Loss: 0.007518\n",
      "Epoch 204: Current LR = 0.000125\n",
      "Epoch 203 | Train Loss: 0.007730 | Test Loss: 0.007514\n",
      "Epoch 205: Current LR = 0.000125\n",
      "Epoch 204 | Train Loss: 0.007708 | Test Loss: 0.007513\n",
      "Epoch 206: Current LR = 0.000125\n",
      "Epoch 205 | Train Loss: 0.007687 | Test Loss: 0.007497\n",
      "Epoch 207: Current LR = 0.000125\n",
      "Epoch 206 | Train Loss: 0.007683 | Test Loss: 0.007488\n",
      "Epoch 208: Current LR = 0.000125\n",
      "Epoch 207 | Train Loss: 0.007682 | Test Loss: 0.007484\n",
      "Epoch 209: Current LR = 0.000125\n",
      "Epoch 208 | Train Loss: 0.007685 | Test Loss: 0.007472\n",
      "Epoch 210: Current LR = 0.000125\n",
      "Epoch 209 | Train Loss: 0.007662 | Test Loss: 0.007476\n",
      "Epoch 211: Current LR = 0.000125\n",
      "Epoch 210 | Train Loss: 0.007685 | Test Loss: 0.007479\n",
      "Epoch 212: Current LR = 0.000125\n",
      "Epoch 211 | Train Loss: 0.007666 | Test Loss: 0.007462\n",
      "Epoch 213: Current LR = 0.000125\n",
      "Epoch 212 | Train Loss: 0.007654 | Test Loss: 0.007445\n",
      "Epoch 214: Current LR = 0.000125\n",
      "Epoch 213 | Train Loss: 0.007637 | Test Loss: 0.007438\n",
      "Epoch 215: Current LR = 0.000125\n",
      "Epoch 214 | Train Loss: 0.007631 | Test Loss: 0.007427\n",
      "Epoch 216: Current LR = 0.000125\n",
      "Epoch 215 | Train Loss: 0.007615 | Test Loss: 0.007429\n",
      "Epoch 217: Current LR = 0.000125\n",
      "Epoch 216 | Train Loss: 0.007625 | Test Loss: 0.007426\n",
      "Epoch 218: Current LR = 0.000125\n",
      "Epoch 217 | Train Loss: 0.007634 | Test Loss: 0.007407\n",
      "Epoch 219: Current LR = 0.000125\n",
      "Epoch 218 | Train Loss: 0.007623 | Test Loss: 0.007396\n",
      "Epoch 220: Current LR = 0.000125\n",
      "Epoch 219 | Train Loss: 0.007591 | Test Loss: 0.007392\n",
      "Epoch 221: Current LR = 0.000125\n",
      "Epoch 220 | Train Loss: 0.007596 | Test Loss: 0.007380\n",
      "Epoch 222: Current LR = 0.000125\n",
      "Epoch 221 | Train Loss: 0.007585 | Test Loss: 0.007382\n",
      "Epoch 223: Current LR = 0.000125\n",
      "Epoch 222 | Train Loss: 0.007593 | Test Loss: 0.007384\n",
      "Epoch 224: Current LR = 0.000125\n",
      "Epoch 223 | Train Loss: 0.007588 | Test Loss: 0.007368\n",
      "Epoch 225: Current LR = 0.000125\n",
      "Epoch 224 | Train Loss: 0.007570 | Test Loss: 0.007353\n",
      "Epoch 226: Current LR = 0.000125\n",
      "Epoch 225 | Train Loss: 0.007571 | Test Loss: 0.007348\n",
      "Epoch 227: Current LR = 0.000125\n",
      "Epoch 226 | Train Loss: 0.007561 | Test Loss: 0.007340\n",
      "Epoch 228: Current LR = 0.000125\n",
      "Epoch 227 | Train Loss: 0.007550 | Test Loss: 0.007332\n",
      "Epoch 229: Current LR = 0.000125\n",
      "Epoch 228 | Train Loss: 0.007525 | Test Loss: 0.007322\n",
      "Epoch 230: Current LR = 0.000125\n",
      "Epoch 229 | Train Loss: 0.007538 | Test Loss: 0.007312\n",
      "Epoch 231: Current LR = 0.000125\n",
      "Epoch 230 | Train Loss: 0.007524 | Test Loss: 0.007312\n",
      "Epoch 232: Current LR = 0.000125\n",
      "Epoch 231 | Train Loss: 0.007547 | Test Loss: 0.007304\n",
      "Epoch 233: Current LR = 0.000125\n",
      "Epoch 232 | Train Loss: 0.007518 | Test Loss: 0.007285\n",
      "Epoch 234: Current LR = 0.000125\n",
      "Epoch 233 | Train Loss: 0.007502 | Test Loss: 0.007283\n",
      "Epoch 235: Current LR = 0.000125\n",
      "Epoch 234 | Train Loss: 0.007491 | Test Loss: 0.007285\n",
      "Epoch 236: Current LR = 0.000125\n",
      "Epoch 235 | Train Loss: 0.007508 | Test Loss: 0.007267\n",
      "Epoch 237: Current LR = 0.000125\n",
      "Epoch 236 | Train Loss: 0.007490 | Test Loss: 0.007252\n",
      "Epoch 238: Current LR = 0.000125\n",
      "Epoch 237 | Train Loss: 0.007480 | Test Loss: 0.007249\n",
      "Epoch 239: Current LR = 0.000125\n",
      "Epoch 238 | Train Loss: 0.007491 | Test Loss: 0.007238\n",
      "Epoch 240: Current LR = 0.000125\n",
      "Epoch 239 | Train Loss: 0.007478 | Test Loss: 0.007234\n",
      "Epoch 241: Current LR = 0.000125\n",
      "Epoch 240 | Train Loss: 0.007456 | Test Loss: 0.007229\n",
      "Epoch 242: Current LR = 0.000125\n",
      "Epoch 241 | Train Loss: 0.007481 | Test Loss: 0.007215\n",
      "Epoch 243: Current LR = 0.000125\n",
      "Epoch 242 | Train Loss: 0.007445 | Test Loss: 0.007224\n",
      "Epoch 244: Current LR = 0.000125\n",
      "Epoch 243 | Train Loss: 0.007458 | Test Loss: 0.007232\n",
      "Epoch 245: Current LR = 0.000125\n",
      "Epoch 244 | Train Loss: 0.007478 | Test Loss: 0.007215\n",
      "Epoch 246: Current LR = 0.000125\n",
      "Epoch 245 | Train Loss: 0.007440 | Test Loss: 0.007191\n",
      "Epoch 247: Current LR = 0.000125\n",
      "Epoch 246 | Train Loss: 0.007421 | Test Loss: 0.007202\n",
      "Epoch 248: Current LR = 0.000125\n",
      "Epoch 247 | Train Loss: 0.007452 | Test Loss: 0.007216\n",
      "Epoch 249: Current LR = 0.000125\n",
      "Epoch 248 | Train Loss: 0.007458 | Test Loss: 0.007199\n",
      "Epoch 250: Current LR = 0.000125\n",
      "Epoch 249 | Train Loss: 0.007445 | Test Loss: 0.007168\n",
      "Epoch 251: Current LR = 0.000125\n",
      "Epoch 250 | Train Loss: 0.007392 | Test Loss: 0.007172\n",
      "Epoch 252: Current LR = 0.000125\n",
      "Epoch 251 | Train Loss: 0.007400 | Test Loss: 0.007193\n",
      "Epoch 253: Current LR = 0.000125\n",
      "Epoch 252 | Train Loss: 0.007436 | Test Loss: 0.007186\n",
      "Epoch 254: Current LR = 0.000125\n",
      "Epoch 253 | Train Loss: 0.007420 | Test Loss: 0.007156\n",
      "Epoch 255: Current LR = 0.000125\n",
      "Epoch 254 | Train Loss: 0.007378 | Test Loss: 0.007144\n",
      "Epoch 256: Current LR = 0.000125\n",
      "Epoch 255 | Train Loss: 0.007370 | Test Loss: 0.007150\n",
      "Epoch 257: Current LR = 0.000125\n",
      "Epoch 256 | Train Loss: 0.007378 | Test Loss: 0.007140\n",
      "Epoch 258: Current LR = 0.000125\n",
      "Epoch 257 | Train Loss: 0.007392 | Test Loss: 0.007131\n",
      "Epoch 259: Current LR = 0.000125\n",
      "Epoch 258 | Train Loss: 0.007365 | Test Loss: 0.007130\n",
      "Epoch 260: Current LR = 0.000125\n",
      "Epoch 259 | Train Loss: 0.007371 | Test Loss: 0.007122\n",
      "Epoch 261: Current LR = 0.000125\n",
      "Epoch 260 | Train Loss: 0.007344 | Test Loss: 0.007122\n",
      "Epoch 262: Current LR = 0.000125\n",
      "Epoch 261 | Train Loss: 0.007370 | Test Loss: 0.007118\n",
      "Epoch 263: Current LR = 0.000125\n",
      "Epoch 262 | Train Loss: 0.007348 | Test Loss: 0.007105\n",
      "Epoch 264: Current LR = 0.000125\n",
      "Epoch 263 | Train Loss: 0.007354 | Test Loss: 0.007116\n",
      "Epoch 265: Current LR = 0.000125\n",
      "Epoch 264 | Train Loss: 0.007357 | Test Loss: 0.007126\n",
      "Epoch 266: Current LR = 0.000125\n",
      "Epoch 265 | Train Loss: 0.007380 | Test Loss: 0.007108\n",
      "Epoch 267: Current LR = 0.000125\n",
      "Epoch 266 | Train Loss: 0.007345 | Test Loss: 0.007085\n",
      "Epoch 268: Current LR = 0.000125\n",
      "Epoch 267 | Train Loss: 0.007350 | Test Loss: 0.007091\n",
      "Epoch 269: Current LR = 0.000125\n",
      "Epoch 268 | Train Loss: 0.007340 | Test Loss: 0.007096\n",
      "Epoch 270: Current LR = 0.000125\n",
      "Epoch 269 | Train Loss: 0.007356 | Test Loss: 0.007077\n",
      "Epoch 271: Current LR = 0.000125\n",
      "Epoch 270 | Train Loss: 0.007328 | Test Loss: 0.007060\n",
      "Epoch 272: Current LR = 0.000125\n",
      "Epoch 271 | Train Loss: 0.007298 | Test Loss: 0.007081\n",
      "Epoch 273: Current LR = 0.000125\n",
      "Epoch 272 | Train Loss: 0.007340 | Test Loss: 0.007096\n",
      "Epoch 274: Current LR = 0.000125\n",
      "Epoch 273 | Train Loss: 0.007340 | Test Loss: 0.007077\n",
      "Epoch 275: Current LR = 0.000125\n",
      "Epoch 274 | Train Loss: 0.007328 | Test Loss: 0.007041\n",
      "Epoch 276: Current LR = 0.000125\n",
      "Epoch 275 | Train Loss: 0.007291 | Test Loss: 0.007038\n",
      "Epoch 277: Current LR = 0.000125\n",
      "Epoch 276 | Train Loss: 0.007295 | Test Loss: 0.007056\n",
      "Epoch 278: Current LR = 0.000125\n",
      "Epoch 277 | Train Loss: 0.007312 | Test Loss: 0.007049\n",
      "Epoch 279: Current LR = 0.000125\n",
      "Epoch 278 | Train Loss: 0.007306 | Test Loss: 0.007022\n",
      "Epoch 280: Current LR = 0.000125\n",
      "Epoch 279 | Train Loss: 0.007274 | Test Loss: 0.007016\n",
      "Epoch 281: Current LR = 0.000125\n",
      "Epoch 280 | Train Loss: 0.007275 | Test Loss: 0.007024\n",
      "Epoch 282: Current LR = 0.000125\n",
      "Epoch 281 | Train Loss: 0.007272 | Test Loss: 0.007013\n",
      "Epoch 283: Current LR = 0.000125\n",
      "Epoch 282 | Train Loss: 0.007257 | Test Loss: 0.006998\n",
      "Epoch 284: Current LR = 0.000125\n",
      "Epoch 283 | Train Loss: 0.007256 | Test Loss: 0.006995\n",
      "Epoch 285: Current LR = 0.000125\n",
      "Epoch 284 | Train Loss: 0.007243 | Test Loss: 0.006990\n",
      "Epoch 286: Current LR = 0.000125\n",
      "Epoch 285 | Train Loss: 0.007256 | Test Loss: 0.006984\n",
      "Epoch 287: Current LR = 0.000125\n",
      "Epoch 286 | Train Loss: 0.007232 | Test Loss: 0.006983\n",
      "Epoch 288: Current LR = 0.000125\n",
      "Epoch 287 | Train Loss: 0.007221 | Test Loss: 0.006975\n",
      "Epoch 289: Current LR = 0.000125\n",
      "Epoch 288 | Train Loss: 0.007207 | Test Loss: 0.006969\n",
      "Epoch 290: Current LR = 0.000125\n",
      "Epoch 289 | Train Loss: 0.007220 | Test Loss: 0.006965\n",
      "Epoch 291: Current LR = 0.000125\n",
      "Epoch 290 | Train Loss: 0.007215 | Test Loss: 0.006958\n",
      "Epoch 292: Current LR = 0.000125\n",
      "Epoch 291 | Train Loss: 0.007210 | Test Loss: 0.006953\n",
      "Epoch 293: Current LR = 0.000125\n",
      "Epoch 292 | Train Loss: 0.007199 | Test Loss: 0.006949\n",
      "Epoch 294: Current LR = 0.000125\n",
      "Epoch 293 | Train Loss: 0.007181 | Test Loss: 0.006943\n",
      "Epoch 295: Current LR = 0.000125\n",
      "Epoch 294 | Train Loss: 0.007188 | Test Loss: 0.006942\n",
      "Epoch 296: Current LR = 0.000125\n",
      "Epoch 295 | Train Loss: 0.007184 | Test Loss: 0.006938\n",
      "Epoch 297: Current LR = 0.000125\n",
      "Epoch 296 | Train Loss: 0.007179 | Test Loss: 0.006927\n",
      "Epoch 298: Current LR = 0.000125\n",
      "Epoch 297 | Train Loss: 0.007180 | Test Loss: 0.006922\n",
      "Epoch 299: Current LR = 0.000125\n",
      "Epoch 298 | Train Loss: 0.007171 | Test Loss: 0.006922\n",
      "Epoch 300: Current LR = 0.000125\n",
      "Epoch 299 | Train Loss: 0.007192 | Test Loss: 0.006914\n",
      "Epoch 301: Current LR = 0.000125\n",
      "Epoch 300 | Train Loss: 0.007156 | Test Loss: 0.006907\n",
      "Epoch 302: Current LR = 0.000125\n",
      "Epoch 301 | Train Loss: 0.007161 | Test Loss: 0.006902\n",
      "Epoch 303: Current LR = 0.000125\n",
      "Epoch 302 | Train Loss: 0.007138 | Test Loss: 0.006898\n",
      "Epoch 304: Current LR = 0.000125\n",
      "Epoch 303 | Train Loss: 0.007164 | Test Loss: 0.006893\n",
      "Epoch 305: Current LR = 0.000125\n",
      "Epoch 304 | Train Loss: 0.007148 | Test Loss: 0.006887\n",
      "Epoch 306: Current LR = 0.000125\n",
      "Epoch 305 | Train Loss: 0.007140 | Test Loss: 0.006882\n",
      "Epoch 307: Current LR = 0.000125\n",
      "Epoch 306 | Train Loss: 0.007132 | Test Loss: 0.006883\n",
      "Epoch 308: Current LR = 0.000125\n",
      "Epoch 307 | Train Loss: 0.007131 | Test Loss: 0.006880\n",
      "Epoch 309: Current LR = 0.000125\n",
      "Epoch 308 | Train Loss: 0.007146 | Test Loss: 0.006869\n",
      "Epoch 310: Current LR = 0.000125\n",
      "Epoch 309 | Train Loss: 0.007126 | Test Loss: 0.006864\n",
      "Epoch 311: Current LR = 0.000125\n",
      "Epoch 310 | Train Loss: 0.007134 | Test Loss: 0.006866\n",
      "Epoch 312: Current LR = 0.000125\n",
      "Epoch 311 | Train Loss: 0.007098 | Test Loss: 0.006859\n",
      "Epoch 313: Current LR = 0.000125\n",
      "Epoch 312 | Train Loss: 0.007113 | Test Loss: 0.006848\n",
      "Epoch 314: Current LR = 0.000125\n",
      "Epoch 313 | Train Loss: 0.007107 | Test Loss: 0.006843\n",
      "Epoch 315: Current LR = 0.000125\n",
      "Epoch 314 | Train Loss: 0.007095 | Test Loss: 0.006843\n",
      "Epoch 316: Current LR = 0.000125\n",
      "Epoch 315 | Train Loss: 0.007088 | Test Loss: 0.006837\n",
      "Epoch 317: Current LR = 0.000125\n",
      "Epoch 316 | Train Loss: 0.007081 | Test Loss: 0.006829\n",
      "Epoch 318: Current LR = 0.000125\n",
      "Epoch 317 | Train Loss: 0.007103 | Test Loss: 0.006824\n",
      "Epoch 319: Current LR = 0.000125\n",
      "Epoch 318 | Train Loss: 0.007091 | Test Loss: 0.006823\n",
      "Epoch 320: Current LR = 0.000125\n",
      "Epoch 319 | Train Loss: 0.007075 | Test Loss: 0.006818\n",
      "Epoch 321: Current LR = 0.000125\n",
      "Epoch 320 | Train Loss: 0.007060 | Test Loss: 0.006811\n",
      "Epoch 322: Current LR = 0.000125\n",
      "Epoch 321 | Train Loss: 0.007045 | Test Loss: 0.006806\n",
      "Epoch 323: Current LR = 0.000125\n",
      "Epoch 322 | Train Loss: 0.007048 | Test Loss: 0.006806\n",
      "Epoch 324: Current LR = 0.000125\n",
      "Epoch 323 | Train Loss: 0.007068 | Test Loss: 0.006801\n",
      "Epoch 325: Current LR = 0.000125\n",
      "Epoch 324 | Train Loss: 0.007059 | Test Loss: 0.006793\n",
      "Epoch 326: Current LR = 0.000125\n",
      "Epoch 325 | Train Loss: 0.007058 | Test Loss: 0.006789\n",
      "Epoch 327: Current LR = 0.000125\n",
      "Epoch 326 | Train Loss: 0.007041 | Test Loss: 0.006790\n",
      "Epoch 328: Current LR = 0.000125\n",
      "Epoch 327 | Train Loss: 0.007043 | Test Loss: 0.006786\n",
      "Epoch 329: Current LR = 0.000125\n",
      "Epoch 328 | Train Loss: 0.007050 | Test Loss: 0.006776\n",
      "Epoch 330: Current LR = 0.000125\n",
      "Epoch 329 | Train Loss: 0.007024 | Test Loss: 0.006772\n",
      "Epoch 331: Current LR = 0.000125\n",
      "Epoch 330 | Train Loss: 0.007045 | Test Loss: 0.006774\n",
      "Epoch 332: Current LR = 0.000125\n",
      "Epoch 331 | Train Loss: 0.007023 | Test Loss: 0.006770\n",
      "Epoch 333: Current LR = 0.000125\n",
      "Epoch 332 | Train Loss: 0.007023 | Test Loss: 0.006760\n",
      "Epoch 334: Current LR = 0.000125\n",
      "Epoch 333 | Train Loss: 0.007017 | Test Loss: 0.006755\n",
      "Epoch 335: Current LR = 0.000125\n",
      "Epoch 334 | Train Loss: 0.007001 | Test Loss: 0.006758\n",
      "Epoch 336: Current LR = 0.000125\n",
      "Epoch 335 | Train Loss: 0.006997 | Test Loss: 0.006753\n",
      "Epoch 337: Current LR = 0.000125\n",
      "Epoch 336 | Train Loss: 0.007001 | Test Loss: 0.006742\n",
      "Epoch 338: Current LR = 0.000125\n",
      "Epoch 337 | Train Loss: 0.006989 | Test Loss: 0.006738\n",
      "Epoch 339: Current LR = 0.000125\n",
      "Epoch 338 | Train Loss: 0.006983 | Test Loss: 0.006741\n",
      "Epoch 340: Current LR = 0.000125\n",
      "Epoch 339 | Train Loss: 0.006999 | Test Loss: 0.006735\n",
      "Epoch 341: Current LR = 0.000125\n",
      "Epoch 340 | Train Loss: 0.006976 | Test Loss: 0.006725\n",
      "Epoch 342: Current LR = 0.000125\n",
      "Epoch 341 | Train Loss: 0.006996 | Test Loss: 0.006720\n",
      "Epoch 343: Current LR = 0.000125\n",
      "Epoch 342 | Train Loss: 0.006956 | Test Loss: 0.006723\n",
      "Epoch 344: Current LR = 0.000125\n",
      "Epoch 343 | Train Loss: 0.006979 | Test Loss: 0.006717\n",
      "Epoch 345: Current LR = 0.000125\n",
      "Epoch 344 | Train Loss: 0.006967 | Test Loss: 0.006706\n",
      "Epoch 346: Current LR = 0.000125\n",
      "Epoch 345 | Train Loss: 0.006976 | Test Loss: 0.006701\n",
      "Epoch 347: Current LR = 0.000125\n",
      "Epoch 346 | Train Loss: 0.006961 | Test Loss: 0.006702\n",
      "Epoch 348: Current LR = 0.000125\n",
      "Epoch 347 | Train Loss: 0.006965 | Test Loss: 0.006696\n",
      "Epoch 349: Current LR = 0.000125\n",
      "Epoch 348 | Train Loss: 0.006938 | Test Loss: 0.006687\n",
      "Epoch 350: Current LR = 0.000125\n",
      "Epoch 349 | Train Loss: 0.006949 | Test Loss: 0.006682\n",
      "Epoch 351: Current LR = 0.000125\n",
      "Epoch 350 | Train Loss: 0.006934 | Test Loss: 0.006680\n",
      "Epoch 352: Current LR = 0.000125\n",
      "Epoch 351 | Train Loss: 0.006937 | Test Loss: 0.006675\n",
      "Epoch 353: Current LR = 0.000125\n",
      "Epoch 352 | Train Loss: 0.006923 | Test Loss: 0.006669\n",
      "Epoch 354: Current LR = 0.000125\n",
      "Epoch 353 | Train Loss: 0.006931 | Test Loss: 0.006664\n",
      "Epoch 355: Current LR = 0.000125\n",
      "Epoch 354 | Train Loss: 0.006915 | Test Loss: 0.006662\n",
      "Epoch 356: Current LR = 0.000125\n",
      "Epoch 355 | Train Loss: 0.006945 | Test Loss: 0.006658\n",
      "Epoch 357: Current LR = 0.000125\n",
      "Epoch 356 | Train Loss: 0.006899 | Test Loss: 0.006651\n",
      "Epoch 358: Current LR = 0.000125\n",
      "Epoch 357 | Train Loss: 0.006911 | Test Loss: 0.006646\n",
      "Epoch 359: Current LR = 0.000125\n",
      "Epoch 358 | Train Loss: 0.006903 | Test Loss: 0.006648\n",
      "Epoch 360: Current LR = 0.000125\n",
      "Epoch 359 | Train Loss: 0.006891 | Test Loss: 0.006643\n",
      "Epoch 361: Current LR = 0.000125\n",
      "Epoch 360 | Train Loss: 0.006896 | Test Loss: 0.006634\n",
      "Epoch 362: Current LR = 0.000125\n",
      "Epoch 361 | Train Loss: 0.006889 | Test Loss: 0.006629\n",
      "Epoch 363: Current LR = 0.000125\n",
      "Epoch 362 | Train Loss: 0.006897 | Test Loss: 0.006631\n",
      "Epoch 364: Current LR = 0.000125\n",
      "Epoch 363 | Train Loss: 0.006875 | Test Loss: 0.006625\n",
      "Epoch 365: Current LR = 0.000125\n",
      "Epoch 364 | Train Loss: 0.006882 | Test Loss: 0.006615\n",
      "Epoch 366: Current LR = 0.000125\n",
      "Epoch 365 | Train Loss: 0.006884 | Test Loss: 0.006610\n",
      "Epoch 367: Current LR = 0.000125\n",
      "Epoch 366 | Train Loss: 0.006862 | Test Loss: 0.006611\n",
      "Epoch 368: Current LR = 0.000125\n",
      "Epoch 367 | Train Loss: 0.006853 | Test Loss: 0.006606\n",
      "Epoch 369: Current LR = 0.000125\n",
      "Epoch 368 | Train Loss: 0.006848 | Test Loss: 0.006597\n",
      "Epoch 370: Current LR = 0.000125\n",
      "Epoch 369 | Train Loss: 0.006827 | Test Loss: 0.006592\n",
      "Epoch 371: Current LR = 0.000125\n",
      "Epoch 370 | Train Loss: 0.006844 | Test Loss: 0.006592\n",
      "Epoch 372: Current LR = 0.000125\n",
      "Epoch 371 | Train Loss: 0.006841 | Test Loss: 0.006587\n",
      "Epoch 373: Current LR = 0.000125\n",
      "Epoch 372 | Train Loss: 0.006850 | Test Loss: 0.006579\n",
      "Epoch 374: Current LR = 0.000125\n",
      "Epoch 373 | Train Loss: 0.006837 | Test Loss: 0.006574\n",
      "Epoch 375: Current LR = 0.000125\n",
      "Epoch 374 | Train Loss: 0.006834 | Test Loss: 0.006574\n",
      "Epoch 376: Current LR = 0.000125\n",
      "Epoch 375 | Train Loss: 0.006815 | Test Loss: 0.006569\n",
      "Epoch 377: Current LR = 0.000125\n",
      "Epoch 376 | Train Loss: 0.006805 | Test Loss: 0.006561\n",
      "Epoch 378: Current LR = 0.000125\n",
      "Epoch 377 | Train Loss: 0.006827 | Test Loss: 0.006556\n",
      "Epoch 379: Current LR = 0.000125\n",
      "Epoch 378 | Train Loss: 0.006819 | Test Loss: 0.006558\n",
      "Epoch 380: Current LR = 0.000125\n",
      "Epoch 379 | Train Loss: 0.006810 | Test Loss: 0.006553\n",
      "Epoch 381: Current LR = 0.000125\n",
      "Epoch 380 | Train Loss: 0.006807 | Test Loss: 0.006543\n",
      "Epoch 382: Current LR = 0.000125\n",
      "Epoch 381 | Train Loss: 0.006786 | Test Loss: 0.006538\n",
      "Epoch 383: Current LR = 0.000125\n",
      "Epoch 382 | Train Loss: 0.006797 | Test Loss: 0.006541\n",
      "Epoch 384: Current LR = 0.000125\n",
      "Epoch 383 | Train Loss: 0.006795 | Test Loss: 0.006536\n",
      "Epoch 385: Current LR = 0.000125\n",
      "Epoch 384 | Train Loss: 0.006773 | Test Loss: 0.006525\n",
      "Epoch 386: Current LR = 0.000125\n",
      "Epoch 385 | Train Loss: 0.006769 | Test Loss: 0.006520\n",
      "Epoch 387: Current LR = 0.000125\n",
      "Epoch 386 | Train Loss: 0.006761 | Test Loss: 0.006522\n",
      "Epoch 388: Current LR = 0.000125\n",
      "Epoch 387 | Train Loss: 0.006789 | Test Loss: 0.006516\n",
      "Epoch 389: Current LR = 0.000125\n",
      "Epoch 388 | Train Loss: 0.006752 | Test Loss: 0.006505\n",
      "Epoch 390: Current LR = 0.000125\n",
      "Epoch 389 | Train Loss: 0.006757 | Test Loss: 0.006500\n",
      "Epoch 391: Current LR = 0.000125\n",
      "Epoch 390 | Train Loss: 0.006745 | Test Loss: 0.006501\n",
      "Epoch 392: Current LR = 0.000125\n",
      "Epoch 391 | Train Loss: 0.006752 | Test Loss: 0.006495\n",
      "Epoch 393: Current LR = 0.000125\n",
      "Epoch 392 | Train Loss: 0.006761 | Test Loss: 0.006486\n",
      "Epoch 394: Current LR = 0.000125\n",
      "Epoch 393 | Train Loss: 0.006749 | Test Loss: 0.006481\n",
      "Epoch 395: Current LR = 0.000125\n",
      "Epoch 394 | Train Loss: 0.006740 | Test Loss: 0.006482\n",
      "Epoch 396: Current LR = 0.000125\n",
      "Epoch 395 | Train Loss: 0.006736 | Test Loss: 0.006477\n",
      "Epoch 397: Current LR = 0.000125\n",
      "Epoch 396 | Train Loss: 0.006723 | Test Loss: 0.006467\n",
      "Epoch 398: Current LR = 0.000125\n",
      "Epoch 397 | Train Loss: 0.006721 | Test Loss: 0.006463\n",
      "Epoch 399: Current LR = 0.000125\n",
      "Epoch 398 | Train Loss: 0.006699 | Test Loss: 0.006465\n",
      "Epoch 400: Current LR = 0.000125\n",
      "Epoch 399 | Train Loss: 0.006689 | Test Loss: 0.006460\n",
      "Epoch 401: Current LR = 0.000125\n",
      "Epoch 400 | Train Loss: 0.006710 | Test Loss: 0.006449\n",
      "Epoch 402: Current LR = 0.000125\n",
      "Epoch 401 | Train Loss: 0.006695 | Test Loss: 0.006444\n",
      "Epoch 403: Current LR = 0.000125\n",
      "Epoch 402 | Train Loss: 0.006707 | Test Loss: 0.006447\n",
      "Epoch 404: Current LR = 0.000125\n",
      "Epoch 403 | Train Loss: 0.006698 | Test Loss: 0.006441\n",
      "Epoch 405: Current LR = 0.000125\n",
      "Epoch 404 | Train Loss: 0.006700 | Test Loss: 0.006430\n",
      "Epoch 406: Current LR = 0.000125\n",
      "Epoch 405 | Train Loss: 0.006699 | Test Loss: 0.006425\n",
      "Epoch 407: Current LR = 0.000125\n",
      "Epoch 406 | Train Loss: 0.006684 | Test Loss: 0.006427\n",
      "Epoch 408: Current LR = 0.000125\n",
      "Epoch 407 | Train Loss: 0.006661 | Test Loss: 0.006421\n",
      "Epoch 409: Current LR = 0.000125\n",
      "Epoch 408 | Train Loss: 0.006669 | Test Loss: 0.006412\n",
      "Epoch 410: Current LR = 0.000125\n",
      "Epoch 409 | Train Loss: 0.006683 | Test Loss: 0.006407\n",
      "Epoch 411: Current LR = 0.000125\n",
      "Epoch 410 | Train Loss: 0.006667 | Test Loss: 0.006409\n",
      "Epoch 412: Current LR = 0.000125\n",
      "Epoch 411 | Train Loss: 0.006659 | Test Loss: 0.006404\n",
      "Epoch 413: Current LR = 0.000125\n",
      "Epoch 412 | Train Loss: 0.006662 | Test Loss: 0.006393\n",
      "Epoch 414: Current LR = 0.000125\n",
      "Epoch 413 | Train Loss: 0.006660 | Test Loss: 0.006388\n",
      "Epoch 415: Current LR = 0.000125\n",
      "Epoch 414 | Train Loss: 0.006644 | Test Loss: 0.006390\n",
      "Epoch 416: Current LR = 0.000125\n",
      "Epoch 415 | Train Loss: 0.006647 | Test Loss: 0.006385\n",
      "Epoch 417: Current LR = 0.000125\n",
      "Epoch 416 | Train Loss: 0.006624 | Test Loss: 0.006374\n",
      "Epoch 418: Current LR = 0.000125\n",
      "Epoch 417 | Train Loss: 0.006629 | Test Loss: 0.006369\n",
      "Epoch 419: Current LR = 0.000125\n",
      "Epoch 418 | Train Loss: 0.006623 | Test Loss: 0.006370\n",
      "Epoch 420: Current LR = 0.000125\n",
      "Epoch 419 | Train Loss: 0.006634 | Test Loss: 0.006365\n",
      "Epoch 421: Current LR = 0.000125\n",
      "Epoch 420 | Train Loss: 0.006606 | Test Loss: 0.006354\n",
      "Epoch 422: Current LR = 0.000125\n",
      "Epoch 421 | Train Loss: 0.006625 | Test Loss: 0.006349\n",
      "Epoch 423: Current LR = 0.000125\n",
      "Epoch 422 | Train Loss: 0.006609 | Test Loss: 0.006351\n",
      "Epoch 424: Current LR = 0.000125\n",
      "Epoch 423 | Train Loss: 0.006623 | Test Loss: 0.006345\n",
      "Epoch 425: Current LR = 0.000125\n",
      "Epoch 424 | Train Loss: 0.006585 | Test Loss: 0.006335\n",
      "Epoch 426: Current LR = 0.000125\n",
      "Epoch 425 | Train Loss: 0.006592 | Test Loss: 0.006330\n",
      "Epoch 427: Current LR = 0.000125\n",
      "Epoch 426 | Train Loss: 0.006594 | Test Loss: 0.006333\n",
      "Epoch 428: Current LR = 0.000125\n",
      "Epoch 427 | Train Loss: 0.006568 | Test Loss: 0.006327\n",
      "Epoch 429: Current LR = 0.000125\n",
      "Epoch 428 | Train Loss: 0.006592 | Test Loss: 0.006315\n",
      "Epoch 430: Current LR = 0.000125\n",
      "Epoch 429 | Train Loss: 0.006583 | Test Loss: 0.006310\n",
      "Epoch 431: Current LR = 0.000125\n",
      "Epoch 430 | Train Loss: 0.006570 | Test Loss: 0.006313\n",
      "Epoch 432: Current LR = 0.000125\n",
      "Epoch 431 | Train Loss: 0.006565 | Test Loss: 0.006307\n",
      "Epoch 433: Current LR = 0.000125\n",
      "Epoch 432 | Train Loss: 0.006568 | Test Loss: 0.006296\n",
      "Epoch 434: Current LR = 0.000125\n",
      "Epoch 433 | Train Loss: 0.006553 | Test Loss: 0.006291\n",
      "Epoch 435: Current LR = 0.000125\n",
      "Epoch 434 | Train Loss: 0.006551 | Test Loss: 0.006292\n",
      "Epoch 436: Current LR = 0.000125\n",
      "Epoch 435 | Train Loss: 0.006554 | Test Loss: 0.006287\n",
      "Epoch 437: Current LR = 0.000125\n",
      "Epoch 436 | Train Loss: 0.006548 | Test Loss: 0.006277\n",
      "Epoch 438: Current LR = 0.000125\n",
      "Epoch 437 | Train Loss: 0.006529 | Test Loss: 0.006272\n",
      "Epoch 439: Current LR = 0.000125\n",
      "Epoch 438 | Train Loss: 0.006521 | Test Loss: 0.006274\n",
      "Epoch 440: Current LR = 0.000125\n",
      "Epoch 439 | Train Loss: 0.006528 | Test Loss: 0.006268\n",
      "Epoch 441: Current LR = 0.000125\n",
      "Epoch 440 | Train Loss: 0.006525 | Test Loss: 0.006258\n",
      "Epoch 442: Current LR = 0.000125\n",
      "Epoch 441 | Train Loss: 0.006516 | Test Loss: 0.006253\n",
      "Epoch 443: Current LR = 0.000125\n",
      "Epoch 442 | Train Loss: 0.006520 | Test Loss: 0.006256\n",
      "Epoch 444: Current LR = 0.000125\n",
      "Epoch 443 | Train Loss: 0.006522 | Test Loss: 0.006251\n",
      "Epoch 445: Current LR = 0.000125\n",
      "Epoch 444 | Train Loss: 0.006514 | Test Loss: 0.006239\n",
      "Epoch 446: Current LR = 0.000125\n",
      "Epoch 445 | Train Loss: 0.006489 | Test Loss: 0.006234\n",
      "Epoch 447: Current LR = 0.000125\n",
      "Epoch 446 | Train Loss: 0.006500 | Test Loss: 0.006236\n",
      "Epoch 448: Current LR = 0.000125\n",
      "Epoch 447 | Train Loss: 0.006503 | Test Loss: 0.006230\n",
      "Epoch 449: Current LR = 0.000125\n",
      "Epoch 448 | Train Loss: 0.006469 | Test Loss: 0.006219\n",
      "Epoch 450: Current LR = 0.000125\n",
      "Epoch 449 | Train Loss: 0.006480 | Test Loss: 0.006214\n",
      "Epoch 451: Current LR = 0.000125\n",
      "Epoch 450 | Train Loss: 0.006470 | Test Loss: 0.006216\n",
      "Epoch 452: Current LR = 0.000125\n",
      "Epoch 451 | Train Loss: 0.006472 | Test Loss: 0.006211\n",
      "Epoch 453: Current LR = 0.000125\n",
      "Epoch 452 | Train Loss: 0.006459 | Test Loss: 0.006200\n",
      "Epoch 454: Current LR = 0.000125\n",
      "Epoch 453 | Train Loss: 0.006446 | Test Loss: 0.006195\n",
      "Epoch 455: Current LR = 0.000125\n",
      "Epoch 454 | Train Loss: 0.006442 | Test Loss: 0.006198\n",
      "Epoch 456: Current LR = 0.000125\n",
      "Epoch 455 | Train Loss: 0.006446 | Test Loss: 0.006192\n",
      "Epoch 457: Current LR = 0.000125\n",
      "Epoch 456 | Train Loss: 0.006442 | Test Loss: 0.006180\n",
      "Epoch 458: Current LR = 0.000125\n",
      "Epoch 457 | Train Loss: 0.006439 | Test Loss: 0.006175\n",
      "Epoch 459: Current LR = 0.000125\n",
      "Epoch 458 | Train Loss: 0.006444 | Test Loss: 0.006177\n",
      "Epoch 460: Current LR = 0.000125\n",
      "Epoch 459 | Train Loss: 0.006429 | Test Loss: 0.006171\n",
      "Epoch 461: Current LR = 0.000125\n",
      "Epoch 460 | Train Loss: 0.006421 | Test Loss: 0.006159\n",
      "Epoch 462: Current LR = 0.000125\n",
      "Epoch 461 | Train Loss: 0.006414 | Test Loss: 0.006154\n",
      "Epoch 463: Current LR = 0.000125\n",
      "Epoch 462 | Train Loss: 0.006425 | Test Loss: 0.006156\n",
      "Epoch 464: Current LR = 0.000125\n",
      "Epoch 463 | Train Loss: 0.006403 | Test Loss: 0.006150\n",
      "Epoch 465: Current LR = 0.000125\n",
      "Epoch 464 | Train Loss: 0.006413 | Test Loss: 0.006138\n",
      "Epoch 466: Current LR = 0.000125\n",
      "Epoch 465 | Train Loss: 0.006402 | Test Loss: 0.006133\n",
      "Epoch 467: Current LR = 0.000125\n",
      "Epoch 466 | Train Loss: 0.006395 | Test Loss: 0.006135\n",
      "Epoch 468: Current LR = 0.000125\n",
      "Epoch 467 | Train Loss: 0.006387 | Test Loss: 0.006129\n",
      "Epoch 469: Current LR = 0.000125\n",
      "Epoch 468 | Train Loss: 0.006392 | Test Loss: 0.006118\n",
      "Epoch 470: Current LR = 0.000125\n",
      "Epoch 469 | Train Loss: 0.006389 | Test Loss: 0.006112\n",
      "Epoch 471: Current LR = 0.000125\n",
      "Epoch 470 | Train Loss: 0.006368 | Test Loss: 0.006115\n",
      "Epoch 472: Current LR = 0.000125\n",
      "Epoch 471 | Train Loss: 0.006353 | Test Loss: 0.006109\n",
      "Epoch 473: Current LR = 0.000125\n",
      "Epoch 472 | Train Loss: 0.006365 | Test Loss: 0.006097\n",
      "Epoch 474: Current LR = 0.000125\n",
      "Epoch 473 | Train Loss: 0.006343 | Test Loss: 0.006092\n",
      "Epoch 475: Current LR = 0.000125\n",
      "Epoch 474 | Train Loss: 0.006354 | Test Loss: 0.006094\n",
      "Epoch 476: Current LR = 0.000125\n",
      "Epoch 475 | Train Loss: 0.006375 | Test Loss: 0.006087\n",
      "Epoch 477: Current LR = 0.000125\n",
      "Epoch 476 | Train Loss: 0.006334 | Test Loss: 0.006076\n",
      "Epoch 478: Current LR = 0.000125\n",
      "Epoch 477 | Train Loss: 0.006325 | Test Loss: 0.006070\n",
      "Epoch 479: Current LR = 0.000125\n",
      "Epoch 478 | Train Loss: 0.006319 | Test Loss: 0.006072\n",
      "Epoch 480: Current LR = 0.000125\n",
      "Epoch 479 | Train Loss: 0.006326 | Test Loss: 0.006066\n",
      "Epoch 481: Current LR = 0.000125\n",
      "Epoch 480 | Train Loss: 0.006301 | Test Loss: 0.006055\n",
      "Epoch 482: Current LR = 0.000125\n",
      "Epoch 481 | Train Loss: 0.006321 | Test Loss: 0.006049\n",
      "Epoch 483: Current LR = 0.000125\n",
      "Epoch 482 | Train Loss: 0.006322 | Test Loss: 0.006052\n",
      "Epoch 484: Current LR = 0.000125\n",
      "Epoch 483 | Train Loss: 0.006323 | Test Loss: 0.006046\n",
      "Epoch 485: Current LR = 0.000125\n",
      "Epoch 484 | Train Loss: 0.006300 | Test Loss: 0.006034\n",
      "Epoch 486: Current LR = 0.000125\n",
      "Epoch 485 | Train Loss: 0.006292 | Test Loss: 0.006029\n",
      "Epoch 487: Current LR = 0.000125\n",
      "Epoch 486 | Train Loss: 0.006277 | Test Loss: 0.006032\n",
      "Epoch 488: Current LR = 0.000125\n",
      "Epoch 487 | Train Loss: 0.006287 | Test Loss: 0.006026\n",
      "Epoch 489: Current LR = 0.000125\n",
      "Epoch 488 | Train Loss: 0.006282 | Test Loss: 0.006014\n",
      "Epoch 490: Current LR = 0.000125\n",
      "Epoch 489 | Train Loss: 0.006270 | Test Loss: 0.006009\n",
      "Epoch 491: Current LR = 0.000125\n",
      "Epoch 490 | Train Loss: 0.006295 | Test Loss: 0.006012\n",
      "Epoch 492: Current LR = 0.000125\n",
      "Epoch 491 | Train Loss: 0.006265 | Test Loss: 0.006006\n",
      "Epoch 493: Current LR = 0.000125\n",
      "Epoch 492 | Train Loss: 0.006268 | Test Loss: 0.005993\n",
      "Epoch 494: Current LR = 0.000125\n",
      "Epoch 493 | Train Loss: 0.006262 | Test Loss: 0.005988\n",
      "Epoch 495: Current LR = 0.000125\n",
      "Epoch 494 | Train Loss: 0.006244 | Test Loss: 0.005990\n",
      "Epoch 496: Current LR = 0.000125\n",
      "Epoch 495 | Train Loss: 0.006242 | Test Loss: 0.005984\n",
      "Epoch 497: Current LR = 0.000125\n",
      "Epoch 496 | Train Loss: 0.006260 | Test Loss: 0.005972\n",
      "Epoch 498: Current LR = 0.000125\n",
      "Epoch 497 | Train Loss: 0.006224 | Test Loss: 0.005966\n",
      "Epoch 499: Current LR = 0.000125\n",
      "Epoch 498 | Train Loss: 0.006228 | Test Loss: 0.005968\n",
      "Epoch 500: Current LR = 0.000125\n",
      "Epoch 499 | Train Loss: 0.006212 | Test Loss: 0.005962\n"
     ]
    }
   ],
   "source": [
    "# 创建数据集 \n",
    "dataset = StockDataset(bk_data_ls, seq_length=16, forecast_gap=2)\n",
    "train_size = int(0.8 * len(dataset))\n",
    "train_set, test_set = torch.utils.data.random_split( \n",
    "    dataset, [train_size, len(dataset) - train_size]\n",
    ")\n",
    "\n",
    "# 数据加载器 \n",
    "train_loader = DataLoader(train_set, batch_size=100000, shuffle=True)\n",
    "test_loader = DataLoader(test_set, batch_size=100000)\n",
    "\n",
    "# 模型初始化\n",
    "device = 'cuda' if torch.cuda.is_available() else 'cpu'\n",
    "\n",
    "# 加载模型（需先实例化结构）\n",
    "model = MultiScaleAttentionLSTM(\n",
    "    input_size=7,  # 7个特征 \n",
    "    hidden_size=64,\n",
    "    num_layers_long = 3, \n",
    "    num_layers_short = 2\n",
    ").to(device)\n",
    "\n",
    "if os.path.exists('./model/model.pth'):\n",
    "    model.load_state_dict(torch.load('./model/model.pth')) \n",
    "\n",
    "# 训练参数 \n",
    "criterion = nn.MSELoss()\n",
    "grad_scaler = amp.GradScaler(device)\n",
    "optimizer = torch.optim.Adam(model.parameters(),  lr=0.001)\n",
    "scheduler = torch.optim.lr_scheduler.ReduceLROnPlateau( \n",
    "    optimizer, \n",
    "    mode='min',       # 监控验证损失\n",
    "    factor=0.5,       # 学习率衰减系数 \n",
    "    patience=5,       # 容忍5个epoch无改善\n",
    ")\n",
    "\n",
    "# ===== 4. 训练循环 =====\n",
    "for epoch in range(500):\n",
    "    model.train() \n",
    "    train_loss = 0 \n",
    "    for X_batch, y_batch in train_loader:\n",
    "        X_batch, y_batch = X_batch.to(device),  y_batch.to(device) \n",
    "        \n",
    "        with amp.autocast(device_type=device): \n",
    "            outputs = model(X_batch)\n",
    "            loss = criterion(outputs, y_batch)\n",
    "        train_loss += loss.item()\n",
    "        # 反向传播（自动处理精度）\n",
    "        grad_scaler.scale(loss).backward()   # 缩放梯度\n",
    "        nn.utils.clip_grad_norm_(model.parameters(), max_norm=1.0)\n",
    "        grad_scaler.step(optimizer)          # 更新参数 \n",
    "        grad_scaler.update()                 # 调整缩放因子 \n",
    "        optimizer.zero_grad() \n",
    "    print(f\"Epoch {epoch+1}: Current LR = {scheduler.get_last_lr()[0]}\") \n",
    "    # 验证\n",
    "    model.eval() \n",
    "    test_loss = 0\n",
    "    with torch.no_grad(): \n",
    "        for X_test, y_test in test_loader:\n",
    "            X_test, y_test = X_test.to(device),  y_test.to(device) \n",
    "            preds = model(X_test)\n",
    "            test_loss += criterion(preds, y_test).item()\n",
    "    \n",
    "    scheduler.step(test_loss) \n",
    "    print(f'Epoch {epoch} | Train Loss: {train_loss/len(train_loader):.6f} | Test Loss: {test_loss/len(test_loader):.6f}')\n",
    "\n",
    "torch.save(model.state_dict(),  './model/model.pth') \n"
   ]
  },
  {
   "cell_type": "code",
   "execution_count": 27,
   "id": "dca4f939",
   "metadata": {},
   "outputs": [
    {
     "name": "stdout",
     "output_type": "stream",
     "text": [
      "('影视院线', 881274, 1781.9829, 1668.637, 6.7927265)\n"
     ]
    }
   ],
   "source": [
    "# ===== 5. 预测示例 =====\n",
    "model.eval()\n",
    "dtype = [('name', 'U20'), ('code', 'i4'), ('real_pred', 'f4'), ('close', 'f4'), ('change_rate', 'f4')]\n",
    "arr = np.empty(len(bk_data_ls), dtype= dtype)\n",
    "\n",
    "with torch.no_grad():\n",
    "    for i in range(len(bk_data_ls)):\n",
    "        name, code, data = bk_data_ls[i]\n",
    "        scaler = dataset.get_scaler(code)\n",
    "        max_index = len(data) - dataset.seq_length\n",
    "        seq_features = scaler.transform(data.iloc[max_index:,1:])\n",
    "        code_feature = code_scaler.transform(pd.DataFrame({\"code\": [code]}))\n",
    "        seq_features = np.insert(seq_features,  1, code_feature, axis=1)\n",
    "        X = torch.tensor(seq_features,  dtype=torch.float32).to(device)\n",
    "        X=X.unsqueeze(0)  # 添加批次维度\n",
    "\n",
    "        prediction = model(X)\n",
    "        scaled_pred = prediction.cpu().numpy() \n",
    "        \n",
    "        # 逆归一化收盘价 \n",
    "        dummy = np.zeros((1,  6))\n",
    "        dummy[:, 3] = scaled_pred  # 将预测值放入close列\n",
    "        real_pred = scaler.inverse_transform(dummy)[0,  3]\n",
    "        # if real_pred > data.iloc[-1,  3]:\n",
    "        #     print(\"high\")\n",
    "        # else:\n",
    "        #     print(\"low\")\n",
    "        # print(f'stock name: {name}, stock code: {code}, 今天收盘价：{data.iloc[-1,  3]}, 预测的后天收盘价: {real_pred:.2f}')\n",
    "        change_rate = (real_pred/data.iloc[-1,  3] - 1)* 100\n",
    "        arr[i] = (name, code, real_pred, data.iloc[-1,  3], change_rate)\n",
    "\n",
    "arr = arr[np.argsort(arr['change_rate'])][::-1]\n",
    "print(arr[0])\n",
    "np.savetxt(\"output.csv\",  arr, delimiter=\",\", fmt='%s,%d,%.4f,%.4f,%.4f', encoding='utf-8')\n"
   ]
  },
  {
   "cell_type": "code",
   "execution_count": null,
   "id": "734c8eb9",
   "metadata": {},
   "outputs": [],
   "source": []
  },
  {
   "cell_type": "code",
   "execution_count": null,
   "id": "eb1b84f1",
   "metadata": {},
   "outputs": [],
   "source": []
  },
  {
   "cell_type": "code",
   "execution_count": null,
   "id": "ab3ed238",
   "metadata": {},
   "outputs": [],
   "source": []
  }
 ],
 "metadata": {
  "kernelspec": {
   "display_name": "Python 3",
   "language": "python",
   "name": "python3"
  },
  "language_info": {
   "codemirror_mode": {
    "name": "ipython",
    "version": 3
   },
   "file_extension": ".py",
   "mimetype": "text/x-python",
   "name": "python",
   "nbconvert_exporter": "python",
   "pygments_lexer": "ipython3",
   "version": "3.12.9"
  }
 },
 "nbformat": 4,
 "nbformat_minor": 5
}
