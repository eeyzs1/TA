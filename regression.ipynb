{
 "cells": [
  {
   "cell_type": "code",
   "execution_count": 52,
   "id": "8a97e97d",
   "metadata": {},
   "outputs": [],
   "source": [
    "import requests\n",
    "from bs4 import BeautifulSoup\n",
    "from akshare.utils import demjson\n",
    "import pandas as pd\n",
    "from datetime import datetime, timedelta\n",
    "from akshare.tool.trade_date_hist import tool_trade_date_hist_sina\n",
    "\n",
    "# ===== 1. 数据预处理 ===== \n",
    "import numpy as np\n",
    "import torch\n",
    "import torch.nn as nn\n",
    "from torch  import amp\n",
    "from torch.utils.data  import Dataset, DataLoader\n",
    "from sklearn.preprocessing  import MinMaxScaler\n",
    "import joblib\n",
    "import os\n",
    "from tqdm.notebook import tqdm\n",
    "# import py_mini_racer"
   ]
  },
  {
   "cell_type": "code",
   "execution_count": 6,
   "id": "7b676539",
   "metadata": {},
   "outputs": [
    {
     "name": "stdout",
     "output_type": "stream",
     "text": [
      "最近交易日：2025-09-15\n"
     ]
    }
   ],
   "source": [
    "# def is_trading_day():\n",
    "#     today = datetime.now().strftime('%Y-%m-%d') \n",
    "#     # 获取交易日历（新浪财经）\n",
    "#     trade_date_df = tool_trade_date_hist_sina() \n",
    "#     # 判断今天是否在交易日历中\n",
    "#     return today in trade_date_df['trade_date'].values\n",
    "\n",
    "# if is_trading_day():\n",
    "#     print(\"今天是交易日\")\n",
    "# else:\n",
    "#     print(\"今天不是交易日\")\n",
    "\n",
    "# is_trading_day = is_trading_day()\n",
    "# today = datetime.now().date()\n",
    "trade_date_df = tool_trade_date_hist_sina() \n",
    " \n",
    "# 确保日期列是字符串格式\n",
    "trade_date_list = trade_date_df['trade_date'].astype(str).tolist()\n",
    " \n",
    "# 获取当前日期\n",
    "today = datetime.now().date() \n",
    "lastday = today - timedelta(days=1)\n",
    "# 找到最近交易日\n",
    "recent_trade_date = today \n",
    "while str(recent_trade_date) not in trade_date_list:\n",
    "    recent_trade_date -= timedelta(days=1)\n",
    "    lastday -= timedelta(days=1)\n",
    "while str(lastday) not in trade_date_list:\n",
    "    lastday -= timedelta(days=1)\n",
    " \n",
    "print(f\"最近交易日：{recent_trade_date}\")"
   ]
  },
  {
   "cell_type": "code",
   "execution_count": null,
   "id": "fe3a45fd",
   "metadata": {},
   "outputs": [
    {
     "name": "stdout",
     "output_type": "stream",
     "text": [
      "http://q.10jqka.com.cn/thshy/detail/code/881267/\n",
      "quotebridge_v4_line_bk_881263_01_2025({\"data\":\"20250102,3688.817,3740.794,3609.843,3636.360,980668640,8890098300.000,,,,0;20250103,3650.353,3660.364,3539.566,3544.853,1054094430,9366710000.000,,,,0;20250106,3543.106,3588.845,3484.086,3558.682,900697430,8427060600.000,,,,0;20250107,3560.911,3610.269,3540.392,3610.269,771839240,7076008000.000,,,,0;20250108,3605.954,3617.137,3519.383,3603.641,972001640,8976896900.000,,,,0;20250109,3596.399,3654.285,3583.539,3634.544,777285580,7682061100.000,,,,0;20250110,3634.254,3665.258,3564.331,3564.331,828868260,7797829700.000,,,,0;20250113,3534.403,3614.368,3526.647,3599.822,750618020,6692137700.000,,,,0;20250114,3609.959,3742.159,3609.959,3742.159,1017291360,8620286300.000,,,,0;20250115,3743.297,3743.297,3692.582,3703.456,860445140,7589336300.000,,,,0;20250116,3712.309,3758.072,3674.232,3700.239,896920180,8097614900.000,,,,0;20250117,3697.435,3761.467,3696.281,3747.979,990889760,10317462400.000,,,,0;20250120,3754.168,3765.317,3713.004,3732.001,1170362710,12377838200.000,,,,0;20250121,3738.771,3741.272,3662.957,3690.767,892995050,8832560200.000,,,,0;20250122,3672.155,3676.517,3644.050,3659.164,734504490,7317676900.000,,,,0;20250123,3684.309,3707.069,3643.762,3643.762,940161130,8413376100.000,,,,0;20250124,3628.462,3658.860,3610.668,3654.833,836572370,8070869800.000,,,,0;20250127,3669.781,3734.865,3669.781,3689.691,921002520,8300350300.000,,,,0;20250205,3700.981,3705.369,3660.507,3678.018,821492280,7606409300.000,,,,0;20250206,3673.513,3713.744,3652.006,3713.744,871405180,7846069200.000,,,,0;20250207,3714.617,3785.126,3702.983,3764.528,1169239450,10655586700.000,,,,0;20250210,3774.999,3796.497,3753.405,3796.497,1052271110,9417586500.000,,,,0;20250211,3799.194,3806.367,3751.444,3799.388,975161840,8995053300.000,,,,0;20250212,3788.167,3822.290,3781.841,3822.278,1001646760,9856045500.000,,,,0;20250213,3820.549,3844.253,3811.549,3811.874,1110345470,10520484700.000,,,,0;20250214,3809.917,3821.953,3778.101,3788.309,992131990,8936025000.000,,,,0;20250217,3792.786,3830.393,3774.566,3829.539,1129983270,9991009400.000,,,,0;20250218,3822.428,3833.823,3757.925,3769.817,1069313220,9647156400.000,,,,0;20250219,3764.227,3788.931,3756.589,3788.931,844822320,7953420700.000,,,,0;20250220,3780.695,3813.896,3766.975,3809.144,1004064440,9382437700.000,,,,0;20250221,3804.852,3805.696,3755.995,3791.432,1063022620,10388780400.000,,,,0;20250224,3844.442,3903.193,3837.570,3853.806,1712082300,16408289000.000,,,,0;20250225,3821.034,3821.034,3777.482,3791.505,1232029400,11541670500.000,,,,0;20250226,3796.454,3838.954,3796.454,3819.962,1154706480,11281692100.000,,,,0;20250227,3820.179,3821.575,3764.985,3815.240,980420810,9196864100.000,,,,0;20250228,3802.373,3829.409,3783.325,3788.273,1192067440,11301582800.000,,,,0;20250303,3801.402,3881.685,3801.402,3855.396,1368090300,14088320000.000,,,,0;20250304,3849.837,3872.577,3838.469,3872.577,997533260,9609143400.000,,,,0;20250305,3868.861,3874.145,3811.334,3845.752,988780050,8578190800.000,,,,0;20250306,3848.788,3861.259,3829.428,3853.888,968070880,9703448800.000,,,,0;20250307,3850.945,3882.811,3843.329,3864.642,1036004000,10226090300.000,,,,0;20250310,3862.291,3882.688,3851.195,3873.157,968297700,9695410100.000,,,,0;20250311,3844.178,3909.882,3828.729,3909.882,1123596460,12055674100.000,,,,0;20250312,3920.969,3950.864,3908.883,3937.174,1089649340,12040152400.000,,,,0;20250313,3934.656,3941.661,3883.563,3920.558,1084033480,10813813500.000,,,,0;20250314,3916.775,3966.531,3900.822,3966.531,1104246790,11236683800.000,,,,0;20250317,3971.859,4004.854,3971.859,3997.598,1083229800,10143578700.000,,,,0;20250318,3999.308,4002.480,3977.454,3997.557,877346540,8675275100.000,,,,0;20250319,3993.227,3998.804,3960.072,3973.734,810579800,7779275000.000,,,,0;20250320,3970.596,3989.002,3957.877,3963.245,797297810,7302309600.000,,,,0;20250321,3952.193,3983.848,3916.400,3931.743,948972750,8519413400.000,,,,0;20250324,3932.855,3972.152,3897.703,3956.234,1388447800,13988776000.000,,,,0;20250325,3948.121,4054.694,3933.465,4032.935,1799906900,19015099000.000,,,,0;20250326,4029.060,4078.065,4029.060,4059.095,1514542200,16170405000.000,,,,0;20250327,4050.303,4144.716,4050.303,4110.938,1848791900,18764714000.000,,,,0;20250328,4080.677,4080.677,3944.886,3945.063,1654665700,15693923000.000,,,,0;20250331,3922.106,3926.447,3827.289,3867.225,1184270430,11663492100.000,,,,0;20250401,3877.572,3934.028,3877.572,3917.963,902329990,9345465200.000,,,,0;20250402,3915.036,3934.685,3888.285,3913.450,699837190,7378642000.000,,,,0;20250403,3886.674,3936.178,3878.017,3924.022,862168940,8702311000.000,,,,0;20250407,3742.225,3759.472,3537.969,3567.513,1518376700,14110761000.000,,,,0;20250408,3575.088,3728.184,3575.088,3728.184,1675388500,15437960000.000,,,,0;20250409,3680.850,3758.599,3551.876,3741.637,1779564300,16788063000.000,,,,0;20250410,3751.372,3845.173,3751.372,3801.937,1510342900,15037894000.000,,,,0;20250411,3776.571,3829.697,3771.511,3792.142,1166751210,12126473500.000,,,,0;20250414,3816.226,3857.585,3813.293,3853.476,1088773430,11291409800.000,,,,0;20250415,3849.976,3862.448,3818.772,3839.872,1015631070,10556247400.000,,,,0;20250416,3817.052,3817.479,3726.324,3768.639,954947610,9859057500.000,,,,0;20250417,3749.841,3813.300,3740.429,3791.277,810413570,8248839800.000,,,,0;20250418,3791.529,3796.990,3748.127,3776.157,806925380,7760158900.000,,,,0;20250421,3776.761,3845.400,3767.734,3845.400,915546270,8760289400.000,,,,0;20250422,3861.715,3965.165,3855.554,3952.306,1277390670,12079264800.000,,,,0;20250423,3950.011,3950.011,3909.949,3918.042,1147887440,10384649200.000,,,,0;20250424,3925.558,3956.364,3901.912,3929.353,1218568560,11387643700.000,,,,0;20250425,3930.225,3936.320,3900.743,3914.024,1172698530,11303228700.000,,,,0;20250428,3894.738,3894.738,3836.878,3871.007,1162543760,11581535000.000,,,,0;20250429,3861.629,3925.237,3861.629,3916.104,1006081390,9727530400.000,,,,0;20250430,3921.887,3946.578,3901.475,3902.250,1071707050,9881591900.000,,,,0;20250506,3927.194,3998.822,3927.194,3998.822,1170970420,10953842100.000,,,,0;20250507,4032.212,4071.390,4011.163,4071.390,1528764500,14523565000.000,,,,0;20250508,4062.802,4065.395,4034.759,4056.240,1214185520,12016626400.000,,,,0;20250509,4052.323,4064.971,4002.491,4013.571,925788310,9313513800.000,,,,0;20250512,4029.691,4038.560,4008.516,4025.514,883228370,8760513300.000,,,,0;20250513,4048.826,4071.352,4010.622,4046.501,1076035420,10738918500.000,,,,0;20250514,4033.505,4067.507,4029.174,4058.571,1059249490,10408519200.000,,,,0;20250515,4053.213,4095.584,4046.580,4049.256,1116822730,10404329900.000,,,,0;20250516,4041.180,4108.602,4030.314,4105.881,1096579070,11231060700.000,,,,0;20250519,4102.792,4145.125,4070.355,4143.698,1204318610,12140015600.000,,,,0;20250520,4141.416,4172.909,4133.833,4155.007,1132411390,11985367000.000,,,,0;20250521,4158.729,4188.647,4153.175,4164.682,1038225130,11192707900.000,,,,0;20250522,4148.445,4157.702,4081.793,4095.073,995699350,10040970900.000,,,,0;20250523,4096.444,4161.355,4096.444,4101.528,1113729100,11713457700.000,,,,0;20250526,4101.848,4126.925,4077.154,4113.635,875028940,9795331500.000,,,,0;20250527,4109.278,4273.540,4088.461,4269.418,1540735200,15520360000.000,,,,0;20250528,4341.750,4358.056,4227.810,4251.408,1896275700,19633876000.000,,,,0;20250529,4193.085,4268.979,4182.931,4262.917,1502347900,15140034000.000,,,,0;20250530,4247.565,4267.205,4220.131,4226.023,1327482870,14043196000.000,,,,0;20250603,4202.418,4261.995,4202.418,4255.202,1126261250,12193386800.000,,,,0;20250604,4252.052,4273.782,4231.973,4273.104,1193924310,13382649900.000,,,,0;20250605,4274.149,4365.767,4264.976,4340.972,1411680700,16104107000.000,,,,0;20250606,4331.735,4461.772,4331.735,4422.725,1710385300,19457434000.000,,,,0;20250609,4410.597,4494.745,4410.597,4494.043,1355246400,15345629000.000,,,,0;20250610,4495.022,4549.186,4450.388,4482.494,1888188300,20084988000.000,,,,0;20250611,4488.359,4499.553,4458.745,4498.911,1612787800,17867810000.000,,,,0;20250612,4483.432,4596.530,4466.874,4570.921,1691266900,20230917000.000,,,,0;20250613,4550.127,4582.054,4504.643,4508.571,1995554200,22354218000.000,,,,0;20250616,4505.937,4574.899,4505.937,4563.938,1498564500,16734355000.000,,,,0;20250617,4565.014,4706.256,4565.014,4624.697,1885702200,20117257000.000,,,,0;20250618,4610.766,4627.783,4510.744,4515.399,1940344800,18162690000.000,,,,0;20250619,4492.281,4499.878,4407.026,4414.746,1679497300,15334550000.000,,,,0;20250620,4406.863,4434.846,4372.312,4372.312,1287539580,12767688400.000,,,,0;20250623,4355.952,4441.453,4355.952,4435.945,1335268050,13444011000.000,,,,0;20250624,4436.984,4482.928,4411.994,4482.928,1381301800,14756399000.000,,,,0;20250625,4482.168,4492.880,4412.672,4441.607,1457015800,15455676000.000,,,,0;20250626,4438.695,4448.655,4407.167,4413.249,1221804900,12824431000.000,,,,0;20250627,4417.613,4458.432,4417.613,4445.868,1211460210,12927948900.000,,,,0;20250630,4451.663,4467.942,4432.396,4467.778,981014190,10563151300.000,,,,0;20250701,4470.701,4518.864,4457.845,4518.859,1167979970,12806868400.000,,,,0;20250702,4509.005,4518.720,4493.678,4514.547,1158997660,12408248000.000,,,,0;20250703,4519.387,4560.391,4502.705,4551.585,1082898670,11474247400.000,,,,0;20250704,4546.973,4546.973,4490.112,4494.608,1076524510,11696160700.000,,,,0;20250707,4489.015,4532.323,4482.473,4532.021,874437450,10006017100.000,,,,0;20250708,4549.534,4583.631,4547.607,4579.213,1181860220,13677264000.000,,,,0;20250709,4576.689,4578.043,4538.772,4548.924,1134212190,12053627500.000,,,,0;20250710,4559.854,4575.280,4547.229,4566.348,1167023900,12593021100.000,,,,0;20250711,4567.750,4585.866,4537.467,4570.656,1197006020,12642818600.000,,,,0;20250714,4573.986,4605.769,4568.092,4604.694,1051771310,11536161600.000,,,,0;20250715,4576.092,4577.968,4496.808,4510.286,1367498300,13462688000.000,,,,0;20250716,4512.503,4526.695,4494.360,4512.529,848606250,8964479900.000,,,,0;20250717,4514.410,4538.920,4509.669,4536.854,883607410,10056740700.000,,,,0;20250718,4554.533,4593.101,4554.533,4592.513,1141192870,14007506000.000,,,,0;20250721,4620.922,4688.914,4620.271,4688.742,1592264500,17360417000.000,,,,0;20250722,4701.118,4721.855,4655.215,4721.855,1502693400,16998725000.000,,,,0;20250723,4742.731,4760.619,4684.264,4688.847,1728651400,18973082000.000,,,,0;20250724,4700.293,4745.952,4677.064,4745.952,1685799700,17620165000.000,,,,0;20250725,4755.010,4805.857,4754.599,4777.643,1659452900,17398131000.000,,,,0;20250728,4791.366,4829.992,4766.301,4818.000,1431045900,16015898000.000,,,,0;20250729,4798.848,4798.848,4696.092,4778.557,1428097600,15613181000.000,,,,0;20250730,4773.606,4830.494,4733.592,4765.173,1445275100,17160377000.000,,,,0;20250731,4752.028,4752.028,4661.751,4674.323,1454586900,16348071000.000,,,,0;20250801,4672.137,4720.142,4672.137,4696.400,1169572450,13319286100.000,,,,0;20250804,4687.248,4726.365,4660.344,4725.703,1059555510,12554291400.000,,,,0;20250805,4733.187,4748.301,4726.537,4748.301,912518760,10771496800.000,,,,0;20250806,4751.123,4756.021,4732.199,4754.814,902828940,10589383600.000,,,,0;20250807,4754.324,4754.324,4711.466,4732.273,917302840,11213856600.000,,,,0;20250808,4725.617,4748.263,4700.211,4742.865,877361570,10534860000.000,,,,0;20250811,4762.059,4783.373,4736.169,4780.728,1123143920,14881820000.000,,,,0;20250812,4780.421,4780.794,4740.769,4762.112,910363320,11678635700.000,,,,0;20250813,4768.058,4774.301,4733.354,4753.873,914820780,11335141800.000,,,,0;20250814,4757.198,4758.084,4684.047,4684.047,1135726000,12901320400.000,,,,0;20250815,4688.453,4748.053,4688.453,4745.174,1016022330,12765395800.000,,,,0;20250818,4763.195,4766.993,4734.242,4750.169,1300678150,14883786000.000,,,,0;20250819,4751.199,4773.494,4737.998,4763.564,1136339910,12533971700.000,,,,0;20250820,4756.401,4837.098,4753.792,4837.098,1366334000,15970902000.000,,,,0;20250821,4839.105,4926.733,4834.556,4899.251,1589584200,19500973000.000,,,,0;20250822,4897.022,4897.022,4821.947,4868.402,1304869100,15982071000.000,,,,0;20250825,4878.114,4900.135,4847.334,4894.130,1507025900,17976556000.000,,,,0;20250826,4886.202,4999.853,4873.337,4983.641,1534654000,19370024000.000,,,,0;20250827,4989.595,4991.439,4843.124,4843.124,1548794200,18800982000.000,,,,0;20250828,4848.289,4889.305,4737.130,4862.800,1566728400,18919975000.000,,,,0;20250829,4864.499,4927.894,4862.620,4875.194,1317581640,17993715000.000,,,,0;20250901,4880.481,4960.834,4853.479,4934.608,1430431800,18023316000.000,,,,0;20250902,4928.800,4928.906,4803.106,4857.315,1496809900,16908143000.000,,,,0;20250903,4870.929,4876.322,4739.772,4755.331,1099714580,12515720800.000,,,,0;20250904,4754.022,4792.892,4686.145,4743.466,1180204050,13539242000.000,,,,0;20250905,4756.000,4829.494,4741.536,4829.494,1102767020,13333412400.000,,,,0;20250908,4831.518,4974.760,4831.518,4972.412,1539139300,19345607000.000,,,,0;20250909,4964.676,5011.420,4919.193,4952.351,1252293440,16080153000.000,,,,0;20250910,4940.750,4958.387,4869.414,4910.697,1089018380,14031880000.000,,,,0;20250911,4902.338,4937.697,4871.947,4937.697,1035027590,12412399200.000,,,,0;20250912,4939.200,4970.181,4897.527,4950.703,1391638300,13453842000.000,,,,0;20250915,4953.100,4964.475,4916.499,4933.336,1307616030,12167889800.000,,,,0\"})\n"
     ]
    }
   ],
   "source": [
    "# # http://q.10jqka.com.cn/thshy/detail/code/881138/\n",
    "# headers = {\n",
    "#         \"User-Agent\": \"Mozilla/5.0 (Windows NT 10.0; Win64; x64) AppleWebKit/537.36 (KHTML, like Gecko) \"\n",
    "#         \"Chrome/89.0.4389.90 Safari/537.36\",\n",
    "#         # \"Cookie\": f\"v={v_code}\",\n",
    "#     }\n",
    "# headers_bk = {\n",
    "#             \"User-Agent\": \"Mozilla/5.0 (Windows NT 10.0; Win64; x64) AppleWebKit/537.36 (KHTML, like Gecko) \"\n",
    "#             \"Chrome/89.0.4389.90 Safari/537.36\",\n",
    "#             \"Referer\": \"https://q.10jqka.com.cn\",\n",
    "#             \"Host\": \"d.10jqka.com.cn\",\n",
    "#             # \"Cookie\": f\"v={v_code}\",\n",
    "#         }\n",
    "# url =  \"http://q.10jqka.com.cn/thshy/detail/code/881138/\" \n",
    "print(symbol_url)\n",
    "r = requests.get(symbol_url, headers=headers_d)\n",
    "print(r.text)"
   ]
  },
  {
   "cell_type": "code",
   "execution_count": null,
   "id": "8de3500c",
   "metadata": {},
   "outputs": [
    {
     "name": "stdout",
     "output_type": "stream",
     "text": [
      "352\n"
     ]
    },
    {
     "data": {
      "application/vnd.jupyter.widget-view+json": {
       "model_id": "f5d0a72e84284c729bea4540d9c447d2",
       "version_major": 2,
       "version_minor": 0
      },
      "text/plain": [
       "  0%|          | 0/1 [00:00<?, ?it/s]"
      ]
     },
     "metadata": {},
     "output_type": "display_data"
    },
    {
     "name": "stdout",
     "output_type": "stream",
     "text": [
      "7 columns passed, passed data had 8 columns  wrong data: https://d.10jqka.com.cn/v4/line/bk_886056/01/2025.js http://q.10jqka.com.cn/gn/detail/code/308614/            date      open      high       low     close     volume  \\\n",
      "166  2025-09-08  1336.437  1356.452  1335.287  1353.549  705241630   \n",
      "167  2025-09-09  1350.358  1355.748  1322.282  1327.323  676046110   \n",
      "168  2025-09-10  1325.734  1339.842  1319.055  1327.358  510316830   \n",
      "169  2025-09-11  1315.080  1340.425  1287.400  1340.425  767246910   \n",
      "170  2025-09-12  1342.274  1359.268  1337.076  1350.272  740585930   \n",
      "\n",
      "           amount  \n",
      "166  1.465946e+10  \n",
      "167  1.260683e+10  \n",
      "168  9.774379e+09  \n",
      "169  1.480606e+10  \n",
      "170  1.411970e+10  \n"
     ]
    }
   ],
   "source": [
    "start_year = \"2025\"\n",
    "current_year = datetime.now().year\n",
    "\n",
    "# js_code = py_mini_racer.MiniRacer()\n",
    "# setting_file_path = \"./ths.js\"\n",
    "# with open(setting_file_path, encoding=\"utf-8\") as f:\n",
    "#     js_content = f.read()\n",
    "# js_code.eval(js_content)\n",
    "# v_code = js_code.call(\"v\")\n",
    "\n",
    "headers = {\n",
    "        \"User-Agent\": \"Mozilla/5.0 (Windows NT 10.0; Win64; x64) AppleWebKit/537.36 (KHTML, like Gecko) \"\n",
    "        \"Chrome/89.0.4389.90 Safari/537.36\",\n",
    "        # \"Cookie\": f\"v={v_code}\",\n",
    "    }\n",
    "headers_d = {\n",
    "            \"User-Agent\": \"Mozilla/5.0 (Windows NT 10.0; Win64; x64) AppleWebKit/537.36 (KHTML, like Gecko) \"\n",
    "            \"Chrome/89.0.4389.90 Safari/537.36\",\n",
    "            \"Referer\": \"https://q.10jqka.com.cn/thshy/\"\n",
    "        }\n",
    "headers_bk = {\n",
    "            \"User-Agent\": \"Mozilla/5.0 (Windows NT 10.0; Win64; x64) AppleWebKit/537.36 (KHTML, like Gecko) \"\n",
    "            \"Chrome/89.0.4389.90 Safari/537.36\",\n",
    "            \"Referer\": \"https://q.10jqka.com.cn\",\n",
    "            \"Host\": \"d.10jqka.com.cn\",\n",
    "            # \"Cookie\": f\"v={v_code}\",\n",
    "        }\n",
    "\n",
    "gn_link_code_ls = []\n",
    "thshy_link_code_ls = []\n",
    "bk_data_ls = []\n",
    "code_ls = []\n",
    "\n",
    "for suffix in [\"gn/\",\"thshy/\"]:\n",
    "    url = f\"https://q.10jqka.com.cn/{suffix}\"\n",
    "    r = requests.get(url, headers=headers)\n",
    "    soup = BeautifulSoup(r.text, features=\"lxml\")\n",
    "    divs = soup.find_all(name=\"div\", attrs={\"class\": \"cate_items\"})\n",
    "    for div in divs:\n",
    "        # 在每个div中查找所有的a标签\n",
    "        links = div.find_all('a') \n",
    "        for link in links:\n",
    "            # 获取href属性\n",
    "            href = link.get('href') \n",
    "            # 获取文本内容\n",
    "            text = link.text\n",
    "            if suffix == \"thshy/\":\n",
    "                parts = href.rstrip('/').split('/')\n",
    "                code = parts[-1]\n",
    "                thshy_link_code_ls.append((code,  text))\n",
    "            else:\n",
    "                gn_link_code_ls.append((href,  text))\n",
    "\n",
    "print(len(gn_link_code_ls))\n",
    "\n",
    "for symbol_url, name in gn_link_code_ls:\n",
    "    try:\n",
    "        r = requests.get(symbol_url, headers=headers_d)\n",
    "        soup_today = BeautifulSoup(r.text, features=\"lxml\")\n",
    "        symbol_code = soup_today.find(name=\"div\", attrs={\"class\": \"board-hq\"}).find(\"span\").text\n",
    "        big_df = pd.DataFrame()\n",
    "        temp_start_year = start_year\n",
    "        \n",
    "        if os.path.exists(f\"./data/{symbol_code}.csv\"):\n",
    "            big_df = pd.read_csv(f\"./data/{symbol_code}.csv\",  encoding=\"utf-8\", header=None)\n",
    "            if not big_df.empty:\n",
    "                big_df.iloc[:, 0] = pd.to_datetime(big_df.iloc[:, 0], errors=\"coerce\").dt.date\n",
    "                if big_df.iloc[-1, 0] >= recent_trade_date:\n",
    "                    bk_data_ls.append((name, symbol_code, big_df))\n",
    "                    code_ls.append(symbol_code)\n",
    "                    continue\n",
    "                elif big_df.iloc[-1, 0].year >= int(temp_start_year):\n",
    "                    temp_start_year = str(big_df.iloc[-1, 0].year)\n",
    "                    year_mask = big_df.iloc[:,0].apply(lambda x: x.year)  ==  int(temp_start_year) \n",
    "                    if year_mask.any():\n",
    "                        first_index = year_mask.idxmax()\n",
    "                    else:\n",
    "                        first_index = None\n",
    "                    if first_index is not None:\n",
    "                        big_df = big_df.iloc[:first_index]\n",
    "                elif (big_df.iloc[-1, 0] == lastday):\n",
    "                    dd_texts = [dd.text for dd in soup_today.find_all(\"dd\")] \n",
    "                    close = soup_today.select_one('span.board-xj.arr-rise,  span.board-xj.arr-fall').text\n",
    "                    open, low, high, volume, amount = dd_texts[0], dd_texts[2], dd_texts[3], dd_texts[4], dd_texts[9]\n",
    "                    new_list = [\n",
    "                        recent_trade_date,\n",
    "                        float(symbol_code),\n",
    "                        float(open),\n",
    "                        float(high),\n",
    "                        float(low),\n",
    "                        float(close),\n",
    "                        float(volume.replace(\",\", \"\")),\n",
    "                        float(amount.replace(\",\", \"\")),\n",
    "                    ]\n",
    "                    new_row = pd.DataFrame([new_list], columns=big_df.columns) \n",
    "                    big_df = pd.concat([big_df,  new_row], ignore_index=True)\n",
    "                    bk_data_ls.append((name, symbol_code, big_df))\n",
    "                    code_ls.append(symbol_code)\n",
    "                    big_df.to_csv(f\"./data/{symbol_code}.csv\", index=False, encoding='utf-8-sig')\n",
    "                    continue\n",
    "\n",
    "        for year in tqdm(range(int(temp_start_year), current_year + 1), leave=False):\n",
    "            url = f\"http://d.10jqka.com.cn/v4/line/bk_{symbol_code}/01/{year}.js\"\n",
    "            r = requests.get(url, headers=headers_bk)\n",
    "            data_text = r.text\n",
    "            try:\n",
    "                temp_df = demjson.decode(data_text[data_text.find(\"{\") : -1])\n",
    "                temp_df = pd.DataFrame(temp_df[\"data\"].split(\";\"))\n",
    "                temp_df = temp_df.iloc[:, 0].str.split(\",\", expand=True).iloc[:,  :7]\n",
    "                big_df = pd.concat(objs=[big_df, temp_df], ignore_index=True)\n",
    "            except Exception as e:  # noqa: E722\n",
    "                print(e, \"decode fail:\", url, \"text as:\", data_text)\n",
    "                break\n",
    "        big_df.columns  = [\"date\", \"open\", \"high\", \"low\", \"close\", \"volume\", \"amount\"]\n",
    "        big_df[\"date\"] = pd.to_datetime(big_df[\"date\"], errors=\"coerce\").dt.date\n",
    "        big_df[\"open\"] = pd.to_numeric(big_df[\"open\"], errors=\"coerce\")\n",
    "        big_df[\"high\"] = pd.to_numeric(big_df[\"high\"], errors=\"coerce\")\n",
    "        big_df[\"low\"] = pd.to_numeric(big_df[\"low\"], errors=\"coerce\")\n",
    "        big_df[\"close\"] = pd.to_numeric(big_df[\"close\"], errors=\"coerce\")\n",
    "        big_df[\"volume\"] = pd.to_numeric(big_df[\"volume\"], errors=\"coerce\")\n",
    "        big_df[\"amount\"] = pd.to_numeric(big_df[\"amount\"], errors=\"coerce\")\n",
    "        \n",
    "\n",
    "        if big_df[\"date\"].iloc[-1] == lastday:\n",
    "            dd_texts = [dd.text for dd in soup_today.find_all(\"dd\")] \n",
    "            close = soup_today.select_one('span.board-xj.arr-rise,  span.board-xj.arr-fall').text\n",
    "            open, low, high, volume, amount = dd_texts[0], dd_texts[2], dd_texts[3], dd_texts[4], dd_texts[9]\n",
    "            new_list = [\n",
    "                recent_trade_date,\n",
    "                float(open),\n",
    "                float(high),\n",
    "                float(low),\n",
    "                float(close),\n",
    "                float(volume.replace(\",\", \"\")),\n",
    "                float(amount.replace(\",\", \"\")),\n",
    "            ]\n",
    "            new_row = pd.DataFrame([new_list], columns=big_df.columns) \n",
    "            big_df = pd.concat([big_df,  new_row], ignore_index=True)\n",
    "        bk_data_ls.append((name, symbol_code, big_df))\n",
    "        code_ls.append(symbol_code)\n",
    "        big_df.to_csv(f\"./data/{symbol_code}.csv\", index=False, encoding='utf-8-sig', header=None)\n",
    "    except Exception as e:\n",
    "        print(e, \" wrong data:\", f\"https://d.10jqka.com.cn/v4/line/bk_{symbol_code}/01/{year}.js\", symbol_url, big_df.tail())\n",
    "        break\n"
   ]
  },
  {
   "cell_type": "code",
   "execution_count": 85,
   "id": "948c7835",
   "metadata": {},
   "outputs": [
    {
     "name": "stdout",
     "output_type": "stream",
     "text": [
      "90\n"
     ]
    },
    {
     "data": {
      "application/vnd.jupyter.widget-view+json": {
       "model_id": "a68c6cb39c7e4ed292c0e53c7d287117",
       "version_major": 2,
       "version_minor": 0
      },
      "text/plain": [
       "  0%|          | 0/1 [00:00<?, ?it/s]"
      ]
     },
     "metadata": {},
     "output_type": "display_data"
    },
    {
     "data": {
      "application/vnd.jupyter.widget-view+json": {
       "model_id": "d81c4a27b0ef41ad945a315ceea65861",
       "version_major": 2,
       "version_minor": 0
      },
      "text/plain": [
       "  0%|          | 0/1 [00:00<?, ?it/s]"
      ]
     },
     "metadata": {},
     "output_type": "display_data"
    },
    {
     "data": {
      "application/vnd.jupyter.widget-view+json": {
       "model_id": "4cfc6a3192bf43b98a0cc8462988df07",
       "version_major": 2,
       "version_minor": 0
      },
      "text/plain": [
       "  0%|          | 0/1 [00:00<?, ?it/s]"
      ]
     },
     "metadata": {},
     "output_type": "display_data"
    },
    {
     "data": {
      "application/vnd.jupyter.widget-view+json": {
       "model_id": "5720dcce9e204abc84f89189ec6a7701",
       "version_major": 2,
       "version_minor": 0
      },
      "text/plain": [
       "  0%|          | 0/1 [00:00<?, ?it/s]"
      ]
     },
     "metadata": {},
     "output_type": "display_data"
    },
    {
     "data": {
      "application/vnd.jupyter.widget-view+json": {
       "model_id": "0714e0226a604bbe80967b53177c4897",
       "version_major": 2,
       "version_minor": 0
      },
      "text/plain": [
       "  0%|          | 0/1 [00:00<?, ?it/s]"
      ]
     },
     "metadata": {},
     "output_type": "display_data"
    },
    {
     "data": {
      "application/vnd.jupyter.widget-view+json": {
       "model_id": "80da05a3180a43e2957874b1db773716",
       "version_major": 2,
       "version_minor": 0
      },
      "text/plain": [
       "  0%|          | 0/1 [00:00<?, ?it/s]"
      ]
     },
     "metadata": {},
     "output_type": "display_data"
    },
    {
     "data": {
      "application/vnd.jupyter.widget-view+json": {
       "model_id": "966e7a3e45dc4066a2571dc30aa4157b",
       "version_major": 2,
       "version_minor": 0
      },
      "text/plain": [
       "  0%|          | 0/1 [00:00<?, ?it/s]"
      ]
     },
     "metadata": {},
     "output_type": "display_data"
    },
    {
     "data": {
      "application/vnd.jupyter.widget-view+json": {
       "model_id": "b569e160c08d4243b079c40979b9423c",
       "version_major": 2,
       "version_minor": 0
      },
      "text/plain": [
       "  0%|          | 0/1 [00:00<?, ?it/s]"
      ]
     },
     "metadata": {},
     "output_type": "display_data"
    },
    {
     "data": {
      "application/vnd.jupyter.widget-view+json": {
       "model_id": "b0600ca112fa4078b1fd681c7c70ec2b",
       "version_major": 2,
       "version_minor": 0
      },
      "text/plain": [
       "  0%|          | 0/1 [00:00<?, ?it/s]"
      ]
     },
     "metadata": {},
     "output_type": "display_data"
    },
    {
     "data": {
      "application/vnd.jupyter.widget-view+json": {
       "model_id": "1774cb1814d34a9d871d7c235f0edad5",
       "version_major": 2,
       "version_minor": 0
      },
      "text/plain": [
       "  0%|          | 0/1 [00:00<?, ?it/s]"
      ]
     },
     "metadata": {},
     "output_type": "display_data"
    },
    {
     "data": {
      "application/vnd.jupyter.widget-view+json": {
       "model_id": "edf148dbafc94285865a77988b7f1576",
       "version_major": 2,
       "version_minor": 0
      },
      "text/plain": [
       "  0%|          | 0/1 [00:00<?, ?it/s]"
      ]
     },
     "metadata": {},
     "output_type": "display_data"
    },
    {
     "data": {
      "application/vnd.jupyter.widget-view+json": {
       "model_id": "4d59b683c4164d26ae65164f6beb0ea1",
       "version_major": 2,
       "version_minor": 0
      },
      "text/plain": [
       "  0%|          | 0/1 [00:00<?, ?it/s]"
      ]
     },
     "metadata": {},
     "output_type": "display_data"
    },
    {
     "data": {
      "application/vnd.jupyter.widget-view+json": {
       "model_id": "b1919ae89894486ba2e83ee9f4bcdbd7",
       "version_major": 2,
       "version_minor": 0
      },
      "text/plain": [
       "  0%|          | 0/1 [00:00<?, ?it/s]"
      ]
     },
     "metadata": {},
     "output_type": "display_data"
    },
    {
     "data": {
      "application/vnd.jupyter.widget-view+json": {
       "model_id": "0fbc2124d11c4519913e0a032dc413df",
       "version_major": 2,
       "version_minor": 0
      },
      "text/plain": [
       "  0%|          | 0/1 [00:00<?, ?it/s]"
      ]
     },
     "metadata": {},
     "output_type": "display_data"
    },
    {
     "data": {
      "application/vnd.jupyter.widget-view+json": {
       "model_id": "46abac302c0a4f5c931e49de9b8938ea",
       "version_major": 2,
       "version_minor": 0
      },
      "text/plain": [
       "  0%|          | 0/1 [00:00<?, ?it/s]"
      ]
     },
     "metadata": {},
     "output_type": "display_data"
    },
    {
     "data": {
      "application/vnd.jupyter.widget-view+json": {
       "model_id": "f377b790457e4156869c5d1b72f0754d",
       "version_major": 2,
       "version_minor": 0
      },
      "text/plain": [
       "  0%|          | 0/1 [00:00<?, ?it/s]"
      ]
     },
     "metadata": {},
     "output_type": "display_data"
    },
    {
     "data": {
      "application/vnd.jupyter.widget-view+json": {
       "model_id": "94d26405513644ee8dd9028171047883",
       "version_major": 2,
       "version_minor": 0
      },
      "text/plain": [
       "  0%|          | 0/1 [00:00<?, ?it/s]"
      ]
     },
     "metadata": {},
     "output_type": "display_data"
    },
    {
     "data": {
      "application/vnd.jupyter.widget-view+json": {
       "model_id": "d6540045c86343d5a943912b3eea0d91",
       "version_major": 2,
       "version_minor": 0
      },
      "text/plain": [
       "  0%|          | 0/1 [00:00<?, ?it/s]"
      ]
     },
     "metadata": {},
     "output_type": "display_data"
    },
    {
     "data": {
      "application/vnd.jupyter.widget-view+json": {
       "model_id": "1ee66fd1b29f496f842bd21715d1e4ce",
       "version_major": 2,
       "version_minor": 0
      },
      "text/plain": [
       "  0%|          | 0/1 [00:00<?, ?it/s]"
      ]
     },
     "metadata": {},
     "output_type": "display_data"
    },
    {
     "data": {
      "application/vnd.jupyter.widget-view+json": {
       "model_id": "bbc210b5f36d4a419a94e1fd1cfb597b",
       "version_major": 2,
       "version_minor": 0
      },
      "text/plain": [
       "  0%|          | 0/1 [00:00<?, ?it/s]"
      ]
     },
     "metadata": {},
     "output_type": "display_data"
    },
    {
     "data": {
      "application/vnd.jupyter.widget-view+json": {
       "model_id": "374e3fd41ba94470b8b4f41b17fc4af1",
       "version_major": 2,
       "version_minor": 0
      },
      "text/plain": [
       "  0%|          | 0/1 [00:00<?, ?it/s]"
      ]
     },
     "metadata": {},
     "output_type": "display_data"
    },
    {
     "data": {
      "application/vnd.jupyter.widget-view+json": {
       "model_id": "155d327a59f44f5c8cb0546567609e27",
       "version_major": 2,
       "version_minor": 0
      },
      "text/plain": [
       "  0%|          | 0/1 [00:00<?, ?it/s]"
      ]
     },
     "metadata": {},
     "output_type": "display_data"
    },
    {
     "data": {
      "application/vnd.jupyter.widget-view+json": {
       "model_id": "a9ad8d070f594aa59c28808f567efd08",
       "version_major": 2,
       "version_minor": 0
      },
      "text/plain": [
       "  0%|          | 0/1 [00:00<?, ?it/s]"
      ]
     },
     "metadata": {},
     "output_type": "display_data"
    },
    {
     "data": {
      "application/vnd.jupyter.widget-view+json": {
       "model_id": "20c0e7b5f1134d579af685fad7a01a48",
       "version_major": 2,
       "version_minor": 0
      },
      "text/plain": [
       "  0%|          | 0/1 [00:00<?, ?it/s]"
      ]
     },
     "metadata": {},
     "output_type": "display_data"
    },
    {
     "data": {
      "application/vnd.jupyter.widget-view+json": {
       "model_id": "1e68c70606524ed2868f54bd990329d3",
       "version_major": 2,
       "version_minor": 0
      },
      "text/plain": [
       "  0%|          | 0/1 [00:00<?, ?it/s]"
      ]
     },
     "metadata": {},
     "output_type": "display_data"
    },
    {
     "data": {
      "application/vnd.jupyter.widget-view+json": {
       "model_id": "4bcf60194e29449cae78ae694c60f76d",
       "version_major": 2,
       "version_minor": 0
      },
      "text/plain": [
       "  0%|          | 0/1 [00:00<?, ?it/s]"
      ]
     },
     "metadata": {},
     "output_type": "display_data"
    },
    {
     "data": {
      "application/vnd.jupyter.widget-view+json": {
       "model_id": "445697f208bc473a94fb053cf7112ba0",
       "version_major": 2,
       "version_minor": 0
      },
      "text/plain": [
       "  0%|          | 0/1 [00:00<?, ?it/s]"
      ]
     },
     "metadata": {},
     "output_type": "display_data"
    },
    {
     "data": {
      "application/vnd.jupyter.widget-view+json": {
       "model_id": "51eb66f7322c47c3bd00b05069fabc16",
       "version_major": 2,
       "version_minor": 0
      },
      "text/plain": [
       "  0%|          | 0/1 [00:00<?, ?it/s]"
      ]
     },
     "metadata": {},
     "output_type": "display_data"
    },
    {
     "data": {
      "application/vnd.jupyter.widget-view+json": {
       "model_id": "903c4800faec467791fdb0bab72b816d",
       "version_major": 2,
       "version_minor": 0
      },
      "text/plain": [
       "  0%|          | 0/1 [00:00<?, ?it/s]"
      ]
     },
     "metadata": {},
     "output_type": "display_data"
    },
    {
     "data": {
      "application/vnd.jupyter.widget-view+json": {
       "model_id": "affe0e50dd584ac2a7fa52e9b92e7004",
       "version_major": 2,
       "version_minor": 0
      },
      "text/plain": [
       "  0%|          | 0/1 [00:00<?, ?it/s]"
      ]
     },
     "metadata": {},
     "output_type": "display_data"
    },
    {
     "data": {
      "application/vnd.jupyter.widget-view+json": {
       "model_id": "e0598e4d2b5a4f9db9d28ac4fdb0df7b",
       "version_major": 2,
       "version_minor": 0
      },
      "text/plain": [
       "  0%|          | 0/1 [00:00<?, ?it/s]"
      ]
     },
     "metadata": {},
     "output_type": "display_data"
    },
    {
     "data": {
      "application/vnd.jupyter.widget-view+json": {
       "model_id": "02003f97d87e4aac9e8ff98a7d5fcabd",
       "version_major": 2,
       "version_minor": 0
      },
      "text/plain": [
       "  0%|          | 0/1 [00:00<?, ?it/s]"
      ]
     },
     "metadata": {},
     "output_type": "display_data"
    },
    {
     "data": {
      "application/vnd.jupyter.widget-view+json": {
       "model_id": "9fd7a782cc8f4ae2b7c0342d7baf0bcb",
       "version_major": 2,
       "version_minor": 0
      },
      "text/plain": [
       "  0%|          | 0/1 [00:00<?, ?it/s]"
      ]
     },
     "metadata": {},
     "output_type": "display_data"
    },
    {
     "data": {
      "application/vnd.jupyter.widget-view+json": {
       "model_id": "779834b262b24576a6f4744e382a8fcb",
       "version_major": 2,
       "version_minor": 0
      },
      "text/plain": [
       "  0%|          | 0/1 [00:00<?, ?it/s]"
      ]
     },
     "metadata": {},
     "output_type": "display_data"
    },
    {
     "data": {
      "application/vnd.jupyter.widget-view+json": {
       "model_id": "860382007f944791a0b54344b2d5c737",
       "version_major": 2,
       "version_minor": 0
      },
      "text/plain": [
       "  0%|          | 0/1 [00:00<?, ?it/s]"
      ]
     },
     "metadata": {},
     "output_type": "display_data"
    },
    {
     "data": {
      "application/vnd.jupyter.widget-view+json": {
       "model_id": "9ef3f451455848ca8802e7bd39e7cb6f",
       "version_major": 2,
       "version_minor": 0
      },
      "text/plain": [
       "  0%|          | 0/1 [00:00<?, ?it/s]"
      ]
     },
     "metadata": {},
     "output_type": "display_data"
    },
    {
     "data": {
      "application/vnd.jupyter.widget-view+json": {
       "model_id": "cfcccab37f9b4de6a5aad35aba457e75",
       "version_major": 2,
       "version_minor": 0
      },
      "text/plain": [
       "  0%|          | 0/1 [00:00<?, ?it/s]"
      ]
     },
     "metadata": {},
     "output_type": "display_data"
    },
    {
     "data": {
      "application/vnd.jupyter.widget-view+json": {
       "model_id": "05f245e0f3d64168a4cb84a9639c5a34",
       "version_major": 2,
       "version_minor": 0
      },
      "text/plain": [
       "  0%|          | 0/1 [00:00<?, ?it/s]"
      ]
     },
     "metadata": {},
     "output_type": "display_data"
    },
    {
     "data": {
      "application/vnd.jupyter.widget-view+json": {
       "model_id": "a164ad0a58db4caf843d8e9e7266b8ec",
       "version_major": 2,
       "version_minor": 0
      },
      "text/plain": [
       "  0%|          | 0/1 [00:00<?, ?it/s]"
      ]
     },
     "metadata": {},
     "output_type": "display_data"
    },
    {
     "data": {
      "application/vnd.jupyter.widget-view+json": {
       "model_id": "7b60621b0f8e44929f51083d512bc4f5",
       "version_major": 2,
       "version_minor": 0
      },
      "text/plain": [
       "  0%|          | 0/1 [00:00<?, ?it/s]"
      ]
     },
     "metadata": {},
     "output_type": "display_data"
    },
    {
     "data": {
      "application/vnd.jupyter.widget-view+json": {
       "model_id": "0e13a3cc43ff41c1817c7c471b35c3f5",
       "version_major": 2,
       "version_minor": 0
      },
      "text/plain": [
       "  0%|          | 0/1 [00:00<?, ?it/s]"
      ]
     },
     "metadata": {},
     "output_type": "display_data"
    },
    {
     "data": {
      "application/vnd.jupyter.widget-view+json": {
       "model_id": "a846c7a133bc4034a6131409ec451a5e",
       "version_major": 2,
       "version_minor": 0
      },
      "text/plain": [
       "  0%|          | 0/1 [00:00<?, ?it/s]"
      ]
     },
     "metadata": {},
     "output_type": "display_data"
    },
    {
     "data": {
      "application/vnd.jupyter.widget-view+json": {
       "model_id": "f726b33b18284bfbb52e2c7bbd6b4e13",
       "version_major": 2,
       "version_minor": 0
      },
      "text/plain": [
       "  0%|          | 0/1 [00:00<?, ?it/s]"
      ]
     },
     "metadata": {},
     "output_type": "display_data"
    },
    {
     "data": {
      "application/vnd.jupyter.widget-view+json": {
       "model_id": "b2f498a97f9740bf9f6f69cf76d80e23",
       "version_major": 2,
       "version_minor": 0
      },
      "text/plain": [
       "  0%|          | 0/1 [00:00<?, ?it/s]"
      ]
     },
     "metadata": {},
     "output_type": "display_data"
    },
    {
     "data": {
      "application/vnd.jupyter.widget-view+json": {
       "model_id": "78446b84f98245cb850c4f1aa6d75d73",
       "version_major": 2,
       "version_minor": 0
      },
      "text/plain": [
       "  0%|          | 0/1 [00:00<?, ?it/s]"
      ]
     },
     "metadata": {},
     "output_type": "display_data"
    },
    {
     "data": {
      "application/vnd.jupyter.widget-view+json": {
       "model_id": "29185c40bfa44190bfd20bf38c20b6b2",
       "version_major": 2,
       "version_minor": 0
      },
      "text/plain": [
       "  0%|          | 0/1 [00:00<?, ?it/s]"
      ]
     },
     "metadata": {},
     "output_type": "display_data"
    },
    {
     "data": {
      "application/vnd.jupyter.widget-view+json": {
       "model_id": "ace4b79c818e4ec992ac4a7e0840dc33",
       "version_major": 2,
       "version_minor": 0
      },
      "text/plain": [
       "  0%|          | 0/1 [00:00<?, ?it/s]"
      ]
     },
     "metadata": {},
     "output_type": "display_data"
    }
   ],
   "source": [
    "\n",
    "print(len(thshy_link_code_ls))\n",
    "\n",
    "for symbol_code, name in thshy_link_code_ls:\n",
    "    big_df = pd.DataFrame()\n",
    "    if os.path.exists(f\"./data/{symbol_code}.csv\"):\n",
    "        big_df = pd.read_csv(f\"./data/{symbol_code}.csv\",  encoding=\"utf-8\", header=None)\n",
    "        if not big_df.empty:\n",
    "            big_df.iloc[:, 0] = pd.to_datetime(big_df.iloc[:, 0], errors=\"coerce\").dt.date\n",
    "            if big_df.iloc[-1, 0] >= recent_trade_date:\n",
    "                bk_data_ls.append((name, symbol_code, big_df))\n",
    "                code_ls.append(symbol_code)\n",
    "                continue\n",
    "            elif big_df.iloc[-1, 0].year >= int(temp_start_year):\n",
    "                temp_start_year = str(big_df.iloc[-1, 0].year)\n",
    "                year_mask = big_df.iloc[:,0].apply(lambda x: x.year)  ==  int(temp_start_year) \n",
    "                if year_mask.any():\n",
    "                    first_index = year_mask.idxmax()\n",
    "                else:\n",
    "                    first_index = None\n",
    "                if first_index is not None:\n",
    "                    big_df = big_df.iloc[:first_index]\n",
    "\n",
    "    try:\n",
    "        for year in tqdm(range(int(temp_start_year), current_year + 1), leave=False):\n",
    "            url = f\"http://d.10jqka.com.cn/v4/line/bk_{symbol_code}/01/{year}.js\"\n",
    "            r = requests.get(url, headers=headers_bk)\n",
    "            data_text = r.text\n",
    "            try:\n",
    "                temp_df = demjson.decode(data_text[data_text.find(\"{\") : -1])\n",
    "                temp_df = pd.DataFrame(temp_df[\"data\"].split(\";\"))\n",
    "                temp_df = temp_df.iloc[:, 0].str.split(\",\", expand=True)\n",
    "                big_df = pd.concat(objs=[big_df, temp_df], ignore_index=True)\n",
    "            except Exception as e:  # noqa: E722\n",
    "                print(e, \"decode fail:\", url, \"text as:\", data_text)\n",
    "                break\n",
    "        big_df = big_df.iloc[:,  :7]\n",
    "        big_df.columns  = [\"date\", \"open\", \"high\", \"low\", \"close\", \"volume\", \"amount\"]\n",
    "        big_df[\"date\"] = pd.to_datetime(big_df[\"date\"], errors=\"coerce\").dt.date\n",
    "        big_df[\"open\"] = pd.to_numeric(big_df[\"open\"], errors=\"coerce\")\n",
    "        big_df[\"high\"] = pd.to_numeric(big_df[\"high\"], errors=\"coerce\")\n",
    "        big_df[\"low\"] = pd.to_numeric(big_df[\"low\"], errors=\"coerce\")\n",
    "        big_df[\"close\"] = pd.to_numeric(big_df[\"close\"], errors=\"coerce\")\n",
    "        big_df[\"volume\"] = pd.to_numeric(big_df[\"volume\"], errors=\"coerce\")\n",
    "        big_df[\"amount\"] = pd.to_numeric(big_df[\"amount\"], errors=\"coerce\")\n",
    "       \n",
    "        bk_data_ls.append((name, symbol_code, big_df))\n",
    "        code_ls.append(symbol_code)\n",
    "        big_df.to_csv(f\"./data/{symbol_code}.csv\", index=False, encoding='utf-8-sig', header=None)\n",
    "    except Exception as e:\n",
    "        print(e, \" wrong data:\", f\"https://d.10jqka.com.cn/v4/line/bk_{symbol_code}/01/{year}.js\", symbol_url, big_df.tail())\n",
    "        break\n",
    "\n",
    "\n"
   ]
  },
  {
   "cell_type": "code",
   "execution_count": 21,
   "id": "802ac574",
   "metadata": {},
   "outputs": [
    {
     "name": "stdout",
     "output_type": "stream",
     "text": [
      "阿尔茨海默概念\n",
      "886056\n",
      "           date      code      open      high       low     close  \\\n",
      "168  2025-09-10  886056.0  1325.734  1339.842  1319.055  1327.358   \n",
      "169  2025-09-11  886056.0  1315.080  1340.425  1287.400  1340.425   \n",
      "170  2025-09-12  886056.0  1342.274  1359.268  1337.076  1350.272   \n",
      "171  2025-09-12  886056.0  1342.270  1359.270  1337.080  1350.270   \n",
      "172  2025-09-15  886056.0  1349.380  1359.670  1346.040  1355.560   \n",
      "\n",
      "           volume        amount  \n",
      "168  5.103168e+08  9.774379e+09  \n",
      "169  7.672469e+08  1.480606e+10  \n",
      "170  7.405859e+08  1.411970e+10  \n",
      "171  7.405900e+02  1.412000e+02  \n",
      "172  6.558900e+02  1.272300e+02  \n"
     ]
    }
   ],
   "source": [
    "print(bk_data_ls[0][0])\n",
    "print(bk_data_ls[0][1])\n",
    "print(bk_data_ls[0][2].tail())"
   ]
  },
  {
   "cell_type": "code",
   "execution_count": 22,
   "id": "94708784",
   "metadata": {},
   "outputs": [],
   "source": [
    "def save_Scalers(scalers, filepath):\n",
    "    \"\"\"保存所有股票的Scaler到文件\"\"\"\n",
    "    joblib.dump(scalers, filepath)\n",
    "def load_Scalers(filepath):\n",
    "    if os.path.exists(filepath):\n",
    "        return joblib.load(filepath)\n",
    "    else:\n",
    "        return {}"
   ]
  },
  {
   "cell_type": "code",
   "execution_count": 23,
   "id": "badcc5f6",
   "metadata": {},
   "outputs": [],
   "source": [
    "code_scaler_path = \"./model/code_scaler.save\"\n",
    "if os.path.exists(code_scaler_path):\n",
    "    code_scaler = joblib.load(code_scaler_path)\n",
    "    if len(code_ls) != len(bk_data_ls):\n",
    "        code_df = pd.DataFrame(code_ls, columns=['code'])\n",
    "        code_scaler.partial_fit(code_df)\n",
    "else:\n",
    "    code_df = pd.DataFrame(code_ls, columns=['code'])\n",
    "    code_scaler = MinMaxScaler(feature_range=(0, 1))\n",
    "    code_scaler.fit(code_df)\n",
    "    save_Scalers(code_scaler, code_scaler_path)"
   ]
  },
  {
   "cell_type": "code",
   "execution_count": null,
   "id": "ba57affa",
   "metadata": {},
   "outputs": [],
   "source": [
    "class StockDataset(Dataset):\n",
    "    def __init__(self, bk_data_ls, seq_length=16, forecast_gap=2, scaler_filepath='./model/scalers.sav'):\n",
    "        \"\"\"\n",
    "        bk_data_ls: List of tuples (code, data), where:\n",
    "            - code: 股票代码（str）\n",
    "            - data: DataFrame，列顺序为 [open, high, low, close, volume, amount]\n",
    "        seq_length_short: 短期序列长度（可选）\n",
    "        seq_length: 长期依赖序列长度（用于输入）\n",
    "        forecast_gap: 预测几天后的收盘价，如后天 = 2\n",
    "        \"\"\"\n",
    "        self.seq_length  = seq_length\n",
    "        self.forecast_gap  = forecast_gap\n",
    "        self.scalers  = load_Scalers(scaler_filepath) # 存储每个股票的归一化器\n",
    " \n",
    "        all_X = []\n",
    "        all_y = []\n",
    "\n",
    "        for _name, code, data in bk_data_ls:\n",
    "            data = data[[\"open\", \"high\", \"low\", \"close\", \"volume\", \"amount\"]]\n",
    "            if code in self.scalers:\n",
    "                scaler = self.scalers[code]\n",
    "                scaled_data = scaler.partial_fit(data).transform(data) \n",
    "                self.scalers[code]  = scaler  # 保存 scaler 供后续使用 \n",
    "            else:\n",
    "                scaler = MinMaxScaler(feature_range=(0, 1))\n",
    "                scaled_data = scaler.fit_transform(data) \n",
    "                self.scalers[code]  = scaler  # 保存 scaler 供后续使用 \n",
    "    \n",
    "            # 构造样本\n",
    "            X, y = [], []\n",
    "            code_feature = code_scaler.transform(pd.DataFrame({\"code\": [code] * seq_length}))\n",
    "            max_index = len(data) - seq_length - forecast_gap\n",
    "            for i in range(max_index):\n",
    "                # 输入序列：seq_length 天的特征\n",
    "                seq_features = scaled_data[i:i + seq_length]\n",
    "                seq_features = np.insert(seq_features,  1, code_feature, axis=1) \n",
    "                # 标签：forecast_gap 天后的收盘价（第3列）\n",
    "                target_idx = i + seq_length + forecast_gap - 1\n",
    "                target_close = scaled_data[target_idx, 3]\n",
    " \n",
    "                X.append(seq_features) \n",
    "                y.append(target_close) \n",
    " \n",
    "            # 转换为 numpy 并保存 \n",
    "            all_X.extend(X) \n",
    "            all_y.extend(y) \n",
    " \n",
    "        # 统一转换为 tensor\n",
    "        self.X = torch.tensor(np.array(all_X),  dtype=torch.float16) \n",
    "        self.y = torch.tensor(np.array(all_y),  dtype=torch.float16).view(-1,  1)\n",
    "        save_Scalers(self.scalers, scaler_filepath)  # 保存所有股票的Scaler\n",
    "\n",
    "    def __len__(self):\n",
    "        return len(self.X)\n",
    " \n",
    "    def __getitem__(self, idx):\n",
    "        return self.X[idx], self.y[idx]\n",
    " \n",
    "    def get_scaler(self, code):\n",
    "        return self.scalers.get(code,  None)\n",
    "    def inverse_transform(self, code, scaled_values):\n",
    "        \"\"\"逆归一化\"\"\"\n",
    "        scaler = self.get_scaler(code)\n",
    "        if scaler:\n",
    "            dummy = np.zeros((len(scaled_values),  self.X.shape[2]))\n",
    "            dummy[:, 3] = scaled_values  # 将预测值放入close列\n",
    "            return scaler.inverse_transform(dummy)[:, 3]\n",
    "        else:\n",
    "            raise ValueError(f\"No scaler found for code: {code}\")\n",
    "\n",
    "    \n",
    "\n",
    "class MultiScaleAttentionLSTM(nn.Module):\n",
    "    def __init__(self, input_size, hidden_size = 64, num_layers_long = 3, num_layers_short = 2):\n",
    "        super().__init__()\n",
    "        \n",
    "        self.lstm_long  = nn.LSTM(input_size, hidden_size, num_layers=num_layers_long, batch_first=True, dropout=0.2 if num_layers_long > 1 else 0)\n",
    "        self.lstm_short  = nn.LSTM(input_size, hidden_size, num_layers=num_layers_short, batch_first=True, dropout=0.2 if num_layers_short > 1 else 0)\n",
    "        self.attn  = nn.MultiheadAttention(hidden_size, num_heads=4, batch_first=True, )  # 4头注意力 \n",
    "        \n",
    "        self.regressor  = nn.Sequential(\n",
    "            nn.Linear(hidden_size, 32),\n",
    "            nn.Linear(32, 1)\n",
    "        )\n",
    " \n",
    "    def forward(self, x1, seq_length_short=7):\n",
    "        out1, _ = self.lstm_long(x1) \n",
    "        out2, _ = self.lstm_short(x1[:, -seq_length_short:, :]) # lstm_out: [batch, seq_len, hidden]\n",
    "        lstm_out = torch.cat((out1,  out2), dim=1)\n",
    "        attn_out, _ = self.attn(lstm_out,  lstm_out, lstm_out, need_weights=False) \n",
    "        out = self.regressor(attn_out[:, -1, :]) \n",
    "        return out"
   ]
  },
  {
   "cell_type": "code",
   "execution_count": 25,
   "id": "63a9e7ee",
   "metadata": {},
   "outputs": [
    {
     "ename": "KeyError",
     "evalue": "\"None of [Index(['code'], dtype='object')] are in the [columns]\"",
     "output_type": "error",
     "traceback": [
      "\u001b[1;31m---------------------------------------------------------------------------\u001b[0m",
      "\u001b[1;31mKeyError\u001b[0m                                  Traceback (most recent call last)",
      "Cell \u001b[1;32mIn[25], line 2\u001b[0m\n\u001b[0;32m      1\u001b[0m \u001b[38;5;66;03m# 创建数据集 \u001b[39;00m\n\u001b[1;32m----> 2\u001b[0m dataset \u001b[38;5;241m=\u001b[39m \u001b[43mStockDataset\u001b[49m\u001b[43m(\u001b[49m\u001b[43mbk_data_ls\u001b[49m\u001b[43m,\u001b[49m\u001b[43m \u001b[49m\u001b[43mseq_length\u001b[49m\u001b[38;5;241;43m=\u001b[39;49m\u001b[38;5;241;43m16\u001b[39;49m\u001b[43m,\u001b[49m\u001b[43m \u001b[49m\u001b[43mforecast_gap\u001b[49m\u001b[38;5;241;43m=\u001b[39;49m\u001b[38;5;241;43m2\u001b[39;49m\u001b[43m)\u001b[49m\n\u001b[0;32m      3\u001b[0m train_size \u001b[38;5;241m=\u001b[39m \u001b[38;5;28mint\u001b[39m(\u001b[38;5;241m0.8\u001b[39m \u001b[38;5;241m*\u001b[39m \u001b[38;5;28mlen\u001b[39m(dataset))\n\u001b[0;32m      4\u001b[0m train_set, test_set \u001b[38;5;241m=\u001b[39m torch\u001b[38;5;241m.\u001b[39mutils\u001b[38;5;241m.\u001b[39mdata\u001b[38;5;241m.\u001b[39mrandom_split( \n\u001b[0;32m      5\u001b[0m     dataset, [train_size, \u001b[38;5;28mlen\u001b[39m(dataset) \u001b[38;5;241m-\u001b[39m train_size]\n\u001b[0;32m      6\u001b[0m )\n",
      "Cell \u001b[1;32mIn[24], line 35\u001b[0m, in \u001b[0;36mStockDataset.__init__\u001b[1;34m(self, bk_data_ls, seq_length, forecast_gap, scaler_filepath)\u001b[0m\n\u001b[0;32m     32\u001b[0m \u001b[38;5;28;01mfor\u001b[39;00m i \u001b[38;5;129;01min\u001b[39;00m \u001b[38;5;28mrange\u001b[39m(max_index):\n\u001b[0;32m     33\u001b[0m     \u001b[38;5;66;03m# 输入序列：seq_length 天的特征\u001b[39;00m\n\u001b[0;32m     34\u001b[0m     seq_features \u001b[38;5;241m=\u001b[39m scaled_data[i:i \u001b[38;5;241m+\u001b[39m seq_length]\n\u001b[1;32m---> 35\u001b[0m     code_feature \u001b[38;5;241m=\u001b[39m code_scaler\u001b[38;5;241m.\u001b[39mtransform(\u001b[43mdata\u001b[49m\u001b[43m[\u001b[49m\u001b[43m[\u001b[49m\u001b[38;5;124;43m'\u001b[39;49m\u001b[38;5;124;43mcode\u001b[39;49m\u001b[38;5;124;43m'\u001b[39;49m\u001b[43m]\u001b[49m\u001b[43m]\u001b[49m\u001b[38;5;241m.\u001b[39miloc[i:i \u001b[38;5;241m+\u001b[39m seq_length])\n\u001b[0;32m     36\u001b[0m     seq_features \u001b[38;5;241m=\u001b[39m np\u001b[38;5;241m.\u001b[39minsert(seq_features,  \u001b[38;5;241m1\u001b[39m, code_feature, axis\u001b[38;5;241m=\u001b[39m\u001b[38;5;241m1\u001b[39m) \n\u001b[0;32m     37\u001b[0m     \u001b[38;5;66;03m# 标签：forecast_gap 天后的收盘价（第3列）\u001b[39;00m\n",
      "File \u001b[1;32me:\\Python\\Python312\\Lib\\site-packages\\pandas\\core\\frame.py:4113\u001b[0m, in \u001b[0;36mDataFrame.__getitem__\u001b[1;34m(self, key)\u001b[0m\n\u001b[0;32m   4111\u001b[0m     \u001b[38;5;28;01mif\u001b[39;00m is_iterator(key):\n\u001b[0;32m   4112\u001b[0m         key \u001b[38;5;241m=\u001b[39m \u001b[38;5;28mlist\u001b[39m(key)\n\u001b[1;32m-> 4113\u001b[0m     indexer \u001b[38;5;241m=\u001b[39m \u001b[38;5;28;43mself\u001b[39;49m\u001b[38;5;241;43m.\u001b[39;49m\u001b[43mcolumns\u001b[49m\u001b[38;5;241;43m.\u001b[39;49m\u001b[43m_get_indexer_strict\u001b[49m\u001b[43m(\u001b[49m\u001b[43mkey\u001b[49m\u001b[43m,\u001b[49m\u001b[43m \u001b[49m\u001b[38;5;124;43m\"\u001b[39;49m\u001b[38;5;124;43mcolumns\u001b[39;49m\u001b[38;5;124;43m\"\u001b[39;49m\u001b[43m)\u001b[49m[\u001b[38;5;241m1\u001b[39m]\n\u001b[0;32m   4115\u001b[0m \u001b[38;5;66;03m# take() does not accept boolean indexers\u001b[39;00m\n\u001b[0;32m   4116\u001b[0m \u001b[38;5;28;01mif\u001b[39;00m \u001b[38;5;28mgetattr\u001b[39m(indexer, \u001b[38;5;124m\"\u001b[39m\u001b[38;5;124mdtype\u001b[39m\u001b[38;5;124m\"\u001b[39m, \u001b[38;5;28;01mNone\u001b[39;00m) \u001b[38;5;241m==\u001b[39m \u001b[38;5;28mbool\u001b[39m:\n",
      "File \u001b[1;32me:\\Python\\Python312\\Lib\\site-packages\\pandas\\core\\indexes\\base.py:6212\u001b[0m, in \u001b[0;36mIndex._get_indexer_strict\u001b[1;34m(self, key, axis_name)\u001b[0m\n\u001b[0;32m   6209\u001b[0m \u001b[38;5;28;01melse\u001b[39;00m:\n\u001b[0;32m   6210\u001b[0m     keyarr, indexer, new_indexer \u001b[38;5;241m=\u001b[39m \u001b[38;5;28mself\u001b[39m\u001b[38;5;241m.\u001b[39m_reindex_non_unique(keyarr)\n\u001b[1;32m-> 6212\u001b[0m \u001b[38;5;28;43mself\u001b[39;49m\u001b[38;5;241;43m.\u001b[39;49m\u001b[43m_raise_if_missing\u001b[49m\u001b[43m(\u001b[49m\u001b[43mkeyarr\u001b[49m\u001b[43m,\u001b[49m\u001b[43m \u001b[49m\u001b[43mindexer\u001b[49m\u001b[43m,\u001b[49m\u001b[43m \u001b[49m\u001b[43maxis_name\u001b[49m\u001b[43m)\u001b[49m\n\u001b[0;32m   6214\u001b[0m keyarr \u001b[38;5;241m=\u001b[39m \u001b[38;5;28mself\u001b[39m\u001b[38;5;241m.\u001b[39mtake(indexer)\n\u001b[0;32m   6215\u001b[0m \u001b[38;5;28;01mif\u001b[39;00m \u001b[38;5;28misinstance\u001b[39m(key, Index):\n\u001b[0;32m   6216\u001b[0m     \u001b[38;5;66;03m# GH 42790 - Preserve name from an Index\u001b[39;00m\n",
      "File \u001b[1;32me:\\Python\\Python312\\Lib\\site-packages\\pandas\\core\\indexes\\base.py:6261\u001b[0m, in \u001b[0;36mIndex._raise_if_missing\u001b[1;34m(self, key, indexer, axis_name)\u001b[0m\n\u001b[0;32m   6259\u001b[0m \u001b[38;5;28;01mif\u001b[39;00m nmissing:\n\u001b[0;32m   6260\u001b[0m     \u001b[38;5;28;01mif\u001b[39;00m nmissing \u001b[38;5;241m==\u001b[39m \u001b[38;5;28mlen\u001b[39m(indexer):\n\u001b[1;32m-> 6261\u001b[0m         \u001b[38;5;28;01mraise\u001b[39;00m \u001b[38;5;167;01mKeyError\u001b[39;00m(\u001b[38;5;124mf\u001b[39m\u001b[38;5;124m\"\u001b[39m\u001b[38;5;124mNone of [\u001b[39m\u001b[38;5;132;01m{\u001b[39;00mkey\u001b[38;5;132;01m}\u001b[39;00m\u001b[38;5;124m] are in the [\u001b[39m\u001b[38;5;132;01m{\u001b[39;00maxis_name\u001b[38;5;132;01m}\u001b[39;00m\u001b[38;5;124m]\u001b[39m\u001b[38;5;124m\"\u001b[39m)\n\u001b[0;32m   6263\u001b[0m     not_found \u001b[38;5;241m=\u001b[39m \u001b[38;5;28mlist\u001b[39m(ensure_index(key)[missing_mask\u001b[38;5;241m.\u001b[39mnonzero()[\u001b[38;5;241m0\u001b[39m]]\u001b[38;5;241m.\u001b[39munique())\n\u001b[0;32m   6264\u001b[0m     \u001b[38;5;28;01mraise\u001b[39;00m \u001b[38;5;167;01mKeyError\u001b[39;00m(\u001b[38;5;124mf\u001b[39m\u001b[38;5;124m\"\u001b[39m\u001b[38;5;132;01m{\u001b[39;00mnot_found\u001b[38;5;132;01m}\u001b[39;00m\u001b[38;5;124m not in index\u001b[39m\u001b[38;5;124m\"\u001b[39m)\n",
      "\u001b[1;31mKeyError\u001b[0m: \"None of [Index(['code'], dtype='object')] are in the [columns]\""
     ]
    }
   ],
   "source": [
    "# 创建数据集 \n",
    "dataset = StockDataset(bk_data_ls, seq_length=16, forecast_gap=2)\n",
    "train_size = int(0.8 * len(dataset))\n",
    "train_set, test_set = torch.utils.data.random_split( \n",
    "    dataset, [train_size, len(dataset) - train_size]\n",
    ")\n",
    "\n",
    "# 数据加载器 \n",
    "train_loader = DataLoader(train_set, batch_size=100000, shuffle=True)\n",
    "test_loader = DataLoader(test_set, batch_size=100000)\n",
    "\n",
    "# 模型初始化\n",
    "device = 'cuda' if torch.cuda.is_available() else 'cpu'\n",
    "\n",
    "# 加载模型（需先实例化结构）\n",
    "model = MultiScaleAttentionLSTM(\n",
    "    input_size=7,  # 7个特征 \n",
    "    hidden_size=64,\n",
    "    num_layers_long = 3, \n",
    "    num_layers_short = 2\n",
    ").to(device)\n",
    "\n",
    "if os.path.exists('./model/model.pth'):\n",
    "    model.load_state_dict(torch.load('./model/model.pth')) \n",
    "\n",
    "# 训练参数 \n",
    "criterion = nn.MSELoss()\n",
    "scaler = amp.GradScaler(device)\n",
    "optimizer = torch.optim.Adam(model.parameters(),  lr=0.001)\n",
    "scheduler = torch.optim.lr_scheduler.ReduceLROnPlateau( \n",
    "    optimizer, \n",
    "    mode='min',       # 监控验证损失\n",
    "    factor=0.5,       # 学习率衰减系数 \n",
    "    patience=5,       # 容忍5个epoch无改善\n",
    ")\n",
    "\n",
    "# ===== 4. 训练循环 =====\n",
    "for epoch in range(100):\n",
    "    model.train() \n",
    "    train_loss = 0 \n",
    "    for X_batch, y_batch in train_loader:\n",
    "        X_batch, y_batch = X_batch.to(device),  y_batch.to(device) \n",
    "        \n",
    "        with amp.autocast(device_type=device): \n",
    "            outputs = model(X_batch)\n",
    "            loss = criterion(outputs, y_batch)\n",
    "        train_loss += loss.item()\n",
    "        # 反向传播（自动处理精度）\n",
    "        scaler.scale(loss).backward()   # 缩放梯度\n",
    "        nn.utils.clip_grad_norm_(model.parameters(), max_norm=1.0)\n",
    "        scaler.step(optimizer)          # 更新参数 \n",
    "        scaler.update()                 # 调整缩放因子 \n",
    "        optimizer.zero_grad() \n",
    "    print(f\"Epoch {epoch+1}: Current LR = {scheduler.get_last_lr()[0]}\") \n",
    "    # 验证\n",
    "    model.eval() \n",
    "    test_loss = 0\n",
    "    with torch.no_grad(): \n",
    "        for X_test, y_test in test_loader:\n",
    "            X_test, y_test = X_test.to(device),  y_test.to(device) \n",
    "            preds = model(X_test)\n",
    "            test_loss += criterion(preds, y_test).item()\n",
    "    \n",
    "    scheduler.step(test_loss) \n",
    "    print(f'Epoch {epoch} | Train Loss: {train_loss/len(train_loader):.6f} | Test Loss: {test_loss/len(test_loader):.6f}')\n",
    "\n",
    "torch.save(model.state_dict(),  './model/model.pth') \n",
    "\n",
    "# ===== 5. 预测示例 =====\n",
    "model.eval() \n",
    "with torch.no_grad():\n",
    "    for name, code, data in bk_data_ls:\n",
    "        scaler = dataset.get_scaler(code)\n",
    "        max_index = len(data) - dataset.seq_length\n",
    "        seq_features = scaler.transform(data[[\"open\", \"high\", \"low\", \"close\", \"volume\", \"amount\"]].iloc[max_index:])\n",
    "        code_feature = code_scaler.transform(data[['code']].iloc[max_index:])\n",
    "        seq_features = np.insert(seq_features,  1, code_feature, axis=1)\n",
    "        X = torch.tensor(seq_features,  dtype=torch.float16).to(device)\n",
    "        X=X.unsqueeze(0)  # 添加批次维度\n",
    "\n",
    "        prediction = model(X)\n",
    "        scaled_pred = prediction.cpu().numpy() \n",
    "        \n",
    "        # 逆归一化收盘价 \n",
    "        dummy = np.zeros((1,  6))\n",
    "        dummy[:, 3] = scaled_pred  # 将预测值放入close列\n",
    "        real_pred = scaler.inverse_transform(dummy)[0,  3]\n",
    "        if real_pred > data.iloc[-1,  3]:\n",
    "            print(\"high\")\n",
    "        else:\n",
    "            print(\"low\")\n",
    "        print(f'stock name: {name}, stock code: {code}, 今天收盘价：{data.iloc[-1,  3]}, 预测的后天收盘价: {real_pred:.2f}')\n",
    "\n"
   ]
  },
  {
   "cell_type": "code",
   "execution_count": null,
   "id": "2c1a6d1c",
   "metadata": {},
   "outputs": [],
   "source": []
  },
  {
   "cell_type": "code",
   "execution_count": null,
   "id": "734c8eb9",
   "metadata": {},
   "outputs": [],
   "source": []
  },
  {
   "cell_type": "code",
   "execution_count": null,
   "id": "eb1b84f1",
   "metadata": {},
   "outputs": [],
   "source": []
  },
  {
   "cell_type": "code",
   "execution_count": null,
   "id": "ab3ed238",
   "metadata": {},
   "outputs": [],
   "source": []
  }
 ],
 "metadata": {
  "kernelspec": {
   "display_name": "Python 3",
   "language": "python",
   "name": "python3"
  },
  "language_info": {
   "codemirror_mode": {
    "name": "ipython",
    "version": 3
   },
   "file_extension": ".py",
   "mimetype": "text/x-python",
   "name": "python",
   "nbconvert_exporter": "python",
   "pygments_lexer": "ipython3",
   "version": "3.12.9"
  }
 },
 "nbformat": 4,
 "nbformat_minor": 5
}
