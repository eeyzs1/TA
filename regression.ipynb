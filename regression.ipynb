{
 "cells": [
  {
   "cell_type": "code",
   "execution_count": 1,
   "id": "8a97e97d",
   "metadata": {},
   "outputs": [],
   "source": [
    "import requests\n",
    "from bs4 import BeautifulSoup\n",
    "from akshare.utils import demjson\n",
    "import pandas as pd\n",
    "from datetime import datetime, timedelta\n",
    "from akshare.tool.trade_date_hist import tool_trade_date_hist_sina\n",
    "\n",
    "# ===== 1. 数据预处理 ===== \n",
    "import numpy as np\n",
    "import torch\n",
    "import torch.nn as nn\n",
    "from torch  import amp\n",
    "from torch.utils.data  import Dataset, DataLoader\n",
    "from sklearn.preprocessing  import MinMaxScaler\n",
    "import joblib\n",
    "import os\n",
    "from tqdm.notebook import tqdm\n",
    "# import py_mini_racer\n",
    "import time"
   ]
  },
  {
   "cell_type": "code",
   "execution_count": null,
   "id": "7b676539",
   "metadata": {},
   "outputs": [
    {
     "name": "stdout",
     "output_type": "stream",
     "text": [
      "最近交易日：2025-09-17\n",
      "上一个交易日：2025-09-16\n"
     ]
    }
   ],
   "source": [
    "# def is_trading_day():\n",
    "#     today = datetime.now().strftime('%Y-%m-%d') \n",
    "#     # 获取交易日历（新浪财经）\n",
    "#     trade_date_df = tool_trade_date_hist_sina() \n",
    "#     # 判断今天是否在交易日历中\n",
    "#     return today in trade_date_df['trade_date'].values\n",
    "\n",
    "# if is_trading_day():\n",
    "#     print(\"今天是交易日\")\n",
    "# else:\n",
    "#     print(\"今天不是交易日\")\n",
    "\n",
    "# is_trading_day = is_trading_day()\n",
    "# today = datetime.now().date()\n",
    "trade_date_df = tool_trade_date_hist_sina() \n",
    " \n",
    "# 确保日期列是字符串格式\n",
    "trade_date_list = trade_date_df['trade_date'].astype(str).tolist()\n",
    " \n",
    "# 获取当前日期\n",
    "today = datetime.now().date() - timedelta(days=1)\n",
    "lastday = today - timedelta(days=2)\n",
    "# 找到最近交易日\n",
    "recent_trade_date = today \n",
    "while str(recent_trade_date) not in trade_date_list:\n",
    "    recent_trade_date -= timedelta(days=1)\n",
    "    lastday -= timedelta(days=1)\n",
    "while str(lastday) not in trade_date_list:\n",
    "    lastday -= timedelta(days=1)\n",
    "\n",
    "print(f\"最近交易日：{recent_trade_date}\")\n",
    "print(f\"上一个交易日：{lastday}\")"
   ]
  },
  {
   "cell_type": "code",
   "execution_count": 3,
   "id": "8de3500c",
   "metadata": {},
   "outputs": [],
   "source": [
    "start_year = \"2025\"\n",
    "current_year = datetime.now().year\n",
    "\n",
    "# js_code = py_mini_racer.MiniRacer()\n",
    "# with open('ths.js', 'r', encoding=\"utf-8\") as f:\n",
    "#     js_content = f.read()\n",
    "# js_code.eval(js_content)\n",
    "# v_code = js_code.call(\"v\")\n",
    "\n",
    "headers = {\n",
    "        \"User-Agent\": \"Mozilla/5.0 (Windows NT 10.0; Win64; x64) AppleWebKit/537.36 (KHTML, like Gecko) \"\n",
    "        \"Chrome/89.0.4389.90 Safari/537.36\",\n",
    "        # \"Cookie\": f\"v={v_code}\",\n",
    "    }\n",
    "headers_bk = {\n",
    "            \"User-Agent\": \"Mozilla/5.0 (Windows NT 10.0; Win64; x64) AppleWebKit/537.36 (KHTML, like Gecko) \"\n",
    "            \"Chrome/89.0.4389.90 Safari/537.36\",\n",
    "            \"Referer\": \"https://q.10jqka.com.cn\",\n",
    "            \"Host\": \"d.10jqka.com.cn\",\n",
    "            # \"Cookie\": f\"v={v_code}\",\n",
    "        }\n",
    "\n",
    "gn_link_code_ls = []\n",
    "thshy_link_code_ls = []\n",
    "bk_data_ls = []\n",
    "code_ls = []\n",
    "\n",
    "for suffix in [\"gn/\",\"thshy/\"]:\n",
    "    url = f\"https://q.10jqka.com.cn/{suffix}\"\n",
    "    r = requests.get(url, headers=headers)\n",
    "    soup = BeautifulSoup(r.text, features=\"lxml\")\n",
    "    divs = soup.find_all(name=\"div\", attrs={\"class\": \"cate_items\"})\n",
    "    for div in divs:\n",
    "        # 在每个div中查找所有的a标签\n",
    "        links = div.find_all('a') \n",
    "        for link in links:\n",
    "            # 获取href属性\n",
    "            href = link.get('href') \n",
    "            # 获取文本内容\n",
    "            text = link.text\n",
    "            if suffix == \"thshy/\":\n",
    "                parts = href.rstrip('/').split('/')\n",
    "                code = parts[-1]\n",
    "                thshy_link_code_ls.append((code,  text))\n",
    "            else:\n",
    "                gn_link_code_ls.append((href,  text))\n"
   ]
  },
  {
   "cell_type": "code",
   "execution_count": null,
   "id": "157315ef",
   "metadata": {},
   "outputs": [
    {
     "name": "stdout",
     "output_type": "stream",
     "text": [
      "352\n"
     ]
    },
    {
     "data": {
      "application/vnd.jupyter.widget-view+json": {
       "model_id": "7484019fd82049fa87e694b5b2e09b2d",
       "version_major": 2,
       "version_minor": 0
      },
      "text/plain": [
       "  0%|          | 0/1 [00:00<?, ?it/s]"
      ]
     },
     "metadata": {},
     "output_type": "display_data"
    },
    {
     "data": {
      "application/vnd.jupyter.widget-view+json": {
       "model_id": "524bcd6071194259be025746ef8b0f21",
       "version_major": 2,
       "version_minor": 0
      },
      "text/plain": [
       "  0%|          | 0/1 [00:00<?, ?it/s]"
      ]
     },
     "metadata": {},
     "output_type": "display_data"
    },
    {
     "data": {
      "application/vnd.jupyter.widget-view+json": {
       "model_id": "d5813ba31690490088c1cf065fde65c1",
       "version_major": 2,
       "version_minor": 0
      },
      "text/plain": [
       "  0%|          | 0/1 [00:00<?, ?it/s]"
      ]
     },
     "metadata": {},
     "output_type": "display_data"
    },
    {
     "data": {
      "application/vnd.jupyter.widget-view+json": {
       "model_id": "6d8c6849360d41fb97d49760c2467593",
       "version_major": 2,
       "version_minor": 0
      },
      "text/plain": [
       "  0%|          | 0/1 [00:00<?, ?it/s]"
      ]
     },
     "metadata": {},
     "output_type": "display_data"
    },
    {
     "data": {
      "application/vnd.jupyter.widget-view+json": {
       "model_id": "fe897966f2e14545be5c3711a2b17454",
       "version_major": 2,
       "version_minor": 0
      },
      "text/plain": [
       "  0%|          | 0/1 [00:00<?, ?it/s]"
      ]
     },
     "metadata": {},
     "output_type": "display_data"
    },
    {
     "data": {
      "application/vnd.jupyter.widget-view+json": {
       "model_id": "d2fc8ec4186c4384a67a5588815a8270",
       "version_major": 2,
       "version_minor": 0
      },
      "text/plain": [
       "  0%|          | 0/1 [00:00<?, ?it/s]"
      ]
     },
     "metadata": {},
     "output_type": "display_data"
    },
    {
     "data": {
      "application/vnd.jupyter.widget-view+json": {
       "model_id": "8ce6e83433714f32a63c5fb6339ff203",
       "version_major": 2,
       "version_minor": 0
      },
      "text/plain": [
       "  0%|          | 0/1 [00:00<?, ?it/s]"
      ]
     },
     "metadata": {},
     "output_type": "display_data"
    },
    {
     "data": {
      "application/vnd.jupyter.widget-view+json": {
       "model_id": "78b7ad2c50ff4bcaa91cefa6b281dce0",
       "version_major": 2,
       "version_minor": 0
      },
      "text/plain": [
       "  0%|          | 0/1 [00:00<?, ?it/s]"
      ]
     },
     "metadata": {},
     "output_type": "display_data"
    },
    {
     "data": {
      "application/vnd.jupyter.widget-view+json": {
       "model_id": "d84bbe7ba6234876869d5a5dbdf2f1a9",
       "version_major": 2,
       "version_minor": 0
      },
      "text/plain": [
       "  0%|          | 0/1 [00:00<?, ?it/s]"
      ]
     },
     "metadata": {},
     "output_type": "display_data"
    },
    {
     "data": {
      "application/vnd.jupyter.widget-view+json": {
       "model_id": "a8bcc2e34e604a61a91f667081cb5821",
       "version_major": 2,
       "version_minor": 0
      },
      "text/plain": [
       "  0%|          | 0/1 [00:00<?, ?it/s]"
      ]
     },
     "metadata": {},
     "output_type": "display_data"
    },
    {
     "data": {
      "application/vnd.jupyter.widget-view+json": {
       "model_id": "b50a5e27d7234b06b4a784ae3b5a912f",
       "version_major": 2,
       "version_minor": 0
      },
      "text/plain": [
       "  0%|          | 0/1 [00:00<?, ?it/s]"
      ]
     },
     "metadata": {},
     "output_type": "display_data"
    },
    {
     "data": {
      "application/vnd.jupyter.widget-view+json": {
       "model_id": "4ab82ec5d5864401abde3db6a47ffee7",
       "version_major": 2,
       "version_minor": 0
      },
      "text/plain": [
       "  0%|          | 0/1 [00:00<?, ?it/s]"
      ]
     },
     "metadata": {},
     "output_type": "display_data"
    },
    {
     "data": {
      "application/vnd.jupyter.widget-view+json": {
       "model_id": "f021c81e0caa4b9f9a4b13b7814d19a7",
       "version_major": 2,
       "version_minor": 0
      },
      "text/plain": [
       "  0%|          | 0/1 [00:00<?, ?it/s]"
      ]
     },
     "metadata": {},
     "output_type": "display_data"
    },
    {
     "data": {
      "application/vnd.jupyter.widget-view+json": {
       "model_id": "7ad3cd4a9f904ff388f807e0f93b46dd",
       "version_major": 2,
       "version_minor": 0
      },
      "text/plain": [
       "  0%|          | 0/1 [00:00<?, ?it/s]"
      ]
     },
     "metadata": {},
     "output_type": "display_data"
    },
    {
     "data": {
      "application/vnd.jupyter.widget-view+json": {
       "model_id": "8dd1beee4b4444e5aea2bbf161c04f63",
       "version_major": 2,
       "version_minor": 0
      },
      "text/plain": [
       "  0%|          | 0/1 [00:00<?, ?it/s]"
      ]
     },
     "metadata": {},
     "output_type": "display_data"
    },
    {
     "data": {
      "application/vnd.jupyter.widget-view+json": {
       "model_id": "00740ad09807401eac6b91305883de5d",
       "version_major": 2,
       "version_minor": 0
      },
      "text/plain": [
       "  0%|          | 0/1 [00:00<?, ?it/s]"
      ]
     },
     "metadata": {},
     "output_type": "display_data"
    },
    {
     "data": {
      "application/vnd.jupyter.widget-view+json": {
       "model_id": "60e988bbe9ae4e3abb97dc02eaa2610a",
       "version_major": 2,
       "version_minor": 0
      },
      "text/plain": [
       "  0%|          | 0/1 [00:00<?, ?it/s]"
      ]
     },
     "metadata": {},
     "output_type": "display_data"
    },
    {
     "data": {
      "application/vnd.jupyter.widget-view+json": {
       "model_id": "6e16a56503ce4673b58029ba331ac8cf",
       "version_major": 2,
       "version_minor": 0
      },
      "text/plain": [
       "  0%|          | 0/1 [00:00<?, ?it/s]"
      ]
     },
     "metadata": {},
     "output_type": "display_data"
    },
    {
     "data": {
      "application/vnd.jupyter.widget-view+json": {
       "model_id": "2f19f8a8309c431b8c1004afe33c56fb",
       "version_major": 2,
       "version_minor": 0
      },
      "text/plain": [
       "  0%|          | 0/1 [00:00<?, ?it/s]"
      ]
     },
     "metadata": {},
     "output_type": "display_data"
    },
    {
     "data": {
      "application/vnd.jupyter.widget-view+json": {
       "model_id": "b9bb0fd8142e40438df3b8e3b6cd1641",
       "version_major": 2,
       "version_minor": 0
      },
      "text/plain": [
       "  0%|          | 0/1 [00:00<?, ?it/s]"
      ]
     },
     "metadata": {},
     "output_type": "display_data"
    },
    {
     "data": {
      "application/vnd.jupyter.widget-view+json": {
       "model_id": "a9c517b3b1de4bb0b43580791f7b50dd",
       "version_major": 2,
       "version_minor": 0
      },
      "text/plain": [
       "  0%|          | 0/1 [00:00<?, ?it/s]"
      ]
     },
     "metadata": {},
     "output_type": "display_data"
    },
    {
     "data": {
      "application/vnd.jupyter.widget-view+json": {
       "model_id": "fa63bd77bef44c19abbf135e816b3d8a",
       "version_major": 2,
       "version_minor": 0
      },
      "text/plain": [
       "  0%|          | 0/1 [00:00<?, ?it/s]"
      ]
     },
     "metadata": {},
     "output_type": "display_data"
    },
    {
     "data": {
      "application/vnd.jupyter.widget-view+json": {
       "model_id": "c3fd798d09954da6b9882bd3c1782871",
       "version_major": 2,
       "version_minor": 0
      },
      "text/plain": [
       "  0%|          | 0/1 [00:00<?, ?it/s]"
      ]
     },
     "metadata": {},
     "output_type": "display_data"
    },
    {
     "data": {
      "application/vnd.jupyter.widget-view+json": {
       "model_id": "81dbb35f65654768b095dc25bab21415",
       "version_major": 2,
       "version_minor": 0
      },
      "text/plain": [
       "  0%|          | 0/1 [00:00<?, ?it/s]"
      ]
     },
     "metadata": {},
     "output_type": "display_data"
    },
    {
     "data": {
      "application/vnd.jupyter.widget-view+json": {
       "model_id": "753d50df2dc64ef784dfbb038e00c671",
       "version_major": 2,
       "version_minor": 0
      },
      "text/plain": [
       "  0%|          | 0/1 [00:00<?, ?it/s]"
      ]
     },
     "metadata": {},
     "output_type": "display_data"
    },
    {
     "data": {
      "application/vnd.jupyter.widget-view+json": {
       "model_id": "c012c9bb18de4c20915e92cf5915e428",
       "version_major": 2,
       "version_minor": 0
      },
      "text/plain": [
       "  0%|          | 0/1 [00:00<?, ?it/s]"
      ]
     },
     "metadata": {},
     "output_type": "display_data"
    },
    {
     "data": {
      "application/vnd.jupyter.widget-view+json": {
       "model_id": "f5dafc015ff84df0a86a4687239c9e7c",
       "version_major": 2,
       "version_minor": 0
      },
      "text/plain": [
       "  0%|          | 0/1 [00:00<?, ?it/s]"
      ]
     },
     "metadata": {},
     "output_type": "display_data"
    },
    {
     "data": {
      "application/vnd.jupyter.widget-view+json": {
       "model_id": "c5c00c1522c04ba38f6ffbdddcb4123f",
       "version_major": 2,
       "version_minor": 0
      },
      "text/plain": [
       "  0%|          | 0/1 [00:00<?, ?it/s]"
      ]
     },
     "metadata": {},
     "output_type": "display_data"
    },
    {
     "data": {
      "application/vnd.jupyter.widget-view+json": {
       "model_id": "d2e6fdbff0e947e69be0cb167a9ed726",
       "version_major": 2,
       "version_minor": 0
      },
      "text/plain": [
       "  0%|          | 0/1 [00:00<?, ?it/s]"
      ]
     },
     "metadata": {},
     "output_type": "display_data"
    },
    {
     "data": {
      "application/vnd.jupyter.widget-view+json": {
       "model_id": "b8d4243eb900438497e7dc9224c5d18d",
       "version_major": 2,
       "version_minor": 0
      },
      "text/plain": [
       "  0%|          | 0/1 [00:00<?, ?it/s]"
      ]
     },
     "metadata": {},
     "output_type": "display_data"
    },
    {
     "data": {
      "application/vnd.jupyter.widget-view+json": {
       "model_id": "6d59488fdcdc4036a15268b3a47afb47",
       "version_major": 2,
       "version_minor": 0
      },
      "text/plain": [
       "  0%|          | 0/1 [00:00<?, ?it/s]"
      ]
     },
     "metadata": {},
     "output_type": "display_data"
    },
    {
     "data": {
      "application/vnd.jupyter.widget-view+json": {
       "model_id": "cea6fd6419ea4467b740e07406bcc904",
       "version_major": 2,
       "version_minor": 0
      },
      "text/plain": [
       "  0%|          | 0/1 [00:00<?, ?it/s]"
      ]
     },
     "metadata": {},
     "output_type": "display_data"
    },
    {
     "data": {
      "application/vnd.jupyter.widget-view+json": {
       "model_id": "ceb9cfb520334b07a7836b53b05efbcb",
       "version_major": 2,
       "version_minor": 0
      },
      "text/plain": [
       "  0%|          | 0/1 [00:00<?, ?it/s]"
      ]
     },
     "metadata": {},
     "output_type": "display_data"
    },
    {
     "data": {
      "application/vnd.jupyter.widget-view+json": {
       "model_id": "6029be56cbbd4f5fb2cbdc87abfc0b28",
       "version_major": 2,
       "version_minor": 0
      },
      "text/plain": [
       "  0%|          | 0/1 [00:00<?, ?it/s]"
      ]
     },
     "metadata": {},
     "output_type": "display_data"
    },
    {
     "data": {
      "application/vnd.jupyter.widget-view+json": {
       "model_id": "1f6e063306a64ef5bb75f9ff64182b48",
       "version_major": 2,
       "version_minor": 0
      },
      "text/plain": [
       "  0%|          | 0/1 [00:00<?, ?it/s]"
      ]
     },
     "metadata": {},
     "output_type": "display_data"
    },
    {
     "data": {
      "application/vnd.jupyter.widget-view+json": {
       "model_id": "71338493c4c84c97be92cf4e2ab47d3d",
       "version_major": 2,
       "version_minor": 0
      },
      "text/plain": [
       "  0%|          | 0/1 [00:00<?, ?it/s]"
      ]
     },
     "metadata": {},
     "output_type": "display_data"
    },
    {
     "data": {
      "application/vnd.jupyter.widget-view+json": {
       "model_id": "bea0d51e37f4403783eeb62b5b9038c1",
       "version_major": 2,
       "version_minor": 0
      },
      "text/plain": [
       "  0%|          | 0/1 [00:00<?, ?it/s]"
      ]
     },
     "metadata": {},
     "output_type": "display_data"
    },
    {
     "data": {
      "application/vnd.jupyter.widget-view+json": {
       "model_id": "b947f9534c7e4f499410dd8013170c77",
       "version_major": 2,
       "version_minor": 0
      },
      "text/plain": [
       "  0%|          | 0/1 [00:00<?, ?it/s]"
      ]
     },
     "metadata": {},
     "output_type": "display_data"
    },
    {
     "data": {
      "application/vnd.jupyter.widget-view+json": {
       "model_id": "4bf459c3d3bc4b8c97c8f70e48d7d408",
       "version_major": 2,
       "version_minor": 0
      },
      "text/plain": [
       "  0%|          | 0/1 [00:00<?, ?it/s]"
      ]
     },
     "metadata": {},
     "output_type": "display_data"
    },
    {
     "data": {
      "application/vnd.jupyter.widget-view+json": {
       "model_id": "1960ffac190f4e01ba1c882d50e38ad4",
       "version_major": 2,
       "version_minor": 0
      },
      "text/plain": [
       "  0%|          | 0/1 [00:00<?, ?it/s]"
      ]
     },
     "metadata": {},
     "output_type": "display_data"
    },
    {
     "data": {
      "application/vnd.jupyter.widget-view+json": {
       "model_id": "4d7848bd6d7f4578bd7e992f96f3b5e3",
       "version_major": 2,
       "version_minor": 0
      },
      "text/plain": [
       "  0%|          | 0/1 [00:00<?, ?it/s]"
      ]
     },
     "metadata": {},
     "output_type": "display_data"
    },
    {
     "data": {
      "application/vnd.jupyter.widget-view+json": {
       "model_id": "e501e918d5cd40228e3c2aa65b721bd2",
       "version_major": 2,
       "version_minor": 0
      },
      "text/plain": [
       "  0%|          | 0/1 [00:00<?, ?it/s]"
      ]
     },
     "metadata": {},
     "output_type": "display_data"
    },
    {
     "data": {
      "application/vnd.jupyter.widget-view+json": {
       "model_id": "023b1f14eac94eea95aeafcee481e5fe",
       "version_major": 2,
       "version_minor": 0
      },
      "text/plain": [
       "  0%|          | 0/1 [00:00<?, ?it/s]"
      ]
     },
     "metadata": {},
     "output_type": "display_data"
    },
    {
     "data": {
      "application/vnd.jupyter.widget-view+json": {
       "model_id": "eee0c69e20b448dcb54d7d469ad17e84",
       "version_major": 2,
       "version_minor": 0
      },
      "text/plain": [
       "  0%|          | 0/1 [00:00<?, ?it/s]"
      ]
     },
     "metadata": {},
     "output_type": "display_data"
    },
    {
     "data": {
      "application/vnd.jupyter.widget-view+json": {
       "model_id": "52197df2c9644017b24742ea4c9f92fc",
       "version_major": 2,
       "version_minor": 0
      },
      "text/plain": [
       "  0%|          | 0/1 [00:00<?, ?it/s]"
      ]
     },
     "metadata": {},
     "output_type": "display_data"
    },
    {
     "data": {
      "application/vnd.jupyter.widget-view+json": {
       "model_id": "b48e31588f45447d8400c8b72862c58b",
       "version_major": 2,
       "version_minor": 0
      },
      "text/plain": [
       "  0%|          | 0/1 [00:00<?, ?it/s]"
      ]
     },
     "metadata": {},
     "output_type": "display_data"
    },
    {
     "data": {
      "application/vnd.jupyter.widget-view+json": {
       "model_id": "95651a3d79c04c3898a2dbc52cce7edc",
       "version_major": 2,
       "version_minor": 0
      },
      "text/plain": [
       "  0%|          | 0/1 [00:00<?, ?it/s]"
      ]
     },
     "metadata": {},
     "output_type": "display_data"
    },
    {
     "data": {
      "application/vnd.jupyter.widget-view+json": {
       "model_id": "7676a027d26144dfa908841d7d6b3132",
       "version_major": 2,
       "version_minor": 0
      },
      "text/plain": [
       "  0%|          | 0/1 [00:00<?, ?it/s]"
      ]
     },
     "metadata": {},
     "output_type": "display_data"
    },
    {
     "data": {
      "application/vnd.jupyter.widget-view+json": {
       "model_id": "99d1897f524f4718b4976094842f3740",
       "version_major": 2,
       "version_minor": 0
      },
      "text/plain": [
       "  0%|          | 0/1 [00:00<?, ?it/s]"
      ]
     },
     "metadata": {},
     "output_type": "display_data"
    },
    {
     "data": {
      "application/vnd.jupyter.widget-view+json": {
       "model_id": "7b41a26361f749ef80e9c6f3637724dd",
       "version_major": 2,
       "version_minor": 0
      },
      "text/plain": [
       "  0%|          | 0/1 [00:00<?, ?it/s]"
      ]
     },
     "metadata": {},
     "output_type": "display_data"
    },
    {
     "data": {
      "application/vnd.jupyter.widget-view+json": {
       "model_id": "119b2afdcce2463799025f5e2f9a329a",
       "version_major": 2,
       "version_minor": 0
      },
      "text/plain": [
       "  0%|          | 0/1 [00:00<?, ?it/s]"
      ]
     },
     "metadata": {},
     "output_type": "display_data"
    },
    {
     "data": {
      "application/vnd.jupyter.widget-view+json": {
       "model_id": "36e324be62664e89b37a214008557b5d",
       "version_major": 2,
       "version_minor": 0
      },
      "text/plain": [
       "  0%|          | 0/1 [00:00<?, ?it/s]"
      ]
     },
     "metadata": {},
     "output_type": "display_data"
    },
    {
     "data": {
      "application/vnd.jupyter.widget-view+json": {
       "model_id": "35eb6ad18ba5426ab522444334426c4e",
       "version_major": 2,
       "version_minor": 0
      },
      "text/plain": [
       "  0%|          | 0/1 [00:00<?, ?it/s]"
      ]
     },
     "metadata": {},
     "output_type": "display_data"
    },
    {
     "data": {
      "application/vnd.jupyter.widget-view+json": {
       "model_id": "046b2f84734d4951bf4f835fb496ac79",
       "version_major": 2,
       "version_minor": 0
      },
      "text/plain": [
       "  0%|          | 0/1 [00:00<?, ?it/s]"
      ]
     },
     "metadata": {},
     "output_type": "display_data"
    },
    {
     "data": {
      "application/vnd.jupyter.widget-view+json": {
       "model_id": "9d3fc130cd68466a95a8863782635cd7",
       "version_major": 2,
       "version_minor": 0
      },
      "text/plain": [
       "  0%|          | 0/1 [00:00<?, ?it/s]"
      ]
     },
     "metadata": {},
     "output_type": "display_data"
    },
    {
     "data": {
      "application/vnd.jupyter.widget-view+json": {
       "model_id": "256fd9d7a0eb467987db16492c90e60a",
       "version_major": 2,
       "version_minor": 0
      },
      "text/plain": [
       "  0%|          | 0/1 [00:00<?, ?it/s]"
      ]
     },
     "metadata": {},
     "output_type": "display_data"
    },
    {
     "data": {
      "application/vnd.jupyter.widget-view+json": {
       "model_id": "115433cc6d034f83981b91c194ee448b",
       "version_major": 2,
       "version_minor": 0
      },
      "text/plain": [
       "  0%|          | 0/1 [00:00<?, ?it/s]"
      ]
     },
     "metadata": {},
     "output_type": "display_data"
    },
    {
     "data": {
      "application/vnd.jupyter.widget-view+json": {
       "model_id": "66e958f876f4449baff10157f88f3805",
       "version_major": 2,
       "version_minor": 0
      },
      "text/plain": [
       "  0%|          | 0/1 [00:00<?, ?it/s]"
      ]
     },
     "metadata": {},
     "output_type": "display_data"
    },
    {
     "data": {
      "application/vnd.jupyter.widget-view+json": {
       "model_id": "3fd08486344d4143813ba70d9249a068",
       "version_major": 2,
       "version_minor": 0
      },
      "text/plain": [
       "  0%|          | 0/1 [00:00<?, ?it/s]"
      ]
     },
     "metadata": {},
     "output_type": "display_data"
    },
    {
     "data": {
      "application/vnd.jupyter.widget-view+json": {
       "model_id": "b625666141094337857371f6f9b12072",
       "version_major": 2,
       "version_minor": 0
      },
      "text/plain": [
       "  0%|          | 0/1 [00:00<?, ?it/s]"
      ]
     },
     "metadata": {},
     "output_type": "display_data"
    },
    {
     "data": {
      "application/vnd.jupyter.widget-view+json": {
       "model_id": "7437b0ce60124d088b11fc3ef205815e",
       "version_major": 2,
       "version_minor": 0
      },
      "text/plain": [
       "  0%|          | 0/1 [00:00<?, ?it/s]"
      ]
     },
     "metadata": {},
     "output_type": "display_data"
    },
    {
     "data": {
      "application/vnd.jupyter.widget-view+json": {
       "model_id": "f7b250d662934bebb7b348e1a20a5ff1",
       "version_major": 2,
       "version_minor": 0
      },
      "text/plain": [
       "  0%|          | 0/1 [00:00<?, ?it/s]"
      ]
     },
     "metadata": {},
     "output_type": "display_data"
    },
    {
     "data": {
      "application/vnd.jupyter.widget-view+json": {
       "model_id": "f75524ece4c541948346c63e4542b681",
       "version_major": 2,
       "version_minor": 0
      },
      "text/plain": [
       "  0%|          | 0/1 [00:00<?, ?it/s]"
      ]
     },
     "metadata": {},
     "output_type": "display_data"
    },
    {
     "data": {
      "application/vnd.jupyter.widget-view+json": {
       "model_id": "4e41cf7c287249a1bb6113494e16e177",
       "version_major": 2,
       "version_minor": 0
      },
      "text/plain": [
       "  0%|          | 0/1 [00:00<?, ?it/s]"
      ]
     },
     "metadata": {},
     "output_type": "display_data"
    },
    {
     "data": {
      "application/vnd.jupyter.widget-view+json": {
       "model_id": "b80e9a00c7474b58a53c556e7a8578ce",
       "version_major": 2,
       "version_minor": 0
      },
      "text/plain": [
       "  0%|          | 0/1 [00:00<?, ?it/s]"
      ]
     },
     "metadata": {},
     "output_type": "display_data"
    },
    {
     "data": {
      "application/vnd.jupyter.widget-view+json": {
       "model_id": "109b84cd5787446a8a8b1aee94ce06a8",
       "version_major": 2,
       "version_minor": 0
      },
      "text/plain": [
       "  0%|          | 0/1 [00:00<?, ?it/s]"
      ]
     },
     "metadata": {},
     "output_type": "display_data"
    },
    {
     "data": {
      "application/vnd.jupyter.widget-view+json": {
       "model_id": "637f746b60da4f5e8e76b365ba682bff",
       "version_major": 2,
       "version_minor": 0
      },
      "text/plain": [
       "  0%|          | 0/1 [00:00<?, ?it/s]"
      ]
     },
     "metadata": {},
     "output_type": "display_data"
    },
    {
     "data": {
      "application/vnd.jupyter.widget-view+json": {
       "model_id": "697764daf6b449f08c8216a6e91bf417",
       "version_major": 2,
       "version_minor": 0
      },
      "text/plain": [
       "  0%|          | 0/1 [00:00<?, ?it/s]"
      ]
     },
     "metadata": {},
     "output_type": "display_data"
    },
    {
     "data": {
      "application/vnd.jupyter.widget-view+json": {
       "model_id": "757f02aacede442697bd6a31a66a2ee6",
       "version_major": 2,
       "version_minor": 0
      },
      "text/plain": [
       "  0%|          | 0/1 [00:00<?, ?it/s]"
      ]
     },
     "metadata": {},
     "output_type": "display_data"
    },
    {
     "data": {
      "application/vnd.jupyter.widget-view+json": {
       "model_id": "97faa792ca8a4f7492528a73432f9b3a",
       "version_major": 2,
       "version_minor": 0
      },
      "text/plain": [
       "  0%|          | 0/1 [00:00<?, ?it/s]"
      ]
     },
     "metadata": {},
     "output_type": "display_data"
    },
    {
     "data": {
      "application/vnd.jupyter.widget-view+json": {
       "model_id": "126f1d4208d84b1e9b97b9c587cb5a5d",
       "version_major": 2,
       "version_minor": 0
      },
      "text/plain": [
       "  0%|          | 0/1 [00:00<?, ?it/s]"
      ]
     },
     "metadata": {},
     "output_type": "display_data"
    },
    {
     "data": {
      "application/vnd.jupyter.widget-view+json": {
       "model_id": "cbf1490041db4a15aae7b8bd8b716ab3",
       "version_major": 2,
       "version_minor": 0
      },
      "text/plain": [
       "  0%|          | 0/1 [00:00<?, ?it/s]"
      ]
     },
     "metadata": {},
     "output_type": "display_data"
    },
    {
     "data": {
      "application/vnd.jupyter.widget-view+json": {
       "model_id": "453e9fef62eb4d668546b04159113fe1",
       "version_major": 2,
       "version_minor": 0
      },
      "text/plain": [
       "  0%|          | 0/1 [00:00<?, ?it/s]"
      ]
     },
     "metadata": {},
     "output_type": "display_data"
    },
    {
     "data": {
      "application/vnd.jupyter.widget-view+json": {
       "model_id": "98aef6b9d4394773bf6d65f52ec51606",
       "version_major": 2,
       "version_minor": 0
      },
      "text/plain": [
       "  0%|          | 0/1 [00:00<?, ?it/s]"
      ]
     },
     "metadata": {},
     "output_type": "display_data"
    },
    {
     "data": {
      "application/vnd.jupyter.widget-view+json": {
       "model_id": "adaa9910880d4e2083da87864aec3f2b",
       "version_major": 2,
       "version_minor": 0
      },
      "text/plain": [
       "  0%|          | 0/1 [00:00<?, ?it/s]"
      ]
     },
     "metadata": {},
     "output_type": "display_data"
    },
    {
     "data": {
      "application/vnd.jupyter.widget-view+json": {
       "model_id": "f812347512d04a9b80c2eee4cf383f4b",
       "version_major": 2,
       "version_minor": 0
      },
      "text/plain": [
       "  0%|          | 0/1 [00:00<?, ?it/s]"
      ]
     },
     "metadata": {},
     "output_type": "display_data"
    },
    {
     "data": {
      "application/vnd.jupyter.widget-view+json": {
       "model_id": "ce426b641e444ecca3790f498f7357a3",
       "version_major": 2,
       "version_minor": 0
      },
      "text/plain": [
       "  0%|          | 0/1 [00:00<?, ?it/s]"
      ]
     },
     "metadata": {},
     "output_type": "display_data"
    },
    {
     "data": {
      "application/vnd.jupyter.widget-view+json": {
       "model_id": "af8c311adaec47508e98601a5073f03e",
       "version_major": 2,
       "version_minor": 0
      },
      "text/plain": [
       "  0%|          | 0/1 [00:00<?, ?it/s]"
      ]
     },
     "metadata": {},
     "output_type": "display_data"
    },
    {
     "data": {
      "application/vnd.jupyter.widget-view+json": {
       "model_id": "625cfde5264b491d84bc6cdb3ad8e8cb",
       "version_major": 2,
       "version_minor": 0
      },
      "text/plain": [
       "  0%|          | 0/1 [00:00<?, ?it/s]"
      ]
     },
     "metadata": {},
     "output_type": "display_data"
    },
    {
     "data": {
      "application/vnd.jupyter.widget-view+json": {
       "model_id": "c9ed367b5fe04525acd8aa4aeb73926c",
       "version_major": 2,
       "version_minor": 0
      },
      "text/plain": [
       "  0%|          | 0/1 [00:00<?, ?it/s]"
      ]
     },
     "metadata": {},
     "output_type": "display_data"
    },
    {
     "data": {
      "application/vnd.jupyter.widget-view+json": {
       "model_id": "3ae9763bd3d44b4f9210e16283f69ebe",
       "version_major": 2,
       "version_minor": 0
      },
      "text/plain": [
       "  0%|          | 0/1 [00:00<?, ?it/s]"
      ]
     },
     "metadata": {},
     "output_type": "display_data"
    },
    {
     "data": {
      "application/vnd.jupyter.widget-view+json": {
       "model_id": "2a8edd3a776e4407b5f96adc7d3f8bd1",
       "version_major": 2,
       "version_minor": 0
      },
      "text/plain": [
       "  0%|          | 0/1 [00:00<?, ?it/s]"
      ]
     },
     "metadata": {},
     "output_type": "display_data"
    },
    {
     "data": {
      "application/vnd.jupyter.widget-view+json": {
       "model_id": "7a89494511814a02a58ae5ea54d2e739",
       "version_major": 2,
       "version_minor": 0
      },
      "text/plain": [
       "  0%|          | 0/1 [00:00<?, ?it/s]"
      ]
     },
     "metadata": {},
     "output_type": "display_data"
    },
    {
     "data": {
      "application/vnd.jupyter.widget-view+json": {
       "model_id": "b95c4ee0f1394b22b6b54ca2eaea743b",
       "version_major": 2,
       "version_minor": 0
      },
      "text/plain": [
       "  0%|          | 0/1 [00:00<?, ?it/s]"
      ]
     },
     "metadata": {},
     "output_type": "display_data"
    },
    {
     "data": {
      "application/vnd.jupyter.widget-view+json": {
       "model_id": "1a69b58c89e14f01a4c460a3f93174bf",
       "version_major": 2,
       "version_minor": 0
      },
      "text/plain": [
       "  0%|          | 0/1 [00:00<?, ?it/s]"
      ]
     },
     "metadata": {},
     "output_type": "display_data"
    },
    {
     "data": {
      "application/vnd.jupyter.widget-view+json": {
       "model_id": "6c1e43dbfa0f4c708f3c7c17106efff0",
       "version_major": 2,
       "version_minor": 0
      },
      "text/plain": [
       "  0%|          | 0/1 [00:00<?, ?it/s]"
      ]
     },
     "metadata": {},
     "output_type": "display_data"
    },
    {
     "data": {
      "application/vnd.jupyter.widget-view+json": {
       "model_id": "d541240f127b469f82d408a34e8a0aef",
       "version_major": 2,
       "version_minor": 0
      },
      "text/plain": [
       "  0%|          | 0/1 [00:00<?, ?it/s]"
      ]
     },
     "metadata": {},
     "output_type": "display_data"
    },
    {
     "data": {
      "application/vnd.jupyter.widget-view+json": {
       "model_id": "79c3b942e5de457a8701ea0193e64d1f",
       "version_major": 2,
       "version_minor": 0
      },
      "text/plain": [
       "  0%|          | 0/1 [00:00<?, ?it/s]"
      ]
     },
     "metadata": {},
     "output_type": "display_data"
    },
    {
     "data": {
      "application/vnd.jupyter.widget-view+json": {
       "model_id": "fd971e94bd70451bbc6b1d963f1a7848",
       "version_major": 2,
       "version_minor": 0
      },
      "text/plain": [
       "  0%|          | 0/1 [00:00<?, ?it/s]"
      ]
     },
     "metadata": {},
     "output_type": "display_data"
    },
    {
     "data": {
      "application/vnd.jupyter.widget-view+json": {
       "model_id": "cf22609735db46138dcb35ecdb7a2ef3",
       "version_major": 2,
       "version_minor": 0
      },
      "text/plain": [
       "  0%|          | 0/1 [00:00<?, ?it/s]"
      ]
     },
     "metadata": {},
     "output_type": "display_data"
    },
    {
     "data": {
      "application/vnd.jupyter.widget-view+json": {
       "model_id": "6c8ba27b29394e959f2b94f71f723986",
       "version_major": 2,
       "version_minor": 0
      },
      "text/plain": [
       "  0%|          | 0/1 [00:00<?, ?it/s]"
      ]
     },
     "metadata": {},
     "output_type": "display_data"
    },
    {
     "data": {
      "application/vnd.jupyter.widget-view+json": {
       "model_id": "e6ed5b31edc044a9882e71d481ecab5a",
       "version_major": 2,
       "version_minor": 0
      },
      "text/plain": [
       "  0%|          | 0/1 [00:00<?, ?it/s]"
      ]
     },
     "metadata": {},
     "output_type": "display_data"
    },
    {
     "data": {
      "application/vnd.jupyter.widget-view+json": {
       "model_id": "27c6757d55a34ba4959abca143abd971",
       "version_major": 2,
       "version_minor": 0
      },
      "text/plain": [
       "  0%|          | 0/1 [00:00<?, ?it/s]"
      ]
     },
     "metadata": {},
     "output_type": "display_data"
    },
    {
     "data": {
      "application/vnd.jupyter.widget-view+json": {
       "model_id": "bb972c8bfd754e0192836ef02e2e03de",
       "version_major": 2,
       "version_minor": 0
      },
      "text/plain": [
       "  0%|          | 0/1 [00:00<?, ?it/s]"
      ]
     },
     "metadata": {},
     "output_type": "display_data"
    },
    {
     "data": {
      "application/vnd.jupyter.widget-view+json": {
       "model_id": "c13d20e2d94042979ffa163164fbde08",
       "version_major": 2,
       "version_minor": 0
      },
      "text/plain": [
       "  0%|          | 0/1 [00:00<?, ?it/s]"
      ]
     },
     "metadata": {},
     "output_type": "display_data"
    },
    {
     "data": {
      "application/vnd.jupyter.widget-view+json": {
       "model_id": "16bc18d3685c40989de757b14289f03c",
       "version_major": 2,
       "version_minor": 0
      },
      "text/plain": [
       "  0%|          | 0/1 [00:00<?, ?it/s]"
      ]
     },
     "metadata": {},
     "output_type": "display_data"
    },
    {
     "data": {
      "application/vnd.jupyter.widget-view+json": {
       "model_id": "5dc3ad550876411698107169b205b7ef",
       "version_major": 2,
       "version_minor": 0
      },
      "text/plain": [
       "  0%|          | 0/1 [00:00<?, ?it/s]"
      ]
     },
     "metadata": {},
     "output_type": "display_data"
    },
    {
     "data": {
      "application/vnd.jupyter.widget-view+json": {
       "model_id": "4dc8bff1b790411e9c8fa7272521a191",
       "version_major": 2,
       "version_minor": 0
      },
      "text/plain": [
       "  0%|          | 0/1 [00:00<?, ?it/s]"
      ]
     },
     "metadata": {},
     "output_type": "display_data"
    },
    {
     "data": {
      "application/vnd.jupyter.widget-view+json": {
       "model_id": "9a16b47924664d63b9d4ea9bf57d17f7",
       "version_major": 2,
       "version_minor": 0
      },
      "text/plain": [
       "  0%|          | 0/1 [00:00<?, ?it/s]"
      ]
     },
     "metadata": {},
     "output_type": "display_data"
    },
    {
     "data": {
      "application/vnd.jupyter.widget-view+json": {
       "model_id": "36076a6ad56b46a1af1a166d752f35a9",
       "version_major": 2,
       "version_minor": 0
      },
      "text/plain": [
       "  0%|          | 0/1 [00:00<?, ?it/s]"
      ]
     },
     "metadata": {},
     "output_type": "display_data"
    },
    {
     "data": {
      "application/vnd.jupyter.widget-view+json": {
       "model_id": "a35e9e331ed74438905e939abc7b5f44",
       "version_major": 2,
       "version_minor": 0
      },
      "text/plain": [
       "  0%|          | 0/1 [00:00<?, ?it/s]"
      ]
     },
     "metadata": {},
     "output_type": "display_data"
    },
    {
     "data": {
      "application/vnd.jupyter.widget-view+json": {
       "model_id": "fda6ab95fab84f199eb8dc682ecd935d",
       "version_major": 2,
       "version_minor": 0
      },
      "text/plain": [
       "  0%|          | 0/1 [00:00<?, ?it/s]"
      ]
     },
     "metadata": {},
     "output_type": "display_data"
    },
    {
     "data": {
      "application/vnd.jupyter.widget-view+json": {
       "model_id": "a5f5b2a576e24ffeab3ea1e56529a7de",
       "version_major": 2,
       "version_minor": 0
      },
      "text/plain": [
       "  0%|          | 0/1 [00:00<?, ?it/s]"
      ]
     },
     "metadata": {},
     "output_type": "display_data"
    },
    {
     "data": {
      "application/vnd.jupyter.widget-view+json": {
       "model_id": "73b5f6b99bad4cdea460ed4280b40936",
       "version_major": 2,
       "version_minor": 0
      },
      "text/plain": [
       "  0%|          | 0/1 [00:00<?, ?it/s]"
      ]
     },
     "metadata": {},
     "output_type": "display_data"
    },
    {
     "data": {
      "application/vnd.jupyter.widget-view+json": {
       "model_id": "7ef89afadd1c4306ae8feed09bcb28d1",
       "version_major": 2,
       "version_minor": 0
      },
      "text/plain": [
       "  0%|          | 0/1 [00:00<?, ?it/s]"
      ]
     },
     "metadata": {},
     "output_type": "display_data"
    },
    {
     "data": {
      "application/vnd.jupyter.widget-view+json": {
       "model_id": "00fbebf2c5b24653a6113f864708d857",
       "version_major": 2,
       "version_minor": 0
      },
      "text/plain": [
       "  0%|          | 0/1 [00:00<?, ?it/s]"
      ]
     },
     "metadata": {},
     "output_type": "display_data"
    },
    {
     "data": {
      "application/vnd.jupyter.widget-view+json": {
       "model_id": "4972d13ed2924b1caff2dfa60594a665",
       "version_major": 2,
       "version_minor": 0
      },
      "text/plain": [
       "  0%|          | 0/1 [00:00<?, ?it/s]"
      ]
     },
     "metadata": {},
     "output_type": "display_data"
    },
    {
     "data": {
      "application/vnd.jupyter.widget-view+json": {
       "model_id": "b7a15617be96439aa2015ee3576f1db1",
       "version_major": 2,
       "version_minor": 0
      },
      "text/plain": [
       "  0%|          | 0/1 [00:00<?, ?it/s]"
      ]
     },
     "metadata": {},
     "output_type": "display_data"
    },
    {
     "data": {
      "application/vnd.jupyter.widget-view+json": {
       "model_id": "e28a3870fc8d422fba6ea9a2ec506d3a",
       "version_major": 2,
       "version_minor": 0
      },
      "text/plain": [
       "  0%|          | 0/1 [00:00<?, ?it/s]"
      ]
     },
     "metadata": {},
     "output_type": "display_data"
    },
    {
     "data": {
      "application/vnd.jupyter.widget-view+json": {
       "model_id": "b5b6b19521ed4e2db2ddc4a682ecb1b6",
       "version_major": 2,
       "version_minor": 0
      },
      "text/plain": [
       "  0%|          | 0/1 [00:00<?, ?it/s]"
      ]
     },
     "metadata": {},
     "output_type": "display_data"
    },
    {
     "data": {
      "application/vnd.jupyter.widget-view+json": {
       "model_id": "d961416f60e14a349da75083272e4c26",
       "version_major": 2,
       "version_minor": 0
      },
      "text/plain": [
       "  0%|          | 0/1 [00:00<?, ?it/s]"
      ]
     },
     "metadata": {},
     "output_type": "display_data"
    },
    {
     "data": {
      "application/vnd.jupyter.widget-view+json": {
       "model_id": "bf9ae545b0574568b1d3e7b22c58ec95",
       "version_major": 2,
       "version_minor": 0
      },
      "text/plain": [
       "  0%|          | 0/1 [00:00<?, ?it/s]"
      ]
     },
     "metadata": {},
     "output_type": "display_data"
    },
    {
     "data": {
      "application/vnd.jupyter.widget-view+json": {
       "model_id": "3dc6e602f1994cb8ae36bd08a8c68bcb",
       "version_major": 2,
       "version_minor": 0
      },
      "text/plain": [
       "  0%|          | 0/1 [00:00<?, ?it/s]"
      ]
     },
     "metadata": {},
     "output_type": "display_data"
    },
    {
     "data": {
      "application/vnd.jupyter.widget-view+json": {
       "model_id": "af7f7533da9e473a871930912c128110",
       "version_major": 2,
       "version_minor": 0
      },
      "text/plain": [
       "  0%|          | 0/1 [00:00<?, ?it/s]"
      ]
     },
     "metadata": {},
     "output_type": "display_data"
    },
    {
     "data": {
      "application/vnd.jupyter.widget-view+json": {
       "model_id": "8176a6937358486ba7c16226d8c039d5",
       "version_major": 2,
       "version_minor": 0
      },
      "text/plain": [
       "  0%|          | 0/1 [00:00<?, ?it/s]"
      ]
     },
     "metadata": {},
     "output_type": "display_data"
    },
    {
     "data": {
      "application/vnd.jupyter.widget-view+json": {
       "model_id": "c0f8caaafefc4c909ec8f69f2c223f03",
       "version_major": 2,
       "version_minor": 0
      },
      "text/plain": [
       "  0%|          | 0/1 [00:00<?, ?it/s]"
      ]
     },
     "metadata": {},
     "output_type": "display_data"
    },
    {
     "data": {
      "application/vnd.jupyter.widget-view+json": {
       "model_id": "f78f3f57316248ac8c8038cde7a27fdd",
       "version_major": 2,
       "version_minor": 0
      },
      "text/plain": [
       "  0%|          | 0/1 [00:00<?, ?it/s]"
      ]
     },
     "metadata": {},
     "output_type": "display_data"
    },
    {
     "data": {
      "application/vnd.jupyter.widget-view+json": {
       "model_id": "ef370bd638364272af185fedfd14723f",
       "version_major": 2,
       "version_minor": 0
      },
      "text/plain": [
       "  0%|          | 0/1 [00:00<?, ?it/s]"
      ]
     },
     "metadata": {},
     "output_type": "display_data"
    },
    {
     "data": {
      "application/vnd.jupyter.widget-view+json": {
       "model_id": "cdef30f9f3f2468d89c65c3b8722b24c",
       "version_major": 2,
       "version_minor": 0
      },
      "text/plain": [
       "  0%|          | 0/1 [00:00<?, ?it/s]"
      ]
     },
     "metadata": {},
     "output_type": "display_data"
    },
    {
     "data": {
      "application/vnd.jupyter.widget-view+json": {
       "model_id": "c9f91880711445ac99c3a3762f8059f6",
       "version_major": 2,
       "version_minor": 0
      },
      "text/plain": [
       "  0%|          | 0/1 [00:00<?, ?it/s]"
      ]
     },
     "metadata": {},
     "output_type": "display_data"
    },
    {
     "data": {
      "application/vnd.jupyter.widget-view+json": {
       "model_id": "4700746a40b24caf9541c5035b4cfc33",
       "version_major": 2,
       "version_minor": 0
      },
      "text/plain": [
       "  0%|          | 0/1 [00:00<?, ?it/s]"
      ]
     },
     "metadata": {},
     "output_type": "display_data"
    },
    {
     "data": {
      "application/vnd.jupyter.widget-view+json": {
       "model_id": "0e555a7deffa4a73aae0e01dd2a021ea",
       "version_major": 2,
       "version_minor": 0
      },
      "text/plain": [
       "  0%|          | 0/1 [00:00<?, ?it/s]"
      ]
     },
     "metadata": {},
     "output_type": "display_data"
    },
    {
     "data": {
      "application/vnd.jupyter.widget-view+json": {
       "model_id": "fbe079d7770e4a4989aca8eaab29ac62",
       "version_major": 2,
       "version_minor": 0
      },
      "text/plain": [
       "  0%|          | 0/1 [00:00<?, ?it/s]"
      ]
     },
     "metadata": {},
     "output_type": "display_data"
    },
    {
     "data": {
      "application/vnd.jupyter.widget-view+json": {
       "model_id": "ac1bc2b4202c44c28edee60bebc14782",
       "version_major": 2,
       "version_minor": 0
      },
      "text/plain": [
       "  0%|          | 0/1 [00:00<?, ?it/s]"
      ]
     },
     "metadata": {},
     "output_type": "display_data"
    },
    {
     "data": {
      "application/vnd.jupyter.widget-view+json": {
       "model_id": "4be35163e9034f708a0d2a9935ef4849",
       "version_major": 2,
       "version_minor": 0
      },
      "text/plain": [
       "  0%|          | 0/1 [00:00<?, ?it/s]"
      ]
     },
     "metadata": {},
     "output_type": "display_data"
    },
    {
     "data": {
      "application/vnd.jupyter.widget-view+json": {
       "model_id": "882d484933e6486594707353d22cf3ad",
       "version_major": 2,
       "version_minor": 0
      },
      "text/plain": [
       "  0%|          | 0/1 [00:00<?, ?it/s]"
      ]
     },
     "metadata": {},
     "output_type": "display_data"
    },
    {
     "data": {
      "application/vnd.jupyter.widget-view+json": {
       "model_id": "c12bb60f69304ffa970aab57f1cf050c",
       "version_major": 2,
       "version_minor": 0
      },
      "text/plain": [
       "  0%|          | 0/1 [00:00<?, ?it/s]"
      ]
     },
     "metadata": {},
     "output_type": "display_data"
    },
    {
     "data": {
      "application/vnd.jupyter.widget-view+json": {
       "model_id": "a16d37c0923343279c29bd2e2db1fcda",
       "version_major": 2,
       "version_minor": 0
      },
      "text/plain": [
       "  0%|          | 0/1 [00:00<?, ?it/s]"
      ]
     },
     "metadata": {},
     "output_type": "display_data"
    },
    {
     "data": {
      "application/vnd.jupyter.widget-view+json": {
       "model_id": "de95ab73f2cd4ab8aeca1420b8337c02",
       "version_major": 2,
       "version_minor": 0
      },
      "text/plain": [
       "  0%|          | 0/1 [00:00<?, ?it/s]"
      ]
     },
     "metadata": {},
     "output_type": "display_data"
    },
    {
     "data": {
      "application/vnd.jupyter.widget-view+json": {
       "model_id": "d602ee8d4ce84468a4042f04449c45f9",
       "version_major": 2,
       "version_minor": 0
      },
      "text/plain": [
       "  0%|          | 0/1 [00:00<?, ?it/s]"
      ]
     },
     "metadata": {},
     "output_type": "display_data"
    },
    {
     "data": {
      "application/vnd.jupyter.widget-view+json": {
       "model_id": "65d7733944a4459f9032a8efd0796d6d",
       "version_major": 2,
       "version_minor": 0
      },
      "text/plain": [
       "  0%|          | 0/1 [00:00<?, ?it/s]"
      ]
     },
     "metadata": {},
     "output_type": "display_data"
    },
    {
     "data": {
      "application/vnd.jupyter.widget-view+json": {
       "model_id": "a05526d73e184b359cd741da7fc9f96c",
       "version_major": 2,
       "version_minor": 0
      },
      "text/plain": [
       "  0%|          | 0/1 [00:00<?, ?it/s]"
      ]
     },
     "metadata": {},
     "output_type": "display_data"
    },
    {
     "data": {
      "application/vnd.jupyter.widget-view+json": {
       "model_id": "2840dae86a9c4e7fade7b40fdf114b57",
       "version_major": 2,
       "version_minor": 0
      },
      "text/plain": [
       "  0%|          | 0/1 [00:00<?, ?it/s]"
      ]
     },
     "metadata": {},
     "output_type": "display_data"
    },
    {
     "data": {
      "application/vnd.jupyter.widget-view+json": {
       "model_id": "6640d5b425f44629aef4642b4e849090",
       "version_major": 2,
       "version_minor": 0
      },
      "text/plain": [
       "  0%|          | 0/1 [00:00<?, ?it/s]"
      ]
     },
     "metadata": {},
     "output_type": "display_data"
    },
    {
     "data": {
      "application/vnd.jupyter.widget-view+json": {
       "model_id": "376b2d520a954884a1a88d8605c5e73f",
       "version_major": 2,
       "version_minor": 0
      },
      "text/plain": [
       "  0%|          | 0/1 [00:00<?, ?it/s]"
      ]
     },
     "metadata": {},
     "output_type": "display_data"
    },
    {
     "data": {
      "application/vnd.jupyter.widget-view+json": {
       "model_id": "7ead42f8a6a54ab8858712a7cb082824",
       "version_major": 2,
       "version_minor": 0
      },
      "text/plain": [
       "  0%|          | 0/1 [00:00<?, ?it/s]"
      ]
     },
     "metadata": {},
     "output_type": "display_data"
    },
    {
     "data": {
      "application/vnd.jupyter.widget-view+json": {
       "model_id": "efe5e08ce110438c974a5feee1dd1f71",
       "version_major": 2,
       "version_minor": 0
      },
      "text/plain": [
       "  0%|          | 0/1 [00:00<?, ?it/s]"
      ]
     },
     "metadata": {},
     "output_type": "display_data"
    },
    {
     "data": {
      "application/vnd.jupyter.widget-view+json": {
       "model_id": "e79ac879b8514230aecc645eb4ad5daf",
       "version_major": 2,
       "version_minor": 0
      },
      "text/plain": [
       "  0%|          | 0/1 [00:00<?, ?it/s]"
      ]
     },
     "metadata": {},
     "output_type": "display_data"
    },
    {
     "data": {
      "application/vnd.jupyter.widget-view+json": {
       "model_id": "0829074732034f79b0c24a33fd954def",
       "version_major": 2,
       "version_minor": 0
      },
      "text/plain": [
       "  0%|          | 0/1 [00:00<?, ?it/s]"
      ]
     },
     "metadata": {},
     "output_type": "display_data"
    },
    {
     "data": {
      "application/vnd.jupyter.widget-view+json": {
       "model_id": "ea554308e0424ac699051474e796d56c",
       "version_major": 2,
       "version_minor": 0
      },
      "text/plain": [
       "  0%|          | 0/1 [00:00<?, ?it/s]"
      ]
     },
     "metadata": {},
     "output_type": "display_data"
    },
    {
     "data": {
      "application/vnd.jupyter.widget-view+json": {
       "model_id": "53a4b228b6ec47dcb95be88a5a3b9e9c",
       "version_major": 2,
       "version_minor": 0
      },
      "text/plain": [
       "  0%|          | 0/1 [00:00<?, ?it/s]"
      ]
     },
     "metadata": {},
     "output_type": "display_data"
    },
    {
     "data": {
      "application/vnd.jupyter.widget-view+json": {
       "model_id": "4efaaf94db004ffa85744d92534e0f83",
       "version_major": 2,
       "version_minor": 0
      },
      "text/plain": [
       "  0%|          | 0/1 [00:00<?, ?it/s]"
      ]
     },
     "metadata": {},
     "output_type": "display_data"
    },
    {
     "data": {
      "application/vnd.jupyter.widget-view+json": {
       "model_id": "4bb066e363a547088878c86e018f536f",
       "version_major": 2,
       "version_minor": 0
      },
      "text/plain": [
       "  0%|          | 0/1 [00:00<?, ?it/s]"
      ]
     },
     "metadata": {},
     "output_type": "display_data"
    },
    {
     "data": {
      "application/vnd.jupyter.widget-view+json": {
       "model_id": "4993a98c07b14156b38e08ef55cee3b2",
       "version_major": 2,
       "version_minor": 0
      },
      "text/plain": [
       "  0%|          | 0/1 [00:00<?, ?it/s]"
      ]
     },
     "metadata": {},
     "output_type": "display_data"
    },
    {
     "data": {
      "application/vnd.jupyter.widget-view+json": {
       "model_id": "22c638d0d82442fc9ab8f05b04e33aa2",
       "version_major": 2,
       "version_minor": 0
      },
      "text/plain": [
       "  0%|          | 0/1 [00:00<?, ?it/s]"
      ]
     },
     "metadata": {},
     "output_type": "display_data"
    },
    {
     "data": {
      "application/vnd.jupyter.widget-view+json": {
       "model_id": "7ac4c0f9657342c9b49c207a6aaf0f79",
       "version_major": 2,
       "version_minor": 0
      },
      "text/plain": [
       "  0%|          | 0/1 [00:00<?, ?it/s]"
      ]
     },
     "metadata": {},
     "output_type": "display_data"
    },
    {
     "data": {
      "application/vnd.jupyter.widget-view+json": {
       "model_id": "54a2e0eeb3764150af3885197ac8ff09",
       "version_major": 2,
       "version_minor": 0
      },
      "text/plain": [
       "  0%|          | 0/1 [00:00<?, ?it/s]"
      ]
     },
     "metadata": {},
     "output_type": "display_data"
    },
    {
     "data": {
      "application/vnd.jupyter.widget-view+json": {
       "model_id": "f7e2c79f80ed469a8e238da3d0e7aaa9",
       "version_major": 2,
       "version_minor": 0
      },
      "text/plain": [
       "  0%|          | 0/1 [00:00<?, ?it/s]"
      ]
     },
     "metadata": {},
     "output_type": "display_data"
    },
    {
     "data": {
      "application/vnd.jupyter.widget-view+json": {
       "model_id": "9aeb3baea7c84336b25b3da8d9a5e738",
       "version_major": 2,
       "version_minor": 0
      },
      "text/plain": [
       "  0%|          | 0/1 [00:00<?, ?it/s]"
      ]
     },
     "metadata": {},
     "output_type": "display_data"
    },
    {
     "data": {
      "application/vnd.jupyter.widget-view+json": {
       "model_id": "c98e2f799fb04222968e48397d44b9ea",
       "version_major": 2,
       "version_minor": 0
      },
      "text/plain": [
       "  0%|          | 0/1 [00:00<?, ?it/s]"
      ]
     },
     "metadata": {},
     "output_type": "display_data"
    },
    {
     "data": {
      "application/vnd.jupyter.widget-view+json": {
       "model_id": "d4558a8ec36c491c84214a7d4818e913",
       "version_major": 2,
       "version_minor": 0
      },
      "text/plain": [
       "  0%|          | 0/1 [00:00<?, ?it/s]"
      ]
     },
     "metadata": {},
     "output_type": "display_data"
    },
    {
     "data": {
      "application/vnd.jupyter.widget-view+json": {
       "model_id": "d9e39f261dff43c2ada06ffc57038e2c",
       "version_major": 2,
       "version_minor": 0
      },
      "text/plain": [
       "  0%|          | 0/1 [00:00<?, ?it/s]"
      ]
     },
     "metadata": {},
     "output_type": "display_data"
    },
    {
     "data": {
      "application/vnd.jupyter.widget-view+json": {
       "model_id": "7dc299c970cb4221bcbe53ebf1210b75",
       "version_major": 2,
       "version_minor": 0
      },
      "text/plain": [
       "  0%|          | 0/1 [00:00<?, ?it/s]"
      ]
     },
     "metadata": {},
     "output_type": "display_data"
    },
    {
     "data": {
      "application/vnd.jupyter.widget-view+json": {
       "model_id": "5e815eaf8a2f4b4fbd2df959e2e1ce4c",
       "version_major": 2,
       "version_minor": 0
      },
      "text/plain": [
       "  0%|          | 0/1 [00:00<?, ?it/s]"
      ]
     },
     "metadata": {},
     "output_type": "display_data"
    },
    {
     "data": {
      "application/vnd.jupyter.widget-view+json": {
       "model_id": "80079324d6f2431e844b1379371fe1bf",
       "version_major": 2,
       "version_minor": 0
      },
      "text/plain": [
       "  0%|          | 0/1 [00:00<?, ?it/s]"
      ]
     },
     "metadata": {},
     "output_type": "display_data"
    },
    {
     "data": {
      "application/vnd.jupyter.widget-view+json": {
       "model_id": "6c0a1c5ee597418cb0e8533fc6dc1490",
       "version_major": 2,
       "version_minor": 0
      },
      "text/plain": [
       "  0%|          | 0/1 [00:00<?, ?it/s]"
      ]
     },
     "metadata": {},
     "output_type": "display_data"
    },
    {
     "data": {
      "application/vnd.jupyter.widget-view+json": {
       "model_id": "4a7f475fecae48ad9e3b59d7b1b7986d",
       "version_major": 2,
       "version_minor": 0
      },
      "text/plain": [
       "  0%|          | 0/1 [00:00<?, ?it/s]"
      ]
     },
     "metadata": {},
     "output_type": "display_data"
    },
    {
     "data": {
      "application/vnd.jupyter.widget-view+json": {
       "model_id": "74259b898a174b849c04c7b556511bae",
       "version_major": 2,
       "version_minor": 0
      },
      "text/plain": [
       "  0%|          | 0/1 [00:00<?, ?it/s]"
      ]
     },
     "metadata": {},
     "output_type": "display_data"
    },
    {
     "data": {
      "application/vnd.jupyter.widget-view+json": {
       "model_id": "1c5c25b40b724869923299f704124753",
       "version_major": 2,
       "version_minor": 0
      },
      "text/plain": [
       "  0%|          | 0/1 [00:00<?, ?it/s]"
      ]
     },
     "metadata": {},
     "output_type": "display_data"
    },
    {
     "data": {
      "application/vnd.jupyter.widget-view+json": {
       "model_id": "3123039ef51841199e55a270f031e367",
       "version_major": 2,
       "version_minor": 0
      },
      "text/plain": [
       "  0%|          | 0/1 [00:00<?, ?it/s]"
      ]
     },
     "metadata": {},
     "output_type": "display_data"
    },
    {
     "data": {
      "application/vnd.jupyter.widget-view+json": {
       "model_id": "813a1dcff5df4383963a94f28215a94c",
       "version_major": 2,
       "version_minor": 0
      },
      "text/plain": [
       "  0%|          | 0/1 [00:00<?, ?it/s]"
      ]
     },
     "metadata": {},
     "output_type": "display_data"
    },
    {
     "data": {
      "application/vnd.jupyter.widget-view+json": {
       "model_id": "035e38432c364f7fbc4b95da8752b3b7",
       "version_major": 2,
       "version_minor": 0
      },
      "text/plain": [
       "  0%|          | 0/1 [00:00<?, ?it/s]"
      ]
     },
     "metadata": {},
     "output_type": "display_data"
    },
    {
     "data": {
      "application/vnd.jupyter.widget-view+json": {
       "model_id": "7614c10c08fa467e9ade981368b06772",
       "version_major": 2,
       "version_minor": 0
      },
      "text/plain": [
       "  0%|          | 0/1 [00:00<?, ?it/s]"
      ]
     },
     "metadata": {},
     "output_type": "display_data"
    },
    {
     "data": {
      "application/vnd.jupyter.widget-view+json": {
       "model_id": "59040aa394854dbfb9c4b792d39ae2e8",
       "version_major": 2,
       "version_minor": 0
      },
      "text/plain": [
       "  0%|          | 0/1 [00:00<?, ?it/s]"
      ]
     },
     "metadata": {},
     "output_type": "display_data"
    },
    {
     "data": {
      "application/vnd.jupyter.widget-view+json": {
       "model_id": "dcd1c61367fc488ba972868aed47c6a9",
       "version_major": 2,
       "version_minor": 0
      },
      "text/plain": [
       "  0%|          | 0/1 [00:00<?, ?it/s]"
      ]
     },
     "metadata": {},
     "output_type": "display_data"
    },
    {
     "data": {
      "application/vnd.jupyter.widget-view+json": {
       "model_id": "9464f7a6b77143c18cbc5f9f6b1b548d",
       "version_major": 2,
       "version_minor": 0
      },
      "text/plain": [
       "  0%|          | 0/1 [00:00<?, ?it/s]"
      ]
     },
     "metadata": {},
     "output_type": "display_data"
    },
    {
     "data": {
      "application/vnd.jupyter.widget-view+json": {
       "model_id": "96d565957ab84fe98048f04d74a33be0",
       "version_major": 2,
       "version_minor": 0
      },
      "text/plain": [
       "  0%|          | 0/1 [00:00<?, ?it/s]"
      ]
     },
     "metadata": {},
     "output_type": "display_data"
    },
    {
     "data": {
      "application/vnd.jupyter.widget-view+json": {
       "model_id": "9f1fb628806548e18ead8f5ea1e1aa49",
       "version_major": 2,
       "version_minor": 0
      },
      "text/plain": [
       "  0%|          | 0/1 [00:00<?, ?it/s]"
      ]
     },
     "metadata": {},
     "output_type": "display_data"
    },
    {
     "data": {
      "application/vnd.jupyter.widget-view+json": {
       "model_id": "e2f713c883a34ac097ce844a8cc71066",
       "version_major": 2,
       "version_minor": 0
      },
      "text/plain": [
       "  0%|          | 0/1 [00:00<?, ?it/s]"
      ]
     },
     "metadata": {},
     "output_type": "display_data"
    },
    {
     "data": {
      "application/vnd.jupyter.widget-view+json": {
       "model_id": "9c97db7395f74956ae56fca185224857",
       "version_major": 2,
       "version_minor": 0
      },
      "text/plain": [
       "  0%|          | 0/1 [00:00<?, ?it/s]"
      ]
     },
     "metadata": {},
     "output_type": "display_data"
    },
    {
     "data": {
      "application/vnd.jupyter.widget-view+json": {
       "model_id": "6497c0f5df744756a8c8e8589acdf52e",
       "version_major": 2,
       "version_minor": 0
      },
      "text/plain": [
       "  0%|          | 0/1 [00:00<?, ?it/s]"
      ]
     },
     "metadata": {},
     "output_type": "display_data"
    },
    {
     "data": {
      "application/vnd.jupyter.widget-view+json": {
       "model_id": "ab6b129e5c2b461c88f97f33f8014c94",
       "version_major": 2,
       "version_minor": 0
      },
      "text/plain": [
       "  0%|          | 0/1 [00:00<?, ?it/s]"
      ]
     },
     "metadata": {},
     "output_type": "display_data"
    },
    {
     "data": {
      "application/vnd.jupyter.widget-view+json": {
       "model_id": "15dc8c4084ed43388ec0c37038fe9178",
       "version_major": 2,
       "version_minor": 0
      },
      "text/plain": [
       "  0%|          | 0/1 [00:00<?, ?it/s]"
      ]
     },
     "metadata": {},
     "output_type": "display_data"
    },
    {
     "data": {
      "application/vnd.jupyter.widget-view+json": {
       "model_id": "f0364e1e22c74acaa1dc28643217f06a",
       "version_major": 2,
       "version_minor": 0
      },
      "text/plain": [
       "  0%|          | 0/1 [00:00<?, ?it/s]"
      ]
     },
     "metadata": {},
     "output_type": "display_data"
    },
    {
     "data": {
      "application/vnd.jupyter.widget-view+json": {
       "model_id": "3207c8a0d6784f97ad7b6cac1fb306bc",
       "version_major": 2,
       "version_minor": 0
      },
      "text/plain": [
       "  0%|          | 0/1 [00:00<?, ?it/s]"
      ]
     },
     "metadata": {},
     "output_type": "display_data"
    },
    {
     "data": {
      "application/vnd.jupyter.widget-view+json": {
       "model_id": "1cfc54cc458e44a5b616dd56367b5d0e",
       "version_major": 2,
       "version_minor": 0
      },
      "text/plain": [
       "  0%|          | 0/1 [00:00<?, ?it/s]"
      ]
     },
     "metadata": {},
     "output_type": "display_data"
    },
    {
     "data": {
      "application/vnd.jupyter.widget-view+json": {
       "model_id": "08a2f0f9293f42bcbefe405e699dc7f8",
       "version_major": 2,
       "version_minor": 0
      },
      "text/plain": [
       "  0%|          | 0/1 [00:00<?, ?it/s]"
      ]
     },
     "metadata": {},
     "output_type": "display_data"
    },
    {
     "data": {
      "application/vnd.jupyter.widget-view+json": {
       "model_id": "e35db3fab7024e088a41b6d74b8c9164",
       "version_major": 2,
       "version_minor": 0
      },
      "text/plain": [
       "  0%|          | 0/1 [00:00<?, ?it/s]"
      ]
     },
     "metadata": {},
     "output_type": "display_data"
    },
    {
     "data": {
      "application/vnd.jupyter.widget-view+json": {
       "model_id": "585a7037ca44438e84aa469f5915bb67",
       "version_major": 2,
       "version_minor": 0
      },
      "text/plain": [
       "  0%|          | 0/1 [00:00<?, ?it/s]"
      ]
     },
     "metadata": {},
     "output_type": "display_data"
    },
    {
     "data": {
      "application/vnd.jupyter.widget-view+json": {
       "model_id": "982e9ea5f3074bc7aa566097d77351de",
       "version_major": 2,
       "version_minor": 0
      },
      "text/plain": [
       "  0%|          | 0/1 [00:00<?, ?it/s]"
      ]
     },
     "metadata": {},
     "output_type": "display_data"
    },
    {
     "data": {
      "application/vnd.jupyter.widget-view+json": {
       "model_id": "2f15385252ec4388bc19c283e7f995c4",
       "version_major": 2,
       "version_minor": 0
      },
      "text/plain": [
       "  0%|          | 0/1 [00:00<?, ?it/s]"
      ]
     },
     "metadata": {},
     "output_type": "display_data"
    },
    {
     "data": {
      "application/vnd.jupyter.widget-view+json": {
       "model_id": "3e1f6e06c7aa42e2a4bb0b1c668e0f0a",
       "version_major": 2,
       "version_minor": 0
      },
      "text/plain": [
       "  0%|          | 0/1 [00:00<?, ?it/s]"
      ]
     },
     "metadata": {},
     "output_type": "display_data"
    },
    {
     "data": {
      "application/vnd.jupyter.widget-view+json": {
       "model_id": "af82d1fee68d4303ae3b197afd97099e",
       "version_major": 2,
       "version_minor": 0
      },
      "text/plain": [
       "  0%|          | 0/1 [00:00<?, ?it/s]"
      ]
     },
     "metadata": {},
     "output_type": "display_data"
    },
    {
     "data": {
      "application/vnd.jupyter.widget-view+json": {
       "model_id": "5fbdb2bd0eab4dfb8dd5b8e904582325",
       "version_major": 2,
       "version_minor": 0
      },
      "text/plain": [
       "  0%|          | 0/1 [00:00<?, ?it/s]"
      ]
     },
     "metadata": {},
     "output_type": "display_data"
    },
    {
     "data": {
      "application/vnd.jupyter.widget-view+json": {
       "model_id": "88e69b1438644d98b4d4677c743daced",
       "version_major": 2,
       "version_minor": 0
      },
      "text/plain": [
       "  0%|          | 0/1 [00:00<?, ?it/s]"
      ]
     },
     "metadata": {},
     "output_type": "display_data"
    },
    {
     "data": {
      "application/vnd.jupyter.widget-view+json": {
       "model_id": "f554964d78ab4b6aa7fd451cc8dc5038",
       "version_major": 2,
       "version_minor": 0
      },
      "text/plain": [
       "  0%|          | 0/1 [00:00<?, ?it/s]"
      ]
     },
     "metadata": {},
     "output_type": "display_data"
    },
    {
     "data": {
      "application/vnd.jupyter.widget-view+json": {
       "model_id": "8631b8f159ab4455966acfb53af2672f",
       "version_major": 2,
       "version_minor": 0
      },
      "text/plain": [
       "  0%|          | 0/1 [00:00<?, ?it/s]"
      ]
     },
     "metadata": {},
     "output_type": "display_data"
    },
    {
     "data": {
      "application/vnd.jupyter.widget-view+json": {
       "model_id": "0f4186d9e5814396bbc2c23dbf016047",
       "version_major": 2,
       "version_minor": 0
      },
      "text/plain": [
       "  0%|          | 0/1 [00:00<?, ?it/s]"
      ]
     },
     "metadata": {},
     "output_type": "display_data"
    },
    {
     "data": {
      "application/vnd.jupyter.widget-view+json": {
       "model_id": "219c7f7e3ba744aab49b1fdd96e893b0",
       "version_major": 2,
       "version_minor": 0
      },
      "text/plain": [
       "  0%|          | 0/1 [00:00<?, ?it/s]"
      ]
     },
     "metadata": {},
     "output_type": "display_data"
    },
    {
     "data": {
      "application/vnd.jupyter.widget-view+json": {
       "model_id": "86e0f00ff2544dadacae07b13e4cca4c",
       "version_major": 2,
       "version_minor": 0
      },
      "text/plain": [
       "  0%|          | 0/1 [00:00<?, ?it/s]"
      ]
     },
     "metadata": {},
     "output_type": "display_data"
    },
    {
     "data": {
      "application/vnd.jupyter.widget-view+json": {
       "model_id": "9de04c24082d4a7c9fcc8de62d86cac4",
       "version_major": 2,
       "version_minor": 0
      },
      "text/plain": [
       "  0%|          | 0/1 [00:00<?, ?it/s]"
      ]
     },
     "metadata": {},
     "output_type": "display_data"
    },
    {
     "data": {
      "application/vnd.jupyter.widget-view+json": {
       "model_id": "589271e3a8524742aa4e1e141ce0fce1",
       "version_major": 2,
       "version_minor": 0
      },
      "text/plain": [
       "  0%|          | 0/1 [00:00<?, ?it/s]"
      ]
     },
     "metadata": {},
     "output_type": "display_data"
    },
    {
     "data": {
      "application/vnd.jupyter.widget-view+json": {
       "model_id": "50742f693e01476cb913c14bd3691a22",
       "version_major": 2,
       "version_minor": 0
      },
      "text/plain": [
       "  0%|          | 0/1 [00:00<?, ?it/s]"
      ]
     },
     "metadata": {},
     "output_type": "display_data"
    },
    {
     "data": {
      "application/vnd.jupyter.widget-view+json": {
       "model_id": "dfc9c4e1922b4efbb25f4c0b4116a0f5",
       "version_major": 2,
       "version_minor": 0
      },
      "text/plain": [
       "  0%|          | 0/1 [00:00<?, ?it/s]"
      ]
     },
     "metadata": {},
     "output_type": "display_data"
    },
    {
     "data": {
      "application/vnd.jupyter.widget-view+json": {
       "model_id": "407ad058c4fa452db1be3fa6afae1084",
       "version_major": 2,
       "version_minor": 0
      },
      "text/plain": [
       "  0%|          | 0/1 [00:00<?, ?it/s]"
      ]
     },
     "metadata": {},
     "output_type": "display_data"
    },
    {
     "data": {
      "application/vnd.jupyter.widget-view+json": {
       "model_id": "9e294d02c872444490f06ca83e2018c0",
       "version_major": 2,
       "version_minor": 0
      },
      "text/plain": [
       "  0%|          | 0/1 [00:00<?, ?it/s]"
      ]
     },
     "metadata": {},
     "output_type": "display_data"
    },
    {
     "data": {
      "application/vnd.jupyter.widget-view+json": {
       "model_id": "3b8becf163d4419ea51e179815c10eae",
       "version_major": 2,
       "version_minor": 0
      },
      "text/plain": [
       "  0%|          | 0/1 [00:00<?, ?it/s]"
      ]
     },
     "metadata": {},
     "output_type": "display_data"
    },
    {
     "data": {
      "application/vnd.jupyter.widget-view+json": {
       "model_id": "5a8f869f02ed49aabd5a0a98d178f41e",
       "version_major": 2,
       "version_minor": 0
      },
      "text/plain": [
       "  0%|          | 0/1 [00:00<?, ?it/s]"
      ]
     },
     "metadata": {},
     "output_type": "display_data"
    },
    {
     "data": {
      "application/vnd.jupyter.widget-view+json": {
       "model_id": "634107d3508c4a2f8a541a2b11b62e3e",
       "version_major": 2,
       "version_minor": 0
      },
      "text/plain": [
       "  0%|          | 0/1 [00:00<?, ?it/s]"
      ]
     },
     "metadata": {},
     "output_type": "display_data"
    },
    {
     "data": {
      "application/vnd.jupyter.widget-view+json": {
       "model_id": "073551edfd5e47dda8ae311ec7c36921",
       "version_major": 2,
       "version_minor": 0
      },
      "text/plain": [
       "  0%|          | 0/1 [00:00<?, ?it/s]"
      ]
     },
     "metadata": {},
     "output_type": "display_data"
    },
    {
     "data": {
      "application/vnd.jupyter.widget-view+json": {
       "model_id": "7dc0b40783b94bcf849a69fb1ee70ab1",
       "version_major": 2,
       "version_minor": 0
      },
      "text/plain": [
       "  0%|          | 0/1 [00:00<?, ?it/s]"
      ]
     },
     "metadata": {},
     "output_type": "display_data"
    },
    {
     "data": {
      "application/vnd.jupyter.widget-view+json": {
       "model_id": "4f89e037b7c046e5b7e7c04f676fbabe",
       "version_major": 2,
       "version_minor": 0
      },
      "text/plain": [
       "  0%|          | 0/1 [00:00<?, ?it/s]"
      ]
     },
     "metadata": {},
     "output_type": "display_data"
    },
    {
     "data": {
      "application/vnd.jupyter.widget-view+json": {
       "model_id": "b08962c706d7495d962f8d7e80b9ea9c",
       "version_major": 2,
       "version_minor": 0
      },
      "text/plain": [
       "  0%|          | 0/1 [00:00<?, ?it/s]"
      ]
     },
     "metadata": {},
     "output_type": "display_data"
    },
    {
     "data": {
      "application/vnd.jupyter.widget-view+json": {
       "model_id": "a4afc2b024bb4025a1782f158ac41ea7",
       "version_major": 2,
       "version_minor": 0
      },
      "text/plain": [
       "  0%|          | 0/1 [00:00<?, ?it/s]"
      ]
     },
     "metadata": {},
     "output_type": "display_data"
    },
    {
     "data": {
      "application/vnd.jupyter.widget-view+json": {
       "model_id": "dd08b18da9704cc69d8aeea1ea5714f2",
       "version_major": 2,
       "version_minor": 0
      },
      "text/plain": [
       "  0%|          | 0/1 [00:00<?, ?it/s]"
      ]
     },
     "metadata": {},
     "output_type": "display_data"
    },
    {
     "data": {
      "application/vnd.jupyter.widget-view+json": {
       "model_id": "08665652825f44b385fc4bb18fdc4ff6",
       "version_major": 2,
       "version_minor": 0
      },
      "text/plain": [
       "  0%|          | 0/1 [00:00<?, ?it/s]"
      ]
     },
     "metadata": {},
     "output_type": "display_data"
    },
    {
     "data": {
      "application/vnd.jupyter.widget-view+json": {
       "model_id": "3a9a78f70d4d444a89ba42a52947a6ae",
       "version_major": 2,
       "version_minor": 0
      },
      "text/plain": [
       "  0%|          | 0/1 [00:00<?, ?it/s]"
      ]
     },
     "metadata": {},
     "output_type": "display_data"
    },
    {
     "data": {
      "application/vnd.jupyter.widget-view+json": {
       "model_id": "e94b5792aac64ade9eb10e833c4ea666",
       "version_major": 2,
       "version_minor": 0
      },
      "text/plain": [
       "  0%|          | 0/1 [00:00<?, ?it/s]"
      ]
     },
     "metadata": {},
     "output_type": "display_data"
    },
    {
     "data": {
      "application/vnd.jupyter.widget-view+json": {
       "model_id": "9ea34af1352d447abb9c78f0cd0cfad2",
       "version_major": 2,
       "version_minor": 0
      },
      "text/plain": [
       "  0%|          | 0/1 [00:00<?, ?it/s]"
      ]
     },
     "metadata": {},
     "output_type": "display_data"
    },
    {
     "data": {
      "application/vnd.jupyter.widget-view+json": {
       "model_id": "7c50335ff4d844cfbb6267f10b0519d8",
       "version_major": 2,
       "version_minor": 0
      },
      "text/plain": [
       "  0%|          | 0/1 [00:00<?, ?it/s]"
      ]
     },
     "metadata": {},
     "output_type": "display_data"
    },
    {
     "data": {
      "application/vnd.jupyter.widget-view+json": {
       "model_id": "7e3ee291c15347768eb666fbbec89c30",
       "version_major": 2,
       "version_minor": 0
      },
      "text/plain": [
       "  0%|          | 0/1 [00:00<?, ?it/s]"
      ]
     },
     "metadata": {},
     "output_type": "display_data"
    },
    {
     "data": {
      "application/vnd.jupyter.widget-view+json": {
       "model_id": "2b600f1bf6af4bfda0573edb7e0998c0",
       "version_major": 2,
       "version_minor": 0
      },
      "text/plain": [
       "  0%|          | 0/1 [00:00<?, ?it/s]"
      ]
     },
     "metadata": {},
     "output_type": "display_data"
    },
    {
     "data": {
      "application/vnd.jupyter.widget-view+json": {
       "model_id": "af8319234df24779a5a43b5fea379156",
       "version_major": 2,
       "version_minor": 0
      },
      "text/plain": [
       "  0%|          | 0/1 [00:00<?, ?it/s]"
      ]
     },
     "metadata": {},
     "output_type": "display_data"
    },
    {
     "data": {
      "application/vnd.jupyter.widget-view+json": {
       "model_id": "012723459e744b7eb622a909c16d1e24",
       "version_major": 2,
       "version_minor": 0
      },
      "text/plain": [
       "  0%|          | 0/1 [00:00<?, ?it/s]"
      ]
     },
     "metadata": {},
     "output_type": "display_data"
    },
    {
     "data": {
      "application/vnd.jupyter.widget-view+json": {
       "model_id": "5d1abca36b544efabb4047dc9b1d3990",
       "version_major": 2,
       "version_minor": 0
      },
      "text/plain": [
       "  0%|          | 0/1 [00:00<?, ?it/s]"
      ]
     },
     "metadata": {},
     "output_type": "display_data"
    },
    {
     "data": {
      "application/vnd.jupyter.widget-view+json": {
       "model_id": "ea3273e452594fdb951a22d977f6695d",
       "version_major": 2,
       "version_minor": 0
      },
      "text/plain": [
       "  0%|          | 0/1 [00:00<?, ?it/s]"
      ]
     },
     "metadata": {},
     "output_type": "display_data"
    },
    {
     "data": {
      "application/vnd.jupyter.widget-view+json": {
       "model_id": "1d9e62a073df4f7e87ec86cf8814bf97",
       "version_major": 2,
       "version_minor": 0
      },
      "text/plain": [
       "  0%|          | 0/1 [00:00<?, ?it/s]"
      ]
     },
     "metadata": {},
     "output_type": "display_data"
    },
    {
     "data": {
      "application/vnd.jupyter.widget-view+json": {
       "model_id": "a632bc054d6e4c9294f20056f4c715a4",
       "version_major": 2,
       "version_minor": 0
      },
      "text/plain": [
       "  0%|          | 0/1 [00:00<?, ?it/s]"
      ]
     },
     "metadata": {},
     "output_type": "display_data"
    },
    {
     "data": {
      "application/vnd.jupyter.widget-view+json": {
       "model_id": "92fadad6693d42c78aee7b42c5d70477",
       "version_major": 2,
       "version_minor": 0
      },
      "text/plain": [
       "  0%|          | 0/1 [00:00<?, ?it/s]"
      ]
     },
     "metadata": {},
     "output_type": "display_data"
    },
    {
     "data": {
      "application/vnd.jupyter.widget-view+json": {
       "model_id": "17c9c32a3b3b488f91fd208b55b505fa",
       "version_major": 2,
       "version_minor": 0
      },
      "text/plain": [
       "  0%|          | 0/1 [00:00<?, ?it/s]"
      ]
     },
     "metadata": {},
     "output_type": "display_data"
    },
    {
     "data": {
      "application/vnd.jupyter.widget-view+json": {
       "model_id": "e6c7d0fe91d84788a7bfe1563c957ae8",
       "version_major": 2,
       "version_minor": 0
      },
      "text/plain": [
       "  0%|          | 0/1 [00:00<?, ?it/s]"
      ]
     },
     "metadata": {},
     "output_type": "display_data"
    },
    {
     "data": {
      "application/vnd.jupyter.widget-view+json": {
       "model_id": "6f5c63a955af4a1ba003ef39d9b1b99c",
       "version_major": 2,
       "version_minor": 0
      },
      "text/plain": [
       "  0%|          | 0/1 [00:00<?, ?it/s]"
      ]
     },
     "metadata": {},
     "output_type": "display_data"
    },
    {
     "data": {
      "application/vnd.jupyter.widget-view+json": {
       "model_id": "328d4acfec544a5c811701b6646f899d",
       "version_major": 2,
       "version_minor": 0
      },
      "text/plain": [
       "  0%|          | 0/1 [00:00<?, ?it/s]"
      ]
     },
     "metadata": {},
     "output_type": "display_data"
    },
    {
     "data": {
      "application/vnd.jupyter.widget-view+json": {
       "model_id": "41f26485d0f44ba9b78e9551d01efbbd",
       "version_major": 2,
       "version_minor": 0
      },
      "text/plain": [
       "  0%|          | 0/1 [00:00<?, ?it/s]"
      ]
     },
     "metadata": {},
     "output_type": "display_data"
    },
    {
     "data": {
      "application/vnd.jupyter.widget-view+json": {
       "model_id": "6ab0fc8c77854e54b36b6ebbe5da7860",
       "version_major": 2,
       "version_minor": 0
      },
      "text/plain": [
       "  0%|          | 0/1 [00:00<?, ?it/s]"
      ]
     },
     "metadata": {},
     "output_type": "display_data"
    },
    {
     "data": {
      "application/vnd.jupyter.widget-view+json": {
       "model_id": "9e6efaf34f9046efbfe1a4746c2a87ef",
       "version_major": 2,
       "version_minor": 0
      },
      "text/plain": [
       "  0%|          | 0/1 [00:00<?, ?it/s]"
      ]
     },
     "metadata": {},
     "output_type": "display_data"
    },
    {
     "data": {
      "application/vnd.jupyter.widget-view+json": {
       "model_id": "62a6ac2df7e64921b60ca659bccc6c64",
       "version_major": 2,
       "version_minor": 0
      },
      "text/plain": [
       "  0%|          | 0/1 [00:00<?, ?it/s]"
      ]
     },
     "metadata": {},
     "output_type": "display_data"
    },
    {
     "data": {
      "application/vnd.jupyter.widget-view+json": {
       "model_id": "0afa7b22bbf144cebe8e2f7a8fc09d0c",
       "version_major": 2,
       "version_minor": 0
      },
      "text/plain": [
       "  0%|          | 0/1 [00:00<?, ?it/s]"
      ]
     },
     "metadata": {},
     "output_type": "display_data"
    },
    {
     "data": {
      "application/vnd.jupyter.widget-view+json": {
       "model_id": "b49f322a9aa6415b9ddef1a8a9d75e58",
       "version_major": 2,
       "version_minor": 0
      },
      "text/plain": [
       "  0%|          | 0/1 [00:00<?, ?it/s]"
      ]
     },
     "metadata": {},
     "output_type": "display_data"
    },
    {
     "data": {
      "application/vnd.jupyter.widget-view+json": {
       "model_id": "e007ef8132704758bb07d6d98bcecf5c",
       "version_major": 2,
       "version_minor": 0
      },
      "text/plain": [
       "  0%|          | 0/1 [00:00<?, ?it/s]"
      ]
     },
     "metadata": {},
     "output_type": "display_data"
    },
    {
     "data": {
      "application/vnd.jupyter.widget-view+json": {
       "model_id": "c809673c232345b892219f028fdc6df9",
       "version_major": 2,
       "version_minor": 0
      },
      "text/plain": [
       "  0%|          | 0/1 [00:00<?, ?it/s]"
      ]
     },
     "metadata": {},
     "output_type": "display_data"
    },
    {
     "data": {
      "application/vnd.jupyter.widget-view+json": {
       "model_id": "63e807c76fff40359132de0520de19ff",
       "version_major": 2,
       "version_minor": 0
      },
      "text/plain": [
       "  0%|          | 0/1 [00:00<?, ?it/s]"
      ]
     },
     "metadata": {},
     "output_type": "display_data"
    },
    {
     "data": {
      "application/vnd.jupyter.widget-view+json": {
       "model_id": "b7cb89b253da4382b3403cac3a813571",
       "version_major": 2,
       "version_minor": 0
      },
      "text/plain": [
       "  0%|          | 0/1 [00:00<?, ?it/s]"
      ]
     },
     "metadata": {},
     "output_type": "display_data"
    },
    {
     "data": {
      "application/vnd.jupyter.widget-view+json": {
       "model_id": "757f8fa30a7c4ad394a28572ff2ab116",
       "version_major": 2,
       "version_minor": 0
      },
      "text/plain": [
       "  0%|          | 0/1 [00:00<?, ?it/s]"
      ]
     },
     "metadata": {},
     "output_type": "display_data"
    },
    {
     "data": {
      "application/vnd.jupyter.widget-view+json": {
       "model_id": "b958e5f0d4774574b363287476e927f3",
       "version_major": 2,
       "version_minor": 0
      },
      "text/plain": [
       "  0%|          | 0/1 [00:00<?, ?it/s]"
      ]
     },
     "metadata": {},
     "output_type": "display_data"
    },
    {
     "data": {
      "application/vnd.jupyter.widget-view+json": {
       "model_id": "0ce97cfbad0741e89aa70d786e728537",
       "version_major": 2,
       "version_minor": 0
      },
      "text/plain": [
       "  0%|          | 0/1 [00:00<?, ?it/s]"
      ]
     },
     "metadata": {},
     "output_type": "display_data"
    },
    {
     "data": {
      "application/vnd.jupyter.widget-view+json": {
       "model_id": "2e5a546ca6b6485ab86b73d7cde58f3c",
       "version_major": 2,
       "version_minor": 0
      },
      "text/plain": [
       "  0%|          | 0/1 [00:00<?, ?it/s]"
      ]
     },
     "metadata": {},
     "output_type": "display_data"
    },
    {
     "data": {
      "application/vnd.jupyter.widget-view+json": {
       "model_id": "0c65485504744fd3b5f191169317f629",
       "version_major": 2,
       "version_minor": 0
      },
      "text/plain": [
       "  0%|          | 0/1 [00:00<?, ?it/s]"
      ]
     },
     "metadata": {},
     "output_type": "display_data"
    },
    {
     "data": {
      "application/vnd.jupyter.widget-view+json": {
       "model_id": "5398116b0b074995837f1a14f645fd97",
       "version_major": 2,
       "version_minor": 0
      },
      "text/plain": [
       "  0%|          | 0/1 [00:00<?, ?it/s]"
      ]
     },
     "metadata": {},
     "output_type": "display_data"
    },
    {
     "data": {
      "application/vnd.jupyter.widget-view+json": {
       "model_id": "58d64405f9e74b5d85962a7220eae7a6",
       "version_major": 2,
       "version_minor": 0
      },
      "text/plain": [
       "  0%|          | 0/1 [00:00<?, ?it/s]"
      ]
     },
     "metadata": {},
     "output_type": "display_data"
    },
    {
     "data": {
      "application/vnd.jupyter.widget-view+json": {
       "model_id": "332319a90b8a42099bc60261cdc11de1",
       "version_major": 2,
       "version_minor": 0
      },
      "text/plain": [
       "  0%|          | 0/1 [00:00<?, ?it/s]"
      ]
     },
     "metadata": {},
     "output_type": "display_data"
    },
    {
     "data": {
      "application/vnd.jupyter.widget-view+json": {
       "model_id": "b12d6ba4824c49d29ce206760e126b1a",
       "version_major": 2,
       "version_minor": 0
      },
      "text/plain": [
       "  0%|          | 0/1 [00:00<?, ?it/s]"
      ]
     },
     "metadata": {},
     "output_type": "display_data"
    },
    {
     "data": {
      "application/vnd.jupyter.widget-view+json": {
       "model_id": "14062bdacc1d48508dd9f3b800682c40",
       "version_major": 2,
       "version_minor": 0
      },
      "text/plain": [
       "  0%|          | 0/1 [00:00<?, ?it/s]"
      ]
     },
     "metadata": {},
     "output_type": "display_data"
    },
    {
     "data": {
      "application/vnd.jupyter.widget-view+json": {
       "model_id": "1ca2d23cdf4d4db7afafa1cdae087839",
       "version_major": 2,
       "version_minor": 0
      },
      "text/plain": [
       "  0%|          | 0/1 [00:00<?, ?it/s]"
      ]
     },
     "metadata": {},
     "output_type": "display_data"
    },
    {
     "data": {
      "application/vnd.jupyter.widget-view+json": {
       "model_id": "f3da90b3cb6347c99380739fab97fd8c",
       "version_major": 2,
       "version_minor": 0
      },
      "text/plain": [
       "  0%|          | 0/1 [00:00<?, ?it/s]"
      ]
     },
     "metadata": {},
     "output_type": "display_data"
    },
    {
     "data": {
      "application/vnd.jupyter.widget-view+json": {
       "model_id": "c65187faa4174d50b4d91a8208d92a48",
       "version_major": 2,
       "version_minor": 0
      },
      "text/plain": [
       "  0%|          | 0/1 [00:00<?, ?it/s]"
      ]
     },
     "metadata": {},
     "output_type": "display_data"
    },
    {
     "data": {
      "application/vnd.jupyter.widget-view+json": {
       "model_id": "0422d6398e59434ab8ae7f188c458456",
       "version_major": 2,
       "version_minor": 0
      },
      "text/plain": [
       "  0%|          | 0/1 [00:00<?, ?it/s]"
      ]
     },
     "metadata": {},
     "output_type": "display_data"
    },
    {
     "data": {
      "application/vnd.jupyter.widget-view+json": {
       "model_id": "2f836ff4e0db49f9bb1456aed6bdd755",
       "version_major": 2,
       "version_minor": 0
      },
      "text/plain": [
       "  0%|          | 0/1 [00:00<?, ?it/s]"
      ]
     },
     "metadata": {},
     "output_type": "display_data"
    },
    {
     "data": {
      "application/vnd.jupyter.widget-view+json": {
       "model_id": "c11cc635a37b46dbbff3938814f70939",
       "version_major": 2,
       "version_minor": 0
      },
      "text/plain": [
       "  0%|          | 0/1 [00:00<?, ?it/s]"
      ]
     },
     "metadata": {},
     "output_type": "display_data"
    },
    {
     "data": {
      "application/vnd.jupyter.widget-view+json": {
       "model_id": "739498b404dd4b22883e3ed486797e9d",
       "version_major": 2,
       "version_minor": 0
      },
      "text/plain": [
       "  0%|          | 0/1 [00:00<?, ?it/s]"
      ]
     },
     "metadata": {},
     "output_type": "display_data"
    },
    {
     "data": {
      "application/vnd.jupyter.widget-view+json": {
       "model_id": "10adbfaad07c4009b5fff0110144affd",
       "version_major": 2,
       "version_minor": 0
      },
      "text/plain": [
       "  0%|          | 0/1 [00:00<?, ?it/s]"
      ]
     },
     "metadata": {},
     "output_type": "display_data"
    },
    {
     "data": {
      "application/vnd.jupyter.widget-view+json": {
       "model_id": "76f167cee01f4cc19dfd6055021e90cf",
       "version_major": 2,
       "version_minor": 0
      },
      "text/plain": [
       "  0%|          | 0/1 [00:00<?, ?it/s]"
      ]
     },
     "metadata": {},
     "output_type": "display_data"
    },
    {
     "data": {
      "application/vnd.jupyter.widget-view+json": {
       "model_id": "fda88b3e31ee4f6fbf0f326441c6d67f",
       "version_major": 2,
       "version_minor": 0
      },
      "text/plain": [
       "  0%|          | 0/1 [00:00<?, ?it/s]"
      ]
     },
     "metadata": {},
     "output_type": "display_data"
    },
    {
     "data": {
      "application/vnd.jupyter.widget-view+json": {
       "model_id": "779bff07430143ea86cb13e6cec0c5dd",
       "version_major": 2,
       "version_minor": 0
      },
      "text/plain": [
       "  0%|          | 0/1 [00:00<?, ?it/s]"
      ]
     },
     "metadata": {},
     "output_type": "display_data"
    },
    {
     "data": {
      "application/vnd.jupyter.widget-view+json": {
       "model_id": "ec7eb14935b84e76ba6b5bc93c202356",
       "version_major": 2,
       "version_minor": 0
      },
      "text/plain": [
       "  0%|          | 0/1 [00:00<?, ?it/s]"
      ]
     },
     "metadata": {},
     "output_type": "display_data"
    },
    {
     "data": {
      "application/vnd.jupyter.widget-view+json": {
       "model_id": "5001d9d785804fd0965d9e1d349248dd",
       "version_major": 2,
       "version_minor": 0
      },
      "text/plain": [
       "  0%|          | 0/1 [00:00<?, ?it/s]"
      ]
     },
     "metadata": {},
     "output_type": "display_data"
    },
    {
     "data": {
      "application/vnd.jupyter.widget-view+json": {
       "model_id": "e7e36234d97b4fa499f119556ef82ca3",
       "version_major": 2,
       "version_minor": 0
      },
      "text/plain": [
       "  0%|          | 0/1 [00:00<?, ?it/s]"
      ]
     },
     "metadata": {},
     "output_type": "display_data"
    },
    {
     "data": {
      "application/vnd.jupyter.widget-view+json": {
       "model_id": "3e333af039454b35abdcc2265582a27f",
       "version_major": 2,
       "version_minor": 0
      },
      "text/plain": [
       "  0%|          | 0/1 [00:00<?, ?it/s]"
      ]
     },
     "metadata": {},
     "output_type": "display_data"
    },
    {
     "data": {
      "application/vnd.jupyter.widget-view+json": {
       "model_id": "2c321312b05d44838b11335ef2e82e10",
       "version_major": 2,
       "version_minor": 0
      },
      "text/plain": [
       "  0%|          | 0/1 [00:00<?, ?it/s]"
      ]
     },
     "metadata": {},
     "output_type": "display_data"
    },
    {
     "data": {
      "application/vnd.jupyter.widget-view+json": {
       "model_id": "ab0d6dfe8a2442ed91233e1767ba8d6f",
       "version_major": 2,
       "version_minor": 0
      },
      "text/plain": [
       "  0%|          | 0/1 [00:00<?, ?it/s]"
      ]
     },
     "metadata": {},
     "output_type": "display_data"
    },
    {
     "data": {
      "application/vnd.jupyter.widget-view+json": {
       "model_id": "19c65a0a28494726ae7bff065d876498",
       "version_major": 2,
       "version_minor": 0
      },
      "text/plain": [
       "  0%|          | 0/1 [00:00<?, ?it/s]"
      ]
     },
     "metadata": {},
     "output_type": "display_data"
    },
    {
     "data": {
      "application/vnd.jupyter.widget-view+json": {
       "model_id": "940ba742f418405480e4c8e554065268",
       "version_major": 2,
       "version_minor": 0
      },
      "text/plain": [
       "  0%|          | 0/1 [00:00<?, ?it/s]"
      ]
     },
     "metadata": {},
     "output_type": "display_data"
    },
    {
     "data": {
      "application/vnd.jupyter.widget-view+json": {
       "model_id": "af53e00a56464430a156456284ceef8b",
       "version_major": 2,
       "version_minor": 0
      },
      "text/plain": [
       "  0%|          | 0/1 [00:00<?, ?it/s]"
      ]
     },
     "metadata": {},
     "output_type": "display_data"
    },
    {
     "data": {
      "application/vnd.jupyter.widget-view+json": {
       "model_id": "9ad575aa61ed4a278a03741c46ba7245",
       "version_major": 2,
       "version_minor": 0
      },
      "text/plain": [
       "  0%|          | 0/1 [00:00<?, ?it/s]"
      ]
     },
     "metadata": {},
     "output_type": "display_data"
    },
    {
     "data": {
      "application/vnd.jupyter.widget-view+json": {
       "model_id": "1d5c4c65c78246cc9f5938ec41b72c69",
       "version_major": 2,
       "version_minor": 0
      },
      "text/plain": [
       "  0%|          | 0/1 [00:00<?, ?it/s]"
      ]
     },
     "metadata": {},
     "output_type": "display_data"
    },
    {
     "data": {
      "application/vnd.jupyter.widget-view+json": {
       "model_id": "f70032d0501848c0bc4762dbb9830960",
       "version_major": 2,
       "version_minor": 0
      },
      "text/plain": [
       "  0%|          | 0/1 [00:00<?, ?it/s]"
      ]
     },
     "metadata": {},
     "output_type": "display_data"
    },
    {
     "data": {
      "application/vnd.jupyter.widget-view+json": {
       "model_id": "93701f6458c746cc935fd481a9b9d913",
       "version_major": 2,
       "version_minor": 0
      },
      "text/plain": [
       "  0%|          | 0/1 [00:00<?, ?it/s]"
      ]
     },
     "metadata": {},
     "output_type": "display_data"
    },
    {
     "data": {
      "application/vnd.jupyter.widget-view+json": {
       "model_id": "984d8556f68840b2a489234da24823be",
       "version_major": 2,
       "version_minor": 0
      },
      "text/plain": [
       "  0%|          | 0/1 [00:00<?, ?it/s]"
      ]
     },
     "metadata": {},
     "output_type": "display_data"
    },
    {
     "data": {
      "application/vnd.jupyter.widget-view+json": {
       "model_id": "060086d14f8e4c12b57d02a2cf6741b3",
       "version_major": 2,
       "version_minor": 0
      },
      "text/plain": [
       "  0%|          | 0/1 [00:00<?, ?it/s]"
      ]
     },
     "metadata": {},
     "output_type": "display_data"
    },
    {
     "data": {
      "application/vnd.jupyter.widget-view+json": {
       "model_id": "967b2297053d49c084efe1306b294a2e",
       "version_major": 2,
       "version_minor": 0
      },
      "text/plain": [
       "  0%|          | 0/1 [00:00<?, ?it/s]"
      ]
     },
     "metadata": {},
     "output_type": "display_data"
    },
    {
     "data": {
      "application/vnd.jupyter.widget-view+json": {
       "model_id": "7b5fdc1e52454b818860669161457173",
       "version_major": 2,
       "version_minor": 0
      },
      "text/plain": [
       "  0%|          | 0/1 [00:00<?, ?it/s]"
      ]
     },
     "metadata": {},
     "output_type": "display_data"
    },
    {
     "data": {
      "application/vnd.jupyter.widget-view+json": {
       "model_id": "1f56e836b457411598560c8dd77d3ca9",
       "version_major": 2,
       "version_minor": 0
      },
      "text/plain": [
       "  0%|          | 0/1 [00:00<?, ?it/s]"
      ]
     },
     "metadata": {},
     "output_type": "display_data"
    },
    {
     "data": {
      "application/vnd.jupyter.widget-view+json": {
       "model_id": "bb7e39fc2248414db33e06f2594bf03e",
       "version_major": 2,
       "version_minor": 0
      },
      "text/plain": [
       "  0%|          | 0/1 [00:00<?, ?it/s]"
      ]
     },
     "metadata": {},
     "output_type": "display_data"
    },
    {
     "data": {
      "application/vnd.jupyter.widget-view+json": {
       "model_id": "ea84017922be4947aab468a922756889",
       "version_major": 2,
       "version_minor": 0
      },
      "text/plain": [
       "  0%|          | 0/1 [00:00<?, ?it/s]"
      ]
     },
     "metadata": {},
     "output_type": "display_data"
    },
    {
     "data": {
      "application/vnd.jupyter.widget-view+json": {
       "model_id": "87010a2ece16456db8accd23e4c95242",
       "version_major": 2,
       "version_minor": 0
      },
      "text/plain": [
       "  0%|          | 0/1 [00:00<?, ?it/s]"
      ]
     },
     "metadata": {},
     "output_type": "display_data"
    },
    {
     "data": {
      "application/vnd.jupyter.widget-view+json": {
       "model_id": "0d6ef6733953435696b8e38c59eb0783",
       "version_major": 2,
       "version_minor": 0
      },
      "text/plain": [
       "  0%|          | 0/1 [00:00<?, ?it/s]"
      ]
     },
     "metadata": {},
     "output_type": "display_data"
    },
    {
     "data": {
      "application/vnd.jupyter.widget-view+json": {
       "model_id": "93ea3e1002a84043885397ff67ddd710",
       "version_major": 2,
       "version_minor": 0
      },
      "text/plain": [
       "  0%|          | 0/1 [00:00<?, ?it/s]"
      ]
     },
     "metadata": {},
     "output_type": "display_data"
    },
    {
     "data": {
      "application/vnd.jupyter.widget-view+json": {
       "model_id": "27086059069e4cd0a1580337d2825073",
       "version_major": 2,
       "version_minor": 0
      },
      "text/plain": [
       "  0%|          | 0/1 [00:00<?, ?it/s]"
      ]
     },
     "metadata": {},
     "output_type": "display_data"
    },
    {
     "data": {
      "application/vnd.jupyter.widget-view+json": {
       "model_id": "c647e648125d44a9910da53011577433",
       "version_major": 2,
       "version_minor": 0
      },
      "text/plain": [
       "  0%|          | 0/1 [00:00<?, ?it/s]"
      ]
     },
     "metadata": {},
     "output_type": "display_data"
    },
    {
     "data": {
      "application/vnd.jupyter.widget-view+json": {
       "model_id": "a49c8511a1d04f2380397d95aaa92ae4",
       "version_major": 2,
       "version_minor": 0
      },
      "text/plain": [
       "  0%|          | 0/1 [00:00<?, ?it/s]"
      ]
     },
     "metadata": {},
     "output_type": "display_data"
    },
    {
     "data": {
      "application/vnd.jupyter.widget-view+json": {
       "model_id": "dfd30adc3f2e454f9ae749dc0e44ec00",
       "version_major": 2,
       "version_minor": 0
      },
      "text/plain": [
       "  0%|          | 0/1 [00:00<?, ?it/s]"
      ]
     },
     "metadata": {},
     "output_type": "display_data"
    },
    {
     "data": {
      "application/vnd.jupyter.widget-view+json": {
       "model_id": "337e5a54d6614cc8b3e1fd9e603b1fef",
       "version_major": 2,
       "version_minor": 0
      },
      "text/plain": [
       "  0%|          | 0/1 [00:00<?, ?it/s]"
      ]
     },
     "metadata": {},
     "output_type": "display_data"
    },
    {
     "data": {
      "application/vnd.jupyter.widget-view+json": {
       "model_id": "0086701b1eea42c689474eb8435809ae",
       "version_major": 2,
       "version_minor": 0
      },
      "text/plain": [
       "  0%|          | 0/1 [00:00<?, ?it/s]"
      ]
     },
     "metadata": {},
     "output_type": "display_data"
    },
    {
     "data": {
      "application/vnd.jupyter.widget-view+json": {
       "model_id": "118822b12ccb4574b4960e19afae6627",
       "version_major": 2,
       "version_minor": 0
      },
      "text/plain": [
       "  0%|          | 0/1 [00:00<?, ?it/s]"
      ]
     },
     "metadata": {},
     "output_type": "display_data"
    },
    {
     "data": {
      "application/vnd.jupyter.widget-view+json": {
       "model_id": "3b8c917fecc643aeb8b52ea146a221d6",
       "version_major": 2,
       "version_minor": 0
      },
      "text/plain": [
       "  0%|          | 0/1 [00:00<?, ?it/s]"
      ]
     },
     "metadata": {},
     "output_type": "display_data"
    },
    {
     "data": {
      "application/vnd.jupyter.widget-view+json": {
       "model_id": "56a972a311804732be8b4a2366851cb3",
       "version_major": 2,
       "version_minor": 0
      },
      "text/plain": [
       "  0%|          | 0/1 [00:00<?, ?it/s]"
      ]
     },
     "metadata": {},
     "output_type": "display_data"
    },
    {
     "data": {
      "application/vnd.jupyter.widget-view+json": {
       "model_id": "5f5aa4b766284ff78d0120e900cf97b7",
       "version_major": 2,
       "version_minor": 0
      },
      "text/plain": [
       "  0%|          | 0/1 [00:00<?, ?it/s]"
      ]
     },
     "metadata": {},
     "output_type": "display_data"
    },
    {
     "data": {
      "application/vnd.jupyter.widget-view+json": {
       "model_id": "1ffebce4eed641c18f5688408f4c099c",
       "version_major": 2,
       "version_minor": 0
      },
      "text/plain": [
       "  0%|          | 0/1 [00:00<?, ?it/s]"
      ]
     },
     "metadata": {},
     "output_type": "display_data"
    },
    {
     "data": {
      "application/vnd.jupyter.widget-view+json": {
       "model_id": "53c7abc4af37429f80fae6c045d464b4",
       "version_major": 2,
       "version_minor": 0
      },
      "text/plain": [
       "  0%|          | 0/1 [00:00<?, ?it/s]"
      ]
     },
     "metadata": {},
     "output_type": "display_data"
    },
    {
     "data": {
      "application/vnd.jupyter.widget-view+json": {
       "model_id": "dbe3d5ddfa4f4742a5c4bc78a328256c",
       "version_major": 2,
       "version_minor": 0
      },
      "text/plain": [
       "  0%|          | 0/1 [00:00<?, ?it/s]"
      ]
     },
     "metadata": {},
     "output_type": "display_data"
    },
    {
     "data": {
      "application/vnd.jupyter.widget-view+json": {
       "model_id": "c3fa85a642eb4c2984c3b718a6700686",
       "version_major": 2,
       "version_minor": 0
      },
      "text/plain": [
       "  0%|          | 0/1 [00:00<?, ?it/s]"
      ]
     },
     "metadata": {},
     "output_type": "display_data"
    },
    {
     "data": {
      "application/vnd.jupyter.widget-view+json": {
       "model_id": "8f75bd4479a644af93102a57ebc41531",
       "version_major": 2,
       "version_minor": 0
      },
      "text/plain": [
       "  0%|          | 0/1 [00:00<?, ?it/s]"
      ]
     },
     "metadata": {},
     "output_type": "display_data"
    },
    {
     "data": {
      "application/vnd.jupyter.widget-view+json": {
       "model_id": "ce1944d759da46a0a6d626565db67aed",
       "version_major": 2,
       "version_minor": 0
      },
      "text/plain": [
       "  0%|          | 0/1 [00:00<?, ?it/s]"
      ]
     },
     "metadata": {},
     "output_type": "display_data"
    },
    {
     "data": {
      "application/vnd.jupyter.widget-view+json": {
       "model_id": "639dc0401c3c4c168742038ce4a44e6b",
       "version_major": 2,
       "version_minor": 0
      },
      "text/plain": [
       "  0%|          | 0/1 [00:00<?, ?it/s]"
      ]
     },
     "metadata": {},
     "output_type": "display_data"
    },
    {
     "data": {
      "application/vnd.jupyter.widget-view+json": {
       "model_id": "302ecf69a2154a1f8240e5ee60609be4",
       "version_major": 2,
       "version_minor": 0
      },
      "text/plain": [
       "  0%|          | 0/1 [00:00<?, ?it/s]"
      ]
     },
     "metadata": {},
     "output_type": "display_data"
    },
    {
     "data": {
      "application/vnd.jupyter.widget-view+json": {
       "model_id": "ab71d5ed8f2a4155970d57f3e8f05f3c",
       "version_major": 2,
       "version_minor": 0
      },
      "text/plain": [
       "  0%|          | 0/1 [00:00<?, ?it/s]"
      ]
     },
     "metadata": {},
     "output_type": "display_data"
    },
    {
     "data": {
      "application/vnd.jupyter.widget-view+json": {
       "model_id": "fdead5763b7c44d5a34088788ff3b3f7",
       "version_major": 2,
       "version_minor": 0
      },
      "text/plain": [
       "  0%|          | 0/1 [00:00<?, ?it/s]"
      ]
     },
     "metadata": {},
     "output_type": "display_data"
    },
    {
     "data": {
      "application/vnd.jupyter.widget-view+json": {
       "model_id": "fd7301f949cb4d3f9a85c03c188c78b5",
       "version_major": 2,
       "version_minor": 0
      },
      "text/plain": [
       "  0%|          | 0/1 [00:00<?, ?it/s]"
      ]
     },
     "metadata": {},
     "output_type": "display_data"
    },
    {
     "data": {
      "application/vnd.jupyter.widget-view+json": {
       "model_id": "c32aea771138459e8dba4ba7d1adef83",
       "version_major": 2,
       "version_minor": 0
      },
      "text/plain": [
       "  0%|          | 0/1 [00:00<?, ?it/s]"
      ]
     },
     "metadata": {},
     "output_type": "display_data"
    },
    {
     "data": {
      "application/vnd.jupyter.widget-view+json": {
       "model_id": "24f813e44bea4c8daa4d6d63d25006b6",
       "version_major": 2,
       "version_minor": 0
      },
      "text/plain": [
       "  0%|          | 0/1 [00:00<?, ?it/s]"
      ]
     },
     "metadata": {},
     "output_type": "display_data"
    },
    {
     "data": {
      "application/vnd.jupyter.widget-view+json": {
       "model_id": "483331f2764342f28667311cf9ee508f",
       "version_major": 2,
       "version_minor": 0
      },
      "text/plain": [
       "  0%|          | 0/1 [00:00<?, ?it/s]"
      ]
     },
     "metadata": {},
     "output_type": "display_data"
    },
    {
     "data": {
      "application/vnd.jupyter.widget-view+json": {
       "model_id": "63e54235e021481bb74abd445620f402",
       "version_major": 2,
       "version_minor": 0
      },
      "text/plain": [
       "  0%|          | 0/1 [00:00<?, ?it/s]"
      ]
     },
     "metadata": {},
     "output_type": "display_data"
    },
    {
     "data": {
      "application/vnd.jupyter.widget-view+json": {
       "model_id": "5e86b250141541c29442967d3db4f0a6",
       "version_major": 2,
       "version_minor": 0
      },
      "text/plain": [
       "  0%|          | 0/1 [00:00<?, ?it/s]"
      ]
     },
     "metadata": {},
     "output_type": "display_data"
    },
    {
     "data": {
      "application/vnd.jupyter.widget-view+json": {
       "model_id": "301c7744f4ac4bb8a278d031a3492e01",
       "version_major": 2,
       "version_minor": 0
      },
      "text/plain": [
       "  0%|          | 0/1 [00:00<?, ?it/s]"
      ]
     },
     "metadata": {},
     "output_type": "display_data"
    },
    {
     "data": {
      "application/vnd.jupyter.widget-view+json": {
       "model_id": "6e795f45b7ba465b8d76ad8fcb3d544f",
       "version_major": 2,
       "version_minor": 0
      },
      "text/plain": [
       "  0%|          | 0/1 [00:00<?, ?it/s]"
      ]
     },
     "metadata": {},
     "output_type": "display_data"
    },
    {
     "data": {
      "application/vnd.jupyter.widget-view+json": {
       "model_id": "a6d539e6767845859b06bb54f4ef466f",
       "version_major": 2,
       "version_minor": 0
      },
      "text/plain": [
       "  0%|          | 0/1 [00:00<?, ?it/s]"
      ]
     },
     "metadata": {},
     "output_type": "display_data"
    },
    {
     "data": {
      "application/vnd.jupyter.widget-view+json": {
       "model_id": "217df517c0c94c7296b5a822641e5cd1",
       "version_major": 2,
       "version_minor": 0
      },
      "text/plain": [
       "  0%|          | 0/1 [00:00<?, ?it/s]"
      ]
     },
     "metadata": {},
     "output_type": "display_data"
    },
    {
     "data": {
      "application/vnd.jupyter.widget-view+json": {
       "model_id": "acdcd3bb869241b5bf227d6884afde62",
       "version_major": 2,
       "version_minor": 0
      },
      "text/plain": [
       "  0%|          | 0/1 [00:00<?, ?it/s]"
      ]
     },
     "metadata": {},
     "output_type": "display_data"
    },
    {
     "data": {
      "application/vnd.jupyter.widget-view+json": {
       "model_id": "ac2f2c66c2b0446e8f8403c02eeaea73",
       "version_major": 2,
       "version_minor": 0
      },
      "text/plain": [
       "  0%|          | 0/1 [00:00<?, ?it/s]"
      ]
     },
     "metadata": {},
     "output_type": "display_data"
    },
    {
     "data": {
      "application/vnd.jupyter.widget-view+json": {
       "model_id": "2a3bf42bb4c1483aa083bf7c93b0aefb",
       "version_major": 2,
       "version_minor": 0
      },
      "text/plain": [
       "  0%|          | 0/1 [00:00<?, ?it/s]"
      ]
     },
     "metadata": {},
     "output_type": "display_data"
    },
    {
     "data": {
      "application/vnd.jupyter.widget-view+json": {
       "model_id": "f342be9e61504005a123e883feb8bad5",
       "version_major": 2,
       "version_minor": 0
      },
      "text/plain": [
       "  0%|          | 0/1 [00:00<?, ?it/s]"
      ]
     },
     "metadata": {},
     "output_type": "display_data"
    },
    {
     "data": {
      "application/vnd.jupyter.widget-view+json": {
       "model_id": "a94a284c51534980bf426aa7a917af2d",
       "version_major": 2,
       "version_minor": 0
      },
      "text/plain": [
       "  0%|          | 0/1 [00:00<?, ?it/s]"
      ]
     },
     "metadata": {},
     "output_type": "display_data"
    },
    {
     "data": {
      "application/vnd.jupyter.widget-view+json": {
       "model_id": "c493d965b0b14e30b2068669427e1184",
       "version_major": 2,
       "version_minor": 0
      },
      "text/plain": [
       "  0%|          | 0/1 [00:00<?, ?it/s]"
      ]
     },
     "metadata": {},
     "output_type": "display_data"
    },
    {
     "data": {
      "application/vnd.jupyter.widget-view+json": {
       "model_id": "3f793149395e4d039e2a3142d2ebb6d0",
       "version_major": 2,
       "version_minor": 0
      },
      "text/plain": [
       "  0%|          | 0/1 [00:00<?, ?it/s]"
      ]
     },
     "metadata": {},
     "output_type": "display_data"
    },
    {
     "data": {
      "application/vnd.jupyter.widget-view+json": {
       "model_id": "b29efa1c4bf146f7a21bfeef21e07839",
       "version_major": 2,
       "version_minor": 0
      },
      "text/plain": [
       "  0%|          | 0/1 [00:00<?, ?it/s]"
      ]
     },
     "metadata": {},
     "output_type": "display_data"
    },
    {
     "data": {
      "application/vnd.jupyter.widget-view+json": {
       "model_id": "7ded0924b02f40a0a373952a36a1991f",
       "version_major": 2,
       "version_minor": 0
      },
      "text/plain": [
       "  0%|          | 0/1 [00:00<?, ?it/s]"
      ]
     },
     "metadata": {},
     "output_type": "display_data"
    },
    {
     "data": {
      "application/vnd.jupyter.widget-view+json": {
       "model_id": "c13992ff28f84437ab7d6b32aa844a7d",
       "version_major": 2,
       "version_minor": 0
      },
      "text/plain": [
       "  0%|          | 0/1 [00:00<?, ?it/s]"
      ]
     },
     "metadata": {},
     "output_type": "display_data"
    },
    {
     "data": {
      "application/vnd.jupyter.widget-view+json": {
       "model_id": "95dec243a2d348c88eb59b87eab0266c",
       "version_major": 2,
       "version_minor": 0
      },
      "text/plain": [
       "  0%|          | 0/1 [00:00<?, ?it/s]"
      ]
     },
     "metadata": {},
     "output_type": "display_data"
    },
    {
     "data": {
      "application/vnd.jupyter.widget-view+json": {
       "model_id": "55ec4009b7494732bd1f05fdaad5025e",
       "version_major": 2,
       "version_minor": 0
      },
      "text/plain": [
       "  0%|          | 0/1 [00:00<?, ?it/s]"
      ]
     },
     "metadata": {},
     "output_type": "display_data"
    },
    {
     "data": {
      "application/vnd.jupyter.widget-view+json": {
       "model_id": "268e2c0e0e8646548e72b9aa6fa821e5",
       "version_major": 2,
       "version_minor": 0
      },
      "text/plain": [
       "  0%|          | 0/1 [00:00<?, ?it/s]"
      ]
     },
     "metadata": {},
     "output_type": "display_data"
    },
    {
     "data": {
      "application/vnd.jupyter.widget-view+json": {
       "model_id": "f76b0c7615e14582a20954a8c77f0869",
       "version_major": 2,
       "version_minor": 0
      },
      "text/plain": [
       "  0%|          | 0/1 [00:00<?, ?it/s]"
      ]
     },
     "metadata": {},
     "output_type": "display_data"
    },
    {
     "data": {
      "application/vnd.jupyter.widget-view+json": {
       "model_id": "7727850136a04d548cb0aa92825398f1",
       "version_major": 2,
       "version_minor": 0
      },
      "text/plain": [
       "  0%|          | 0/1 [00:00<?, ?it/s]"
      ]
     },
     "metadata": {},
     "output_type": "display_data"
    },
    {
     "data": {
      "application/vnd.jupyter.widget-view+json": {
       "model_id": "f0abc7fda9d94f49b60af460e6edd212",
       "version_major": 2,
       "version_minor": 0
      },
      "text/plain": [
       "  0%|          | 0/1 [00:00<?, ?it/s]"
      ]
     },
     "metadata": {},
     "output_type": "display_data"
    },
    {
     "data": {
      "application/vnd.jupyter.widget-view+json": {
       "model_id": "c7237c7dc57f425385cdc9b67656d9ae",
       "version_major": 2,
       "version_minor": 0
      },
      "text/plain": [
       "  0%|          | 0/1 [00:00<?, ?it/s]"
      ]
     },
     "metadata": {},
     "output_type": "display_data"
    },
    {
     "data": {
      "application/vnd.jupyter.widget-view+json": {
       "model_id": "89dffbaf4e364474b7636cc6c6e15d0d",
       "version_major": 2,
       "version_minor": 0
      },
      "text/plain": [
       "  0%|          | 0/1 [00:00<?, ?it/s]"
      ]
     },
     "metadata": {},
     "output_type": "display_data"
    },
    {
     "data": {
      "application/vnd.jupyter.widget-view+json": {
       "model_id": "10e80f5aa4894369b4f03a9de55944ce",
       "version_major": 2,
       "version_minor": 0
      },
      "text/plain": [
       "  0%|          | 0/1 [00:00<?, ?it/s]"
      ]
     },
     "metadata": {},
     "output_type": "display_data"
    },
    {
     "data": {
      "application/vnd.jupyter.widget-view+json": {
       "model_id": "c31e231cb2e741ac852ea9602e37a4e7",
       "version_major": 2,
       "version_minor": 0
      },
      "text/plain": [
       "  0%|          | 0/1 [00:00<?, ?it/s]"
      ]
     },
     "metadata": {},
     "output_type": "display_data"
    },
    {
     "data": {
      "application/vnd.jupyter.widget-view+json": {
       "model_id": "baa6f7b03f56463daced252ad9262013",
       "version_major": 2,
       "version_minor": 0
      },
      "text/plain": [
       "  0%|          | 0/1 [00:00<?, ?it/s]"
      ]
     },
     "metadata": {},
     "output_type": "display_data"
    },
    {
     "data": {
      "application/vnd.jupyter.widget-view+json": {
       "model_id": "069e72c18f5b48eb9c528581678dbb8c",
       "version_major": 2,
       "version_minor": 0
      },
      "text/plain": [
       "  0%|          | 0/1 [00:00<?, ?it/s]"
      ]
     },
     "metadata": {},
     "output_type": "display_data"
    },
    {
     "data": {
      "application/vnd.jupyter.widget-view+json": {
       "model_id": "c180f621b12247a39a2ac78a1ed04ad4",
       "version_major": 2,
       "version_minor": 0
      },
      "text/plain": [
       "  0%|          | 0/1 [00:00<?, ?it/s]"
      ]
     },
     "metadata": {},
     "output_type": "display_data"
    },
    {
     "data": {
      "application/vnd.jupyter.widget-view+json": {
       "model_id": "87708dbf139c476ba7fce9d63231a89d",
       "version_major": 2,
       "version_minor": 0
      },
      "text/plain": [
       "  0%|          | 0/1 [00:00<?, ?it/s]"
      ]
     },
     "metadata": {},
     "output_type": "display_data"
    },
    {
     "data": {
      "application/vnd.jupyter.widget-view+json": {
       "model_id": "c6262b72ca214048acdc476f1cbabe34",
       "version_major": 2,
       "version_minor": 0
      },
      "text/plain": [
       "  0%|          | 0/1 [00:00<?, ?it/s]"
      ]
     },
     "metadata": {},
     "output_type": "display_data"
    },
    {
     "data": {
      "application/vnd.jupyter.widget-view+json": {
       "model_id": "b957cdb19665434ca0b2746f5dbdbce6",
       "version_major": 2,
       "version_minor": 0
      },
      "text/plain": [
       "  0%|          | 0/1 [00:00<?, ?it/s]"
      ]
     },
     "metadata": {},
     "output_type": "display_data"
    },
    {
     "data": {
      "application/vnd.jupyter.widget-view+json": {
       "model_id": "eb4a3b55addc4e189c098dceaf62d2f6",
       "version_major": 2,
       "version_minor": 0
      },
      "text/plain": [
       "  0%|          | 0/1 [00:00<?, ?it/s]"
      ]
     },
     "metadata": {},
     "output_type": "display_data"
    },
    {
     "data": {
      "application/vnd.jupyter.widget-view+json": {
       "model_id": "97b28154195b4fc6bb5622b25484a6e3",
       "version_major": 2,
       "version_minor": 0
      },
      "text/plain": [
       "  0%|          | 0/1 [00:00<?, ?it/s]"
      ]
     },
     "metadata": {},
     "output_type": "display_data"
    },
    {
     "data": {
      "application/vnd.jupyter.widget-view+json": {
       "model_id": "3551bf595df5433897a5197732356869",
       "version_major": 2,
       "version_minor": 0
      },
      "text/plain": [
       "  0%|          | 0/1 [00:00<?, ?it/s]"
      ]
     },
     "metadata": {},
     "output_type": "display_data"
    },
    {
     "data": {
      "application/vnd.jupyter.widget-view+json": {
       "model_id": "72abbebf8a60406283be01d2294e333f",
       "version_major": 2,
       "version_minor": 0
      },
      "text/plain": [
       "  0%|          | 0/1 [00:00<?, ?it/s]"
      ]
     },
     "metadata": {},
     "output_type": "display_data"
    },
    {
     "data": {
      "application/vnd.jupyter.widget-view+json": {
       "model_id": "4820e40c773d47d495bc54f83c1cad0f",
       "version_major": 2,
       "version_minor": 0
      },
      "text/plain": [
       "  0%|          | 0/1 [00:00<?, ?it/s]"
      ]
     },
     "metadata": {},
     "output_type": "display_data"
    },
    {
     "data": {
      "application/vnd.jupyter.widget-view+json": {
       "model_id": "c3d609f88f554a7293c6764070e11207",
       "version_major": 2,
       "version_minor": 0
      },
      "text/plain": [
       "  0%|          | 0/1 [00:00<?, ?it/s]"
      ]
     },
     "metadata": {},
     "output_type": "display_data"
    },
    {
     "data": {
      "application/vnd.jupyter.widget-view+json": {
       "model_id": "1f485b9ff4f5454d920d667c03630681",
       "version_major": 2,
       "version_minor": 0
      },
      "text/plain": [
       "  0%|          | 0/1 [00:00<?, ?it/s]"
      ]
     },
     "metadata": {},
     "output_type": "display_data"
    },
    {
     "data": {
      "application/vnd.jupyter.widget-view+json": {
       "model_id": "3f06db45257c485084a250a24c4d80bc",
       "version_major": 2,
       "version_minor": 0
      },
      "text/plain": [
       "  0%|          | 0/1 [00:00<?, ?it/s]"
      ]
     },
     "metadata": {},
     "output_type": "display_data"
    },
    {
     "data": {
      "application/vnd.jupyter.widget-view+json": {
       "model_id": "802264c318024990a616b8b755b79741",
       "version_major": 2,
       "version_minor": 0
      },
      "text/plain": [
       "  0%|          | 0/1 [00:00<?, ?it/s]"
      ]
     },
     "metadata": {},
     "output_type": "display_data"
    },
    {
     "data": {
      "application/vnd.jupyter.widget-view+json": {
       "model_id": "4307f96b92a142e39a47a2630538b4ea",
       "version_major": 2,
       "version_minor": 0
      },
      "text/plain": [
       "  0%|          | 0/1 [00:00<?, ?it/s]"
      ]
     },
     "metadata": {},
     "output_type": "display_data"
    },
    {
     "data": {
      "application/vnd.jupyter.widget-view+json": {
       "model_id": "e9db2a84bcb840e9b77e328c78c262e6",
       "version_major": 2,
       "version_minor": 0
      },
      "text/plain": [
       "  0%|          | 0/1 [00:00<?, ?it/s]"
      ]
     },
     "metadata": {},
     "output_type": "display_data"
    },
    {
     "data": {
      "application/vnd.jupyter.widget-view+json": {
       "model_id": "78d19e2ac7ce472dbed4b41c8da8769b",
       "version_major": 2,
       "version_minor": 0
      },
      "text/plain": [
       "  0%|          | 0/1 [00:00<?, ?it/s]"
      ]
     },
     "metadata": {},
     "output_type": "display_data"
    },
    {
     "data": {
      "application/vnd.jupyter.widget-view+json": {
       "model_id": "5a567456fc044ae8bdbab024d1fb7efa",
       "version_major": 2,
       "version_minor": 0
      },
      "text/plain": [
       "  0%|          | 0/1 [00:00<?, ?it/s]"
      ]
     },
     "metadata": {},
     "output_type": "display_data"
    },
    {
     "data": {
      "application/vnd.jupyter.widget-view+json": {
       "model_id": "800d6ce592214ebe9c6720c074bbef67",
       "version_major": 2,
       "version_minor": 0
      },
      "text/plain": [
       "  0%|          | 0/1 [00:00<?, ?it/s]"
      ]
     },
     "metadata": {},
     "output_type": "display_data"
    },
    {
     "data": {
      "application/vnd.jupyter.widget-view+json": {
       "model_id": "9b6d91d7cb45471cbf23ef8f64266cbf",
       "version_major": 2,
       "version_minor": 0
      },
      "text/plain": [
       "  0%|          | 0/1 [00:00<?, ?it/s]"
      ]
     },
     "metadata": {},
     "output_type": "display_data"
    },
    {
     "data": {
      "application/vnd.jupyter.widget-view+json": {
       "model_id": "041d52f07a3748d68e621fb3e0a17591",
       "version_major": 2,
       "version_minor": 0
      },
      "text/plain": [
       "  0%|          | 0/1 [00:00<?, ?it/s]"
      ]
     },
     "metadata": {},
     "output_type": "display_data"
    },
    {
     "data": {
      "application/vnd.jupyter.widget-view+json": {
       "model_id": "d54ef735b982487988904e4d25ca69d1",
       "version_major": 2,
       "version_minor": 0
      },
      "text/plain": [
       "  0%|          | 0/1 [00:00<?, ?it/s]"
      ]
     },
     "metadata": {},
     "output_type": "display_data"
    },
    {
     "data": {
      "application/vnd.jupyter.widget-view+json": {
       "model_id": "994ec1deca8749818fcf8d4b19ce6239",
       "version_major": 2,
       "version_minor": 0
      },
      "text/plain": [
       "  0%|          | 0/1 [00:00<?, ?it/s]"
      ]
     },
     "metadata": {},
     "output_type": "display_data"
    },
    {
     "data": {
      "application/vnd.jupyter.widget-view+json": {
       "model_id": "9bb6279297f64af4b1518e0f4c5d4c48",
       "version_major": 2,
       "version_minor": 0
      },
      "text/plain": [
       "  0%|          | 0/1 [00:00<?, ?it/s]"
      ]
     },
     "metadata": {},
     "output_type": "display_data"
    }
   ],
   "source": [
    "print(len(gn_link_code_ls))\n",
    "count = 0\n",
    "for symbol_url, name in gn_link_code_ls:\n",
    "    try:\n",
    "        r = requests.get(symbol_url, headers=headers)\n",
    "        soup_today = BeautifulSoup(r.text, features=\"lxml\")\n",
    "        symbol_code = soup_today.find(name=\"div\", attrs={\"class\": \"board-hq\"}).find(\"span\").text\n",
    "        big_df = pd.DataFrame()\n",
    "        temp_start_year = start_year\n",
    "        \n",
    "        if os.path.exists(f\"./data/{symbol_code}.csv\"):\n",
    "            big_df = pd.read_csv(f\"./data/{symbol_code}.csv\",  encoding=\"utf-8\")\n",
    "            if not big_df.empty:\n",
    "                big_df.iloc[:, 0] = pd.to_datetime(big_df.iloc[:, 0], errors=\"coerce\").dt.date\n",
    "                if big_df.iloc[-1, 0] >= recent_trade_date:\n",
    "                    bk_data_ls.append((name, symbol_code, big_df))\n",
    "                    code_ls.append(symbol_code)\n",
    "                    continue\n",
    "                elif big_df.iloc[-1, 0].year >= int(temp_start_year):\n",
    "                    temp_start_year = str(big_df.iloc[-1, 0].year)\n",
    "                    year_mask = big_df.iloc[:,0].apply(lambda x: x.year)  ==  int(temp_start_year) \n",
    "                    if year_mask.any():\n",
    "                        first_index = year_mask.idxmax()\n",
    "                    else:\n",
    "                        first_index = None\n",
    "                    if first_index is not None:\n",
    "                        big_df = big_df.iloc[:first_index]\n",
    "                elif (big_df.iloc[-1, 0] == lastday):\n",
    "                    dd_texts = [dd.text for dd in soup_today.find_all(\"dd\")] \n",
    "                    close = soup_today.select_one('span.board-xj.arr-rise,  span.board-xj.arr-fall').text\n",
    "                    open, low, high, volume, amount = dd_texts[0], dd_texts[2], dd_texts[3], dd_texts[4], dd_texts[9]\n",
    "                    new_list = [\n",
    "                        recent_trade_date,\n",
    "                        float(open),\n",
    "                        float(high),\n",
    "                        float(low),\n",
    "                        float(close),\n",
    "                        float(volume.replace(\",\", \"\")),\n",
    "                        float(amount.replace(\",\", \"\")),\n",
    "                    ]\n",
    "                    new_row = pd.DataFrame([new_list], columns=big_df.columns) \n",
    "                    big_df = pd.concat([big_df,  new_row], ignore_index=True)\n",
    "                    bk_data_ls.append((name, symbol_code, big_df))\n",
    "                    code_ls.append(symbol_code)\n",
    "                    big_df.to_csv(f\"./data/{symbol_code}.csv\", index=False, encoding='utf-8-sig')\n",
    "                    continue\n",
    "        \n",
    "        headers_d = {\n",
    "            \"User-Agent\": \"Mozilla/5.0 (Windows NT 10.0; Win64; x64) AppleWebKit/537.36 (KHTML, like Gecko) \"\n",
    "            \"Chrome/89.0.4389.90 Safari/537.36\",\n",
    "            \"Referer\": symbol_url,\n",
    "            \"Host\": \"d.10jqka.com.cn\"\n",
    "        }\n",
    "        time.sleep(1)\n",
    "        for year in tqdm(range(int(temp_start_year), current_year + 1), leave=False):\n",
    "            url = f\"http://d.10jqka.com.cn/v4/line/bk_{symbol_code}/01/{year}.js\"\n",
    "            r = requests.get(url, headers=headers_d)\n",
    "            data_text = r.text\n",
    "            if r.status_code != 200:\n",
    "                print(\"not 200!\", r.status_code, symbol_url, url)\n",
    "                continue\n",
    "            try:\n",
    "                temp_df = demjson.decode(data_text[data_text.find(\"{\") : -1])\n",
    "                temp_df = pd.DataFrame(temp_df[\"data\"].split(\";\"))\n",
    "                temp_df = temp_df.iloc[:, 0].str.split(\",\", expand=True).iloc[:,  :7]\n",
    "                big_df = pd.concat(objs=[big_df, temp_df], ignore_index=True)\n",
    "            except Exception as e:  # noqa: E722\n",
    "                print(e, \"decode fail:\",count,\"  \", url, \"text as:\", data_text)\n",
    "                break\n",
    "        big_df.columns  = [\"date\", \"open\", \"high\", \"low\", \"close\", \"volume\", \"amount\"]\n",
    "        big_df[\"date\"] = pd.to_datetime(big_df[\"date\"], errors=\"coerce\").dt.date\n",
    "        big_df[\"open\"] = pd.to_numeric(big_df[\"open\"], errors=\"coerce\")\n",
    "        big_df[\"high\"] = pd.to_numeric(big_df[\"high\"], errors=\"coerce\")\n",
    "        big_df[\"low\"] = pd.to_numeric(big_df[\"low\"], errors=\"coerce\")\n",
    "        big_df[\"close\"] = pd.to_numeric(big_df[\"close\"], errors=\"coerce\")\n",
    "        big_df[\"volume\"] = pd.to_numeric(big_df[\"volume\"], errors=\"coerce\")\n",
    "        big_df[\"amount\"] = pd.to_numeric(big_df[\"amount\"], errors=\"coerce\")\n",
    "        \n",
    "        if big_df.iloc[-1].isna().any(): \n",
    "            big_df = big_df.iloc[:-1]\n",
    "\n",
    "        if big_df[\"date\"].iloc[-1] == lastday:\n",
    "            dd_texts = [dd.text for dd in soup_today.find_all(\"dd\")] \n",
    "            close = soup_today.select_one('span.board-xj.arr-rise,  span.board-xj.arr-fall').text\n",
    "            open, low, high, volume, amount = dd_texts[0], dd_texts[2], dd_texts[3], dd_texts[4], dd_texts[9]\n",
    "            new_list = [\n",
    "                recent_trade_date,\n",
    "                float(open),\n",
    "                float(high),\n",
    "                float(low),\n",
    "                float(close),\n",
    "                float(volume.replace(\",\", \"\")),\n",
    "                float(amount.replace(\",\", \"\")),\n",
    "            ]\n",
    "            new_row = pd.DataFrame([new_list], columns=big_df.columns) \n",
    "            big_df = pd.concat([big_df,  new_row], ignore_index=True)\n",
    "        bk_data_ls.append((name, symbol_code, big_df))\n",
    "        code_ls.append(symbol_code)\n",
    "        big_df.to_csv(f\"./data/{symbol_code}.csv\", index=False, encoding='utf-8-sig')\n",
    "        count+=1\n",
    "    except Exception as e:\n",
    "        print(e, \" wrong data:\",count,\"  \", f\"https://d.10jqka.com.cn/v4/line/bk_{symbol_code}/01/{year}.js\", symbol_url, big_df.tail())\n",
    "        break\n"
   ]
  },
  {
   "cell_type": "code",
   "execution_count": 5,
   "id": "fe3a45fd",
   "metadata": {},
   "outputs": [],
   "source": [
    "# # http://q.10jqka.com.cn/thshy/detail/code/881138/\n",
    "# headers = {\n",
    "#         \"User-Agent\": \"Mozilla/5.0 (Windows NT 10.0; Win64; x64) AppleWebKit/537.36 (KHTML, like Gecko) \"\n",
    "#         \"Chrome/89.0.4389.90 Safari/537.36\",\n",
    "#         # \"Cookie\": f\"v={v_code}\",\n",
    "#     }\n",
    "# headers_bk = {\n",
    "#             \"User-Agent\": \"Mozilla/5.0 (Windows NT 10.0; Win64; x64) AppleWebKit/537.36 (KHTML, like Gecko) \"\n",
    "#             \"Chrome/89.0.4389.90 Safari/537.36\",\n",
    "#             \"Referer\": \"https://q.10jqka.com.cn\",\n",
    "#             \"Host\": \"d.10jqka.com.cn\",\n",
    "#             # \"Cookie\": f\"v={v_code}\",\n",
    "#         }\n",
    "# url =  \"https://d.10jqka.com.cn/v4/line/bk_885829/01/2025.js\"\n",
    "# symbol_url = \"https://q.10jqka.com.cn/gn/detail/code/301252/\"\n",
    "# print(symbol_url)\n",
    "# r = requests.get(symbol_url, headers=headers)\n",
    "# print(r.status_code)\n",
    "# for name, symbol_code, big_df in bk_data_ls:\n",
    "#     print(symbol_code, big_df.shape)"
   ]
  },
  {
   "cell_type": "code",
   "execution_count": null,
   "id": "948c7835",
   "metadata": {},
   "outputs": [
    {
     "name": "stdout",
     "output_type": "stream",
     "text": [
      "90\n"
     ]
    },
    {
     "data": {
      "application/vnd.jupyter.widget-view+json": {
       "model_id": "972acab38b51403eace8fd308d944b59",
       "version_major": 2,
       "version_minor": 0
      },
      "text/plain": [
       "  0%|          | 0/1 [00:00<?, ?it/s]"
      ]
     },
     "metadata": {},
     "output_type": "display_data"
    },
    {
     "data": {
      "application/vnd.jupyter.widget-view+json": {
       "model_id": "57227dd386f44a5aa0888817e5df87fe",
       "version_major": 2,
       "version_minor": 0
      },
      "text/plain": [
       "  0%|          | 0/1 [00:00<?, ?it/s]"
      ]
     },
     "metadata": {},
     "output_type": "display_data"
    },
    {
     "data": {
      "application/vnd.jupyter.widget-view+json": {
       "model_id": "1c84b846a45f44cf8ffaf4a03bcc2847",
       "version_major": 2,
       "version_minor": 0
      },
      "text/plain": [
       "  0%|          | 0/1 [00:00<?, ?it/s]"
      ]
     },
     "metadata": {},
     "output_type": "display_data"
    },
    {
     "data": {
      "application/vnd.jupyter.widget-view+json": {
       "model_id": "fa173ed0571348b89fe630839c7f8f1b",
       "version_major": 2,
       "version_minor": 0
      },
      "text/plain": [
       "  0%|          | 0/1 [00:00<?, ?it/s]"
      ]
     },
     "metadata": {},
     "output_type": "display_data"
    },
    {
     "data": {
      "application/vnd.jupyter.widget-view+json": {
       "model_id": "b0e75a703beb40889fe98b33f63ad4e2",
       "version_major": 2,
       "version_minor": 0
      },
      "text/plain": [
       "  0%|          | 0/1 [00:00<?, ?it/s]"
      ]
     },
     "metadata": {},
     "output_type": "display_data"
    },
    {
     "data": {
      "application/vnd.jupyter.widget-view+json": {
       "model_id": "7a7c9254724b4a5a8a39c43671481288",
       "version_major": 2,
       "version_minor": 0
      },
      "text/plain": [
       "  0%|          | 0/1 [00:00<?, ?it/s]"
      ]
     },
     "metadata": {},
     "output_type": "display_data"
    },
    {
     "data": {
      "application/vnd.jupyter.widget-view+json": {
       "model_id": "69add16c95bd4df78fed4a2af0e860b4",
       "version_major": 2,
       "version_minor": 0
      },
      "text/plain": [
       "  0%|          | 0/1 [00:00<?, ?it/s]"
      ]
     },
     "metadata": {},
     "output_type": "display_data"
    },
    {
     "data": {
      "application/vnd.jupyter.widget-view+json": {
       "model_id": "856f61ae8d9942cf988ad38a89ff0028",
       "version_major": 2,
       "version_minor": 0
      },
      "text/plain": [
       "  0%|          | 0/1 [00:00<?, ?it/s]"
      ]
     },
     "metadata": {},
     "output_type": "display_data"
    },
    {
     "data": {
      "application/vnd.jupyter.widget-view+json": {
       "model_id": "8919d5e469bd43f6b0f1acdb42b1efca",
       "version_major": 2,
       "version_minor": 0
      },
      "text/plain": [
       "  0%|          | 0/1 [00:00<?, ?it/s]"
      ]
     },
     "metadata": {},
     "output_type": "display_data"
    },
    {
     "data": {
      "application/vnd.jupyter.widget-view+json": {
       "model_id": "c915bbf6d9124c0b9a2e9258fc738f95",
       "version_major": 2,
       "version_minor": 0
      },
      "text/plain": [
       "  0%|          | 0/1 [00:00<?, ?it/s]"
      ]
     },
     "metadata": {},
     "output_type": "display_data"
    },
    {
     "data": {
      "application/vnd.jupyter.widget-view+json": {
       "model_id": "db2a63b4d0a14b4fa01dfe2ad83bed69",
       "version_major": 2,
       "version_minor": 0
      },
      "text/plain": [
       "  0%|          | 0/1 [00:00<?, ?it/s]"
      ]
     },
     "metadata": {},
     "output_type": "display_data"
    },
    {
     "data": {
      "application/vnd.jupyter.widget-view+json": {
       "model_id": "29bb4bf0868045799468fd9aad3961a8",
       "version_major": 2,
       "version_minor": 0
      },
      "text/plain": [
       "  0%|          | 0/1 [00:00<?, ?it/s]"
      ]
     },
     "metadata": {},
     "output_type": "display_data"
    },
    {
     "data": {
      "application/vnd.jupyter.widget-view+json": {
       "model_id": "0eacf554099a4f029ec5bc980fde1a2a",
       "version_major": 2,
       "version_minor": 0
      },
      "text/plain": [
       "  0%|          | 0/1 [00:00<?, ?it/s]"
      ]
     },
     "metadata": {},
     "output_type": "display_data"
    },
    {
     "data": {
      "application/vnd.jupyter.widget-view+json": {
       "model_id": "9b851a3ff8784dadbb8345e257ab58b9",
       "version_major": 2,
       "version_minor": 0
      },
      "text/plain": [
       "  0%|          | 0/1 [00:00<?, ?it/s]"
      ]
     },
     "metadata": {},
     "output_type": "display_data"
    },
    {
     "data": {
      "application/vnd.jupyter.widget-view+json": {
       "model_id": "a5892edfd9a64d94b342cc39cbc3c626",
       "version_major": 2,
       "version_minor": 0
      },
      "text/plain": [
       "  0%|          | 0/1 [00:00<?, ?it/s]"
      ]
     },
     "metadata": {},
     "output_type": "display_data"
    },
    {
     "data": {
      "application/vnd.jupyter.widget-view+json": {
       "model_id": "c4a0c6cdc01d441b9b621c1e571a3587",
       "version_major": 2,
       "version_minor": 0
      },
      "text/plain": [
       "  0%|          | 0/1 [00:00<?, ?it/s]"
      ]
     },
     "metadata": {},
     "output_type": "display_data"
    },
    {
     "data": {
      "application/vnd.jupyter.widget-view+json": {
       "model_id": "e12989d64fd44069845bfb1f715d7591",
       "version_major": 2,
       "version_minor": 0
      },
      "text/plain": [
       "  0%|          | 0/1 [00:00<?, ?it/s]"
      ]
     },
     "metadata": {},
     "output_type": "display_data"
    },
    {
     "data": {
      "application/vnd.jupyter.widget-view+json": {
       "model_id": "15969b4906b54730ab51b94a7daf20f0",
       "version_major": 2,
       "version_minor": 0
      },
      "text/plain": [
       "  0%|          | 0/1 [00:00<?, ?it/s]"
      ]
     },
     "metadata": {},
     "output_type": "display_data"
    },
    {
     "data": {
      "application/vnd.jupyter.widget-view+json": {
       "model_id": "27bed313204b440d9e49697014c58b10",
       "version_major": 2,
       "version_minor": 0
      },
      "text/plain": [
       "  0%|          | 0/1 [00:00<?, ?it/s]"
      ]
     },
     "metadata": {},
     "output_type": "display_data"
    },
    {
     "data": {
      "application/vnd.jupyter.widget-view+json": {
       "model_id": "2be7e4235c634c58b8f161b997baaf44",
       "version_major": 2,
       "version_minor": 0
      },
      "text/plain": [
       "  0%|          | 0/1 [00:00<?, ?it/s]"
      ]
     },
     "metadata": {},
     "output_type": "display_data"
    },
    {
     "data": {
      "application/vnd.jupyter.widget-view+json": {
       "model_id": "a30f670cf74e40d7bd8dd182e4619b0a",
       "version_major": 2,
       "version_minor": 0
      },
      "text/plain": [
       "  0%|          | 0/1 [00:00<?, ?it/s]"
      ]
     },
     "metadata": {},
     "output_type": "display_data"
    },
    {
     "data": {
      "application/vnd.jupyter.widget-view+json": {
       "model_id": "7597d55d5c834bc4bd412221f80a1a2a",
       "version_major": 2,
       "version_minor": 0
      },
      "text/plain": [
       "  0%|          | 0/1 [00:00<?, ?it/s]"
      ]
     },
     "metadata": {},
     "output_type": "display_data"
    },
    {
     "data": {
      "application/vnd.jupyter.widget-view+json": {
       "model_id": "304a4ef1e8c348dc83023faf9d52dc7e",
       "version_major": 2,
       "version_minor": 0
      },
      "text/plain": [
       "  0%|          | 0/1 [00:00<?, ?it/s]"
      ]
     },
     "metadata": {},
     "output_type": "display_data"
    },
    {
     "data": {
      "application/vnd.jupyter.widget-view+json": {
       "model_id": "8bdb95bc16c64c7c86924c673d4792cc",
       "version_major": 2,
       "version_minor": 0
      },
      "text/plain": [
       "  0%|          | 0/1 [00:00<?, ?it/s]"
      ]
     },
     "metadata": {},
     "output_type": "display_data"
    },
    {
     "data": {
      "application/vnd.jupyter.widget-view+json": {
       "model_id": "d421dc845f9f4b20938340dec93d9434",
       "version_major": 2,
       "version_minor": 0
      },
      "text/plain": [
       "  0%|          | 0/1 [00:00<?, ?it/s]"
      ]
     },
     "metadata": {},
     "output_type": "display_data"
    },
    {
     "data": {
      "application/vnd.jupyter.widget-view+json": {
       "model_id": "85c6986bd7254dbc9ab8ca3c2c0a11b5",
       "version_major": 2,
       "version_minor": 0
      },
      "text/plain": [
       "  0%|          | 0/1 [00:00<?, ?it/s]"
      ]
     },
     "metadata": {},
     "output_type": "display_data"
    },
    {
     "data": {
      "application/vnd.jupyter.widget-view+json": {
       "model_id": "30b01153ea934d1a8d3049d880cf46f5",
       "version_major": 2,
       "version_minor": 0
      },
      "text/plain": [
       "  0%|          | 0/1 [00:00<?, ?it/s]"
      ]
     },
     "metadata": {},
     "output_type": "display_data"
    },
    {
     "data": {
      "application/vnd.jupyter.widget-view+json": {
       "model_id": "e429f035c358470bbf3b5a57782e2ccc",
       "version_major": 2,
       "version_minor": 0
      },
      "text/plain": [
       "  0%|          | 0/1 [00:00<?, ?it/s]"
      ]
     },
     "metadata": {},
     "output_type": "display_data"
    },
    {
     "data": {
      "application/vnd.jupyter.widget-view+json": {
       "model_id": "398adc30815f46518f4e7ebc2dd3ddcc",
       "version_major": 2,
       "version_minor": 0
      },
      "text/plain": [
       "  0%|          | 0/1 [00:00<?, ?it/s]"
      ]
     },
     "metadata": {},
     "output_type": "display_data"
    },
    {
     "data": {
      "application/vnd.jupyter.widget-view+json": {
       "model_id": "86e7e57ed2744358b3d56d200fef6f6f",
       "version_major": 2,
       "version_minor": 0
      },
      "text/plain": [
       "  0%|          | 0/1 [00:00<?, ?it/s]"
      ]
     },
     "metadata": {},
     "output_type": "display_data"
    },
    {
     "data": {
      "application/vnd.jupyter.widget-view+json": {
       "model_id": "d58ed8ffc1cf4781ab86660a0809681f",
       "version_major": 2,
       "version_minor": 0
      },
      "text/plain": [
       "  0%|          | 0/1 [00:00<?, ?it/s]"
      ]
     },
     "metadata": {},
     "output_type": "display_data"
    },
    {
     "data": {
      "application/vnd.jupyter.widget-view+json": {
       "model_id": "e022d06c74f6438faf27f934794822d8",
       "version_major": 2,
       "version_minor": 0
      },
      "text/plain": [
       "  0%|          | 0/1 [00:00<?, ?it/s]"
      ]
     },
     "metadata": {},
     "output_type": "display_data"
    },
    {
     "data": {
      "application/vnd.jupyter.widget-view+json": {
       "model_id": "03d1088009eb401581a1ff9b213ac830",
       "version_major": 2,
       "version_minor": 0
      },
      "text/plain": [
       "  0%|          | 0/1 [00:00<?, ?it/s]"
      ]
     },
     "metadata": {},
     "output_type": "display_data"
    },
    {
     "data": {
      "application/vnd.jupyter.widget-view+json": {
       "model_id": "98c254a7f80e44c2b0ba236bcdc99fb2",
       "version_major": 2,
       "version_minor": 0
      },
      "text/plain": [
       "  0%|          | 0/1 [00:00<?, ?it/s]"
      ]
     },
     "metadata": {},
     "output_type": "display_data"
    },
    {
     "data": {
      "application/vnd.jupyter.widget-view+json": {
       "model_id": "6aff070e9f584f4193fb91272d2cef14",
       "version_major": 2,
       "version_minor": 0
      },
      "text/plain": [
       "  0%|          | 0/1 [00:00<?, ?it/s]"
      ]
     },
     "metadata": {},
     "output_type": "display_data"
    },
    {
     "data": {
      "application/vnd.jupyter.widget-view+json": {
       "model_id": "732e884458d24effb3f3740069360dd6",
       "version_major": 2,
       "version_minor": 0
      },
      "text/plain": [
       "  0%|          | 0/1 [00:00<?, ?it/s]"
      ]
     },
     "metadata": {},
     "output_type": "display_data"
    },
    {
     "data": {
      "application/vnd.jupyter.widget-view+json": {
       "model_id": "14bbc7b826fe4e13a8a748dd01ee2a9e",
       "version_major": 2,
       "version_minor": 0
      },
      "text/plain": [
       "  0%|          | 0/1 [00:00<?, ?it/s]"
      ]
     },
     "metadata": {},
     "output_type": "display_data"
    },
    {
     "data": {
      "application/vnd.jupyter.widget-view+json": {
       "model_id": "9c83d2a2da6f463f9152963d71c17050",
       "version_major": 2,
       "version_minor": 0
      },
      "text/plain": [
       "  0%|          | 0/1 [00:00<?, ?it/s]"
      ]
     },
     "metadata": {},
     "output_type": "display_data"
    },
    {
     "data": {
      "application/vnd.jupyter.widget-view+json": {
       "model_id": "6cc8f90674f047d894fee24bcc9c3b3f",
       "version_major": 2,
       "version_minor": 0
      },
      "text/plain": [
       "  0%|          | 0/1 [00:00<?, ?it/s]"
      ]
     },
     "metadata": {},
     "output_type": "display_data"
    },
    {
     "data": {
      "application/vnd.jupyter.widget-view+json": {
       "model_id": "df020e87b74c4b2eb27725eb0e8e60ce",
       "version_major": 2,
       "version_minor": 0
      },
      "text/plain": [
       "  0%|          | 0/1 [00:00<?, ?it/s]"
      ]
     },
     "metadata": {},
     "output_type": "display_data"
    },
    {
     "data": {
      "application/vnd.jupyter.widget-view+json": {
       "model_id": "1885e2a87e924d128b81622845c3904c",
       "version_major": 2,
       "version_minor": 0
      },
      "text/plain": [
       "  0%|          | 0/1 [00:00<?, ?it/s]"
      ]
     },
     "metadata": {},
     "output_type": "display_data"
    },
    {
     "data": {
      "application/vnd.jupyter.widget-view+json": {
       "model_id": "b107f5e1d5fc4e648109f7e4097566ee",
       "version_major": 2,
       "version_minor": 0
      },
      "text/plain": [
       "  0%|          | 0/1 [00:00<?, ?it/s]"
      ]
     },
     "metadata": {},
     "output_type": "display_data"
    },
    {
     "data": {
      "application/vnd.jupyter.widget-view+json": {
       "model_id": "c69d7a5c5f31499c935184062877ea75",
       "version_major": 2,
       "version_minor": 0
      },
      "text/plain": [
       "  0%|          | 0/1 [00:00<?, ?it/s]"
      ]
     },
     "metadata": {},
     "output_type": "display_data"
    },
    {
     "data": {
      "application/vnd.jupyter.widget-view+json": {
       "model_id": "2cec65c5b2b94ffba336812a1d2e2ade",
       "version_major": 2,
       "version_minor": 0
      },
      "text/plain": [
       "  0%|          | 0/1 [00:00<?, ?it/s]"
      ]
     },
     "metadata": {},
     "output_type": "display_data"
    },
    {
     "data": {
      "application/vnd.jupyter.widget-view+json": {
       "model_id": "b402f8ade7e441b0b74731da46d15145",
       "version_major": 2,
       "version_minor": 0
      },
      "text/plain": [
       "  0%|          | 0/1 [00:00<?, ?it/s]"
      ]
     },
     "metadata": {},
     "output_type": "display_data"
    },
    {
     "data": {
      "application/vnd.jupyter.widget-view+json": {
       "model_id": "b5a28572db234728a98b141c3544502b",
       "version_major": 2,
       "version_minor": 0
      },
      "text/plain": [
       "  0%|          | 0/1 [00:00<?, ?it/s]"
      ]
     },
     "metadata": {},
     "output_type": "display_data"
    },
    {
     "data": {
      "application/vnd.jupyter.widget-view+json": {
       "model_id": "f6c52c49b71d4c32a2ffbd5550f449d4",
       "version_major": 2,
       "version_minor": 0
      },
      "text/plain": [
       "  0%|          | 0/1 [00:00<?, ?it/s]"
      ]
     },
     "metadata": {},
     "output_type": "display_data"
    },
    {
     "data": {
      "application/vnd.jupyter.widget-view+json": {
       "model_id": "47a9e9a4684a4e879181d74f2aa50076",
       "version_major": 2,
       "version_minor": 0
      },
      "text/plain": [
       "  0%|          | 0/1 [00:00<?, ?it/s]"
      ]
     },
     "metadata": {},
     "output_type": "display_data"
    },
    {
     "data": {
      "application/vnd.jupyter.widget-view+json": {
       "model_id": "379881f761804e4ab1d73134e0045a3b",
       "version_major": 2,
       "version_minor": 0
      },
      "text/plain": [
       "  0%|          | 0/1 [00:00<?, ?it/s]"
      ]
     },
     "metadata": {},
     "output_type": "display_data"
    },
    {
     "data": {
      "application/vnd.jupyter.widget-view+json": {
       "model_id": "d74fecc0f3c74fd3b84ded94a4d27170",
       "version_major": 2,
       "version_minor": 0
      },
      "text/plain": [
       "  0%|          | 0/1 [00:00<?, ?it/s]"
      ]
     },
     "metadata": {},
     "output_type": "display_data"
    },
    {
     "data": {
      "application/vnd.jupyter.widget-view+json": {
       "model_id": "a34d9f12cd044c668e681fd201495d0c",
       "version_major": 2,
       "version_minor": 0
      },
      "text/plain": [
       "  0%|          | 0/1 [00:00<?, ?it/s]"
      ]
     },
     "metadata": {},
     "output_type": "display_data"
    },
    {
     "data": {
      "application/vnd.jupyter.widget-view+json": {
       "model_id": "f6185460a39d4744ba05484e8c1eccef",
       "version_major": 2,
       "version_minor": 0
      },
      "text/plain": [
       "  0%|          | 0/1 [00:00<?, ?it/s]"
      ]
     },
     "metadata": {},
     "output_type": "display_data"
    },
    {
     "data": {
      "application/vnd.jupyter.widget-view+json": {
       "model_id": "2f6f4dff61604773abb03371b4db36a9",
       "version_major": 2,
       "version_minor": 0
      },
      "text/plain": [
       "  0%|          | 0/1 [00:00<?, ?it/s]"
      ]
     },
     "metadata": {},
     "output_type": "display_data"
    },
    {
     "data": {
      "application/vnd.jupyter.widget-view+json": {
       "model_id": "e682cd77d71147f5a26dfde31a0a7f43",
       "version_major": 2,
       "version_minor": 0
      },
      "text/plain": [
       "  0%|          | 0/1 [00:00<?, ?it/s]"
      ]
     },
     "metadata": {},
     "output_type": "display_data"
    },
    {
     "data": {
      "application/vnd.jupyter.widget-view+json": {
       "model_id": "e01cd056a6654973b8e8c046b293de8c",
       "version_major": 2,
       "version_minor": 0
      },
      "text/plain": [
       "  0%|          | 0/1 [00:00<?, ?it/s]"
      ]
     },
     "metadata": {},
     "output_type": "display_data"
    },
    {
     "data": {
      "application/vnd.jupyter.widget-view+json": {
       "model_id": "7b9278b20af24b64824ba151aa1c9eff",
       "version_major": 2,
       "version_minor": 0
      },
      "text/plain": [
       "  0%|          | 0/1 [00:00<?, ?it/s]"
      ]
     },
     "metadata": {},
     "output_type": "display_data"
    },
    {
     "data": {
      "application/vnd.jupyter.widget-view+json": {
       "model_id": "752532a3f123436fa055e6f969f9f2dd",
       "version_major": 2,
       "version_minor": 0
      },
      "text/plain": [
       "  0%|          | 0/1 [00:00<?, ?it/s]"
      ]
     },
     "metadata": {},
     "output_type": "display_data"
    },
    {
     "data": {
      "application/vnd.jupyter.widget-view+json": {
       "model_id": "f008961ae28d46a1a2bc52b98e50b154",
       "version_major": 2,
       "version_minor": 0
      },
      "text/plain": [
       "  0%|          | 0/1 [00:00<?, ?it/s]"
      ]
     },
     "metadata": {},
     "output_type": "display_data"
    },
    {
     "data": {
      "application/vnd.jupyter.widget-view+json": {
       "model_id": "1b919489b4b64dc3acc004bfd0750eb0",
       "version_major": 2,
       "version_minor": 0
      },
      "text/plain": [
       "  0%|          | 0/1 [00:00<?, ?it/s]"
      ]
     },
     "metadata": {},
     "output_type": "display_data"
    },
    {
     "data": {
      "application/vnd.jupyter.widget-view+json": {
       "model_id": "15b34afd9699468e834f6bfbc86bcb5b",
       "version_major": 2,
       "version_minor": 0
      },
      "text/plain": [
       "  0%|          | 0/1 [00:00<?, ?it/s]"
      ]
     },
     "metadata": {},
     "output_type": "display_data"
    },
    {
     "data": {
      "application/vnd.jupyter.widget-view+json": {
       "model_id": "6681451ae907400aa2501019ec62b9f0",
       "version_major": 2,
       "version_minor": 0
      },
      "text/plain": [
       "  0%|          | 0/1 [00:00<?, ?it/s]"
      ]
     },
     "metadata": {},
     "output_type": "display_data"
    },
    {
     "data": {
      "application/vnd.jupyter.widget-view+json": {
       "model_id": "d8cdf90b82b14318a42b304b6805900d",
       "version_major": 2,
       "version_minor": 0
      },
      "text/plain": [
       "  0%|          | 0/1 [00:00<?, ?it/s]"
      ]
     },
     "metadata": {},
     "output_type": "display_data"
    },
    {
     "data": {
      "application/vnd.jupyter.widget-view+json": {
       "model_id": "2c5653621cbc4407a0a8e36d98560554",
       "version_major": 2,
       "version_minor": 0
      },
      "text/plain": [
       "  0%|          | 0/1 [00:00<?, ?it/s]"
      ]
     },
     "metadata": {},
     "output_type": "display_data"
    },
    {
     "data": {
      "application/vnd.jupyter.widget-view+json": {
       "model_id": "dc407b02b78a4ef78d1c691d625c6f65",
       "version_major": 2,
       "version_minor": 0
      },
      "text/plain": [
       "  0%|          | 0/1 [00:00<?, ?it/s]"
      ]
     },
     "metadata": {},
     "output_type": "display_data"
    },
    {
     "data": {
      "application/vnd.jupyter.widget-view+json": {
       "model_id": "74b66c48d1814e5ea688d8eaf4e35294",
       "version_major": 2,
       "version_minor": 0
      },
      "text/plain": [
       "  0%|          | 0/1 [00:00<?, ?it/s]"
      ]
     },
     "metadata": {},
     "output_type": "display_data"
    },
    {
     "data": {
      "application/vnd.jupyter.widget-view+json": {
       "model_id": "f22a9aa91cea418186c9db1af3ebb0d1",
       "version_major": 2,
       "version_minor": 0
      },
      "text/plain": [
       "  0%|          | 0/1 [00:00<?, ?it/s]"
      ]
     },
     "metadata": {},
     "output_type": "display_data"
    },
    {
     "data": {
      "application/vnd.jupyter.widget-view+json": {
       "model_id": "135f22a4ab304d40a74326911ff72129",
       "version_major": 2,
       "version_minor": 0
      },
      "text/plain": [
       "  0%|          | 0/1 [00:00<?, ?it/s]"
      ]
     },
     "metadata": {},
     "output_type": "display_data"
    },
    {
     "data": {
      "application/vnd.jupyter.widget-view+json": {
       "model_id": "3005f92145df4660984c31655d337f61",
       "version_major": 2,
       "version_minor": 0
      },
      "text/plain": [
       "  0%|          | 0/1 [00:00<?, ?it/s]"
      ]
     },
     "metadata": {},
     "output_type": "display_data"
    },
    {
     "data": {
      "application/vnd.jupyter.widget-view+json": {
       "model_id": "5a348d00f140444eaa3b0058d2f78fcb",
       "version_major": 2,
       "version_minor": 0
      },
      "text/plain": [
       "  0%|          | 0/1 [00:00<?, ?it/s]"
      ]
     },
     "metadata": {},
     "output_type": "display_data"
    },
    {
     "data": {
      "application/vnd.jupyter.widget-view+json": {
       "model_id": "b3263634ad3d494599a685023b6c5706",
       "version_major": 2,
       "version_minor": 0
      },
      "text/plain": [
       "  0%|          | 0/1 [00:00<?, ?it/s]"
      ]
     },
     "metadata": {},
     "output_type": "display_data"
    },
    {
     "data": {
      "application/vnd.jupyter.widget-view+json": {
       "model_id": "f8e832cefe484a549daa4b517e138a09",
       "version_major": 2,
       "version_minor": 0
      },
      "text/plain": [
       "  0%|          | 0/1 [00:00<?, ?it/s]"
      ]
     },
     "metadata": {},
     "output_type": "display_data"
    },
    {
     "data": {
      "application/vnd.jupyter.widget-view+json": {
       "model_id": "9eed6fe25bdf45fa9907ad253ee08405",
       "version_major": 2,
       "version_minor": 0
      },
      "text/plain": [
       "  0%|          | 0/1 [00:00<?, ?it/s]"
      ]
     },
     "metadata": {},
     "output_type": "display_data"
    },
    {
     "data": {
      "application/vnd.jupyter.widget-view+json": {
       "model_id": "8875e3f00d5345e6a66cf87116ed7725",
       "version_major": 2,
       "version_minor": 0
      },
      "text/plain": [
       "  0%|          | 0/1 [00:00<?, ?it/s]"
      ]
     },
     "metadata": {},
     "output_type": "display_data"
    },
    {
     "data": {
      "application/vnd.jupyter.widget-view+json": {
       "model_id": "5be26d88096e48fbade60d0e0bdcea73",
       "version_major": 2,
       "version_minor": 0
      },
      "text/plain": [
       "  0%|          | 0/1 [00:00<?, ?it/s]"
      ]
     },
     "metadata": {},
     "output_type": "display_data"
    },
    {
     "data": {
      "application/vnd.jupyter.widget-view+json": {
       "model_id": "4569c66437b94ae58611141641f13841",
       "version_major": 2,
       "version_minor": 0
      },
      "text/plain": [
       "  0%|          | 0/1 [00:00<?, ?it/s]"
      ]
     },
     "metadata": {},
     "output_type": "display_data"
    },
    {
     "data": {
      "application/vnd.jupyter.widget-view+json": {
       "model_id": "a487b6886e414cf59853fbfe67519f81",
       "version_major": 2,
       "version_minor": 0
      },
      "text/plain": [
       "  0%|          | 0/1 [00:00<?, ?it/s]"
      ]
     },
     "metadata": {},
     "output_type": "display_data"
    },
    {
     "data": {
      "application/vnd.jupyter.widget-view+json": {
       "model_id": "9aa808f0540a4f86b3820a1bfcbaabb0",
       "version_major": 2,
       "version_minor": 0
      },
      "text/plain": [
       "  0%|          | 0/1 [00:00<?, ?it/s]"
      ]
     },
     "metadata": {},
     "output_type": "display_data"
    },
    {
     "data": {
      "application/vnd.jupyter.widget-view+json": {
       "model_id": "a97ec788126b4db0ba4bf011173d6275",
       "version_major": 2,
       "version_minor": 0
      },
      "text/plain": [
       "  0%|          | 0/1 [00:00<?, ?it/s]"
      ]
     },
     "metadata": {},
     "output_type": "display_data"
    },
    {
     "data": {
      "application/vnd.jupyter.widget-view+json": {
       "model_id": "c60d1d985b7d4fb7a4e80c4e9c078899",
       "version_major": 2,
       "version_minor": 0
      },
      "text/plain": [
       "  0%|          | 0/1 [00:00<?, ?it/s]"
      ]
     },
     "metadata": {},
     "output_type": "display_data"
    },
    {
     "data": {
      "application/vnd.jupyter.widget-view+json": {
       "model_id": "fce5dd9e5ae843b7894c562da00f6379",
       "version_major": 2,
       "version_minor": 0
      },
      "text/plain": [
       "  0%|          | 0/1 [00:00<?, ?it/s]"
      ]
     },
     "metadata": {},
     "output_type": "display_data"
    },
    {
     "data": {
      "application/vnd.jupyter.widget-view+json": {
       "model_id": "573f8734308a45c5b76eae91f9e00c21",
       "version_major": 2,
       "version_minor": 0
      },
      "text/plain": [
       "  0%|          | 0/1 [00:00<?, ?it/s]"
      ]
     },
     "metadata": {},
     "output_type": "display_data"
    },
    {
     "data": {
      "application/vnd.jupyter.widget-view+json": {
       "model_id": "6aa40275b8d5426bb29932328e17d166",
       "version_major": 2,
       "version_minor": 0
      },
      "text/plain": [
       "  0%|          | 0/1 [00:00<?, ?it/s]"
      ]
     },
     "metadata": {},
     "output_type": "display_data"
    },
    {
     "data": {
      "application/vnd.jupyter.widget-view+json": {
       "model_id": "547a7016eb634c28b60af6b5403f1242",
       "version_major": 2,
       "version_minor": 0
      },
      "text/plain": [
       "  0%|          | 0/1 [00:00<?, ?it/s]"
      ]
     },
     "metadata": {},
     "output_type": "display_data"
    },
    {
     "data": {
      "application/vnd.jupyter.widget-view+json": {
       "model_id": "32380cad72e9450f8bee4bd669bd44bf",
       "version_major": 2,
       "version_minor": 0
      },
      "text/plain": [
       "  0%|          | 0/1 [00:00<?, ?it/s]"
      ]
     },
     "metadata": {},
     "output_type": "display_data"
    },
    {
     "data": {
      "application/vnd.jupyter.widget-view+json": {
       "model_id": "eba892da2b1c463db590e511b5f622fa",
       "version_major": 2,
       "version_minor": 0
      },
      "text/plain": [
       "  0%|          | 0/1 [00:00<?, ?it/s]"
      ]
     },
     "metadata": {},
     "output_type": "display_data"
    },
    {
     "data": {
      "application/vnd.jupyter.widget-view+json": {
       "model_id": "7ffcb3cfe65c4a1aa1e2c00b6f0ba792",
       "version_major": 2,
       "version_minor": 0
      },
      "text/plain": [
       "  0%|          | 0/1 [00:00<?, ?it/s]"
      ]
     },
     "metadata": {},
     "output_type": "display_data"
    },
    {
     "data": {
      "application/vnd.jupyter.widget-view+json": {
       "model_id": "5fbc8bba6a0f4d738f217f5cdc242959",
       "version_major": 2,
       "version_minor": 0
      },
      "text/plain": [
       "  0%|          | 0/1 [00:00<?, ?it/s]"
      ]
     },
     "metadata": {},
     "output_type": "display_data"
    },
    {
     "data": {
      "application/vnd.jupyter.widget-view+json": {
       "model_id": "d52d6e8053234f51810980a2099b3658",
       "version_major": 2,
       "version_minor": 0
      },
      "text/plain": [
       "  0%|          | 0/1 [00:00<?, ?it/s]"
      ]
     },
     "metadata": {},
     "output_type": "display_data"
    },
    {
     "data": {
      "application/vnd.jupyter.widget-view+json": {
       "model_id": "ee19cc19e6844fc6bbd512b43e742ed1",
       "version_major": 2,
       "version_minor": 0
      },
      "text/plain": [
       "  0%|          | 0/1 [00:00<?, ?it/s]"
      ]
     },
     "metadata": {},
     "output_type": "display_data"
    },
    {
     "data": {
      "application/vnd.jupyter.widget-view+json": {
       "model_id": "cf91f7fe92cb4d9882b8d5b0712a62e7",
       "version_major": 2,
       "version_minor": 0
      },
      "text/plain": [
       "  0%|          | 0/1 [00:00<?, ?it/s]"
      ]
     },
     "metadata": {},
     "output_type": "display_data"
    }
   ],
   "source": [
    "\n",
    "print(len(thshy_link_code_ls))\n",
    "\n",
    "for symbol_code, name in thshy_link_code_ls:\n",
    "    big_df = pd.DataFrame()\n",
    "    if os.path.exists(f\"./data/{symbol_code}.csv\"):\n",
    "        big_df = pd.read_csv(f\"./data/{symbol_code}.csv\",  encoding=\"utf-8\")\n",
    "        if not big_df.empty:\n",
    "            big_df.iloc[:, 0] = pd.to_datetime(big_df.iloc[:, 0], errors=\"coerce\").dt.date\n",
    "            if big_df.iloc[-1, 0] >= recent_trade_date:\n",
    "                bk_data_ls.append((name, symbol_code, big_df))\n",
    "                code_ls.append(symbol_code)\n",
    "                continue\n",
    "            elif big_df.iloc[-1, 0].year >= int(temp_start_year):\n",
    "                temp_start_year = str(big_df.iloc[-1, 0].year)\n",
    "                year_mask = big_df.iloc[:,0].apply(lambda x: x.year)  ==  int(temp_start_year) \n",
    "                if year_mask.any():\n",
    "                    first_index = year_mask.idxmax()\n",
    "                else:\n",
    "                    first_index = None\n",
    "                if first_index is not None:\n",
    "                    big_df = big_df.iloc[:first_index]\n",
    "\n",
    "    try:\n",
    "        for year in tqdm(range(int(temp_start_year), current_year + 1), leave=False):\n",
    "            url = f\"http://d.10jqka.com.cn/v4/line/bk_{symbol_code}/01/{year}.js\"\n",
    "            r = requests.get(url, headers=headers_bk)\n",
    "            data_text = r.text\n",
    "            try:\n",
    "                temp_df = demjson.decode(data_text[data_text.find(\"{\") : -1])\n",
    "                temp_df = pd.DataFrame(temp_df[\"data\"].split(\";\"))\n",
    "                temp_df = temp_df.iloc[:, 0].str.split(\",\", expand=True)\n",
    "                big_df = pd.concat(objs=[big_df, temp_df], ignore_index=True)\n",
    "            except Exception as e:  # noqa: E722\n",
    "                print(e, \"decode fail:\", url, \"text as:\", data_text)\n",
    "                break\n",
    "        big_df = big_df.iloc[:,  :7]\n",
    "        big_df.columns  = [\"date\", \"open\", \"high\", \"low\", \"close\", \"volume\", \"amount\"]\n",
    "        big_df[\"date\"] = pd.to_datetime(big_df[\"date\"], errors=\"coerce\").dt.date\n",
    "        big_df[\"open\"] = pd.to_numeric(big_df[\"open\"], errors=\"coerce\")\n",
    "        big_df[\"high\"] = pd.to_numeric(big_df[\"high\"], errors=\"coerce\")\n",
    "        big_df[\"low\"] = pd.to_numeric(big_df[\"low\"], errors=\"coerce\")\n",
    "        big_df[\"close\"] = pd.to_numeric(big_df[\"close\"], errors=\"coerce\")\n",
    "        big_df[\"volume\"] = pd.to_numeric(big_df[\"volume\"], errors=\"coerce\")\n",
    "        big_df[\"amount\"] = pd.to_numeric(big_df[\"amount\"], errors=\"coerce\")\n",
    "\n",
    "        if big_df.iloc[-1].isna().any(): \n",
    "            big_df = big_df.iloc[:-1]\n",
    "\n",
    "        if big_df[\"date\"].iloc[-1] == lastday:\n",
    "            symbol_url = f\"https://q.10jqka.com.cn/thshy/detail/code/{symbol_code}/\"\n",
    "            r = requests.get(symbol_url, headers=headers)\n",
    "            soup_today = BeautifulSoup(r.text, features=\"lxml\")\n",
    "            dd_texts = [dd.text for dd in soup_today.find_all(\"dd\")] \n",
    "            close = soup_today.select_one('span.board-xj.arr-rise,  span.board-xj.arr-fall').text\n",
    "            open, low, high, volume, amount = dd_texts[0], dd_texts[2], dd_texts[3], dd_texts[4], dd_texts[9]\n",
    "            new_list = [\n",
    "                recent_trade_date,\n",
    "                float(open),\n",
    "                float(high),\n",
    "                float(low),\n",
    "                float(close),\n",
    "                float(volume.replace(\",\", \"\")),\n",
    "                float(amount.replace(\",\", \"\")),\n",
    "            ]\n",
    "            new_row = pd.DataFrame([new_list], columns=big_df.columns) \n",
    "            big_df = pd.concat([big_df,  new_row], ignore_index=True)\n",
    "       \n",
    "        bk_data_ls.append((name, symbol_code, big_df))\n",
    "        code_ls.append(symbol_code)\n",
    "        big_df.to_csv(f\"./data/{symbol_code}.csv\", index=False, encoding='utf-8-sig')\n",
    "    except Exception as e:\n",
    "        print(e, \" wrong data:\", f\"https://d.10jqka.com.cn/v4/line/bk_{symbol_code}/01/{year}.js\", symbol_url, big_df.tail())\n",
    "        break\n",
    "\n",
    "\n"
   ]
  },
  {
   "cell_type": "code",
   "execution_count": 7,
   "id": "802ac574",
   "metadata": {},
   "outputs": [
    {
     "name": "stdout",
     "output_type": "stream",
     "text": [
      "阿尔茨海默概念\n",
      "886056\n",
      "         date     open     high      low    close     volume        amount\n",
      "0  2025-01-02  989.548  999.124  968.150  974.704  512509970  6.680677e+09\n",
      "1  2025-01-03  974.714  986.675  962.398  965.056  475802500  6.222582e+09\n",
      "2  2025-01-06  971.721  987.276  960.495  979.601  525790230  6.659436e+09\n",
      "3  2025-01-07  979.367  979.367  951.360  969.033  966740090  1.109609e+10\n",
      "4  2025-01-08  967.908  974.077  945.650  965.447  771668230  9.432990e+09\n",
      "           date      open      high       low     close     volume  \\\n",
      "169  2025-09-11  1315.080  1340.425  1287.400  1340.425  767246910   \n",
      "170  2025-09-12  1342.274  1359.268  1337.076  1350.272  740585930   \n",
      "171  2025-09-15  1349.381  1359.669  1346.040  1355.557  655885750   \n",
      "172  2025-09-16  1354.393  1357.556  1341.825  1355.572  597010030   \n",
      "173  2025-09-17  1355.403  1357.026  1344.980  1350.725  627528530   \n",
      "\n",
      "           amount  \n",
      "169  1.480606e+10  \n",
      "170  1.411970e+10  \n",
      "171  1.272261e+10  \n",
      "172  1.031487e+10  \n",
      "173  9.929872e+09  \n"
     ]
    }
   ],
   "source": [
    "print(bk_data_ls[0][0])\n",
    "print(bk_data_ls[0][1])\n",
    "print(bk_data_ls[0][2].head())\n",
    "print(bk_data_ls[0][2].tail())"
   ]
  },
  {
   "cell_type": "code",
   "execution_count": 8,
   "id": "94708784",
   "metadata": {},
   "outputs": [],
   "source": [
    "def save_Scalers(scalers, filepath):\n",
    "    \"\"\"保存所有股票的Scaler到文件\"\"\"\n",
    "    joblib.dump(scalers, filepath)\n",
    "def load_Scalers(filepath):\n",
    "    if os.path.exists(filepath):\n",
    "        return joblib.load(filepath)\n",
    "    else:\n",
    "        return {}"
   ]
  },
  {
   "cell_type": "code",
   "execution_count": 9,
   "id": "badcc5f6",
   "metadata": {},
   "outputs": [],
   "source": [
    "code_scaler_path = \"./model/code_scaler.save\"\n",
    "if os.path.exists(code_scaler_path):\n",
    "    code_scaler = joblib.load(code_scaler_path)\n",
    "    if len(code_ls) != len(bk_data_ls):\n",
    "        code_df = pd.DataFrame(code_ls, columns=['code'])\n",
    "        code_scaler.partial_fit(code_df)\n",
    "else:\n",
    "    code_df = pd.DataFrame(code_ls, columns=['code'])\n",
    "    code_scaler = MinMaxScaler(feature_range=(0, 1))\n",
    "    code_scaler.fit(code_df)\n",
    "    save_Scalers(code_scaler, code_scaler_path)"
   ]
  },
  {
   "cell_type": "code",
   "execution_count": 10,
   "id": "ba57affa",
   "metadata": {},
   "outputs": [],
   "source": [
    "class StockDataset(Dataset):\n",
    "    def __init__(self, bk_data_ls, seq_length=16, forecast_gap=2, scaler_filepath='./model/scalers.sav'):\n",
    "        \"\"\"\n",
    "        bk_data_ls: List of tuples (code, data), where:\n",
    "            - code: 股票代码（str）\n",
    "            - data: DataFrame，列顺序为 [open, high, low, close, volume, amount]\n",
    "        seq_length_short: 短期序列长度（可选）\n",
    "        seq_length: 长期依赖序列长度（用于输入）\n",
    "        forecast_gap: 预测几天后的收盘价，如后天 = 2\n",
    "        \"\"\"\n",
    "        self.seq_length  = seq_length\n",
    "        self.forecast_gap  = forecast_gap\n",
    "        self.scalers  = load_Scalers(scaler_filepath) # 存储每个股票的归一化器\n",
    " \n",
    "        all_X = []\n",
    "        all_y = []\n",
    "\n",
    "        for _name, code, data in bk_data_ls:\n",
    "            data = data.iloc[:,1:]\n",
    "            if code in self.scalers:\n",
    "                scaler = self.scalers[code]\n",
    "                scaled_data = scaler.partial_fit(data).transform(data) \n",
    "                self.scalers[code]  = scaler  # 保存 scaler 供后续使用 \n",
    "            else:\n",
    "                scaler = MinMaxScaler(feature_range=(0, 1))\n",
    "                scaled_data = scaler.fit_transform(data) \n",
    "                self.scalers[code]  = scaler  # 保存 scaler 供后续使用 \n",
    "    \n",
    "            # 构造样本\n",
    "            X, y = [], []\n",
    "            code_feature = code_scaler.transform(pd.DataFrame({\"code\": [code]}))\n",
    "            scaled_data = np.insert(scaled_data,  1, code_feature, axis=1) \n",
    "            max_index = len(data) - seq_length - forecast_gap\n",
    "            for i in range(max_index):\n",
    "                # 输入序列：seq_length 天的特征\n",
    "                seq_features = scaled_data[i:i + seq_length]\n",
    "                # 标签：forecast_gap 天后的收盘价（第3列）\n",
    "                target_idx = i + seq_length + forecast_gap - 1\n",
    "                target_close = scaled_data[target_idx, 3]\n",
    " \n",
    "                X.append(seq_features) \n",
    "                y.append(target_close) \n",
    " \n",
    "            # 转换为 numpy 并保存 \n",
    "            all_X.extend(X) \n",
    "            all_y.extend(y) \n",
    " \n",
    "        # 统一转换为 tensor\n",
    "        self.X = torch.tensor(np.array(all_X),  dtype=torch.float32) \n",
    "        self.y = torch.tensor(np.array(all_y),  dtype=torch.float32).view(-1,  1)\n",
    "        save_Scalers(self.scalers, scaler_filepath)  # 保存所有股票的Scaler\n",
    "\n",
    "    def __len__(self):\n",
    "        return len(self.X)\n",
    " \n",
    "    def __getitem__(self, idx):\n",
    "        return self.X[idx], self.y[idx]\n",
    " \n",
    "    def get_scaler(self, code):\n",
    "        return self.scalers.get(code,  None)\n",
    "    def inverse_transform(self, code, scaled_values):\n",
    "        \"\"\"逆归一化\"\"\"\n",
    "        scaler = self.get_scaler(code)\n",
    "        if scaler:\n",
    "            dummy = np.zeros((len(scaled_values),  self.X.shape[2]))\n",
    "            dummy[:, 3] = scaled_values  # 将预测值放入close列\n",
    "            return scaler.inverse_transform(dummy)[:, 3]\n",
    "        else:\n",
    "            raise ValueError(f\"No scaler found for code: {code}\")\n",
    "\n",
    "    \n",
    "\n",
    "class MultiScaleAttentionLSTM(nn.Module):\n",
    "    def __init__(self, input_size, hidden_size = 64, num_layers_long = 3, num_layers_short = 2):\n",
    "        super().__init__()\n",
    "        \n",
    "        self.lstm_long  = nn.LSTM(input_size, hidden_size, num_layers=num_layers_long, batch_first=True, dropout=0.2 if num_layers_long > 1 else 0)\n",
    "        self.lstm_short  = nn.LSTM(input_size, hidden_size, num_layers=num_layers_short, batch_first=True, dropout=0.2 if num_layers_short > 1 else 0)\n",
    "        self.attn  = nn.MultiheadAttention(hidden_size, num_heads=4, batch_first=True, )  # 4头注意力 \n",
    "        \n",
    "        self.regressor  = nn.Sequential(\n",
    "            nn.Linear(hidden_size, 32),\n",
    "            nn.Linear(32, 1)\n",
    "        )\n",
    " \n",
    "    def forward(self, x1, seq_length_short=7):\n",
    "        out1, _ = self.lstm_long(x1) \n",
    "        out2, _ = self.lstm_short(x1[:, -seq_length_short:, :]) # lstm_out: [batch, seq_len, hidden]\n",
    "        lstm_out = torch.cat((out1,  out2), dim=1)\n",
    "        attn_out, _ = self.attn(lstm_out,  lstm_out, lstm_out, need_weights=False) \n",
    "        out = self.regressor(attn_out[:, -1, :]) \n",
    "        return out"
   ]
  },
  {
   "cell_type": "code",
   "execution_count": null,
   "id": "63a9e7ee",
   "metadata": {},
   "outputs": [
    {
     "name": "stderr",
     "output_type": "stream",
     "text": [
      "e:\\Python\\Python312\\Lib\\site-packages\\sklearn\\utils\\validation.py:2742: UserWarning: X has feature names, but MinMaxScaler was fitted without feature names\n",
      "  warnings.warn(\n",
      "e:\\Python\\Python312\\Lib\\site-packages\\sklearn\\utils\\validation.py:2742: UserWarning: X has feature names, but MinMaxScaler was fitted without feature names\n",
      "  warnings.warn(\n",
      "e:\\Python\\Python312\\Lib\\site-packages\\sklearn\\utils\\validation.py:2742: UserWarning: X has feature names, but MinMaxScaler was fitted without feature names\n",
      "  warnings.warn(\n",
      "e:\\Python\\Python312\\Lib\\site-packages\\sklearn\\utils\\validation.py:2742: UserWarning: X has feature names, but MinMaxScaler was fitted without feature names\n",
      "  warnings.warn(\n",
      "e:\\Python\\Python312\\Lib\\site-packages\\sklearn\\utils\\validation.py:2742: UserWarning: X has feature names, but MinMaxScaler was fitted without feature names\n",
      "  warnings.warn(\n",
      "e:\\Python\\Python312\\Lib\\site-packages\\sklearn\\utils\\validation.py:2742: UserWarning: X has feature names, but MinMaxScaler was fitted without feature names\n",
      "  warnings.warn(\n",
      "e:\\Python\\Python312\\Lib\\site-packages\\sklearn\\utils\\validation.py:2742: UserWarning: X has feature names, but MinMaxScaler was fitted without feature names\n",
      "  warnings.warn(\n",
      "e:\\Python\\Python312\\Lib\\site-packages\\sklearn\\utils\\validation.py:2742: UserWarning: X has feature names, but MinMaxScaler was fitted without feature names\n",
      "  warnings.warn(\n",
      "e:\\Python\\Python312\\Lib\\site-packages\\sklearn\\utils\\validation.py:2742: UserWarning: X has feature names, but MinMaxScaler was fitted without feature names\n",
      "  warnings.warn(\n",
      "e:\\Python\\Python312\\Lib\\site-packages\\sklearn\\utils\\validation.py:2742: UserWarning: X has feature names, but MinMaxScaler was fitted without feature names\n",
      "  warnings.warn(\n",
      "e:\\Python\\Python312\\Lib\\site-packages\\sklearn\\utils\\validation.py:2742: UserWarning: X has feature names, but MinMaxScaler was fitted without feature names\n",
      "  warnings.warn(\n",
      "e:\\Python\\Python312\\Lib\\site-packages\\sklearn\\utils\\validation.py:2742: UserWarning: X has feature names, but MinMaxScaler was fitted without feature names\n",
      "  warnings.warn(\n",
      "e:\\Python\\Python312\\Lib\\site-packages\\sklearn\\utils\\validation.py:2742: UserWarning: X has feature names, but MinMaxScaler was fitted without feature names\n",
      "  warnings.warn(\n",
      "e:\\Python\\Python312\\Lib\\site-packages\\sklearn\\utils\\validation.py:2742: UserWarning: X has feature names, but MinMaxScaler was fitted without feature names\n",
      "  warnings.warn(\n",
      "e:\\Python\\Python312\\Lib\\site-packages\\sklearn\\utils\\validation.py:2742: UserWarning: X has feature names, but MinMaxScaler was fitted without feature names\n",
      "  warnings.warn(\n",
      "e:\\Python\\Python312\\Lib\\site-packages\\sklearn\\utils\\validation.py:2742: UserWarning: X has feature names, but MinMaxScaler was fitted without feature names\n",
      "  warnings.warn(\n",
      "e:\\Python\\Python312\\Lib\\site-packages\\sklearn\\utils\\validation.py:2742: UserWarning: X has feature names, but MinMaxScaler was fitted without feature names\n",
      "  warnings.warn(\n",
      "e:\\Python\\Python312\\Lib\\site-packages\\sklearn\\utils\\validation.py:2742: UserWarning: X has feature names, but MinMaxScaler was fitted without feature names\n",
      "  warnings.warn(\n",
      "e:\\Python\\Python312\\Lib\\site-packages\\sklearn\\utils\\validation.py:2742: UserWarning: X has feature names, but MinMaxScaler was fitted without feature names\n",
      "  warnings.warn(\n",
      "e:\\Python\\Python312\\Lib\\site-packages\\sklearn\\utils\\validation.py:2742: UserWarning: X has feature names, but MinMaxScaler was fitted without feature names\n",
      "  warnings.warn(\n",
      "e:\\Python\\Python312\\Lib\\site-packages\\sklearn\\utils\\validation.py:2742: UserWarning: X has feature names, but MinMaxScaler was fitted without feature names\n",
      "  warnings.warn(\n",
      "e:\\Python\\Python312\\Lib\\site-packages\\sklearn\\utils\\validation.py:2742: UserWarning: X has feature names, but MinMaxScaler was fitted without feature names\n",
      "  warnings.warn(\n",
      "e:\\Python\\Python312\\Lib\\site-packages\\sklearn\\utils\\validation.py:2742: UserWarning: X has feature names, but MinMaxScaler was fitted without feature names\n",
      "  warnings.warn(\n",
      "e:\\Python\\Python312\\Lib\\site-packages\\sklearn\\utils\\validation.py:2742: UserWarning: X has feature names, but MinMaxScaler was fitted without feature names\n",
      "  warnings.warn(\n",
      "e:\\Python\\Python312\\Lib\\site-packages\\sklearn\\utils\\validation.py:2742: UserWarning: X has feature names, but MinMaxScaler was fitted without feature names\n",
      "  warnings.warn(\n",
      "e:\\Python\\Python312\\Lib\\site-packages\\sklearn\\utils\\validation.py:2742: UserWarning: X has feature names, but MinMaxScaler was fitted without feature names\n",
      "  warnings.warn(\n",
      "e:\\Python\\Python312\\Lib\\site-packages\\sklearn\\utils\\validation.py:2742: UserWarning: X has feature names, but MinMaxScaler was fitted without feature names\n",
      "  warnings.warn(\n",
      "e:\\Python\\Python312\\Lib\\site-packages\\sklearn\\utils\\validation.py:2742: UserWarning: X has feature names, but MinMaxScaler was fitted without feature names\n",
      "  warnings.warn(\n",
      "e:\\Python\\Python312\\Lib\\site-packages\\sklearn\\utils\\validation.py:2742: UserWarning: X has feature names, but MinMaxScaler was fitted without feature names\n",
      "  warnings.warn(\n",
      "e:\\Python\\Python312\\Lib\\site-packages\\sklearn\\utils\\validation.py:2742: UserWarning: X has feature names, but MinMaxScaler was fitted without feature names\n",
      "  warnings.warn(\n",
      "e:\\Python\\Python312\\Lib\\site-packages\\sklearn\\utils\\validation.py:2742: UserWarning: X has feature names, but MinMaxScaler was fitted without feature names\n",
      "  warnings.warn(\n",
      "e:\\Python\\Python312\\Lib\\site-packages\\sklearn\\utils\\validation.py:2742: UserWarning: X has feature names, but MinMaxScaler was fitted without feature names\n",
      "  warnings.warn(\n",
      "e:\\Python\\Python312\\Lib\\site-packages\\sklearn\\utils\\validation.py:2742: UserWarning: X has feature names, but MinMaxScaler was fitted without feature names\n",
      "  warnings.warn(\n",
      "e:\\Python\\Python312\\Lib\\site-packages\\sklearn\\utils\\validation.py:2742: UserWarning: X has feature names, but MinMaxScaler was fitted without feature names\n",
      "  warnings.warn(\n",
      "e:\\Python\\Python312\\Lib\\site-packages\\sklearn\\utils\\validation.py:2742: UserWarning: X has feature names, but MinMaxScaler was fitted without feature names\n",
      "  warnings.warn(\n",
      "e:\\Python\\Python312\\Lib\\site-packages\\sklearn\\utils\\validation.py:2742: UserWarning: X has feature names, but MinMaxScaler was fitted without feature names\n",
      "  warnings.warn(\n",
      "e:\\Python\\Python312\\Lib\\site-packages\\sklearn\\utils\\validation.py:2742: UserWarning: X has feature names, but MinMaxScaler was fitted without feature names\n",
      "  warnings.warn(\n",
      "e:\\Python\\Python312\\Lib\\site-packages\\sklearn\\utils\\validation.py:2742: UserWarning: X has feature names, but MinMaxScaler was fitted without feature names\n",
      "  warnings.warn(\n",
      "e:\\Python\\Python312\\Lib\\site-packages\\sklearn\\utils\\validation.py:2742: UserWarning: X has feature names, but MinMaxScaler was fitted without feature names\n",
      "  warnings.warn(\n",
      "e:\\Python\\Python312\\Lib\\site-packages\\sklearn\\utils\\validation.py:2742: UserWarning: X has feature names, but MinMaxScaler was fitted without feature names\n",
      "  warnings.warn(\n",
      "e:\\Python\\Python312\\Lib\\site-packages\\sklearn\\utils\\validation.py:2742: UserWarning: X has feature names, but MinMaxScaler was fitted without feature names\n",
      "  warnings.warn(\n",
      "e:\\Python\\Python312\\Lib\\site-packages\\sklearn\\utils\\validation.py:2742: UserWarning: X has feature names, but MinMaxScaler was fitted without feature names\n",
      "  warnings.warn(\n",
      "e:\\Python\\Python312\\Lib\\site-packages\\sklearn\\utils\\validation.py:2742: UserWarning: X has feature names, but MinMaxScaler was fitted without feature names\n",
      "  warnings.warn(\n",
      "e:\\Python\\Python312\\Lib\\site-packages\\sklearn\\utils\\validation.py:2742: UserWarning: X has feature names, but MinMaxScaler was fitted without feature names\n",
      "  warnings.warn(\n",
      "e:\\Python\\Python312\\Lib\\site-packages\\sklearn\\utils\\validation.py:2742: UserWarning: X has feature names, but MinMaxScaler was fitted without feature names\n",
      "  warnings.warn(\n",
      "e:\\Python\\Python312\\Lib\\site-packages\\sklearn\\utils\\validation.py:2742: UserWarning: X has feature names, but MinMaxScaler was fitted without feature names\n",
      "  warnings.warn(\n",
      "e:\\Python\\Python312\\Lib\\site-packages\\sklearn\\utils\\validation.py:2742: UserWarning: X has feature names, but MinMaxScaler was fitted without feature names\n",
      "  warnings.warn(\n",
      "e:\\Python\\Python312\\Lib\\site-packages\\sklearn\\utils\\validation.py:2742: UserWarning: X has feature names, but MinMaxScaler was fitted without feature names\n",
      "  warnings.warn(\n",
      "e:\\Python\\Python312\\Lib\\site-packages\\sklearn\\utils\\validation.py:2742: UserWarning: X has feature names, but MinMaxScaler was fitted without feature names\n",
      "  warnings.warn(\n",
      "e:\\Python\\Python312\\Lib\\site-packages\\sklearn\\utils\\validation.py:2742: UserWarning: X has feature names, but MinMaxScaler was fitted without feature names\n",
      "  warnings.warn(\n",
      "e:\\Python\\Python312\\Lib\\site-packages\\sklearn\\utils\\validation.py:2742: UserWarning: X has feature names, but MinMaxScaler was fitted without feature names\n",
      "  warnings.warn(\n",
      "e:\\Python\\Python312\\Lib\\site-packages\\sklearn\\utils\\validation.py:2742: UserWarning: X has feature names, but MinMaxScaler was fitted without feature names\n",
      "  warnings.warn(\n",
      "e:\\Python\\Python312\\Lib\\site-packages\\sklearn\\utils\\validation.py:2742: UserWarning: X has feature names, but MinMaxScaler was fitted without feature names\n",
      "  warnings.warn(\n",
      "e:\\Python\\Python312\\Lib\\site-packages\\sklearn\\utils\\validation.py:2742: UserWarning: X has feature names, but MinMaxScaler was fitted without feature names\n",
      "  warnings.warn(\n",
      "e:\\Python\\Python312\\Lib\\site-packages\\sklearn\\utils\\validation.py:2742: UserWarning: X has feature names, but MinMaxScaler was fitted without feature names\n",
      "  warnings.warn(\n",
      "e:\\Python\\Python312\\Lib\\site-packages\\sklearn\\utils\\validation.py:2742: UserWarning: X has feature names, but MinMaxScaler was fitted without feature names\n",
      "  warnings.warn(\n",
      "e:\\Python\\Python312\\Lib\\site-packages\\sklearn\\utils\\validation.py:2742: UserWarning: X has feature names, but MinMaxScaler was fitted without feature names\n",
      "  warnings.warn(\n",
      "e:\\Python\\Python312\\Lib\\site-packages\\sklearn\\utils\\validation.py:2742: UserWarning: X has feature names, but MinMaxScaler was fitted without feature names\n",
      "  warnings.warn(\n",
      "e:\\Python\\Python312\\Lib\\site-packages\\sklearn\\utils\\validation.py:2742: UserWarning: X has feature names, but MinMaxScaler was fitted without feature names\n",
      "  warnings.warn(\n",
      "e:\\Python\\Python312\\Lib\\site-packages\\sklearn\\utils\\validation.py:2742: UserWarning: X has feature names, but MinMaxScaler was fitted without feature names\n",
      "  warnings.warn(\n",
      "e:\\Python\\Python312\\Lib\\site-packages\\sklearn\\utils\\validation.py:2742: UserWarning: X has feature names, but MinMaxScaler was fitted without feature names\n",
      "  warnings.warn(\n",
      "e:\\Python\\Python312\\Lib\\site-packages\\sklearn\\utils\\validation.py:2742: UserWarning: X has feature names, but MinMaxScaler was fitted without feature names\n",
      "  warnings.warn(\n",
      "e:\\Python\\Python312\\Lib\\site-packages\\sklearn\\utils\\validation.py:2742: UserWarning: X has feature names, but MinMaxScaler was fitted without feature names\n",
      "  warnings.warn(\n",
      "e:\\Python\\Python312\\Lib\\site-packages\\sklearn\\utils\\validation.py:2742: UserWarning: X has feature names, but MinMaxScaler was fitted without feature names\n",
      "  warnings.warn(\n",
      "e:\\Python\\Python312\\Lib\\site-packages\\sklearn\\utils\\validation.py:2742: UserWarning: X has feature names, but MinMaxScaler was fitted without feature names\n",
      "  warnings.warn(\n",
      "e:\\Python\\Python312\\Lib\\site-packages\\sklearn\\utils\\validation.py:2742: UserWarning: X has feature names, but MinMaxScaler was fitted without feature names\n",
      "  warnings.warn(\n",
      "e:\\Python\\Python312\\Lib\\site-packages\\sklearn\\utils\\validation.py:2742: UserWarning: X has feature names, but MinMaxScaler was fitted without feature names\n",
      "  warnings.warn(\n",
      "e:\\Python\\Python312\\Lib\\site-packages\\sklearn\\utils\\validation.py:2742: UserWarning: X has feature names, but MinMaxScaler was fitted without feature names\n",
      "  warnings.warn(\n",
      "e:\\Python\\Python312\\Lib\\site-packages\\sklearn\\utils\\validation.py:2742: UserWarning: X has feature names, but MinMaxScaler was fitted without feature names\n",
      "  warnings.warn(\n",
      "e:\\Python\\Python312\\Lib\\site-packages\\sklearn\\utils\\validation.py:2742: UserWarning: X has feature names, but MinMaxScaler was fitted without feature names\n",
      "  warnings.warn(\n",
      "e:\\Python\\Python312\\Lib\\site-packages\\sklearn\\utils\\validation.py:2742: UserWarning: X has feature names, but MinMaxScaler was fitted without feature names\n",
      "  warnings.warn(\n",
      "e:\\Python\\Python312\\Lib\\site-packages\\sklearn\\utils\\validation.py:2742: UserWarning: X has feature names, but MinMaxScaler was fitted without feature names\n",
      "  warnings.warn(\n",
      "e:\\Python\\Python312\\Lib\\site-packages\\sklearn\\utils\\validation.py:2742: UserWarning: X has feature names, but MinMaxScaler was fitted without feature names\n",
      "  warnings.warn(\n",
      "e:\\Python\\Python312\\Lib\\site-packages\\sklearn\\utils\\validation.py:2742: UserWarning: X has feature names, but MinMaxScaler was fitted without feature names\n",
      "  warnings.warn(\n",
      "e:\\Python\\Python312\\Lib\\site-packages\\sklearn\\utils\\validation.py:2742: UserWarning: X has feature names, but MinMaxScaler was fitted without feature names\n",
      "  warnings.warn(\n",
      "e:\\Python\\Python312\\Lib\\site-packages\\sklearn\\utils\\validation.py:2742: UserWarning: X has feature names, but MinMaxScaler was fitted without feature names\n",
      "  warnings.warn(\n",
      "e:\\Python\\Python312\\Lib\\site-packages\\sklearn\\utils\\validation.py:2742: UserWarning: X has feature names, but MinMaxScaler was fitted without feature names\n",
      "  warnings.warn(\n",
      "e:\\Python\\Python312\\Lib\\site-packages\\sklearn\\utils\\validation.py:2742: UserWarning: X has feature names, but MinMaxScaler was fitted without feature names\n",
      "  warnings.warn(\n",
      "e:\\Python\\Python312\\Lib\\site-packages\\sklearn\\utils\\validation.py:2742: UserWarning: X has feature names, but MinMaxScaler was fitted without feature names\n",
      "  warnings.warn(\n",
      "e:\\Python\\Python312\\Lib\\site-packages\\sklearn\\utils\\validation.py:2742: UserWarning: X has feature names, but MinMaxScaler was fitted without feature names\n",
      "  warnings.warn(\n",
      "e:\\Python\\Python312\\Lib\\site-packages\\sklearn\\utils\\validation.py:2742: UserWarning: X has feature names, but MinMaxScaler was fitted without feature names\n",
      "  warnings.warn(\n",
      "e:\\Python\\Python312\\Lib\\site-packages\\sklearn\\utils\\validation.py:2742: UserWarning: X has feature names, but MinMaxScaler was fitted without feature names\n",
      "  warnings.warn(\n",
      "e:\\Python\\Python312\\Lib\\site-packages\\sklearn\\utils\\validation.py:2742: UserWarning: X has feature names, but MinMaxScaler was fitted without feature names\n",
      "  warnings.warn(\n",
      "e:\\Python\\Python312\\Lib\\site-packages\\sklearn\\utils\\validation.py:2742: UserWarning: X has feature names, but MinMaxScaler was fitted without feature names\n",
      "  warnings.warn(\n",
      "e:\\Python\\Python312\\Lib\\site-packages\\sklearn\\utils\\validation.py:2742: UserWarning: X has feature names, but MinMaxScaler was fitted without feature names\n",
      "  warnings.warn(\n",
      "e:\\Python\\Python312\\Lib\\site-packages\\sklearn\\utils\\validation.py:2742: UserWarning: X has feature names, but MinMaxScaler was fitted without feature names\n",
      "  warnings.warn(\n",
      "e:\\Python\\Python312\\Lib\\site-packages\\sklearn\\utils\\validation.py:2742: UserWarning: X has feature names, but MinMaxScaler was fitted without feature names\n",
      "  warnings.warn(\n",
      "e:\\Python\\Python312\\Lib\\site-packages\\sklearn\\utils\\validation.py:2742: UserWarning: X has feature names, but MinMaxScaler was fitted without feature names\n",
      "  warnings.warn(\n",
      "e:\\Python\\Python312\\Lib\\site-packages\\sklearn\\utils\\validation.py:2742: UserWarning: X has feature names, but MinMaxScaler was fitted without feature names\n",
      "  warnings.warn(\n",
      "e:\\Python\\Python312\\Lib\\site-packages\\sklearn\\utils\\validation.py:2742: UserWarning: X has feature names, but MinMaxScaler was fitted without feature names\n",
      "  warnings.warn(\n",
      "e:\\Python\\Python312\\Lib\\site-packages\\sklearn\\utils\\validation.py:2742: UserWarning: X has feature names, but MinMaxScaler was fitted without feature names\n",
      "  warnings.warn(\n",
      "e:\\Python\\Python312\\Lib\\site-packages\\sklearn\\utils\\validation.py:2742: UserWarning: X has feature names, but MinMaxScaler was fitted without feature names\n",
      "  warnings.warn(\n",
      "e:\\Python\\Python312\\Lib\\site-packages\\sklearn\\utils\\validation.py:2742: UserWarning: X has feature names, but MinMaxScaler was fitted without feature names\n",
      "  warnings.warn(\n",
      "e:\\Python\\Python312\\Lib\\site-packages\\sklearn\\utils\\validation.py:2742: UserWarning: X has feature names, but MinMaxScaler was fitted without feature names\n",
      "  warnings.warn(\n",
      "e:\\Python\\Python312\\Lib\\site-packages\\sklearn\\utils\\validation.py:2742: UserWarning: X has feature names, but MinMaxScaler was fitted without feature names\n",
      "  warnings.warn(\n",
      "e:\\Python\\Python312\\Lib\\site-packages\\sklearn\\utils\\validation.py:2742: UserWarning: X has feature names, but MinMaxScaler was fitted without feature names\n",
      "  warnings.warn(\n",
      "e:\\Python\\Python312\\Lib\\site-packages\\sklearn\\utils\\validation.py:2742: UserWarning: X has feature names, but MinMaxScaler was fitted without feature names\n",
      "  warnings.warn(\n",
      "e:\\Python\\Python312\\Lib\\site-packages\\sklearn\\utils\\validation.py:2742: UserWarning: X has feature names, but MinMaxScaler was fitted without feature names\n",
      "  warnings.warn(\n",
      "e:\\Python\\Python312\\Lib\\site-packages\\sklearn\\utils\\validation.py:2742: UserWarning: X has feature names, but MinMaxScaler was fitted without feature names\n",
      "  warnings.warn(\n",
      "e:\\Python\\Python312\\Lib\\site-packages\\sklearn\\utils\\validation.py:2742: UserWarning: X has feature names, but MinMaxScaler was fitted without feature names\n",
      "  warnings.warn(\n",
      "e:\\Python\\Python312\\Lib\\site-packages\\sklearn\\utils\\validation.py:2742: UserWarning: X has feature names, but MinMaxScaler was fitted without feature names\n",
      "  warnings.warn(\n",
      "e:\\Python\\Python312\\Lib\\site-packages\\sklearn\\utils\\validation.py:2742: UserWarning: X has feature names, but MinMaxScaler was fitted without feature names\n",
      "  warnings.warn(\n",
      "e:\\Python\\Python312\\Lib\\site-packages\\sklearn\\utils\\validation.py:2742: UserWarning: X has feature names, but MinMaxScaler was fitted without feature names\n",
      "  warnings.warn(\n",
      "e:\\Python\\Python312\\Lib\\site-packages\\sklearn\\utils\\validation.py:2742: UserWarning: X has feature names, but MinMaxScaler was fitted without feature names\n",
      "  warnings.warn(\n",
      "e:\\Python\\Python312\\Lib\\site-packages\\sklearn\\utils\\validation.py:2742: UserWarning: X has feature names, but MinMaxScaler was fitted without feature names\n",
      "  warnings.warn(\n",
      "e:\\Python\\Python312\\Lib\\site-packages\\sklearn\\utils\\validation.py:2742: UserWarning: X has feature names, but MinMaxScaler was fitted without feature names\n",
      "  warnings.warn(\n",
      "e:\\Python\\Python312\\Lib\\site-packages\\sklearn\\utils\\validation.py:2742: UserWarning: X has feature names, but MinMaxScaler was fitted without feature names\n",
      "  warnings.warn(\n",
      "e:\\Python\\Python312\\Lib\\site-packages\\sklearn\\utils\\validation.py:2742: UserWarning: X has feature names, but MinMaxScaler was fitted without feature names\n",
      "  warnings.warn(\n",
      "e:\\Python\\Python312\\Lib\\site-packages\\sklearn\\utils\\validation.py:2742: UserWarning: X has feature names, but MinMaxScaler was fitted without feature names\n",
      "  warnings.warn(\n",
      "e:\\Python\\Python312\\Lib\\site-packages\\sklearn\\utils\\validation.py:2742: UserWarning: X has feature names, but MinMaxScaler was fitted without feature names\n",
      "  warnings.warn(\n",
      "e:\\Python\\Python312\\Lib\\site-packages\\sklearn\\utils\\validation.py:2742: UserWarning: X has feature names, but MinMaxScaler was fitted without feature names\n",
      "  warnings.warn(\n",
      "e:\\Python\\Python312\\Lib\\site-packages\\sklearn\\utils\\validation.py:2742: UserWarning: X has feature names, but MinMaxScaler was fitted without feature names\n",
      "  warnings.warn(\n",
      "e:\\Python\\Python312\\Lib\\site-packages\\sklearn\\utils\\validation.py:2742: UserWarning: X has feature names, but MinMaxScaler was fitted without feature names\n",
      "  warnings.warn(\n",
      "e:\\Python\\Python312\\Lib\\site-packages\\sklearn\\utils\\validation.py:2742: UserWarning: X has feature names, but MinMaxScaler was fitted without feature names\n",
      "  warnings.warn(\n",
      "e:\\Python\\Python312\\Lib\\site-packages\\sklearn\\utils\\validation.py:2742: UserWarning: X has feature names, but MinMaxScaler was fitted without feature names\n",
      "  warnings.warn(\n",
      "e:\\Python\\Python312\\Lib\\site-packages\\sklearn\\utils\\validation.py:2742: UserWarning: X has feature names, but MinMaxScaler was fitted without feature names\n",
      "  warnings.warn(\n",
      "e:\\Python\\Python312\\Lib\\site-packages\\sklearn\\utils\\validation.py:2742: UserWarning: X has feature names, but MinMaxScaler was fitted without feature names\n",
      "  warnings.warn(\n",
      "e:\\Python\\Python312\\Lib\\site-packages\\sklearn\\utils\\validation.py:2742: UserWarning: X has feature names, but MinMaxScaler was fitted without feature names\n",
      "  warnings.warn(\n",
      "e:\\Python\\Python312\\Lib\\site-packages\\sklearn\\utils\\validation.py:2742: UserWarning: X has feature names, but MinMaxScaler was fitted without feature names\n",
      "  warnings.warn(\n",
      "e:\\Python\\Python312\\Lib\\site-packages\\sklearn\\utils\\validation.py:2742: UserWarning: X has feature names, but MinMaxScaler was fitted without feature names\n",
      "  warnings.warn(\n",
      "e:\\Python\\Python312\\Lib\\site-packages\\sklearn\\utils\\validation.py:2742: UserWarning: X has feature names, but MinMaxScaler was fitted without feature names\n",
      "  warnings.warn(\n",
      "e:\\Python\\Python312\\Lib\\site-packages\\sklearn\\utils\\validation.py:2742: UserWarning: X has feature names, but MinMaxScaler was fitted without feature names\n",
      "  warnings.warn(\n",
      "e:\\Python\\Python312\\Lib\\site-packages\\sklearn\\utils\\validation.py:2742: UserWarning: X has feature names, but MinMaxScaler was fitted without feature names\n",
      "  warnings.warn(\n",
      "e:\\Python\\Python312\\Lib\\site-packages\\sklearn\\utils\\validation.py:2742: UserWarning: X has feature names, but MinMaxScaler was fitted without feature names\n",
      "  warnings.warn(\n",
      "e:\\Python\\Python312\\Lib\\site-packages\\sklearn\\utils\\validation.py:2742: UserWarning: X has feature names, but MinMaxScaler was fitted without feature names\n",
      "  warnings.warn(\n",
      "e:\\Python\\Python312\\Lib\\site-packages\\sklearn\\utils\\validation.py:2742: UserWarning: X has feature names, but MinMaxScaler was fitted without feature names\n",
      "  warnings.warn(\n",
      "e:\\Python\\Python312\\Lib\\site-packages\\sklearn\\utils\\validation.py:2742: UserWarning: X has feature names, but MinMaxScaler was fitted without feature names\n",
      "  warnings.warn(\n",
      "e:\\Python\\Python312\\Lib\\site-packages\\sklearn\\utils\\validation.py:2742: UserWarning: X has feature names, but MinMaxScaler was fitted without feature names\n",
      "  warnings.warn(\n",
      "e:\\Python\\Python312\\Lib\\site-packages\\sklearn\\utils\\validation.py:2742: UserWarning: X has feature names, but MinMaxScaler was fitted without feature names\n",
      "  warnings.warn(\n",
      "e:\\Python\\Python312\\Lib\\site-packages\\sklearn\\utils\\validation.py:2742: UserWarning: X has feature names, but MinMaxScaler was fitted without feature names\n",
      "  warnings.warn(\n",
      "e:\\Python\\Python312\\Lib\\site-packages\\sklearn\\utils\\validation.py:2742: UserWarning: X has feature names, but MinMaxScaler was fitted without feature names\n",
      "  warnings.warn(\n",
      "e:\\Python\\Python312\\Lib\\site-packages\\sklearn\\utils\\validation.py:2742: UserWarning: X has feature names, but MinMaxScaler was fitted without feature names\n",
      "  warnings.warn(\n",
      "e:\\Python\\Python312\\Lib\\site-packages\\sklearn\\utils\\validation.py:2742: UserWarning: X has feature names, but MinMaxScaler was fitted without feature names\n",
      "  warnings.warn(\n",
      "e:\\Python\\Python312\\Lib\\site-packages\\sklearn\\utils\\validation.py:2742: UserWarning: X has feature names, but MinMaxScaler was fitted without feature names\n",
      "  warnings.warn(\n",
      "e:\\Python\\Python312\\Lib\\site-packages\\sklearn\\utils\\validation.py:2742: UserWarning: X has feature names, but MinMaxScaler was fitted without feature names\n",
      "  warnings.warn(\n",
      "e:\\Python\\Python312\\Lib\\site-packages\\sklearn\\utils\\validation.py:2742: UserWarning: X has feature names, but MinMaxScaler was fitted without feature names\n",
      "  warnings.warn(\n",
      "e:\\Python\\Python312\\Lib\\site-packages\\sklearn\\utils\\validation.py:2742: UserWarning: X has feature names, but MinMaxScaler was fitted without feature names\n",
      "  warnings.warn(\n",
      "e:\\Python\\Python312\\Lib\\site-packages\\sklearn\\utils\\validation.py:2742: UserWarning: X has feature names, but MinMaxScaler was fitted without feature names\n",
      "  warnings.warn(\n",
      "e:\\Python\\Python312\\Lib\\site-packages\\sklearn\\utils\\validation.py:2742: UserWarning: X has feature names, but MinMaxScaler was fitted without feature names\n",
      "  warnings.warn(\n",
      "e:\\Python\\Python312\\Lib\\site-packages\\sklearn\\utils\\validation.py:2742: UserWarning: X has feature names, but MinMaxScaler was fitted without feature names\n",
      "  warnings.warn(\n",
      "e:\\Python\\Python312\\Lib\\site-packages\\sklearn\\utils\\validation.py:2742: UserWarning: X has feature names, but MinMaxScaler was fitted without feature names\n",
      "  warnings.warn(\n",
      "e:\\Python\\Python312\\Lib\\site-packages\\sklearn\\utils\\validation.py:2742: UserWarning: X has feature names, but MinMaxScaler was fitted without feature names\n",
      "  warnings.warn(\n",
      "e:\\Python\\Python312\\Lib\\site-packages\\sklearn\\utils\\validation.py:2742: UserWarning: X has feature names, but MinMaxScaler was fitted without feature names\n",
      "  warnings.warn(\n",
      "e:\\Python\\Python312\\Lib\\site-packages\\sklearn\\utils\\validation.py:2742: UserWarning: X has feature names, but MinMaxScaler was fitted without feature names\n",
      "  warnings.warn(\n",
      "e:\\Python\\Python312\\Lib\\site-packages\\sklearn\\utils\\validation.py:2742: UserWarning: X has feature names, but MinMaxScaler was fitted without feature names\n",
      "  warnings.warn(\n",
      "e:\\Python\\Python312\\Lib\\site-packages\\sklearn\\utils\\validation.py:2742: UserWarning: X has feature names, but MinMaxScaler was fitted without feature names\n",
      "  warnings.warn(\n",
      "e:\\Python\\Python312\\Lib\\site-packages\\sklearn\\utils\\validation.py:2742: UserWarning: X has feature names, but MinMaxScaler was fitted without feature names\n",
      "  warnings.warn(\n",
      "e:\\Python\\Python312\\Lib\\site-packages\\sklearn\\utils\\validation.py:2742: UserWarning: X has feature names, but MinMaxScaler was fitted without feature names\n",
      "  warnings.warn(\n",
      "e:\\Python\\Python312\\Lib\\site-packages\\sklearn\\utils\\validation.py:2742: UserWarning: X has feature names, but MinMaxScaler was fitted without feature names\n",
      "  warnings.warn(\n",
      "e:\\Python\\Python312\\Lib\\site-packages\\sklearn\\utils\\validation.py:2742: UserWarning: X has feature names, but MinMaxScaler was fitted without feature names\n",
      "  warnings.warn(\n",
      "e:\\Python\\Python312\\Lib\\site-packages\\sklearn\\utils\\validation.py:2742: UserWarning: X has feature names, but MinMaxScaler was fitted without feature names\n",
      "  warnings.warn(\n",
      "e:\\Python\\Python312\\Lib\\site-packages\\sklearn\\utils\\validation.py:2742: UserWarning: X has feature names, but MinMaxScaler was fitted without feature names\n",
      "  warnings.warn(\n",
      "e:\\Python\\Python312\\Lib\\site-packages\\sklearn\\utils\\validation.py:2742: UserWarning: X has feature names, but MinMaxScaler was fitted without feature names\n",
      "  warnings.warn(\n",
      "e:\\Python\\Python312\\Lib\\site-packages\\sklearn\\utils\\validation.py:2742: UserWarning: X has feature names, but MinMaxScaler was fitted without feature names\n",
      "  warnings.warn(\n",
      "e:\\Python\\Python312\\Lib\\site-packages\\sklearn\\utils\\validation.py:2742: UserWarning: X has feature names, but MinMaxScaler was fitted without feature names\n",
      "  warnings.warn(\n",
      "e:\\Python\\Python312\\Lib\\site-packages\\sklearn\\utils\\validation.py:2742: UserWarning: X has feature names, but MinMaxScaler was fitted without feature names\n",
      "  warnings.warn(\n",
      "e:\\Python\\Python312\\Lib\\site-packages\\sklearn\\utils\\validation.py:2742: UserWarning: X has feature names, but MinMaxScaler was fitted without feature names\n",
      "  warnings.warn(\n",
      "e:\\Python\\Python312\\Lib\\site-packages\\sklearn\\utils\\validation.py:2742: UserWarning: X has feature names, but MinMaxScaler was fitted without feature names\n",
      "  warnings.warn(\n",
      "e:\\Python\\Python312\\Lib\\site-packages\\sklearn\\utils\\validation.py:2742: UserWarning: X has feature names, but MinMaxScaler was fitted without feature names\n",
      "  warnings.warn(\n",
      "e:\\Python\\Python312\\Lib\\site-packages\\sklearn\\utils\\validation.py:2742: UserWarning: X has feature names, but MinMaxScaler was fitted without feature names\n",
      "  warnings.warn(\n",
      "e:\\Python\\Python312\\Lib\\site-packages\\sklearn\\utils\\validation.py:2742: UserWarning: X has feature names, but MinMaxScaler was fitted without feature names\n",
      "  warnings.warn(\n",
      "e:\\Python\\Python312\\Lib\\site-packages\\sklearn\\utils\\validation.py:2742: UserWarning: X has feature names, but MinMaxScaler was fitted without feature names\n",
      "  warnings.warn(\n",
      "e:\\Python\\Python312\\Lib\\site-packages\\sklearn\\utils\\validation.py:2742: UserWarning: X has feature names, but MinMaxScaler was fitted without feature names\n",
      "  warnings.warn(\n",
      "e:\\Python\\Python312\\Lib\\site-packages\\sklearn\\utils\\validation.py:2742: UserWarning: X has feature names, but MinMaxScaler was fitted without feature names\n",
      "  warnings.warn(\n",
      "e:\\Python\\Python312\\Lib\\site-packages\\sklearn\\utils\\validation.py:2742: UserWarning: X has feature names, but MinMaxScaler was fitted without feature names\n",
      "  warnings.warn(\n",
      "e:\\Python\\Python312\\Lib\\site-packages\\sklearn\\utils\\validation.py:2742: UserWarning: X has feature names, but MinMaxScaler was fitted without feature names\n",
      "  warnings.warn(\n",
      "e:\\Python\\Python312\\Lib\\site-packages\\sklearn\\utils\\validation.py:2742: UserWarning: X has feature names, but MinMaxScaler was fitted without feature names\n",
      "  warnings.warn(\n",
      "e:\\Python\\Python312\\Lib\\site-packages\\sklearn\\utils\\validation.py:2742: UserWarning: X has feature names, but MinMaxScaler was fitted without feature names\n",
      "  warnings.warn(\n",
      "e:\\Python\\Python312\\Lib\\site-packages\\sklearn\\utils\\validation.py:2742: UserWarning: X has feature names, but MinMaxScaler was fitted without feature names\n",
      "  warnings.warn(\n",
      "e:\\Python\\Python312\\Lib\\site-packages\\sklearn\\utils\\validation.py:2742: UserWarning: X has feature names, but MinMaxScaler was fitted without feature names\n",
      "  warnings.warn(\n",
      "e:\\Python\\Python312\\Lib\\site-packages\\sklearn\\utils\\validation.py:2742: UserWarning: X has feature names, but MinMaxScaler was fitted without feature names\n",
      "  warnings.warn(\n",
      "e:\\Python\\Python312\\Lib\\site-packages\\sklearn\\utils\\validation.py:2742: UserWarning: X has feature names, but MinMaxScaler was fitted without feature names\n",
      "  warnings.warn(\n",
      "e:\\Python\\Python312\\Lib\\site-packages\\sklearn\\utils\\validation.py:2742: UserWarning: X has feature names, but MinMaxScaler was fitted without feature names\n",
      "  warnings.warn(\n",
      "e:\\Python\\Python312\\Lib\\site-packages\\sklearn\\utils\\validation.py:2742: UserWarning: X has feature names, but MinMaxScaler was fitted without feature names\n",
      "  warnings.warn(\n",
      "e:\\Python\\Python312\\Lib\\site-packages\\sklearn\\utils\\validation.py:2742: UserWarning: X has feature names, but MinMaxScaler was fitted without feature names\n",
      "  warnings.warn(\n",
      "e:\\Python\\Python312\\Lib\\site-packages\\sklearn\\utils\\validation.py:2742: UserWarning: X has feature names, but MinMaxScaler was fitted without feature names\n",
      "  warnings.warn(\n",
      "e:\\Python\\Python312\\Lib\\site-packages\\sklearn\\utils\\validation.py:2742: UserWarning: X has feature names, but MinMaxScaler was fitted without feature names\n",
      "  warnings.warn(\n",
      "e:\\Python\\Python312\\Lib\\site-packages\\sklearn\\utils\\validation.py:2742: UserWarning: X has feature names, but MinMaxScaler was fitted without feature names\n",
      "  warnings.warn(\n",
      "e:\\Python\\Python312\\Lib\\site-packages\\sklearn\\utils\\validation.py:2742: UserWarning: X has feature names, but MinMaxScaler was fitted without feature names\n",
      "  warnings.warn(\n",
      "e:\\Python\\Python312\\Lib\\site-packages\\sklearn\\utils\\validation.py:2742: UserWarning: X has feature names, but MinMaxScaler was fitted without feature names\n",
      "  warnings.warn(\n",
      "e:\\Python\\Python312\\Lib\\site-packages\\sklearn\\utils\\validation.py:2742: UserWarning: X has feature names, but MinMaxScaler was fitted without feature names\n",
      "  warnings.warn(\n",
      "e:\\Python\\Python312\\Lib\\site-packages\\sklearn\\utils\\validation.py:2742: UserWarning: X has feature names, but MinMaxScaler was fitted without feature names\n",
      "  warnings.warn(\n",
      "e:\\Python\\Python312\\Lib\\site-packages\\sklearn\\utils\\validation.py:2742: UserWarning: X has feature names, but MinMaxScaler was fitted without feature names\n",
      "  warnings.warn(\n",
      "e:\\Python\\Python312\\Lib\\site-packages\\sklearn\\utils\\validation.py:2742: UserWarning: X has feature names, but MinMaxScaler was fitted without feature names\n",
      "  warnings.warn(\n",
      "e:\\Python\\Python312\\Lib\\site-packages\\sklearn\\utils\\validation.py:2742: UserWarning: X has feature names, but MinMaxScaler was fitted without feature names\n",
      "  warnings.warn(\n",
      "e:\\Python\\Python312\\Lib\\site-packages\\sklearn\\utils\\validation.py:2742: UserWarning: X has feature names, but MinMaxScaler was fitted without feature names\n",
      "  warnings.warn(\n",
      "e:\\Python\\Python312\\Lib\\site-packages\\sklearn\\utils\\validation.py:2742: UserWarning: X has feature names, but MinMaxScaler was fitted without feature names\n",
      "  warnings.warn(\n",
      "e:\\Python\\Python312\\Lib\\site-packages\\sklearn\\utils\\validation.py:2742: UserWarning: X has feature names, but MinMaxScaler was fitted without feature names\n",
      "  warnings.warn(\n",
      "e:\\Python\\Python312\\Lib\\site-packages\\sklearn\\utils\\validation.py:2742: UserWarning: X has feature names, but MinMaxScaler was fitted without feature names\n",
      "  warnings.warn(\n",
      "e:\\Python\\Python312\\Lib\\site-packages\\sklearn\\utils\\validation.py:2742: UserWarning: X has feature names, but MinMaxScaler was fitted without feature names\n",
      "  warnings.warn(\n",
      "e:\\Python\\Python312\\Lib\\site-packages\\sklearn\\utils\\validation.py:2742: UserWarning: X has feature names, but MinMaxScaler was fitted without feature names\n",
      "  warnings.warn(\n",
      "e:\\Python\\Python312\\Lib\\site-packages\\sklearn\\utils\\validation.py:2742: UserWarning: X has feature names, but MinMaxScaler was fitted without feature names\n",
      "  warnings.warn(\n",
      "e:\\Python\\Python312\\Lib\\site-packages\\sklearn\\utils\\validation.py:2742: UserWarning: X has feature names, but MinMaxScaler was fitted without feature names\n",
      "  warnings.warn(\n",
      "e:\\Python\\Python312\\Lib\\site-packages\\sklearn\\utils\\validation.py:2742: UserWarning: X has feature names, but MinMaxScaler was fitted without feature names\n",
      "  warnings.warn(\n",
      "e:\\Python\\Python312\\Lib\\site-packages\\sklearn\\utils\\validation.py:2742: UserWarning: X has feature names, but MinMaxScaler was fitted without feature names\n",
      "  warnings.warn(\n",
      "e:\\Python\\Python312\\Lib\\site-packages\\sklearn\\utils\\validation.py:2742: UserWarning: X has feature names, but MinMaxScaler was fitted without feature names\n",
      "  warnings.warn(\n",
      "e:\\Python\\Python312\\Lib\\site-packages\\sklearn\\utils\\validation.py:2742: UserWarning: X has feature names, but MinMaxScaler was fitted without feature names\n",
      "  warnings.warn(\n",
      "e:\\Python\\Python312\\Lib\\site-packages\\sklearn\\utils\\validation.py:2742: UserWarning: X has feature names, but MinMaxScaler was fitted without feature names\n",
      "  warnings.warn(\n",
      "e:\\Python\\Python312\\Lib\\site-packages\\sklearn\\utils\\validation.py:2742: UserWarning: X has feature names, but MinMaxScaler was fitted without feature names\n",
      "  warnings.warn(\n",
      "e:\\Python\\Python312\\Lib\\site-packages\\sklearn\\utils\\validation.py:2742: UserWarning: X has feature names, but MinMaxScaler was fitted without feature names\n",
      "  warnings.warn(\n",
      "e:\\Python\\Python312\\Lib\\site-packages\\sklearn\\utils\\validation.py:2742: UserWarning: X has feature names, but MinMaxScaler was fitted without feature names\n",
      "  warnings.warn(\n",
      "e:\\Python\\Python312\\Lib\\site-packages\\sklearn\\utils\\validation.py:2742: UserWarning: X has feature names, but MinMaxScaler was fitted without feature names\n",
      "  warnings.warn(\n",
      "e:\\Python\\Python312\\Lib\\site-packages\\sklearn\\utils\\validation.py:2742: UserWarning: X has feature names, but MinMaxScaler was fitted without feature names\n",
      "  warnings.warn(\n",
      "e:\\Python\\Python312\\Lib\\site-packages\\sklearn\\utils\\validation.py:2742: UserWarning: X has feature names, but MinMaxScaler was fitted without feature names\n",
      "  warnings.warn(\n",
      "e:\\Python\\Python312\\Lib\\site-packages\\sklearn\\utils\\validation.py:2742: UserWarning: X has feature names, but MinMaxScaler was fitted without feature names\n",
      "  warnings.warn(\n",
      "e:\\Python\\Python312\\Lib\\site-packages\\sklearn\\utils\\validation.py:2742: UserWarning: X has feature names, but MinMaxScaler was fitted without feature names\n",
      "  warnings.warn(\n",
      "e:\\Python\\Python312\\Lib\\site-packages\\sklearn\\utils\\validation.py:2742: UserWarning: X has feature names, but MinMaxScaler was fitted without feature names\n",
      "  warnings.warn(\n",
      "e:\\Python\\Python312\\Lib\\site-packages\\sklearn\\utils\\validation.py:2742: UserWarning: X has feature names, but MinMaxScaler was fitted without feature names\n",
      "  warnings.warn(\n",
      "e:\\Python\\Python312\\Lib\\site-packages\\sklearn\\utils\\validation.py:2742: UserWarning: X has feature names, but MinMaxScaler was fitted without feature names\n",
      "  warnings.warn(\n",
      "e:\\Python\\Python312\\Lib\\site-packages\\sklearn\\utils\\validation.py:2742: UserWarning: X has feature names, but MinMaxScaler was fitted without feature names\n",
      "  warnings.warn(\n",
      "e:\\Python\\Python312\\Lib\\site-packages\\sklearn\\utils\\validation.py:2742: UserWarning: X has feature names, but MinMaxScaler was fitted without feature names\n",
      "  warnings.warn(\n",
      "e:\\Python\\Python312\\Lib\\site-packages\\sklearn\\utils\\validation.py:2742: UserWarning: X has feature names, but MinMaxScaler was fitted without feature names\n",
      "  warnings.warn(\n",
      "e:\\Python\\Python312\\Lib\\site-packages\\sklearn\\utils\\validation.py:2742: UserWarning: X has feature names, but MinMaxScaler was fitted without feature names\n",
      "  warnings.warn(\n",
      "e:\\Python\\Python312\\Lib\\site-packages\\sklearn\\utils\\validation.py:2742: UserWarning: X has feature names, but MinMaxScaler was fitted without feature names\n",
      "  warnings.warn(\n",
      "e:\\Python\\Python312\\Lib\\site-packages\\sklearn\\utils\\validation.py:2742: UserWarning: X has feature names, but MinMaxScaler was fitted without feature names\n",
      "  warnings.warn(\n",
      "e:\\Python\\Python312\\Lib\\site-packages\\sklearn\\utils\\validation.py:2742: UserWarning: X has feature names, but MinMaxScaler was fitted without feature names\n",
      "  warnings.warn(\n",
      "e:\\Python\\Python312\\Lib\\site-packages\\sklearn\\utils\\validation.py:2742: UserWarning: X has feature names, but MinMaxScaler was fitted without feature names\n",
      "  warnings.warn(\n",
      "e:\\Python\\Python312\\Lib\\site-packages\\sklearn\\utils\\validation.py:2742: UserWarning: X has feature names, but MinMaxScaler was fitted without feature names\n",
      "  warnings.warn(\n",
      "e:\\Python\\Python312\\Lib\\site-packages\\sklearn\\utils\\validation.py:2742: UserWarning: X has feature names, but MinMaxScaler was fitted without feature names\n",
      "  warnings.warn(\n",
      "e:\\Python\\Python312\\Lib\\site-packages\\sklearn\\utils\\validation.py:2742: UserWarning: X has feature names, but MinMaxScaler was fitted without feature names\n",
      "  warnings.warn(\n",
      "e:\\Python\\Python312\\Lib\\site-packages\\sklearn\\utils\\validation.py:2742: UserWarning: X has feature names, but MinMaxScaler was fitted without feature names\n",
      "  warnings.warn(\n",
      "e:\\Python\\Python312\\Lib\\site-packages\\sklearn\\utils\\validation.py:2742: UserWarning: X has feature names, but MinMaxScaler was fitted without feature names\n",
      "  warnings.warn(\n",
      "e:\\Python\\Python312\\Lib\\site-packages\\sklearn\\utils\\validation.py:2742: UserWarning: X has feature names, but MinMaxScaler was fitted without feature names\n",
      "  warnings.warn(\n",
      "e:\\Python\\Python312\\Lib\\site-packages\\sklearn\\utils\\validation.py:2742: UserWarning: X has feature names, but MinMaxScaler was fitted without feature names\n",
      "  warnings.warn(\n",
      "e:\\Python\\Python312\\Lib\\site-packages\\sklearn\\utils\\validation.py:2742: UserWarning: X has feature names, but MinMaxScaler was fitted without feature names\n",
      "  warnings.warn(\n",
      "e:\\Python\\Python312\\Lib\\site-packages\\sklearn\\utils\\validation.py:2742: UserWarning: X has feature names, but MinMaxScaler was fitted without feature names\n",
      "  warnings.warn(\n",
      "e:\\Python\\Python312\\Lib\\site-packages\\sklearn\\utils\\validation.py:2742: UserWarning: X has feature names, but MinMaxScaler was fitted without feature names\n",
      "  warnings.warn(\n",
      "e:\\Python\\Python312\\Lib\\site-packages\\sklearn\\utils\\validation.py:2742: UserWarning: X has feature names, but MinMaxScaler was fitted without feature names\n",
      "  warnings.warn(\n",
      "e:\\Python\\Python312\\Lib\\site-packages\\sklearn\\utils\\validation.py:2742: UserWarning: X has feature names, but MinMaxScaler was fitted without feature names\n",
      "  warnings.warn(\n",
      "e:\\Python\\Python312\\Lib\\site-packages\\sklearn\\utils\\validation.py:2742: UserWarning: X has feature names, but MinMaxScaler was fitted without feature names\n",
      "  warnings.warn(\n",
      "e:\\Python\\Python312\\Lib\\site-packages\\sklearn\\utils\\validation.py:2742: UserWarning: X has feature names, but MinMaxScaler was fitted without feature names\n",
      "  warnings.warn(\n",
      "e:\\Python\\Python312\\Lib\\site-packages\\sklearn\\utils\\validation.py:2742: UserWarning: X has feature names, but MinMaxScaler was fitted without feature names\n",
      "  warnings.warn(\n",
      "e:\\Python\\Python312\\Lib\\site-packages\\sklearn\\utils\\validation.py:2742: UserWarning: X has feature names, but MinMaxScaler was fitted without feature names\n",
      "  warnings.warn(\n",
      "e:\\Python\\Python312\\Lib\\site-packages\\sklearn\\utils\\validation.py:2742: UserWarning: X has feature names, but MinMaxScaler was fitted without feature names\n",
      "  warnings.warn(\n",
      "e:\\Python\\Python312\\Lib\\site-packages\\sklearn\\utils\\validation.py:2742: UserWarning: X has feature names, but MinMaxScaler was fitted without feature names\n",
      "  warnings.warn(\n",
      "e:\\Python\\Python312\\Lib\\site-packages\\sklearn\\utils\\validation.py:2742: UserWarning: X has feature names, but MinMaxScaler was fitted without feature names\n",
      "  warnings.warn(\n",
      "e:\\Python\\Python312\\Lib\\site-packages\\sklearn\\utils\\validation.py:2742: UserWarning: X has feature names, but MinMaxScaler was fitted without feature names\n",
      "  warnings.warn(\n",
      "e:\\Python\\Python312\\Lib\\site-packages\\sklearn\\utils\\validation.py:2742: UserWarning: X has feature names, but MinMaxScaler was fitted without feature names\n",
      "  warnings.warn(\n",
      "e:\\Python\\Python312\\Lib\\site-packages\\sklearn\\utils\\validation.py:2742: UserWarning: X has feature names, but MinMaxScaler was fitted without feature names\n",
      "  warnings.warn(\n",
      "e:\\Python\\Python312\\Lib\\site-packages\\sklearn\\utils\\validation.py:2742: UserWarning: X has feature names, but MinMaxScaler was fitted without feature names\n",
      "  warnings.warn(\n",
      "e:\\Python\\Python312\\Lib\\site-packages\\sklearn\\utils\\validation.py:2742: UserWarning: X has feature names, but MinMaxScaler was fitted without feature names\n",
      "  warnings.warn(\n",
      "e:\\Python\\Python312\\Lib\\site-packages\\sklearn\\utils\\validation.py:2742: UserWarning: X has feature names, but MinMaxScaler was fitted without feature names\n",
      "  warnings.warn(\n",
      "e:\\Python\\Python312\\Lib\\site-packages\\sklearn\\utils\\validation.py:2742: UserWarning: X has feature names, but MinMaxScaler was fitted without feature names\n",
      "  warnings.warn(\n",
      "e:\\Python\\Python312\\Lib\\site-packages\\sklearn\\utils\\validation.py:2742: UserWarning: X has feature names, but MinMaxScaler was fitted without feature names\n",
      "  warnings.warn(\n",
      "e:\\Python\\Python312\\Lib\\site-packages\\sklearn\\utils\\validation.py:2742: UserWarning: X has feature names, but MinMaxScaler was fitted without feature names\n",
      "  warnings.warn(\n",
      "e:\\Python\\Python312\\Lib\\site-packages\\sklearn\\utils\\validation.py:2742: UserWarning: X has feature names, but MinMaxScaler was fitted without feature names\n",
      "  warnings.warn(\n",
      "e:\\Python\\Python312\\Lib\\site-packages\\sklearn\\utils\\validation.py:2742: UserWarning: X has feature names, but MinMaxScaler was fitted without feature names\n",
      "  warnings.warn(\n",
      "e:\\Python\\Python312\\Lib\\site-packages\\sklearn\\utils\\validation.py:2742: UserWarning: X has feature names, but MinMaxScaler was fitted without feature names\n",
      "  warnings.warn(\n",
      "e:\\Python\\Python312\\Lib\\site-packages\\sklearn\\utils\\validation.py:2742: UserWarning: X has feature names, but MinMaxScaler was fitted without feature names\n",
      "  warnings.warn(\n",
      "e:\\Python\\Python312\\Lib\\site-packages\\sklearn\\utils\\validation.py:2742: UserWarning: X has feature names, but MinMaxScaler was fitted without feature names\n",
      "  warnings.warn(\n",
      "e:\\Python\\Python312\\Lib\\site-packages\\sklearn\\utils\\validation.py:2742: UserWarning: X has feature names, but MinMaxScaler was fitted without feature names\n",
      "  warnings.warn(\n",
      "e:\\Python\\Python312\\Lib\\site-packages\\sklearn\\utils\\validation.py:2742: UserWarning: X has feature names, but MinMaxScaler was fitted without feature names\n",
      "  warnings.warn(\n",
      "e:\\Python\\Python312\\Lib\\site-packages\\sklearn\\utils\\validation.py:2742: UserWarning: X has feature names, but MinMaxScaler was fitted without feature names\n",
      "  warnings.warn(\n",
      "e:\\Python\\Python312\\Lib\\site-packages\\sklearn\\utils\\validation.py:2742: UserWarning: X has feature names, but MinMaxScaler was fitted without feature names\n",
      "  warnings.warn(\n",
      "e:\\Python\\Python312\\Lib\\site-packages\\sklearn\\utils\\validation.py:2742: UserWarning: X has feature names, but MinMaxScaler was fitted without feature names\n",
      "  warnings.warn(\n",
      "e:\\Python\\Python312\\Lib\\site-packages\\sklearn\\utils\\validation.py:2742: UserWarning: X has feature names, but MinMaxScaler was fitted without feature names\n",
      "  warnings.warn(\n",
      "e:\\Python\\Python312\\Lib\\site-packages\\sklearn\\utils\\validation.py:2742: UserWarning: X has feature names, but MinMaxScaler was fitted without feature names\n",
      "  warnings.warn(\n",
      "e:\\Python\\Python312\\Lib\\site-packages\\sklearn\\utils\\validation.py:2742: UserWarning: X has feature names, but MinMaxScaler was fitted without feature names\n",
      "  warnings.warn(\n",
      "e:\\Python\\Python312\\Lib\\site-packages\\sklearn\\utils\\validation.py:2742: UserWarning: X has feature names, but MinMaxScaler was fitted without feature names\n",
      "  warnings.warn(\n",
      "e:\\Python\\Python312\\Lib\\site-packages\\sklearn\\utils\\validation.py:2742: UserWarning: X has feature names, but MinMaxScaler was fitted without feature names\n",
      "  warnings.warn(\n",
      "e:\\Python\\Python312\\Lib\\site-packages\\sklearn\\utils\\validation.py:2742: UserWarning: X has feature names, but MinMaxScaler was fitted without feature names\n",
      "  warnings.warn(\n",
      "e:\\Python\\Python312\\Lib\\site-packages\\sklearn\\utils\\validation.py:2742: UserWarning: X has feature names, but MinMaxScaler was fitted without feature names\n",
      "  warnings.warn(\n",
      "e:\\Python\\Python312\\Lib\\site-packages\\sklearn\\utils\\validation.py:2742: UserWarning: X has feature names, but MinMaxScaler was fitted without feature names\n",
      "  warnings.warn(\n",
      "e:\\Python\\Python312\\Lib\\site-packages\\sklearn\\utils\\validation.py:2742: UserWarning: X has feature names, but MinMaxScaler was fitted without feature names\n",
      "  warnings.warn(\n",
      "e:\\Python\\Python312\\Lib\\site-packages\\sklearn\\utils\\validation.py:2742: UserWarning: X has feature names, but MinMaxScaler was fitted without feature names\n",
      "  warnings.warn(\n",
      "e:\\Python\\Python312\\Lib\\site-packages\\sklearn\\utils\\validation.py:2742: UserWarning: X has feature names, but MinMaxScaler was fitted without feature names\n",
      "  warnings.warn(\n",
      "e:\\Python\\Python312\\Lib\\site-packages\\sklearn\\utils\\validation.py:2742: UserWarning: X has feature names, but MinMaxScaler was fitted without feature names\n",
      "  warnings.warn(\n",
      "e:\\Python\\Python312\\Lib\\site-packages\\sklearn\\utils\\validation.py:2742: UserWarning: X has feature names, but MinMaxScaler was fitted without feature names\n",
      "  warnings.warn(\n",
      "e:\\Python\\Python312\\Lib\\site-packages\\sklearn\\utils\\validation.py:2742: UserWarning: X has feature names, but MinMaxScaler was fitted without feature names\n",
      "  warnings.warn(\n",
      "e:\\Python\\Python312\\Lib\\site-packages\\sklearn\\utils\\validation.py:2742: UserWarning: X has feature names, but MinMaxScaler was fitted without feature names\n",
      "  warnings.warn(\n",
      "e:\\Python\\Python312\\Lib\\site-packages\\sklearn\\utils\\validation.py:2742: UserWarning: X has feature names, but MinMaxScaler was fitted without feature names\n",
      "  warnings.warn(\n",
      "e:\\Python\\Python312\\Lib\\site-packages\\sklearn\\utils\\validation.py:2742: UserWarning: X has feature names, but MinMaxScaler was fitted without feature names\n",
      "  warnings.warn(\n",
      "e:\\Python\\Python312\\Lib\\site-packages\\sklearn\\utils\\validation.py:2742: UserWarning: X has feature names, but MinMaxScaler was fitted without feature names\n",
      "  warnings.warn(\n",
      "e:\\Python\\Python312\\Lib\\site-packages\\sklearn\\utils\\validation.py:2742: UserWarning: X has feature names, but MinMaxScaler was fitted without feature names\n",
      "  warnings.warn(\n",
      "e:\\Python\\Python312\\Lib\\site-packages\\sklearn\\utils\\validation.py:2742: UserWarning: X has feature names, but MinMaxScaler was fitted without feature names\n",
      "  warnings.warn(\n",
      "e:\\Python\\Python312\\Lib\\site-packages\\sklearn\\utils\\validation.py:2742: UserWarning: X has feature names, but MinMaxScaler was fitted without feature names\n",
      "  warnings.warn(\n",
      "e:\\Python\\Python312\\Lib\\site-packages\\sklearn\\utils\\validation.py:2742: UserWarning: X has feature names, but MinMaxScaler was fitted without feature names\n",
      "  warnings.warn(\n",
      "e:\\Python\\Python312\\Lib\\site-packages\\sklearn\\utils\\validation.py:2742: UserWarning: X has feature names, but MinMaxScaler was fitted without feature names\n",
      "  warnings.warn(\n",
      "e:\\Python\\Python312\\Lib\\site-packages\\sklearn\\utils\\validation.py:2742: UserWarning: X has feature names, but MinMaxScaler was fitted without feature names\n",
      "  warnings.warn(\n",
      "e:\\Python\\Python312\\Lib\\site-packages\\sklearn\\utils\\validation.py:2742: UserWarning: X has feature names, but MinMaxScaler was fitted without feature names\n",
      "  warnings.warn(\n",
      "e:\\Python\\Python312\\Lib\\site-packages\\sklearn\\utils\\validation.py:2742: UserWarning: X has feature names, but MinMaxScaler was fitted without feature names\n",
      "  warnings.warn(\n",
      "e:\\Python\\Python312\\Lib\\site-packages\\sklearn\\utils\\validation.py:2742: UserWarning: X has feature names, but MinMaxScaler was fitted without feature names\n",
      "  warnings.warn(\n",
      "e:\\Python\\Python312\\Lib\\site-packages\\sklearn\\utils\\validation.py:2742: UserWarning: X has feature names, but MinMaxScaler was fitted without feature names\n",
      "  warnings.warn(\n",
      "e:\\Python\\Python312\\Lib\\site-packages\\sklearn\\utils\\validation.py:2742: UserWarning: X has feature names, but MinMaxScaler was fitted without feature names\n",
      "  warnings.warn(\n",
      "e:\\Python\\Python312\\Lib\\site-packages\\sklearn\\utils\\validation.py:2742: UserWarning: X has feature names, but MinMaxScaler was fitted without feature names\n",
      "  warnings.warn(\n",
      "e:\\Python\\Python312\\Lib\\site-packages\\sklearn\\utils\\validation.py:2742: UserWarning: X has feature names, but MinMaxScaler was fitted without feature names\n",
      "  warnings.warn(\n",
      "e:\\Python\\Python312\\Lib\\site-packages\\sklearn\\utils\\validation.py:2742: UserWarning: X has feature names, but MinMaxScaler was fitted without feature names\n",
      "  warnings.warn(\n",
      "e:\\Python\\Python312\\Lib\\site-packages\\sklearn\\utils\\validation.py:2742: UserWarning: X has feature names, but MinMaxScaler was fitted without feature names\n",
      "  warnings.warn(\n",
      "e:\\Python\\Python312\\Lib\\site-packages\\sklearn\\utils\\validation.py:2742: UserWarning: X has feature names, but MinMaxScaler was fitted without feature names\n",
      "  warnings.warn(\n",
      "e:\\Python\\Python312\\Lib\\site-packages\\sklearn\\utils\\validation.py:2742: UserWarning: X has feature names, but MinMaxScaler was fitted without feature names\n",
      "  warnings.warn(\n",
      "e:\\Python\\Python312\\Lib\\site-packages\\sklearn\\utils\\validation.py:2742: UserWarning: X has feature names, but MinMaxScaler was fitted without feature names\n",
      "  warnings.warn(\n",
      "e:\\Python\\Python312\\Lib\\site-packages\\sklearn\\utils\\validation.py:2742: UserWarning: X has feature names, but MinMaxScaler was fitted without feature names\n",
      "  warnings.warn(\n",
      "e:\\Python\\Python312\\Lib\\site-packages\\sklearn\\utils\\validation.py:2742: UserWarning: X has feature names, but MinMaxScaler was fitted without feature names\n",
      "  warnings.warn(\n",
      "e:\\Python\\Python312\\Lib\\site-packages\\sklearn\\utils\\validation.py:2742: UserWarning: X has feature names, but MinMaxScaler was fitted without feature names\n",
      "  warnings.warn(\n",
      "e:\\Python\\Python312\\Lib\\site-packages\\sklearn\\utils\\validation.py:2742: UserWarning: X has feature names, but MinMaxScaler was fitted without feature names\n",
      "  warnings.warn(\n",
      "e:\\Python\\Python312\\Lib\\site-packages\\sklearn\\utils\\validation.py:2742: UserWarning: X has feature names, but MinMaxScaler was fitted without feature names\n",
      "  warnings.warn(\n",
      "e:\\Python\\Python312\\Lib\\site-packages\\sklearn\\utils\\validation.py:2742: UserWarning: X has feature names, but MinMaxScaler was fitted without feature names\n",
      "  warnings.warn(\n",
      "e:\\Python\\Python312\\Lib\\site-packages\\sklearn\\utils\\validation.py:2742: UserWarning: X has feature names, but MinMaxScaler was fitted without feature names\n",
      "  warnings.warn(\n",
      "e:\\Python\\Python312\\Lib\\site-packages\\sklearn\\utils\\validation.py:2742: UserWarning: X has feature names, but MinMaxScaler was fitted without feature names\n",
      "  warnings.warn(\n",
      "e:\\Python\\Python312\\Lib\\site-packages\\sklearn\\utils\\validation.py:2742: UserWarning: X has feature names, but MinMaxScaler was fitted without feature names\n",
      "  warnings.warn(\n",
      "e:\\Python\\Python312\\Lib\\site-packages\\sklearn\\utils\\validation.py:2742: UserWarning: X has feature names, but MinMaxScaler was fitted without feature names\n",
      "  warnings.warn(\n",
      "e:\\Python\\Python312\\Lib\\site-packages\\sklearn\\utils\\validation.py:2742: UserWarning: X has feature names, but MinMaxScaler was fitted without feature names\n",
      "  warnings.warn(\n",
      "e:\\Python\\Python312\\Lib\\site-packages\\sklearn\\utils\\validation.py:2742: UserWarning: X has feature names, but MinMaxScaler was fitted without feature names\n",
      "  warnings.warn(\n",
      "e:\\Python\\Python312\\Lib\\site-packages\\sklearn\\utils\\validation.py:2742: UserWarning: X has feature names, but MinMaxScaler was fitted without feature names\n",
      "  warnings.warn(\n",
      "e:\\Python\\Python312\\Lib\\site-packages\\sklearn\\utils\\validation.py:2742: UserWarning: X has feature names, but MinMaxScaler was fitted without feature names\n",
      "  warnings.warn(\n",
      "e:\\Python\\Python312\\Lib\\site-packages\\sklearn\\utils\\validation.py:2742: UserWarning: X has feature names, but MinMaxScaler was fitted without feature names\n",
      "  warnings.warn(\n",
      "e:\\Python\\Python312\\Lib\\site-packages\\sklearn\\utils\\validation.py:2742: UserWarning: X has feature names, but MinMaxScaler was fitted without feature names\n",
      "  warnings.warn(\n",
      "e:\\Python\\Python312\\Lib\\site-packages\\sklearn\\utils\\validation.py:2742: UserWarning: X has feature names, but MinMaxScaler was fitted without feature names\n",
      "  warnings.warn(\n",
      "e:\\Python\\Python312\\Lib\\site-packages\\sklearn\\utils\\validation.py:2742: UserWarning: X has feature names, but MinMaxScaler was fitted without feature names\n",
      "  warnings.warn(\n",
      "e:\\Python\\Python312\\Lib\\site-packages\\sklearn\\utils\\validation.py:2742: UserWarning: X has feature names, but MinMaxScaler was fitted without feature names\n",
      "  warnings.warn(\n",
      "e:\\Python\\Python312\\Lib\\site-packages\\sklearn\\utils\\validation.py:2742: UserWarning: X has feature names, but MinMaxScaler was fitted without feature names\n",
      "  warnings.warn(\n",
      "e:\\Python\\Python312\\Lib\\site-packages\\sklearn\\utils\\validation.py:2742: UserWarning: X has feature names, but MinMaxScaler was fitted without feature names\n",
      "  warnings.warn(\n",
      "e:\\Python\\Python312\\Lib\\site-packages\\sklearn\\utils\\validation.py:2742: UserWarning: X has feature names, but MinMaxScaler was fitted without feature names\n",
      "  warnings.warn(\n",
      "e:\\Python\\Python312\\Lib\\site-packages\\sklearn\\utils\\validation.py:2742: UserWarning: X has feature names, but MinMaxScaler was fitted without feature names\n",
      "  warnings.warn(\n",
      "e:\\Python\\Python312\\Lib\\site-packages\\sklearn\\utils\\validation.py:2742: UserWarning: X has feature names, but MinMaxScaler was fitted without feature names\n",
      "  warnings.warn(\n",
      "e:\\Python\\Python312\\Lib\\site-packages\\sklearn\\utils\\validation.py:2742: UserWarning: X has feature names, but MinMaxScaler was fitted without feature names\n",
      "  warnings.warn(\n",
      "e:\\Python\\Python312\\Lib\\site-packages\\sklearn\\utils\\validation.py:2742: UserWarning: X has feature names, but MinMaxScaler was fitted without feature names\n",
      "  warnings.warn(\n",
      "e:\\Python\\Python312\\Lib\\site-packages\\sklearn\\utils\\validation.py:2742: UserWarning: X has feature names, but MinMaxScaler was fitted without feature names\n",
      "  warnings.warn(\n",
      "e:\\Python\\Python312\\Lib\\site-packages\\sklearn\\utils\\validation.py:2742: UserWarning: X has feature names, but MinMaxScaler was fitted without feature names\n",
      "  warnings.warn(\n",
      "e:\\Python\\Python312\\Lib\\site-packages\\sklearn\\utils\\validation.py:2742: UserWarning: X has feature names, but MinMaxScaler was fitted without feature names\n",
      "  warnings.warn(\n",
      "e:\\Python\\Python312\\Lib\\site-packages\\sklearn\\utils\\validation.py:2742: UserWarning: X has feature names, but MinMaxScaler was fitted without feature names\n",
      "  warnings.warn(\n",
      "e:\\Python\\Python312\\Lib\\site-packages\\sklearn\\utils\\validation.py:2742: UserWarning: X has feature names, but MinMaxScaler was fitted without feature names\n",
      "  warnings.warn(\n",
      "e:\\Python\\Python312\\Lib\\site-packages\\sklearn\\utils\\validation.py:2742: UserWarning: X has feature names, but MinMaxScaler was fitted without feature names\n",
      "  warnings.warn(\n",
      "e:\\Python\\Python312\\Lib\\site-packages\\sklearn\\utils\\validation.py:2742: UserWarning: X has feature names, but MinMaxScaler was fitted without feature names\n",
      "  warnings.warn(\n",
      "e:\\Python\\Python312\\Lib\\site-packages\\sklearn\\utils\\validation.py:2742: UserWarning: X has feature names, but MinMaxScaler was fitted without feature names\n",
      "  warnings.warn(\n",
      "e:\\Python\\Python312\\Lib\\site-packages\\sklearn\\utils\\validation.py:2742: UserWarning: X has feature names, but MinMaxScaler was fitted without feature names\n",
      "  warnings.warn(\n",
      "e:\\Python\\Python312\\Lib\\site-packages\\sklearn\\utils\\validation.py:2742: UserWarning: X has feature names, but MinMaxScaler was fitted without feature names\n",
      "  warnings.warn(\n",
      "e:\\Python\\Python312\\Lib\\site-packages\\sklearn\\utils\\validation.py:2742: UserWarning: X has feature names, but MinMaxScaler was fitted without feature names\n",
      "  warnings.warn(\n",
      "e:\\Python\\Python312\\Lib\\site-packages\\sklearn\\utils\\validation.py:2742: UserWarning: X has feature names, but MinMaxScaler was fitted without feature names\n",
      "  warnings.warn(\n",
      "e:\\Python\\Python312\\Lib\\site-packages\\sklearn\\utils\\validation.py:2742: UserWarning: X has feature names, but MinMaxScaler was fitted without feature names\n",
      "  warnings.warn(\n",
      "e:\\Python\\Python312\\Lib\\site-packages\\sklearn\\utils\\validation.py:2742: UserWarning: X has feature names, but MinMaxScaler was fitted without feature names\n",
      "  warnings.warn(\n",
      "e:\\Python\\Python312\\Lib\\site-packages\\sklearn\\utils\\validation.py:2742: UserWarning: X has feature names, but MinMaxScaler was fitted without feature names\n",
      "  warnings.warn(\n",
      "e:\\Python\\Python312\\Lib\\site-packages\\sklearn\\utils\\validation.py:2742: UserWarning: X has feature names, but MinMaxScaler was fitted without feature names\n",
      "  warnings.warn(\n",
      "e:\\Python\\Python312\\Lib\\site-packages\\sklearn\\utils\\validation.py:2742: UserWarning: X has feature names, but MinMaxScaler was fitted without feature names\n",
      "  warnings.warn(\n",
      "e:\\Python\\Python312\\Lib\\site-packages\\sklearn\\utils\\validation.py:2742: UserWarning: X has feature names, but MinMaxScaler was fitted without feature names\n",
      "  warnings.warn(\n",
      "e:\\Python\\Python312\\Lib\\site-packages\\sklearn\\utils\\validation.py:2742: UserWarning: X has feature names, but MinMaxScaler was fitted without feature names\n",
      "  warnings.warn(\n",
      "e:\\Python\\Python312\\Lib\\site-packages\\sklearn\\utils\\validation.py:2742: UserWarning: X has feature names, but MinMaxScaler was fitted without feature names\n",
      "  warnings.warn(\n",
      "e:\\Python\\Python312\\Lib\\site-packages\\sklearn\\utils\\validation.py:2742: UserWarning: X has feature names, but MinMaxScaler was fitted without feature names\n",
      "  warnings.warn(\n",
      "e:\\Python\\Python312\\Lib\\site-packages\\sklearn\\utils\\validation.py:2742: UserWarning: X has feature names, but MinMaxScaler was fitted without feature names\n",
      "  warnings.warn(\n",
      "e:\\Python\\Python312\\Lib\\site-packages\\sklearn\\utils\\validation.py:2742: UserWarning: X has feature names, but MinMaxScaler was fitted without feature names\n",
      "  warnings.warn(\n",
      "e:\\Python\\Python312\\Lib\\site-packages\\sklearn\\utils\\validation.py:2742: UserWarning: X has feature names, but MinMaxScaler was fitted without feature names\n",
      "  warnings.warn(\n",
      "e:\\Python\\Python312\\Lib\\site-packages\\sklearn\\utils\\validation.py:2742: UserWarning: X has feature names, but MinMaxScaler was fitted without feature names\n",
      "  warnings.warn(\n",
      "e:\\Python\\Python312\\Lib\\site-packages\\sklearn\\utils\\validation.py:2742: UserWarning: X has feature names, but MinMaxScaler was fitted without feature names\n",
      "  warnings.warn(\n",
      "e:\\Python\\Python312\\Lib\\site-packages\\sklearn\\utils\\validation.py:2742: UserWarning: X has feature names, but MinMaxScaler was fitted without feature names\n",
      "  warnings.warn(\n",
      "e:\\Python\\Python312\\Lib\\site-packages\\sklearn\\utils\\validation.py:2742: UserWarning: X has feature names, but MinMaxScaler was fitted without feature names\n",
      "  warnings.warn(\n",
      "e:\\Python\\Python312\\Lib\\site-packages\\sklearn\\utils\\validation.py:2742: UserWarning: X has feature names, but MinMaxScaler was fitted without feature names\n",
      "  warnings.warn(\n",
      "e:\\Python\\Python312\\Lib\\site-packages\\sklearn\\utils\\validation.py:2742: UserWarning: X has feature names, but MinMaxScaler was fitted without feature names\n",
      "  warnings.warn(\n",
      "e:\\Python\\Python312\\Lib\\site-packages\\sklearn\\utils\\validation.py:2742: UserWarning: X has feature names, but MinMaxScaler was fitted without feature names\n",
      "  warnings.warn(\n",
      "e:\\Python\\Python312\\Lib\\site-packages\\sklearn\\utils\\validation.py:2742: UserWarning: X has feature names, but MinMaxScaler was fitted without feature names\n",
      "  warnings.warn(\n",
      "e:\\Python\\Python312\\Lib\\site-packages\\sklearn\\utils\\validation.py:2742: UserWarning: X has feature names, but MinMaxScaler was fitted without feature names\n",
      "  warnings.warn(\n",
      "e:\\Python\\Python312\\Lib\\site-packages\\sklearn\\utils\\validation.py:2742: UserWarning: X has feature names, but MinMaxScaler was fitted without feature names\n",
      "  warnings.warn(\n",
      "e:\\Python\\Python312\\Lib\\site-packages\\sklearn\\utils\\validation.py:2742: UserWarning: X has feature names, but MinMaxScaler was fitted without feature names\n",
      "  warnings.warn(\n",
      "e:\\Python\\Python312\\Lib\\site-packages\\sklearn\\utils\\validation.py:2742: UserWarning: X has feature names, but MinMaxScaler was fitted without feature names\n",
      "  warnings.warn(\n",
      "e:\\Python\\Python312\\Lib\\site-packages\\sklearn\\utils\\validation.py:2742: UserWarning: X has feature names, but MinMaxScaler was fitted without feature names\n",
      "  warnings.warn(\n",
      "e:\\Python\\Python312\\Lib\\site-packages\\sklearn\\utils\\validation.py:2742: UserWarning: X has feature names, but MinMaxScaler was fitted without feature names\n",
      "  warnings.warn(\n",
      "e:\\Python\\Python312\\Lib\\site-packages\\sklearn\\utils\\validation.py:2742: UserWarning: X has feature names, but MinMaxScaler was fitted without feature names\n",
      "  warnings.warn(\n",
      "e:\\Python\\Python312\\Lib\\site-packages\\sklearn\\utils\\validation.py:2742: UserWarning: X has feature names, but MinMaxScaler was fitted without feature names\n",
      "  warnings.warn(\n",
      "e:\\Python\\Python312\\Lib\\site-packages\\sklearn\\utils\\validation.py:2742: UserWarning: X has feature names, but MinMaxScaler was fitted without feature names\n",
      "  warnings.warn(\n",
      "e:\\Python\\Python312\\Lib\\site-packages\\sklearn\\utils\\validation.py:2742: UserWarning: X has feature names, but MinMaxScaler was fitted without feature names\n",
      "  warnings.warn(\n",
      "e:\\Python\\Python312\\Lib\\site-packages\\sklearn\\utils\\validation.py:2742: UserWarning: X has feature names, but MinMaxScaler was fitted without feature names\n",
      "  warnings.warn(\n",
      "e:\\Python\\Python312\\Lib\\site-packages\\sklearn\\utils\\validation.py:2742: UserWarning: X has feature names, but MinMaxScaler was fitted without feature names\n",
      "  warnings.warn(\n",
      "e:\\Python\\Python312\\Lib\\site-packages\\sklearn\\utils\\validation.py:2742: UserWarning: X has feature names, but MinMaxScaler was fitted without feature names\n",
      "  warnings.warn(\n",
      "e:\\Python\\Python312\\Lib\\site-packages\\sklearn\\utils\\validation.py:2742: UserWarning: X has feature names, but MinMaxScaler was fitted without feature names\n",
      "  warnings.warn(\n",
      "e:\\Python\\Python312\\Lib\\site-packages\\sklearn\\utils\\validation.py:2742: UserWarning: X has feature names, but MinMaxScaler was fitted without feature names\n",
      "  warnings.warn(\n",
      "e:\\Python\\Python312\\Lib\\site-packages\\sklearn\\utils\\validation.py:2742: UserWarning: X has feature names, but MinMaxScaler was fitted without feature names\n",
      "  warnings.warn(\n",
      "e:\\Python\\Python312\\Lib\\site-packages\\sklearn\\utils\\validation.py:2742: UserWarning: X has feature names, but MinMaxScaler was fitted without feature names\n",
      "  warnings.warn(\n",
      "e:\\Python\\Python312\\Lib\\site-packages\\sklearn\\utils\\validation.py:2742: UserWarning: X has feature names, but MinMaxScaler was fitted without feature names\n",
      "  warnings.warn(\n",
      "e:\\Python\\Python312\\Lib\\site-packages\\sklearn\\utils\\validation.py:2742: UserWarning: X has feature names, but MinMaxScaler was fitted without feature names\n",
      "  warnings.warn(\n",
      "e:\\Python\\Python312\\Lib\\site-packages\\sklearn\\utils\\validation.py:2742: UserWarning: X has feature names, but MinMaxScaler was fitted without feature names\n",
      "  warnings.warn(\n",
      "e:\\Python\\Python312\\Lib\\site-packages\\sklearn\\utils\\validation.py:2742: UserWarning: X has feature names, but MinMaxScaler was fitted without feature names\n",
      "  warnings.warn(\n",
      "e:\\Python\\Python312\\Lib\\site-packages\\sklearn\\utils\\validation.py:2742: UserWarning: X has feature names, but MinMaxScaler was fitted without feature names\n",
      "  warnings.warn(\n",
      "e:\\Python\\Python312\\Lib\\site-packages\\sklearn\\utils\\validation.py:2742: UserWarning: X has feature names, but MinMaxScaler was fitted without feature names\n",
      "  warnings.warn(\n",
      "e:\\Python\\Python312\\Lib\\site-packages\\sklearn\\utils\\validation.py:2742: UserWarning: X has feature names, but MinMaxScaler was fitted without feature names\n",
      "  warnings.warn(\n",
      "e:\\Python\\Python312\\Lib\\site-packages\\sklearn\\utils\\validation.py:2742: UserWarning: X has feature names, but MinMaxScaler was fitted without feature names\n",
      "  warnings.warn(\n",
      "e:\\Python\\Python312\\Lib\\site-packages\\sklearn\\utils\\validation.py:2742: UserWarning: X has feature names, but MinMaxScaler was fitted without feature names\n",
      "  warnings.warn(\n",
      "e:\\Python\\Python312\\Lib\\site-packages\\sklearn\\utils\\validation.py:2742: UserWarning: X has feature names, but MinMaxScaler was fitted without feature names\n",
      "  warnings.warn(\n",
      "e:\\Python\\Python312\\Lib\\site-packages\\sklearn\\utils\\validation.py:2742: UserWarning: X has feature names, but MinMaxScaler was fitted without feature names\n",
      "  warnings.warn(\n",
      "e:\\Python\\Python312\\Lib\\site-packages\\sklearn\\utils\\validation.py:2742: UserWarning: X has feature names, but MinMaxScaler was fitted without feature names\n",
      "  warnings.warn(\n",
      "e:\\Python\\Python312\\Lib\\site-packages\\sklearn\\utils\\validation.py:2742: UserWarning: X has feature names, but MinMaxScaler was fitted without feature names\n",
      "  warnings.warn(\n",
      "e:\\Python\\Python312\\Lib\\site-packages\\sklearn\\utils\\validation.py:2742: UserWarning: X has feature names, but MinMaxScaler was fitted without feature names\n",
      "  warnings.warn(\n",
      "e:\\Python\\Python312\\Lib\\site-packages\\sklearn\\utils\\validation.py:2742: UserWarning: X has feature names, but MinMaxScaler was fitted without feature names\n",
      "  warnings.warn(\n",
      "e:\\Python\\Python312\\Lib\\site-packages\\sklearn\\utils\\validation.py:2742: UserWarning: X has feature names, but MinMaxScaler was fitted without feature names\n",
      "  warnings.warn(\n",
      "e:\\Python\\Python312\\Lib\\site-packages\\sklearn\\utils\\validation.py:2742: UserWarning: X has feature names, but MinMaxScaler was fitted without feature names\n",
      "  warnings.warn(\n",
      "e:\\Python\\Python312\\Lib\\site-packages\\sklearn\\utils\\validation.py:2742: UserWarning: X has feature names, but MinMaxScaler was fitted without feature names\n",
      "  warnings.warn(\n",
      "e:\\Python\\Python312\\Lib\\site-packages\\sklearn\\utils\\validation.py:2742: UserWarning: X has feature names, but MinMaxScaler was fitted without feature names\n",
      "  warnings.warn(\n",
      "e:\\Python\\Python312\\Lib\\site-packages\\sklearn\\utils\\validation.py:2742: UserWarning: X has feature names, but MinMaxScaler was fitted without feature names\n",
      "  warnings.warn(\n",
      "e:\\Python\\Python312\\Lib\\site-packages\\sklearn\\utils\\validation.py:2742: UserWarning: X has feature names, but MinMaxScaler was fitted without feature names\n",
      "  warnings.warn(\n",
      "e:\\Python\\Python312\\Lib\\site-packages\\sklearn\\utils\\validation.py:2742: UserWarning: X has feature names, but MinMaxScaler was fitted without feature names\n",
      "  warnings.warn(\n",
      "e:\\Python\\Python312\\Lib\\site-packages\\sklearn\\utils\\validation.py:2742: UserWarning: X has feature names, but MinMaxScaler was fitted without feature names\n",
      "  warnings.warn(\n",
      "e:\\Python\\Python312\\Lib\\site-packages\\sklearn\\utils\\validation.py:2742: UserWarning: X has feature names, but MinMaxScaler was fitted without feature names\n",
      "  warnings.warn(\n",
      "e:\\Python\\Python312\\Lib\\site-packages\\sklearn\\utils\\validation.py:2742: UserWarning: X has feature names, but MinMaxScaler was fitted without feature names\n",
      "  warnings.warn(\n",
      "e:\\Python\\Python312\\Lib\\site-packages\\sklearn\\utils\\validation.py:2742: UserWarning: X has feature names, but MinMaxScaler was fitted without feature names\n",
      "  warnings.warn(\n",
      "e:\\Python\\Python312\\Lib\\site-packages\\sklearn\\utils\\validation.py:2742: UserWarning: X has feature names, but MinMaxScaler was fitted without feature names\n",
      "  warnings.warn(\n",
      "e:\\Python\\Python312\\Lib\\site-packages\\sklearn\\utils\\validation.py:2742: UserWarning: X has feature names, but MinMaxScaler was fitted without feature names\n",
      "  warnings.warn(\n",
      "e:\\Python\\Python312\\Lib\\site-packages\\sklearn\\utils\\validation.py:2742: UserWarning: X has feature names, but MinMaxScaler was fitted without feature names\n",
      "  warnings.warn(\n",
      "e:\\Python\\Python312\\Lib\\site-packages\\sklearn\\utils\\validation.py:2742: UserWarning: X has feature names, but MinMaxScaler was fitted without feature names\n",
      "  warnings.warn(\n",
      "e:\\Python\\Python312\\Lib\\site-packages\\sklearn\\utils\\validation.py:2742: UserWarning: X has feature names, but MinMaxScaler was fitted without feature names\n",
      "  warnings.warn(\n",
      "e:\\Python\\Python312\\Lib\\site-packages\\sklearn\\utils\\validation.py:2742: UserWarning: X has feature names, but MinMaxScaler was fitted without feature names\n",
      "  warnings.warn(\n",
      "e:\\Python\\Python312\\Lib\\site-packages\\sklearn\\utils\\validation.py:2742: UserWarning: X has feature names, but MinMaxScaler was fitted without feature names\n",
      "  warnings.warn(\n",
      "e:\\Python\\Python312\\Lib\\site-packages\\sklearn\\utils\\validation.py:2742: UserWarning: X has feature names, but MinMaxScaler was fitted without feature names\n",
      "  warnings.warn(\n",
      "e:\\Python\\Python312\\Lib\\site-packages\\sklearn\\utils\\validation.py:2742: UserWarning: X has feature names, but MinMaxScaler was fitted without feature names\n",
      "  warnings.warn(\n",
      "e:\\Python\\Python312\\Lib\\site-packages\\sklearn\\utils\\validation.py:2742: UserWarning: X has feature names, but MinMaxScaler was fitted without feature names\n",
      "  warnings.warn(\n",
      "e:\\Python\\Python312\\Lib\\site-packages\\sklearn\\utils\\validation.py:2742: UserWarning: X has feature names, but MinMaxScaler was fitted without feature names\n",
      "  warnings.warn(\n",
      "e:\\Python\\Python312\\Lib\\site-packages\\sklearn\\utils\\validation.py:2742: UserWarning: X has feature names, but MinMaxScaler was fitted without feature names\n",
      "  warnings.warn(\n",
      "e:\\Python\\Python312\\Lib\\site-packages\\sklearn\\utils\\validation.py:2742: UserWarning: X has feature names, but MinMaxScaler was fitted without feature names\n",
      "  warnings.warn(\n",
      "e:\\Python\\Python312\\Lib\\site-packages\\sklearn\\utils\\validation.py:2742: UserWarning: X has feature names, but MinMaxScaler was fitted without feature names\n",
      "  warnings.warn(\n",
      "e:\\Python\\Python312\\Lib\\site-packages\\sklearn\\utils\\validation.py:2742: UserWarning: X has feature names, but MinMaxScaler was fitted without feature names\n",
      "  warnings.warn(\n",
      "e:\\Python\\Python312\\Lib\\site-packages\\sklearn\\utils\\validation.py:2742: UserWarning: X has feature names, but MinMaxScaler was fitted without feature names\n",
      "  warnings.warn(\n",
      "e:\\Python\\Python312\\Lib\\site-packages\\sklearn\\utils\\validation.py:2742: UserWarning: X has feature names, but MinMaxScaler was fitted without feature names\n",
      "  warnings.warn(\n",
      "e:\\Python\\Python312\\Lib\\site-packages\\sklearn\\utils\\validation.py:2742: UserWarning: X has feature names, but MinMaxScaler was fitted without feature names\n",
      "  warnings.warn(\n",
      "e:\\Python\\Python312\\Lib\\site-packages\\sklearn\\utils\\validation.py:2742: UserWarning: X has feature names, but MinMaxScaler was fitted without feature names\n",
      "  warnings.warn(\n",
      "e:\\Python\\Python312\\Lib\\site-packages\\sklearn\\utils\\validation.py:2742: UserWarning: X has feature names, but MinMaxScaler was fitted without feature names\n",
      "  warnings.warn(\n",
      "e:\\Python\\Python312\\Lib\\site-packages\\sklearn\\utils\\validation.py:2742: UserWarning: X has feature names, but MinMaxScaler was fitted without feature names\n",
      "  warnings.warn(\n",
      "e:\\Python\\Python312\\Lib\\site-packages\\sklearn\\utils\\validation.py:2742: UserWarning: X has feature names, but MinMaxScaler was fitted without feature names\n",
      "  warnings.warn(\n",
      "e:\\Python\\Python312\\Lib\\site-packages\\sklearn\\utils\\validation.py:2742: UserWarning: X has feature names, but MinMaxScaler was fitted without feature names\n",
      "  warnings.warn(\n",
      "e:\\Python\\Python312\\Lib\\site-packages\\sklearn\\utils\\validation.py:2742: UserWarning: X has feature names, but MinMaxScaler was fitted without feature names\n",
      "  warnings.warn(\n",
      "e:\\Python\\Python312\\Lib\\site-packages\\sklearn\\utils\\validation.py:2742: UserWarning: X has feature names, but MinMaxScaler was fitted without feature names\n",
      "  warnings.warn(\n",
      "e:\\Python\\Python312\\Lib\\site-packages\\sklearn\\utils\\validation.py:2742: UserWarning: X has feature names, but MinMaxScaler was fitted without feature names\n",
      "  warnings.warn(\n",
      "e:\\Python\\Python312\\Lib\\site-packages\\sklearn\\utils\\validation.py:2742: UserWarning: X has feature names, but MinMaxScaler was fitted without feature names\n",
      "  warnings.warn(\n",
      "e:\\Python\\Python312\\Lib\\site-packages\\sklearn\\utils\\validation.py:2742: UserWarning: X has feature names, but MinMaxScaler was fitted without feature names\n",
      "  warnings.warn(\n",
      "e:\\Python\\Python312\\Lib\\site-packages\\sklearn\\utils\\validation.py:2742: UserWarning: X has feature names, but MinMaxScaler was fitted without feature names\n",
      "  warnings.warn(\n",
      "e:\\Python\\Python312\\Lib\\site-packages\\sklearn\\utils\\validation.py:2742: UserWarning: X has feature names, but MinMaxScaler was fitted without feature names\n",
      "  warnings.warn(\n",
      "e:\\Python\\Python312\\Lib\\site-packages\\sklearn\\utils\\validation.py:2742: UserWarning: X has feature names, but MinMaxScaler was fitted without feature names\n",
      "  warnings.warn(\n",
      "e:\\Python\\Python312\\Lib\\site-packages\\sklearn\\utils\\validation.py:2742: UserWarning: X has feature names, but MinMaxScaler was fitted without feature names\n",
      "  warnings.warn(\n",
      "e:\\Python\\Python312\\Lib\\site-packages\\sklearn\\utils\\validation.py:2742: UserWarning: X has feature names, but MinMaxScaler was fitted without feature names\n",
      "  warnings.warn(\n",
      "e:\\Python\\Python312\\Lib\\site-packages\\sklearn\\utils\\validation.py:2742: UserWarning: X has feature names, but MinMaxScaler was fitted without feature names\n",
      "  warnings.warn(\n",
      "e:\\Python\\Python312\\Lib\\site-packages\\sklearn\\utils\\validation.py:2742: UserWarning: X has feature names, but MinMaxScaler was fitted without feature names\n",
      "  warnings.warn(\n",
      "e:\\Python\\Python312\\Lib\\site-packages\\sklearn\\utils\\validation.py:2742: UserWarning: X has feature names, but MinMaxScaler was fitted without feature names\n",
      "  warnings.warn(\n",
      "e:\\Python\\Python312\\Lib\\site-packages\\sklearn\\utils\\validation.py:2742: UserWarning: X has feature names, but MinMaxScaler was fitted without feature names\n",
      "  warnings.warn(\n",
      "e:\\Python\\Python312\\Lib\\site-packages\\sklearn\\utils\\validation.py:2742: UserWarning: X has feature names, but MinMaxScaler was fitted without feature names\n",
      "  warnings.warn(\n",
      "e:\\Python\\Python312\\Lib\\site-packages\\sklearn\\utils\\validation.py:2742: UserWarning: X has feature names, but MinMaxScaler was fitted without feature names\n",
      "  warnings.warn(\n",
      "e:\\Python\\Python312\\Lib\\site-packages\\sklearn\\utils\\validation.py:2742: UserWarning: X has feature names, but MinMaxScaler was fitted without feature names\n",
      "  warnings.warn(\n",
      "e:\\Python\\Python312\\Lib\\site-packages\\sklearn\\utils\\validation.py:2742: UserWarning: X has feature names, but MinMaxScaler was fitted without feature names\n",
      "  warnings.warn(\n",
      "e:\\Python\\Python312\\Lib\\site-packages\\sklearn\\utils\\validation.py:2742: UserWarning: X has feature names, but MinMaxScaler was fitted without feature names\n",
      "  warnings.warn(\n",
      "e:\\Python\\Python312\\Lib\\site-packages\\sklearn\\utils\\validation.py:2742: UserWarning: X has feature names, but MinMaxScaler was fitted without feature names\n",
      "  warnings.warn(\n",
      "e:\\Python\\Python312\\Lib\\site-packages\\sklearn\\utils\\validation.py:2742: UserWarning: X has feature names, but MinMaxScaler was fitted without feature names\n",
      "  warnings.warn(\n",
      "e:\\Python\\Python312\\Lib\\site-packages\\sklearn\\utils\\validation.py:2742: UserWarning: X has feature names, but MinMaxScaler was fitted without feature names\n",
      "  warnings.warn(\n",
      "e:\\Python\\Python312\\Lib\\site-packages\\sklearn\\utils\\validation.py:2742: UserWarning: X has feature names, but MinMaxScaler was fitted without feature names\n",
      "  warnings.warn(\n",
      "e:\\Python\\Python312\\Lib\\site-packages\\sklearn\\utils\\validation.py:2742: UserWarning: X has feature names, but MinMaxScaler was fitted without feature names\n",
      "  warnings.warn(\n",
      "e:\\Python\\Python312\\Lib\\site-packages\\sklearn\\utils\\validation.py:2742: UserWarning: X has feature names, but MinMaxScaler was fitted without feature names\n",
      "  warnings.warn(\n",
      "e:\\Python\\Python312\\Lib\\site-packages\\sklearn\\utils\\validation.py:2742: UserWarning: X has feature names, but MinMaxScaler was fitted without feature names\n",
      "  warnings.warn(\n",
      "e:\\Python\\Python312\\Lib\\site-packages\\sklearn\\utils\\validation.py:2742: UserWarning: X has feature names, but MinMaxScaler was fitted without feature names\n",
      "  warnings.warn(\n",
      "e:\\Python\\Python312\\Lib\\site-packages\\sklearn\\utils\\validation.py:2742: UserWarning: X has feature names, but MinMaxScaler was fitted without feature names\n",
      "  warnings.warn(\n",
      "e:\\Python\\Python312\\Lib\\site-packages\\sklearn\\utils\\validation.py:2742: UserWarning: X has feature names, but MinMaxScaler was fitted without feature names\n",
      "  warnings.warn(\n",
      "e:\\Python\\Python312\\Lib\\site-packages\\sklearn\\utils\\validation.py:2742: UserWarning: X has feature names, but MinMaxScaler was fitted without feature names\n",
      "  warnings.warn(\n",
      "e:\\Python\\Python312\\Lib\\site-packages\\sklearn\\utils\\validation.py:2742: UserWarning: X has feature names, but MinMaxScaler was fitted without feature names\n",
      "  warnings.warn(\n",
      "e:\\Python\\Python312\\Lib\\site-packages\\sklearn\\utils\\validation.py:2742: UserWarning: X has feature names, but MinMaxScaler was fitted without feature names\n",
      "  warnings.warn(\n",
      "e:\\Python\\Python312\\Lib\\site-packages\\sklearn\\utils\\validation.py:2742: UserWarning: X has feature names, but MinMaxScaler was fitted without feature names\n",
      "  warnings.warn(\n",
      "e:\\Python\\Python312\\Lib\\site-packages\\sklearn\\utils\\validation.py:2742: UserWarning: X has feature names, but MinMaxScaler was fitted without feature names\n",
      "  warnings.warn(\n",
      "e:\\Python\\Python312\\Lib\\site-packages\\sklearn\\utils\\validation.py:2742: UserWarning: X has feature names, but MinMaxScaler was fitted without feature names\n",
      "  warnings.warn(\n",
      "e:\\Python\\Python312\\Lib\\site-packages\\sklearn\\utils\\validation.py:2742: UserWarning: X has feature names, but MinMaxScaler was fitted without feature names\n",
      "  warnings.warn(\n",
      "e:\\Python\\Python312\\Lib\\site-packages\\sklearn\\utils\\validation.py:2742: UserWarning: X has feature names, but MinMaxScaler was fitted without feature names\n",
      "  warnings.warn(\n",
      "e:\\Python\\Python312\\Lib\\site-packages\\sklearn\\utils\\validation.py:2742: UserWarning: X has feature names, but MinMaxScaler was fitted without feature names\n",
      "  warnings.warn(\n",
      "e:\\Python\\Python312\\Lib\\site-packages\\sklearn\\utils\\validation.py:2742: UserWarning: X has feature names, but MinMaxScaler was fitted without feature names\n",
      "  warnings.warn(\n",
      "e:\\Python\\Python312\\Lib\\site-packages\\sklearn\\utils\\validation.py:2742: UserWarning: X has feature names, but MinMaxScaler was fitted without feature names\n",
      "  warnings.warn(\n",
      "e:\\Python\\Python312\\Lib\\site-packages\\sklearn\\utils\\validation.py:2742: UserWarning: X has feature names, but MinMaxScaler was fitted without feature names\n",
      "  warnings.warn(\n",
      "e:\\Python\\Python312\\Lib\\site-packages\\sklearn\\utils\\validation.py:2742: UserWarning: X has feature names, but MinMaxScaler was fitted without feature names\n",
      "  warnings.warn(\n",
      "e:\\Python\\Python312\\Lib\\site-packages\\sklearn\\utils\\validation.py:2742: UserWarning: X has feature names, but MinMaxScaler was fitted without feature names\n",
      "  warnings.warn(\n",
      "e:\\Python\\Python312\\Lib\\site-packages\\sklearn\\utils\\validation.py:2742: UserWarning: X has feature names, but MinMaxScaler was fitted without feature names\n",
      "  warnings.warn(\n",
      "e:\\Python\\Python312\\Lib\\site-packages\\sklearn\\utils\\validation.py:2742: UserWarning: X has feature names, but MinMaxScaler was fitted without feature names\n",
      "  warnings.warn(\n",
      "e:\\Python\\Python312\\Lib\\site-packages\\sklearn\\utils\\validation.py:2742: UserWarning: X has feature names, but MinMaxScaler was fitted without feature names\n",
      "  warnings.warn(\n",
      "e:\\Python\\Python312\\Lib\\site-packages\\sklearn\\utils\\validation.py:2742: UserWarning: X has feature names, but MinMaxScaler was fitted without feature names\n",
      "  warnings.warn(\n",
      "e:\\Python\\Python312\\Lib\\site-packages\\sklearn\\utils\\validation.py:2742: UserWarning: X has feature names, but MinMaxScaler was fitted without feature names\n",
      "  warnings.warn(\n",
      "e:\\Python\\Python312\\Lib\\site-packages\\sklearn\\utils\\validation.py:2742: UserWarning: X has feature names, but MinMaxScaler was fitted without feature names\n",
      "  warnings.warn(\n",
      "e:\\Python\\Python312\\Lib\\site-packages\\sklearn\\utils\\validation.py:2742: UserWarning: X has feature names, but MinMaxScaler was fitted without feature names\n",
      "  warnings.warn(\n",
      "e:\\Python\\Python312\\Lib\\site-packages\\sklearn\\utils\\validation.py:2742: UserWarning: X has feature names, but MinMaxScaler was fitted without feature names\n",
      "  warnings.warn(\n",
      "e:\\Python\\Python312\\Lib\\site-packages\\sklearn\\utils\\validation.py:2742: UserWarning: X has feature names, but MinMaxScaler was fitted without feature names\n",
      "  warnings.warn(\n",
      "e:\\Python\\Python312\\Lib\\site-packages\\sklearn\\utils\\validation.py:2742: UserWarning: X has feature names, but MinMaxScaler was fitted without feature names\n",
      "  warnings.warn(\n",
      "e:\\Python\\Python312\\Lib\\site-packages\\sklearn\\utils\\validation.py:2742: UserWarning: X has feature names, but MinMaxScaler was fitted without feature names\n",
      "  warnings.warn(\n",
      "e:\\Python\\Python312\\Lib\\site-packages\\sklearn\\utils\\validation.py:2742: UserWarning: X has feature names, but MinMaxScaler was fitted without feature names\n",
      "  warnings.warn(\n",
      "e:\\Python\\Python312\\Lib\\site-packages\\sklearn\\utils\\validation.py:2742: UserWarning: X has feature names, but MinMaxScaler was fitted without feature names\n",
      "  warnings.warn(\n",
      "e:\\Python\\Python312\\Lib\\site-packages\\sklearn\\utils\\validation.py:2742: UserWarning: X has feature names, but MinMaxScaler was fitted without feature names\n",
      "  warnings.warn(\n",
      "e:\\Python\\Python312\\Lib\\site-packages\\sklearn\\utils\\validation.py:2742: UserWarning: X has feature names, but MinMaxScaler was fitted without feature names\n",
      "  warnings.warn(\n",
      "e:\\Python\\Python312\\Lib\\site-packages\\sklearn\\utils\\validation.py:2742: UserWarning: X has feature names, but MinMaxScaler was fitted without feature names\n",
      "  warnings.warn(\n",
      "e:\\Python\\Python312\\Lib\\site-packages\\sklearn\\utils\\validation.py:2742: UserWarning: X has feature names, but MinMaxScaler was fitted without feature names\n",
      "  warnings.warn(\n",
      "e:\\Python\\Python312\\Lib\\site-packages\\sklearn\\utils\\validation.py:2742: UserWarning: X has feature names, but MinMaxScaler was fitted without feature names\n",
      "  warnings.warn(\n",
      "e:\\Python\\Python312\\Lib\\site-packages\\sklearn\\utils\\validation.py:2742: UserWarning: X has feature names, but MinMaxScaler was fitted without feature names\n",
      "  warnings.warn(\n",
      "e:\\Python\\Python312\\Lib\\site-packages\\sklearn\\utils\\validation.py:2742: UserWarning: X has feature names, but MinMaxScaler was fitted without feature names\n",
      "  warnings.warn(\n",
      "e:\\Python\\Python312\\Lib\\site-packages\\sklearn\\utils\\validation.py:2742: UserWarning: X has feature names, but MinMaxScaler was fitted without feature names\n",
      "  warnings.warn(\n",
      "e:\\Python\\Python312\\Lib\\site-packages\\sklearn\\utils\\validation.py:2742: UserWarning: X has feature names, but MinMaxScaler was fitted without feature names\n",
      "  warnings.warn(\n",
      "e:\\Python\\Python312\\Lib\\site-packages\\sklearn\\utils\\validation.py:2742: UserWarning: X has feature names, but MinMaxScaler was fitted without feature names\n",
      "  warnings.warn(\n",
      "e:\\Python\\Python312\\Lib\\site-packages\\sklearn\\utils\\validation.py:2742: UserWarning: X has feature names, but MinMaxScaler was fitted without feature names\n",
      "  warnings.warn(\n",
      "e:\\Python\\Python312\\Lib\\site-packages\\sklearn\\utils\\validation.py:2742: UserWarning: X has feature names, but MinMaxScaler was fitted without feature names\n",
      "  warnings.warn(\n",
      "e:\\Python\\Python312\\Lib\\site-packages\\sklearn\\utils\\validation.py:2742: UserWarning: X has feature names, but MinMaxScaler was fitted without feature names\n",
      "  warnings.warn(\n",
      "e:\\Python\\Python312\\Lib\\site-packages\\sklearn\\utils\\validation.py:2742: UserWarning: X has feature names, but MinMaxScaler was fitted without feature names\n",
      "  warnings.warn(\n",
      "e:\\Python\\Python312\\Lib\\site-packages\\sklearn\\utils\\validation.py:2742: UserWarning: X has feature names, but MinMaxScaler was fitted without feature names\n",
      "  warnings.warn(\n",
      "e:\\Python\\Python312\\Lib\\site-packages\\sklearn\\utils\\validation.py:2742: UserWarning: X has feature names, but MinMaxScaler was fitted without feature names\n",
      "  warnings.warn(\n",
      "e:\\Python\\Python312\\Lib\\site-packages\\sklearn\\utils\\validation.py:2742: UserWarning: X has feature names, but MinMaxScaler was fitted without feature names\n",
      "  warnings.warn(\n",
      "e:\\Python\\Python312\\Lib\\site-packages\\sklearn\\utils\\validation.py:2742: UserWarning: X has feature names, but MinMaxScaler was fitted without feature names\n",
      "  warnings.warn(\n",
      "e:\\Python\\Python312\\Lib\\site-packages\\sklearn\\utils\\validation.py:2742: UserWarning: X has feature names, but MinMaxScaler was fitted without feature names\n",
      "  warnings.warn(\n",
      "e:\\Python\\Python312\\Lib\\site-packages\\sklearn\\utils\\validation.py:2742: UserWarning: X has feature names, but MinMaxScaler was fitted without feature names\n",
      "  warnings.warn(\n",
      "e:\\Python\\Python312\\Lib\\site-packages\\sklearn\\utils\\validation.py:2742: UserWarning: X has feature names, but MinMaxScaler was fitted without feature names\n",
      "  warnings.warn(\n",
      "e:\\Python\\Python312\\Lib\\site-packages\\sklearn\\utils\\validation.py:2742: UserWarning: X has feature names, but MinMaxScaler was fitted without feature names\n",
      "  warnings.warn(\n",
      "e:\\Python\\Python312\\Lib\\site-packages\\sklearn\\utils\\validation.py:2742: UserWarning: X has feature names, but MinMaxScaler was fitted without feature names\n",
      "  warnings.warn(\n",
      "e:\\Python\\Python312\\Lib\\site-packages\\sklearn\\utils\\validation.py:2742: UserWarning: X has feature names, but MinMaxScaler was fitted without feature names\n",
      "  warnings.warn(\n",
      "e:\\Python\\Python312\\Lib\\site-packages\\sklearn\\utils\\validation.py:2742: UserWarning: X has feature names, but MinMaxScaler was fitted without feature names\n",
      "  warnings.warn(\n",
      "e:\\Python\\Python312\\Lib\\site-packages\\sklearn\\utils\\validation.py:2742: UserWarning: X has feature names, but MinMaxScaler was fitted without feature names\n",
      "  warnings.warn(\n",
      "e:\\Python\\Python312\\Lib\\site-packages\\sklearn\\utils\\validation.py:2742: UserWarning: X has feature names, but MinMaxScaler was fitted without feature names\n",
      "  warnings.warn(\n",
      "e:\\Python\\Python312\\Lib\\site-packages\\sklearn\\utils\\validation.py:2742: UserWarning: X has feature names, but MinMaxScaler was fitted without feature names\n",
      "  warnings.warn(\n",
      "e:\\Python\\Python312\\Lib\\site-packages\\sklearn\\utils\\validation.py:2742: UserWarning: X has feature names, but MinMaxScaler was fitted without feature names\n",
      "  warnings.warn(\n",
      "e:\\Python\\Python312\\Lib\\site-packages\\sklearn\\utils\\validation.py:2742: UserWarning: X has feature names, but MinMaxScaler was fitted without feature names\n",
      "  warnings.warn(\n",
      "e:\\Python\\Python312\\Lib\\site-packages\\sklearn\\utils\\validation.py:2742: UserWarning: X has feature names, but MinMaxScaler was fitted without feature names\n",
      "  warnings.warn(\n",
      "e:\\Python\\Python312\\Lib\\site-packages\\sklearn\\utils\\validation.py:2742: UserWarning: X has feature names, but MinMaxScaler was fitted without feature names\n",
      "  warnings.warn(\n",
      "e:\\Python\\Python312\\Lib\\site-packages\\sklearn\\utils\\validation.py:2742: UserWarning: X has feature names, but MinMaxScaler was fitted without feature names\n",
      "  warnings.warn(\n",
      "e:\\Python\\Python312\\Lib\\site-packages\\sklearn\\utils\\validation.py:2742: UserWarning: X has feature names, but MinMaxScaler was fitted without feature names\n",
      "  warnings.warn(\n",
      "e:\\Python\\Python312\\Lib\\site-packages\\sklearn\\utils\\validation.py:2742: UserWarning: X has feature names, but MinMaxScaler was fitted without feature names\n",
      "  warnings.warn(\n",
      "e:\\Python\\Python312\\Lib\\site-packages\\sklearn\\utils\\validation.py:2742: UserWarning: X has feature names, but MinMaxScaler was fitted without feature names\n",
      "  warnings.warn(\n",
      "e:\\Python\\Python312\\Lib\\site-packages\\sklearn\\utils\\validation.py:2742: UserWarning: X has feature names, but MinMaxScaler was fitted without feature names\n",
      "  warnings.warn(\n",
      "e:\\Python\\Python312\\Lib\\site-packages\\sklearn\\utils\\validation.py:2742: UserWarning: X has feature names, but MinMaxScaler was fitted without feature names\n",
      "  warnings.warn(\n",
      "e:\\Python\\Python312\\Lib\\site-packages\\sklearn\\utils\\validation.py:2742: UserWarning: X has feature names, but MinMaxScaler was fitted without feature names\n",
      "  warnings.warn(\n",
      "e:\\Python\\Python312\\Lib\\site-packages\\sklearn\\utils\\validation.py:2742: UserWarning: X has feature names, but MinMaxScaler was fitted without feature names\n",
      "  warnings.warn(\n",
      "e:\\Python\\Python312\\Lib\\site-packages\\sklearn\\utils\\validation.py:2742: UserWarning: X has feature names, but MinMaxScaler was fitted without feature names\n",
      "  warnings.warn(\n",
      "e:\\Python\\Python312\\Lib\\site-packages\\sklearn\\utils\\validation.py:2742: UserWarning: X has feature names, but MinMaxScaler was fitted without feature names\n",
      "  warnings.warn(\n",
      "e:\\Python\\Python312\\Lib\\site-packages\\sklearn\\utils\\validation.py:2742: UserWarning: X has feature names, but MinMaxScaler was fitted without feature names\n",
      "  warnings.warn(\n",
      "e:\\Python\\Python312\\Lib\\site-packages\\sklearn\\utils\\validation.py:2742: UserWarning: X has feature names, but MinMaxScaler was fitted without feature names\n",
      "  warnings.warn(\n",
      "e:\\Python\\Python312\\Lib\\site-packages\\sklearn\\utils\\validation.py:2742: UserWarning: X has feature names, but MinMaxScaler was fitted without feature names\n",
      "  warnings.warn(\n",
      "e:\\Python\\Python312\\Lib\\site-packages\\sklearn\\utils\\validation.py:2742: UserWarning: X has feature names, but MinMaxScaler was fitted without feature names\n",
      "  warnings.warn(\n",
      "e:\\Python\\Python312\\Lib\\site-packages\\sklearn\\utils\\validation.py:2742: UserWarning: X has feature names, but MinMaxScaler was fitted without feature names\n",
      "  warnings.warn(\n",
      "e:\\Python\\Python312\\Lib\\site-packages\\sklearn\\utils\\validation.py:2742: UserWarning: X has feature names, but MinMaxScaler was fitted without feature names\n",
      "  warnings.warn(\n",
      "e:\\Python\\Python312\\Lib\\site-packages\\sklearn\\utils\\validation.py:2742: UserWarning: X has feature names, but MinMaxScaler was fitted without feature names\n",
      "  warnings.warn(\n",
      "e:\\Python\\Python312\\Lib\\site-packages\\sklearn\\utils\\validation.py:2742: UserWarning: X has feature names, but MinMaxScaler was fitted without feature names\n",
      "  warnings.warn(\n",
      "e:\\Python\\Python312\\Lib\\site-packages\\sklearn\\utils\\validation.py:2742: UserWarning: X has feature names, but MinMaxScaler was fitted without feature names\n",
      "  warnings.warn(\n",
      "e:\\Python\\Python312\\Lib\\site-packages\\sklearn\\utils\\validation.py:2742: UserWarning: X has feature names, but MinMaxScaler was fitted without feature names\n",
      "  warnings.warn(\n",
      "e:\\Python\\Python312\\Lib\\site-packages\\sklearn\\utils\\validation.py:2742: UserWarning: X has feature names, but MinMaxScaler was fitted without feature names\n",
      "  warnings.warn(\n",
      "e:\\Python\\Python312\\Lib\\site-packages\\sklearn\\utils\\validation.py:2742: UserWarning: X has feature names, but MinMaxScaler was fitted without feature names\n",
      "  warnings.warn(\n",
      "e:\\Python\\Python312\\Lib\\site-packages\\sklearn\\utils\\validation.py:2742: UserWarning: X has feature names, but MinMaxScaler was fitted without feature names\n",
      "  warnings.warn(\n",
      "e:\\Python\\Python312\\Lib\\site-packages\\sklearn\\utils\\validation.py:2742: UserWarning: X has feature names, but MinMaxScaler was fitted without feature names\n",
      "  warnings.warn(\n",
      "e:\\Python\\Python312\\Lib\\site-packages\\sklearn\\utils\\validation.py:2742: UserWarning: X has feature names, but MinMaxScaler was fitted without feature names\n",
      "  warnings.warn(\n",
      "e:\\Python\\Python312\\Lib\\site-packages\\sklearn\\utils\\validation.py:2742: UserWarning: X has feature names, but MinMaxScaler was fitted without feature names\n",
      "  warnings.warn(\n",
      "e:\\Python\\Python312\\Lib\\site-packages\\sklearn\\utils\\validation.py:2742: UserWarning: X has feature names, but MinMaxScaler was fitted without feature names\n",
      "  warnings.warn(\n",
      "e:\\Python\\Python312\\Lib\\site-packages\\sklearn\\utils\\validation.py:2742: UserWarning: X has feature names, but MinMaxScaler was fitted without feature names\n",
      "  warnings.warn(\n",
      "e:\\Python\\Python312\\Lib\\site-packages\\sklearn\\utils\\validation.py:2742: UserWarning: X has feature names, but MinMaxScaler was fitted without feature names\n",
      "  warnings.warn(\n",
      "e:\\Python\\Python312\\Lib\\site-packages\\sklearn\\utils\\validation.py:2742: UserWarning: X has feature names, but MinMaxScaler was fitted without feature names\n",
      "  warnings.warn(\n",
      "e:\\Python\\Python312\\Lib\\site-packages\\sklearn\\utils\\validation.py:2742: UserWarning: X has feature names, but MinMaxScaler was fitted without feature names\n",
      "  warnings.warn(\n",
      "e:\\Python\\Python312\\Lib\\site-packages\\sklearn\\utils\\validation.py:2742: UserWarning: X has feature names, but MinMaxScaler was fitted without feature names\n",
      "  warnings.warn(\n",
      "e:\\Python\\Python312\\Lib\\site-packages\\sklearn\\utils\\validation.py:2742: UserWarning: X has feature names, but MinMaxScaler was fitted without feature names\n",
      "  warnings.warn(\n",
      "e:\\Python\\Python312\\Lib\\site-packages\\sklearn\\utils\\validation.py:2742: UserWarning: X has feature names, but MinMaxScaler was fitted without feature names\n",
      "  warnings.warn(\n",
      "e:\\Python\\Python312\\Lib\\site-packages\\sklearn\\utils\\validation.py:2742: UserWarning: X has feature names, but MinMaxScaler was fitted without feature names\n",
      "  warnings.warn(\n",
      "e:\\Python\\Python312\\Lib\\site-packages\\sklearn\\utils\\validation.py:2742: UserWarning: X has feature names, but MinMaxScaler was fitted without feature names\n",
      "  warnings.warn(\n",
      "e:\\Python\\Python312\\Lib\\site-packages\\sklearn\\utils\\validation.py:2742: UserWarning: X has feature names, but MinMaxScaler was fitted without feature names\n",
      "  warnings.warn(\n",
      "e:\\Python\\Python312\\Lib\\site-packages\\sklearn\\utils\\validation.py:2742: UserWarning: X has feature names, but MinMaxScaler was fitted without feature names\n",
      "  warnings.warn(\n",
      "e:\\Python\\Python312\\Lib\\site-packages\\sklearn\\utils\\validation.py:2742: UserWarning: X has feature names, but MinMaxScaler was fitted without feature names\n",
      "  warnings.warn(\n",
      "e:\\Python\\Python312\\Lib\\site-packages\\sklearn\\utils\\validation.py:2742: UserWarning: X has feature names, but MinMaxScaler was fitted without feature names\n",
      "  warnings.warn(\n",
      "e:\\Python\\Python312\\Lib\\site-packages\\sklearn\\utils\\validation.py:2742: UserWarning: X has feature names, but MinMaxScaler was fitted without feature names\n",
      "  warnings.warn(\n",
      "e:\\Python\\Python312\\Lib\\site-packages\\sklearn\\utils\\validation.py:2742: UserWarning: X has feature names, but MinMaxScaler was fitted without feature names\n",
      "  warnings.warn(\n",
      "e:\\Python\\Python312\\Lib\\site-packages\\sklearn\\utils\\validation.py:2742: UserWarning: X has feature names, but MinMaxScaler was fitted without feature names\n",
      "  warnings.warn(\n",
      "e:\\Python\\Python312\\Lib\\site-packages\\sklearn\\utils\\validation.py:2742: UserWarning: X has feature names, but MinMaxScaler was fitted without feature names\n",
      "  warnings.warn(\n",
      "e:\\Python\\Python312\\Lib\\site-packages\\sklearn\\utils\\validation.py:2742: UserWarning: X has feature names, but MinMaxScaler was fitted without feature names\n",
      "  warnings.warn(\n",
      "e:\\Python\\Python312\\Lib\\site-packages\\sklearn\\utils\\validation.py:2742: UserWarning: X has feature names, but MinMaxScaler was fitted without feature names\n",
      "  warnings.warn(\n",
      "e:\\Python\\Python312\\Lib\\site-packages\\sklearn\\utils\\validation.py:2742: UserWarning: X has feature names, but MinMaxScaler was fitted without feature names\n",
      "  warnings.warn(\n",
      "e:\\Python\\Python312\\Lib\\site-packages\\sklearn\\utils\\validation.py:2742: UserWarning: X has feature names, but MinMaxScaler was fitted without feature names\n",
      "  warnings.warn(\n",
      "e:\\Python\\Python312\\Lib\\site-packages\\sklearn\\utils\\validation.py:2742: UserWarning: X has feature names, but MinMaxScaler was fitted without feature names\n",
      "  warnings.warn(\n",
      "e:\\Python\\Python312\\Lib\\site-packages\\sklearn\\utils\\validation.py:2742: UserWarning: X has feature names, but MinMaxScaler was fitted without feature names\n",
      "  warnings.warn(\n",
      "e:\\Python\\Python312\\Lib\\site-packages\\sklearn\\utils\\validation.py:2742: UserWarning: X has feature names, but MinMaxScaler was fitted without feature names\n",
      "  warnings.warn(\n",
      "e:\\Python\\Python312\\Lib\\site-packages\\sklearn\\utils\\validation.py:2742: UserWarning: X has feature names, but MinMaxScaler was fitted without feature names\n",
      "  warnings.warn(\n",
      "e:\\Python\\Python312\\Lib\\site-packages\\sklearn\\utils\\validation.py:2742: UserWarning: X has feature names, but MinMaxScaler was fitted without feature names\n",
      "  warnings.warn(\n",
      "e:\\Python\\Python312\\Lib\\site-packages\\sklearn\\utils\\validation.py:2742: UserWarning: X has feature names, but MinMaxScaler was fitted without feature names\n",
      "  warnings.warn(\n",
      "e:\\Python\\Python312\\Lib\\site-packages\\sklearn\\utils\\validation.py:2742: UserWarning: X has feature names, but MinMaxScaler was fitted without feature names\n",
      "  warnings.warn(\n",
      "e:\\Python\\Python312\\Lib\\site-packages\\sklearn\\utils\\validation.py:2742: UserWarning: X has feature names, but MinMaxScaler was fitted without feature names\n",
      "  warnings.warn(\n",
      "e:\\Python\\Python312\\Lib\\site-packages\\sklearn\\utils\\validation.py:2742: UserWarning: X has feature names, but MinMaxScaler was fitted without feature names\n",
      "  warnings.warn(\n",
      "e:\\Python\\Python312\\Lib\\site-packages\\sklearn\\utils\\validation.py:2742: UserWarning: X has feature names, but MinMaxScaler was fitted without feature names\n",
      "  warnings.warn(\n",
      "e:\\Python\\Python312\\Lib\\site-packages\\sklearn\\utils\\validation.py:2742: UserWarning: X has feature names, but MinMaxScaler was fitted without feature names\n",
      "  warnings.warn(\n",
      "e:\\Python\\Python312\\Lib\\site-packages\\sklearn\\utils\\validation.py:2742: UserWarning: X has feature names, but MinMaxScaler was fitted without feature names\n",
      "  warnings.warn(\n",
      "e:\\Python\\Python312\\Lib\\site-packages\\sklearn\\utils\\validation.py:2742: UserWarning: X has feature names, but MinMaxScaler was fitted without feature names\n",
      "  warnings.warn(\n",
      "e:\\Python\\Python312\\Lib\\site-packages\\sklearn\\utils\\validation.py:2742: UserWarning: X has feature names, but MinMaxScaler was fitted without feature names\n",
      "  warnings.warn(\n",
      "e:\\Python\\Python312\\Lib\\site-packages\\sklearn\\utils\\validation.py:2742: UserWarning: X has feature names, but MinMaxScaler was fitted without feature names\n",
      "  warnings.warn(\n",
      "e:\\Python\\Python312\\Lib\\site-packages\\sklearn\\utils\\validation.py:2742: UserWarning: X has feature names, but MinMaxScaler was fitted without feature names\n",
      "  warnings.warn(\n",
      "e:\\Python\\Python312\\Lib\\site-packages\\sklearn\\utils\\validation.py:2742: UserWarning: X has feature names, but MinMaxScaler was fitted without feature names\n",
      "  warnings.warn(\n",
      "e:\\Python\\Python312\\Lib\\site-packages\\sklearn\\utils\\validation.py:2742: UserWarning: X has feature names, but MinMaxScaler was fitted without feature names\n",
      "  warnings.warn(\n",
      "e:\\Python\\Python312\\Lib\\site-packages\\sklearn\\utils\\validation.py:2742: UserWarning: X has feature names, but MinMaxScaler was fitted without feature names\n",
      "  warnings.warn(\n",
      "e:\\Python\\Python312\\Lib\\site-packages\\sklearn\\utils\\validation.py:2742: UserWarning: X has feature names, but MinMaxScaler was fitted without feature names\n",
      "  warnings.warn(\n",
      "e:\\Python\\Python312\\Lib\\site-packages\\sklearn\\utils\\validation.py:2742: UserWarning: X has feature names, but MinMaxScaler was fitted without feature names\n",
      "  warnings.warn(\n",
      "e:\\Python\\Python312\\Lib\\site-packages\\sklearn\\utils\\validation.py:2742: UserWarning: X has feature names, but MinMaxScaler was fitted without feature names\n",
      "  warnings.warn(\n",
      "e:\\Python\\Python312\\Lib\\site-packages\\sklearn\\utils\\validation.py:2742: UserWarning: X has feature names, but MinMaxScaler was fitted without feature names\n",
      "  warnings.warn(\n",
      "e:\\Python\\Python312\\Lib\\site-packages\\sklearn\\utils\\validation.py:2742: UserWarning: X has feature names, but MinMaxScaler was fitted without feature names\n",
      "  warnings.warn(\n",
      "e:\\Python\\Python312\\Lib\\site-packages\\sklearn\\utils\\validation.py:2742: UserWarning: X has feature names, but MinMaxScaler was fitted without feature names\n",
      "  warnings.warn(\n",
      "e:\\Python\\Python312\\Lib\\site-packages\\sklearn\\utils\\validation.py:2742: UserWarning: X has feature names, but MinMaxScaler was fitted without feature names\n",
      "  warnings.warn(\n",
      "e:\\Python\\Python312\\Lib\\site-packages\\sklearn\\utils\\validation.py:2742: UserWarning: X has feature names, but MinMaxScaler was fitted without feature names\n",
      "  warnings.warn(\n",
      "e:\\Python\\Python312\\Lib\\site-packages\\sklearn\\utils\\validation.py:2742: UserWarning: X has feature names, but MinMaxScaler was fitted without feature names\n",
      "  warnings.warn(\n",
      "e:\\Python\\Python312\\Lib\\site-packages\\sklearn\\utils\\validation.py:2742: UserWarning: X has feature names, but MinMaxScaler was fitted without feature names\n",
      "  warnings.warn(\n",
      "e:\\Python\\Python312\\Lib\\site-packages\\sklearn\\utils\\validation.py:2742: UserWarning: X has feature names, but MinMaxScaler was fitted without feature names\n",
      "  warnings.warn(\n",
      "e:\\Python\\Python312\\Lib\\site-packages\\sklearn\\utils\\validation.py:2742: UserWarning: X has feature names, but MinMaxScaler was fitted without feature names\n",
      "  warnings.warn(\n",
      "e:\\Python\\Python312\\Lib\\site-packages\\sklearn\\utils\\validation.py:2742: UserWarning: X has feature names, but MinMaxScaler was fitted without feature names\n",
      "  warnings.warn(\n",
      "e:\\Python\\Python312\\Lib\\site-packages\\sklearn\\utils\\validation.py:2742: UserWarning: X has feature names, but MinMaxScaler was fitted without feature names\n",
      "  warnings.warn(\n",
      "e:\\Python\\Python312\\Lib\\site-packages\\sklearn\\utils\\validation.py:2742: UserWarning: X has feature names, but MinMaxScaler was fitted without feature names\n",
      "  warnings.warn(\n",
      "e:\\Python\\Python312\\Lib\\site-packages\\sklearn\\utils\\validation.py:2742: UserWarning: X has feature names, but MinMaxScaler was fitted without feature names\n",
      "  warnings.warn(\n",
      "e:\\Python\\Python312\\Lib\\site-packages\\sklearn\\utils\\validation.py:2742: UserWarning: X has feature names, but MinMaxScaler was fitted without feature names\n",
      "  warnings.warn(\n",
      "e:\\Python\\Python312\\Lib\\site-packages\\sklearn\\utils\\validation.py:2742: UserWarning: X has feature names, but MinMaxScaler was fitted without feature names\n",
      "  warnings.warn(\n",
      "e:\\Python\\Python312\\Lib\\site-packages\\sklearn\\utils\\validation.py:2742: UserWarning: X has feature names, but MinMaxScaler was fitted without feature names\n",
      "  warnings.warn(\n",
      "e:\\Python\\Python312\\Lib\\site-packages\\sklearn\\utils\\validation.py:2742: UserWarning: X has feature names, but MinMaxScaler was fitted without feature names\n",
      "  warnings.warn(\n",
      "e:\\Python\\Python312\\Lib\\site-packages\\sklearn\\utils\\validation.py:2742: UserWarning: X has feature names, but MinMaxScaler was fitted without feature names\n",
      "  warnings.warn(\n",
      "e:\\Python\\Python312\\Lib\\site-packages\\sklearn\\utils\\validation.py:2742: UserWarning: X has feature names, but MinMaxScaler was fitted without feature names\n",
      "  warnings.warn(\n",
      "e:\\Python\\Python312\\Lib\\site-packages\\sklearn\\utils\\validation.py:2742: UserWarning: X has feature names, but MinMaxScaler was fitted without feature names\n",
      "  warnings.warn(\n",
      "e:\\Python\\Python312\\Lib\\site-packages\\sklearn\\utils\\validation.py:2742: UserWarning: X has feature names, but MinMaxScaler was fitted without feature names\n",
      "  warnings.warn(\n",
      "e:\\Python\\Python312\\Lib\\site-packages\\sklearn\\utils\\validation.py:2742: UserWarning: X has feature names, but MinMaxScaler was fitted without feature names\n",
      "  warnings.warn(\n",
      "e:\\Python\\Python312\\Lib\\site-packages\\sklearn\\utils\\validation.py:2742: UserWarning: X has feature names, but MinMaxScaler was fitted without feature names\n",
      "  warnings.warn(\n",
      "e:\\Python\\Python312\\Lib\\site-packages\\sklearn\\utils\\validation.py:2742: UserWarning: X has feature names, but MinMaxScaler was fitted without feature names\n",
      "  warnings.warn(\n",
      "e:\\Python\\Python312\\Lib\\site-packages\\sklearn\\utils\\validation.py:2742: UserWarning: X has feature names, but MinMaxScaler was fitted without feature names\n",
      "  warnings.warn(\n",
      "e:\\Python\\Python312\\Lib\\site-packages\\sklearn\\utils\\validation.py:2742: UserWarning: X has feature names, but MinMaxScaler was fitted without feature names\n",
      "  warnings.warn(\n",
      "e:\\Python\\Python312\\Lib\\site-packages\\sklearn\\utils\\validation.py:2742: UserWarning: X has feature names, but MinMaxScaler was fitted without feature names\n",
      "  warnings.warn(\n",
      "e:\\Python\\Python312\\Lib\\site-packages\\sklearn\\utils\\validation.py:2742: UserWarning: X has feature names, but MinMaxScaler was fitted without feature names\n",
      "  warnings.warn(\n",
      "e:\\Python\\Python312\\Lib\\site-packages\\sklearn\\utils\\validation.py:2742: UserWarning: X has feature names, but MinMaxScaler was fitted without feature names\n",
      "  warnings.warn(\n",
      "e:\\Python\\Python312\\Lib\\site-packages\\sklearn\\utils\\validation.py:2742: UserWarning: X has feature names, but MinMaxScaler was fitted without feature names\n",
      "  warnings.warn(\n",
      "e:\\Python\\Python312\\Lib\\site-packages\\sklearn\\utils\\validation.py:2742: UserWarning: X has feature names, but MinMaxScaler was fitted without feature names\n",
      "  warnings.warn(\n",
      "e:\\Python\\Python312\\Lib\\site-packages\\sklearn\\utils\\validation.py:2742: UserWarning: X has feature names, but MinMaxScaler was fitted without feature names\n",
      "  warnings.warn(\n",
      "e:\\Python\\Python312\\Lib\\site-packages\\sklearn\\utils\\validation.py:2742: UserWarning: X has feature names, but MinMaxScaler was fitted without feature names\n",
      "  warnings.warn(\n",
      "e:\\Python\\Python312\\Lib\\site-packages\\sklearn\\utils\\validation.py:2742: UserWarning: X has feature names, but MinMaxScaler was fitted without feature names\n",
      "  warnings.warn(\n",
      "e:\\Python\\Python312\\Lib\\site-packages\\sklearn\\utils\\validation.py:2742: UserWarning: X has feature names, but MinMaxScaler was fitted without feature names\n",
      "  warnings.warn(\n",
      "e:\\Python\\Python312\\Lib\\site-packages\\sklearn\\utils\\validation.py:2742: UserWarning: X has feature names, but MinMaxScaler was fitted without feature names\n",
      "  warnings.warn(\n",
      "e:\\Python\\Python312\\Lib\\site-packages\\sklearn\\utils\\validation.py:2742: UserWarning: X has feature names, but MinMaxScaler was fitted without feature names\n",
      "  warnings.warn(\n",
      "e:\\Python\\Python312\\Lib\\site-packages\\sklearn\\utils\\validation.py:2742: UserWarning: X has feature names, but MinMaxScaler was fitted without feature names\n",
      "  warnings.warn(\n",
      "e:\\Python\\Python312\\Lib\\site-packages\\sklearn\\utils\\validation.py:2742: UserWarning: X has feature names, but MinMaxScaler was fitted without feature names\n",
      "  warnings.warn(\n",
      "e:\\Python\\Python312\\Lib\\site-packages\\sklearn\\utils\\validation.py:2742: UserWarning: X has feature names, but MinMaxScaler was fitted without feature names\n",
      "  warnings.warn(\n",
      "e:\\Python\\Python312\\Lib\\site-packages\\sklearn\\utils\\validation.py:2742: UserWarning: X has feature names, but MinMaxScaler was fitted without feature names\n",
      "  warnings.warn(\n",
      "e:\\Python\\Python312\\Lib\\site-packages\\sklearn\\utils\\validation.py:2742: UserWarning: X has feature names, but MinMaxScaler was fitted without feature names\n",
      "  warnings.warn(\n",
      "e:\\Python\\Python312\\Lib\\site-packages\\sklearn\\utils\\validation.py:2742: UserWarning: X has feature names, but MinMaxScaler was fitted without feature names\n",
      "  warnings.warn(\n",
      "e:\\Python\\Python312\\Lib\\site-packages\\sklearn\\utils\\validation.py:2742: UserWarning: X has feature names, but MinMaxScaler was fitted without feature names\n",
      "  warnings.warn(\n",
      "e:\\Python\\Python312\\Lib\\site-packages\\sklearn\\utils\\validation.py:2742: UserWarning: X has feature names, but MinMaxScaler was fitted without feature names\n",
      "  warnings.warn(\n",
      "e:\\Python\\Python312\\Lib\\site-packages\\sklearn\\utils\\validation.py:2742: UserWarning: X has feature names, but MinMaxScaler was fitted without feature names\n",
      "  warnings.warn(\n",
      "e:\\Python\\Python312\\Lib\\site-packages\\sklearn\\utils\\validation.py:2742: UserWarning: X has feature names, but MinMaxScaler was fitted without feature names\n",
      "  warnings.warn(\n",
      "e:\\Python\\Python312\\Lib\\site-packages\\sklearn\\utils\\validation.py:2742: UserWarning: X has feature names, but MinMaxScaler was fitted without feature names\n",
      "  warnings.warn(\n",
      "e:\\Python\\Python312\\Lib\\site-packages\\sklearn\\utils\\validation.py:2742: UserWarning: X has feature names, but MinMaxScaler was fitted without feature names\n",
      "  warnings.warn(\n",
      "e:\\Python\\Python312\\Lib\\site-packages\\sklearn\\utils\\validation.py:2742: UserWarning: X has feature names, but MinMaxScaler was fitted without feature names\n",
      "  warnings.warn(\n",
      "e:\\Python\\Python312\\Lib\\site-packages\\sklearn\\utils\\validation.py:2742: UserWarning: X has feature names, but MinMaxScaler was fitted without feature names\n",
      "  warnings.warn(\n",
      "e:\\Python\\Python312\\Lib\\site-packages\\sklearn\\utils\\validation.py:2742: UserWarning: X has feature names, but MinMaxScaler was fitted without feature names\n",
      "  warnings.warn(\n",
      "e:\\Python\\Python312\\Lib\\site-packages\\sklearn\\utils\\validation.py:2742: UserWarning: X has feature names, but MinMaxScaler was fitted without feature names\n",
      "  warnings.warn(\n",
      "e:\\Python\\Python312\\Lib\\site-packages\\sklearn\\utils\\validation.py:2742: UserWarning: X has feature names, but MinMaxScaler was fitted without feature names\n",
      "  warnings.warn(\n",
      "e:\\Python\\Python312\\Lib\\site-packages\\sklearn\\utils\\validation.py:2742: UserWarning: X has feature names, but MinMaxScaler was fitted without feature names\n",
      "  warnings.warn(\n",
      "e:\\Python\\Python312\\Lib\\site-packages\\sklearn\\utils\\validation.py:2742: UserWarning: X has feature names, but MinMaxScaler was fitted without feature names\n",
      "  warnings.warn(\n",
      "e:\\Python\\Python312\\Lib\\site-packages\\sklearn\\utils\\validation.py:2742: UserWarning: X has feature names, but MinMaxScaler was fitted without feature names\n",
      "  warnings.warn(\n",
      "e:\\Python\\Python312\\Lib\\site-packages\\sklearn\\utils\\validation.py:2742: UserWarning: X has feature names, but MinMaxScaler was fitted without feature names\n",
      "  warnings.warn(\n",
      "e:\\Python\\Python312\\Lib\\site-packages\\sklearn\\utils\\validation.py:2742: UserWarning: X has feature names, but MinMaxScaler was fitted without feature names\n",
      "  warnings.warn(\n",
      "e:\\Python\\Python312\\Lib\\site-packages\\sklearn\\utils\\validation.py:2742: UserWarning: X has feature names, but MinMaxScaler was fitted without feature names\n",
      "  warnings.warn(\n",
      "e:\\Python\\Python312\\Lib\\site-packages\\sklearn\\utils\\validation.py:2742: UserWarning: X has feature names, but MinMaxScaler was fitted without feature names\n",
      "  warnings.warn(\n",
      "e:\\Python\\Python312\\Lib\\site-packages\\sklearn\\utils\\validation.py:2742: UserWarning: X has feature names, but MinMaxScaler was fitted without feature names\n",
      "  warnings.warn(\n",
      "e:\\Python\\Python312\\Lib\\site-packages\\sklearn\\utils\\validation.py:2742: UserWarning: X has feature names, but MinMaxScaler was fitted without feature names\n",
      "  warnings.warn(\n",
      "e:\\Python\\Python312\\Lib\\site-packages\\sklearn\\utils\\validation.py:2742: UserWarning: X has feature names, but MinMaxScaler was fitted without feature names\n",
      "  warnings.warn(\n",
      "e:\\Python\\Python312\\Lib\\site-packages\\sklearn\\utils\\validation.py:2742: UserWarning: X has feature names, but MinMaxScaler was fitted without feature names\n",
      "  warnings.warn(\n",
      "e:\\Python\\Python312\\Lib\\site-packages\\sklearn\\utils\\validation.py:2742: UserWarning: X has feature names, but MinMaxScaler was fitted without feature names\n",
      "  warnings.warn(\n",
      "e:\\Python\\Python312\\Lib\\site-packages\\sklearn\\utils\\validation.py:2742: UserWarning: X has feature names, but MinMaxScaler was fitted without feature names\n",
      "  warnings.warn(\n",
      "e:\\Python\\Python312\\Lib\\site-packages\\sklearn\\utils\\validation.py:2742: UserWarning: X has feature names, but MinMaxScaler was fitted without feature names\n",
      "  warnings.warn(\n",
      "e:\\Python\\Python312\\Lib\\site-packages\\sklearn\\utils\\validation.py:2742: UserWarning: X has feature names, but MinMaxScaler was fitted without feature names\n",
      "  warnings.warn(\n",
      "e:\\Python\\Python312\\Lib\\site-packages\\sklearn\\utils\\validation.py:2742: UserWarning: X has feature names, but MinMaxScaler was fitted without feature names\n",
      "  warnings.warn(\n",
      "e:\\Python\\Python312\\Lib\\site-packages\\sklearn\\utils\\validation.py:2742: UserWarning: X has feature names, but MinMaxScaler was fitted without feature names\n",
      "  warnings.warn(\n",
      "e:\\Python\\Python312\\Lib\\site-packages\\sklearn\\utils\\validation.py:2742: UserWarning: X has feature names, but MinMaxScaler was fitted without feature names\n",
      "  warnings.warn(\n",
      "e:\\Python\\Python312\\Lib\\site-packages\\sklearn\\utils\\validation.py:2742: UserWarning: X has feature names, but MinMaxScaler was fitted without feature names\n",
      "  warnings.warn(\n",
      "e:\\Python\\Python312\\Lib\\site-packages\\sklearn\\utils\\validation.py:2742: UserWarning: X has feature names, but MinMaxScaler was fitted without feature names\n",
      "  warnings.warn(\n",
      "e:\\Python\\Python312\\Lib\\site-packages\\sklearn\\utils\\validation.py:2742: UserWarning: X has feature names, but MinMaxScaler was fitted without feature names\n",
      "  warnings.warn(\n",
      "e:\\Python\\Python312\\Lib\\site-packages\\sklearn\\utils\\validation.py:2742: UserWarning: X has feature names, but MinMaxScaler was fitted without feature names\n",
      "  warnings.warn(\n",
      "e:\\Python\\Python312\\Lib\\site-packages\\sklearn\\utils\\validation.py:2742: UserWarning: X has feature names, but MinMaxScaler was fitted without feature names\n",
      "  warnings.warn(\n",
      "e:\\Python\\Python312\\Lib\\site-packages\\sklearn\\utils\\validation.py:2742: UserWarning: X has feature names, but MinMaxScaler was fitted without feature names\n",
      "  warnings.warn(\n",
      "e:\\Python\\Python312\\Lib\\site-packages\\sklearn\\utils\\validation.py:2742: UserWarning: X has feature names, but MinMaxScaler was fitted without feature names\n",
      "  warnings.warn(\n",
      "e:\\Python\\Python312\\Lib\\site-packages\\sklearn\\utils\\validation.py:2742: UserWarning: X has feature names, but MinMaxScaler was fitted without feature names\n",
      "  warnings.warn(\n",
      "e:\\Python\\Python312\\Lib\\site-packages\\sklearn\\utils\\validation.py:2742: UserWarning: X has feature names, but MinMaxScaler was fitted without feature names\n",
      "  warnings.warn(\n",
      "e:\\Python\\Python312\\Lib\\site-packages\\sklearn\\utils\\validation.py:2742: UserWarning: X has feature names, but MinMaxScaler was fitted without feature names\n",
      "  warnings.warn(\n",
      "e:\\Python\\Python312\\Lib\\site-packages\\sklearn\\utils\\validation.py:2742: UserWarning: X has feature names, but MinMaxScaler was fitted without feature names\n",
      "  warnings.warn(\n",
      "e:\\Python\\Python312\\Lib\\site-packages\\sklearn\\utils\\validation.py:2742: UserWarning: X has feature names, but MinMaxScaler was fitted without feature names\n",
      "  warnings.warn(\n",
      "e:\\Python\\Python312\\Lib\\site-packages\\sklearn\\utils\\validation.py:2742: UserWarning: X has feature names, but MinMaxScaler was fitted without feature names\n",
      "  warnings.warn(\n",
      "e:\\Python\\Python312\\Lib\\site-packages\\sklearn\\utils\\validation.py:2742: UserWarning: X has feature names, but MinMaxScaler was fitted without feature names\n",
      "  warnings.warn(\n",
      "e:\\Python\\Python312\\Lib\\site-packages\\sklearn\\utils\\validation.py:2742: UserWarning: X has feature names, but MinMaxScaler was fitted without feature names\n",
      "  warnings.warn(\n",
      "e:\\Python\\Python312\\Lib\\site-packages\\sklearn\\utils\\validation.py:2742: UserWarning: X has feature names, but MinMaxScaler was fitted without feature names\n",
      "  warnings.warn(\n",
      "e:\\Python\\Python312\\Lib\\site-packages\\sklearn\\utils\\validation.py:2742: UserWarning: X has feature names, but MinMaxScaler was fitted without feature names\n",
      "  warnings.warn(\n",
      "e:\\Python\\Python312\\Lib\\site-packages\\sklearn\\utils\\validation.py:2742: UserWarning: X has feature names, but MinMaxScaler was fitted without feature names\n",
      "  warnings.warn(\n",
      "e:\\Python\\Python312\\Lib\\site-packages\\sklearn\\utils\\validation.py:2742: UserWarning: X has feature names, but MinMaxScaler was fitted without feature names\n",
      "  warnings.warn(\n",
      "e:\\Python\\Python312\\Lib\\site-packages\\sklearn\\utils\\validation.py:2742: UserWarning: X has feature names, but MinMaxScaler was fitted without feature names\n",
      "  warnings.warn(\n",
      "e:\\Python\\Python312\\Lib\\site-packages\\sklearn\\utils\\validation.py:2742: UserWarning: X has feature names, but MinMaxScaler was fitted without feature names\n",
      "  warnings.warn(\n",
      "e:\\Python\\Python312\\Lib\\site-packages\\sklearn\\utils\\validation.py:2742: UserWarning: X has feature names, but MinMaxScaler was fitted without feature names\n",
      "  warnings.warn(\n",
      "e:\\Python\\Python312\\Lib\\site-packages\\sklearn\\utils\\validation.py:2742: UserWarning: X has feature names, but MinMaxScaler was fitted without feature names\n",
      "  warnings.warn(\n",
      "e:\\Python\\Python312\\Lib\\site-packages\\sklearn\\utils\\validation.py:2742: UserWarning: X has feature names, but MinMaxScaler was fitted without feature names\n",
      "  warnings.warn(\n",
      "e:\\Python\\Python312\\Lib\\site-packages\\sklearn\\utils\\validation.py:2742: UserWarning: X has feature names, but MinMaxScaler was fitted without feature names\n",
      "  warnings.warn(\n",
      "e:\\Python\\Python312\\Lib\\site-packages\\sklearn\\utils\\validation.py:2742: UserWarning: X has feature names, but MinMaxScaler was fitted without feature names\n",
      "  warnings.warn(\n",
      "e:\\Python\\Python312\\Lib\\site-packages\\sklearn\\utils\\validation.py:2742: UserWarning: X has feature names, but MinMaxScaler was fitted without feature names\n",
      "  warnings.warn(\n",
      "e:\\Python\\Python312\\Lib\\site-packages\\sklearn\\utils\\validation.py:2742: UserWarning: X has feature names, but MinMaxScaler was fitted without feature names\n",
      "  warnings.warn(\n",
      "e:\\Python\\Python312\\Lib\\site-packages\\sklearn\\utils\\validation.py:2742: UserWarning: X has feature names, but MinMaxScaler was fitted without feature names\n",
      "  warnings.warn(\n",
      "e:\\Python\\Python312\\Lib\\site-packages\\sklearn\\utils\\validation.py:2742: UserWarning: X has feature names, but MinMaxScaler was fitted without feature names\n",
      "  warnings.warn(\n",
      "e:\\Python\\Python312\\Lib\\site-packages\\sklearn\\utils\\validation.py:2742: UserWarning: X has feature names, but MinMaxScaler was fitted without feature names\n",
      "  warnings.warn(\n",
      "e:\\Python\\Python312\\Lib\\site-packages\\sklearn\\utils\\validation.py:2742: UserWarning: X has feature names, but MinMaxScaler was fitted without feature names\n",
      "  warnings.warn(\n",
      "e:\\Python\\Python312\\Lib\\site-packages\\sklearn\\utils\\validation.py:2742: UserWarning: X has feature names, but MinMaxScaler was fitted without feature names\n",
      "  warnings.warn(\n",
      "e:\\Python\\Python312\\Lib\\site-packages\\sklearn\\utils\\validation.py:2742: UserWarning: X has feature names, but MinMaxScaler was fitted without feature names\n",
      "  warnings.warn(\n",
      "e:\\Python\\Python312\\Lib\\site-packages\\sklearn\\utils\\validation.py:2742: UserWarning: X has feature names, but MinMaxScaler was fitted without feature names\n",
      "  warnings.warn(\n",
      "e:\\Python\\Python312\\Lib\\site-packages\\sklearn\\utils\\validation.py:2742: UserWarning: X has feature names, but MinMaxScaler was fitted without feature names\n",
      "  warnings.warn(\n",
      "e:\\Python\\Python312\\Lib\\site-packages\\sklearn\\utils\\validation.py:2742: UserWarning: X has feature names, but MinMaxScaler was fitted without feature names\n",
      "  warnings.warn(\n",
      "e:\\Python\\Python312\\Lib\\site-packages\\sklearn\\utils\\validation.py:2742: UserWarning: X has feature names, but MinMaxScaler was fitted without feature names\n",
      "  warnings.warn(\n",
      "e:\\Python\\Python312\\Lib\\site-packages\\sklearn\\utils\\validation.py:2742: UserWarning: X has feature names, but MinMaxScaler was fitted without feature names\n",
      "  warnings.warn(\n",
      "e:\\Python\\Python312\\Lib\\site-packages\\sklearn\\utils\\validation.py:2742: UserWarning: X has feature names, but MinMaxScaler was fitted without feature names\n",
      "  warnings.warn(\n",
      "e:\\Python\\Python312\\Lib\\site-packages\\sklearn\\utils\\validation.py:2742: UserWarning: X has feature names, but MinMaxScaler was fitted without feature names\n",
      "  warnings.warn(\n",
      "e:\\Python\\Python312\\Lib\\site-packages\\sklearn\\utils\\validation.py:2742: UserWarning: X has feature names, but MinMaxScaler was fitted without feature names\n",
      "  warnings.warn(\n",
      "e:\\Python\\Python312\\Lib\\site-packages\\sklearn\\utils\\validation.py:2742: UserWarning: X has feature names, but MinMaxScaler was fitted without feature names\n",
      "  warnings.warn(\n",
      "e:\\Python\\Python312\\Lib\\site-packages\\sklearn\\utils\\validation.py:2742: UserWarning: X has feature names, but MinMaxScaler was fitted without feature names\n",
      "  warnings.warn(\n",
      "e:\\Python\\Python312\\Lib\\site-packages\\sklearn\\utils\\validation.py:2742: UserWarning: X has feature names, but MinMaxScaler was fitted without feature names\n",
      "  warnings.warn(\n",
      "e:\\Python\\Python312\\Lib\\site-packages\\sklearn\\utils\\validation.py:2742: UserWarning: X has feature names, but MinMaxScaler was fitted without feature names\n",
      "  warnings.warn(\n",
      "e:\\Python\\Python312\\Lib\\site-packages\\sklearn\\utils\\validation.py:2742: UserWarning: X has feature names, but MinMaxScaler was fitted without feature names\n",
      "  warnings.warn(\n",
      "e:\\Python\\Python312\\Lib\\site-packages\\sklearn\\utils\\validation.py:2742: UserWarning: X has feature names, but MinMaxScaler was fitted without feature names\n",
      "  warnings.warn(\n",
      "e:\\Python\\Python312\\Lib\\site-packages\\sklearn\\utils\\validation.py:2742: UserWarning: X has feature names, but MinMaxScaler was fitted without feature names\n",
      "  warnings.warn(\n",
      "e:\\Python\\Python312\\Lib\\site-packages\\sklearn\\utils\\validation.py:2742: UserWarning: X has feature names, but MinMaxScaler was fitted without feature names\n",
      "  warnings.warn(\n",
      "e:\\Python\\Python312\\Lib\\site-packages\\sklearn\\utils\\validation.py:2742: UserWarning: X has feature names, but MinMaxScaler was fitted without feature names\n",
      "  warnings.warn(\n",
      "e:\\Python\\Python312\\Lib\\site-packages\\sklearn\\utils\\validation.py:2742: UserWarning: X has feature names, but MinMaxScaler was fitted without feature names\n",
      "  warnings.warn(\n",
      "e:\\Python\\Python312\\Lib\\site-packages\\sklearn\\utils\\validation.py:2742: UserWarning: X has feature names, but MinMaxScaler was fitted without feature names\n",
      "  warnings.warn(\n",
      "e:\\Python\\Python312\\Lib\\site-packages\\sklearn\\utils\\validation.py:2742: UserWarning: X has feature names, but MinMaxScaler was fitted without feature names\n",
      "  warnings.warn(\n",
      "e:\\Python\\Python312\\Lib\\site-packages\\sklearn\\utils\\validation.py:2742: UserWarning: X has feature names, but MinMaxScaler was fitted without feature names\n",
      "  warnings.warn(\n",
      "e:\\Python\\Python312\\Lib\\site-packages\\sklearn\\utils\\validation.py:2742: UserWarning: X has feature names, but MinMaxScaler was fitted without feature names\n",
      "  warnings.warn(\n",
      "e:\\Python\\Python312\\Lib\\site-packages\\sklearn\\utils\\validation.py:2742: UserWarning: X has feature names, but MinMaxScaler was fitted without feature names\n",
      "  warnings.warn(\n",
      "e:\\Python\\Python312\\Lib\\site-packages\\sklearn\\utils\\validation.py:2742: UserWarning: X has feature names, but MinMaxScaler was fitted without feature names\n",
      "  warnings.warn(\n",
      "e:\\Python\\Python312\\Lib\\site-packages\\sklearn\\utils\\validation.py:2742: UserWarning: X has feature names, but MinMaxScaler was fitted without feature names\n",
      "  warnings.warn(\n",
      "e:\\Python\\Python312\\Lib\\site-packages\\sklearn\\utils\\validation.py:2742: UserWarning: X has feature names, but MinMaxScaler was fitted without feature names\n",
      "  warnings.warn(\n",
      "e:\\Python\\Python312\\Lib\\site-packages\\sklearn\\utils\\validation.py:2742: UserWarning: X has feature names, but MinMaxScaler was fitted without feature names\n",
      "  warnings.warn(\n",
      "e:\\Python\\Python312\\Lib\\site-packages\\sklearn\\utils\\validation.py:2742: UserWarning: X has feature names, but MinMaxScaler was fitted without feature names\n",
      "  warnings.warn(\n",
      "e:\\Python\\Python312\\Lib\\site-packages\\sklearn\\utils\\validation.py:2742: UserWarning: X has feature names, but MinMaxScaler was fitted without feature names\n",
      "  warnings.warn(\n",
      "e:\\Python\\Python312\\Lib\\site-packages\\sklearn\\utils\\validation.py:2742: UserWarning: X has feature names, but MinMaxScaler was fitted without feature names\n",
      "  warnings.warn(\n",
      "e:\\Python\\Python312\\Lib\\site-packages\\sklearn\\utils\\validation.py:2742: UserWarning: X has feature names, but MinMaxScaler was fitted without feature names\n",
      "  warnings.warn(\n",
      "e:\\Python\\Python312\\Lib\\site-packages\\sklearn\\utils\\validation.py:2742: UserWarning: X has feature names, but MinMaxScaler was fitted without feature names\n",
      "  warnings.warn(\n",
      "e:\\Python\\Python312\\Lib\\site-packages\\sklearn\\utils\\validation.py:2742: UserWarning: X has feature names, but MinMaxScaler was fitted without feature names\n",
      "  warnings.warn(\n",
      "e:\\Python\\Python312\\Lib\\site-packages\\sklearn\\utils\\validation.py:2742: UserWarning: X has feature names, but MinMaxScaler was fitted without feature names\n",
      "  warnings.warn(\n",
      "e:\\Python\\Python312\\Lib\\site-packages\\sklearn\\utils\\validation.py:2742: UserWarning: X has feature names, but MinMaxScaler was fitted without feature names\n",
      "  warnings.warn(\n",
      "e:\\Python\\Python312\\Lib\\site-packages\\sklearn\\utils\\validation.py:2742: UserWarning: X has feature names, but MinMaxScaler was fitted without feature names\n",
      "  warnings.warn(\n",
      "e:\\Python\\Python312\\Lib\\site-packages\\sklearn\\utils\\validation.py:2742: UserWarning: X has feature names, but MinMaxScaler was fitted without feature names\n",
      "  warnings.warn(\n",
      "e:\\Python\\Python312\\Lib\\site-packages\\sklearn\\utils\\validation.py:2742: UserWarning: X has feature names, but MinMaxScaler was fitted without feature names\n",
      "  warnings.warn(\n",
      "e:\\Python\\Python312\\Lib\\site-packages\\sklearn\\utils\\validation.py:2742: UserWarning: X has feature names, but MinMaxScaler was fitted without feature names\n",
      "  warnings.warn(\n",
      "e:\\Python\\Python312\\Lib\\site-packages\\sklearn\\utils\\validation.py:2742: UserWarning: X has feature names, but MinMaxScaler was fitted without feature names\n",
      "  warnings.warn(\n",
      "e:\\Python\\Python312\\Lib\\site-packages\\sklearn\\utils\\validation.py:2742: UserWarning: X has feature names, but MinMaxScaler was fitted without feature names\n",
      "  warnings.warn(\n",
      "e:\\Python\\Python312\\Lib\\site-packages\\sklearn\\utils\\validation.py:2742: UserWarning: X has feature names, but MinMaxScaler was fitted without feature names\n",
      "  warnings.warn(\n",
      "e:\\Python\\Python312\\Lib\\site-packages\\sklearn\\utils\\validation.py:2742: UserWarning: X has feature names, but MinMaxScaler was fitted without feature names\n",
      "  warnings.warn(\n",
      "e:\\Python\\Python312\\Lib\\site-packages\\sklearn\\utils\\validation.py:2742: UserWarning: X has feature names, but MinMaxScaler was fitted without feature names\n",
      "  warnings.warn(\n",
      "e:\\Python\\Python312\\Lib\\site-packages\\sklearn\\utils\\validation.py:2742: UserWarning: X has feature names, but MinMaxScaler was fitted without feature names\n",
      "  warnings.warn(\n",
      "e:\\Python\\Python312\\Lib\\site-packages\\sklearn\\utils\\validation.py:2742: UserWarning: X has feature names, but MinMaxScaler was fitted without feature names\n",
      "  warnings.warn(\n",
      "e:\\Python\\Python312\\Lib\\site-packages\\sklearn\\utils\\validation.py:2742: UserWarning: X has feature names, but MinMaxScaler was fitted without feature names\n",
      "  warnings.warn(\n",
      "e:\\Python\\Python312\\Lib\\site-packages\\sklearn\\utils\\validation.py:2742: UserWarning: X has feature names, but MinMaxScaler was fitted without feature names\n",
      "  warnings.warn(\n",
      "e:\\Python\\Python312\\Lib\\site-packages\\sklearn\\utils\\validation.py:2742: UserWarning: X has feature names, but MinMaxScaler was fitted without feature names\n",
      "  warnings.warn(\n",
      "e:\\Python\\Python312\\Lib\\site-packages\\sklearn\\utils\\validation.py:2742: UserWarning: X has feature names, but MinMaxScaler was fitted without feature names\n",
      "  warnings.warn(\n",
      "e:\\Python\\Python312\\Lib\\site-packages\\sklearn\\utils\\validation.py:2742: UserWarning: X has feature names, but MinMaxScaler was fitted without feature names\n",
      "  warnings.warn(\n",
      "e:\\Python\\Python312\\Lib\\site-packages\\sklearn\\utils\\validation.py:2742: UserWarning: X has feature names, but MinMaxScaler was fitted without feature names\n",
      "  warnings.warn(\n",
      "e:\\Python\\Python312\\Lib\\site-packages\\sklearn\\utils\\validation.py:2742: UserWarning: X has feature names, but MinMaxScaler was fitted without feature names\n",
      "  warnings.warn(\n",
      "e:\\Python\\Python312\\Lib\\site-packages\\sklearn\\utils\\validation.py:2742: UserWarning: X has feature names, but MinMaxScaler was fitted without feature names\n",
      "  warnings.warn(\n",
      "e:\\Python\\Python312\\Lib\\site-packages\\sklearn\\utils\\validation.py:2742: UserWarning: X has feature names, but MinMaxScaler was fitted without feature names\n",
      "  warnings.warn(\n",
      "e:\\Python\\Python312\\Lib\\site-packages\\sklearn\\utils\\validation.py:2742: UserWarning: X has feature names, but MinMaxScaler was fitted without feature names\n",
      "  warnings.warn(\n",
      "e:\\Python\\Python312\\Lib\\site-packages\\sklearn\\utils\\validation.py:2742: UserWarning: X has feature names, but MinMaxScaler was fitted without feature names\n",
      "  warnings.warn(\n",
      "e:\\Python\\Python312\\Lib\\site-packages\\sklearn\\utils\\validation.py:2742: UserWarning: X has feature names, but MinMaxScaler was fitted without feature names\n",
      "  warnings.warn(\n",
      "e:\\Python\\Python312\\Lib\\site-packages\\sklearn\\utils\\validation.py:2742: UserWarning: X has feature names, but MinMaxScaler was fitted without feature names\n",
      "  warnings.warn(\n",
      "e:\\Python\\Python312\\Lib\\site-packages\\sklearn\\utils\\validation.py:2742: UserWarning: X has feature names, but MinMaxScaler was fitted without feature names\n",
      "  warnings.warn(\n",
      "e:\\Python\\Python312\\Lib\\site-packages\\sklearn\\utils\\validation.py:2742: UserWarning: X has feature names, but MinMaxScaler was fitted without feature names\n",
      "  warnings.warn(\n",
      "e:\\Python\\Python312\\Lib\\site-packages\\sklearn\\utils\\validation.py:2742: UserWarning: X has feature names, but MinMaxScaler was fitted without feature names\n",
      "  warnings.warn(\n",
      "e:\\Python\\Python312\\Lib\\site-packages\\sklearn\\utils\\validation.py:2742: UserWarning: X has feature names, but MinMaxScaler was fitted without feature names\n",
      "  warnings.warn(\n",
      "e:\\Python\\Python312\\Lib\\site-packages\\sklearn\\utils\\validation.py:2742: UserWarning: X has feature names, but MinMaxScaler was fitted without feature names\n",
      "  warnings.warn(\n",
      "e:\\Python\\Python312\\Lib\\site-packages\\sklearn\\utils\\validation.py:2742: UserWarning: X has feature names, but MinMaxScaler was fitted without feature names\n",
      "  warnings.warn(\n",
      "e:\\Python\\Python312\\Lib\\site-packages\\sklearn\\utils\\validation.py:2742: UserWarning: X has feature names, but MinMaxScaler was fitted without feature names\n",
      "  warnings.warn(\n",
      "e:\\Python\\Python312\\Lib\\site-packages\\sklearn\\utils\\validation.py:2742: UserWarning: X has feature names, but MinMaxScaler was fitted without feature names\n",
      "  warnings.warn(\n",
      "e:\\Python\\Python312\\Lib\\site-packages\\sklearn\\utils\\validation.py:2742: UserWarning: X has feature names, but MinMaxScaler was fitted without feature names\n",
      "  warnings.warn(\n",
      "e:\\Python\\Python312\\Lib\\site-packages\\sklearn\\utils\\validation.py:2742: UserWarning: X has feature names, but MinMaxScaler was fitted without feature names\n",
      "  warnings.warn(\n",
      "e:\\Python\\Python312\\Lib\\site-packages\\sklearn\\utils\\validation.py:2742: UserWarning: X has feature names, but MinMaxScaler was fitted without feature names\n",
      "  warnings.warn(\n",
      "e:\\Python\\Python312\\Lib\\site-packages\\sklearn\\utils\\validation.py:2742: UserWarning: X has feature names, but MinMaxScaler was fitted without feature names\n",
      "  warnings.warn(\n",
      "e:\\Python\\Python312\\Lib\\site-packages\\sklearn\\utils\\validation.py:2742: UserWarning: X has feature names, but MinMaxScaler was fitted without feature names\n",
      "  warnings.warn(\n",
      "e:\\Python\\Python312\\Lib\\site-packages\\sklearn\\utils\\validation.py:2742: UserWarning: X has feature names, but MinMaxScaler was fitted without feature names\n",
      "  warnings.warn(\n",
      "e:\\Python\\Python312\\Lib\\site-packages\\sklearn\\utils\\validation.py:2742: UserWarning: X has feature names, but MinMaxScaler was fitted without feature names\n",
      "  warnings.warn(\n",
      "e:\\Python\\Python312\\Lib\\site-packages\\sklearn\\utils\\validation.py:2742: UserWarning: X has feature names, but MinMaxScaler was fitted without feature names\n",
      "  warnings.warn(\n",
      "e:\\Python\\Python312\\Lib\\site-packages\\sklearn\\utils\\validation.py:2742: UserWarning: X has feature names, but MinMaxScaler was fitted without feature names\n",
      "  warnings.warn(\n",
      "e:\\Python\\Python312\\Lib\\site-packages\\sklearn\\utils\\validation.py:2742: UserWarning: X has feature names, but MinMaxScaler was fitted without feature names\n",
      "  warnings.warn(\n",
      "e:\\Python\\Python312\\Lib\\site-packages\\sklearn\\utils\\validation.py:2742: UserWarning: X has feature names, but MinMaxScaler was fitted without feature names\n",
      "  warnings.warn(\n",
      "e:\\Python\\Python312\\Lib\\site-packages\\sklearn\\utils\\validation.py:2742: UserWarning: X has feature names, but MinMaxScaler was fitted without feature names\n",
      "  warnings.warn(\n",
      "e:\\Python\\Python312\\Lib\\site-packages\\sklearn\\utils\\validation.py:2742: UserWarning: X has feature names, but MinMaxScaler was fitted without feature names\n",
      "  warnings.warn(\n",
      "e:\\Python\\Python312\\Lib\\site-packages\\sklearn\\utils\\validation.py:2742: UserWarning: X has feature names, but MinMaxScaler was fitted without feature names\n",
      "  warnings.warn(\n",
      "e:\\Python\\Python312\\Lib\\site-packages\\sklearn\\utils\\validation.py:2742: UserWarning: X has feature names, but MinMaxScaler was fitted without feature names\n",
      "  warnings.warn(\n",
      "e:\\Python\\Python312\\Lib\\site-packages\\sklearn\\utils\\validation.py:2742: UserWarning: X has feature names, but MinMaxScaler was fitted without feature names\n",
      "  warnings.warn(\n",
      "e:\\Python\\Python312\\Lib\\site-packages\\sklearn\\utils\\validation.py:2742: UserWarning: X has feature names, but MinMaxScaler was fitted without feature names\n",
      "  warnings.warn(\n",
      "e:\\Python\\Python312\\Lib\\site-packages\\sklearn\\utils\\validation.py:2742: UserWarning: X has feature names, but MinMaxScaler was fitted without feature names\n",
      "  warnings.warn(\n",
      "e:\\Python\\Python312\\Lib\\site-packages\\sklearn\\utils\\validation.py:2742: UserWarning: X has feature names, but MinMaxScaler was fitted without feature names\n",
      "  warnings.warn(\n",
      "e:\\Python\\Python312\\Lib\\site-packages\\sklearn\\utils\\validation.py:2742: UserWarning: X has feature names, but MinMaxScaler was fitted without feature names\n",
      "  warnings.warn(\n",
      "e:\\Python\\Python312\\Lib\\site-packages\\sklearn\\utils\\validation.py:2742: UserWarning: X has feature names, but MinMaxScaler was fitted without feature names\n",
      "  warnings.warn(\n",
      "e:\\Python\\Python312\\Lib\\site-packages\\sklearn\\utils\\validation.py:2742: UserWarning: X has feature names, but MinMaxScaler was fitted without feature names\n",
      "  warnings.warn(\n",
      "e:\\Python\\Python312\\Lib\\site-packages\\sklearn\\utils\\validation.py:2742: UserWarning: X has feature names, but MinMaxScaler was fitted without feature names\n",
      "  warnings.warn(\n",
      "e:\\Python\\Python312\\Lib\\site-packages\\sklearn\\utils\\validation.py:2742: UserWarning: X has feature names, but MinMaxScaler was fitted without feature names\n",
      "  warnings.warn(\n",
      "e:\\Python\\Python312\\Lib\\site-packages\\sklearn\\utils\\validation.py:2742: UserWarning: X has feature names, but MinMaxScaler was fitted without feature names\n",
      "  warnings.warn(\n",
      "e:\\Python\\Python312\\Lib\\site-packages\\sklearn\\utils\\validation.py:2742: UserWarning: X has feature names, but MinMaxScaler was fitted without feature names\n",
      "  warnings.warn(\n",
      "e:\\Python\\Python312\\Lib\\site-packages\\sklearn\\utils\\validation.py:2742: UserWarning: X has feature names, but MinMaxScaler was fitted without feature names\n",
      "  warnings.warn(\n",
      "e:\\Python\\Python312\\Lib\\site-packages\\sklearn\\utils\\validation.py:2742: UserWarning: X has feature names, but MinMaxScaler was fitted without feature names\n",
      "  warnings.warn(\n",
      "e:\\Python\\Python312\\Lib\\site-packages\\sklearn\\utils\\validation.py:2742: UserWarning: X has feature names, but MinMaxScaler was fitted without feature names\n",
      "  warnings.warn(\n",
      "e:\\Python\\Python312\\Lib\\site-packages\\sklearn\\utils\\validation.py:2742: UserWarning: X has feature names, but MinMaxScaler was fitted without feature names\n",
      "  warnings.warn(\n",
      "e:\\Python\\Python312\\Lib\\site-packages\\sklearn\\utils\\validation.py:2742: UserWarning: X has feature names, but MinMaxScaler was fitted without feature names\n",
      "  warnings.warn(\n",
      "e:\\Python\\Python312\\Lib\\site-packages\\sklearn\\utils\\validation.py:2742: UserWarning: X has feature names, but MinMaxScaler was fitted without feature names\n",
      "  warnings.warn(\n",
      "e:\\Python\\Python312\\Lib\\site-packages\\sklearn\\utils\\validation.py:2742: UserWarning: X has feature names, but MinMaxScaler was fitted without feature names\n",
      "  warnings.warn(\n",
      "e:\\Python\\Python312\\Lib\\site-packages\\sklearn\\utils\\validation.py:2742: UserWarning: X has feature names, but MinMaxScaler was fitted without feature names\n",
      "  warnings.warn(\n",
      "e:\\Python\\Python312\\Lib\\site-packages\\sklearn\\utils\\validation.py:2742: UserWarning: X has feature names, but MinMaxScaler was fitted without feature names\n",
      "  warnings.warn(\n",
      "e:\\Python\\Python312\\Lib\\site-packages\\sklearn\\utils\\validation.py:2742: UserWarning: X has feature names, but MinMaxScaler was fitted without feature names\n",
      "  warnings.warn(\n",
      "e:\\Python\\Python312\\Lib\\site-packages\\sklearn\\utils\\validation.py:2742: UserWarning: X has feature names, but MinMaxScaler was fitted without feature names\n",
      "  warnings.warn(\n",
      "e:\\Python\\Python312\\Lib\\site-packages\\sklearn\\utils\\validation.py:2742: UserWarning: X has feature names, but MinMaxScaler was fitted without feature names\n",
      "  warnings.warn(\n",
      "e:\\Python\\Python312\\Lib\\site-packages\\sklearn\\utils\\validation.py:2742: UserWarning: X has feature names, but MinMaxScaler was fitted without feature names\n",
      "  warnings.warn(\n",
      "e:\\Python\\Python312\\Lib\\site-packages\\sklearn\\utils\\validation.py:2742: UserWarning: X has feature names, but MinMaxScaler was fitted without feature names\n",
      "  warnings.warn(\n",
      "e:\\Python\\Python312\\Lib\\site-packages\\sklearn\\utils\\validation.py:2742: UserWarning: X has feature names, but MinMaxScaler was fitted without feature names\n",
      "  warnings.warn(\n",
      "e:\\Python\\Python312\\Lib\\site-packages\\sklearn\\utils\\validation.py:2742: UserWarning: X has feature names, but MinMaxScaler was fitted without feature names\n",
      "  warnings.warn(\n",
      "e:\\Python\\Python312\\Lib\\site-packages\\sklearn\\utils\\validation.py:2742: UserWarning: X has feature names, but MinMaxScaler was fitted without feature names\n",
      "  warnings.warn(\n",
      "e:\\Python\\Python312\\Lib\\site-packages\\sklearn\\utils\\validation.py:2742: UserWarning: X has feature names, but MinMaxScaler was fitted without feature names\n",
      "  warnings.warn(\n",
      "e:\\Python\\Python312\\Lib\\site-packages\\sklearn\\utils\\validation.py:2742: UserWarning: X has feature names, but MinMaxScaler was fitted without feature names\n",
      "  warnings.warn(\n",
      "e:\\Python\\Python312\\Lib\\site-packages\\sklearn\\utils\\validation.py:2742: UserWarning: X has feature names, but MinMaxScaler was fitted without feature names\n",
      "  warnings.warn(\n",
      "e:\\Python\\Python312\\Lib\\site-packages\\sklearn\\utils\\validation.py:2742: UserWarning: X has feature names, but MinMaxScaler was fitted without feature names\n",
      "  warnings.warn(\n",
      "e:\\Python\\Python312\\Lib\\site-packages\\sklearn\\utils\\validation.py:2742: UserWarning: X has feature names, but MinMaxScaler was fitted without feature names\n",
      "  warnings.warn(\n",
      "e:\\Python\\Python312\\Lib\\site-packages\\sklearn\\utils\\validation.py:2742: UserWarning: X has feature names, but MinMaxScaler was fitted without feature names\n",
      "  warnings.warn(\n",
      "e:\\Python\\Python312\\Lib\\site-packages\\sklearn\\utils\\validation.py:2742: UserWarning: X has feature names, but MinMaxScaler was fitted without feature names\n",
      "  warnings.warn(\n",
      "e:\\Python\\Python312\\Lib\\site-packages\\sklearn\\utils\\validation.py:2742: UserWarning: X has feature names, but MinMaxScaler was fitted without feature names\n",
      "  warnings.warn(\n",
      "e:\\Python\\Python312\\Lib\\site-packages\\sklearn\\utils\\validation.py:2742: UserWarning: X has feature names, but MinMaxScaler was fitted without feature names\n",
      "  warnings.warn(\n",
      "e:\\Python\\Python312\\Lib\\site-packages\\sklearn\\utils\\validation.py:2742: UserWarning: X has feature names, but MinMaxScaler was fitted without feature names\n",
      "  warnings.warn(\n",
      "e:\\Python\\Python312\\Lib\\site-packages\\sklearn\\utils\\validation.py:2742: UserWarning: X has feature names, but MinMaxScaler was fitted without feature names\n",
      "  warnings.warn(\n",
      "e:\\Python\\Python312\\Lib\\site-packages\\sklearn\\utils\\validation.py:2742: UserWarning: X has feature names, but MinMaxScaler was fitted without feature names\n",
      "  warnings.warn(\n",
      "e:\\Python\\Python312\\Lib\\site-packages\\sklearn\\utils\\validation.py:2742: UserWarning: X has feature names, but MinMaxScaler was fitted without feature names\n",
      "  warnings.warn(\n",
      "e:\\Python\\Python312\\Lib\\site-packages\\sklearn\\utils\\validation.py:2742: UserWarning: X has feature names, but MinMaxScaler was fitted without feature names\n",
      "  warnings.warn(\n",
      "e:\\Python\\Python312\\Lib\\site-packages\\sklearn\\utils\\validation.py:2742: UserWarning: X has feature names, but MinMaxScaler was fitted without feature names\n",
      "  warnings.warn(\n",
      "e:\\Python\\Python312\\Lib\\site-packages\\sklearn\\utils\\validation.py:2742: UserWarning: X has feature names, but MinMaxScaler was fitted without feature names\n",
      "  warnings.warn(\n",
      "e:\\Python\\Python312\\Lib\\site-packages\\sklearn\\utils\\validation.py:2742: UserWarning: X has feature names, but MinMaxScaler was fitted without feature names\n",
      "  warnings.warn(\n",
      "e:\\Python\\Python312\\Lib\\site-packages\\sklearn\\utils\\validation.py:2742: UserWarning: X has feature names, but MinMaxScaler was fitted without feature names\n",
      "  warnings.warn(\n",
      "e:\\Python\\Python312\\Lib\\site-packages\\sklearn\\utils\\validation.py:2742: UserWarning: X has feature names, but MinMaxScaler was fitted without feature names\n",
      "  warnings.warn(\n",
      "e:\\Python\\Python312\\Lib\\site-packages\\sklearn\\utils\\validation.py:2742: UserWarning: X has feature names, but MinMaxScaler was fitted without feature names\n",
      "  warnings.warn(\n",
      "e:\\Python\\Python312\\Lib\\site-packages\\sklearn\\utils\\validation.py:2742: UserWarning: X has feature names, but MinMaxScaler was fitted without feature names\n",
      "  warnings.warn(\n",
      "e:\\Python\\Python312\\Lib\\site-packages\\sklearn\\utils\\validation.py:2742: UserWarning: X has feature names, but MinMaxScaler was fitted without feature names\n",
      "  warnings.warn(\n",
      "e:\\Python\\Python312\\Lib\\site-packages\\sklearn\\utils\\validation.py:2742: UserWarning: X has feature names, but MinMaxScaler was fitted without feature names\n",
      "  warnings.warn(\n",
      "e:\\Python\\Python312\\Lib\\site-packages\\sklearn\\utils\\validation.py:2742: UserWarning: X has feature names, but MinMaxScaler was fitted without feature names\n",
      "  warnings.warn(\n",
      "e:\\Python\\Python312\\Lib\\site-packages\\sklearn\\utils\\validation.py:2742: UserWarning: X has feature names, but MinMaxScaler was fitted without feature names\n",
      "  warnings.warn(\n",
      "e:\\Python\\Python312\\Lib\\site-packages\\sklearn\\utils\\validation.py:2742: UserWarning: X has feature names, but MinMaxScaler was fitted without feature names\n",
      "  warnings.warn(\n",
      "e:\\Python\\Python312\\Lib\\site-packages\\sklearn\\utils\\validation.py:2742: UserWarning: X has feature names, but MinMaxScaler was fitted without feature names\n",
      "  warnings.warn(\n",
      "e:\\Python\\Python312\\Lib\\site-packages\\sklearn\\utils\\validation.py:2742: UserWarning: X has feature names, but MinMaxScaler was fitted without feature names\n",
      "  warnings.warn(\n",
      "e:\\Python\\Python312\\Lib\\site-packages\\sklearn\\utils\\validation.py:2742: UserWarning: X has feature names, but MinMaxScaler was fitted without feature names\n",
      "  warnings.warn(\n",
      "e:\\Python\\Python312\\Lib\\site-packages\\sklearn\\utils\\validation.py:2742: UserWarning: X has feature names, but MinMaxScaler was fitted without feature names\n",
      "  warnings.warn(\n",
      "e:\\Python\\Python312\\Lib\\site-packages\\sklearn\\utils\\validation.py:2742: UserWarning: X has feature names, but MinMaxScaler was fitted without feature names\n",
      "  warnings.warn(\n",
      "e:\\Python\\Python312\\Lib\\site-packages\\sklearn\\utils\\validation.py:2742: UserWarning: X has feature names, but MinMaxScaler was fitted without feature names\n",
      "  warnings.warn(\n",
      "e:\\Python\\Python312\\Lib\\site-packages\\sklearn\\utils\\validation.py:2742: UserWarning: X has feature names, but MinMaxScaler was fitted without feature names\n",
      "  warnings.warn(\n",
      "e:\\Python\\Python312\\Lib\\site-packages\\sklearn\\utils\\validation.py:2742: UserWarning: X has feature names, but MinMaxScaler was fitted without feature names\n",
      "  warnings.warn(\n",
      "e:\\Python\\Python312\\Lib\\site-packages\\sklearn\\utils\\validation.py:2742: UserWarning: X has feature names, but MinMaxScaler was fitted without feature names\n",
      "  warnings.warn(\n",
      "e:\\Python\\Python312\\Lib\\site-packages\\sklearn\\utils\\validation.py:2742: UserWarning: X has feature names, but MinMaxScaler was fitted without feature names\n",
      "  warnings.warn(\n",
      "e:\\Python\\Python312\\Lib\\site-packages\\sklearn\\utils\\validation.py:2742: UserWarning: X has feature names, but MinMaxScaler was fitted without feature names\n",
      "  warnings.warn(\n",
      "e:\\Python\\Python312\\Lib\\site-packages\\sklearn\\utils\\validation.py:2742: UserWarning: X has feature names, but MinMaxScaler was fitted without feature names\n",
      "  warnings.warn(\n",
      "e:\\Python\\Python312\\Lib\\site-packages\\sklearn\\utils\\validation.py:2742: UserWarning: X has feature names, but MinMaxScaler was fitted without feature names\n",
      "  warnings.warn(\n",
      "e:\\Python\\Python312\\Lib\\site-packages\\sklearn\\utils\\validation.py:2742: UserWarning: X has feature names, but MinMaxScaler was fitted without feature names\n",
      "  warnings.warn(\n",
      "e:\\Python\\Python312\\Lib\\site-packages\\sklearn\\utils\\validation.py:2742: UserWarning: X has feature names, but MinMaxScaler was fitted without feature names\n",
      "  warnings.warn(\n",
      "e:\\Python\\Python312\\Lib\\site-packages\\sklearn\\utils\\validation.py:2742: UserWarning: X has feature names, but MinMaxScaler was fitted without feature names\n",
      "  warnings.warn(\n",
      "e:\\Python\\Python312\\Lib\\site-packages\\sklearn\\utils\\validation.py:2742: UserWarning: X has feature names, but MinMaxScaler was fitted without feature names\n",
      "  warnings.warn(\n",
      "e:\\Python\\Python312\\Lib\\site-packages\\sklearn\\utils\\validation.py:2742: UserWarning: X has feature names, but MinMaxScaler was fitted without feature names\n",
      "  warnings.warn(\n",
      "e:\\Python\\Python312\\Lib\\site-packages\\sklearn\\utils\\validation.py:2742: UserWarning: X has feature names, but MinMaxScaler was fitted without feature names\n",
      "  warnings.warn(\n",
      "e:\\Python\\Python312\\Lib\\site-packages\\sklearn\\utils\\validation.py:2742: UserWarning: X has feature names, but MinMaxScaler was fitted without feature names\n",
      "  warnings.warn(\n",
      "e:\\Python\\Python312\\Lib\\site-packages\\sklearn\\utils\\validation.py:2742: UserWarning: X has feature names, but MinMaxScaler was fitted without feature names\n",
      "  warnings.warn(\n",
      "e:\\Python\\Python312\\Lib\\site-packages\\sklearn\\utils\\validation.py:2742: UserWarning: X has feature names, but MinMaxScaler was fitted without feature names\n",
      "  warnings.warn(\n",
      "e:\\Python\\Python312\\Lib\\site-packages\\sklearn\\utils\\validation.py:2742: UserWarning: X has feature names, but MinMaxScaler was fitted without feature names\n",
      "  warnings.warn(\n",
      "e:\\Python\\Python312\\Lib\\site-packages\\sklearn\\utils\\validation.py:2742: UserWarning: X has feature names, but MinMaxScaler was fitted without feature names\n",
      "  warnings.warn(\n",
      "e:\\Python\\Python312\\Lib\\site-packages\\sklearn\\utils\\validation.py:2742: UserWarning: X has feature names, but MinMaxScaler was fitted without feature names\n",
      "  warnings.warn(\n",
      "e:\\Python\\Python312\\Lib\\site-packages\\sklearn\\utils\\validation.py:2742: UserWarning: X has feature names, but MinMaxScaler was fitted without feature names\n",
      "  warnings.warn(\n",
      "e:\\Python\\Python312\\Lib\\site-packages\\sklearn\\utils\\validation.py:2742: UserWarning: X has feature names, but MinMaxScaler was fitted without feature names\n",
      "  warnings.warn(\n",
      "e:\\Python\\Python312\\Lib\\site-packages\\sklearn\\utils\\validation.py:2742: UserWarning: X has feature names, but MinMaxScaler was fitted without feature names\n",
      "  warnings.warn(\n",
      "e:\\Python\\Python312\\Lib\\site-packages\\sklearn\\utils\\validation.py:2742: UserWarning: X has feature names, but MinMaxScaler was fitted without feature names\n",
      "  warnings.warn(\n",
      "e:\\Python\\Python312\\Lib\\site-packages\\sklearn\\utils\\validation.py:2742: UserWarning: X has feature names, but MinMaxScaler was fitted without feature names\n",
      "  warnings.warn(\n",
      "e:\\Python\\Python312\\Lib\\site-packages\\sklearn\\utils\\validation.py:2742: UserWarning: X has feature names, but MinMaxScaler was fitted without feature names\n",
      "  warnings.warn(\n",
      "e:\\Python\\Python312\\Lib\\site-packages\\sklearn\\utils\\validation.py:2742: UserWarning: X has feature names, but MinMaxScaler was fitted without feature names\n",
      "  warnings.warn(\n",
      "e:\\Python\\Python312\\Lib\\site-packages\\sklearn\\utils\\validation.py:2742: UserWarning: X has feature names, but MinMaxScaler was fitted without feature names\n",
      "  warnings.warn(\n",
      "e:\\Python\\Python312\\Lib\\site-packages\\sklearn\\utils\\validation.py:2742: UserWarning: X has feature names, but MinMaxScaler was fitted without feature names\n",
      "  warnings.warn(\n",
      "e:\\Python\\Python312\\Lib\\site-packages\\sklearn\\utils\\validation.py:2742: UserWarning: X has feature names, but MinMaxScaler was fitted without feature names\n",
      "  warnings.warn(\n",
      "e:\\Python\\Python312\\Lib\\site-packages\\sklearn\\utils\\validation.py:2742: UserWarning: X has feature names, but MinMaxScaler was fitted without feature names\n",
      "  warnings.warn(\n",
      "e:\\Python\\Python312\\Lib\\site-packages\\sklearn\\utils\\validation.py:2742: UserWarning: X has feature names, but MinMaxScaler was fitted without feature names\n",
      "  warnings.warn(\n",
      "e:\\Python\\Python312\\Lib\\site-packages\\sklearn\\utils\\validation.py:2742: UserWarning: X has feature names, but MinMaxScaler was fitted without feature names\n",
      "  warnings.warn(\n",
      "e:\\Python\\Python312\\Lib\\site-packages\\sklearn\\utils\\validation.py:2742: UserWarning: X has feature names, but MinMaxScaler was fitted without feature names\n",
      "  warnings.warn(\n",
      "e:\\Python\\Python312\\Lib\\site-packages\\sklearn\\utils\\validation.py:2742: UserWarning: X has feature names, but MinMaxScaler was fitted without feature names\n",
      "  warnings.warn(\n",
      "e:\\Python\\Python312\\Lib\\site-packages\\sklearn\\utils\\validation.py:2742: UserWarning: X has feature names, but MinMaxScaler was fitted without feature names\n",
      "  warnings.warn(\n",
      "e:\\Python\\Python312\\Lib\\site-packages\\sklearn\\utils\\validation.py:2742: UserWarning: X has feature names, but MinMaxScaler was fitted without feature names\n",
      "  warnings.warn(\n",
      "e:\\Python\\Python312\\Lib\\site-packages\\sklearn\\utils\\validation.py:2742: UserWarning: X has feature names, but MinMaxScaler was fitted without feature names\n",
      "  warnings.warn(\n",
      "e:\\Python\\Python312\\Lib\\site-packages\\sklearn\\utils\\validation.py:2742: UserWarning: X has feature names, but MinMaxScaler was fitted without feature names\n",
      "  warnings.warn(\n",
      "e:\\Python\\Python312\\Lib\\site-packages\\sklearn\\utils\\validation.py:2742: UserWarning: X has feature names, but MinMaxScaler was fitted without feature names\n",
      "  warnings.warn(\n",
      "e:\\Python\\Python312\\Lib\\site-packages\\sklearn\\utils\\validation.py:2742: UserWarning: X has feature names, but MinMaxScaler was fitted without feature names\n",
      "  warnings.warn(\n",
      "e:\\Python\\Python312\\Lib\\site-packages\\sklearn\\utils\\validation.py:2742: UserWarning: X has feature names, but MinMaxScaler was fitted without feature names\n",
      "  warnings.warn(\n",
      "e:\\Python\\Python312\\Lib\\site-packages\\sklearn\\utils\\validation.py:2742: UserWarning: X has feature names, but MinMaxScaler was fitted without feature names\n",
      "  warnings.warn(\n",
      "e:\\Python\\Python312\\Lib\\site-packages\\sklearn\\utils\\validation.py:2742: UserWarning: X has feature names, but MinMaxScaler was fitted without feature names\n",
      "  warnings.warn(\n",
      "e:\\Python\\Python312\\Lib\\site-packages\\sklearn\\utils\\validation.py:2742: UserWarning: X has feature names, but MinMaxScaler was fitted without feature names\n",
      "  warnings.warn(\n",
      "e:\\Python\\Python312\\Lib\\site-packages\\sklearn\\utils\\validation.py:2742: UserWarning: X has feature names, but MinMaxScaler was fitted without feature names\n",
      "  warnings.warn(\n",
      "e:\\Python\\Python312\\Lib\\site-packages\\sklearn\\utils\\validation.py:2742: UserWarning: X has feature names, but MinMaxScaler was fitted without feature names\n",
      "  warnings.warn(\n",
      "e:\\Python\\Python312\\Lib\\site-packages\\sklearn\\utils\\validation.py:2742: UserWarning: X has feature names, but MinMaxScaler was fitted without feature names\n",
      "  warnings.warn(\n"
     ]
    },
    {
     "name": "stdout",
     "output_type": "stream",
     "text": [
      "Epoch 1: Current LR = 0.001\n",
      "Epoch 0 | Train Loss: 0.005323 | Test Loss: 0.056562\n",
      "Epoch 2: Current LR = 0.001\n",
      "Epoch 1 | Train Loss: 0.056674 | Test Loss: 0.049876\n",
      "Epoch 3: Current LR = 0.001\n",
      "Epoch 2 | Train Loss: 0.050159 | Test Loss: 0.018518\n",
      "Epoch 4: Current LR = 0.001\n",
      "Epoch 3 | Train Loss: 0.018809 | Test Loss: 0.005063\n",
      "Epoch 5: Current LR = 0.001\n",
      "Epoch 4 | Train Loss: 0.005396 | Test Loss: 0.007184\n",
      "Epoch 6: Current LR = 0.001\n",
      "Epoch 5 | Train Loss: 0.007540 | Test Loss: 0.006126\n",
      "Epoch 7: Current LR = 0.001\n",
      "Epoch 6 | Train Loss: 0.006462 | Test Loss: 0.005244\n",
      "Epoch 8: Current LR = 0.001\n",
      "Epoch 7 | Train Loss: 0.005552 | Test Loss: 0.005477\n",
      "Epoch 9: Current LR = 0.001\n",
      "Epoch 8 | Train Loss: 0.005774 | Test Loss: 0.005028\n",
      "Epoch 10: Current LR = 0.001\n",
      "Epoch 9 | Train Loss: 0.005333 | Test Loss: 0.005010\n",
      "Epoch 11: Current LR = 0.001\n",
      "Epoch 10 | Train Loss: 0.005312 | Test Loss: 0.005323\n",
      "Epoch 12: Current LR = 0.001\n",
      "Epoch 11 | Train Loss: 0.005631 | Test Loss: 0.005081\n",
      "Epoch 13: Current LR = 0.001\n",
      "Epoch 12 | Train Loss: 0.005390 | Test Loss: 0.005580\n",
      "Epoch 14: Current LR = 0.001\n",
      "Epoch 13 | Train Loss: 0.005858 | Test Loss: 0.005716\n",
      "Epoch 15: Current LR = 0.001\n",
      "Epoch 14 | Train Loss: 0.006000 | Test Loss: 0.004989\n",
      "Epoch 16: Current LR = 0.001\n",
      "Epoch 15 | Train Loss: 0.005277 | Test Loss: 0.006752\n",
      "Epoch 17: Current LR = 0.001\n",
      "Epoch 16 | Train Loss: 0.007093 | Test Loss: 0.008423\n",
      "Epoch 18: Current LR = 0.001\n",
      "Epoch 17 | Train Loss: 0.008792 | Test Loss: 0.007556\n",
      "Epoch 19: Current LR = 0.001\n",
      "Epoch 18 | Train Loss: 0.007923 | Test Loss: 0.005434\n",
      "Epoch 20: Current LR = 0.001\n",
      "Epoch 19 | Train Loss: 0.005774 | Test Loss: 0.005778\n",
      "Epoch 21: Current LR = 0.001\n",
      "Epoch 20 | Train Loss: 0.006070 | Test Loss: 0.007594\n",
      "Epoch 22: Current LR = 0.0005\n",
      "Epoch 21 | Train Loss: 0.007866 | Test Loss: 0.007500\n",
      "Epoch 23: Current LR = 0.0005\n",
      "Epoch 22 | Train Loss: 0.007773 | Test Loss: 0.006455\n",
      "Epoch 24: Current LR = 0.0005\n",
      "Epoch 23 | Train Loss: 0.006724 | Test Loss: 0.005277\n",
      "Epoch 25: Current LR = 0.0005\n",
      "Epoch 24 | Train Loss: 0.005564 | Test Loss: 0.005105\n",
      "Epoch 26: Current LR = 0.0005\n",
      "Epoch 25 | Train Loss: 0.005429 | Test Loss: 0.005625\n",
      "Epoch 27: Current LR = 0.0005\n",
      "Epoch 26 | Train Loss: 0.005945 | Test Loss: 0.005734\n",
      "Epoch 28: Current LR = 0.00025\n",
      "Epoch 27 | Train Loss: 0.006060 | Test Loss: 0.005515\n",
      "Epoch 29: Current LR = 0.00025\n",
      "Epoch 28 | Train Loss: 0.005842 | Test Loss: 0.005166\n",
      "Epoch 30: Current LR = 0.00025\n",
      "Epoch 29 | Train Loss: 0.005492 | Test Loss: 0.004946\n",
      "Epoch 31: Current LR = 0.00025\n",
      "Epoch 30 | Train Loss: 0.005253 | Test Loss: 0.005198\n",
      "Epoch 32: Current LR = 0.00025\n",
      "Epoch 31 | Train Loss: 0.005494 | Test Loss: 0.005659\n",
      "Epoch 33: Current LR = 0.00025\n",
      "Epoch 32 | Train Loss: 0.005948 | Test Loss: 0.005923\n",
      "Epoch 34: Current LR = 0.00025\n",
      "Epoch 33 | Train Loss: 0.006199 | Test Loss: 0.005854\n",
      "Epoch 35: Current LR = 0.00025\n",
      "Epoch 34 | Train Loss: 0.006122 | Test Loss: 0.005516\n",
      "Epoch 36: Current LR = 0.00025\n",
      "Epoch 35 | Train Loss: 0.005806 | Test Loss: 0.005116\n",
      "Epoch 37: Current LR = 0.000125\n",
      "Epoch 36 | Train Loss: 0.005391 | Test Loss: 0.004976\n",
      "Epoch 38: Current LR = 0.000125\n",
      "Epoch 37 | Train Loss: 0.005277 | Test Loss: 0.004957\n",
      "Epoch 39: Current LR = 0.000125\n",
      "Epoch 38 | Train Loss: 0.005257 | Test Loss: 0.005040\n",
      "Epoch 40: Current LR = 0.000125\n",
      "Epoch 39 | Train Loss: 0.005343 | Test Loss: 0.005110\n",
      "Epoch 41: Current LR = 0.000125\n",
      "Epoch 40 | Train Loss: 0.005419 | Test Loss: 0.005119\n",
      "Epoch 42: Current LR = 0.000125\n",
      "Epoch 41 | Train Loss: 0.005444 | Test Loss: 0.005067\n",
      "Epoch 43: Current LR = 6.25e-05\n",
      "Epoch 42 | Train Loss: 0.005374 | Test Loss: 0.005021\n",
      "Epoch 44: Current LR = 6.25e-05\n",
      "Epoch 43 | Train Loss: 0.005348 | Test Loss: 0.004971\n",
      "Epoch 45: Current LR = 6.25e-05\n",
      "Epoch 44 | Train Loss: 0.005270 | Test Loss: 0.004936\n",
      "Epoch 46: Current LR = 6.25e-05\n",
      "Epoch 45 | Train Loss: 0.005228 | Test Loss: 0.004937\n",
      "Epoch 47: Current LR = 6.25e-05\n",
      "Epoch 46 | Train Loss: 0.005243 | Test Loss: 0.004959\n",
      "Epoch 48: Current LR = 6.25e-05\n",
      "Epoch 47 | Train Loss: 0.005252 | Test Loss: 0.004974\n",
      "Epoch 49: Current LR = 6.25e-05\n",
      "Epoch 48 | Train Loss: 0.005277 | Test Loss: 0.004971\n",
      "Epoch 50: Current LR = 6.25e-05\n",
      "Epoch 49 | Train Loss: 0.005267 | Test Loss: 0.004954\n",
      "Epoch 51: Current LR = 6.25e-05\n",
      "Epoch 50 | Train Loss: 0.005264 | Test Loss: 0.004932\n",
      "Epoch 52: Current LR = 6.25e-05\n",
      "Epoch 51 | Train Loss: 0.005216 | Test Loss: 0.004924\n",
      "Epoch 53: Current LR = 6.25e-05\n",
      "Epoch 52 | Train Loss: 0.005230 | Test Loss: 0.004928\n",
      "Epoch 54: Current LR = 6.25e-05\n",
      "Epoch 53 | Train Loss: 0.005230 | Test Loss: 0.004929\n",
      "Epoch 55: Current LR = 6.25e-05\n",
      "Epoch 54 | Train Loss: 0.005255 | Test Loss: 0.004924\n",
      "Epoch 56: Current LR = 6.25e-05\n",
      "Epoch 55 | Train Loss: 0.005227 | Test Loss: 0.004918\n",
      "Epoch 57: Current LR = 6.25e-05\n",
      "Epoch 56 | Train Loss: 0.005230 | Test Loss: 0.004924\n",
      "Epoch 58: Current LR = 6.25e-05\n",
      "Epoch 57 | Train Loss: 0.005228 | Test Loss: 0.004932\n",
      "Epoch 59: Current LR = 6.25e-05\n",
      "Epoch 58 | Train Loss: 0.005243 | Test Loss: 0.004931\n",
      "Epoch 60: Current LR = 6.25e-05\n",
      "Epoch 59 | Train Loss: 0.005229 | Test Loss: 0.004920\n",
      "Epoch 61: Current LR = 6.25e-05\n",
      "Epoch 60 | Train Loss: 0.005220 | Test Loss: 0.004909\n",
      "Epoch 62: Current LR = 6.25e-05\n",
      "Epoch 61 | Train Loss: 0.005222 | Test Loss: 0.004912\n",
      "Epoch 63: Current LR = 6.25e-05\n",
      "Epoch 62 | Train Loss: 0.005226 | Test Loss: 0.004921\n",
      "Epoch 64: Current LR = 6.25e-05\n",
      "Epoch 63 | Train Loss: 0.005238 | Test Loss: 0.004922\n",
      "Epoch 65: Current LR = 6.25e-05\n",
      "Epoch 64 | Train Loss: 0.005247 | Test Loss: 0.004913\n",
      "Epoch 66: Current LR = 6.25e-05\n",
      "Epoch 65 | Train Loss: 0.005230 | Test Loss: 0.004900\n",
      "Epoch 67: Current LR = 6.25e-05\n",
      "Epoch 66 | Train Loss: 0.005213 | Test Loss: 0.004897\n",
      "Epoch 68: Current LR = 6.25e-05\n",
      "Epoch 67 | Train Loss: 0.005190 | Test Loss: 0.004900\n",
      "Epoch 69: Current LR = 6.25e-05\n",
      "Epoch 68 | Train Loss: 0.005202 | Test Loss: 0.004897\n",
      "Epoch 70: Current LR = 6.25e-05\n",
      "Epoch 69 | Train Loss: 0.005195 | Test Loss: 0.004890\n",
      "Epoch 71: Current LR = 6.25e-05\n",
      "Epoch 70 | Train Loss: 0.005195 | Test Loss: 0.004888\n",
      "Epoch 72: Current LR = 6.25e-05\n",
      "Epoch 71 | Train Loss: 0.005211 | Test Loss: 0.004889\n",
      "Epoch 73: Current LR = 6.25e-05\n",
      "Epoch 72 | Train Loss: 0.005197 | Test Loss: 0.004886\n",
      "Epoch 74: Current LR = 6.25e-05\n",
      "Epoch 73 | Train Loss: 0.005208 | Test Loss: 0.004879\n",
      "Epoch 75: Current LR = 6.25e-05\n",
      "Epoch 74 | Train Loss: 0.005191 | Test Loss: 0.004880\n",
      "Epoch 76: Current LR = 6.25e-05\n",
      "Epoch 75 | Train Loss: 0.005197 | Test Loss: 0.004882\n",
      "Epoch 77: Current LR = 6.25e-05\n",
      "Epoch 76 | Train Loss: 0.005200 | Test Loss: 0.004879\n",
      "Epoch 78: Current LR = 6.25e-05\n",
      "Epoch 77 | Train Loss: 0.005192 | Test Loss: 0.004871\n",
      "Epoch 79: Current LR = 6.25e-05\n",
      "Epoch 78 | Train Loss: 0.005183 | Test Loss: 0.004870\n",
      "Epoch 80: Current LR = 6.25e-05\n",
      "Epoch 79 | Train Loss: 0.005186 | Test Loss: 0.004873\n",
      "Epoch 81: Current LR = 6.25e-05\n",
      "Epoch 80 | Train Loss: 0.005198 | Test Loss: 0.004869\n",
      "Epoch 82: Current LR = 6.25e-05\n",
      "Epoch 81 | Train Loss: 0.005179 | Test Loss: 0.004862\n",
      "Epoch 83: Current LR = 6.25e-05\n",
      "Epoch 82 | Train Loss: 0.005173 | Test Loss: 0.004862\n",
      "Epoch 84: Current LR = 6.25e-05\n",
      "Epoch 83 | Train Loss: 0.005174 | Test Loss: 0.004864\n",
      "Epoch 85: Current LR = 6.25e-05\n",
      "Epoch 84 | Train Loss: 0.005184 | Test Loss: 0.004860\n",
      "Epoch 86: Current LR = 6.25e-05\n",
      "Epoch 85 | Train Loss: 0.005163 | Test Loss: 0.004853\n",
      "Epoch 87: Current LR = 6.25e-05\n",
      "Epoch 86 | Train Loss: 0.005176 | Test Loss: 0.004854\n",
      "Epoch 88: Current LR = 6.25e-05\n",
      "Epoch 87 | Train Loss: 0.005173 | Test Loss: 0.004858\n",
      "Epoch 89: Current LR = 6.25e-05\n",
      "Epoch 88 | Train Loss: 0.005171 | Test Loss: 0.004855\n",
      "Epoch 90: Current LR = 6.25e-05\n",
      "Epoch 89 | Train Loss: 0.005177 | Test Loss: 0.004846\n",
      "Epoch 91: Current LR = 6.25e-05\n",
      "Epoch 90 | Train Loss: 0.005145 | Test Loss: 0.004841\n",
      "Epoch 92: Current LR = 6.25e-05\n",
      "Epoch 91 | Train Loss: 0.005152 | Test Loss: 0.004841\n",
      "Epoch 93: Current LR = 6.25e-05\n",
      "Epoch 92 | Train Loss: 0.005185 | Test Loss: 0.004837\n",
      "Epoch 94: Current LR = 6.25e-05\n",
      "Epoch 93 | Train Loss: 0.005163 | Test Loss: 0.004833\n",
      "Epoch 95: Current LR = 6.25e-05\n",
      "Epoch 94 | Train Loss: 0.005171 | Test Loss: 0.004831\n",
      "Epoch 96: Current LR = 6.25e-05\n",
      "Epoch 95 | Train Loss: 0.005149 | Test Loss: 0.004828\n",
      "Epoch 97: Current LR = 6.25e-05\n",
      "Epoch 96 | Train Loss: 0.005140 | Test Loss: 0.004828\n",
      "Epoch 98: Current LR = 6.25e-05\n",
      "Epoch 97 | Train Loss: 0.005137 | Test Loss: 0.004827\n",
      "Epoch 99: Current LR = 6.25e-05\n",
      "Epoch 98 | Train Loss: 0.005141 | Test Loss: 0.004820\n",
      "Epoch 100: Current LR = 6.25e-05\n",
      "Epoch 99 | Train Loss: 0.005143 | Test Loss: 0.004816\n",
      "Epoch 101: Current LR = 6.25e-05\n",
      "Epoch 100 | Train Loss: 0.005160 | Test Loss: 0.004816\n",
      "Epoch 102: Current LR = 6.25e-05\n",
      "Epoch 101 | Train Loss: 0.005127 | Test Loss: 0.004811\n",
      "Epoch 103: Current LR = 6.25e-05\n",
      "Epoch 102 | Train Loss: 0.005136 | Test Loss: 0.004807\n",
      "Epoch 104: Current LR = 6.25e-05\n",
      "Epoch 103 | Train Loss: 0.005140 | Test Loss: 0.004804\n",
      "Epoch 105: Current LR = 6.25e-05\n",
      "Epoch 104 | Train Loss: 0.005129 | Test Loss: 0.004800\n",
      "Epoch 106: Current LR = 6.25e-05\n",
      "Epoch 105 | Train Loss: 0.005138 | Test Loss: 0.004796\n",
      "Epoch 107: Current LR = 6.25e-05\n",
      "Epoch 106 | Train Loss: 0.005125 | Test Loss: 0.004792\n",
      "Epoch 108: Current LR = 6.25e-05\n",
      "Epoch 107 | Train Loss: 0.005114 | Test Loss: 0.004787\n",
      "Epoch 109: Current LR = 6.25e-05\n",
      "Epoch 108 | Train Loss: 0.005111 | Test Loss: 0.004782\n",
      "Epoch 110: Current LR = 6.25e-05\n",
      "Epoch 109 | Train Loss: 0.005100 | Test Loss: 0.004778\n",
      "Epoch 111: Current LR = 6.25e-05\n",
      "Epoch 110 | Train Loss: 0.005109 | Test Loss: 0.004772\n",
      "Epoch 112: Current LR = 6.25e-05\n",
      "Epoch 111 | Train Loss: 0.005094 | Test Loss: 0.004766\n",
      "Epoch 113: Current LR = 6.25e-05\n",
      "Epoch 112 | Train Loss: 0.005099 | Test Loss: 0.004760\n",
      "Epoch 114: Current LR = 6.25e-05\n",
      "Epoch 113 | Train Loss: 0.005098 | Test Loss: 0.004756\n",
      "Epoch 115: Current LR = 6.25e-05\n",
      "Epoch 114 | Train Loss: 0.005060 | Test Loss: 0.004750\n",
      "Epoch 116: Current LR = 6.25e-05\n",
      "Epoch 115 | Train Loss: 0.005088 | Test Loss: 0.004744\n",
      "Epoch 117: Current LR = 6.25e-05\n",
      "Epoch 116 | Train Loss: 0.005076 | Test Loss: 0.004739\n",
      "Epoch 118: Current LR = 6.25e-05\n",
      "Epoch 117 | Train Loss: 0.005055 | Test Loss: 0.004737\n",
      "Epoch 119: Current LR = 6.25e-05\n",
      "Epoch 118 | Train Loss: 0.005065 | Test Loss: 0.004733\n",
      "Epoch 120: Current LR = 6.25e-05\n",
      "Epoch 119 | Train Loss: 0.005057 | Test Loss: 0.004725\n",
      "Epoch 121: Current LR = 6.25e-05\n",
      "Epoch 120 | Train Loss: 0.005049 | Test Loss: 0.004723\n",
      "Epoch 122: Current LR = 6.25e-05\n",
      "Epoch 121 | Train Loss: 0.005042 | Test Loss: 0.004722\n",
      "Epoch 123: Current LR = 6.25e-05\n",
      "Epoch 122 | Train Loss: 0.005061 | Test Loss: 0.004715\n",
      "Epoch 124: Current LR = 6.25e-05\n",
      "Epoch 123 | Train Loss: 0.005029 | Test Loss: 0.004708\n",
      "Epoch 125: Current LR = 6.25e-05\n",
      "Epoch 124 | Train Loss: 0.005034 | Test Loss: 0.004711\n",
      "Epoch 126: Current LR = 6.25e-05\n",
      "Epoch 125 | Train Loss: 0.005047 | Test Loss: 0.004715\n",
      "Epoch 127: Current LR = 6.25e-05\n",
      "Epoch 126 | Train Loss: 0.005060 | Test Loss: 0.004709\n",
      "Epoch 128: Current LR = 6.25e-05\n",
      "Epoch 127 | Train Loss: 0.005034 | Test Loss: 0.004698\n",
      "Epoch 129: Current LR = 6.25e-05\n",
      "Epoch 128 | Train Loss: 0.005033 | Test Loss: 0.004693\n",
      "Epoch 130: Current LR = 6.25e-05\n",
      "Epoch 129 | Train Loss: 0.005028 | Test Loss: 0.004694\n",
      "Epoch 131: Current LR = 6.25e-05\n",
      "Epoch 130 | Train Loss: 0.005032 | Test Loss: 0.004690\n",
      "Epoch 132: Current LR = 6.25e-05\n",
      "Epoch 131 | Train Loss: 0.005038 | Test Loss: 0.004684\n",
      "Epoch 133: Current LR = 6.25e-05\n",
      "Epoch 132 | Train Loss: 0.005039 | Test Loss: 0.004689\n",
      "Epoch 134: Current LR = 6.25e-05\n",
      "Epoch 133 | Train Loss: 0.005023 | Test Loss: 0.004694\n",
      "Epoch 135: Current LR = 6.25e-05\n",
      "Epoch 134 | Train Loss: 0.005042 | Test Loss: 0.004690\n",
      "Epoch 136: Current LR = 6.25e-05\n",
      "Epoch 135 | Train Loss: 0.005039 | Test Loss: 0.004679\n",
      "Epoch 137: Current LR = 6.25e-05\n",
      "Epoch 136 | Train Loss: 0.005014 | Test Loss: 0.004676\n",
      "Epoch 138: Current LR = 6.25e-05\n",
      "Epoch 137 | Train Loss: 0.005030 | Test Loss: 0.004679\n",
      "Epoch 139: Current LR = 6.25e-05\n",
      "Epoch 138 | Train Loss: 0.004985 | Test Loss: 0.004676\n",
      "Epoch 140: Current LR = 6.25e-05\n",
      "Epoch 139 | Train Loss: 0.005001 | Test Loss: 0.004670\n",
      "Epoch 141: Current LR = 6.25e-05\n",
      "Epoch 140 | Train Loss: 0.005020 | Test Loss: 0.004671\n",
      "Epoch 142: Current LR = 6.25e-05\n",
      "Epoch 141 | Train Loss: 0.005016 | Test Loss: 0.004674\n",
      "Epoch 143: Current LR = 6.25e-05\n",
      "Epoch 142 | Train Loss: 0.005005 | Test Loss: 0.004670\n",
      "Epoch 144: Current LR = 6.25e-05\n",
      "Epoch 143 | Train Loss: 0.005001 | Test Loss: 0.004664\n",
      "Epoch 145: Current LR = 6.25e-05\n",
      "Epoch 144 | Train Loss: 0.005011 | Test Loss: 0.004663\n",
      "Epoch 146: Current LR = 6.25e-05\n",
      "Epoch 145 | Train Loss: 0.004983 | Test Loss: 0.004660\n",
      "Epoch 147: Current LR = 6.25e-05\n",
      "Epoch 146 | Train Loss: 0.005008 | Test Loss: 0.004661\n",
      "Epoch 148: Current LR = 6.25e-05\n",
      "Epoch 147 | Train Loss: 0.004990 | Test Loss: 0.004659\n",
      "Epoch 149: Current LR = 6.25e-05\n",
      "Epoch 148 | Train Loss: 0.004991 | Test Loss: 0.004655\n",
      "Epoch 150: Current LR = 6.25e-05\n",
      "Epoch 149 | Train Loss: 0.004988 | Test Loss: 0.004653\n",
      "Epoch 151: Current LR = 6.25e-05\n",
      "Epoch 150 | Train Loss: 0.004994 | Test Loss: 0.004651\n",
      "Epoch 152: Current LR = 6.25e-05\n",
      "Epoch 151 | Train Loss: 0.004989 | Test Loss: 0.004647\n",
      "Epoch 153: Current LR = 6.25e-05\n",
      "Epoch 152 | Train Loss: 0.004983 | Test Loss: 0.004644\n",
      "Epoch 154: Current LR = 6.25e-05\n",
      "Epoch 153 | Train Loss: 0.004969 | Test Loss: 0.004642\n",
      "Epoch 155: Current LR = 6.25e-05\n",
      "Epoch 154 | Train Loss: 0.004994 | Test Loss: 0.004638\n",
      "Epoch 156: Current LR = 6.25e-05\n",
      "Epoch 155 | Train Loss: 0.004979 | Test Loss: 0.004634\n",
      "Epoch 157: Current LR = 6.25e-05\n",
      "Epoch 156 | Train Loss: 0.004960 | Test Loss: 0.004630\n",
      "Epoch 158: Current LR = 6.25e-05\n",
      "Epoch 157 | Train Loss: 0.004967 | Test Loss: 0.004630\n",
      "Epoch 159: Current LR = 6.25e-05\n",
      "Epoch 158 | Train Loss: 0.004975 | Test Loss: 0.004627\n",
      "Epoch 160: Current LR = 6.25e-05\n",
      "Epoch 159 | Train Loss: 0.004957 | Test Loss: 0.004620\n",
      "Epoch 161: Current LR = 6.25e-05\n",
      "Epoch 160 | Train Loss: 0.004938 | Test Loss: 0.004621\n",
      "Epoch 162: Current LR = 6.25e-05\n",
      "Epoch 161 | Train Loss: 0.004967 | Test Loss: 0.004624\n",
      "Epoch 163: Current LR = 6.25e-05\n",
      "Epoch 162 | Train Loss: 0.004960 | Test Loss: 0.004620\n",
      "Epoch 164: Current LR = 6.25e-05\n",
      "Epoch 163 | Train Loss: 0.004959 | Test Loss: 0.004610\n",
      "Epoch 165: Current LR = 6.25e-05\n",
      "Epoch 164 | Train Loss: 0.004956 | Test Loss: 0.004608\n",
      "Epoch 166: Current LR = 6.25e-05\n",
      "Epoch 165 | Train Loss: 0.004940 | Test Loss: 0.004611\n",
      "Epoch 167: Current LR = 6.25e-05\n",
      "Epoch 166 | Train Loss: 0.004949 | Test Loss: 0.004607\n",
      "Epoch 168: Current LR = 6.25e-05\n",
      "Epoch 167 | Train Loss: 0.004949 | Test Loss: 0.004600\n",
      "Epoch 169: Current LR = 6.25e-05\n",
      "Epoch 168 | Train Loss: 0.004910 | Test Loss: 0.004602\n",
      "Epoch 170: Current LR = 6.25e-05\n",
      "Epoch 169 | Train Loss: 0.004947 | Test Loss: 0.004606\n",
      "Epoch 171: Current LR = 6.25e-05\n",
      "Epoch 170 | Train Loss: 0.004952 | Test Loss: 0.004602\n",
      "Epoch 172: Current LR = 6.25e-05\n",
      "Epoch 171 | Train Loss: 0.004946 | Test Loss: 0.004593\n",
      "Epoch 173: Current LR = 6.25e-05\n",
      "Epoch 172 | Train Loss: 0.004932 | Test Loss: 0.004594\n",
      "Epoch 174: Current LR = 6.25e-05\n",
      "Epoch 173 | Train Loss: 0.004928 | Test Loss: 0.004598\n",
      "Epoch 175: Current LR = 6.25e-05\n",
      "Epoch 174 | Train Loss: 0.004907 | Test Loss: 0.004595\n",
      "Epoch 176: Current LR = 6.25e-05\n",
      "Epoch 175 | Train Loss: 0.004942 | Test Loss: 0.004587\n",
      "Epoch 177: Current LR = 6.25e-05\n",
      "Epoch 176 | Train Loss: 0.004911 | Test Loss: 0.004589\n",
      "Epoch 178: Current LR = 6.25e-05\n",
      "Epoch 177 | Train Loss: 0.004932 | Test Loss: 0.004595\n",
      "Epoch 179: Current LR = 6.25e-05\n",
      "Epoch 178 | Train Loss: 0.004930 | Test Loss: 0.004593\n",
      "Epoch 180: Current LR = 6.25e-05\n",
      "Epoch 179 | Train Loss: 0.004934 | Test Loss: 0.004584\n",
      "Epoch 181: Current LR = 6.25e-05\n",
      "Epoch 180 | Train Loss: 0.004926 | Test Loss: 0.004581\n",
      "Epoch 182: Current LR = 6.25e-05\n",
      "Epoch 181 | Train Loss: 0.004923 | Test Loss: 0.004582\n",
      "Epoch 183: Current LR = 6.25e-05\n",
      "Epoch 182 | Train Loss: 0.004896 | Test Loss: 0.004580\n",
      "Epoch 184: Current LR = 6.25e-05\n",
      "Epoch 183 | Train Loss: 0.004927 | Test Loss: 0.004576\n",
      "Epoch 185: Current LR = 6.25e-05\n",
      "Epoch 184 | Train Loss: 0.004915 | Test Loss: 0.004575\n",
      "Epoch 186: Current LR = 6.25e-05\n",
      "Epoch 185 | Train Loss: 0.004924 | Test Loss: 0.004574\n",
      "Epoch 187: Current LR = 6.25e-05\n",
      "Epoch 186 | Train Loss: 0.004895 | Test Loss: 0.004573\n",
      "Epoch 188: Current LR = 6.25e-05\n",
      "Epoch 187 | Train Loss: 0.004900 | Test Loss: 0.004570\n",
      "Epoch 189: Current LR = 6.25e-05\n",
      "Epoch 188 | Train Loss: 0.004907 | Test Loss: 0.004569\n",
      "Epoch 190: Current LR = 6.25e-05\n",
      "Epoch 189 | Train Loss: 0.004912 | Test Loss: 0.004568\n",
      "Epoch 191: Current LR = 6.25e-05\n",
      "Epoch 190 | Train Loss: 0.004906 | Test Loss: 0.004564\n",
      "Epoch 192: Current LR = 6.25e-05\n",
      "Epoch 191 | Train Loss: 0.004897 | Test Loss: 0.004562\n",
      "Epoch 193: Current LR = 6.25e-05\n",
      "Epoch 192 | Train Loss: 0.004897 | Test Loss: 0.004561\n",
      "Epoch 194: Current LR = 6.25e-05\n",
      "Epoch 193 | Train Loss: 0.004881 | Test Loss: 0.004557\n",
      "Epoch 195: Current LR = 6.25e-05\n",
      "Epoch 194 | Train Loss: 0.004899 | Test Loss: 0.004559\n",
      "Epoch 196: Current LR = 6.25e-05\n",
      "Epoch 195 | Train Loss: 0.004889 | Test Loss: 0.004562\n",
      "Epoch 197: Current LR = 6.25e-05\n",
      "Epoch 196 | Train Loss: 0.004907 | Test Loss: 0.004557\n",
      "Epoch 198: Current LR = 6.25e-05\n",
      "Epoch 197 | Train Loss: 0.004886 | Test Loss: 0.004550\n",
      "Epoch 199: Current LR = 6.25e-05\n",
      "Epoch 198 | Train Loss: 0.004886 | Test Loss: 0.004557\n",
      "Epoch 200: Current LR = 6.25e-05\n",
      "Epoch 199 | Train Loss: 0.004890 | Test Loss: 0.004566\n",
      "Epoch 201: Current LR = 6.25e-05\n",
      "Epoch 200 | Train Loss: 0.004886 | Test Loss: 0.004564\n",
      "Epoch 202: Current LR = 6.25e-05\n",
      "Epoch 201 | Train Loss: 0.004890 | Test Loss: 0.004552\n",
      "Epoch 203: Current LR = 6.25e-05\n",
      "Epoch 202 | Train Loss: 0.004890 | Test Loss: 0.004543\n",
      "Epoch 204: Current LR = 6.25e-05\n",
      "Epoch 203 | Train Loss: 0.004869 | Test Loss: 0.004543\n",
      "Epoch 205: Current LR = 6.25e-05\n",
      "Epoch 204 | Train Loss: 0.004891 | Test Loss: 0.004541\n",
      "Epoch 206: Current LR = 6.25e-05\n",
      "Epoch 205 | Train Loss: 0.004875 | Test Loss: 0.004538\n",
      "Epoch 207: Current LR = 6.25e-05\n",
      "Epoch 206 | Train Loss: 0.004870 | Test Loss: 0.004542\n",
      "Epoch 208: Current LR = 6.25e-05\n",
      "Epoch 207 | Train Loss: 0.004877 | Test Loss: 0.004544\n",
      "Epoch 209: Current LR = 6.25e-05\n",
      "Epoch 208 | Train Loss: 0.004873 | Test Loss: 0.004538\n",
      "Epoch 210: Current LR = 6.25e-05\n",
      "Epoch 209 | Train Loss: 0.004868 | Test Loss: 0.004531\n",
      "Epoch 211: Current LR = 6.25e-05\n",
      "Epoch 210 | Train Loss: 0.004853 | Test Loss: 0.004530\n",
      "Epoch 212: Current LR = 6.25e-05\n",
      "Epoch 211 | Train Loss: 0.004851 | Test Loss: 0.004528\n",
      "Epoch 213: Current LR = 6.25e-05\n",
      "Epoch 212 | Train Loss: 0.004852 | Test Loss: 0.004528\n",
      "Epoch 214: Current LR = 6.25e-05\n",
      "Epoch 213 | Train Loss: 0.004851 | Test Loss: 0.004527\n",
      "Epoch 215: Current LR = 6.25e-05\n",
      "Epoch 214 | Train Loss: 0.004871 | Test Loss: 0.004523\n",
      "Epoch 216: Current LR = 6.25e-05\n",
      "Epoch 215 | Train Loss: 0.004864 | Test Loss: 0.004521\n",
      "Epoch 217: Current LR = 6.25e-05\n",
      "Epoch 216 | Train Loss: 0.004856 | Test Loss: 0.004518\n",
      "Epoch 218: Current LR = 6.25e-05\n",
      "Epoch 217 | Train Loss: 0.004842 | Test Loss: 0.004515\n",
      "Epoch 219: Current LR = 6.25e-05\n",
      "Epoch 218 | Train Loss: 0.004841 | Test Loss: 0.004512\n",
      "Epoch 220: Current LR = 6.25e-05\n",
      "Epoch 219 | Train Loss: 0.004858 | Test Loss: 0.004508\n",
      "Epoch 221: Current LR = 6.25e-05\n",
      "Epoch 220 | Train Loss: 0.004860 | Test Loss: 0.004504\n",
      "Epoch 222: Current LR = 6.25e-05\n",
      "Epoch 221 | Train Loss: 0.004848 | Test Loss: 0.004503\n",
      "Epoch 223: Current LR = 6.25e-05\n",
      "Epoch 222 | Train Loss: 0.004827 | Test Loss: 0.004501\n",
      "Epoch 224: Current LR = 6.25e-05\n",
      "Epoch 223 | Train Loss: 0.004819 | Test Loss: 0.004495\n",
      "Epoch 225: Current LR = 6.25e-05\n",
      "Epoch 224 | Train Loss: 0.004827 | Test Loss: 0.004492\n",
      "Epoch 226: Current LR = 6.25e-05\n",
      "Epoch 225 | Train Loss: 0.004822 | Test Loss: 0.004488\n",
      "Epoch 227: Current LR = 6.25e-05\n",
      "Epoch 226 | Train Loss: 0.004832 | Test Loss: 0.004488\n",
      "Epoch 228: Current LR = 6.25e-05\n",
      "Epoch 227 | Train Loss: 0.004833 | Test Loss: 0.004486\n",
      "Epoch 229: Current LR = 6.25e-05\n",
      "Epoch 228 | Train Loss: 0.004805 | Test Loss: 0.004480\n",
      "Epoch 230: Current LR = 6.25e-05\n",
      "Epoch 229 | Train Loss: 0.004805 | Test Loss: 0.004477\n",
      "Epoch 231: Current LR = 6.25e-05\n",
      "Epoch 230 | Train Loss: 0.004789 | Test Loss: 0.004475\n",
      "Epoch 232: Current LR = 6.25e-05\n",
      "Epoch 231 | Train Loss: 0.004792 | Test Loss: 0.004471\n",
      "Epoch 233: Current LR = 6.25e-05\n",
      "Epoch 232 | Train Loss: 0.004789 | Test Loss: 0.004468\n",
      "Epoch 234: Current LR = 6.25e-05\n",
      "Epoch 233 | Train Loss: 0.004788 | Test Loss: 0.004465\n",
      "Epoch 235: Current LR = 6.25e-05\n",
      "Epoch 234 | Train Loss: 0.004803 | Test Loss: 0.004461\n",
      "Epoch 236: Current LR = 6.25e-05\n",
      "Epoch 235 | Train Loss: 0.004793 | Test Loss: 0.004457\n",
      "Epoch 237: Current LR = 6.25e-05\n",
      "Epoch 236 | Train Loss: 0.004790 | Test Loss: 0.004454\n",
      "Epoch 238: Current LR = 6.25e-05\n",
      "Epoch 237 | Train Loss: 0.004797 | Test Loss: 0.004450\n",
      "Epoch 239: Current LR = 6.25e-05\n",
      "Epoch 238 | Train Loss: 0.004786 | Test Loss: 0.004447\n",
      "Epoch 240: Current LR = 6.25e-05\n",
      "Epoch 239 | Train Loss: 0.004762 | Test Loss: 0.004443\n",
      "Epoch 241: Current LR = 6.25e-05\n",
      "Epoch 240 | Train Loss: 0.004758 | Test Loss: 0.004439\n",
      "Epoch 242: Current LR = 6.25e-05\n",
      "Epoch 241 | Train Loss: 0.004763 | Test Loss: 0.004438\n",
      "Epoch 243: Current LR = 6.25e-05\n",
      "Epoch 242 | Train Loss: 0.004759 | Test Loss: 0.004434\n",
      "Epoch 244: Current LR = 6.25e-05\n",
      "Epoch 243 | Train Loss: 0.004763 | Test Loss: 0.004429\n",
      "Epoch 245: Current LR = 6.25e-05\n",
      "Epoch 244 | Train Loss: 0.004755 | Test Loss: 0.004426\n",
      "Epoch 246: Current LR = 6.25e-05\n",
      "Epoch 245 | Train Loss: 0.004770 | Test Loss: 0.004425\n",
      "Epoch 247: Current LR = 6.25e-05\n",
      "Epoch 246 | Train Loss: 0.004758 | Test Loss: 0.004422\n",
      "Epoch 248: Current LR = 6.25e-05\n",
      "Epoch 247 | Train Loss: 0.004756 | Test Loss: 0.004418\n",
      "Epoch 249: Current LR = 6.25e-05\n",
      "Epoch 248 | Train Loss: 0.004748 | Test Loss: 0.004416\n",
      "Epoch 250: Current LR = 6.25e-05\n",
      "Epoch 249 | Train Loss: 0.004749 | Test Loss: 0.004412\n",
      "Epoch 251: Current LR = 6.25e-05\n",
      "Epoch 250 | Train Loss: 0.004728 | Test Loss: 0.004412\n",
      "Epoch 252: Current LR = 6.25e-05\n",
      "Epoch 251 | Train Loss: 0.004740 | Test Loss: 0.004408\n",
      "Epoch 253: Current LR = 6.25e-05\n",
      "Epoch 252 | Train Loss: 0.004719 | Test Loss: 0.004405\n",
      "Epoch 254: Current LR = 6.25e-05\n",
      "Epoch 253 | Train Loss: 0.004726 | Test Loss: 0.004403\n",
      "Epoch 255: Current LR = 6.25e-05\n",
      "Epoch 254 | Train Loss: 0.004716 | Test Loss: 0.004401\n",
      "Epoch 256: Current LR = 6.25e-05\n",
      "Epoch 255 | Train Loss: 0.004724 | Test Loss: 0.004399\n",
      "Epoch 257: Current LR = 6.25e-05\n",
      "Epoch 256 | Train Loss: 0.004713 | Test Loss: 0.004396\n",
      "Epoch 258: Current LR = 6.25e-05\n",
      "Epoch 257 | Train Loss: 0.004725 | Test Loss: 0.004394\n",
      "Epoch 259: Current LR = 6.25e-05\n",
      "Epoch 258 | Train Loss: 0.004719 | Test Loss: 0.004393\n",
      "Epoch 260: Current LR = 6.25e-05\n",
      "Epoch 259 | Train Loss: 0.004725 | Test Loss: 0.004391\n",
      "Epoch 261: Current LR = 6.25e-05\n",
      "Epoch 260 | Train Loss: 0.004709 | Test Loss: 0.004388\n",
      "Epoch 262: Current LR = 6.25e-05\n",
      "Epoch 261 | Train Loss: 0.004692 | Test Loss: 0.004386\n",
      "Epoch 263: Current LR = 6.25e-05\n",
      "Epoch 262 | Train Loss: 0.004698 | Test Loss: 0.004383\n",
      "Epoch 264: Current LR = 6.25e-05\n",
      "Epoch 263 | Train Loss: 0.004721 | Test Loss: 0.004385\n",
      "Epoch 265: Current LR = 6.25e-05\n",
      "Epoch 264 | Train Loss: 0.004690 | Test Loss: 0.004383\n",
      "Epoch 266: Current LR = 6.25e-05\n",
      "Epoch 265 | Train Loss: 0.004709 | Test Loss: 0.004377\n",
      "Epoch 267: Current LR = 6.25e-05\n",
      "Epoch 266 | Train Loss: 0.004714 | Test Loss: 0.004379\n",
      "Epoch 268: Current LR = 6.25e-05\n",
      "Epoch 267 | Train Loss: 0.004682 | Test Loss: 0.004379\n",
      "Epoch 269: Current LR = 6.25e-05\n",
      "Epoch 268 | Train Loss: 0.004720 | Test Loss: 0.004374\n",
      "Epoch 270: Current LR = 6.25e-05\n",
      "Epoch 269 | Train Loss: 0.004705 | Test Loss: 0.004370\n",
      "Epoch 271: Current LR = 6.25e-05\n",
      "Epoch 270 | Train Loss: 0.004692 | Test Loss: 0.004370\n",
      "Epoch 272: Current LR = 6.25e-05\n",
      "Epoch 271 | Train Loss: 0.004700 | Test Loss: 0.004367\n",
      "Epoch 273: Current LR = 6.25e-05\n",
      "Epoch 272 | Train Loss: 0.004696 | Test Loss: 0.004366\n",
      "Epoch 274: Current LR = 6.25e-05\n",
      "Epoch 273 | Train Loss: 0.004702 | Test Loss: 0.004366\n",
      "Epoch 275: Current LR = 6.25e-05\n",
      "Epoch 274 | Train Loss: 0.004696 | Test Loss: 0.004362\n",
      "Epoch 276: Current LR = 6.25e-05\n",
      "Epoch 275 | Train Loss: 0.004700 | Test Loss: 0.004361\n",
      "Epoch 277: Current LR = 6.25e-05\n",
      "Epoch 276 | Train Loss: 0.004688 | Test Loss: 0.004362\n",
      "Epoch 278: Current LR = 6.25e-05\n",
      "Epoch 277 | Train Loss: 0.004697 | Test Loss: 0.004357\n",
      "Epoch 279: Current LR = 6.25e-05\n",
      "Epoch 278 | Train Loss: 0.004673 | Test Loss: 0.004358\n",
      "Epoch 280: Current LR = 6.25e-05\n",
      "Epoch 279 | Train Loss: 0.004668 | Test Loss: 0.004360\n",
      "Epoch 281: Current LR = 6.25e-05\n",
      "Epoch 280 | Train Loss: 0.004670 | Test Loss: 0.004355\n",
      "Epoch 282: Current LR = 6.25e-05\n",
      "Epoch 281 | Train Loss: 0.004691 | Test Loss: 0.004351\n",
      "Epoch 283: Current LR = 6.25e-05\n",
      "Epoch 282 | Train Loss: 0.004682 | Test Loss: 0.004353\n",
      "Epoch 284: Current LR = 6.25e-05\n",
      "Epoch 283 | Train Loss: 0.004668 | Test Loss: 0.004350\n",
      "Epoch 285: Current LR = 6.25e-05\n",
      "Epoch 284 | Train Loss: 0.004677 | Test Loss: 0.004346\n",
      "Epoch 286: Current LR = 6.25e-05\n",
      "Epoch 285 | Train Loss: 0.004665 | Test Loss: 0.004344\n",
      "Epoch 287: Current LR = 6.25e-05\n",
      "Epoch 286 | Train Loss: 0.004665 | Test Loss: 0.004343\n",
      "Epoch 288: Current LR = 6.25e-05\n",
      "Epoch 287 | Train Loss: 0.004669 | Test Loss: 0.004341\n",
      "Epoch 289: Current LR = 6.25e-05\n",
      "Epoch 288 | Train Loss: 0.004660 | Test Loss: 0.004338\n",
      "Epoch 290: Current LR = 6.25e-05\n",
      "Epoch 289 | Train Loss: 0.004650 | Test Loss: 0.004336\n",
      "Epoch 291: Current LR = 6.25e-05\n",
      "Epoch 290 | Train Loss: 0.004653 | Test Loss: 0.004334\n",
      "Epoch 292: Current LR = 6.25e-05\n",
      "Epoch 291 | Train Loss: 0.004653 | Test Loss: 0.004330\n",
      "Epoch 293: Current LR = 6.25e-05\n",
      "Epoch 292 | Train Loss: 0.004643 | Test Loss: 0.004328\n",
      "Epoch 294: Current LR = 6.25e-05\n",
      "Epoch 293 | Train Loss: 0.004632 | Test Loss: 0.004325\n",
      "Epoch 295: Current LR = 6.25e-05\n",
      "Epoch 294 | Train Loss: 0.004656 | Test Loss: 0.004322\n",
      "Epoch 296: Current LR = 6.25e-05\n",
      "Epoch 295 | Train Loss: 0.004631 | Test Loss: 0.004320\n",
      "Epoch 297: Current LR = 6.25e-05\n",
      "Epoch 296 | Train Loss: 0.004646 | Test Loss: 0.004316\n",
      "Epoch 298: Current LR = 6.25e-05\n",
      "Epoch 297 | Train Loss: 0.004626 | Test Loss: 0.004312\n",
      "Epoch 299: Current LR = 6.25e-05\n",
      "Epoch 298 | Train Loss: 0.004638 | Test Loss: 0.004310\n",
      "Epoch 300: Current LR = 6.25e-05\n",
      "Epoch 299 | Train Loss: 0.004636 | Test Loss: 0.004306\n",
      "Epoch 301: Current LR = 6.25e-05\n",
      "Epoch 300 | Train Loss: 0.004630 | Test Loss: 0.004303\n",
      "Epoch 302: Current LR = 6.25e-05\n",
      "Epoch 301 | Train Loss: 0.004618 | Test Loss: 0.004299\n",
      "Epoch 303: Current LR = 6.25e-05\n",
      "Epoch 302 | Train Loss: 0.004628 | Test Loss: 0.004299\n",
      "Epoch 304: Current LR = 6.25e-05\n",
      "Epoch 303 | Train Loss: 0.004613 | Test Loss: 0.004298\n",
      "Epoch 305: Current LR = 6.25e-05\n",
      "Epoch 304 | Train Loss: 0.004613 | Test Loss: 0.004291\n",
      "Epoch 306: Current LR = 6.25e-05\n",
      "Epoch 305 | Train Loss: 0.004598 | Test Loss: 0.004288\n",
      "Epoch 307: Current LR = 6.25e-05\n",
      "Epoch 306 | Train Loss: 0.004611 | Test Loss: 0.004288\n",
      "Epoch 308: Current LR = 6.25e-05\n",
      "Epoch 307 | Train Loss: 0.004610 | Test Loss: 0.004283\n",
      "Epoch 309: Current LR = 6.25e-05\n",
      "Epoch 308 | Train Loss: 0.004612 | Test Loss: 0.004282\n",
      "Epoch 310: Current LR = 6.25e-05\n",
      "Epoch 309 | Train Loss: 0.004604 | Test Loss: 0.004281\n",
      "Epoch 311: Current LR = 6.25e-05\n",
      "Epoch 310 | Train Loss: 0.004601 | Test Loss: 0.004277\n",
      "Epoch 312: Current LR = 6.25e-05\n",
      "Epoch 311 | Train Loss: 0.004599 | Test Loss: 0.004279\n",
      "Epoch 313: Current LR = 6.25e-05\n",
      "Epoch 312 | Train Loss: 0.004608 | Test Loss: 0.004281\n",
      "Epoch 314: Current LR = 6.25e-05\n",
      "Epoch 313 | Train Loss: 0.004613 | Test Loss: 0.004276\n",
      "Epoch 315: Current LR = 6.25e-05\n",
      "Epoch 314 | Train Loss: 0.004594 | Test Loss: 0.004269\n",
      "Epoch 316: Current LR = 6.25e-05\n",
      "Epoch 315 | Train Loss: 0.004591 | Test Loss: 0.004278\n",
      "Epoch 317: Current LR = 6.25e-05\n",
      "Epoch 316 | Train Loss: 0.004590 | Test Loss: 0.004289\n",
      "Epoch 318: Current LR = 6.25e-05\n",
      "Epoch 317 | Train Loss: 0.004594 | Test Loss: 0.004285\n",
      "Epoch 319: Current LR = 6.25e-05\n",
      "Epoch 318 | Train Loss: 0.004607 | Test Loss: 0.004270\n",
      "Epoch 320: Current LR = 6.25e-05\n",
      "Epoch 319 | Train Loss: 0.004586 | Test Loss: 0.004262\n",
      "Epoch 321: Current LR = 6.25e-05\n",
      "Epoch 320 | Train Loss: 0.004577 | Test Loss: 0.004264\n",
      "Epoch 322: Current LR = 6.25e-05\n",
      "Epoch 321 | Train Loss: 0.004589 | Test Loss: 0.004261\n",
      "Epoch 323: Current LR = 6.25e-05\n",
      "Epoch 322 | Train Loss: 0.004582 | Test Loss: 0.004258\n",
      "Epoch 324: Current LR = 6.25e-05\n",
      "Epoch 323 | Train Loss: 0.004589 | Test Loss: 0.004260\n",
      "Epoch 325: Current LR = 6.25e-05\n",
      "Epoch 324 | Train Loss: 0.004576 | Test Loss: 0.004257\n",
      "Epoch 326: Current LR = 6.25e-05\n",
      "Epoch 325 | Train Loss: 0.004587 | Test Loss: 0.004254\n",
      "Epoch 327: Current LR = 6.25e-05\n",
      "Epoch 326 | Train Loss: 0.004568 | Test Loss: 0.004252\n",
      "Epoch 328: Current LR = 6.25e-05\n",
      "Epoch 327 | Train Loss: 0.004573 | Test Loss: 0.004252\n",
      "Epoch 329: Current LR = 6.25e-05\n",
      "Epoch 328 | Train Loss: 0.004568 | Test Loss: 0.004250\n",
      "Epoch 330: Current LR = 6.25e-05\n",
      "Epoch 329 | Train Loss: 0.004553 | Test Loss: 0.004247\n",
      "Epoch 331: Current LR = 6.25e-05\n",
      "Epoch 330 | Train Loss: 0.004566 | Test Loss: 0.004245\n",
      "Epoch 332: Current LR = 6.25e-05\n",
      "Epoch 331 | Train Loss: 0.004562 | Test Loss: 0.004244\n",
      "Epoch 333: Current LR = 6.25e-05\n",
      "Epoch 332 | Train Loss: 0.004567 | Test Loss: 0.004242\n",
      "Epoch 334: Current LR = 6.25e-05\n",
      "Epoch 333 | Train Loss: 0.004561 | Test Loss: 0.004240\n",
      "Epoch 335: Current LR = 6.25e-05\n",
      "Epoch 334 | Train Loss: 0.004548 | Test Loss: 0.004239\n",
      "Epoch 336: Current LR = 6.25e-05\n",
      "Epoch 335 | Train Loss: 0.004540 | Test Loss: 0.004236\n",
      "Epoch 337: Current LR = 6.25e-05\n",
      "Epoch 336 | Train Loss: 0.004554 | Test Loss: 0.004234\n",
      "Epoch 338: Current LR = 6.25e-05\n",
      "Epoch 337 | Train Loss: 0.004542 | Test Loss: 0.004232\n",
      "Epoch 339: Current LR = 6.25e-05\n",
      "Epoch 338 | Train Loss: 0.004532 | Test Loss: 0.004231\n",
      "Epoch 340: Current LR = 6.25e-05\n",
      "Epoch 339 | Train Loss: 0.004568 | Test Loss: 0.004229\n",
      "Epoch 341: Current LR = 6.25e-05\n",
      "Epoch 340 | Train Loss: 0.004551 | Test Loss: 0.004226\n",
      "Epoch 342: Current LR = 6.25e-05\n",
      "Epoch 341 | Train Loss: 0.004527 | Test Loss: 0.004225\n",
      "Epoch 343: Current LR = 6.25e-05\n",
      "Epoch 342 | Train Loss: 0.004552 | Test Loss: 0.004225\n",
      "Epoch 344: Current LR = 6.25e-05\n",
      "Epoch 343 | Train Loss: 0.004536 | Test Loss: 0.004222\n",
      "Epoch 345: Current LR = 6.25e-05\n",
      "Epoch 344 | Train Loss: 0.004524 | Test Loss: 0.004220\n",
      "Epoch 346: Current LR = 6.25e-05\n",
      "Epoch 345 | Train Loss: 0.004513 | Test Loss: 0.004219\n",
      "Epoch 347: Current LR = 6.25e-05\n",
      "Epoch 346 | Train Loss: 0.004524 | Test Loss: 0.004217\n",
      "Epoch 348: Current LR = 6.25e-05\n",
      "Epoch 347 | Train Loss: 0.004530 | Test Loss: 0.004215\n",
      "Epoch 349: Current LR = 6.25e-05\n",
      "Epoch 348 | Train Loss: 0.004535 | Test Loss: 0.004214\n",
      "Epoch 350: Current LR = 6.25e-05\n",
      "Epoch 349 | Train Loss: 0.004520 | Test Loss: 0.004211\n",
      "Epoch 351: Current LR = 6.25e-05\n",
      "Epoch 350 | Train Loss: 0.004527 | Test Loss: 0.004209\n",
      "Epoch 352: Current LR = 6.25e-05\n",
      "Epoch 351 | Train Loss: 0.004503 | Test Loss: 0.004206\n",
      "Epoch 353: Current LR = 6.25e-05\n",
      "Epoch 352 | Train Loss: 0.004527 | Test Loss: 0.004204\n",
      "Epoch 354: Current LR = 6.25e-05\n",
      "Epoch 353 | Train Loss: 0.004506 | Test Loss: 0.004204\n",
      "Epoch 355: Current LR = 6.25e-05\n",
      "Epoch 354 | Train Loss: 0.004520 | Test Loss: 0.004201\n",
      "Epoch 356: Current LR = 6.25e-05\n",
      "Epoch 355 | Train Loss: 0.004514 | Test Loss: 0.004196\n",
      "Epoch 357: Current LR = 6.25e-05\n",
      "Epoch 356 | Train Loss: 0.004510 | Test Loss: 0.004194\n",
      "Epoch 358: Current LR = 6.25e-05\n",
      "Epoch 357 | Train Loss: 0.004517 | Test Loss: 0.004193\n",
      "Epoch 359: Current LR = 6.25e-05\n",
      "Epoch 358 | Train Loss: 0.004507 | Test Loss: 0.004191\n",
      "Epoch 360: Current LR = 6.25e-05\n",
      "Epoch 359 | Train Loss: 0.004495 | Test Loss: 0.004189\n",
      "Epoch 361: Current LR = 6.25e-05\n",
      "Epoch 360 | Train Loss: 0.004518 | Test Loss: 0.004187\n",
      "Epoch 362: Current LR = 6.25e-05\n",
      "Epoch 361 | Train Loss: 0.004508 | Test Loss: 0.004184\n",
      "Epoch 363: Current LR = 6.25e-05\n",
      "Epoch 362 | Train Loss: 0.004502 | Test Loss: 0.004182\n",
      "Epoch 364: Current LR = 6.25e-05\n",
      "Epoch 363 | Train Loss: 0.004500 | Test Loss: 0.004182\n",
      "Epoch 365: Current LR = 6.25e-05\n",
      "Epoch 364 | Train Loss: 0.004502 | Test Loss: 0.004178\n",
      "Epoch 366: Current LR = 6.25e-05\n",
      "Epoch 365 | Train Loss: 0.004490 | Test Loss: 0.004177\n",
      "Epoch 367: Current LR = 6.25e-05\n",
      "Epoch 366 | Train Loss: 0.004503 | Test Loss: 0.004176\n",
      "Epoch 368: Current LR = 6.25e-05\n",
      "Epoch 367 | Train Loss: 0.004486 | Test Loss: 0.004172\n",
      "Epoch 369: Current LR = 6.25e-05\n",
      "Epoch 368 | Train Loss: 0.004484 | Test Loss: 0.004178\n",
      "Epoch 370: Current LR = 6.25e-05\n",
      "Epoch 369 | Train Loss: 0.004495 | Test Loss: 0.004182\n",
      "Epoch 371: Current LR = 6.25e-05\n",
      "Epoch 370 | Train Loss: 0.004483 | Test Loss: 0.004175\n",
      "Epoch 372: Current LR = 6.25e-05\n",
      "Epoch 371 | Train Loss: 0.004480 | Test Loss: 0.004166\n",
      "Epoch 373: Current LR = 6.25e-05\n",
      "Epoch 372 | Train Loss: 0.004467 | Test Loss: 0.004167\n",
      "Epoch 374: Current LR = 6.25e-05\n",
      "Epoch 373 | Train Loss: 0.004482 | Test Loss: 0.004167\n",
      "Epoch 375: Current LR = 6.25e-05\n",
      "Epoch 374 | Train Loss: 0.004476 | Test Loss: 0.004161\n",
      "Epoch 376: Current LR = 6.25e-05\n",
      "Epoch 375 | Train Loss: 0.004480 | Test Loss: 0.004161\n",
      "Epoch 377: Current LR = 6.25e-05\n",
      "Epoch 376 | Train Loss: 0.004464 | Test Loss: 0.004163\n",
      "Epoch 378: Current LR = 6.25e-05\n",
      "Epoch 377 | Train Loss: 0.004491 | Test Loss: 0.004158\n",
      "Epoch 379: Current LR = 6.25e-05\n",
      "Epoch 378 | Train Loss: 0.004462 | Test Loss: 0.004154\n",
      "Epoch 380: Current LR = 6.25e-05\n",
      "Epoch 379 | Train Loss: 0.004459 | Test Loss: 0.004153\n",
      "Epoch 381: Current LR = 6.25e-05\n",
      "Epoch 380 | Train Loss: 0.004479 | Test Loss: 0.004151\n",
      "Epoch 382: Current LR = 6.25e-05\n",
      "Epoch 381 | Train Loss: 0.004453 | Test Loss: 0.004150\n",
      "Epoch 383: Current LR = 6.25e-05\n",
      "Epoch 382 | Train Loss: 0.004464 | Test Loss: 0.004149\n",
      "Epoch 384: Current LR = 6.25e-05\n",
      "Epoch 383 | Train Loss: 0.004444 | Test Loss: 0.004148\n",
      "Epoch 385: Current LR = 6.25e-05\n",
      "Epoch 384 | Train Loss: 0.004467 | Test Loss: 0.004145\n",
      "Epoch 386: Current LR = 6.25e-05\n",
      "Epoch 385 | Train Loss: 0.004440 | Test Loss: 0.004143\n",
      "Epoch 387: Current LR = 6.25e-05\n",
      "Epoch 386 | Train Loss: 0.004444 | Test Loss: 0.004143\n",
      "Epoch 388: Current LR = 6.25e-05\n",
      "Epoch 387 | Train Loss: 0.004450 | Test Loss: 0.004140\n",
      "Epoch 389: Current LR = 6.25e-05\n",
      "Epoch 388 | Train Loss: 0.004447 | Test Loss: 0.004139\n",
      "Epoch 390: Current LR = 6.25e-05\n",
      "Epoch 389 | Train Loss: 0.004450 | Test Loss: 0.004137\n",
      "Epoch 391: Current LR = 6.25e-05\n",
      "Epoch 390 | Train Loss: 0.004435 | Test Loss: 0.004134\n",
      "Epoch 392: Current LR = 6.25e-05\n",
      "Epoch 391 | Train Loss: 0.004456 | Test Loss: 0.004135\n",
      "Epoch 393: Current LR = 6.25e-05\n",
      "Epoch 392 | Train Loss: 0.004444 | Test Loss: 0.004132\n",
      "Epoch 394: Current LR = 6.25e-05\n",
      "Epoch 393 | Train Loss: 0.004429 | Test Loss: 0.004129\n",
      "Epoch 395: Current LR = 6.25e-05\n",
      "Epoch 394 | Train Loss: 0.004454 | Test Loss: 0.004128\n",
      "Epoch 396: Current LR = 6.25e-05\n",
      "Epoch 395 | Train Loss: 0.004438 | Test Loss: 0.004126\n",
      "Epoch 397: Current LR = 6.25e-05\n",
      "Epoch 396 | Train Loss: 0.004432 | Test Loss: 0.004128\n",
      "Epoch 398: Current LR = 6.25e-05\n",
      "Epoch 397 | Train Loss: 0.004418 | Test Loss: 0.004125\n",
      "Epoch 399: Current LR = 6.25e-05\n",
      "Epoch 398 | Train Loss: 0.004417 | Test Loss: 0.004121\n",
      "Epoch 400: Current LR = 6.25e-05\n",
      "Epoch 399 | Train Loss: 0.004419 | Test Loss: 0.004120\n",
      "Epoch 401: Current LR = 6.25e-05\n",
      "Epoch 400 | Train Loss: 0.004430 | Test Loss: 0.004120\n",
      "Epoch 402: Current LR = 6.25e-05\n",
      "Epoch 401 | Train Loss: 0.004419 | Test Loss: 0.004119\n",
      "Epoch 403: Current LR = 6.25e-05\n",
      "Epoch 402 | Train Loss: 0.004423 | Test Loss: 0.004116\n",
      "Epoch 404: Current LR = 6.25e-05\n",
      "Epoch 403 | Train Loss: 0.004422 | Test Loss: 0.004114\n",
      "Epoch 405: Current LR = 6.25e-05\n",
      "Epoch 404 | Train Loss: 0.004413 | Test Loss: 0.004115\n",
      "Epoch 406: Current LR = 6.25e-05\n",
      "Epoch 405 | Train Loss: 0.004421 | Test Loss: 0.004114\n",
      "Epoch 407: Current LR = 6.25e-05\n",
      "Epoch 406 | Train Loss: 0.004421 | Test Loss: 0.004110\n",
      "Epoch 408: Current LR = 6.25e-05\n",
      "Epoch 407 | Train Loss: 0.004427 | Test Loss: 0.004108\n",
      "Epoch 409: Current LR = 6.25e-05\n",
      "Epoch 408 | Train Loss: 0.004429 | Test Loss: 0.004107\n",
      "Epoch 410: Current LR = 6.25e-05\n",
      "Epoch 409 | Train Loss: 0.004428 | Test Loss: 0.004105\n",
      "Epoch 411: Current LR = 6.25e-05\n",
      "Epoch 410 | Train Loss: 0.004405 | Test Loss: 0.004104\n",
      "Epoch 412: Current LR = 6.25e-05\n",
      "Epoch 411 | Train Loss: 0.004407 | Test Loss: 0.004102\n",
      "Epoch 413: Current LR = 6.25e-05\n",
      "Epoch 412 | Train Loss: 0.004404 | Test Loss: 0.004100\n",
      "Epoch 414: Current LR = 6.25e-05\n",
      "Epoch 413 | Train Loss: 0.004414 | Test Loss: 0.004099\n",
      "Epoch 415: Current LR = 6.25e-05\n",
      "Epoch 414 | Train Loss: 0.004409 | Test Loss: 0.004096\n",
      "Epoch 416: Current LR = 6.25e-05\n",
      "Epoch 415 | Train Loss: 0.004420 | Test Loss: 0.004097\n",
      "Epoch 417: Current LR = 6.25e-05\n",
      "Epoch 416 | Train Loss: 0.004421 | Test Loss: 0.004097\n",
      "Epoch 418: Current LR = 6.25e-05\n",
      "Epoch 417 | Train Loss: 0.004408 | Test Loss: 0.004092\n",
      "Epoch 419: Current LR = 6.25e-05\n",
      "Epoch 418 | Train Loss: 0.004390 | Test Loss: 0.004093\n",
      "Epoch 420: Current LR = 6.25e-05\n",
      "Epoch 419 | Train Loss: 0.004401 | Test Loss: 0.004093\n",
      "Epoch 421: Current LR = 6.25e-05\n",
      "Epoch 420 | Train Loss: 0.004396 | Test Loss: 0.004088\n",
      "Epoch 422: Current LR = 6.25e-05\n",
      "Epoch 421 | Train Loss: 0.004394 | Test Loss: 0.004091\n",
      "Epoch 423: Current LR = 6.25e-05\n",
      "Epoch 422 | Train Loss: 0.004398 | Test Loss: 0.004096\n",
      "Epoch 424: Current LR = 6.25e-05\n",
      "Epoch 423 | Train Loss: 0.004408 | Test Loss: 0.004091\n",
      "Epoch 425: Current LR = 6.25e-05\n",
      "Epoch 424 | Train Loss: 0.004383 | Test Loss: 0.004083\n",
      "Epoch 426: Current LR = 6.25e-05\n",
      "Epoch 425 | Train Loss: 0.004399 | Test Loss: 0.004093\n",
      "Epoch 427: Current LR = 6.25e-05\n",
      "Epoch 426 | Train Loss: 0.004400 | Test Loss: 0.004107\n",
      "Epoch 428: Current LR = 6.25e-05\n",
      "Epoch 427 | Train Loss: 0.004408 | Test Loss: 0.004107\n",
      "Epoch 429: Current LR = 6.25e-05\n",
      "Epoch 428 | Train Loss: 0.004399 | Test Loss: 0.004092\n",
      "Epoch 430: Current LR = 6.25e-05\n",
      "Epoch 429 | Train Loss: 0.004391 | Test Loss: 0.004078\n",
      "Epoch 431: Current LR = 6.25e-05\n",
      "Epoch 430 | Train Loss: 0.004390 | Test Loss: 0.004085\n",
      "Epoch 432: Current LR = 6.25e-05\n",
      "Epoch 431 | Train Loss: 0.004392 | Test Loss: 0.004096\n",
      "Epoch 433: Current LR = 6.25e-05\n",
      "Epoch 432 | Train Loss: 0.004394 | Test Loss: 0.004092\n",
      "Epoch 434: Current LR = 6.25e-05\n",
      "Epoch 433 | Train Loss: 0.004412 | Test Loss: 0.004079\n",
      "Epoch 435: Current LR = 6.25e-05\n",
      "Epoch 434 | Train Loss: 0.004394 | Test Loss: 0.004075\n",
      "Epoch 436: Current LR = 6.25e-05\n",
      "Epoch 435 | Train Loss: 0.004370 | Test Loss: 0.004079\n",
      "Epoch 437: Current LR = 6.25e-05\n",
      "Epoch 436 | Train Loss: 0.004391 | Test Loss: 0.004075\n",
      "Epoch 438: Current LR = 6.25e-05\n",
      "Epoch 437 | Train Loss: 0.004380 | Test Loss: 0.004072\n",
      "Epoch 439: Current LR = 6.25e-05\n",
      "Epoch 438 | Train Loss: 0.004383 | Test Loss: 0.004073\n",
      "Epoch 440: Current LR = 6.25e-05\n",
      "Epoch 439 | Train Loss: 0.004370 | Test Loss: 0.004070\n",
      "Epoch 441: Current LR = 6.25e-05\n",
      "Epoch 440 | Train Loss: 0.004379 | Test Loss: 0.004071\n",
      "Epoch 442: Current LR = 6.25e-05\n",
      "Epoch 441 | Train Loss: 0.004383 | Test Loss: 0.004073\n",
      "Epoch 443: Current LR = 6.25e-05\n",
      "Epoch 442 | Train Loss: 0.004360 | Test Loss: 0.004069\n",
      "Epoch 444: Current LR = 6.25e-05\n",
      "Epoch 443 | Train Loss: 0.004371 | Test Loss: 0.004070\n",
      "Epoch 445: Current LR = 6.25e-05\n",
      "Epoch 444 | Train Loss: 0.004372 | Test Loss: 0.004072\n",
      "Epoch 446: Current LR = 6.25e-05\n",
      "Epoch 445 | Train Loss: 0.004377 | Test Loss: 0.004067\n",
      "Epoch 447: Current LR = 6.25e-05\n",
      "Epoch 446 | Train Loss: 0.004383 | Test Loss: 0.004068\n",
      "Epoch 448: Current LR = 6.25e-05\n",
      "Epoch 447 | Train Loss: 0.004373 | Test Loss: 0.004071\n",
      "Epoch 449: Current LR = 6.25e-05\n",
      "Epoch 448 | Train Loss: 0.004360 | Test Loss: 0.004067\n",
      "Epoch 450: Current LR = 6.25e-05\n",
      "Epoch 449 | Train Loss: 0.004381 | Test Loss: 0.004063\n",
      "Epoch 451: Current LR = 6.25e-05\n",
      "Epoch 450 | Train Loss: 0.004366 | Test Loss: 0.004063\n",
      "Epoch 452: Current LR = 6.25e-05\n",
      "Epoch 451 | Train Loss: 0.004357 | Test Loss: 0.004062\n",
      "Epoch 453: Current LR = 6.25e-05\n",
      "Epoch 452 | Train Loss: 0.004372 | Test Loss: 0.004067\n",
      "Epoch 454: Current LR = 6.25e-05\n",
      "Epoch 453 | Train Loss: 0.004361 | Test Loss: 0.004069\n",
      "Epoch 455: Current LR = 6.25e-05\n",
      "Epoch 454 | Train Loss: 0.004390 | Test Loss: 0.004062\n",
      "Epoch 456: Current LR = 6.25e-05\n",
      "Epoch 455 | Train Loss: 0.004374 | Test Loss: 0.004060\n",
      "Epoch 457: Current LR = 6.25e-05\n",
      "Epoch 456 | Train Loss: 0.004373 | Test Loss: 0.004062\n",
      "Epoch 458: Current LR = 6.25e-05\n",
      "Epoch 457 | Train Loss: 0.004345 | Test Loss: 0.004059\n",
      "Epoch 459: Current LR = 6.25e-05\n",
      "Epoch 458 | Train Loss: 0.004364 | Test Loss: 0.004057\n",
      "Epoch 460: Current LR = 6.25e-05\n",
      "Epoch 459 | Train Loss: 0.004350 | Test Loss: 0.004057\n",
      "Epoch 461: Current LR = 6.25e-05\n",
      "Epoch 460 | Train Loss: 0.004349 | Test Loss: 0.004054\n",
      "Epoch 462: Current LR = 6.25e-05\n",
      "Epoch 461 | Train Loss: 0.004340 | Test Loss: 0.004054\n",
      "Epoch 463: Current LR = 6.25e-05\n",
      "Epoch 462 | Train Loss: 0.004355 | Test Loss: 0.004052\n",
      "Epoch 464: Current LR = 6.25e-05\n",
      "Epoch 463 | Train Loss: 0.004348 | Test Loss: 0.004051\n",
      "Epoch 465: Current LR = 6.25e-05\n",
      "Epoch 464 | Train Loss: 0.004363 | Test Loss: 0.004049\n",
      "Epoch 466: Current LR = 6.25e-05\n",
      "Epoch 465 | Train Loss: 0.004351 | Test Loss: 0.004047\n",
      "Epoch 467: Current LR = 6.25e-05\n",
      "Epoch 466 | Train Loss: 0.004347 | Test Loss: 0.004045\n",
      "Epoch 468: Current LR = 6.25e-05\n",
      "Epoch 467 | Train Loss: 0.004348 | Test Loss: 0.004044\n",
      "Epoch 469: Current LR = 6.25e-05\n",
      "Epoch 468 | Train Loss: 0.004358 | Test Loss: 0.004042\n",
      "Epoch 470: Current LR = 6.25e-05\n",
      "Epoch 469 | Train Loss: 0.004340 | Test Loss: 0.004040\n",
      "Epoch 471: Current LR = 6.25e-05\n",
      "Epoch 470 | Train Loss: 0.004339 | Test Loss: 0.004037\n",
      "Epoch 472: Current LR = 6.25e-05\n",
      "Epoch 471 | Train Loss: 0.004341 | Test Loss: 0.004035\n",
      "Epoch 473: Current LR = 6.25e-05\n",
      "Epoch 472 | Train Loss: 0.004334 | Test Loss: 0.004033\n",
      "Epoch 474: Current LR = 6.25e-05\n",
      "Epoch 473 | Train Loss: 0.004333 | Test Loss: 0.004030\n",
      "Epoch 475: Current LR = 6.25e-05\n",
      "Epoch 474 | Train Loss: 0.004350 | Test Loss: 0.004028\n",
      "Epoch 476: Current LR = 6.25e-05\n",
      "Epoch 475 | Train Loss: 0.004326 | Test Loss: 0.004026\n",
      "Epoch 477: Current LR = 6.25e-05\n",
      "Epoch 476 | Train Loss: 0.004321 | Test Loss: 0.004023\n",
      "Epoch 478: Current LR = 6.25e-05\n",
      "Epoch 477 | Train Loss: 0.004328 | Test Loss: 0.004020\n",
      "Epoch 479: Current LR = 6.25e-05\n",
      "Epoch 478 | Train Loss: 0.004325 | Test Loss: 0.004019\n",
      "Epoch 480: Current LR = 6.25e-05\n",
      "Epoch 479 | Train Loss: 0.004319 | Test Loss: 0.004016\n",
      "Epoch 481: Current LR = 6.25e-05\n",
      "Epoch 480 | Train Loss: 0.004314 | Test Loss: 0.004015\n",
      "Epoch 482: Current LR = 6.25e-05\n",
      "Epoch 481 | Train Loss: 0.004314 | Test Loss: 0.004013\n",
      "Epoch 483: Current LR = 6.25e-05\n",
      "Epoch 482 | Train Loss: 0.004324 | Test Loss: 0.004008\n",
      "Epoch 484: Current LR = 6.25e-05\n",
      "Epoch 483 | Train Loss: 0.004312 | Test Loss: 0.004015\n",
      "Epoch 485: Current LR = 6.25e-05\n",
      "Epoch 484 | Train Loss: 0.004322 | Test Loss: 0.004019\n",
      "Epoch 486: Current LR = 6.25e-05\n",
      "Epoch 485 | Train Loss: 0.004308 | Test Loss: 0.004011\n",
      "Epoch 487: Current LR = 6.25e-05\n",
      "Epoch 486 | Train Loss: 0.004317 | Test Loss: 0.004001\n",
      "Epoch 488: Current LR = 6.25e-05\n",
      "Epoch 487 | Train Loss: 0.004305 | Test Loss: 0.003999\n",
      "Epoch 489: Current LR = 6.25e-05\n",
      "Epoch 488 | Train Loss: 0.004292 | Test Loss: 0.003997\n",
      "Epoch 490: Current LR = 6.25e-05\n",
      "Epoch 489 | Train Loss: 0.004296 | Test Loss: 0.003997\n",
      "Epoch 491: Current LR = 6.25e-05\n",
      "Epoch 490 | Train Loss: 0.004289 | Test Loss: 0.003996\n",
      "Epoch 492: Current LR = 6.25e-05\n",
      "Epoch 491 | Train Loss: 0.004281 | Test Loss: 0.003991\n",
      "Epoch 493: Current LR = 6.25e-05\n",
      "Epoch 492 | Train Loss: 0.004307 | Test Loss: 0.003989\n",
      "Epoch 494: Current LR = 6.25e-05\n",
      "Epoch 493 | Train Loss: 0.004283 | Test Loss: 0.003989\n",
      "Epoch 495: Current LR = 6.25e-05\n",
      "Epoch 494 | Train Loss: 0.004270 | Test Loss: 0.003986\n",
      "Epoch 496: Current LR = 6.25e-05\n",
      "Epoch 495 | Train Loss: 0.004290 | Test Loss: 0.003986\n",
      "Epoch 497: Current LR = 6.25e-05\n",
      "Epoch 496 | Train Loss: 0.004287 | Test Loss: 0.003985\n",
      "Epoch 498: Current LR = 6.25e-05\n",
      "Epoch 497 | Train Loss: 0.004286 | Test Loss: 0.003980\n",
      "Epoch 499: Current LR = 6.25e-05\n",
      "Epoch 498 | Train Loss: 0.004286 | Test Loss: 0.003986\n",
      "Epoch 500: Current LR = 6.25e-05\n",
      "Epoch 499 | Train Loss: 0.004283 | Test Loss: 0.003992\n"
     ]
    }
   ],
   "source": [
    "# 创建数据集 \n",
    "dataset = StockDataset(bk_data_ls, seq_length=16, forecast_gap=2)\n",
    "train_size = int(0.8 * len(dataset))\n",
    "train_set, test_set = torch.utils.data.random_split( \n",
    "    dataset, [train_size, len(dataset) - train_size]\n",
    ")\n",
    "\n",
    "# 数据加载器 \n",
    "train_loader = DataLoader(train_set, batch_size=100000, shuffle=True)\n",
    "test_loader = DataLoader(test_set, batch_size=100000)\n",
    "\n",
    "# 模型初始化\n",
    "device = 'cuda' if torch.cuda.is_available() else 'cpu'\n",
    "\n",
    "# 加载模型（需先实例化结构）\n",
    "model = MultiScaleAttentionLSTM(\n",
    "    input_size=7,  # 7个特征 \n",
    "    hidden_size=64,\n",
    "    num_layers_long = 3, \n",
    "    num_layers_short = 2\n",
    ").to(device)\n",
    "\n",
    "if os.path.exists('./model/model.pth'):\n",
    "    model.load_state_dict(torch.load('./model/model.pth')) \n",
    "\n",
    "# 训练参数 \n",
    "criterion = nn.MSELoss()\n",
    "grad_scaler = amp.GradScaler(device)\n",
    "optimizer = torch.optim.Adam(model.parameters(),  lr=0.001)\n",
    "scheduler = torch.optim.lr_scheduler.ReduceLROnPlateau( \n",
    "    optimizer, \n",
    "    mode='min',       # 监控验证损失\n",
    "    factor=0.5,       # 学习率衰减系数 \n",
    "    patience=5,       # 容忍5个epoch无改善\n",
    ")\n",
    "\n",
    "# ===== 4. 训练循环 =====\n",
    "for epoch in range(500):\n",
    "    model.train() \n",
    "    train_loss = 0 \n",
    "    for X_batch, y_batch in train_loader:\n",
    "        X_batch, y_batch = X_batch.to(device),  y_batch.to(device) \n",
    "        \n",
    "        with amp.autocast(device_type=device): \n",
    "            outputs = model(X_batch)\n",
    "            loss = criterion(outputs, y_batch)\n",
    "        train_loss += loss.item()\n",
    "        # 反向传播（自动处理精度）\n",
    "        grad_scaler.scale(loss).backward()   # 缩放梯度\n",
    "        nn.utils.clip_grad_norm_(model.parameters(), max_norm=1.0)\n",
    "        grad_scaler.step(optimizer)          # 更新参数 \n",
    "        grad_scaler.update()                 # 调整缩放因子 \n",
    "        optimizer.zero_grad() \n",
    "    print(f\"Epoch {epoch+1}: Current LR = {scheduler.get_last_lr()[0]}\") \n",
    "    # 验证\n",
    "    model.eval() \n",
    "    test_loss = 0\n",
    "    with torch.no_grad(): \n",
    "        for X_test, y_test in test_loader:\n",
    "            X_test, y_test = X_test.to(device),  y_test.to(device) \n",
    "            preds = model(X_test)\n",
    "            test_loss += criterion(preds, y_test).item()\n",
    "    \n",
    "    scheduler.step(test_loss) \n",
    "    print(f'Epoch {epoch} | Train Loss: {train_loss/len(train_loader):.6f} | Test Loss: {test_loss/len(test_loader):.6f}')\n",
    "\n",
    "torch.save(model.state_dict(),  './model/model.pth') \n"
   ]
  },
  {
   "cell_type": "code",
   "execution_count": 12,
   "id": "dca4f939",
   "metadata": {},
   "outputs": [
    {
     "name": "stderr",
     "output_type": "stream",
     "text": [
      "e:\\Python\\Python312\\Lib\\site-packages\\sklearn\\utils\\validation.py:2742: UserWarning: X has feature names, but MinMaxScaler was fitted without feature names\n",
      "  warnings.warn(\n",
      "e:\\Python\\Python312\\Lib\\site-packages\\sklearn\\utils\\validation.py:2742: UserWarning: X has feature names, but MinMaxScaler was fitted without feature names\n",
      "  warnings.warn(\n",
      "e:\\Python\\Python312\\Lib\\site-packages\\sklearn\\utils\\validation.py:2742: UserWarning: X has feature names, but MinMaxScaler was fitted without feature names\n",
      "  warnings.warn(\n",
      "e:\\Python\\Python312\\Lib\\site-packages\\sklearn\\utils\\validation.py:2742: UserWarning: X has feature names, but MinMaxScaler was fitted without feature names\n",
      "  warnings.warn(\n",
      "e:\\Python\\Python312\\Lib\\site-packages\\sklearn\\utils\\validation.py:2742: UserWarning: X has feature names, but MinMaxScaler was fitted without feature names\n",
      "  warnings.warn(\n",
      "e:\\Python\\Python312\\Lib\\site-packages\\sklearn\\utils\\validation.py:2742: UserWarning: X has feature names, but MinMaxScaler was fitted without feature names\n",
      "  warnings.warn(\n",
      "e:\\Python\\Python312\\Lib\\site-packages\\sklearn\\utils\\validation.py:2742: UserWarning: X has feature names, but MinMaxScaler was fitted without feature names\n",
      "  warnings.warn(\n",
      "e:\\Python\\Python312\\Lib\\site-packages\\sklearn\\utils\\validation.py:2742: UserWarning: X has feature names, but MinMaxScaler was fitted without feature names\n",
      "  warnings.warn(\n",
      "e:\\Python\\Python312\\Lib\\site-packages\\sklearn\\utils\\validation.py:2742: UserWarning: X has feature names, but MinMaxScaler was fitted without feature names\n",
      "  warnings.warn(\n",
      "e:\\Python\\Python312\\Lib\\site-packages\\sklearn\\utils\\validation.py:2742: UserWarning: X has feature names, but MinMaxScaler was fitted without feature names\n",
      "  warnings.warn(\n",
      "e:\\Python\\Python312\\Lib\\site-packages\\sklearn\\utils\\validation.py:2742: UserWarning: X has feature names, but MinMaxScaler was fitted without feature names\n",
      "  warnings.warn(\n",
      "e:\\Python\\Python312\\Lib\\site-packages\\sklearn\\utils\\validation.py:2742: UserWarning: X has feature names, but MinMaxScaler was fitted without feature names\n",
      "  warnings.warn(\n",
      "e:\\Python\\Python312\\Lib\\site-packages\\sklearn\\utils\\validation.py:2742: UserWarning: X has feature names, but MinMaxScaler was fitted without feature names\n",
      "  warnings.warn(\n",
      "e:\\Python\\Python312\\Lib\\site-packages\\sklearn\\utils\\validation.py:2742: UserWarning: X has feature names, but MinMaxScaler was fitted without feature names\n",
      "  warnings.warn(\n",
      "e:\\Python\\Python312\\Lib\\site-packages\\sklearn\\utils\\validation.py:2742: UserWarning: X has feature names, but MinMaxScaler was fitted without feature names\n",
      "  warnings.warn(\n",
      "e:\\Python\\Python312\\Lib\\site-packages\\sklearn\\utils\\validation.py:2742: UserWarning: X has feature names, but MinMaxScaler was fitted without feature names\n",
      "  warnings.warn(\n",
      "e:\\Python\\Python312\\Lib\\site-packages\\sklearn\\utils\\validation.py:2742: UserWarning: X has feature names, but MinMaxScaler was fitted without feature names\n",
      "  warnings.warn(\n",
      "e:\\Python\\Python312\\Lib\\site-packages\\sklearn\\utils\\validation.py:2742: UserWarning: X has feature names, but MinMaxScaler was fitted without feature names\n",
      "  warnings.warn(\n",
      "e:\\Python\\Python312\\Lib\\site-packages\\sklearn\\utils\\validation.py:2742: UserWarning: X has feature names, but MinMaxScaler was fitted without feature names\n",
      "  warnings.warn(\n",
      "e:\\Python\\Python312\\Lib\\site-packages\\sklearn\\utils\\validation.py:2742: UserWarning: X has feature names, but MinMaxScaler was fitted without feature names\n",
      "  warnings.warn(\n",
      "e:\\Python\\Python312\\Lib\\site-packages\\sklearn\\utils\\validation.py:2742: UserWarning: X has feature names, but MinMaxScaler was fitted without feature names\n",
      "  warnings.warn(\n",
      "e:\\Python\\Python312\\Lib\\site-packages\\sklearn\\utils\\validation.py:2742: UserWarning: X has feature names, but MinMaxScaler was fitted without feature names\n",
      "  warnings.warn(\n",
      "e:\\Python\\Python312\\Lib\\site-packages\\sklearn\\utils\\validation.py:2742: UserWarning: X has feature names, but MinMaxScaler was fitted without feature names\n",
      "  warnings.warn(\n",
      "e:\\Python\\Python312\\Lib\\site-packages\\sklearn\\utils\\validation.py:2742: UserWarning: X has feature names, but MinMaxScaler was fitted without feature names\n",
      "  warnings.warn(\n",
      "e:\\Python\\Python312\\Lib\\site-packages\\sklearn\\utils\\validation.py:2742: UserWarning: X has feature names, but MinMaxScaler was fitted without feature names\n",
      "  warnings.warn(\n",
      "e:\\Python\\Python312\\Lib\\site-packages\\sklearn\\utils\\validation.py:2742: UserWarning: X has feature names, but MinMaxScaler was fitted without feature names\n",
      "  warnings.warn(\n",
      "e:\\Python\\Python312\\Lib\\site-packages\\sklearn\\utils\\validation.py:2742: UserWarning: X has feature names, but MinMaxScaler was fitted without feature names\n",
      "  warnings.warn(\n",
      "e:\\Python\\Python312\\Lib\\site-packages\\sklearn\\utils\\validation.py:2742: UserWarning: X has feature names, but MinMaxScaler was fitted without feature names\n",
      "  warnings.warn(\n",
      "e:\\Python\\Python312\\Lib\\site-packages\\sklearn\\utils\\validation.py:2742: UserWarning: X has feature names, but MinMaxScaler was fitted without feature names\n",
      "  warnings.warn(\n",
      "e:\\Python\\Python312\\Lib\\site-packages\\sklearn\\utils\\validation.py:2742: UserWarning: X has feature names, but MinMaxScaler was fitted without feature names\n",
      "  warnings.warn(\n",
      "e:\\Python\\Python312\\Lib\\site-packages\\sklearn\\utils\\validation.py:2742: UserWarning: X has feature names, but MinMaxScaler was fitted without feature names\n",
      "  warnings.warn(\n",
      "e:\\Python\\Python312\\Lib\\site-packages\\sklearn\\utils\\validation.py:2742: UserWarning: X has feature names, but MinMaxScaler was fitted without feature names\n",
      "  warnings.warn(\n",
      "e:\\Python\\Python312\\Lib\\site-packages\\sklearn\\utils\\validation.py:2742: UserWarning: X has feature names, but MinMaxScaler was fitted without feature names\n",
      "  warnings.warn(\n",
      "e:\\Python\\Python312\\Lib\\site-packages\\sklearn\\utils\\validation.py:2742: UserWarning: X has feature names, but MinMaxScaler was fitted without feature names\n",
      "  warnings.warn(\n",
      "e:\\Python\\Python312\\Lib\\site-packages\\sklearn\\utils\\validation.py:2742: UserWarning: X has feature names, but MinMaxScaler was fitted without feature names\n",
      "  warnings.warn(\n",
      "e:\\Python\\Python312\\Lib\\site-packages\\sklearn\\utils\\validation.py:2742: UserWarning: X has feature names, but MinMaxScaler was fitted without feature names\n",
      "  warnings.warn(\n",
      "e:\\Python\\Python312\\Lib\\site-packages\\sklearn\\utils\\validation.py:2742: UserWarning: X has feature names, but MinMaxScaler was fitted without feature names\n",
      "  warnings.warn(\n",
      "e:\\Python\\Python312\\Lib\\site-packages\\sklearn\\utils\\validation.py:2742: UserWarning: X has feature names, but MinMaxScaler was fitted without feature names\n",
      "  warnings.warn(\n",
      "e:\\Python\\Python312\\Lib\\site-packages\\sklearn\\utils\\validation.py:2742: UserWarning: X has feature names, but MinMaxScaler was fitted without feature names\n",
      "  warnings.warn(\n",
      "e:\\Python\\Python312\\Lib\\site-packages\\sklearn\\utils\\validation.py:2742: UserWarning: X has feature names, but MinMaxScaler was fitted without feature names\n",
      "  warnings.warn(\n",
      "e:\\Python\\Python312\\Lib\\site-packages\\sklearn\\utils\\validation.py:2742: UserWarning: X has feature names, but MinMaxScaler was fitted without feature names\n",
      "  warnings.warn(\n",
      "e:\\Python\\Python312\\Lib\\site-packages\\sklearn\\utils\\validation.py:2742: UserWarning: X has feature names, but MinMaxScaler was fitted without feature names\n",
      "  warnings.warn(\n",
      "e:\\Python\\Python312\\Lib\\site-packages\\sklearn\\utils\\validation.py:2742: UserWarning: X has feature names, but MinMaxScaler was fitted without feature names\n",
      "  warnings.warn(\n",
      "e:\\Python\\Python312\\Lib\\site-packages\\sklearn\\utils\\validation.py:2742: UserWarning: X has feature names, but MinMaxScaler was fitted without feature names\n",
      "  warnings.warn(\n",
      "e:\\Python\\Python312\\Lib\\site-packages\\sklearn\\utils\\validation.py:2742: UserWarning: X has feature names, but MinMaxScaler was fitted without feature names\n",
      "  warnings.warn(\n",
      "e:\\Python\\Python312\\Lib\\site-packages\\sklearn\\utils\\validation.py:2742: UserWarning: X has feature names, but MinMaxScaler was fitted without feature names\n",
      "  warnings.warn(\n",
      "e:\\Python\\Python312\\Lib\\site-packages\\sklearn\\utils\\validation.py:2742: UserWarning: X has feature names, but MinMaxScaler was fitted without feature names\n",
      "  warnings.warn(\n",
      "e:\\Python\\Python312\\Lib\\site-packages\\sklearn\\utils\\validation.py:2742: UserWarning: X has feature names, but MinMaxScaler was fitted without feature names\n",
      "  warnings.warn(\n",
      "e:\\Python\\Python312\\Lib\\site-packages\\sklearn\\utils\\validation.py:2742: UserWarning: X has feature names, but MinMaxScaler was fitted without feature names\n",
      "  warnings.warn(\n",
      "e:\\Python\\Python312\\Lib\\site-packages\\sklearn\\utils\\validation.py:2742: UserWarning: X has feature names, but MinMaxScaler was fitted without feature names\n",
      "  warnings.warn(\n",
      "e:\\Python\\Python312\\Lib\\site-packages\\sklearn\\utils\\validation.py:2742: UserWarning: X has feature names, but MinMaxScaler was fitted without feature names\n",
      "  warnings.warn(\n",
      "e:\\Python\\Python312\\Lib\\site-packages\\sklearn\\utils\\validation.py:2742: UserWarning: X has feature names, but MinMaxScaler was fitted without feature names\n",
      "  warnings.warn(\n",
      "e:\\Python\\Python312\\Lib\\site-packages\\sklearn\\utils\\validation.py:2742: UserWarning: X has feature names, but MinMaxScaler was fitted without feature names\n",
      "  warnings.warn(\n",
      "e:\\Python\\Python312\\Lib\\site-packages\\sklearn\\utils\\validation.py:2742: UserWarning: X has feature names, but MinMaxScaler was fitted without feature names\n",
      "  warnings.warn(\n",
      "e:\\Python\\Python312\\Lib\\site-packages\\sklearn\\utils\\validation.py:2742: UserWarning: X has feature names, but MinMaxScaler was fitted without feature names\n",
      "  warnings.warn(\n",
      "e:\\Python\\Python312\\Lib\\site-packages\\sklearn\\utils\\validation.py:2742: UserWarning: X has feature names, but MinMaxScaler was fitted without feature names\n",
      "  warnings.warn(\n",
      "e:\\Python\\Python312\\Lib\\site-packages\\sklearn\\utils\\validation.py:2742: UserWarning: X has feature names, but MinMaxScaler was fitted without feature names\n",
      "  warnings.warn(\n",
      "e:\\Python\\Python312\\Lib\\site-packages\\sklearn\\utils\\validation.py:2742: UserWarning: X has feature names, but MinMaxScaler was fitted without feature names\n",
      "  warnings.warn(\n",
      "e:\\Python\\Python312\\Lib\\site-packages\\sklearn\\utils\\validation.py:2742: UserWarning: X has feature names, but MinMaxScaler was fitted without feature names\n",
      "  warnings.warn(\n",
      "e:\\Python\\Python312\\Lib\\site-packages\\sklearn\\utils\\validation.py:2742: UserWarning: X has feature names, but MinMaxScaler was fitted without feature names\n",
      "  warnings.warn(\n",
      "e:\\Python\\Python312\\Lib\\site-packages\\sklearn\\utils\\validation.py:2742: UserWarning: X has feature names, but MinMaxScaler was fitted without feature names\n",
      "  warnings.warn(\n",
      "e:\\Python\\Python312\\Lib\\site-packages\\sklearn\\utils\\validation.py:2742: UserWarning: X has feature names, but MinMaxScaler was fitted without feature names\n",
      "  warnings.warn(\n",
      "e:\\Python\\Python312\\Lib\\site-packages\\sklearn\\utils\\validation.py:2742: UserWarning: X has feature names, but MinMaxScaler was fitted without feature names\n",
      "  warnings.warn(\n",
      "e:\\Python\\Python312\\Lib\\site-packages\\sklearn\\utils\\validation.py:2742: UserWarning: X has feature names, but MinMaxScaler was fitted without feature names\n",
      "  warnings.warn(\n",
      "e:\\Python\\Python312\\Lib\\site-packages\\sklearn\\utils\\validation.py:2742: UserWarning: X has feature names, but MinMaxScaler was fitted without feature names\n",
      "  warnings.warn(\n",
      "e:\\Python\\Python312\\Lib\\site-packages\\sklearn\\utils\\validation.py:2742: UserWarning: X has feature names, but MinMaxScaler was fitted without feature names\n",
      "  warnings.warn(\n",
      "e:\\Python\\Python312\\Lib\\site-packages\\sklearn\\utils\\validation.py:2742: UserWarning: X has feature names, but MinMaxScaler was fitted without feature names\n",
      "  warnings.warn(\n",
      "e:\\Python\\Python312\\Lib\\site-packages\\sklearn\\utils\\validation.py:2742: UserWarning: X has feature names, but MinMaxScaler was fitted without feature names\n",
      "  warnings.warn(\n",
      "e:\\Python\\Python312\\Lib\\site-packages\\sklearn\\utils\\validation.py:2742: UserWarning: X has feature names, but MinMaxScaler was fitted without feature names\n",
      "  warnings.warn(\n",
      "e:\\Python\\Python312\\Lib\\site-packages\\sklearn\\utils\\validation.py:2742: UserWarning: X has feature names, but MinMaxScaler was fitted without feature names\n",
      "  warnings.warn(\n",
      "e:\\Python\\Python312\\Lib\\site-packages\\sklearn\\utils\\validation.py:2742: UserWarning: X has feature names, but MinMaxScaler was fitted without feature names\n",
      "  warnings.warn(\n",
      "e:\\Python\\Python312\\Lib\\site-packages\\sklearn\\utils\\validation.py:2742: UserWarning: X has feature names, but MinMaxScaler was fitted without feature names\n",
      "  warnings.warn(\n",
      "e:\\Python\\Python312\\Lib\\site-packages\\sklearn\\utils\\validation.py:2742: UserWarning: X has feature names, but MinMaxScaler was fitted without feature names\n",
      "  warnings.warn(\n",
      "e:\\Python\\Python312\\Lib\\site-packages\\sklearn\\utils\\validation.py:2742: UserWarning: X has feature names, but MinMaxScaler was fitted without feature names\n",
      "  warnings.warn(\n",
      "e:\\Python\\Python312\\Lib\\site-packages\\sklearn\\utils\\validation.py:2742: UserWarning: X has feature names, but MinMaxScaler was fitted without feature names\n",
      "  warnings.warn(\n",
      "e:\\Python\\Python312\\Lib\\site-packages\\sklearn\\utils\\validation.py:2742: UserWarning: X has feature names, but MinMaxScaler was fitted without feature names\n",
      "  warnings.warn(\n",
      "e:\\Python\\Python312\\Lib\\site-packages\\sklearn\\utils\\validation.py:2742: UserWarning: X has feature names, but MinMaxScaler was fitted without feature names\n",
      "  warnings.warn(\n",
      "e:\\Python\\Python312\\Lib\\site-packages\\sklearn\\utils\\validation.py:2742: UserWarning: X has feature names, but MinMaxScaler was fitted without feature names\n",
      "  warnings.warn(\n",
      "e:\\Python\\Python312\\Lib\\site-packages\\sklearn\\utils\\validation.py:2742: UserWarning: X has feature names, but MinMaxScaler was fitted without feature names\n",
      "  warnings.warn(\n",
      "e:\\Python\\Python312\\Lib\\site-packages\\sklearn\\utils\\validation.py:2742: UserWarning: X has feature names, but MinMaxScaler was fitted without feature names\n",
      "  warnings.warn(\n",
      "e:\\Python\\Python312\\Lib\\site-packages\\sklearn\\utils\\validation.py:2742: UserWarning: X has feature names, but MinMaxScaler was fitted without feature names\n",
      "  warnings.warn(\n",
      "e:\\Python\\Python312\\Lib\\site-packages\\sklearn\\utils\\validation.py:2742: UserWarning: X has feature names, but MinMaxScaler was fitted without feature names\n",
      "  warnings.warn(\n",
      "e:\\Python\\Python312\\Lib\\site-packages\\sklearn\\utils\\validation.py:2742: UserWarning: X has feature names, but MinMaxScaler was fitted without feature names\n",
      "  warnings.warn(\n",
      "e:\\Python\\Python312\\Lib\\site-packages\\sklearn\\utils\\validation.py:2742: UserWarning: X has feature names, but MinMaxScaler was fitted without feature names\n",
      "  warnings.warn(\n",
      "e:\\Python\\Python312\\Lib\\site-packages\\sklearn\\utils\\validation.py:2742: UserWarning: X has feature names, but MinMaxScaler was fitted without feature names\n",
      "  warnings.warn(\n",
      "e:\\Python\\Python312\\Lib\\site-packages\\sklearn\\utils\\validation.py:2742: UserWarning: X has feature names, but MinMaxScaler was fitted without feature names\n",
      "  warnings.warn(\n",
      "e:\\Python\\Python312\\Lib\\site-packages\\sklearn\\utils\\validation.py:2742: UserWarning: X has feature names, but MinMaxScaler was fitted without feature names\n",
      "  warnings.warn(\n",
      "e:\\Python\\Python312\\Lib\\site-packages\\sklearn\\utils\\validation.py:2742: UserWarning: X has feature names, but MinMaxScaler was fitted without feature names\n",
      "  warnings.warn(\n",
      "e:\\Python\\Python312\\Lib\\site-packages\\sklearn\\utils\\validation.py:2742: UserWarning: X has feature names, but MinMaxScaler was fitted without feature names\n",
      "  warnings.warn(\n",
      "e:\\Python\\Python312\\Lib\\site-packages\\sklearn\\utils\\validation.py:2742: UserWarning: X has feature names, but MinMaxScaler was fitted without feature names\n",
      "  warnings.warn(\n",
      "e:\\Python\\Python312\\Lib\\site-packages\\sklearn\\utils\\validation.py:2742: UserWarning: X has feature names, but MinMaxScaler was fitted without feature names\n",
      "  warnings.warn(\n",
      "e:\\Python\\Python312\\Lib\\site-packages\\sklearn\\utils\\validation.py:2742: UserWarning: X has feature names, but MinMaxScaler was fitted without feature names\n",
      "  warnings.warn(\n",
      "e:\\Python\\Python312\\Lib\\site-packages\\sklearn\\utils\\validation.py:2742: UserWarning: X has feature names, but MinMaxScaler was fitted without feature names\n",
      "  warnings.warn(\n",
      "e:\\Python\\Python312\\Lib\\site-packages\\sklearn\\utils\\validation.py:2742: UserWarning: X has feature names, but MinMaxScaler was fitted without feature names\n",
      "  warnings.warn(\n",
      "e:\\Python\\Python312\\Lib\\site-packages\\sklearn\\utils\\validation.py:2742: UserWarning: X has feature names, but MinMaxScaler was fitted without feature names\n",
      "  warnings.warn(\n",
      "e:\\Python\\Python312\\Lib\\site-packages\\sklearn\\utils\\validation.py:2742: UserWarning: X has feature names, but MinMaxScaler was fitted without feature names\n",
      "  warnings.warn(\n",
      "e:\\Python\\Python312\\Lib\\site-packages\\sklearn\\utils\\validation.py:2742: UserWarning: X has feature names, but MinMaxScaler was fitted without feature names\n",
      "  warnings.warn(\n",
      "e:\\Python\\Python312\\Lib\\site-packages\\sklearn\\utils\\validation.py:2742: UserWarning: X has feature names, but MinMaxScaler was fitted without feature names\n",
      "  warnings.warn(\n",
      "e:\\Python\\Python312\\Lib\\site-packages\\sklearn\\utils\\validation.py:2742: UserWarning: X has feature names, but MinMaxScaler was fitted without feature names\n",
      "  warnings.warn(\n",
      "e:\\Python\\Python312\\Lib\\site-packages\\sklearn\\utils\\validation.py:2742: UserWarning: X has feature names, but MinMaxScaler was fitted without feature names\n",
      "  warnings.warn(\n",
      "e:\\Python\\Python312\\Lib\\site-packages\\sklearn\\utils\\validation.py:2742: UserWarning: X has feature names, but MinMaxScaler was fitted without feature names\n",
      "  warnings.warn(\n",
      "e:\\Python\\Python312\\Lib\\site-packages\\sklearn\\utils\\validation.py:2742: UserWarning: X has feature names, but MinMaxScaler was fitted without feature names\n",
      "  warnings.warn(\n",
      "e:\\Python\\Python312\\Lib\\site-packages\\sklearn\\utils\\validation.py:2742: UserWarning: X has feature names, but MinMaxScaler was fitted without feature names\n",
      "  warnings.warn(\n",
      "e:\\Python\\Python312\\Lib\\site-packages\\sklearn\\utils\\validation.py:2742: UserWarning: X has feature names, but MinMaxScaler was fitted without feature names\n",
      "  warnings.warn(\n",
      "e:\\Python\\Python312\\Lib\\site-packages\\sklearn\\utils\\validation.py:2742: UserWarning: X has feature names, but MinMaxScaler was fitted without feature names\n",
      "  warnings.warn(\n",
      "e:\\Python\\Python312\\Lib\\site-packages\\sklearn\\utils\\validation.py:2742: UserWarning: X has feature names, but MinMaxScaler was fitted without feature names\n",
      "  warnings.warn(\n",
      "e:\\Python\\Python312\\Lib\\site-packages\\sklearn\\utils\\validation.py:2742: UserWarning: X has feature names, but MinMaxScaler was fitted without feature names\n",
      "  warnings.warn(\n",
      "e:\\Python\\Python312\\Lib\\site-packages\\sklearn\\utils\\validation.py:2742: UserWarning: X has feature names, but MinMaxScaler was fitted without feature names\n",
      "  warnings.warn(\n",
      "e:\\Python\\Python312\\Lib\\site-packages\\sklearn\\utils\\validation.py:2742: UserWarning: X has feature names, but MinMaxScaler was fitted without feature names\n",
      "  warnings.warn(\n",
      "e:\\Python\\Python312\\Lib\\site-packages\\sklearn\\utils\\validation.py:2742: UserWarning: X has feature names, but MinMaxScaler was fitted without feature names\n",
      "  warnings.warn(\n",
      "e:\\Python\\Python312\\Lib\\site-packages\\sklearn\\utils\\validation.py:2742: UserWarning: X has feature names, but MinMaxScaler was fitted without feature names\n",
      "  warnings.warn(\n",
      "e:\\Python\\Python312\\Lib\\site-packages\\sklearn\\utils\\validation.py:2742: UserWarning: X has feature names, but MinMaxScaler was fitted without feature names\n",
      "  warnings.warn(\n",
      "e:\\Python\\Python312\\Lib\\site-packages\\sklearn\\utils\\validation.py:2742: UserWarning: X has feature names, but MinMaxScaler was fitted without feature names\n",
      "  warnings.warn(\n",
      "e:\\Python\\Python312\\Lib\\site-packages\\sklearn\\utils\\validation.py:2742: UserWarning: X has feature names, but MinMaxScaler was fitted without feature names\n",
      "  warnings.warn(\n",
      "e:\\Python\\Python312\\Lib\\site-packages\\sklearn\\utils\\validation.py:2742: UserWarning: X has feature names, but MinMaxScaler was fitted without feature names\n",
      "  warnings.warn(\n",
      "e:\\Python\\Python312\\Lib\\site-packages\\sklearn\\utils\\validation.py:2742: UserWarning: X has feature names, but MinMaxScaler was fitted without feature names\n",
      "  warnings.warn(\n",
      "e:\\Python\\Python312\\Lib\\site-packages\\sklearn\\utils\\validation.py:2742: UserWarning: X has feature names, but MinMaxScaler was fitted without feature names\n",
      "  warnings.warn(\n",
      "e:\\Python\\Python312\\Lib\\site-packages\\sklearn\\utils\\validation.py:2742: UserWarning: X has feature names, but MinMaxScaler was fitted without feature names\n",
      "  warnings.warn(\n",
      "e:\\Python\\Python312\\Lib\\site-packages\\sklearn\\utils\\validation.py:2742: UserWarning: X has feature names, but MinMaxScaler was fitted without feature names\n",
      "  warnings.warn(\n",
      "e:\\Python\\Python312\\Lib\\site-packages\\sklearn\\utils\\validation.py:2742: UserWarning: X has feature names, but MinMaxScaler was fitted without feature names\n",
      "  warnings.warn(\n",
      "e:\\Python\\Python312\\Lib\\site-packages\\sklearn\\utils\\validation.py:2742: UserWarning: X has feature names, but MinMaxScaler was fitted without feature names\n",
      "  warnings.warn(\n",
      "e:\\Python\\Python312\\Lib\\site-packages\\sklearn\\utils\\validation.py:2742: UserWarning: X has feature names, but MinMaxScaler was fitted without feature names\n",
      "  warnings.warn(\n",
      "e:\\Python\\Python312\\Lib\\site-packages\\sklearn\\utils\\validation.py:2742: UserWarning: X has feature names, but MinMaxScaler was fitted without feature names\n",
      "  warnings.warn(\n",
      "e:\\Python\\Python312\\Lib\\site-packages\\sklearn\\utils\\validation.py:2742: UserWarning: X has feature names, but MinMaxScaler was fitted without feature names\n",
      "  warnings.warn(\n",
      "e:\\Python\\Python312\\Lib\\site-packages\\sklearn\\utils\\validation.py:2742: UserWarning: X has feature names, but MinMaxScaler was fitted without feature names\n",
      "  warnings.warn(\n",
      "e:\\Python\\Python312\\Lib\\site-packages\\sklearn\\utils\\validation.py:2742: UserWarning: X has feature names, but MinMaxScaler was fitted without feature names\n",
      "  warnings.warn(\n",
      "e:\\Python\\Python312\\Lib\\site-packages\\sklearn\\utils\\validation.py:2742: UserWarning: X has feature names, but MinMaxScaler was fitted without feature names\n",
      "  warnings.warn(\n",
      "e:\\Python\\Python312\\Lib\\site-packages\\sklearn\\utils\\validation.py:2742: UserWarning: X has feature names, but MinMaxScaler was fitted without feature names\n",
      "  warnings.warn(\n",
      "e:\\Python\\Python312\\Lib\\site-packages\\sklearn\\utils\\validation.py:2742: UserWarning: X has feature names, but MinMaxScaler was fitted without feature names\n",
      "  warnings.warn(\n",
      "e:\\Python\\Python312\\Lib\\site-packages\\sklearn\\utils\\validation.py:2742: UserWarning: X has feature names, but MinMaxScaler was fitted without feature names\n",
      "  warnings.warn(\n",
      "e:\\Python\\Python312\\Lib\\site-packages\\sklearn\\utils\\validation.py:2742: UserWarning: X has feature names, but MinMaxScaler was fitted without feature names\n",
      "  warnings.warn(\n",
      "e:\\Python\\Python312\\Lib\\site-packages\\sklearn\\utils\\validation.py:2742: UserWarning: X has feature names, but MinMaxScaler was fitted without feature names\n",
      "  warnings.warn(\n",
      "e:\\Python\\Python312\\Lib\\site-packages\\sklearn\\utils\\validation.py:2742: UserWarning: X has feature names, but MinMaxScaler was fitted without feature names\n",
      "  warnings.warn(\n",
      "e:\\Python\\Python312\\Lib\\site-packages\\sklearn\\utils\\validation.py:2742: UserWarning: X has feature names, but MinMaxScaler was fitted without feature names\n",
      "  warnings.warn(\n",
      "e:\\Python\\Python312\\Lib\\site-packages\\sklearn\\utils\\validation.py:2742: UserWarning: X has feature names, but MinMaxScaler was fitted without feature names\n",
      "  warnings.warn(\n",
      "e:\\Python\\Python312\\Lib\\site-packages\\sklearn\\utils\\validation.py:2742: UserWarning: X has feature names, but MinMaxScaler was fitted without feature names\n",
      "  warnings.warn(\n",
      "e:\\Python\\Python312\\Lib\\site-packages\\sklearn\\utils\\validation.py:2742: UserWarning: X has feature names, but MinMaxScaler was fitted without feature names\n",
      "  warnings.warn(\n",
      "e:\\Python\\Python312\\Lib\\site-packages\\sklearn\\utils\\validation.py:2742: UserWarning: X has feature names, but MinMaxScaler was fitted without feature names\n",
      "  warnings.warn(\n",
      "e:\\Python\\Python312\\Lib\\site-packages\\sklearn\\utils\\validation.py:2742: UserWarning: X has feature names, but MinMaxScaler was fitted without feature names\n",
      "  warnings.warn(\n",
      "e:\\Python\\Python312\\Lib\\site-packages\\sklearn\\utils\\validation.py:2742: UserWarning: X has feature names, but MinMaxScaler was fitted without feature names\n",
      "  warnings.warn(\n",
      "e:\\Python\\Python312\\Lib\\site-packages\\sklearn\\utils\\validation.py:2742: UserWarning: X has feature names, but MinMaxScaler was fitted without feature names\n",
      "  warnings.warn(\n",
      "e:\\Python\\Python312\\Lib\\site-packages\\sklearn\\utils\\validation.py:2742: UserWarning: X has feature names, but MinMaxScaler was fitted without feature names\n",
      "  warnings.warn(\n",
      "e:\\Python\\Python312\\Lib\\site-packages\\sklearn\\utils\\validation.py:2742: UserWarning: X has feature names, but MinMaxScaler was fitted without feature names\n",
      "  warnings.warn(\n",
      "e:\\Python\\Python312\\Lib\\site-packages\\sklearn\\utils\\validation.py:2742: UserWarning: X has feature names, but MinMaxScaler was fitted without feature names\n",
      "  warnings.warn(\n",
      "e:\\Python\\Python312\\Lib\\site-packages\\sklearn\\utils\\validation.py:2742: UserWarning: X has feature names, but MinMaxScaler was fitted without feature names\n",
      "  warnings.warn(\n",
      "e:\\Python\\Python312\\Lib\\site-packages\\sklearn\\utils\\validation.py:2742: UserWarning: X has feature names, but MinMaxScaler was fitted without feature names\n",
      "  warnings.warn(\n",
      "e:\\Python\\Python312\\Lib\\site-packages\\sklearn\\utils\\validation.py:2742: UserWarning: X has feature names, but MinMaxScaler was fitted without feature names\n",
      "  warnings.warn(\n",
      "e:\\Python\\Python312\\Lib\\site-packages\\sklearn\\utils\\validation.py:2742: UserWarning: X has feature names, but MinMaxScaler was fitted without feature names\n",
      "  warnings.warn(\n",
      "e:\\Python\\Python312\\Lib\\site-packages\\sklearn\\utils\\validation.py:2742: UserWarning: X has feature names, but MinMaxScaler was fitted without feature names\n",
      "  warnings.warn(\n",
      "e:\\Python\\Python312\\Lib\\site-packages\\sklearn\\utils\\validation.py:2742: UserWarning: X has feature names, but MinMaxScaler was fitted without feature names\n",
      "  warnings.warn(\n",
      "e:\\Python\\Python312\\Lib\\site-packages\\sklearn\\utils\\validation.py:2742: UserWarning: X has feature names, but MinMaxScaler was fitted without feature names\n",
      "  warnings.warn(\n",
      "e:\\Python\\Python312\\Lib\\site-packages\\sklearn\\utils\\validation.py:2742: UserWarning: X has feature names, but MinMaxScaler was fitted without feature names\n",
      "  warnings.warn(\n",
      "e:\\Python\\Python312\\Lib\\site-packages\\sklearn\\utils\\validation.py:2742: UserWarning: X has feature names, but MinMaxScaler was fitted without feature names\n",
      "  warnings.warn(\n",
      "e:\\Python\\Python312\\Lib\\site-packages\\sklearn\\utils\\validation.py:2742: UserWarning: X has feature names, but MinMaxScaler was fitted without feature names\n",
      "  warnings.warn(\n",
      "e:\\Python\\Python312\\Lib\\site-packages\\sklearn\\utils\\validation.py:2742: UserWarning: X has feature names, but MinMaxScaler was fitted without feature names\n",
      "  warnings.warn(\n",
      "e:\\Python\\Python312\\Lib\\site-packages\\sklearn\\utils\\validation.py:2742: UserWarning: X has feature names, but MinMaxScaler was fitted without feature names\n",
      "  warnings.warn(\n",
      "e:\\Python\\Python312\\Lib\\site-packages\\sklearn\\utils\\validation.py:2742: UserWarning: X has feature names, but MinMaxScaler was fitted without feature names\n",
      "  warnings.warn(\n",
      "e:\\Python\\Python312\\Lib\\site-packages\\sklearn\\utils\\validation.py:2742: UserWarning: X has feature names, but MinMaxScaler was fitted without feature names\n",
      "  warnings.warn(\n",
      "e:\\Python\\Python312\\Lib\\site-packages\\sklearn\\utils\\validation.py:2742: UserWarning: X has feature names, but MinMaxScaler was fitted without feature names\n",
      "  warnings.warn(\n",
      "e:\\Python\\Python312\\Lib\\site-packages\\sklearn\\utils\\validation.py:2742: UserWarning: X has feature names, but MinMaxScaler was fitted without feature names\n",
      "  warnings.warn(\n",
      "e:\\Python\\Python312\\Lib\\site-packages\\sklearn\\utils\\validation.py:2742: UserWarning: X has feature names, but MinMaxScaler was fitted without feature names\n",
      "  warnings.warn(\n",
      "e:\\Python\\Python312\\Lib\\site-packages\\sklearn\\utils\\validation.py:2742: UserWarning: X has feature names, but MinMaxScaler was fitted without feature names\n",
      "  warnings.warn(\n",
      "e:\\Python\\Python312\\Lib\\site-packages\\sklearn\\utils\\validation.py:2742: UserWarning: X has feature names, but MinMaxScaler was fitted without feature names\n",
      "  warnings.warn(\n",
      "e:\\Python\\Python312\\Lib\\site-packages\\sklearn\\utils\\validation.py:2742: UserWarning: X has feature names, but MinMaxScaler was fitted without feature names\n",
      "  warnings.warn(\n",
      "e:\\Python\\Python312\\Lib\\site-packages\\sklearn\\utils\\validation.py:2742: UserWarning: X has feature names, but MinMaxScaler was fitted without feature names\n",
      "  warnings.warn(\n",
      "e:\\Python\\Python312\\Lib\\site-packages\\sklearn\\utils\\validation.py:2742: UserWarning: X has feature names, but MinMaxScaler was fitted without feature names\n",
      "  warnings.warn(\n",
      "e:\\Python\\Python312\\Lib\\site-packages\\sklearn\\utils\\validation.py:2742: UserWarning: X has feature names, but MinMaxScaler was fitted without feature names\n",
      "  warnings.warn(\n",
      "e:\\Python\\Python312\\Lib\\site-packages\\sklearn\\utils\\validation.py:2742: UserWarning: X has feature names, but MinMaxScaler was fitted without feature names\n",
      "  warnings.warn(\n",
      "e:\\Python\\Python312\\Lib\\site-packages\\sklearn\\utils\\validation.py:2742: UserWarning: X has feature names, but MinMaxScaler was fitted without feature names\n",
      "  warnings.warn(\n",
      "e:\\Python\\Python312\\Lib\\site-packages\\sklearn\\utils\\validation.py:2742: UserWarning: X has feature names, but MinMaxScaler was fitted without feature names\n",
      "  warnings.warn(\n",
      "e:\\Python\\Python312\\Lib\\site-packages\\sklearn\\utils\\validation.py:2742: UserWarning: X has feature names, but MinMaxScaler was fitted without feature names\n",
      "  warnings.warn(\n",
      "e:\\Python\\Python312\\Lib\\site-packages\\sklearn\\utils\\validation.py:2742: UserWarning: X has feature names, but MinMaxScaler was fitted without feature names\n",
      "  warnings.warn(\n",
      "e:\\Python\\Python312\\Lib\\site-packages\\sklearn\\utils\\validation.py:2742: UserWarning: X has feature names, but MinMaxScaler was fitted without feature names\n",
      "  warnings.warn(\n",
      "e:\\Python\\Python312\\Lib\\site-packages\\sklearn\\utils\\validation.py:2742: UserWarning: X has feature names, but MinMaxScaler was fitted without feature names\n",
      "  warnings.warn(\n",
      "e:\\Python\\Python312\\Lib\\site-packages\\sklearn\\utils\\validation.py:2742: UserWarning: X has feature names, but MinMaxScaler was fitted without feature names\n",
      "  warnings.warn(\n",
      "e:\\Python\\Python312\\Lib\\site-packages\\sklearn\\utils\\validation.py:2742: UserWarning: X has feature names, but MinMaxScaler was fitted without feature names\n",
      "  warnings.warn(\n",
      "e:\\Python\\Python312\\Lib\\site-packages\\sklearn\\utils\\validation.py:2742: UserWarning: X has feature names, but MinMaxScaler was fitted without feature names\n",
      "  warnings.warn(\n",
      "e:\\Python\\Python312\\Lib\\site-packages\\sklearn\\utils\\validation.py:2742: UserWarning: X has feature names, but MinMaxScaler was fitted without feature names\n",
      "  warnings.warn(\n",
      "e:\\Python\\Python312\\Lib\\site-packages\\sklearn\\utils\\validation.py:2742: UserWarning: X has feature names, but MinMaxScaler was fitted without feature names\n",
      "  warnings.warn(\n",
      "e:\\Python\\Python312\\Lib\\site-packages\\sklearn\\utils\\validation.py:2742: UserWarning: X has feature names, but MinMaxScaler was fitted without feature names\n",
      "  warnings.warn(\n",
      "e:\\Python\\Python312\\Lib\\site-packages\\sklearn\\utils\\validation.py:2742: UserWarning: X has feature names, but MinMaxScaler was fitted without feature names\n",
      "  warnings.warn(\n",
      "e:\\Python\\Python312\\Lib\\site-packages\\sklearn\\utils\\validation.py:2742: UserWarning: X has feature names, but MinMaxScaler was fitted without feature names\n",
      "  warnings.warn(\n",
      "e:\\Python\\Python312\\Lib\\site-packages\\sklearn\\utils\\validation.py:2742: UserWarning: X has feature names, but MinMaxScaler was fitted without feature names\n",
      "  warnings.warn(\n",
      "e:\\Python\\Python312\\Lib\\site-packages\\sklearn\\utils\\validation.py:2742: UserWarning: X has feature names, but MinMaxScaler was fitted without feature names\n",
      "  warnings.warn(\n",
      "e:\\Python\\Python312\\Lib\\site-packages\\sklearn\\utils\\validation.py:2742: UserWarning: X has feature names, but MinMaxScaler was fitted without feature names\n",
      "  warnings.warn(\n",
      "e:\\Python\\Python312\\Lib\\site-packages\\sklearn\\utils\\validation.py:2742: UserWarning: X has feature names, but MinMaxScaler was fitted without feature names\n",
      "  warnings.warn(\n",
      "e:\\Python\\Python312\\Lib\\site-packages\\sklearn\\utils\\validation.py:2742: UserWarning: X has feature names, but MinMaxScaler was fitted without feature names\n",
      "  warnings.warn(\n",
      "e:\\Python\\Python312\\Lib\\site-packages\\sklearn\\utils\\validation.py:2742: UserWarning: X has feature names, but MinMaxScaler was fitted without feature names\n",
      "  warnings.warn(\n",
      "e:\\Python\\Python312\\Lib\\site-packages\\sklearn\\utils\\validation.py:2742: UserWarning: X has feature names, but MinMaxScaler was fitted without feature names\n",
      "  warnings.warn(\n",
      "e:\\Python\\Python312\\Lib\\site-packages\\sklearn\\utils\\validation.py:2742: UserWarning: X has feature names, but MinMaxScaler was fitted without feature names\n",
      "  warnings.warn(\n",
      "e:\\Python\\Python312\\Lib\\site-packages\\sklearn\\utils\\validation.py:2742: UserWarning: X has feature names, but MinMaxScaler was fitted without feature names\n",
      "  warnings.warn(\n",
      "e:\\Python\\Python312\\Lib\\site-packages\\sklearn\\utils\\validation.py:2742: UserWarning: X has feature names, but MinMaxScaler was fitted without feature names\n",
      "  warnings.warn(\n",
      "e:\\Python\\Python312\\Lib\\site-packages\\sklearn\\utils\\validation.py:2742: UserWarning: X has feature names, but MinMaxScaler was fitted without feature names\n",
      "  warnings.warn(\n",
      "e:\\Python\\Python312\\Lib\\site-packages\\sklearn\\utils\\validation.py:2742: UserWarning: X has feature names, but MinMaxScaler was fitted without feature names\n",
      "  warnings.warn(\n",
      "e:\\Python\\Python312\\Lib\\site-packages\\sklearn\\utils\\validation.py:2742: UserWarning: X has feature names, but MinMaxScaler was fitted without feature names\n",
      "  warnings.warn(\n",
      "e:\\Python\\Python312\\Lib\\site-packages\\sklearn\\utils\\validation.py:2742: UserWarning: X has feature names, but MinMaxScaler was fitted without feature names\n",
      "  warnings.warn(\n",
      "e:\\Python\\Python312\\Lib\\site-packages\\sklearn\\utils\\validation.py:2742: UserWarning: X has feature names, but MinMaxScaler was fitted without feature names\n",
      "  warnings.warn(\n",
      "e:\\Python\\Python312\\Lib\\site-packages\\sklearn\\utils\\validation.py:2742: UserWarning: X has feature names, but MinMaxScaler was fitted without feature names\n",
      "  warnings.warn(\n",
      "e:\\Python\\Python312\\Lib\\site-packages\\sklearn\\utils\\validation.py:2742: UserWarning: X has feature names, but MinMaxScaler was fitted without feature names\n",
      "  warnings.warn(\n",
      "e:\\Python\\Python312\\Lib\\site-packages\\sklearn\\utils\\validation.py:2742: UserWarning: X has feature names, but MinMaxScaler was fitted without feature names\n",
      "  warnings.warn(\n",
      "e:\\Python\\Python312\\Lib\\site-packages\\sklearn\\utils\\validation.py:2742: UserWarning: X has feature names, but MinMaxScaler was fitted without feature names\n",
      "  warnings.warn(\n",
      "e:\\Python\\Python312\\Lib\\site-packages\\sklearn\\utils\\validation.py:2742: UserWarning: X has feature names, but MinMaxScaler was fitted without feature names\n",
      "  warnings.warn(\n",
      "e:\\Python\\Python312\\Lib\\site-packages\\sklearn\\utils\\validation.py:2742: UserWarning: X has feature names, but MinMaxScaler was fitted without feature names\n",
      "  warnings.warn(\n",
      "e:\\Python\\Python312\\Lib\\site-packages\\sklearn\\utils\\validation.py:2742: UserWarning: X has feature names, but MinMaxScaler was fitted without feature names\n",
      "  warnings.warn(\n",
      "e:\\Python\\Python312\\Lib\\site-packages\\sklearn\\utils\\validation.py:2742: UserWarning: X has feature names, but MinMaxScaler was fitted without feature names\n",
      "  warnings.warn(\n",
      "e:\\Python\\Python312\\Lib\\site-packages\\sklearn\\utils\\validation.py:2742: UserWarning: X has feature names, but MinMaxScaler was fitted without feature names\n",
      "  warnings.warn(\n",
      "e:\\Python\\Python312\\Lib\\site-packages\\sklearn\\utils\\validation.py:2742: UserWarning: X has feature names, but MinMaxScaler was fitted without feature names\n",
      "  warnings.warn(\n",
      "e:\\Python\\Python312\\Lib\\site-packages\\sklearn\\utils\\validation.py:2742: UserWarning: X has feature names, but MinMaxScaler was fitted without feature names\n",
      "  warnings.warn(\n",
      "e:\\Python\\Python312\\Lib\\site-packages\\sklearn\\utils\\validation.py:2742: UserWarning: X has feature names, but MinMaxScaler was fitted without feature names\n",
      "  warnings.warn(\n",
      "e:\\Python\\Python312\\Lib\\site-packages\\sklearn\\utils\\validation.py:2742: UserWarning: X has feature names, but MinMaxScaler was fitted without feature names\n",
      "  warnings.warn(\n",
      "e:\\Python\\Python312\\Lib\\site-packages\\sklearn\\utils\\validation.py:2742: UserWarning: X has feature names, but MinMaxScaler was fitted without feature names\n",
      "  warnings.warn(\n",
      "e:\\Python\\Python312\\Lib\\site-packages\\sklearn\\utils\\validation.py:2742: UserWarning: X has feature names, but MinMaxScaler was fitted without feature names\n",
      "  warnings.warn(\n",
      "e:\\Python\\Python312\\Lib\\site-packages\\sklearn\\utils\\validation.py:2742: UserWarning: X has feature names, but MinMaxScaler was fitted without feature names\n",
      "  warnings.warn(\n",
      "e:\\Python\\Python312\\Lib\\site-packages\\sklearn\\utils\\validation.py:2742: UserWarning: X has feature names, but MinMaxScaler was fitted without feature names\n",
      "  warnings.warn(\n",
      "e:\\Python\\Python312\\Lib\\site-packages\\sklearn\\utils\\validation.py:2742: UserWarning: X has feature names, but MinMaxScaler was fitted without feature names\n",
      "  warnings.warn(\n",
      "e:\\Python\\Python312\\Lib\\site-packages\\sklearn\\utils\\validation.py:2742: UserWarning: X has feature names, but MinMaxScaler was fitted without feature names\n",
      "  warnings.warn(\n",
      "e:\\Python\\Python312\\Lib\\site-packages\\sklearn\\utils\\validation.py:2742: UserWarning: X has feature names, but MinMaxScaler was fitted without feature names\n",
      "  warnings.warn(\n",
      "e:\\Python\\Python312\\Lib\\site-packages\\sklearn\\utils\\validation.py:2742: UserWarning: X has feature names, but MinMaxScaler was fitted without feature names\n",
      "  warnings.warn(\n",
      "e:\\Python\\Python312\\Lib\\site-packages\\sklearn\\utils\\validation.py:2742: UserWarning: X has feature names, but MinMaxScaler was fitted without feature names\n",
      "  warnings.warn(\n",
      "e:\\Python\\Python312\\Lib\\site-packages\\sklearn\\utils\\validation.py:2742: UserWarning: X has feature names, but MinMaxScaler was fitted without feature names\n",
      "  warnings.warn(\n",
      "e:\\Python\\Python312\\Lib\\site-packages\\sklearn\\utils\\validation.py:2742: UserWarning: X has feature names, but MinMaxScaler was fitted without feature names\n",
      "  warnings.warn(\n",
      "e:\\Python\\Python312\\Lib\\site-packages\\sklearn\\utils\\validation.py:2742: UserWarning: X has feature names, but MinMaxScaler was fitted without feature names\n",
      "  warnings.warn(\n",
      "e:\\Python\\Python312\\Lib\\site-packages\\sklearn\\utils\\validation.py:2742: UserWarning: X has feature names, but MinMaxScaler was fitted without feature names\n",
      "  warnings.warn(\n",
      "e:\\Python\\Python312\\Lib\\site-packages\\sklearn\\utils\\validation.py:2742: UserWarning: X has feature names, but MinMaxScaler was fitted without feature names\n",
      "  warnings.warn(\n",
      "e:\\Python\\Python312\\Lib\\site-packages\\sklearn\\utils\\validation.py:2742: UserWarning: X has feature names, but MinMaxScaler was fitted without feature names\n",
      "  warnings.warn(\n",
      "e:\\Python\\Python312\\Lib\\site-packages\\sklearn\\utils\\validation.py:2742: UserWarning: X has feature names, but MinMaxScaler was fitted without feature names\n",
      "  warnings.warn(\n",
      "e:\\Python\\Python312\\Lib\\site-packages\\sklearn\\utils\\validation.py:2742: UserWarning: X has feature names, but MinMaxScaler was fitted without feature names\n",
      "  warnings.warn(\n",
      "e:\\Python\\Python312\\Lib\\site-packages\\sklearn\\utils\\validation.py:2742: UserWarning: X has feature names, but MinMaxScaler was fitted without feature names\n",
      "  warnings.warn(\n",
      "e:\\Python\\Python312\\Lib\\site-packages\\sklearn\\utils\\validation.py:2742: UserWarning: X has feature names, but MinMaxScaler was fitted without feature names\n",
      "  warnings.warn(\n",
      "e:\\Python\\Python312\\Lib\\site-packages\\sklearn\\utils\\validation.py:2742: UserWarning: X has feature names, but MinMaxScaler was fitted without feature names\n",
      "  warnings.warn(\n",
      "e:\\Python\\Python312\\Lib\\site-packages\\sklearn\\utils\\validation.py:2742: UserWarning: X has feature names, but MinMaxScaler was fitted without feature names\n",
      "  warnings.warn(\n",
      "e:\\Python\\Python312\\Lib\\site-packages\\sklearn\\utils\\validation.py:2742: UserWarning: X has feature names, but MinMaxScaler was fitted without feature names\n",
      "  warnings.warn(\n",
      "e:\\Python\\Python312\\Lib\\site-packages\\sklearn\\utils\\validation.py:2742: UserWarning: X has feature names, but MinMaxScaler was fitted without feature names\n",
      "  warnings.warn(\n",
      "e:\\Python\\Python312\\Lib\\site-packages\\sklearn\\utils\\validation.py:2742: UserWarning: X has feature names, but MinMaxScaler was fitted without feature names\n",
      "  warnings.warn(\n",
      "e:\\Python\\Python312\\Lib\\site-packages\\sklearn\\utils\\validation.py:2742: UserWarning: X has feature names, but MinMaxScaler was fitted without feature names\n",
      "  warnings.warn(\n",
      "e:\\Python\\Python312\\Lib\\site-packages\\sklearn\\utils\\validation.py:2742: UserWarning: X has feature names, but MinMaxScaler was fitted without feature names\n",
      "  warnings.warn(\n",
      "e:\\Python\\Python312\\Lib\\site-packages\\sklearn\\utils\\validation.py:2742: UserWarning: X has feature names, but MinMaxScaler was fitted without feature names\n",
      "  warnings.warn(\n",
      "e:\\Python\\Python312\\Lib\\site-packages\\sklearn\\utils\\validation.py:2742: UserWarning: X has feature names, but MinMaxScaler was fitted without feature names\n",
      "  warnings.warn(\n",
      "e:\\Python\\Python312\\Lib\\site-packages\\sklearn\\utils\\validation.py:2742: UserWarning: X has feature names, but MinMaxScaler was fitted without feature names\n",
      "  warnings.warn(\n",
      "e:\\Python\\Python312\\Lib\\site-packages\\sklearn\\utils\\validation.py:2742: UserWarning: X has feature names, but MinMaxScaler was fitted without feature names\n",
      "  warnings.warn(\n",
      "e:\\Python\\Python312\\Lib\\site-packages\\sklearn\\utils\\validation.py:2742: UserWarning: X has feature names, but MinMaxScaler was fitted without feature names\n",
      "  warnings.warn(\n",
      "e:\\Python\\Python312\\Lib\\site-packages\\sklearn\\utils\\validation.py:2742: UserWarning: X has feature names, but MinMaxScaler was fitted without feature names\n",
      "  warnings.warn(\n",
      "e:\\Python\\Python312\\Lib\\site-packages\\sklearn\\utils\\validation.py:2742: UserWarning: X has feature names, but MinMaxScaler was fitted without feature names\n",
      "  warnings.warn(\n",
      "e:\\Python\\Python312\\Lib\\site-packages\\sklearn\\utils\\validation.py:2742: UserWarning: X has feature names, but MinMaxScaler was fitted without feature names\n",
      "  warnings.warn(\n",
      "e:\\Python\\Python312\\Lib\\site-packages\\sklearn\\utils\\validation.py:2742: UserWarning: X has feature names, but MinMaxScaler was fitted without feature names\n",
      "  warnings.warn(\n",
      "e:\\Python\\Python312\\Lib\\site-packages\\sklearn\\utils\\validation.py:2742: UserWarning: X has feature names, but MinMaxScaler was fitted without feature names\n",
      "  warnings.warn(\n",
      "e:\\Python\\Python312\\Lib\\site-packages\\sklearn\\utils\\validation.py:2742: UserWarning: X has feature names, but MinMaxScaler was fitted without feature names\n",
      "  warnings.warn(\n",
      "e:\\Python\\Python312\\Lib\\site-packages\\sklearn\\utils\\validation.py:2742: UserWarning: X has feature names, but MinMaxScaler was fitted without feature names\n",
      "  warnings.warn(\n",
      "e:\\Python\\Python312\\Lib\\site-packages\\sklearn\\utils\\validation.py:2742: UserWarning: X has feature names, but MinMaxScaler was fitted without feature names\n",
      "  warnings.warn(\n",
      "e:\\Python\\Python312\\Lib\\site-packages\\sklearn\\utils\\validation.py:2742: UserWarning: X has feature names, but MinMaxScaler was fitted without feature names\n",
      "  warnings.warn(\n",
      "e:\\Python\\Python312\\Lib\\site-packages\\sklearn\\utils\\validation.py:2742: UserWarning: X has feature names, but MinMaxScaler was fitted without feature names\n",
      "  warnings.warn(\n",
      "e:\\Python\\Python312\\Lib\\site-packages\\sklearn\\utils\\validation.py:2742: UserWarning: X has feature names, but MinMaxScaler was fitted without feature names\n",
      "  warnings.warn(\n",
      "e:\\Python\\Python312\\Lib\\site-packages\\sklearn\\utils\\validation.py:2742: UserWarning: X has feature names, but MinMaxScaler was fitted without feature names\n",
      "  warnings.warn(\n",
      "e:\\Python\\Python312\\Lib\\site-packages\\sklearn\\utils\\validation.py:2742: UserWarning: X has feature names, but MinMaxScaler was fitted without feature names\n",
      "  warnings.warn(\n",
      "e:\\Python\\Python312\\Lib\\site-packages\\sklearn\\utils\\validation.py:2742: UserWarning: X has feature names, but MinMaxScaler was fitted without feature names\n",
      "  warnings.warn(\n",
      "e:\\Python\\Python312\\Lib\\site-packages\\sklearn\\utils\\validation.py:2742: UserWarning: X has feature names, but MinMaxScaler was fitted without feature names\n",
      "  warnings.warn(\n",
      "e:\\Python\\Python312\\Lib\\site-packages\\sklearn\\utils\\validation.py:2742: UserWarning: X has feature names, but MinMaxScaler was fitted without feature names\n",
      "  warnings.warn(\n",
      "e:\\Python\\Python312\\Lib\\site-packages\\sklearn\\utils\\validation.py:2742: UserWarning: X has feature names, but MinMaxScaler was fitted without feature names\n",
      "  warnings.warn(\n",
      "e:\\Python\\Python312\\Lib\\site-packages\\sklearn\\utils\\validation.py:2742: UserWarning: X has feature names, but MinMaxScaler was fitted without feature names\n",
      "  warnings.warn(\n",
      "e:\\Python\\Python312\\Lib\\site-packages\\sklearn\\utils\\validation.py:2742: UserWarning: X has feature names, but MinMaxScaler was fitted without feature names\n",
      "  warnings.warn(\n",
      "e:\\Python\\Python312\\Lib\\site-packages\\sklearn\\utils\\validation.py:2742: UserWarning: X has feature names, but MinMaxScaler was fitted without feature names\n",
      "  warnings.warn(\n",
      "e:\\Python\\Python312\\Lib\\site-packages\\sklearn\\utils\\validation.py:2742: UserWarning: X has feature names, but MinMaxScaler was fitted without feature names\n",
      "  warnings.warn(\n",
      "e:\\Python\\Python312\\Lib\\site-packages\\sklearn\\utils\\validation.py:2742: UserWarning: X has feature names, but MinMaxScaler was fitted without feature names\n",
      "  warnings.warn(\n",
      "e:\\Python\\Python312\\Lib\\site-packages\\sklearn\\utils\\validation.py:2742: UserWarning: X has feature names, but MinMaxScaler was fitted without feature names\n",
      "  warnings.warn(\n",
      "e:\\Python\\Python312\\Lib\\site-packages\\sklearn\\utils\\validation.py:2742: UserWarning: X has feature names, but MinMaxScaler was fitted without feature names\n",
      "  warnings.warn(\n",
      "e:\\Python\\Python312\\Lib\\site-packages\\sklearn\\utils\\validation.py:2742: UserWarning: X has feature names, but MinMaxScaler was fitted without feature names\n",
      "  warnings.warn(\n",
      "e:\\Python\\Python312\\Lib\\site-packages\\sklearn\\utils\\validation.py:2742: UserWarning: X has feature names, but MinMaxScaler was fitted without feature names\n",
      "  warnings.warn(\n",
      "e:\\Python\\Python312\\Lib\\site-packages\\sklearn\\utils\\validation.py:2742: UserWarning: X has feature names, but MinMaxScaler was fitted without feature names\n",
      "  warnings.warn(\n",
      "e:\\Python\\Python312\\Lib\\site-packages\\sklearn\\utils\\validation.py:2742: UserWarning: X has feature names, but MinMaxScaler was fitted without feature names\n",
      "  warnings.warn(\n",
      "e:\\Python\\Python312\\Lib\\site-packages\\sklearn\\utils\\validation.py:2742: UserWarning: X has feature names, but MinMaxScaler was fitted without feature names\n",
      "  warnings.warn(\n",
      "e:\\Python\\Python312\\Lib\\site-packages\\sklearn\\utils\\validation.py:2742: UserWarning: X has feature names, but MinMaxScaler was fitted without feature names\n",
      "  warnings.warn(\n",
      "e:\\Python\\Python312\\Lib\\site-packages\\sklearn\\utils\\validation.py:2742: UserWarning: X has feature names, but MinMaxScaler was fitted without feature names\n",
      "  warnings.warn(\n",
      "e:\\Python\\Python312\\Lib\\site-packages\\sklearn\\utils\\validation.py:2742: UserWarning: X has feature names, but MinMaxScaler was fitted without feature names\n",
      "  warnings.warn(\n",
      "e:\\Python\\Python312\\Lib\\site-packages\\sklearn\\utils\\validation.py:2742: UserWarning: X has feature names, but MinMaxScaler was fitted without feature names\n",
      "  warnings.warn(\n",
      "e:\\Python\\Python312\\Lib\\site-packages\\sklearn\\utils\\validation.py:2742: UserWarning: X has feature names, but MinMaxScaler was fitted without feature names\n",
      "  warnings.warn(\n",
      "e:\\Python\\Python312\\Lib\\site-packages\\sklearn\\utils\\validation.py:2742: UserWarning: X has feature names, but MinMaxScaler was fitted without feature names\n",
      "  warnings.warn(\n",
      "e:\\Python\\Python312\\Lib\\site-packages\\sklearn\\utils\\validation.py:2742: UserWarning: X has feature names, but MinMaxScaler was fitted without feature names\n",
      "  warnings.warn(\n",
      "e:\\Python\\Python312\\Lib\\site-packages\\sklearn\\utils\\validation.py:2742: UserWarning: X has feature names, but MinMaxScaler was fitted without feature names\n",
      "  warnings.warn(\n",
      "e:\\Python\\Python312\\Lib\\site-packages\\sklearn\\utils\\validation.py:2742: UserWarning: X has feature names, but MinMaxScaler was fitted without feature names\n",
      "  warnings.warn(\n",
      "e:\\Python\\Python312\\Lib\\site-packages\\sklearn\\utils\\validation.py:2742: UserWarning: X has feature names, but MinMaxScaler was fitted without feature names\n",
      "  warnings.warn(\n",
      "e:\\Python\\Python312\\Lib\\site-packages\\sklearn\\utils\\validation.py:2742: UserWarning: X has feature names, but MinMaxScaler was fitted without feature names\n",
      "  warnings.warn(\n",
      "e:\\Python\\Python312\\Lib\\site-packages\\sklearn\\utils\\validation.py:2742: UserWarning: X has feature names, but MinMaxScaler was fitted without feature names\n",
      "  warnings.warn(\n",
      "e:\\Python\\Python312\\Lib\\site-packages\\sklearn\\utils\\validation.py:2742: UserWarning: X has feature names, but MinMaxScaler was fitted without feature names\n",
      "  warnings.warn(\n",
      "e:\\Python\\Python312\\Lib\\site-packages\\sklearn\\utils\\validation.py:2742: UserWarning: X has feature names, but MinMaxScaler was fitted without feature names\n",
      "  warnings.warn(\n",
      "e:\\Python\\Python312\\Lib\\site-packages\\sklearn\\utils\\validation.py:2742: UserWarning: X has feature names, but MinMaxScaler was fitted without feature names\n",
      "  warnings.warn(\n",
      "e:\\Python\\Python312\\Lib\\site-packages\\sklearn\\utils\\validation.py:2742: UserWarning: X has feature names, but MinMaxScaler was fitted without feature names\n",
      "  warnings.warn(\n",
      "e:\\Python\\Python312\\Lib\\site-packages\\sklearn\\utils\\validation.py:2742: UserWarning: X has feature names, but MinMaxScaler was fitted without feature names\n",
      "  warnings.warn(\n",
      "e:\\Python\\Python312\\Lib\\site-packages\\sklearn\\utils\\validation.py:2742: UserWarning: X has feature names, but MinMaxScaler was fitted without feature names\n",
      "  warnings.warn(\n",
      "e:\\Python\\Python312\\Lib\\site-packages\\sklearn\\utils\\validation.py:2742: UserWarning: X has feature names, but MinMaxScaler was fitted without feature names\n",
      "  warnings.warn(\n",
      "e:\\Python\\Python312\\Lib\\site-packages\\sklearn\\utils\\validation.py:2742: UserWarning: X has feature names, but MinMaxScaler was fitted without feature names\n",
      "  warnings.warn(\n",
      "e:\\Python\\Python312\\Lib\\site-packages\\sklearn\\utils\\validation.py:2742: UserWarning: X has feature names, but MinMaxScaler was fitted without feature names\n",
      "  warnings.warn(\n",
      "e:\\Python\\Python312\\Lib\\site-packages\\sklearn\\utils\\validation.py:2742: UserWarning: X has feature names, but MinMaxScaler was fitted without feature names\n",
      "  warnings.warn(\n",
      "e:\\Python\\Python312\\Lib\\site-packages\\sklearn\\utils\\validation.py:2742: UserWarning: X has feature names, but MinMaxScaler was fitted without feature names\n",
      "  warnings.warn(\n",
      "e:\\Python\\Python312\\Lib\\site-packages\\sklearn\\utils\\validation.py:2742: UserWarning: X has feature names, but MinMaxScaler was fitted without feature names\n",
      "  warnings.warn(\n",
      "e:\\Python\\Python312\\Lib\\site-packages\\sklearn\\utils\\validation.py:2742: UserWarning: X has feature names, but MinMaxScaler was fitted without feature names\n",
      "  warnings.warn(\n",
      "e:\\Python\\Python312\\Lib\\site-packages\\sklearn\\utils\\validation.py:2742: UserWarning: X has feature names, but MinMaxScaler was fitted without feature names\n",
      "  warnings.warn(\n",
      "e:\\Python\\Python312\\Lib\\site-packages\\sklearn\\utils\\validation.py:2742: UserWarning: X has feature names, but MinMaxScaler was fitted without feature names\n",
      "  warnings.warn(\n",
      "e:\\Python\\Python312\\Lib\\site-packages\\sklearn\\utils\\validation.py:2742: UserWarning: X has feature names, but MinMaxScaler was fitted without feature names\n",
      "  warnings.warn(\n",
      "e:\\Python\\Python312\\Lib\\site-packages\\sklearn\\utils\\validation.py:2742: UserWarning: X has feature names, but MinMaxScaler was fitted without feature names\n",
      "  warnings.warn(\n",
      "e:\\Python\\Python312\\Lib\\site-packages\\sklearn\\utils\\validation.py:2742: UserWarning: X has feature names, but MinMaxScaler was fitted without feature names\n",
      "  warnings.warn(\n",
      "e:\\Python\\Python312\\Lib\\site-packages\\sklearn\\utils\\validation.py:2742: UserWarning: X has feature names, but MinMaxScaler was fitted without feature names\n",
      "  warnings.warn(\n",
      "e:\\Python\\Python312\\Lib\\site-packages\\sklearn\\utils\\validation.py:2742: UserWarning: X has feature names, but MinMaxScaler was fitted without feature names\n",
      "  warnings.warn(\n",
      "e:\\Python\\Python312\\Lib\\site-packages\\sklearn\\utils\\validation.py:2742: UserWarning: X has feature names, but MinMaxScaler was fitted without feature names\n",
      "  warnings.warn(\n",
      "e:\\Python\\Python312\\Lib\\site-packages\\sklearn\\utils\\validation.py:2742: UserWarning: X has feature names, but MinMaxScaler was fitted without feature names\n",
      "  warnings.warn(\n",
      "e:\\Python\\Python312\\Lib\\site-packages\\sklearn\\utils\\validation.py:2742: UserWarning: X has feature names, but MinMaxScaler was fitted without feature names\n",
      "  warnings.warn(\n",
      "e:\\Python\\Python312\\Lib\\site-packages\\sklearn\\utils\\validation.py:2742: UserWarning: X has feature names, but MinMaxScaler was fitted without feature names\n",
      "  warnings.warn(\n",
      "e:\\Python\\Python312\\Lib\\site-packages\\sklearn\\utils\\validation.py:2742: UserWarning: X has feature names, but MinMaxScaler was fitted without feature names\n",
      "  warnings.warn(\n",
      "e:\\Python\\Python312\\Lib\\site-packages\\sklearn\\utils\\validation.py:2742: UserWarning: X has feature names, but MinMaxScaler was fitted without feature names\n",
      "  warnings.warn(\n",
      "e:\\Python\\Python312\\Lib\\site-packages\\sklearn\\utils\\validation.py:2742: UserWarning: X has feature names, but MinMaxScaler was fitted without feature names\n",
      "  warnings.warn(\n",
      "e:\\Python\\Python312\\Lib\\site-packages\\sklearn\\utils\\validation.py:2742: UserWarning: X has feature names, but MinMaxScaler was fitted without feature names\n",
      "  warnings.warn(\n",
      "e:\\Python\\Python312\\Lib\\site-packages\\sklearn\\utils\\validation.py:2742: UserWarning: X has feature names, but MinMaxScaler was fitted without feature names\n",
      "  warnings.warn(\n",
      "e:\\Python\\Python312\\Lib\\site-packages\\sklearn\\utils\\validation.py:2742: UserWarning: X has feature names, but MinMaxScaler was fitted without feature names\n",
      "  warnings.warn(\n",
      "e:\\Python\\Python312\\Lib\\site-packages\\sklearn\\utils\\validation.py:2742: UserWarning: X has feature names, but MinMaxScaler was fitted without feature names\n",
      "  warnings.warn(\n",
      "e:\\Python\\Python312\\Lib\\site-packages\\sklearn\\utils\\validation.py:2742: UserWarning: X has feature names, but MinMaxScaler was fitted without feature names\n",
      "  warnings.warn(\n",
      "e:\\Python\\Python312\\Lib\\site-packages\\sklearn\\utils\\validation.py:2742: UserWarning: X has feature names, but MinMaxScaler was fitted without feature names\n",
      "  warnings.warn(\n",
      "e:\\Python\\Python312\\Lib\\site-packages\\sklearn\\utils\\validation.py:2742: UserWarning: X has feature names, but MinMaxScaler was fitted without feature names\n",
      "  warnings.warn(\n",
      "e:\\Python\\Python312\\Lib\\site-packages\\sklearn\\utils\\validation.py:2742: UserWarning: X has feature names, but MinMaxScaler was fitted without feature names\n",
      "  warnings.warn(\n",
      "e:\\Python\\Python312\\Lib\\site-packages\\sklearn\\utils\\validation.py:2742: UserWarning: X has feature names, but MinMaxScaler was fitted without feature names\n",
      "  warnings.warn(\n",
      "e:\\Python\\Python312\\Lib\\site-packages\\sklearn\\utils\\validation.py:2742: UserWarning: X has feature names, but MinMaxScaler was fitted without feature names\n",
      "  warnings.warn(\n",
      "e:\\Python\\Python312\\Lib\\site-packages\\sklearn\\utils\\validation.py:2742: UserWarning: X has feature names, but MinMaxScaler was fitted without feature names\n",
      "  warnings.warn(\n",
      "e:\\Python\\Python312\\Lib\\site-packages\\sklearn\\utils\\validation.py:2742: UserWarning: X has feature names, but MinMaxScaler was fitted without feature names\n",
      "  warnings.warn(\n",
      "e:\\Python\\Python312\\Lib\\site-packages\\sklearn\\utils\\validation.py:2742: UserWarning: X has feature names, but MinMaxScaler was fitted without feature names\n",
      "  warnings.warn(\n",
      "e:\\Python\\Python312\\Lib\\site-packages\\sklearn\\utils\\validation.py:2742: UserWarning: X has feature names, but MinMaxScaler was fitted without feature names\n",
      "  warnings.warn(\n",
      "e:\\Python\\Python312\\Lib\\site-packages\\sklearn\\utils\\validation.py:2742: UserWarning: X has feature names, but MinMaxScaler was fitted without feature names\n",
      "  warnings.warn(\n",
      "e:\\Python\\Python312\\Lib\\site-packages\\sklearn\\utils\\validation.py:2742: UserWarning: X has feature names, but MinMaxScaler was fitted without feature names\n",
      "  warnings.warn(\n",
      "e:\\Python\\Python312\\Lib\\site-packages\\sklearn\\utils\\validation.py:2742: UserWarning: X has feature names, but MinMaxScaler was fitted without feature names\n",
      "  warnings.warn(\n",
      "e:\\Python\\Python312\\Lib\\site-packages\\sklearn\\utils\\validation.py:2742: UserWarning: X has feature names, but MinMaxScaler was fitted without feature names\n",
      "  warnings.warn(\n",
      "e:\\Python\\Python312\\Lib\\site-packages\\sklearn\\utils\\validation.py:2742: UserWarning: X has feature names, but MinMaxScaler was fitted without feature names\n",
      "  warnings.warn(\n",
      "e:\\Python\\Python312\\Lib\\site-packages\\sklearn\\utils\\validation.py:2742: UserWarning: X has feature names, but MinMaxScaler was fitted without feature names\n",
      "  warnings.warn(\n",
      "e:\\Python\\Python312\\Lib\\site-packages\\sklearn\\utils\\validation.py:2742: UserWarning: X has feature names, but MinMaxScaler was fitted without feature names\n",
      "  warnings.warn(\n",
      "e:\\Python\\Python312\\Lib\\site-packages\\sklearn\\utils\\validation.py:2742: UserWarning: X has feature names, but MinMaxScaler was fitted without feature names\n",
      "  warnings.warn(\n",
      "e:\\Python\\Python312\\Lib\\site-packages\\sklearn\\utils\\validation.py:2742: UserWarning: X has feature names, but MinMaxScaler was fitted without feature names\n",
      "  warnings.warn(\n",
      "e:\\Python\\Python312\\Lib\\site-packages\\sklearn\\utils\\validation.py:2742: UserWarning: X has feature names, but MinMaxScaler was fitted without feature names\n",
      "  warnings.warn(\n",
      "e:\\Python\\Python312\\Lib\\site-packages\\sklearn\\utils\\validation.py:2742: UserWarning: X has feature names, but MinMaxScaler was fitted without feature names\n",
      "  warnings.warn(\n",
      "e:\\Python\\Python312\\Lib\\site-packages\\sklearn\\utils\\validation.py:2742: UserWarning: X has feature names, but MinMaxScaler was fitted without feature names\n",
      "  warnings.warn(\n",
      "e:\\Python\\Python312\\Lib\\site-packages\\sklearn\\utils\\validation.py:2742: UserWarning: X has feature names, but MinMaxScaler was fitted without feature names\n",
      "  warnings.warn(\n",
      "e:\\Python\\Python312\\Lib\\site-packages\\sklearn\\utils\\validation.py:2742: UserWarning: X has feature names, but MinMaxScaler was fitted without feature names\n",
      "  warnings.warn(\n",
      "e:\\Python\\Python312\\Lib\\site-packages\\sklearn\\utils\\validation.py:2742: UserWarning: X has feature names, but MinMaxScaler was fitted without feature names\n",
      "  warnings.warn(\n",
      "e:\\Python\\Python312\\Lib\\site-packages\\sklearn\\utils\\validation.py:2742: UserWarning: X has feature names, but MinMaxScaler was fitted without feature names\n",
      "  warnings.warn(\n",
      "e:\\Python\\Python312\\Lib\\site-packages\\sklearn\\utils\\validation.py:2742: UserWarning: X has feature names, but MinMaxScaler was fitted without feature names\n",
      "  warnings.warn(\n",
      "e:\\Python\\Python312\\Lib\\site-packages\\sklearn\\utils\\validation.py:2742: UserWarning: X has feature names, but MinMaxScaler was fitted without feature names\n",
      "  warnings.warn(\n",
      "e:\\Python\\Python312\\Lib\\site-packages\\sklearn\\utils\\validation.py:2742: UserWarning: X has feature names, but MinMaxScaler was fitted without feature names\n",
      "  warnings.warn(\n",
      "e:\\Python\\Python312\\Lib\\site-packages\\sklearn\\utils\\validation.py:2742: UserWarning: X has feature names, but MinMaxScaler was fitted without feature names\n",
      "  warnings.warn(\n",
      "e:\\Python\\Python312\\Lib\\site-packages\\sklearn\\utils\\validation.py:2742: UserWarning: X has feature names, but MinMaxScaler was fitted without feature names\n",
      "  warnings.warn(\n",
      "e:\\Python\\Python312\\Lib\\site-packages\\sklearn\\utils\\validation.py:2742: UserWarning: X has feature names, but MinMaxScaler was fitted without feature names\n",
      "  warnings.warn(\n",
      "e:\\Python\\Python312\\Lib\\site-packages\\sklearn\\utils\\validation.py:2742: UserWarning: X has feature names, but MinMaxScaler was fitted without feature names\n",
      "  warnings.warn(\n",
      "e:\\Python\\Python312\\Lib\\site-packages\\sklearn\\utils\\validation.py:2742: UserWarning: X has feature names, but MinMaxScaler was fitted without feature names\n",
      "  warnings.warn(\n",
      "e:\\Python\\Python312\\Lib\\site-packages\\sklearn\\utils\\validation.py:2742: UserWarning: X has feature names, but MinMaxScaler was fitted without feature names\n",
      "  warnings.warn(\n",
      "e:\\Python\\Python312\\Lib\\site-packages\\sklearn\\utils\\validation.py:2742: UserWarning: X has feature names, but MinMaxScaler was fitted without feature names\n",
      "  warnings.warn(\n",
      "e:\\Python\\Python312\\Lib\\site-packages\\sklearn\\utils\\validation.py:2742: UserWarning: X has feature names, but MinMaxScaler was fitted without feature names\n",
      "  warnings.warn(\n",
      "e:\\Python\\Python312\\Lib\\site-packages\\sklearn\\utils\\validation.py:2742: UserWarning: X has feature names, but MinMaxScaler was fitted without feature names\n",
      "  warnings.warn(\n",
      "e:\\Python\\Python312\\Lib\\site-packages\\sklearn\\utils\\validation.py:2742: UserWarning: X has feature names, but MinMaxScaler was fitted without feature names\n",
      "  warnings.warn(\n",
      "e:\\Python\\Python312\\Lib\\site-packages\\sklearn\\utils\\validation.py:2742: UserWarning: X has feature names, but MinMaxScaler was fitted without feature names\n",
      "  warnings.warn(\n",
      "e:\\Python\\Python312\\Lib\\site-packages\\sklearn\\utils\\validation.py:2742: UserWarning: X has feature names, but MinMaxScaler was fitted without feature names\n",
      "  warnings.warn(\n",
      "e:\\Python\\Python312\\Lib\\site-packages\\sklearn\\utils\\validation.py:2742: UserWarning: X has feature names, but MinMaxScaler was fitted without feature names\n",
      "  warnings.warn(\n",
      "e:\\Python\\Python312\\Lib\\site-packages\\sklearn\\utils\\validation.py:2742: UserWarning: X has feature names, but MinMaxScaler was fitted without feature names\n",
      "  warnings.warn(\n",
      "e:\\Python\\Python312\\Lib\\site-packages\\sklearn\\utils\\validation.py:2742: UserWarning: X has feature names, but MinMaxScaler was fitted without feature names\n",
      "  warnings.warn(\n",
      "e:\\Python\\Python312\\Lib\\site-packages\\sklearn\\utils\\validation.py:2742: UserWarning: X has feature names, but MinMaxScaler was fitted without feature names\n",
      "  warnings.warn(\n",
      "e:\\Python\\Python312\\Lib\\site-packages\\sklearn\\utils\\validation.py:2742: UserWarning: X has feature names, but MinMaxScaler was fitted without feature names\n",
      "  warnings.warn(\n",
      "e:\\Python\\Python312\\Lib\\site-packages\\sklearn\\utils\\validation.py:2742: UserWarning: X has feature names, but MinMaxScaler was fitted without feature names\n",
      "  warnings.warn(\n",
      "e:\\Python\\Python312\\Lib\\site-packages\\sklearn\\utils\\validation.py:2742: UserWarning: X has feature names, but MinMaxScaler was fitted without feature names\n",
      "  warnings.warn(\n",
      "e:\\Python\\Python312\\Lib\\site-packages\\sklearn\\utils\\validation.py:2742: UserWarning: X has feature names, but MinMaxScaler was fitted without feature names\n",
      "  warnings.warn(\n",
      "e:\\Python\\Python312\\Lib\\site-packages\\sklearn\\utils\\validation.py:2742: UserWarning: X has feature names, but MinMaxScaler was fitted without feature names\n",
      "  warnings.warn(\n",
      "e:\\Python\\Python312\\Lib\\site-packages\\sklearn\\utils\\validation.py:2742: UserWarning: X has feature names, but MinMaxScaler was fitted without feature names\n",
      "  warnings.warn(\n",
      "e:\\Python\\Python312\\Lib\\site-packages\\sklearn\\utils\\validation.py:2742: UserWarning: X has feature names, but MinMaxScaler was fitted without feature names\n",
      "  warnings.warn(\n",
      "e:\\Python\\Python312\\Lib\\site-packages\\sklearn\\utils\\validation.py:2742: UserWarning: X has feature names, but MinMaxScaler was fitted without feature names\n",
      "  warnings.warn(\n",
      "e:\\Python\\Python312\\Lib\\site-packages\\sklearn\\utils\\validation.py:2742: UserWarning: X has feature names, but MinMaxScaler was fitted without feature names\n",
      "  warnings.warn(\n",
      "e:\\Python\\Python312\\Lib\\site-packages\\sklearn\\utils\\validation.py:2742: UserWarning: X has feature names, but MinMaxScaler was fitted without feature names\n",
      "  warnings.warn(\n",
      "e:\\Python\\Python312\\Lib\\site-packages\\sklearn\\utils\\validation.py:2742: UserWarning: X has feature names, but MinMaxScaler was fitted without feature names\n",
      "  warnings.warn(\n",
      "e:\\Python\\Python312\\Lib\\site-packages\\sklearn\\utils\\validation.py:2742: UserWarning: X has feature names, but MinMaxScaler was fitted without feature names\n",
      "  warnings.warn(\n",
      "e:\\Python\\Python312\\Lib\\site-packages\\sklearn\\utils\\validation.py:2742: UserWarning: X has feature names, but MinMaxScaler was fitted without feature names\n",
      "  warnings.warn(\n",
      "e:\\Python\\Python312\\Lib\\site-packages\\sklearn\\utils\\validation.py:2742: UserWarning: X has feature names, but MinMaxScaler was fitted without feature names\n",
      "  warnings.warn(\n",
      "e:\\Python\\Python312\\Lib\\site-packages\\sklearn\\utils\\validation.py:2742: UserWarning: X has feature names, but MinMaxScaler was fitted without feature names\n",
      "  warnings.warn(\n",
      "e:\\Python\\Python312\\Lib\\site-packages\\sklearn\\utils\\validation.py:2742: UserWarning: X has feature names, but MinMaxScaler was fitted without feature names\n",
      "  warnings.warn(\n",
      "e:\\Python\\Python312\\Lib\\site-packages\\sklearn\\utils\\validation.py:2742: UserWarning: X has feature names, but MinMaxScaler was fitted without feature names\n",
      "  warnings.warn(\n",
      "e:\\Python\\Python312\\Lib\\site-packages\\sklearn\\utils\\validation.py:2742: UserWarning: X has feature names, but MinMaxScaler was fitted without feature names\n",
      "  warnings.warn(\n",
      "e:\\Python\\Python312\\Lib\\site-packages\\sklearn\\utils\\validation.py:2742: UserWarning: X has feature names, but MinMaxScaler was fitted without feature names\n",
      "  warnings.warn(\n",
      "e:\\Python\\Python312\\Lib\\site-packages\\sklearn\\utils\\validation.py:2742: UserWarning: X has feature names, but MinMaxScaler was fitted without feature names\n",
      "  warnings.warn(\n",
      "e:\\Python\\Python312\\Lib\\site-packages\\sklearn\\utils\\validation.py:2742: UserWarning: X has feature names, but MinMaxScaler was fitted without feature names\n",
      "  warnings.warn(\n",
      "e:\\Python\\Python312\\Lib\\site-packages\\sklearn\\utils\\validation.py:2742: UserWarning: X has feature names, but MinMaxScaler was fitted without feature names\n",
      "  warnings.warn(\n",
      "e:\\Python\\Python312\\Lib\\site-packages\\sklearn\\utils\\validation.py:2742: UserWarning: X has feature names, but MinMaxScaler was fitted without feature names\n",
      "  warnings.warn(\n",
      "e:\\Python\\Python312\\Lib\\site-packages\\sklearn\\utils\\validation.py:2742: UserWarning: X has feature names, but MinMaxScaler was fitted without feature names\n",
      "  warnings.warn(\n",
      "e:\\Python\\Python312\\Lib\\site-packages\\sklearn\\utils\\validation.py:2742: UserWarning: X has feature names, but MinMaxScaler was fitted without feature names\n",
      "  warnings.warn(\n",
      "e:\\Python\\Python312\\Lib\\site-packages\\sklearn\\utils\\validation.py:2742: UserWarning: X has feature names, but MinMaxScaler was fitted without feature names\n",
      "  warnings.warn(\n",
      "e:\\Python\\Python312\\Lib\\site-packages\\sklearn\\utils\\validation.py:2742: UserWarning: X has feature names, but MinMaxScaler was fitted without feature names\n",
      "  warnings.warn(\n",
      "e:\\Python\\Python312\\Lib\\site-packages\\sklearn\\utils\\validation.py:2742: UserWarning: X has feature names, but MinMaxScaler was fitted without feature names\n",
      "  warnings.warn(\n",
      "e:\\Python\\Python312\\Lib\\site-packages\\sklearn\\utils\\validation.py:2742: UserWarning: X has feature names, but MinMaxScaler was fitted without feature names\n",
      "  warnings.warn(\n",
      "e:\\Python\\Python312\\Lib\\site-packages\\sklearn\\utils\\validation.py:2742: UserWarning: X has feature names, but MinMaxScaler was fitted without feature names\n",
      "  warnings.warn(\n",
      "e:\\Python\\Python312\\Lib\\site-packages\\sklearn\\utils\\validation.py:2742: UserWarning: X has feature names, but MinMaxScaler was fitted without feature names\n",
      "  warnings.warn(\n",
      "e:\\Python\\Python312\\Lib\\site-packages\\sklearn\\utils\\validation.py:2742: UserWarning: X has feature names, but MinMaxScaler was fitted without feature names\n",
      "  warnings.warn(\n",
      "e:\\Python\\Python312\\Lib\\site-packages\\sklearn\\utils\\validation.py:2742: UserWarning: X has feature names, but MinMaxScaler was fitted without feature names\n",
      "  warnings.warn(\n",
      "e:\\Python\\Python312\\Lib\\site-packages\\sklearn\\utils\\validation.py:2742: UserWarning: X has feature names, but MinMaxScaler was fitted without feature names\n",
      "  warnings.warn(\n",
      "e:\\Python\\Python312\\Lib\\site-packages\\sklearn\\utils\\validation.py:2742: UserWarning: X has feature names, but MinMaxScaler was fitted without feature names\n",
      "  warnings.warn(\n",
      "e:\\Python\\Python312\\Lib\\site-packages\\sklearn\\utils\\validation.py:2742: UserWarning: X has feature names, but MinMaxScaler was fitted without feature names\n",
      "  warnings.warn(\n",
      "e:\\Python\\Python312\\Lib\\site-packages\\sklearn\\utils\\validation.py:2742: UserWarning: X has feature names, but MinMaxScaler was fitted without feature names\n",
      "  warnings.warn(\n",
      "e:\\Python\\Python312\\Lib\\site-packages\\sklearn\\utils\\validation.py:2742: UserWarning: X has feature names, but MinMaxScaler was fitted without feature names\n",
      "  warnings.warn(\n",
      "e:\\Python\\Python312\\Lib\\site-packages\\sklearn\\utils\\validation.py:2742: UserWarning: X has feature names, but MinMaxScaler was fitted without feature names\n",
      "  warnings.warn(\n",
      "e:\\Python\\Python312\\Lib\\site-packages\\sklearn\\utils\\validation.py:2742: UserWarning: X has feature names, but MinMaxScaler was fitted without feature names\n",
      "  warnings.warn(\n",
      "e:\\Python\\Python312\\Lib\\site-packages\\sklearn\\utils\\validation.py:2742: UserWarning: X has feature names, but MinMaxScaler was fitted without feature names\n",
      "  warnings.warn(\n",
      "e:\\Python\\Python312\\Lib\\site-packages\\sklearn\\utils\\validation.py:2742: UserWarning: X has feature names, but MinMaxScaler was fitted without feature names\n",
      "  warnings.warn(\n",
      "e:\\Python\\Python312\\Lib\\site-packages\\sklearn\\utils\\validation.py:2742: UserWarning: X has feature names, but MinMaxScaler was fitted without feature names\n",
      "  warnings.warn(\n",
      "e:\\Python\\Python312\\Lib\\site-packages\\sklearn\\utils\\validation.py:2742: UserWarning: X has feature names, but MinMaxScaler was fitted without feature names\n",
      "  warnings.warn(\n",
      "e:\\Python\\Python312\\Lib\\site-packages\\sklearn\\utils\\validation.py:2742: UserWarning: X has feature names, but MinMaxScaler was fitted without feature names\n",
      "  warnings.warn(\n",
      "e:\\Python\\Python312\\Lib\\site-packages\\sklearn\\utils\\validation.py:2742: UserWarning: X has feature names, but MinMaxScaler was fitted without feature names\n",
      "  warnings.warn(\n",
      "e:\\Python\\Python312\\Lib\\site-packages\\sklearn\\utils\\validation.py:2742: UserWarning: X has feature names, but MinMaxScaler was fitted without feature names\n",
      "  warnings.warn(\n",
      "e:\\Python\\Python312\\Lib\\site-packages\\sklearn\\utils\\validation.py:2742: UserWarning: X has feature names, but MinMaxScaler was fitted without feature names\n",
      "  warnings.warn(\n",
      "e:\\Python\\Python312\\Lib\\site-packages\\sklearn\\utils\\validation.py:2742: UserWarning: X has feature names, but MinMaxScaler was fitted without feature names\n",
      "  warnings.warn(\n",
      "e:\\Python\\Python312\\Lib\\site-packages\\sklearn\\utils\\validation.py:2742: UserWarning: X has feature names, but MinMaxScaler was fitted without feature names\n",
      "  warnings.warn(\n",
      "e:\\Python\\Python312\\Lib\\site-packages\\sklearn\\utils\\validation.py:2742: UserWarning: X has feature names, but MinMaxScaler was fitted without feature names\n",
      "  warnings.warn(\n",
      "e:\\Python\\Python312\\Lib\\site-packages\\sklearn\\utils\\validation.py:2742: UserWarning: X has feature names, but MinMaxScaler was fitted without feature names\n",
      "  warnings.warn(\n",
      "e:\\Python\\Python312\\Lib\\site-packages\\sklearn\\utils\\validation.py:2742: UserWarning: X has feature names, but MinMaxScaler was fitted without feature names\n",
      "  warnings.warn(\n",
      "e:\\Python\\Python312\\Lib\\site-packages\\sklearn\\utils\\validation.py:2742: UserWarning: X has feature names, but MinMaxScaler was fitted without feature names\n",
      "  warnings.warn(\n",
      "e:\\Python\\Python312\\Lib\\site-packages\\sklearn\\utils\\validation.py:2742: UserWarning: X has feature names, but MinMaxScaler was fitted without feature names\n",
      "  warnings.warn(\n",
      "e:\\Python\\Python312\\Lib\\site-packages\\sklearn\\utils\\validation.py:2742: UserWarning: X has feature names, but MinMaxScaler was fitted without feature names\n",
      "  warnings.warn(\n",
      "e:\\Python\\Python312\\Lib\\site-packages\\sklearn\\utils\\validation.py:2742: UserWarning: X has feature names, but MinMaxScaler was fitted without feature names\n",
      "  warnings.warn(\n",
      "e:\\Python\\Python312\\Lib\\site-packages\\sklearn\\utils\\validation.py:2742: UserWarning: X has feature names, but MinMaxScaler was fitted without feature names\n",
      "  warnings.warn(\n"
     ]
    },
    {
     "name": "stdout",
     "output_type": "stream",
     "text": [
      "('华为欧拉', 885982, 1762.5543, 1714.737, 2.7886074)\n"
     ]
    },
    {
     "name": "stderr",
     "output_type": "stream",
     "text": [
      "e:\\Python\\Python312\\Lib\\site-packages\\sklearn\\utils\\validation.py:2742: UserWarning: X has feature names, but MinMaxScaler was fitted without feature names\n",
      "  warnings.warn(\n",
      "e:\\Python\\Python312\\Lib\\site-packages\\sklearn\\utils\\validation.py:2742: UserWarning: X has feature names, but MinMaxScaler was fitted without feature names\n",
      "  warnings.warn(\n",
      "e:\\Python\\Python312\\Lib\\site-packages\\sklearn\\utils\\validation.py:2742: UserWarning: X has feature names, but MinMaxScaler was fitted without feature names\n",
      "  warnings.warn(\n",
      "e:\\Python\\Python312\\Lib\\site-packages\\sklearn\\utils\\validation.py:2742: UserWarning: X has feature names, but MinMaxScaler was fitted without feature names\n",
      "  warnings.warn(\n",
      "e:\\Python\\Python312\\Lib\\site-packages\\sklearn\\utils\\validation.py:2742: UserWarning: X has feature names, but MinMaxScaler was fitted without feature names\n",
      "  warnings.warn(\n",
      "e:\\Python\\Python312\\Lib\\site-packages\\sklearn\\utils\\validation.py:2742: UserWarning: X has feature names, but MinMaxScaler was fitted without feature names\n",
      "  warnings.warn(\n",
      "e:\\Python\\Python312\\Lib\\site-packages\\sklearn\\utils\\validation.py:2742: UserWarning: X has feature names, but MinMaxScaler was fitted without feature names\n",
      "  warnings.warn(\n",
      "e:\\Python\\Python312\\Lib\\site-packages\\sklearn\\utils\\validation.py:2742: UserWarning: X has feature names, but MinMaxScaler was fitted without feature names\n",
      "  warnings.warn(\n",
      "e:\\Python\\Python312\\Lib\\site-packages\\sklearn\\utils\\validation.py:2742: UserWarning: X has feature names, but MinMaxScaler was fitted without feature names\n",
      "  warnings.warn(\n",
      "e:\\Python\\Python312\\Lib\\site-packages\\sklearn\\utils\\validation.py:2742: UserWarning: X has feature names, but MinMaxScaler was fitted without feature names\n",
      "  warnings.warn(\n",
      "e:\\Python\\Python312\\Lib\\site-packages\\sklearn\\utils\\validation.py:2742: UserWarning: X has feature names, but MinMaxScaler was fitted without feature names\n",
      "  warnings.warn(\n",
      "e:\\Python\\Python312\\Lib\\site-packages\\sklearn\\utils\\validation.py:2742: UserWarning: X has feature names, but MinMaxScaler was fitted without feature names\n",
      "  warnings.warn(\n",
      "e:\\Python\\Python312\\Lib\\site-packages\\sklearn\\utils\\validation.py:2742: UserWarning: X has feature names, but MinMaxScaler was fitted without feature names\n",
      "  warnings.warn(\n",
      "e:\\Python\\Python312\\Lib\\site-packages\\sklearn\\utils\\validation.py:2742: UserWarning: X has feature names, but MinMaxScaler was fitted without feature names\n",
      "  warnings.warn(\n",
      "e:\\Python\\Python312\\Lib\\site-packages\\sklearn\\utils\\validation.py:2742: UserWarning: X has feature names, but MinMaxScaler was fitted without feature names\n",
      "  warnings.warn(\n",
      "e:\\Python\\Python312\\Lib\\site-packages\\sklearn\\utils\\validation.py:2742: UserWarning: X has feature names, but MinMaxScaler was fitted without feature names\n",
      "  warnings.warn(\n",
      "e:\\Python\\Python312\\Lib\\site-packages\\sklearn\\utils\\validation.py:2742: UserWarning: X has feature names, but MinMaxScaler was fitted without feature names\n",
      "  warnings.warn(\n",
      "e:\\Python\\Python312\\Lib\\site-packages\\sklearn\\utils\\validation.py:2742: UserWarning: X has feature names, but MinMaxScaler was fitted without feature names\n",
      "  warnings.warn(\n"
     ]
    }
   ],
   "source": [
    "# ===== 5. 预测示例 =====\n",
    "model.eval()\n",
    "dtype = [('name', 'U20'), ('code', 'i4'), ('real_pred', 'f4'), ('close', 'f4'), ('change_rate', 'f4')]\n",
    "arr = np.empty(len(bk_data_ls), dtype= dtype)\n",
    "\n",
    "with torch.no_grad():\n",
    "    for i in range(len(bk_data_ls)):\n",
    "        name, code, data = bk_data_ls[i]\n",
    "        scaler = dataset.get_scaler(code)\n",
    "        max_index = len(data) - dataset.seq_length\n",
    "        seq_features = scaler.transform(data.iloc[max_index:,1:])\n",
    "        code_feature = code_scaler.transform(pd.DataFrame({\"code\": [code]}))\n",
    "        seq_features = np.insert(seq_features,  1, code_feature, axis=1)\n",
    "        X = torch.tensor(seq_features,  dtype=torch.float32).to(device)\n",
    "        X=X.unsqueeze(0)  # 添加批次维度\n",
    "\n",
    "        prediction = model(X)\n",
    "        scaled_pred = prediction.cpu().numpy() \n",
    "        \n",
    "        # 逆归一化收盘价 \n",
    "        dummy = np.zeros((1,  6))\n",
    "        dummy[:, 3] = scaled_pred  # 将预测值放入close列\n",
    "        real_pred = scaler.inverse_transform(dummy)[0,  3]\n",
    "        # if real_pred > data.iloc[-1,  3]:\n",
    "        #     print(\"high\")\n",
    "        # else:\n",
    "        #     print(\"low\")\n",
    "        # print(f'stock name: {name}, stock code: {code}, 今天收盘价：{data.iloc[-1,  3]}, 预测的后天收盘价: {real_pred:.2f}')\n",
    "        change_rate = (real_pred/data.iloc[-1,  3] - 1)* 100\n",
    "        arr[i] = (name, code, real_pred, data.iloc[-1,  3], change_rate)\n",
    "\n",
    "arr = arr[np.argsort(arr['change_rate'])][::-1]\n",
    "print(arr[0])\n",
    "np.savetxt(\"output.csv\",  arr, delimiter=\",\", fmt='%s,%d,%.4f,%.4f,%.4f', encoding='utf-8')\n"
   ]
  },
  {
   "cell_type": "code",
   "execution_count": null,
   "id": "734c8eb9",
   "metadata": {},
   "outputs": [],
   "source": []
  },
  {
   "cell_type": "code",
   "execution_count": null,
   "id": "eb1b84f1",
   "metadata": {},
   "outputs": [],
   "source": []
  },
  {
   "cell_type": "code",
   "execution_count": null,
   "id": "ab3ed238",
   "metadata": {},
   "outputs": [],
   "source": []
  }
 ],
 "metadata": {
  "kernelspec": {
   "display_name": "Python 3",
   "language": "python",
   "name": "python3"
  },
  "language_info": {
   "codemirror_mode": {
    "name": "ipython",
    "version": 3
   },
   "file_extension": ".py",
   "mimetype": "text/x-python",
   "name": "python",
   "nbconvert_exporter": "python",
   "pygments_lexer": "ipython3",
   "version": "3.12.9"
  }
 },
 "nbformat": 4,
 "nbformat_minor": 5
}
