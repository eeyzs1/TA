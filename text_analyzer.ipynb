{
 "cells": [
  {
   "cell_type": "code",
   "execution_count": null,
   "id": "9752d250",
   "metadata": {},
   "outputs": [],
   "source": []
  },
  {
   "cell_type": "code",
   "execution_count": null,
   "id": "c788b91a",
   "metadata": {},
   "outputs": [],
   "source": []
  },
  {
   "cell_type": "code",
   "execution_count": null,
   "id": "021c207f",
   "metadata": {},
   "outputs": [],
   "source": [
    "import requests\n",
    "from bs4 import BeautifulSoup\n",
    "\n",
    "\n",
    "headers = {\n",
    "        \"User-Agent\": \"Mozilla/5.0 (Windows NT 10.0; Win64; x64) AppleWebKit/537.36 (KHTML, like Gecko) \"\n",
    "        \"Chrome/89.0.4389.90 Safari/537.36\",\n",
    "        \"accept\": \"text/html,application/xhtml+xml,application/xml;q=0.9,image/avif,image/webp,image/apng,*/*;q=0.8,application/signed-exchange;v=b3;q=0.7\",\n",
    "        \"accept-encoding\": \"gzip, deflate, br, zstd\",\n",
    "        \"accept-language\": \"en,zh-CN;q=0.9,zh;q=0.8,en-GB;q=0.7,en-US;q=0.6\"\n",
    "    }\n",
    "\n",
    "url = \"http://www.gov.cn/zhengce/index.htm\" \n",
    "response = requests.get(url, headers=headers) "
   ]
  },
  {
   "cell_type": "code",
   "execution_count": null,
   "id": "2720e3b4",
   "metadata": {},
   "outputs": [
    {
     "name": "stdout",
     "output_type": "stream",
     "text": [
      "\n",
      "              国务院办公厅关于印发《“三北”工程总体规划》的通知\n",
      "            \n"
     ]
    }
   ],
   "source": [
    "# html_content = response.content.decode('utf-8')   # 显式用 UTF-8 解码字节流\n",
    "# print(html_content)\n",
    "response.encoding  = response.apparent_encoding\n",
    "soup = BeautifulSoup(response.text,  'html.parser')\n",
    "policy_div = soup.find(name=\"div\", attrs={\"class\": \"list fl\"})\n",
    "# policy_texts = [p.get_text() for p in soup.select('.news_box  li a')]\n",
    "print(policy_div.find_all(name = 'a')[0].get('href'))"
   ]
  },
  {
   "cell_type": "code",
   "execution_count": 31,
   "id": "0b190ab2",
   "metadata": {},
   "outputs": [
    {
     "name": "stdout",
     "output_type": "stream",
     "text": [
      "国务院办公厅关于印发《“三北”工程总体规划》的通知国办发〔2025〕32号各省、自治区、直辖市人民政府，新疆生产建设兵团，国务院各部委、各直属机构：修编后的《“三北”工程总体规划》已经国务院同意，现印发给你们，请结合实际认真贯彻执行。国务院办公厅         2025年9月6日        （本文有删减）“三北”工程总体规划1978年，我国启动“三北”工程建设，建设期为1978—2050年，分三个阶段、八期工程。经过40多年不懈努力，已完成两个阶段、五期工程，实现营造林保存面积3174.29万公顷，治理荒漠化、沙化土地33.6万平方千米，工程区森林覆盖率、林草覆盖率分别提高到13.84%、39.63%，创造了举世瞩目的生态奇迹，铸就了“艰苦奋斗、无私奉献、锲而不舍、久久为功”的“三北精神”，树立了生态治理的国际典范。党的十八大以来，习近平总书记多次作出重要指示批示，强调“三北”工程事关我国生态安全、事关强国建设、事关中华民族永续发展，要求勇担使命、不畏艰辛、久久为功，努力创造新时代中国防沙治沙新奇迹，把祖国北疆这道万里绿色屏障构筑得更加牢固。为指导各地区保持战略定力，持续推动“三北”工程高质量发展，修编本规划。一、总体要求以习近平新时代中国特色社会主义思想为指导，认真贯彻习近平生态文明思想，完整准确全面贯彻新发展理念，坚持山水林田湖草沙一体化保护和系统治理，以防沙治沙为主攻方向，以筑牢北方生态安全屏障为根本目标，大力弘扬“三北精神”，坚持保护优先、科学治理，系统观念、联防联治，质量为先、绿色发展，量水而行、以水定绿，政府主导、全民参与，坚持扩绿兴绿护绿“三绿”并举，推动森林水库、钱库、粮库、碳库“四库”联动，更加注重“提质”、“兴业”、“利民”，着力优化治理格局，完善政策措施，巩固拓展建设成果，不断提高生态产品供给能力，稳步提升生态系统多样性、稳定性和持续性，为全面推进美丽中国建设、推动实现人与自然和谐共生的现代化作出新贡献。“三北”工程第三阶段共分三期建设。其中，2021—2030年为六期工程，全力打好黄河“几字弯”攻坚战、科尔沁和浑善达克沙地歼灭战、河西走廊—塔克拉玛干沙漠边缘阻击战等三大标志性战役，促进工程区森林覆盖率增加0.77个百分点（有关目标及任务基期均为五期工程末，下同），林草覆盖率达40.9%，67%可治理沙化土地得到治理，沙化土地综合植被盖度达22%。2031—2050年为七期、八期工程，其中，七期工程以全面巩固六期工程治理成果、持续提高关键地区植被盖度为主攻方向，八期工程以提质增效、整体提升生态系统质量和稳定性为主攻方向。到2050年，工程区森林覆盖率增加1.9个百分点，林草覆盖率达43%，可治理沙化土地基本得到治理，沙化土地综合植被盖度达25%以上，退化草原和湿地有效修复，水土流失状况持续好转，沙尘天气、泥沙危害全面缓解，生物多样性得到有效保护，生态系统碳汇能力明显提升，推动美丽中国建设取得更大成就。二、战略布局工程建设范围涉及13个省（自治区、直辖市）765个县（市、区、旗，以下统称县）及新疆生产建设兵团所属13个师市，总面积448.6万平方千米，分为4个屏障建设一级区和30个二级区。（一）东部丘陵平原区。包括北京、天津、河北、山西、内蒙古、辽宁、吉林、黑龙江8个省（自治区、直辖市）271个县，涉及松嫩平原、三江平原、辽河平原、华北平原北部、燕山山脉、太行山东麓等地，分为7个二级区。该区主要面临林分老化退化、林网缺损、草原退化沙化盐渍化、部分湿地萎缩、黑土流失等问题。主攻方向：加强东北平原生态综合治理和京津冀生态屏障建设。加快退化草原、盐碱地、侵蚀沟和湿地治理，全面治理沙化土地，推进沙化耕地保护性耕作，保护恢复重要物种栖息地和生态廊道，加强冻土和黑土区保护。建设珍贵树种、特色林果和优质牧草基地。（二）北部风沙区。包括河北、山西、内蒙古、辽宁、吉林、黑龙江、陕西、宁夏8个省（自治区）162个县，涉及呼伦贝尔、科尔沁、浑善达克、毛乌素等沙地，库布齐、乌兰布和沙漠，阴山北麓等地，分为10个二级区。该区是我国沙尘传输的主要通道，主要面临风沙危害严重、局部草原退化沙化盐渍化、防护林衰退、湿地萎缩、珍稀物种栖息地受损等问题。主攻方向：打好防沙治沙标志性战役，加强呼伦贝尔、锡林郭勒、鄂尔多斯沙地治理和坝上、阴山北麓、贺兰山生态治理，构建防沙治沙体系。加强草原保护和退化草原修复，开展水土流失防治，强化土地盐渍化治理，推进呼伦湖、乌梁素海、岱海等重要湿地保护。积极推行光伏治沙，大力发展特色林果、优质牧草和生物质能源。（三）黄土高原区。包括山西、内蒙古、陕西、甘肃、青海、宁夏6个省（自治区）195个县，涉及黄土高原沟壑区、黄土丘陵沟壑区、土石山区等地，分为4个二级区。该区主要面临土壤侵蚀、植被分布不均衡、草地退化沙化盐碱化等问题。主攻方向：加强黄河多沙粗沙区及十大“孔兑”、黄河宁蒙河段及周边山地丘陵、甘青黄土高原丘陵、渭河泾河流域、晋陕丘陵阶地等区域水土流失治理，建成保土蓄水屏障。开展沙化土地封禁保护、森林质量提升、禁牧轮牧、退化草地治理和矿山植被恢复，建设林草防护体系，加强湿地抢救性保护。因地制宜发展特色林果。（四）西北荒漠区。包括内蒙古、甘肃、青海、新疆4个省（自治区）137个县及新疆生产建设兵团13个师市，涉及祁连山、阿尔泰山、天山和塔克拉玛干、巴丹吉林、古尔班通古特、腾格里、库姆塔格等沙漠，分为9个二级区。该区主要面临流动沙丘和风沙危害严重、锁边林草带和林网缺损、冰川萎缩、水资源矛盾等问题。主攻方向：打好沙漠边缘阻击战，加强河西走廊沙化治理与绿廊建设，开展柴达木盆地、环塔里木、环准噶尔荒漠化治理，持续推进祁连山、天山、阿尔泰山、昆仑山生态治理。强化天然植被封禁保护，加快锁边林草带建设和林网改造，加强农牧交错带综合治理，推进重要河湖湿地和冰川保护，强化水资源节约集约利用，科学开展人工增雨雪作业。积极推行光伏治沙，有序发展特色林果、优质牧草及沙产业。三、战略任务（一）优化生态修复空间1.保护自然生态空间。落实国土空间规划及“三区三线”管控要求，加强沙生植物保护和已治理沙化土地、水土流失区封育管护。将重点项目统筹纳入国土空间规划“一张图”。2.拓展生态治理空间。推进荒山荒坡荒沟、风沙源头、沙漠边缘、绿洲外围、农牧交错带、受损山体、宜绿废弃矿山植被建设，针对灌木林地、疏林地、迹地开展植被恢复和结构优化，促进森林覆盖率合理增长。3.扩大人居环境容量。实施见缝插绿、拆违建绿、留白增绿、立体绿化，开展庭院、农村“四旁”（水旁、路旁、村旁、宅旁）及废弃闲置土地绿化。按标准建设完善铁路、公路、河渠两侧和湖库周边绿道绿廊。依法合规建设农田防护林，严禁违规占用耕地绿化造林。（二）扎实推进系统治理4.系统治理沙化土地。强化区域联防联治，统筹治理沙漠边缘与腹地、上风口与下风口、沙源区与路径区，在主要风沙口和路径区构建点线面结合防护网络，在沙漠前沿和绿洲外围构筑乔灌草复合系统，依法划建沙化土地封禁保护区，对沙化耕地积极推行保护性耕作。5.科学建设防护林体系。根据各地资源禀赋和防护目标，合理配置林草植被，培育健康稳定、功能完备的防护林体系，实现多重效益。6.加强退化草原修复。科学划定禁牧区和草畜平衡区，健全草原生态保护补助奖励政策，综合采取降低放牧强度、围栏封育、种草补播、清除毒害草等措施，恢复草原生态。7.强化湿地保护修复。以重要湿地为重点，强化流域水资源统一管理，保障基本生态用水需求，遏制湿地萎缩，加强退化湿地、珍稀物种栖息地和候鸟迁飞通道保护修复。8.推进水土流失治理。加强重要江河源头、重要水源地、水蚀风蚀交错区水土流失预防，以及冻融侵蚀区封育保护和水力侵蚀治理，对适宜地区进行小流域综合治理，对坡耕地集中区和侵蚀沟密集区开展专项治理。9.完善农田防护林网。以保护土壤耕作层、改善农田小环境为目标，充分利用道路、沟渠、田坎等空间，因地制宜推进平原、绿洲等重点区域林网建设。10.探索多元治理模式。创新推广产业治沙等模式，坚持生态优先、治沙为主，因地制宜推行光伏治沙，统筹相关产业布局，支持探索荒漠化防治和风电光伏一体化发展路径。（三）巩固工程建设成果11.加强天然林保护修复。完善天然林保护修复制度，坚持自然恢复为主、人工促进与自然恢复相结合，科学开展天然林修复，加快正向演替。12.推进森林可持续经营。依据生态区位和主导功能，合理优化各级公益林范围，规范经营行为，提高森林质量和稳定性。13.加快老化退化林更新修复。科学推进成过熟林更新，稳妥开展退化次生林修复提质，对极度脆弱、不具备改造条件的退化林实施封育，推进沙区、荒漠区灌木林修复，在适宜区域建设乔灌混交林。14.加强治理成果管护。加强新治理沙化土地、新造林地、退化林修复地、种草改良地管护，切实防止“重治理轻管护”问题。严禁违法垦荒、超载过牧等，加强防火和有害生物防控，持续巩固治理成果。（四）发展生态特色产业15.建设特色林果基地。充分发掘特色林果发展潜力，打造产业融合发展优势区。根据市场供求情况，对同质化严重、效益较低品种调整优化结构，推进提质增效。16.建设优质牧草基地。在水资源相对丰富区域，因地制宜发展羊草、紫花苜蓿、披碱草、草地早熟禾、红豆草等高标准多年生人工草地，降低天然草原放牧强度。17.建设林下经济基地。推进立体复合经营，开展生态种植和仿野生栽培，引导向精深加工延伸，发展中药材、食用菌、森林蔬菜等特色产业。18.促进生态文旅发展。加强生态治理与旅游、教育、文化、健康、养老等产业融合，挖掘黄河文化、草原文化、绿洲文化、冰雪文化和长城文化等资源，建设一批科普宣教基地。（五）加强支撑能力建设19.强化林草种业保障。持续推进种质资源调查收集，完善乡土树种草种目录，选育抗逆性强、适应性广的优良品种。健全种苗可追溯制度，构建种苗保障体系。20.加大科技创新推广力度。开展“三北”地区气候变化适应性、生态系统退化机理等领域长期研究，推进生态脆弱地区保护、智能化机械装备、优良品种选育等关键技术攻关，加强示范引领，积极推广新型适用技术、治理模式和优良品种。21.提升调查监测评估水平。持续推进典型生态系统观测站点建设，完善生态、气象观测站网，畅通数据共享渠道。依托相关平台，实施工程综合调查监测，加强沙尘源和传播路径监测分析，开展沙尘溯源及工程区生态状况调查、固沙滞沙成效评估。22.增强自然灾害防控能力。完善林草火情监测、火源管理、处置扑救体系，科学建设阻隔系统。健全林草有害生物防控体系，强化外来入侵物种防控，合理控制草原啮齿动物密度。科学利用云水资源，加强生态修复型人工增雨雪能力建设。23.加强辅助设施设备建设。合理建设水利水保、集雨节灌、作业道路等设施，完善相关管护设施。加强机械化造林种草、防沙治沙、苗圃作业、有害生物防控等装备应用。四、保障措施坚持国家统筹、省负总责、市县抓落实，充分发挥国务院加强荒漠化综合防治和推进“三北”等重点生态工程建设工作协调机制作用，将工程建设纳入林长制和省级政府防沙治沙目标责任考核，持之以恒有序推进工程建设，适时组织规划实施情况评估。加强与国家发展规划和国土空间规划、有关专项规划等的衔接，严格落实国土空间用途管制和生态环境分区管控要求。建立持续稳定的工程投入机制，加大资金支持力度，落实财税、土地等政策，发展绿色金融，加强质量和资金监管，打造廉洁工程。深化集体林权制度改革，建立健全生态产品价值实现机制，探索生态环境导向的开发模式，引导因地制宜发展特色产业，提升工程“自我造血”能力。完善生态保护补偿制度，将符合条件的建设成果纳入公益林管理。推动多元主体参与工程建设和管护，充分发挥基层林草站所和国有林场（苗圃）、护林员作用，鼓励国有企业、民营企业、公益组织等各类主体承担建设任务。完善研发和推广体系，健全工程标准体系。大力传承弘扬“三北精神”，畅通公众参与渠道，营造全民参与、全民共享、全民受益的浓厚氛围。加强国际合作交流，为全球荒漠化治理、共建地球生命共同体提供中国方案、贡献中国力量。附件：1.“三北”工程分期及建设重点　　　2.“三北”工程分区布局　　　3.“三北”工程建设布局图附件1“三北”工程分期及建设重点附件2“三北”工程分区布局附件3“三北”工程建设布局图\n"
     ]
    }
   ],
   "source": [
    "url = \"https://www.gov.cn/zhengce/content/202509/content_7040317.htm\" \n",
    "response = requests.get(url, headers=headers)\n",
    "response.encoding  = response.apparent_encoding\n",
    "soup = BeautifulSoup(response.text,  'html.parser')\n",
    "policy_div = soup.find(name=\"div\", attrs={\"class\": \"trs_editor_view TRS_UEDITOR trs_paper_default trs_web\"})\n",
    "policy_texts = policy_div.get_text()\n",
    "print(policy_texts)"
   ]
  },
  {
   "cell_type": "code",
   "execution_count": 33,
   "id": "b8b2dfab",
   "metadata": {},
   "outputs": [
    {
     "name": "stdout",
     "output_type": "stream",
     "text": [
      "<class 'str'>\n"
     ]
    }
   ],
   "source": [
    "print(type(policy_texts))"
   ]
  },
  {
   "cell_type": "code",
   "execution_count": 34,
   "id": "5649f034",
   "metadata": {},
   "outputs": [],
   "source": [
    "from sklearn.feature_extraction.text  import TfidfVectorizer \n",
    "vectorizer = TfidfVectorizer(max_features=1000)  # 保留前1000个关键特征词 \n",
    "X = vectorizer.fit_transform([policy_texts]) "
   ]
  },
  {
   "cell_type": "code",
   "execution_count": 35,
   "id": "3c320f89",
   "metadata": {},
   "outputs": [
    {
     "name": "stderr",
     "output_type": "stream",
     "text": [
      "d:\\Python\\Python312\\Lib\\site-packages\\IPython\\core\\pylabtools.py:170: UserWarning: Glyph 31185 (\\N{CJK UNIFIED IDEOGRAPH-79D1}) missing from font(s) DejaVu Sans.\n",
      "  fig.canvas.print_figure(bytes_io, **kw)\n",
      "d:\\Python\\Python312\\Lib\\site-packages\\IPython\\core\\pylabtools.py:170: UserWarning: Glyph 25216 (\\N{CJK UNIFIED IDEOGRAPH-6280}) missing from font(s) DejaVu Sans.\n",
      "  fig.canvas.print_figure(bytes_io, **kw)\n",
      "d:\\Python\\Python312\\Lib\\site-packages\\IPython\\core\\pylabtools.py:170: UserWarning: Glyph 21019 (\\N{CJK UNIFIED IDEOGRAPH-521B}) missing from font(s) DejaVu Sans.\n",
      "  fig.canvas.print_figure(bytes_io, **kw)\n",
      "d:\\Python\\Python312\\Lib\\site-packages\\IPython\\core\\pylabtools.py:170: UserWarning: Glyph 26032 (\\N{CJK UNIFIED IDEOGRAPH-65B0}) missing from font(s) DejaVu Sans.\n",
      "  fig.canvas.print_figure(bytes_io, **kw)\n",
      "d:\\Python\\Python312\\Lib\\site-packages\\IPython\\core\\pylabtools.py:170: UserWarning: Glyph 32511 (\\N{CJK UNIFIED IDEOGRAPH-7EFF}) missing from font(s) DejaVu Sans.\n",
      "  fig.canvas.print_figure(bytes_io, **kw)\n",
      "d:\\Python\\Python312\\Lib\\site-packages\\IPython\\core\\pylabtools.py:170: UserWarning: Glyph 33394 (\\N{CJK UNIFIED IDEOGRAPH-8272}) missing from font(s) DejaVu Sans.\n",
      "  fig.canvas.print_figure(bytes_io, **kw)\n",
      "d:\\Python\\Python312\\Lib\\site-packages\\IPython\\core\\pylabtools.py:170: UserWarning: Glyph 36716 (\\N{CJK UNIFIED IDEOGRAPH-8F6C}) missing from font(s) DejaVu Sans.\n",
      "  fig.canvas.print_figure(bytes_io, **kw)\n",
      "d:\\Python\\Python312\\Lib\\site-packages\\IPython\\core\\pylabtools.py:170: UserWarning: Glyph 22411 (\\N{CJK UNIFIED IDEOGRAPH-578B}) missing from font(s) DejaVu Sans.\n",
      "  fig.canvas.print_figure(bytes_io, **kw)\n"
     ]
    },
    {
     "data": {
      "image/png": "[encoded data removed]",
      "text/plain": [
       "<Figure size 640x480 with 1 Axes>"
      ]
     },
     "metadata": {},
     "output_type": "display_data"
    }
   ],
   "source": [
    "from sklearn.decomposition  import LatentDirichletAllocation\n",
    "# 主题演化分析（检测政策焦点迁移）\n",
    "lda = LatentDirichletAllocation(n_components=5)  # 假设5个核心主题 \n",
    "topic_distribution = lda.fit_transform(X) \n",
    " \n",
    "# 可视化主题权重变化\n",
    "import matplotlib.pyplot  as plt\n",
    "plt.plot(topic_distribution[:,  0], label='科技创新')\n",
    "plt.plot(topic_distribution[:,  1], label='绿色转型')\n",
    "plt.legend();  plt.show() "
   ]
  },
  {
   "cell_type": "code",
   "execution_count": null,
   "id": "c57c73c8",
   "metadata": {},
   "outputs": [],
   "source": [
    "from sklearn.ensemble  import IsolationForest \n",
    "from sklearn.preprocessing  import StandardScaler\n",
    " \n",
    "# 构建时间序列特征 \n",
    "features = StandardScaler().fit_transform(topic_distribution)\n",
    " \n",
    "# 异常点检测（拐点即政策突变时刻）\n",
    "clf = IsolationForest(contamination=0.05)  # 假设5%为异常点 \n",
    "outliers = clf.fit_predict(features) \n",
    "change_points = np.where(outliers  == -1)[0]  # 标记拐点位置"
   ]
  },
  {
   "cell_type": "code",
   "execution_count": null,
   "id": "3d269fce",
   "metadata": {},
   "outputs": [],
   "source": [
    "# 结合政策文本与市场数据 \n",
    "import pandas as pd\n",
    "market_data = pd.read_csv('stock_index.csv')   # 加载行业指数数据 \n",
    " \n",
    "# 构建多模态特征矩阵 \n",
    "combined_features = np.hstack([topic_distribution,  market_data.values]) \n",
    " \n",
    "# 训练回归模型预测政策影响\n",
    "from sklearn.linear_model  import Ridge\n",
    "model = Ridge(alpha=0.5)\n",
    "model.fit(combined_features[:-10],  market_data.shift(-10)[:-10])   # 预测10天后市场反应 "
   ]
  },
  {
   "cell_type": "code",
   "execution_count": null,
   "id": "2201cb67",
   "metadata": {},
   "outputs": [],
   "source": [
    "from sklearn.model_selection  import TimeSeriesSplit \n",
    "tscv = TimeSeriesSplit(n_splits=5)\n",
    "for train_idx, test_idx in tscv.split(X): \n",
    "    model.fit(X[train_idx],  y[train_idx])\n",
    "    score = model.score(X[test_idx],  y[test_idx])  # 需自定义评估指标"
   ]
  },
  {
   "cell_type": "code",
   "execution_count": null,
   "id": "2f0c57e4",
   "metadata": {},
   "outputs": [],
   "source": [
    "# BERT与scikit-learn集成示例\n",
    "from transformers import BertModel \n",
    "bert = BertModel.from_pretrained('bert-base-chinese') \n",
    "policy_embeddings = bert(policy_texts)[0].mean(axis=1)  # 获取句向量 "
   ]
  },
  {
   "cell_type": "code",
   "execution_count": null,
   "id": "2acfea8c",
   "metadata": {},
   "outputs": [],
   "source": []
  }
 ],
 "metadata": {
  "kernelspec": {
   "display_name": "Python 3",
   "language": "python",
   "name": "python3"
  },
  "language_info": {
   "codemirror_mode": {
    "name": "ipython",
    "version": 3
   },
   "file_extension": ".py",
   "mimetype": "text/x-python",
   "name": "python",
   "nbconvert_exporter": "python",
   "pygments_lexer": "ipython3",
   "version": "3.12.9"
  }
 },
 "nbformat": 4,
 "nbformat_minor": 5
}
