{
 "cells": [
  {
   "cell_type": "markdown",
   "id": "28ce91c8",
   "metadata": {},
   "source": []
  },
  {
   "cell_type": "code",
   "execution_count": 18,
   "id": "d79ebb2b",
   "metadata": {},
   "outputs": [],
   "source": [
    "from types import SimpleNamespace \n",
    "from datetime import datetime, timedelta\n",
    "import akshare as ak\n",
    "import pandas as pd\n",
    "import multiprocessing\n",
    "import threading\n",
    "import queue\n",
    "import psutil\n",
    "import time\n",
    "import talib\n",
    "from concurrent.futures  import ThreadPoolExecutor, ProcessPoolExecutor, as_completed\n",
    "import numpy as np"
   ]
  },
  {
   "cell_type": "code",
   "execution_count": 19,
   "id": "9fcc91b6",
   "metadata": {},
   "outputs": [],
   "source": [
    "args = SimpleNamespace(\n",
    "    datedelta = 50,\n",
    "    start_epochs = 8\n",
    "    )\n",
    "today = datetime.now()\n",
    "start_day = today - timedelta(days=args.datedelta)\n",
    "test_day = today - timedelta(days=1)\n",
    "\n",
    "# 格式化日期为YYYYMMDD格式\n",
    "formatted_today = today.strftime('%Y%m%d')\n",
    "formatted_test_day = test_day.strftime('%Y%m%d')\n",
    "formatted_start_day = start_day.strftime('%Y%m%d')\n",
    "\n",
    "with open('today_suggestions.txt', 'w', encoding='utf-8') as today_suggestions,open('history_suggestions.txt', 'a', encoding='utf-8') as history_suggestions:\n",
    "    today_suggestions.write(formatted_today + \"!!!!!!!!~~~~~~~~~~~~~~\\n\")\n",
    "    history_suggestions.write(formatted_today + \"!!!!!!!!!!!~~~~~~~~~~~~\\n\")\n",
    "# df = pd.read_csv('data.csv',  dtype={0: str})\n",
    "df = pd.read_csv('mainboard_stocks.csv', dtype={'code': str})"
   ]
  },
  {
   "cell_type": "code",
   "execution_count": 20,
   "id": "10e31cfb",
   "metadata": {},
   "outputs": [
    {
     "name": "stdout",
     "output_type": "stream",
     "text": [
      "True\n"
     ]
    },
    {
     "data": {
      "text/html": [
       "<div>\n",
       "<style scoped>\n",
       "    .dataframe tbody tr th:only-of-type {\n",
       "        vertical-align: middle;\n",
       "    }\n",
       "\n",
       "    .dataframe tbody tr th {\n",
       "        vertical-align: top;\n",
       "    }\n",
       "\n",
       "    .dataframe thead th {\n",
       "        text-align: right;\n",
       "    }\n",
       "</style>\n",
       "<table border=\"1\" class=\"dataframe\">\n",
       "  <thead>\n",
       "    <tr style=\"text-align: right;\">\n",
       "      <th></th>\n",
       "      <th>code</th>\n",
       "      <th>name</th>\n",
       "    </tr>\n",
       "  </thead>\n",
       "  <tbody>\n",
       "    <tr>\n",
       "      <th>0</th>\n",
       "      <td>000001</td>\n",
       "      <td>平安银行</td>\n",
       "    </tr>\n",
       "    <tr>\n",
       "      <th>1</th>\n",
       "      <td>000002</td>\n",
       "      <td>万  科Ａ</td>\n",
       "    </tr>\n",
       "    <tr>\n",
       "      <th>2</th>\n",
       "      <td>000004</td>\n",
       "      <td>*ST国华</td>\n",
       "    </tr>\n",
       "    <tr>\n",
       "      <th>3</th>\n",
       "      <td>000006</td>\n",
       "      <td>深振业Ａ</td>\n",
       "    </tr>\n",
       "    <tr>\n",
       "      <th>4</th>\n",
       "      <td>000007</td>\n",
       "      <td>全新好</td>\n",
       "    </tr>\n",
       "  </tbody>\n",
       "</table>\n",
       "</div>"
      ],
      "text/plain": [
       "     code   name\n",
       "0  000001   平安银行\n",
       "1  000002  万  科Ａ\n",
       "2  000004  *ST国华\n",
       "3  000006   深振业Ａ\n",
       "4  000007    全新好"
      ]
     },
     "execution_count": 20,
     "metadata": {},
     "output_type": "execute_result"
    }
   ],
   "source": [
    "stock_codes = list(set(df['code']))\n",
    "print(len(df) == len(stock_codes))\n",
    "df.head()"
   ]
  },
  {
   "cell_type": "code",
   "execution_count": 21,
   "id": "2d3b0d4d",
   "metadata": {},
   "outputs": [],
   "source": [
    "total_len = len(df)\n",
    "physical_cpus = psutil.cpu_count(logical=False)\n",
    "logical_cpus = psutil.cpu_count(logical=True)\n",
    "\n",
    "log_phy_ratio = int(logical_cpus/physical_cpus)\n",
    "# phy_cpu_length = int(total_len/physical_cpus)\n"
   ]
  },
  {
   "cell_type": "code",
   "execution_count": 22,
   "id": "6cb1982f",
   "metadata": {},
   "outputs": [
    {
     "name": "stdout",
     "output_type": "stream",
     "text": [
      "1\n"
     ]
    }
   ],
   "source": [
    "print(log_phy_ratio)"
   ]
  },
  {
   "cell_type": "code",
   "execution_count": 23,
   "id": "bfe2b5ee",
   "metadata": {},
   "outputs": [],
   "source": [
    "def stock_data_getter(stock_codes, formatted_start_day, formatted_today, data_queue):\n",
    "    for stock_code in stock_codes:\n",
    "        stock_zh_a_hist_df = ak.stock_zh_a_hist(symbol=stock_code, period=\"daily\", start_date=formatted_start_day, end_date=formatted_today, adjust=\"\")\n",
    "        if stock_zh_a_hist_df.empty:\n",
    "            print(\"wrong code:\",stock_code)\n",
    "        else:\n",
    "            data_queue.put((stock_code, stock_zh_a_hist_df))\n",
    "\n",
    "\n",
    "def collect_and_analyze_data(stock_codes, log_phy_ratio, formatted_start_day, formatted_today, lock, run_analysis):\n",
    "    # threads = []\n",
    "    data_queue = queue.Queue()\n",
    "\n",
    "    if log_phy_ratio > 1:\n",
    "        aspls = np.array_split(stock_codes,  log_phy_ratio)\n",
    "        # 然后每个子数组是numpy数组，可以转成列表\n",
    "        chunked_list = [arr.tolist() for arr in aspls]\n",
    "        with ThreadPoolExecutor(max_workers=len(chunked_list)) as executor:\n",
    "            futures = [executor.submit(stock_data_getter,  chunk, formatted_start_day, formatted_today, data_queue)\n",
    "                for chunk in chunked_list]\n",
    "            for future in futures:\n",
    "                try:\n",
    "                    future.result() \n",
    "                except Exception as e:\n",
    "                    print(\"Error in thread:\", e)\n",
    "    else:\n",
    "        stock_data_getter(stock_codes, formatted_start_day, formatted_today, data_queue)\n",
    "\n",
    "    # # collect data\n",
    "    # for i in chunked_list:\n",
    "    #     t = threading.Thread(target=stock_data_getter, args=(i, formatted_start_day, formatted_today, data_queue))\n",
    "    #     threads.append(t)\n",
    "    #     t.start()\n",
    " \n",
    "    # for t in threads:\n",
    "    #     t.join(timeout=10)\n",
    " \n",
    "    print(\"stock code:\",stock_codes[0],\"data collection finished:\", time.time())\n",
    "    res_ls = []\n",
    "    while not data_queue.empty(): \n",
    "        try:\n",
    "            stock_code, stock_data = data_queue.get_nowait()\n",
    "            # data_queue.task_done()\n",
    "            print(\"got code:\",stock_code)\n",
    "            suggested, res = run_analysis(stock_data)\n",
    "            if suggested:\n",
    "                res_ls.append((stock_code, res))\n",
    "        except Exception as e:\n",
    "            print(\"the exception is:\",e)\n",
    "            print(\"stock code:\",stock_codes[0],\"data calculation finished:\", time.time())\n",
    "    with lock:\n",
    "        with open('today_suggestions.txt', 'a', encoding='utf-8') as today_suggestions,open('history_suggestions.txt', 'a', encoding='utf-8') as history_suggestions:\n",
    "            for stock_code, result in res_ls:\n",
    "                today_suggestions.write(str(stock_code) + \" \")\n",
    "                words = f\"\"\"\n",
    "                stock_code: {stock_code}\n",
    "                result: {result}\n",
    "                \\n\n",
    "                \"\"\"\n",
    "                sentence = \" \".join(words)\n",
    "                history_suggestions.write(sentence)\n",
    "    return"
   ]
  },
  {
   "cell_type": "code",
   "execution_count": 24,
   "id": "6a8447d3",
   "metadata": {},
   "outputs": [],
   "source": [
    "def run_analysis(stock_zh_df):\n",
    "    open = stock_zh_df[\"开盘\"]\n",
    "    close = stock_zh_df[\"收盘\"]\n",
    "    high = stock_zh_df[\"最高\"]\n",
    "    low = stock_zh_df[\"最低\"]\n",
    "    volume = stock_zh_df[\"成交量\"]\n",
    "\n",
    "    ma5 = talib.SMA(close[-5:], timeperiod=5)\n",
    "    ma10 = talib.SMA(close[-10:], timeperiod=10)\n",
    "    vol_ma5 = talib.SMA(volume[-5:], timeperiod=5)\n",
    "\n",
    "    macd, macdsignal, macdhist = talib.MACDEXT(close, fastperiod=12, fastmatype=0, slowperiod=20, slowmatype=0, signalperiod=9, signalmatype=0)\n",
    "\n",
    "    rsi = talib.RSI(close, timeperiod=14)  # RSI相对强弱指标\n",
    "    cci = talib.CCI(high, low, close, timeperiod=20)  # 顺势指标\n",
    "    # money_flow = (2*close - low - high) / (high - low) * volume  # 简易资金流\n",
    "    money_flow = talib.MFI(high, low, close, volume, timeperiod=9)\n",
    "    money_flow_max= money_flow.shift(1).rolling(4).max()\n",
    "    today_candlestick = (close.iloc[-1] - open.iloc[-1])\n",
    "    yesterday_candlestick = (close.iloc[-2] - open.iloc[-2])\n",
    "\n",
    "    if (close.iloc[-1] > ma5.iloc[-1] and ma5.iloc[1] > ma10.iloc[-1]) and \\\n",
    "            volume.iloc[-1] > vol_ma5.iloc[-1] * 1.8 and \\\n",
    "            (macd.iloc[-1] > macdsignal.iloc[-1] and macd.iloc[-2] < macdsignal.iloc[-2] and macdhist.iloc[-1] > abs(macdhist.iloc[-2])):\n",
    "        return True, \"趋势动量+量能突破型\"\n",
    "    elif (rsi.iloc[-1] <30) and (cci.iloc[-1] < -150) and \\\n",
    "        today_candlestick > 0.5 * yesterday_candlestick and \\\n",
    "        money_flow.iloc[-1] > money_flow_max:\n",
    "        return True, \"超跌反转+资金异动型\"\n",
    "    else:\n",
    "        return False, None"
   ]
  },
  {
   "cell_type": "code",
   "execution_count": null,
   "id": "bcdb32ab",
   "metadata": {},
   "outputs": [],
   "source": [
    "aspls = np.array_split(stock_codes,  physical_cpus)\n",
    "# 然后每个子数组是numpy数组，可以转成列表\n",
    "chunked_list = [arr.tolist() for arr in aspls]\n",
    "\n",
    "lock = multiprocessing.Lock()\n",
    "\n",
    "with ProcessPoolExecutor(max_workers=physical_cpus) as executor:\n",
    "    futures = [executor.submit(collect_and_analyze_data, args=(stock_codes_ls, log_phy_ratio, formatted_start_day, formatted_today, lock, run_analysis))\n",
    "        for stock_codes_ls in chunked_list]\n",
    "    for future in as_completed(futures):\n",
    "        try:\n",
    "            future.result() \n",
    "        except Exception as e:\n",
    "            print(\"Error in thread:\", e)\n"
   ]
  },
  {
   "cell_type": "code",
   "execution_count": null,
   "id": "d0f4d1ce",
   "metadata": {},
   "outputs": [
    {
     "name": "stdout",
     "output_type": "stream",
     "text": [
      "stock code: 000001 data collection finished: 1757068636.1165752\n",
      "got code: 000001\n",
      "got code: 000002\n"
     ]
    }
   ],
   "source": [
    "# collect_and_analyze_data([\"000001\",\"000002\"], log_phy_ratio, formatted_start_day, formatted_today, lock, run_analysis)"
   ]
  },
  {
   "cell_type": "code",
   "execution_count": 27,
   "id": "d038d84b",
   "metadata": {},
   "outputs": [],
   "source": [
    "# # ak.stock_zh_a_hist(symbol=\"000001\", period=\"daily\", start_date=formatted_start_day, end_date=formatted_today, adjust=\"\")\n",
    "# df_shanghai = ak.index_zh_a_hist( \n",
    "#     symbol=\"000001\",      # 上证指数代码（固定为000001）\n",
    "#     period=\"daily\",       # 数据周期：daily（日线）、weekly（周线）、monthly（月线）\n",
    "#     start_date=\"20200101\", # 起始日期（格式：YYYYMMDD）\n",
    "#     end_date=\"20250904\",   # 结束日期（默认为当前日期）\n",
    "# )\n",
    "\n",
    "# # 查看前5行数据 \n",
    "# print(df_shanghai.head()) "
   ]
  },
  {
   "cell_type": "code",
   "execution_count": 28,
   "id": "18438774",
   "metadata": {},
   "outputs": [],
   "source": [
    "# def get_mainboard_stocks_ak():\n",
    "#     \"\"\"使用akshare获取主板股票列表\"\"\"\n",
    "#     # 获取所有上市公司的基本信息\n",
    "#     stock_info = ak.stock_info_a_code_name()\n",
    "    \n",
    "#     # 筛选主板股票\n",
    "#     mainboard_stocks = stock_info[stock_info['code'].str.startswith(('600', '601', '603', '605', '000', '002'))]\n",
    "    \n",
    "#     return mainboard_stocks\n",
    "\n",
    "# # 获取主板股票\n",
    "# mainboard_stocks_ak = get_mainboard_stocks_ak()\n",
    "# print(mainboard_stocks_ak.head())\n",
    "# mainboard_stocks_ak.to_csv('mainboard_stocks.csv', index=False, encoding='utf-8-sig')"
   ]
  },
  {
   "cell_type": "code",
   "execution_count": 29,
   "id": "0a612a21",
   "metadata": {},
   "outputs": [],
   "source": [
    "# # date=\"20200331\"; choice of {\"XXXX0331\", \"XXXX0630\", \"XXXX0930\", \"XXXX1231\"}; 从 20081231 开始\n",
    "# stock_yjyg_em_df = ak.stock_yjyg_em(date=\"20250630\")\n",
    "# stock_yjyg_em_df_sorted_desc = stock_yjyg_em_df.sort_values(by=stock_yjyg_em_df.columns[6], ascending=False) #'业绩变动幅度'\n",
    "# # print(stock_yjyg_em_df_sorted_desc.head(10))\n",
    "# print(stock_yjyg_em_df_sorted_desc.iloc[:, [1,6]].head(10))"
   ]
  },
  {
   "cell_type": "code",
   "execution_count": null,
   "id": "856e634b",
   "metadata": {},
   "outputs": [],
   "source": []
  }
 ],
 "metadata": {
  "kernelspec": {
   "display_name": "Python 3",
   "language": "python",
   "name": "python3"
  },
  "language_info": {
   "codemirror_mode": {
    "name": "ipython",
    "version": 3
   },
   "file_extension": ".py",
   "mimetype": "text/x-python",
   "name": "python",
   "nbconvert_exporter": "python",
   "pygments_lexer": "ipython3",
   "version": "3.12.9"
  }
 },
 "nbformat": 4,
 "nbformat_minor": 5
}
